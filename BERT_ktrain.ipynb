{
  "nbformat": 4,
  "nbformat_minor": 0,
  "metadata": {
    "colab": {
      "name": "BERT_ktrain.ipynb",
      "provenance": [],
      "collapsed_sections": [
        "DsTH-Q4o76_S",
        "O--othcolipK",
        "Ztg0u_bYpiPx",
        "QMAiG873VQrX",
        "PEi61ZEyDOzp",
        "oQiy-9raugiE",
        "HtvhUAGEU-Ev",
        "yI7IVvxOXpHH",
        "GehGanr-XiQA",
        "Gv17tIrkeGaL",
        "6pI4mcdx0MnV",
        "4YBn0P470Mob",
        "lVzClKZb0Mov",
        "3LJGDRfN0Mo0",
        "MMTdZjpqIFec",
        "qcNQVSorJExx"
      ],
      "toc_visible": true
    },
    "kernelspec": {
      "name": "python3",
      "display_name": "Python 3"
    },
    "accelerator": "GPU"
  },
  "cells": [
    {
      "cell_type": "markdown",
      "metadata": {
        "id": "YvZAktjeOidE",
        "colab_type": "text"
      },
      "source": [
        "Here I implemet BERT with ktrain library. However, accuracies here are lower than using Hugging Face transformers library (in a separate code file)."
      ]
    },
    {
      "cell_type": "code",
      "metadata": {
        "id": "KsKT0-OtDo19",
        "colab_type": "code",
        "colab": {
          "base_uri": "https://localhost:8080/",
          "height": 117
        },
        "outputId": "2ecfb739-aa4b-4fed-8efe-d7b9fe8493a3"
      },
      "source": [
        "# download the repo to get access to data\n",
        "!rm -rf DL-Kaggle-competition/\n",
        "!git clone https://github.com/millasni/DL-Kaggle-competition/"
      ],
      "execution_count": null,
      "outputs": [
        {
          "output_type": "stream",
          "text": [
            "Cloning into 'DL-Kaggle-competition'...\n",
            "remote: Enumerating objects: 25, done.\u001b[K\n",
            "remote: Counting objects: 100% (25/25), done.\u001b[K\n",
            "remote: Compressing objects: 100% (21/21), done.\u001b[K\n",
            "remote: Total 25 (delta 4), reused 23 (delta 2), pack-reused 0\u001b[K\n",
            "Unpacking objects: 100% (25/25), done.\n"
          ],
          "name": "stdout"
        }
      ]
    },
    {
      "cell_type": "code",
      "metadata": {
        "id": "huB7jevI0wiH",
        "colab_type": "code",
        "colab": {
          "base_uri": "https://localhost:8080/",
          "height": 33
        },
        "outputId": "791d264b-07c2-4b3d-c58e-c1a68a058583"
      },
      "source": [
        "from google.colab import drive\n",
        "drive.mount('/content/gdrive')"
      ],
      "execution_count": null,
      "outputs": [
        {
          "output_type": "stream",
          "text": [
            "Drive already mounted at /content/gdrive; to attempt to forcibly remount, call drive.mount(\"/content/gdrive\", force_remount=True).\n"
          ],
          "name": "stdout"
        }
      ]
    },
    {
      "cell_type": "code",
      "metadata": {
        "id": "2qyuC8oID0--",
        "colab_type": "code",
        "colab": {
          "base_uri": "https://localhost:8080/",
          "height": 1000
        },
        "outputId": "afe0dd2a-6bc3-4ece-f0a7-7d03e93486a7"
      },
      "source": [
        "!pip install tensorflow-gpu\n",
        "!pip install keras\n",
        "!pip3 install ktrain\n",
        "!pip3 install \"tensorflow_gpu>=2.1.0\""
      ],
      "execution_count": null,
      "outputs": [
        {
          "output_type": "stream",
          "text": [
            "Requirement already satisfied: tensorflow-gpu in /usr/local/lib/python3.6/dist-packages (2.1.0)\n",
            "Requirement already satisfied: keras-applications>=1.0.8 in /usr/local/lib/python3.6/dist-packages (from tensorflow-gpu) (1.0.8)\n",
            "Requirement already satisfied: protobuf>=3.8.0 in /usr/local/lib/python3.6/dist-packages (from tensorflow-gpu) (3.10.0)\n",
            "Requirement already satisfied: gast==0.2.2 in /usr/local/lib/python3.6/dist-packages (from tensorflow-gpu) (0.2.2)\n",
            "Requirement already satisfied: opt-einsum>=2.3.2 in /usr/local/lib/python3.6/dist-packages (from tensorflow-gpu) (3.2.0)\n",
            "Requirement already satisfied: tensorboard<2.2.0,>=2.1.0 in /usr/local/lib/python3.6/dist-packages (from tensorflow-gpu) (2.1.1)\n",
            "Requirement already satisfied: absl-py>=0.7.0 in /usr/local/lib/python3.6/dist-packages (from tensorflow-gpu) (0.9.0)\n",
            "Requirement already satisfied: scipy==1.4.1; python_version >= \"3\" in /usr/local/lib/python3.6/dist-packages (from tensorflow-gpu) (1.4.1)\n",
            "Requirement already satisfied: google-pasta>=0.1.6 in /usr/local/lib/python3.6/dist-packages (from tensorflow-gpu) (0.2.0)\n",
            "Requirement already satisfied: grpcio>=1.8.6 in /usr/local/lib/python3.6/dist-packages (from tensorflow-gpu) (1.28.1)\n",
            "Requirement already satisfied: wheel>=0.26; python_version >= \"3\" in /usr/local/lib/python3.6/dist-packages (from tensorflow-gpu) (0.34.2)\n",
            "Requirement already satisfied: termcolor>=1.1.0 in /usr/local/lib/python3.6/dist-packages (from tensorflow-gpu) (1.1.0)\n",
            "Requirement already satisfied: wrapt>=1.11.1 in /usr/local/lib/python3.6/dist-packages (from tensorflow-gpu) (1.12.1)\n",
            "Requirement already satisfied: numpy<2.0,>=1.16.0 in /usr/local/lib/python3.6/dist-packages (from tensorflow-gpu) (1.18.2)\n",
            "Requirement already satisfied: keras-preprocessing>=1.1.0 in /usr/local/lib/python3.6/dist-packages (from tensorflow-gpu) (1.1.0)\n",
            "Requirement already satisfied: astor>=0.6.0 in /usr/local/lib/python3.6/dist-packages (from tensorflow-gpu) (0.8.1)\n",
            "Requirement already satisfied: tensorflow-estimator<2.2.0,>=2.1.0rc0 in /usr/local/lib/python3.6/dist-packages (from tensorflow-gpu) (2.1.0)\n",
            "Requirement already satisfied: six>=1.12.0 in /usr/local/lib/python3.6/dist-packages (from tensorflow-gpu) (1.12.0)\n",
            "Requirement already satisfied: h5py in /usr/local/lib/python3.6/dist-packages (from keras-applications>=1.0.8->tensorflow-gpu) (2.10.0)\n",
            "Requirement already satisfied: setuptools in /usr/local/lib/python3.6/dist-packages (from protobuf>=3.8.0->tensorflow-gpu) (46.1.3)\n",
            "Requirement already satisfied: google-auth<2,>=1.6.3 in /usr/local/lib/python3.6/dist-packages (from tensorboard<2.2.0,>=2.1.0->tensorflow-gpu) (1.7.2)\n",
            "Requirement already satisfied: requests<3,>=2.21.0 in /usr/local/lib/python3.6/dist-packages (from tensorboard<2.2.0,>=2.1.0->tensorflow-gpu) (2.21.0)\n",
            "Requirement already satisfied: markdown>=2.6.8 in /usr/local/lib/python3.6/dist-packages (from tensorboard<2.2.0,>=2.1.0->tensorflow-gpu) (3.2.1)\n",
            "Requirement already satisfied: google-auth-oauthlib<0.5,>=0.4.1 in /usr/local/lib/python3.6/dist-packages (from tensorboard<2.2.0,>=2.1.0->tensorflow-gpu) (0.4.1)\n",
            "Requirement already satisfied: werkzeug>=0.11.15 in /usr/local/lib/python3.6/dist-packages (from tensorboard<2.2.0,>=2.1.0->tensorflow-gpu) (1.0.1)\n",
            "Requirement already satisfied: rsa<4.1,>=3.1.4 in /usr/local/lib/python3.6/dist-packages (from google-auth<2,>=1.6.3->tensorboard<2.2.0,>=2.1.0->tensorflow-gpu) (4.0)\n",
            "Requirement already satisfied: pyasn1-modules>=0.2.1 in /usr/local/lib/python3.6/dist-packages (from google-auth<2,>=1.6.3->tensorboard<2.2.0,>=2.1.0->tensorflow-gpu) (0.2.8)\n",
            "Requirement already satisfied: cachetools<3.2,>=2.0.0 in /usr/local/lib/python3.6/dist-packages (from google-auth<2,>=1.6.3->tensorboard<2.2.0,>=2.1.0->tensorflow-gpu) (3.1.1)\n",
            "Requirement already satisfied: idna<2.9,>=2.5 in /usr/local/lib/python3.6/dist-packages (from requests<3,>=2.21.0->tensorboard<2.2.0,>=2.1.0->tensorflow-gpu) (2.8)\n",
            "Requirement already satisfied: urllib3<1.25,>=1.21.1 in /usr/local/lib/python3.6/dist-packages (from requests<3,>=2.21.0->tensorboard<2.2.0,>=2.1.0->tensorflow-gpu) (1.24.3)\n",
            "Requirement already satisfied: certifi>=2017.4.17 in /usr/local/lib/python3.6/dist-packages (from requests<3,>=2.21.0->tensorboard<2.2.0,>=2.1.0->tensorflow-gpu) (2020.4.5.1)\n",
            "Requirement already satisfied: chardet<3.1.0,>=3.0.2 in /usr/local/lib/python3.6/dist-packages (from requests<3,>=2.21.0->tensorboard<2.2.0,>=2.1.0->tensorflow-gpu) (3.0.4)\n",
            "Requirement already satisfied: requests-oauthlib>=0.7.0 in /usr/local/lib/python3.6/dist-packages (from google-auth-oauthlib<0.5,>=0.4.1->tensorboard<2.2.0,>=2.1.0->tensorflow-gpu) (1.3.0)\n",
            "Requirement already satisfied: pyasn1>=0.1.3 in /usr/local/lib/python3.6/dist-packages (from rsa<4.1,>=3.1.4->google-auth<2,>=1.6.3->tensorboard<2.2.0,>=2.1.0->tensorflow-gpu) (0.4.8)\n",
            "Requirement already satisfied: oauthlib>=3.0.0 in /usr/local/lib/python3.6/dist-packages (from requests-oauthlib>=0.7.0->google-auth-oauthlib<0.5,>=0.4.1->tensorboard<2.2.0,>=2.1.0->tensorflow-gpu) (3.1.0)\n",
            "Requirement already satisfied: keras in /usr/local/lib/python3.6/dist-packages (2.3.1)\n",
            "Requirement already satisfied: keras-preprocessing>=1.0.5 in /usr/local/lib/python3.6/dist-packages (from keras) (1.1.0)\n",
            "Requirement already satisfied: keras-applications>=1.0.6 in /usr/local/lib/python3.6/dist-packages (from keras) (1.0.8)\n",
            "Requirement already satisfied: pyyaml in /usr/local/lib/python3.6/dist-packages (from keras) (3.13)\n",
            "Requirement already satisfied: scipy>=0.14 in /usr/local/lib/python3.6/dist-packages (from keras) (1.4.1)\n",
            "Requirement already satisfied: numpy>=1.9.1 in /usr/local/lib/python3.6/dist-packages (from keras) (1.18.2)\n",
            "Requirement already satisfied: six>=1.9.0 in /usr/local/lib/python3.6/dist-packages (from keras) (1.12.0)\n",
            "Requirement already satisfied: h5py in /usr/local/lib/python3.6/dist-packages (from keras) (2.10.0)\n",
            "Requirement already satisfied: ktrain in /usr/local/lib/python3.6/dist-packages (0.13.2)\n",
            "Requirement already satisfied: cchardet in /usr/local/lib/python3.6/dist-packages (from ktrain) (2.1.6)\n",
            "Requirement already satisfied: syntok in /usr/local/lib/python3.6/dist-packages (from ktrain) (1.2.2)\n",
            "Requirement already satisfied: tensorflow-datasets in /usr/local/lib/python3.6/dist-packages (from ktrain) (2.1.0)\n",
            "Requirement already satisfied: fastprogress>=0.1.21 in /usr/local/lib/python3.6/dist-packages (from ktrain) (0.2.3)\n",
            "Requirement already satisfied: langdetect in /usr/local/lib/python3.6/dist-packages (from ktrain) (1.0.8)\n",
            "Requirement already satisfied: requests in /usr/local/lib/python3.6/dist-packages (from ktrain) (2.21.0)\n",
            "Requirement already satisfied: packaging in /usr/local/lib/python3.6/dist-packages (from ktrain) (20.3)\n",
            "Requirement already satisfied: seqeval in /usr/local/lib/python3.6/dist-packages (from ktrain) (0.0.12)\n",
            "Requirement already satisfied: bokeh in /usr/local/lib/python3.6/dist-packages (from ktrain) (1.4.0)\n",
            "Requirement already satisfied: ipython in /usr/local/lib/python3.6/dist-packages (from ktrain) (5.5.0)\n",
            "Requirement already satisfied: transformers>=2.7.0 in /usr/local/lib/python3.6/dist-packages (from ktrain) (2.8.0)\n",
            "Requirement already satisfied: scikit-learn>=0.21.3 in /usr/local/lib/python3.6/dist-packages (from ktrain) (0.22.2.post1)\n",
            "Requirement already satisfied: tensorflow==2.1.0 in /usr/local/lib/python3.6/dist-packages (from ktrain) (2.1.0)\n",
            "Requirement already satisfied: joblib in /usr/local/lib/python3.6/dist-packages (from ktrain) (0.14.1)\n",
            "Requirement already satisfied: pandas>=1.0.1 in /usr/local/lib/python3.6/dist-packages (from ktrain) (1.0.3)\n",
            "Requirement already satisfied: keras-bert>=0.81.0 in /usr/local/lib/python3.6/dist-packages (from ktrain) (0.81.0)\n",
            "Requirement already satisfied: networkx>=2.3 in /usr/local/lib/python3.6/dist-packages (from ktrain) (2.4)\n",
            "Requirement already satisfied: jieba in /usr/local/lib/python3.6/dist-packages (from ktrain) (0.42.1)\n",
            "Requirement already satisfied: matplotlib>=3.0.0 in /usr/local/lib/python3.6/dist-packages (from ktrain) (3.2.1)\n",
            "Requirement already satisfied: regex in /usr/local/lib/python3.6/dist-packages (from syntok->ktrain) (2019.12.20)\n",
            "Requirement already satisfied: tensorflow-metadata in /usr/local/lib/python3.6/dist-packages (from tensorflow-datasets->ktrain) (0.21.1)\n",
            "Requirement already satisfied: termcolor in /usr/local/lib/python3.6/dist-packages (from tensorflow-datasets->ktrain) (1.1.0)\n",
            "Requirement already satisfied: numpy in /usr/local/lib/python3.6/dist-packages (from tensorflow-datasets->ktrain) (1.18.2)\n",
            "Requirement already satisfied: dill in /usr/local/lib/python3.6/dist-packages (from tensorflow-datasets->ktrain) (0.3.1.1)\n",
            "Requirement already satisfied: promise in /usr/local/lib/python3.6/dist-packages (from tensorflow-datasets->ktrain) (2.3)\n",
            "Requirement already satisfied: tqdm in /usr/local/lib/python3.6/dist-packages (from tensorflow-datasets->ktrain) (4.38.0)\n",
            "Requirement already satisfied: absl-py in /usr/local/lib/python3.6/dist-packages (from tensorflow-datasets->ktrain) (0.9.0)\n",
            "Requirement already satisfied: wrapt in /usr/local/lib/python3.6/dist-packages (from tensorflow-datasets->ktrain) (1.12.1)\n",
            "Requirement already satisfied: attrs>=18.1.0 in /usr/local/lib/python3.6/dist-packages (from tensorflow-datasets->ktrain) (19.3.0)\n",
            "Requirement already satisfied: future in /usr/local/lib/python3.6/dist-packages (from tensorflow-datasets->ktrain) (0.16.0)\n",
            "Requirement already satisfied: protobuf>=3.6.1 in /usr/local/lib/python3.6/dist-packages (from tensorflow-datasets->ktrain) (3.10.0)\n",
            "Requirement already satisfied: six in /usr/local/lib/python3.6/dist-packages (from tensorflow-datasets->ktrain) (1.12.0)\n",
            "Requirement already satisfied: idna<2.9,>=2.5 in /usr/local/lib/python3.6/dist-packages (from requests->ktrain) (2.8)\n",
            "Requirement already satisfied: certifi>=2017.4.17 in /usr/local/lib/python3.6/dist-packages (from requests->ktrain) (2020.4.5.1)\n",
            "Requirement already satisfied: urllib3<1.25,>=1.21.1 in /usr/local/lib/python3.6/dist-packages (from requests->ktrain) (1.24.3)\n",
            "Requirement already satisfied: chardet<3.1.0,>=3.0.2 in /usr/local/lib/python3.6/dist-packages (from requests->ktrain) (3.0.4)\n",
            "Requirement already satisfied: pyparsing>=2.0.2 in /usr/local/lib/python3.6/dist-packages (from packaging->ktrain) (2.4.7)\n",
            "Requirement already satisfied: Keras>=2.2.4 in /usr/local/lib/python3.6/dist-packages (from seqeval->ktrain) (2.3.1)\n",
            "Requirement already satisfied: python-dateutil>=2.1 in /usr/local/lib/python3.6/dist-packages (from bokeh->ktrain) (2.8.1)\n",
            "Requirement already satisfied: PyYAML>=3.10 in /usr/local/lib/python3.6/dist-packages (from bokeh->ktrain) (3.13)\n",
            "Requirement already satisfied: Jinja2>=2.7 in /usr/local/lib/python3.6/dist-packages (from bokeh->ktrain) (2.11.1)\n",
            "Requirement already satisfied: tornado>=4.3 in /usr/local/lib/python3.6/dist-packages (from bokeh->ktrain) (4.5.3)\n",
            "Requirement already satisfied: pillow>=4.0 in /usr/local/lib/python3.6/dist-packages (from bokeh->ktrain) (7.0.0)\n",
            "Requirement already satisfied: pickleshare in /usr/local/lib/python3.6/dist-packages (from ipython->ktrain) (0.7.5)\n",
            "Requirement already satisfied: decorator in /usr/local/lib/python3.6/dist-packages (from ipython->ktrain) (4.4.2)\n",
            "Requirement already satisfied: setuptools>=18.5 in /usr/local/lib/python3.6/dist-packages (from ipython->ktrain) (46.1.3)\n",
            "Requirement already satisfied: pygments in /usr/local/lib/python3.6/dist-packages (from ipython->ktrain) (2.1.3)\n",
            "Requirement already satisfied: simplegeneric>0.8 in /usr/local/lib/python3.6/dist-packages (from ipython->ktrain) (0.8.1)\n",
            "Requirement already satisfied: pexpect; sys_platform != \"win32\" in /usr/local/lib/python3.6/dist-packages (from ipython->ktrain) (4.8.0)\n",
            "Requirement already satisfied: prompt-toolkit<2.0.0,>=1.0.4 in /usr/local/lib/python3.6/dist-packages (from ipython->ktrain) (1.0.18)\n",
            "Requirement already satisfied: traitlets>=4.2 in /usr/local/lib/python3.6/dist-packages (from ipython->ktrain) (4.3.3)\n",
            "Requirement already satisfied: dataclasses; python_version < \"3.7\" in /usr/local/lib/python3.6/dist-packages (from transformers>=2.7.0->ktrain) (0.7)\n",
            "Requirement already satisfied: sentencepiece in /usr/local/lib/python3.6/dist-packages (from transformers>=2.7.0->ktrain) (0.1.85)\n",
            "Requirement already satisfied: sacremoses in /usr/local/lib/python3.6/dist-packages (from transformers>=2.7.0->ktrain) (0.0.41)\n",
            "Requirement already satisfied: filelock in /usr/local/lib/python3.6/dist-packages (from transformers>=2.7.0->ktrain) (3.0.12)\n",
            "Requirement already satisfied: tokenizers==0.5.2 in /usr/local/lib/python3.6/dist-packages (from transformers>=2.7.0->ktrain) (0.5.2)\n",
            "Requirement already satisfied: boto3 in /usr/local/lib/python3.6/dist-packages (from transformers>=2.7.0->ktrain) (1.12.38)\n",
            "Requirement already satisfied: scipy>=0.17.0 in /usr/local/lib/python3.6/dist-packages (from scikit-learn>=0.21.3->ktrain) (1.4.1)\n",
            "Requirement already satisfied: astor>=0.6.0 in /usr/local/lib/python3.6/dist-packages (from tensorflow==2.1.0->ktrain) (0.8.1)\n",
            "Requirement already satisfied: opt-einsum>=2.3.2 in /usr/local/lib/python3.6/dist-packages (from tensorflow==2.1.0->ktrain) (3.2.0)\n",
            "Requirement already satisfied: grpcio>=1.8.6 in /usr/local/lib/python3.6/dist-packages (from tensorflow==2.1.0->ktrain) (1.28.1)\n",
            "Requirement already satisfied: keras-preprocessing>=1.1.0 in /usr/local/lib/python3.6/dist-packages (from tensorflow==2.1.0->ktrain) (1.1.0)\n",
            "Requirement already satisfied: wheel>=0.26; python_version >= \"3\" in /usr/local/lib/python3.6/dist-packages (from tensorflow==2.1.0->ktrain) (0.34.2)\n",
            "Requirement already satisfied: tensorflow-estimator<2.2.0,>=2.1.0rc0 in /usr/local/lib/python3.6/dist-packages (from tensorflow==2.1.0->ktrain) (2.1.0)\n",
            "Requirement already satisfied: gast==0.2.2 in /usr/local/lib/python3.6/dist-packages (from tensorflow==2.1.0->ktrain) (0.2.2)\n",
            "Requirement already satisfied: tensorboard<2.2.0,>=2.1.0 in /usr/local/lib/python3.6/dist-packages (from tensorflow==2.1.0->ktrain) (2.1.1)\n",
            "Requirement already satisfied: keras-applications>=1.0.8 in /usr/local/lib/python3.6/dist-packages (from tensorflow==2.1.0->ktrain) (1.0.8)\n",
            "Requirement already satisfied: google-pasta>=0.1.6 in /usr/local/lib/python3.6/dist-packages (from tensorflow==2.1.0->ktrain) (0.2.0)\n",
            "Requirement already satisfied: pytz>=2017.2 in /usr/local/lib/python3.6/dist-packages (from pandas>=1.0.1->ktrain) (2018.9)\n",
            "Requirement already satisfied: keras-transformer>=0.30.0 in /usr/local/lib/python3.6/dist-packages (from keras-bert>=0.81.0->ktrain) (0.32.0)\n",
            "Requirement already satisfied: kiwisolver>=1.0.1 in /usr/local/lib/python3.6/dist-packages (from matplotlib>=3.0.0->ktrain) (1.2.0)\n",
            "Requirement already satisfied: cycler>=0.10 in /usr/local/lib/python3.6/dist-packages (from matplotlib>=3.0.0->ktrain) (0.10.0)\n",
            "Requirement already satisfied: googleapis-common-protos in /usr/local/lib/python3.6/dist-packages (from tensorflow-metadata->tensorflow-datasets->ktrain) (1.51.0)\n",
            "Requirement already satisfied: h5py in /usr/local/lib/python3.6/dist-packages (from Keras>=2.2.4->seqeval->ktrain) (2.10.0)\n",
            "Requirement already satisfied: MarkupSafe>=0.23 in /usr/local/lib/python3.6/dist-packages (from Jinja2>=2.7->bokeh->ktrain) (1.1.1)\n",
            "Requirement already satisfied: ptyprocess>=0.5 in /usr/local/lib/python3.6/dist-packages (from pexpect; sys_platform != \"win32\"->ipython->ktrain) (0.6.0)\n",
            "Requirement already satisfied: wcwidth in /usr/local/lib/python3.6/dist-packages (from prompt-toolkit<2.0.0,>=1.0.4->ipython->ktrain) (0.1.9)\n",
            "Requirement already satisfied: ipython-genutils in /usr/local/lib/python3.6/dist-packages (from traitlets>=4.2->ipython->ktrain) (0.2.0)\n",
            "Requirement already satisfied: click in /usr/local/lib/python3.6/dist-packages (from sacremoses->transformers>=2.7.0->ktrain) (7.1.1)\n",
            "Requirement already satisfied: botocore<1.16.0,>=1.15.38 in /usr/local/lib/python3.6/dist-packages (from boto3->transformers>=2.7.0->ktrain) (1.15.38)\n",
            "Requirement already satisfied: s3transfer<0.4.0,>=0.3.0 in /usr/local/lib/python3.6/dist-packages (from boto3->transformers>=2.7.0->ktrain) (0.3.3)\n",
            "Requirement already satisfied: jmespath<1.0.0,>=0.7.1 in /usr/local/lib/python3.6/dist-packages (from boto3->transformers>=2.7.0->ktrain) (0.9.5)\n",
            "Requirement already satisfied: markdown>=2.6.8 in /usr/local/lib/python3.6/dist-packages (from tensorboard<2.2.0,>=2.1.0->tensorflow==2.1.0->ktrain) (3.2.1)\n",
            "Requirement already satisfied: google-auth<2,>=1.6.3 in /usr/local/lib/python3.6/dist-packages (from tensorboard<2.2.0,>=2.1.0->tensorflow==2.1.0->ktrain) (1.7.2)\n",
            "Requirement already satisfied: werkzeug>=0.11.15 in /usr/local/lib/python3.6/dist-packages (from tensorboard<2.2.0,>=2.1.0->tensorflow==2.1.0->ktrain) (1.0.1)\n",
            "Requirement already satisfied: google-auth-oauthlib<0.5,>=0.4.1 in /usr/local/lib/python3.6/dist-packages (from tensorboard<2.2.0,>=2.1.0->tensorflow==2.1.0->ktrain) (0.4.1)\n",
            "Requirement already satisfied: keras-pos-embd>=0.10.0 in /usr/local/lib/python3.6/dist-packages (from keras-transformer>=0.30.0->keras-bert>=0.81.0->ktrain) (0.11.0)\n",
            "Requirement already satisfied: keras-layer-normalization>=0.12.0 in /usr/local/lib/python3.6/dist-packages (from keras-transformer>=0.30.0->keras-bert>=0.81.0->ktrain) (0.14.0)\n",
            "Requirement already satisfied: keras-position-wise-feed-forward>=0.5.0 in /usr/local/lib/python3.6/dist-packages (from keras-transformer>=0.30.0->keras-bert>=0.81.0->ktrain) (0.6.0)\n",
            "Requirement already satisfied: keras-embed-sim>=0.7.0 in /usr/local/lib/python3.6/dist-packages (from keras-transformer>=0.30.0->keras-bert>=0.81.0->ktrain) (0.7.0)\n",
            "Requirement already satisfied: keras-multi-head>=0.22.0 in /usr/local/lib/python3.6/dist-packages (from keras-transformer>=0.30.0->keras-bert>=0.81.0->ktrain) (0.22.0)\n",
            "Requirement already satisfied: docutils<0.16,>=0.10 in /usr/local/lib/python3.6/dist-packages (from botocore<1.16.0,>=1.15.38->boto3->transformers>=2.7.0->ktrain) (0.15.2)\n",
            "Requirement already satisfied: cachetools<3.2,>=2.0.0 in /usr/local/lib/python3.6/dist-packages (from google-auth<2,>=1.6.3->tensorboard<2.2.0,>=2.1.0->tensorflow==2.1.0->ktrain) (3.1.1)\n",
            "Requirement already satisfied: rsa<4.1,>=3.1.4 in /usr/local/lib/python3.6/dist-packages (from google-auth<2,>=1.6.3->tensorboard<2.2.0,>=2.1.0->tensorflow==2.1.0->ktrain) (4.0)\n",
            "Requirement already satisfied: pyasn1-modules>=0.2.1 in /usr/local/lib/python3.6/dist-packages (from google-auth<2,>=1.6.3->tensorboard<2.2.0,>=2.1.0->tensorflow==2.1.0->ktrain) (0.2.8)\n",
            "Requirement already satisfied: requests-oauthlib>=0.7.0 in /usr/local/lib/python3.6/dist-packages (from google-auth-oauthlib<0.5,>=0.4.1->tensorboard<2.2.0,>=2.1.0->tensorflow==2.1.0->ktrain) (1.3.0)\n",
            "Requirement already satisfied: keras-self-attention==0.41.0 in /usr/local/lib/python3.6/dist-packages (from keras-multi-head>=0.22.0->keras-transformer>=0.30.0->keras-bert>=0.81.0->ktrain) (0.41.0)\n",
            "Requirement already satisfied: pyasn1>=0.1.3 in /usr/local/lib/python3.6/dist-packages (from rsa<4.1,>=3.1.4->google-auth<2,>=1.6.3->tensorboard<2.2.0,>=2.1.0->tensorflow==2.1.0->ktrain) (0.4.8)\n",
            "Requirement already satisfied: oauthlib>=3.0.0 in /usr/local/lib/python3.6/dist-packages (from requests-oauthlib>=0.7.0->google-auth-oauthlib<0.5,>=0.4.1->tensorboard<2.2.0,>=2.1.0->tensorflow==2.1.0->ktrain) (3.1.0)\n",
            "Requirement already satisfied: tensorflow_gpu>=2.1.0 in /usr/local/lib/python3.6/dist-packages (2.1.0)\n",
            "Requirement already satisfied: astor>=0.6.0 in /usr/local/lib/python3.6/dist-packages (from tensorflow_gpu>=2.1.0) (0.8.1)\n",
            "Requirement already satisfied: numpy<2.0,>=1.16.0 in /usr/local/lib/python3.6/dist-packages (from tensorflow_gpu>=2.1.0) (1.18.2)\n",
            "Requirement already satisfied: six>=1.12.0 in /usr/local/lib/python3.6/dist-packages (from tensorflow_gpu>=2.1.0) (1.12.0)\n",
            "Requirement already satisfied: tensorflow-estimator<2.2.0,>=2.1.0rc0 in /usr/local/lib/python3.6/dist-packages (from tensorflow_gpu>=2.1.0) (2.1.0)\n",
            "Requirement already satisfied: wheel>=0.26; python_version >= \"3\" in /usr/local/lib/python3.6/dist-packages (from tensorflow_gpu>=2.1.0) (0.34.2)\n",
            "Requirement already satisfied: absl-py>=0.7.0 in /usr/local/lib/python3.6/dist-packages (from tensorflow_gpu>=2.1.0) (0.9.0)\n",
            "Requirement already satisfied: protobuf>=3.8.0 in /usr/local/lib/python3.6/dist-packages (from tensorflow_gpu>=2.1.0) (3.10.0)\n",
            "Requirement already satisfied: grpcio>=1.8.6 in /usr/local/lib/python3.6/dist-packages (from tensorflow_gpu>=2.1.0) (1.28.1)\n",
            "Requirement already satisfied: keras-applications>=1.0.8 in /usr/local/lib/python3.6/dist-packages (from tensorflow_gpu>=2.1.0) (1.0.8)\n",
            "Requirement already satisfied: google-pasta>=0.1.6 in /usr/local/lib/python3.6/dist-packages (from tensorflow_gpu>=2.1.0) (0.2.0)\n",
            "Requirement already satisfied: keras-preprocessing>=1.1.0 in /usr/local/lib/python3.6/dist-packages (from tensorflow_gpu>=2.1.0) (1.1.0)\n",
            "Requirement already satisfied: tensorboard<2.2.0,>=2.1.0 in /usr/local/lib/python3.6/dist-packages (from tensorflow_gpu>=2.1.0) (2.1.1)\n",
            "Requirement already satisfied: termcolor>=1.1.0 in /usr/local/lib/python3.6/dist-packages (from tensorflow_gpu>=2.1.0) (1.1.0)\n",
            "Requirement already satisfied: wrapt>=1.11.1 in /usr/local/lib/python3.6/dist-packages (from tensorflow_gpu>=2.1.0) (1.12.1)\n",
            "Requirement already satisfied: opt-einsum>=2.3.2 in /usr/local/lib/python3.6/dist-packages (from tensorflow_gpu>=2.1.0) (3.2.0)\n",
            "Requirement already satisfied: gast==0.2.2 in /usr/local/lib/python3.6/dist-packages (from tensorflow_gpu>=2.1.0) (0.2.2)\n",
            "Requirement already satisfied: scipy==1.4.1; python_version >= \"3\" in /usr/local/lib/python3.6/dist-packages (from tensorflow_gpu>=2.1.0) (1.4.1)\n",
            "Requirement already satisfied: setuptools in /usr/local/lib/python3.6/dist-packages (from protobuf>=3.8.0->tensorflow_gpu>=2.1.0) (46.1.3)\n",
            "Requirement already satisfied: h5py in /usr/local/lib/python3.6/dist-packages (from keras-applications>=1.0.8->tensorflow_gpu>=2.1.0) (2.10.0)\n",
            "Requirement already satisfied: requests<3,>=2.21.0 in /usr/local/lib/python3.6/dist-packages (from tensorboard<2.2.0,>=2.1.0->tensorflow_gpu>=2.1.0) (2.21.0)\n",
            "Requirement already satisfied: google-auth-oauthlib<0.5,>=0.4.1 in /usr/local/lib/python3.6/dist-packages (from tensorboard<2.2.0,>=2.1.0->tensorflow_gpu>=2.1.0) (0.4.1)\n",
            "Requirement already satisfied: google-auth<2,>=1.6.3 in /usr/local/lib/python3.6/dist-packages (from tensorboard<2.2.0,>=2.1.0->tensorflow_gpu>=2.1.0) (1.7.2)\n",
            "Requirement already satisfied: markdown>=2.6.8 in /usr/local/lib/python3.6/dist-packages (from tensorboard<2.2.0,>=2.1.0->tensorflow_gpu>=2.1.0) (3.2.1)\n",
            "Requirement already satisfied: werkzeug>=0.11.15 in /usr/local/lib/python3.6/dist-packages (from tensorboard<2.2.0,>=2.1.0->tensorflow_gpu>=2.1.0) (1.0.1)\n",
            "Requirement already satisfied: certifi>=2017.4.17 in /usr/local/lib/python3.6/dist-packages (from requests<3,>=2.21.0->tensorboard<2.2.0,>=2.1.0->tensorflow_gpu>=2.1.0) (2020.4.5.1)\n",
            "Requirement already satisfied: idna<2.9,>=2.5 in /usr/local/lib/python3.6/dist-packages (from requests<3,>=2.21.0->tensorboard<2.2.0,>=2.1.0->tensorflow_gpu>=2.1.0) (2.8)\n",
            "Requirement already satisfied: chardet<3.1.0,>=3.0.2 in /usr/local/lib/python3.6/dist-packages (from requests<3,>=2.21.0->tensorboard<2.2.0,>=2.1.0->tensorflow_gpu>=2.1.0) (3.0.4)\n",
            "Requirement already satisfied: urllib3<1.25,>=1.21.1 in /usr/local/lib/python3.6/dist-packages (from requests<3,>=2.21.0->tensorboard<2.2.0,>=2.1.0->tensorflow_gpu>=2.1.0) (1.24.3)\n",
            "Requirement already satisfied: requests-oauthlib>=0.7.0 in /usr/local/lib/python3.6/dist-packages (from google-auth-oauthlib<0.5,>=0.4.1->tensorboard<2.2.0,>=2.1.0->tensorflow_gpu>=2.1.0) (1.3.0)\n",
            "Requirement already satisfied: cachetools<3.2,>=2.0.0 in /usr/local/lib/python3.6/dist-packages (from google-auth<2,>=1.6.3->tensorboard<2.2.0,>=2.1.0->tensorflow_gpu>=2.1.0) (3.1.1)\n",
            "Requirement already satisfied: pyasn1-modules>=0.2.1 in /usr/local/lib/python3.6/dist-packages (from google-auth<2,>=1.6.3->tensorboard<2.2.0,>=2.1.0->tensorflow_gpu>=2.1.0) (0.2.8)\n",
            "Requirement already satisfied: rsa<4.1,>=3.1.4 in /usr/local/lib/python3.6/dist-packages (from google-auth<2,>=1.6.3->tensorboard<2.2.0,>=2.1.0->tensorflow_gpu>=2.1.0) (4.0)\n",
            "Requirement already satisfied: oauthlib>=3.0.0 in /usr/local/lib/python3.6/dist-packages (from requests-oauthlib>=0.7.0->google-auth-oauthlib<0.5,>=0.4.1->tensorboard<2.2.0,>=2.1.0->tensorflow_gpu>=2.1.0) (3.1.0)\n",
            "Requirement already satisfied: pyasn1<0.5.0,>=0.4.6 in /usr/local/lib/python3.6/dist-packages (from pyasn1-modules>=0.2.1->google-auth<2,>=1.6.3->tensorboard<2.2.0,>=2.1.0->tensorflow_gpu>=2.1.0) (0.4.8)\n"
          ],
          "name": "stdout"
        }
      ]
    },
    {
      "cell_type": "code",
      "metadata": {
        "id": "HXYdZ9IagpF7",
        "colab_type": "code",
        "colab": {}
      },
      "source": [
        "import pandas as pd\n",
        "# import torch\n",
        "# import torch.nn as nn\n",
        "# import torch.nn.functional as F\n",
        "# import torch.optim as optim\n",
        "# import skorch\n",
        "import sklearn\n",
        "import numpy as np\n",
        "import matplotlib.pyplot as plt\n",
        "import random\n",
        "\n",
        "import tensorflow as tf\n",
        "from tensorflow.keras import backend as K # or from keras...?\n",
        "\n",
        "from tensorflow.keras.models import Sequential, load_model\n",
        "from tensorflow.keras.layers import Embedding, Dense, GRU, LSTM, Bidirectional,SpatialDropout1D,Concatenate\n",
        "from tensorflow.keras.layers import Conv1D,GlobalMaxPooling1D,MaxPooling1D,Dropout,Flatten,Activation\n",
        "from keras.utils.np_utils import to_categorical \n",
        "from keras.preprocessing.text import Tokenizer \n",
        "from keras.preprocessing.sequence import pad_sequences \n",
        "from keras import optimizers\n",
        "from keras.initializers import Constant\n",
        "from tensorflow.keras.callbacks import ModelCheckpoint,EarlyStopping\n",
        "\n",
        "import ktrain\n",
        "\n",
        "from sklearn.model_selection import train_test_split\n",
        "from sklearn.model_selection import StratifiedKFold\n",
        "from sklearn.metrics import confusion_matrix\n",
        "\n",
        "import os"
      ],
      "execution_count": null,
      "outputs": []
    },
    {
      "cell_type": "code",
      "metadata": {
        "id": "UXiv3Bcumuc4",
        "colab_type": "code",
        "colab": {}
      },
      "source": [
        "train = pd.read_csv('DL-Kaggle-competition/train.csv') \n",
        "test = pd.read_csv('DL-Kaggle-competition/test.csv') \n",
        "text = pd.read_csv('DL-Kaggle-competition/text.csv') \n",
        "reference = pd.read_csv('DL-Kaggle-competition/reference.csv') \n",
        "cross_ref = pd.read_csv('DL-Kaggle-competition/ref_in_out.csv') "
      ],
      "execution_count": null,
      "outputs": []
    },
    {
      "cell_type": "code",
      "metadata": {
        "id": "-TQ6A_0mbPfX",
        "colab_type": "code",
        "colab": {
          "base_uri": "https://localhost:8080/",
          "height": 197
        },
        "outputId": "85128eab-f029-472a-87cb-c3a7098b0b6b"
      },
      "source": [
        "train.head()"
      ],
      "execution_count": null,
      "outputs": [
        {
          "output_type": "execute_result",
          "data": {
            "text/html": [
              "<div>\n",
              "<style scoped>\n",
              "    .dataframe tbody tr th:only-of-type {\n",
              "        vertical-align: middle;\n",
              "    }\n",
              "\n",
              "    .dataframe tbody tr th {\n",
              "        vertical-align: top;\n",
              "    }\n",
              "\n",
              "    .dataframe thead th {\n",
              "        text-align: right;\n",
              "    }\n",
              "</style>\n",
              "<table border=\"1\" class=\"dataframe\">\n",
              "  <thead>\n",
              "    <tr style=\"text-align: right;\">\n",
              "      <th></th>\n",
              "      <th>id</th>\n",
              "      <th>label</th>\n",
              "    </tr>\n",
              "  </thead>\n",
              "  <tbody>\n",
              "    <tr>\n",
              "      <th>0</th>\n",
              "      <td>0</td>\n",
              "      <td>1</td>\n",
              "    </tr>\n",
              "    <tr>\n",
              "      <th>1</th>\n",
              "      <td>3</td>\n",
              "      <td>1</td>\n",
              "    </tr>\n",
              "    <tr>\n",
              "      <th>2</th>\n",
              "      <td>6</td>\n",
              "      <td>1</td>\n",
              "    </tr>\n",
              "    <tr>\n",
              "      <th>3</th>\n",
              "      <td>8</td>\n",
              "      <td>0</td>\n",
              "    </tr>\n",
              "    <tr>\n",
              "      <th>4</th>\n",
              "      <td>9</td>\n",
              "      <td>0</td>\n",
              "    </tr>\n",
              "  </tbody>\n",
              "</table>\n",
              "</div>"
            ],
            "text/plain": [
              "   id  label\n",
              "0   0      1\n",
              "1   3      1\n",
              "2   6      1\n",
              "3   8      0\n",
              "4   9      0"
            ]
          },
          "metadata": {
            "tags": []
          },
          "execution_count": 29
        }
      ]
    },
    {
      "cell_type": "markdown",
      "metadata": {
        "id": "HR-laMsksDcb",
        "colab_type": "text"
      },
      "source": [
        "## Data pre-processing"
      ]
    },
    {
      "cell_type": "code",
      "metadata": {
        "id": "aPZWNyVJhuvU",
        "colab_type": "code",
        "colab": {
          "base_uri": "https://localhost:8080/",
          "height": 117
        },
        "outputId": "04ac324a-8036-4d8a-ffcd-89584edaa918"
      },
      "source": [
        "# One-hot encode the classes in the train\n",
        "Y = to_categorical(train[['label']])\n",
        "print(Y.shape)\n",
        "print(Y[:5])"
      ],
      "execution_count": null,
      "outputs": [
        {
          "output_type": "stream",
          "text": [
            "(12779, 5)\n",
            "[[0. 1. 0. 0. 0.]\n",
            " [0. 1. 0. 0. 0.]\n",
            " [0. 1. 0. 0. 0.]\n",
            " [1. 0. 0. 0. 0.]\n",
            " [1. 0. 0. 0. 0.]]\n"
          ],
          "name": "stdout"
        }
      ]
    },
    {
      "cell_type": "code",
      "metadata": {
        "id": "Gjzj-tC9cjIk",
        "colab_type": "code",
        "colab": {
          "base_uri": "https://localhost:8080/",
          "height": 133
        },
        "outputId": "cf485235-8cff-42f0-ab84-fededca931c4"
      },
      "source": [
        "print(text.head())\n",
        "text.shape # we have twice as many lines in text than in train"
      ],
      "execution_count": null,
      "outputs": [
        {
          "output_type": "stream",
          "text": [
            "   id                                              title\n",
            "0   0  interactive visual exploration of neighbor bas...\n",
            "1   1  autodomainmine a graphical data mining system ...\n",
            "2   2  anipqo almost non intrusive parametric query o...\n",
            "3   3  relational division four algorithms and their ...\n",
            "4   4  selection and ranking of text from highly impe...\n"
          ],
          "name": "stdout"
        },
        {
          "output_type": "execute_result",
          "data": {
            "text/plain": [
              "(25561, 2)"
            ]
          },
          "metadata": {
            "tags": []
          },
          "execution_count": 31
        }
      ]
    },
    {
      "cell_type": "code",
      "metadata": {
        "id": "J5ZVLLiouozU",
        "colab_type": "code",
        "colab": {
          "base_uri": "https://localhost:8080/",
          "height": 647
        },
        "outputId": "0e2120d6-b441-4669-da5f-d986cc7d1930"
      },
      "source": [
        "train = train.join(text, how='left', on='id',  lsuffix='', rsuffix='text')\n",
        "train.head(20)"
      ],
      "execution_count": null,
      "outputs": [
        {
          "output_type": "execute_result",
          "data": {
            "text/html": [
              "<div>\n",
              "<style scoped>\n",
              "    .dataframe tbody tr th:only-of-type {\n",
              "        vertical-align: middle;\n",
              "    }\n",
              "\n",
              "    .dataframe tbody tr th {\n",
              "        vertical-align: top;\n",
              "    }\n",
              "\n",
              "    .dataframe thead th {\n",
              "        text-align: right;\n",
              "    }\n",
              "</style>\n",
              "<table border=\"1\" class=\"dataframe\">\n",
              "  <thead>\n",
              "    <tr style=\"text-align: right;\">\n",
              "      <th></th>\n",
              "      <th>id</th>\n",
              "      <th>label</th>\n",
              "      <th>idtext</th>\n",
              "      <th>title</th>\n",
              "    </tr>\n",
              "  </thead>\n",
              "  <tbody>\n",
              "    <tr>\n",
              "      <th>0</th>\n",
              "      <td>0</td>\n",
              "      <td>1</td>\n",
              "      <td>0</td>\n",
              "      <td>interactive visual exploration of neighbor bas...</td>\n",
              "    </tr>\n",
              "    <tr>\n",
              "      <th>1</th>\n",
              "      <td>3</td>\n",
              "      <td>1</td>\n",
              "      <td>3</td>\n",
              "      <td>relational division four algorithms and their ...</td>\n",
              "    </tr>\n",
              "    <tr>\n",
              "      <th>2</th>\n",
              "      <td>6</td>\n",
              "      <td>1</td>\n",
              "      <td>6</td>\n",
              "      <td>simplifying xml schema effortless handling of ...</td>\n",
              "    </tr>\n",
              "    <tr>\n",
              "      <th>3</th>\n",
              "      <td>8</td>\n",
              "      <td>0</td>\n",
              "      <td>8</td>\n",
              "      <td>funbase a function based information managemen...</td>\n",
              "    </tr>\n",
              "    <tr>\n",
              "      <th>4</th>\n",
              "      <td>9</td>\n",
              "      <td>0</td>\n",
              "      <td>9</td>\n",
              "      <td>inverted matrix efficient discovery of frequen...</td>\n",
              "    </tr>\n",
              "    <tr>\n",
              "      <th>5</th>\n",
              "      <td>11</td>\n",
              "      <td>2</td>\n",
              "      <td>11</td>\n",
              "      <td>computational aspects of covering in dominance...</td>\n",
              "    </tr>\n",
              "    <tr>\n",
              "      <th>6</th>\n",
              "      <td>13</td>\n",
              "      <td>4</td>\n",
              "      <td>13</td>\n",
              "      <td>feaspar   a feature structure parser learning ...</td>\n",
              "    </tr>\n",
              "    <tr>\n",
              "      <th>7</th>\n",
              "      <td>18</td>\n",
              "      <td>0</td>\n",
              "      <td>18</td>\n",
              "      <td>assessing the scenic route measuring the value...</td>\n",
              "    </tr>\n",
              "    <tr>\n",
              "      <th>8</th>\n",
              "      <td>20</td>\n",
              "      <td>0</td>\n",
              "      <td>20</td>\n",
              "      <td>webanywhere enabling a screen reading interfac...</td>\n",
              "    </tr>\n",
              "    <tr>\n",
              "      <th>9</th>\n",
              "      <td>24</td>\n",
              "      <td>2</td>\n",
              "      <td>24</td>\n",
              "      <td>non standard semantics for the method of tempo...</td>\n",
              "    </tr>\n",
              "    <tr>\n",
              "      <th>10</th>\n",
              "      <td>30</td>\n",
              "      <td>0</td>\n",
              "      <td>30</td>\n",
              "      <td>exsearch a novel vertical search engine for on...</td>\n",
              "    </tr>\n",
              "    <tr>\n",
              "      <th>11</th>\n",
              "      <td>31</td>\n",
              "      <td>2</td>\n",
              "      <td>31</td>\n",
              "      <td>query evaluation and progression in aol knowle...</td>\n",
              "    </tr>\n",
              "    <tr>\n",
              "      <th>12</th>\n",
              "      <td>32</td>\n",
              "      <td>3</td>\n",
              "      <td>32</td>\n",
              "      <td>cryptanalytic attacks on pseudorandom number g...</td>\n",
              "    </tr>\n",
              "    <tr>\n",
              "      <th>13</th>\n",
              "      <td>33</td>\n",
              "      <td>3</td>\n",
              "      <td>33</td>\n",
              "      <td>threshold concepts in computer science do they...</td>\n",
              "    </tr>\n",
              "    <tr>\n",
              "      <th>14</th>\n",
              "      <td>36</td>\n",
              "      <td>2</td>\n",
              "      <td>36</td>\n",
              "      <td>nonexistence of voting rules that are usually ...</td>\n",
              "    </tr>\n",
              "    <tr>\n",
              "      <th>15</th>\n",
              "      <td>38</td>\n",
              "      <td>3</td>\n",
              "      <td>38</td>\n",
              "      <td>using node merging to enhance graph coloring</td>\n",
              "    </tr>\n",
              "    <tr>\n",
              "      <th>16</th>\n",
              "      <td>40</td>\n",
              "      <td>0</td>\n",
              "      <td>40</td>\n",
              "      <td>combining classifiers in text categorization</td>\n",
              "    </tr>\n",
              "    <tr>\n",
              "      <th>17</th>\n",
              "      <td>41</td>\n",
              "      <td>1</td>\n",
              "      <td>41</td>\n",
              "      <td>theoretical and practical tools for data base ...</td>\n",
              "    </tr>\n",
              "    <tr>\n",
              "      <th>18</th>\n",
              "      <td>43</td>\n",
              "      <td>2</td>\n",
              "      <td>43</td>\n",
              "      <td>goal directed site independent recommendations...</td>\n",
              "    </tr>\n",
              "    <tr>\n",
              "      <th>19</th>\n",
              "      <td>44</td>\n",
              "      <td>2</td>\n",
              "      <td>44</td>\n",
              "      <td>towards modeling threaded discussions using in...</td>\n",
              "    </tr>\n",
              "  </tbody>\n",
              "</table>\n",
              "</div>"
            ],
            "text/plain": [
              "    id  label  idtext                                              title\n",
              "0    0      1       0  interactive visual exploration of neighbor bas...\n",
              "1    3      1       3  relational division four algorithms and their ...\n",
              "2    6      1       6  simplifying xml schema effortless handling of ...\n",
              "3    8      0       8  funbase a function based information managemen...\n",
              "4    9      0       9  inverted matrix efficient discovery of frequen...\n",
              "5   11      2      11  computational aspects of covering in dominance...\n",
              "6   13      4      13  feaspar   a feature structure parser learning ...\n",
              "7   18      0      18  assessing the scenic route measuring the value...\n",
              "8   20      0      20  webanywhere enabling a screen reading interfac...\n",
              "9   24      2      24  non standard semantics for the method of tempo...\n",
              "10  30      0      30  exsearch a novel vertical search engine for on...\n",
              "11  31      2      31  query evaluation and progression in aol knowle...\n",
              "12  32      3      32  cryptanalytic attacks on pseudorandom number g...\n",
              "13  33      3      33  threshold concepts in computer science do they...\n",
              "14  36      2      36  nonexistence of voting rules that are usually ...\n",
              "15  38      3      38       using node merging to enhance graph coloring\n",
              "16  40      0      40       combining classifiers in text categorization\n",
              "17  41      1      41  theoretical and practical tools for data base ...\n",
              "18  43      2      43  goal directed site independent recommendations...\n",
              "19  44      2      44  towards modeling threaded discussions using in..."
            ]
          },
          "metadata": {
            "tags": []
          },
          "execution_count": 32
        }
      ]
    },
    {
      "cell_type": "code",
      "metadata": {
        "id": "xx5b79UymZ0n",
        "colab_type": "code",
        "colab": {
          "base_uri": "https://localhost:8080/",
          "height": 367
        },
        "outputId": "b3b2681d-55ce-47c5-b910-9f90fd56d51a"
      },
      "source": [
        "train.title.values[:20]"
      ],
      "execution_count": null,
      "outputs": [
        {
          "output_type": "execute_result",
          "data": {
            "text/plain": [
              "array(['interactive visual exploration of neighbor based patterns in data streams',\n",
              "       'relational division four algorithms and their performance',\n",
              "       'simplifying xml schema effortless handling of nondeterministic regular expressions',\n",
              "       'funbase a function based information management system',\n",
              "       'inverted matrix efficient discovery of frequent items in large datasets in the context of interactive mining',\n",
              "       'computational aspects of covering in dominance graphs',\n",
              "       'feaspar   a feature structure parser learning to parse spoken language',\n",
              "       'assessing the scenic route measuring the value of search trails in web logs',\n",
              "       'webanywhere enabling a screen reading interface for the web on any computer',\n",
              "       'non standard semantics for the method of temporal arguments',\n",
              "       'exsearch a novel vertical search engine for online barter business',\n",
              "       'query evaluation and progression in aol knowledge bases',\n",
              "       'cryptanalytic attacks on pseudorandom number generators',\n",
              "       'threshold concepts in computer science do they exist and are they useful',\n",
              "       'nonexistence of voting rules that are usually hard to manipulate',\n",
              "       'using node merging to enhance graph coloring',\n",
              "       'combining classifiers in text categorization',\n",
              "       'theoretical and practical tools for data base design',\n",
              "       'goal directed site independent recommendations from passive observations',\n",
              "       'towards modeling threaded discussions using induced ontology knowledge'],\n",
              "      dtype=object)"
            ]
          },
          "metadata": {
            "tags": []
          },
          "execution_count": 33
        }
      ]
    },
    {
      "cell_type": "code",
      "metadata": {
        "id": "t6xJXgRQy2fj",
        "colab_type": "code",
        "colab": {
          "base_uri": "https://localhost:8080/",
          "height": 197
        },
        "outputId": "32b0d6db-a973-4e7e-d506-9088a28fab5a"
      },
      "source": [
        "train = train[['id','label','title']]\n",
        "train.head()"
      ],
      "execution_count": null,
      "outputs": [
        {
          "output_type": "execute_result",
          "data": {
            "text/html": [
              "<div>\n",
              "<style scoped>\n",
              "    .dataframe tbody tr th:only-of-type {\n",
              "        vertical-align: middle;\n",
              "    }\n",
              "\n",
              "    .dataframe tbody tr th {\n",
              "        vertical-align: top;\n",
              "    }\n",
              "\n",
              "    .dataframe thead th {\n",
              "        text-align: right;\n",
              "    }\n",
              "</style>\n",
              "<table border=\"1\" class=\"dataframe\">\n",
              "  <thead>\n",
              "    <tr style=\"text-align: right;\">\n",
              "      <th></th>\n",
              "      <th>id</th>\n",
              "      <th>label</th>\n",
              "      <th>title</th>\n",
              "    </tr>\n",
              "  </thead>\n",
              "  <tbody>\n",
              "    <tr>\n",
              "      <th>0</th>\n",
              "      <td>0</td>\n",
              "      <td>1</td>\n",
              "      <td>interactive visual exploration of neighbor bas...</td>\n",
              "    </tr>\n",
              "    <tr>\n",
              "      <th>1</th>\n",
              "      <td>3</td>\n",
              "      <td>1</td>\n",
              "      <td>relational division four algorithms and their ...</td>\n",
              "    </tr>\n",
              "    <tr>\n",
              "      <th>2</th>\n",
              "      <td>6</td>\n",
              "      <td>1</td>\n",
              "      <td>simplifying xml schema effortless handling of ...</td>\n",
              "    </tr>\n",
              "    <tr>\n",
              "      <th>3</th>\n",
              "      <td>8</td>\n",
              "      <td>0</td>\n",
              "      <td>funbase a function based information managemen...</td>\n",
              "    </tr>\n",
              "    <tr>\n",
              "      <th>4</th>\n",
              "      <td>9</td>\n",
              "      <td>0</td>\n",
              "      <td>inverted matrix efficient discovery of frequen...</td>\n",
              "    </tr>\n",
              "  </tbody>\n",
              "</table>\n",
              "</div>"
            ],
            "text/plain": [
              "   id  label                                              title\n",
              "0   0      1  interactive visual exploration of neighbor bas...\n",
              "1   3      1  relational division four algorithms and their ...\n",
              "2   6      1  simplifying xml schema effortless handling of ...\n",
              "3   8      0  funbase a function based information managemen...\n",
              "4   9      0  inverted matrix efficient discovery of frequen..."
            ]
          },
          "metadata": {
            "tags": []
          },
          "execution_count": 34
        }
      ]
    },
    {
      "cell_type": "code",
      "metadata": {
        "id": "OLRaDZ3ExQv-",
        "colab_type": "code",
        "colab": {
          "base_uri": "https://localhost:8080/",
          "height": 197
        },
        "outputId": "35c2eb4a-90ef-4d38-ddb4-ebfa4ab0b358"
      },
      "source": [
        "test = test.join(text, how='left', on='id',  lsuffix='', rsuffix='text')\n",
        "test.head()"
      ],
      "execution_count": null,
      "outputs": [
        {
          "output_type": "execute_result",
          "data": {
            "text/html": [
              "<div>\n",
              "<style scoped>\n",
              "    .dataframe tbody tr th:only-of-type {\n",
              "        vertical-align: middle;\n",
              "    }\n",
              "\n",
              "    .dataframe tbody tr th {\n",
              "        vertical-align: top;\n",
              "    }\n",
              "\n",
              "    .dataframe thead th {\n",
              "        text-align: right;\n",
              "    }\n",
              "</style>\n",
              "<table border=\"1\" class=\"dataframe\">\n",
              "  <thead>\n",
              "    <tr style=\"text-align: right;\">\n",
              "      <th></th>\n",
              "      <th>id</th>\n",
              "      <th>idtext</th>\n",
              "      <th>title</th>\n",
              "    </tr>\n",
              "  </thead>\n",
              "  <tbody>\n",
              "    <tr>\n",
              "      <th>0</th>\n",
              "      <td>1</td>\n",
              "      <td>1</td>\n",
              "      <td>autodomainmine a graphical data mining system ...</td>\n",
              "    </tr>\n",
              "    <tr>\n",
              "      <th>1</th>\n",
              "      <td>2</td>\n",
              "      <td>2</td>\n",
              "      <td>anipqo almost non intrusive parametric query o...</td>\n",
              "    </tr>\n",
              "    <tr>\n",
              "      <th>2</th>\n",
              "      <td>4</td>\n",
              "      <td>4</td>\n",
              "      <td>selection and ranking of text from highly impe...</td>\n",
              "    </tr>\n",
              "    <tr>\n",
              "      <th>3</th>\n",
              "      <td>5</td>\n",
              "      <td>5</td>\n",
              "      <td>conditional random fields for multi agent rein...</td>\n",
              "    </tr>\n",
              "    <tr>\n",
              "      <th>4</th>\n",
              "      <td>7</td>\n",
              "      <td>7</td>\n",
              "      <td>multi dimensional description logics</td>\n",
              "    </tr>\n",
              "  </tbody>\n",
              "</table>\n",
              "</div>"
            ],
            "text/plain": [
              "   id  idtext                                              title\n",
              "0   1       1  autodomainmine a graphical data mining system ...\n",
              "1   2       2  anipqo almost non intrusive parametric query o...\n",
              "2   4       4  selection and ranking of text from highly impe...\n",
              "3   5       5  conditional random fields for multi agent rein...\n",
              "4   7       7               multi dimensional description logics"
            ]
          },
          "metadata": {
            "tags": []
          },
          "execution_count": 35
        }
      ]
    },
    {
      "cell_type": "code",
      "metadata": {
        "id": "fE-MQ_oozDq1",
        "colab_type": "code",
        "colab": {
          "base_uri": "https://localhost:8080/",
          "height": 197
        },
        "outputId": "b9015355-a919-4f81-f8d6-087535034147"
      },
      "source": [
        "test = test[['id','title']]\n",
        "test.head()"
      ],
      "execution_count": null,
      "outputs": [
        {
          "output_type": "execute_result",
          "data": {
            "text/html": [
              "<div>\n",
              "<style scoped>\n",
              "    .dataframe tbody tr th:only-of-type {\n",
              "        vertical-align: middle;\n",
              "    }\n",
              "\n",
              "    .dataframe tbody tr th {\n",
              "        vertical-align: top;\n",
              "    }\n",
              "\n",
              "    .dataframe thead th {\n",
              "        text-align: right;\n",
              "    }\n",
              "</style>\n",
              "<table border=\"1\" class=\"dataframe\">\n",
              "  <thead>\n",
              "    <tr style=\"text-align: right;\">\n",
              "      <th></th>\n",
              "      <th>id</th>\n",
              "      <th>title</th>\n",
              "    </tr>\n",
              "  </thead>\n",
              "  <tbody>\n",
              "    <tr>\n",
              "      <th>0</th>\n",
              "      <td>1</td>\n",
              "      <td>autodomainmine a graphical data mining system ...</td>\n",
              "    </tr>\n",
              "    <tr>\n",
              "      <th>1</th>\n",
              "      <td>2</td>\n",
              "      <td>anipqo almost non intrusive parametric query o...</td>\n",
              "    </tr>\n",
              "    <tr>\n",
              "      <th>2</th>\n",
              "      <td>4</td>\n",
              "      <td>selection and ranking of text from highly impe...</td>\n",
              "    </tr>\n",
              "    <tr>\n",
              "      <th>3</th>\n",
              "      <td>5</td>\n",
              "      <td>conditional random fields for multi agent rein...</td>\n",
              "    </tr>\n",
              "    <tr>\n",
              "      <th>4</th>\n",
              "      <td>7</td>\n",
              "      <td>multi dimensional description logics</td>\n",
              "    </tr>\n",
              "  </tbody>\n",
              "</table>\n",
              "</div>"
            ],
            "text/plain": [
              "   id                                              title\n",
              "0   1  autodomainmine a graphical data mining system ...\n",
              "1   2  anipqo almost non intrusive parametric query o...\n",
              "2   4  selection and ranking of text from highly impe...\n",
              "3   5  conditional random fields for multi agent rein...\n",
              "4   7               multi dimensional description logics"
            ]
          },
          "metadata": {
            "tags": []
          },
          "execution_count": 36
        }
      ]
    },
    {
      "cell_type": "code",
      "metadata": {
        "id": "srmaulRH8VOL",
        "colab_type": "code",
        "colab": {
          "base_uri": "https://localhost:8080/",
          "height": 318
        },
        "outputId": "f9eb8aba-e3e3-4438-9fe5-a28ef90becb7"
      },
      "source": [
        "# tokenize train data on the whole TEXT (train+test) to see the max sent_len - - for exploration only\n",
        "tokenizer = Tokenizer()\n",
        "tokenizer.fit_on_texts(text.title)\n",
        "t = tokenizer.texts_to_sequences(text.title)\n",
        "print(t[:10])\n",
        "print(len(max(t, key=len)))\n",
        "sent_len = []\n",
        "for i in t:\n",
        "  sent_len.append(len(i))\n",
        "\n",
        "plt.hist(sent_len,bins=28)\n",
        "plt.show()"
      ],
      "execution_count": null,
      "outputs": [
        {
          "output_type": "stream",
          "text": [
            "[[123, 239, 421, 2, 766, 9, 133, 5, 8, 176], [6586, 3, 407, 8, 35, 16, 1, 120, 75], [6587, 1896, 114, 3491, 859, 23, 75, 1, 1002, 244, 264], [49, 2612, 1299, 58, 4, 428, 57], [94, 4, 126, 2, 34, 24, 618, 1436, 3492, 1, 27, 2, 441, 170], [393, 265, 638, 1, 44, 225, 327, 14], [2432, 56, 210, 6588, 530, 2, 2142, 980, 476], [44, 200, 323, 515], [6589, 3, 346, 9, 17, 46, 16], [924, 568, 30, 156, 2, 484, 1626, 5, 45, 662, 5, 6, 106, 2, 123, 35]]\n",
            "28\n"
          ],
          "name": "stdout"
        },
        {
          "output_type": "display_data",
          "data": {
            "image/png": "[encoded data removed]",
            "text/plain": [
              "<Figure size 432x288 with 1 Axes>"
            ]
          },
          "metadata": {
            "tags": [],
            "needs_background": "light"
          }
        }
      ]
    },
    {
      "cell_type": "code",
      "metadata": {
        "id": "VDcaxRln0Wni",
        "colab_type": "code",
        "colab": {
          "base_uri": "https://localhost:8080/",
          "height": 87
        },
        "outputId": "b552d446-293c-4915-bd15-7ac6a35710d5"
      },
      "source": [
        "# tokenize train data (on the whole set of labeled data)\n",
        "tokenizer = Tokenizer()\n",
        "tokenizer.fit_on_texts(train.title)\n",
        "X = tokenizer.texts_to_sequences(train.title)\n",
        "print(X[:10])\n",
        "X = pad_sequences(X, maxlen=20)\n",
        "X[:10]\n",
        "word_index = tokenizer.word_index\n",
        "print('Found %s unique tokens.' % len(word_index))\n",
        "print(word_index)"
      ],
      "execution_count": null,
      "outputs": [
        {
          "output_type": "stream",
          "text": [
            "[[132, 247, 402, 2, 834, 9, 126, 5, 8, 161], [44, 2099, 1325, 61, 4, 415, 58], [1865, 63, 213, 4596, 478, 2, 1866, 1444, 622], [4597, 3, 262, 9, 18, 51, 15], [1038, 531, 30, 214, 2, 429, 1228, 5, 45, 545, 5, 6, 122, 2, 132, 32], [248, 673, 2, 1686, 5, 1687, 180], [4598, 3, 127, 65, 389, 14, 7, 1229, 379, 27], [765, 6, 4599, 1688, 515, 6, 238, 2, 22, 2366, 5, 16, 928], [4600, 1230, 3, 4601, 1231, 304, 1, 6, 16, 10, 2367, 50], [130, 1039, 99, 1, 6, 72, 2, 75, 1689]]\n",
            "Found 9321 unique tokens.\n",
            "{'for': 1, 'of': 2, 'a': 3, 'and': 4, 'in': 5, 'the': 6, 'to': 7, 'data': 8, 'based': 9, 'on': 10, 'an': 11, 'with': 12, 'using': 13, 'learning': 14, 'system': 15, 'web': 16, 'database': 17, 'information': 18, 'systems': 19, 'query': 20, 'from': 21, 'search': 22, 'model': 23, 'retrieval': 24, 'analysis': 25, 'approach': 26, 'language': 27, 'software': 28, 'databases': 29, 'efficient': 30, 'semantic': 31, 'mining': 32, 'by': 33, 'models': 34, 'text': 35, 'programming': 36, 'knowledge': 37, 'distributed': 38, 'time': 39, 'processing': 40, 'design': 41, 'queries': 42, 'object': 43, 'relational': 44, 'large': 45, 'evaluation': 46, 'multi': 47, 'oriented': 48, 'automatic': 49, 'computer': 50, 'management': 51, 'clustering': 52, 'algorithm': 53, 'dynamic': 54, 'machine': 55, 'logic': 56, 'classification': 57, 'performance': 58, 'translation': 59, 'networks': 60, 'algorithms': 61, 'document': 62, 'xml': 63, 'framework': 64, 'structure': 65, 'optimization': 66, 'detection': 67, 'engineering': 68, 'modeling': 69, 'study': 70, 'parallel': 71, 'method': 72, 'programs': 73, 'parsing': 74, 'temporal': 75, 'reasoning': 76, 'generation': 77, 'applications': 78, 'as': 79, 'multiple': 80, 'user': 81, 'high': 82, 'probabilistic': 83, 'control': 84, 'program': 85, 'towards': 86, 'extraction': 87, 'case': 88, 'new': 89, 'support': 90, 'statistical': 91, 'science': 92, 'tree': 93, 'application': 94, 'selection': 95, 'word': 96, 'planning': 97, 'network': 98, 'semantics': 99, 'development': 100, 'through': 101, 'environment': 102, 'via': 103, 'course': 104, 'natural': 105, 'adaptive': 106, 'fast': 107, 'teaching': 108, 'methods': 109, 'rules': 110, 'problem': 111, 'memory': 112, 'indexing': 113, 'graph': 114, 'techniques': 115, 'real': 116, 'process': 117, 'theory': 118, 'online': 119, 'ranking': 120, 'similarity': 121, 'context': 122, 'tool': 123, 'structured': 124, 'access': 125, 'patterns': 126, 'feature': 127, 'architecture': 128, 'hierarchical': 129, 'non': 130, 'constraints': 131, 'interactive': 132, 'computing': 133, 'implementation': 134, 'languages': 135, 'integration': 136, 'domain': 137, 'inference': 138, 'into': 139, 'improving': 140, 'order': 141, 'representation': 142, 'level': 143, 'relevance': 144, 'incremental': 145, 'structures': 146, 'type': 147, 'linear': 148, 'documents': 149, 'first': 150, 'over': 151, 'scale': 152, 'active': 153, 'integrating': 154, 'rule': 155, 'estimation': 156, 'code': 157, 'recognition': 158, 'constraint': 159, 'complex': 160, 'streams': 161, 'optimal': 162, 'base': 163, 'feedback': 164, 'trees': 165, 'content': 166, 'join': 167, 'social': 168, 'its': 169, 'effective': 170, 'objects': 171, 'supervised': 172, 'problems': 173, 'decision': 174, 'semi': 175, 'between': 176, 'matching': 177, 'at': 178, 'space': 179, 'graphs': 180, 'driven': 181, 'local': 182, 'collaborative': 183, 'resolution': 184, 'answering': 185, 'topic': 186, 'is': 187, 'automated': 188, 'relations': 189, 'state': 190, 'computation': 191, 'image': 192, 'spatial': 193, 'generalized': 194, 'speech': 195, 'combining': 196, 'filtering': 197, 'grammar': 198, 'use': 199, 'exploiting': 200, 'two': 201, 'dimensional': 202, 'syntactic': 203, 'supporting': 204, 'bayesian': 205, 'complexity': 206, 'services': 207, 'dependency': 208, 'comparison': 209, 'grammars': 210, 'quality': 211, 'acquisition': 212, 'schema': 213, 'discovery': 214, 'test': 215, 'flow': 216, 'mobile': 217, 'understanding': 218, 'java': 219, 'robust': 220, 'peer': 221, 'pattern': 222, 'prediction': 223, 'strategies': 224, 'integrated': 225, 'class': 226, 'solving': 227, 'testing': 228, 'random': 229, 'querying': 230, 'transaction': 231, 'project': 232, 'chinese': 233, 'abstract': 234, 'views': 235, 'report': 236, 'results': 237, 'value': 238, 'engine': 239, 'finding': 240, 'functional': 241, 'scalable': 242, 'cross': 243, 'research': 244, 'disambiguation': 245, 'unsupervised': 246, 'visual': 247, 'computational': 248, 'experience': 249, 'term': 250, 'view': 251, 'self': 252, 'markov': 253, 'heterogeneous': 254, 'concept': 255, 'summarization': 256, 'japanese': 257, 'formal': 258, 'building': 259, 'types': 260, 'kernel': 261, 'function': 262, 'generating': 263, 'question': 264, 'verification': 265, 'general': 266, 'execution': 267, 'concurrent': 268, 'simple': 269, 'specification': 270, 'event': 271, 'approximate': 272, 'features': 273, 'bases': 274, 'practical': 275, 'processes': 276, 'extracting': 277, 'agent': 278, 'extended': 279, 'concurrency': 280, 'requirements': 281, 'lexical': 282, 'evaluating': 283, 'index': 284, 'construction': 285, 'partial': 286, 'regression': 287, 'corpora': 288, 'linguistic': 289, 'checking': 290, 'students': 291, 'interpretation': 292, 'conceptual': 293, 'environments': 294, 'cost': 295, 'hybrid': 296, 'association': 297, 'domains': 298, 'about': 299, 'sets': 300, 'sql': 301, 'description': 302, 'games': 303, 'interface': 304, 'global': 305, 'service': 306, 'functions': 307, 'machines': 308, 'scheduling': 309, 'corpus': 310, 'behavior': 311, 'open': 312, 'sense': 313, 'concepts': 314, 'file': 315, 'how': 316, 'path': 317, 'empirical': 318, 'introductory': 319, 'line': 320, 'role': 321, 'training': 322, 'allocation': 323, 'free': 324, 'english': 325, 'detecting': 326, 'multimedia': 327, 'storage': 328, 'experiments': 329, 'stream': 330, 'set': 331, 'interaction': 332, 'human': 333, 'server': 334, 'segmentation': 335, 'evolution': 336, 'searching': 337, 'abstraction': 338, 'stochastic': 339, 'independent': 340, 'ontology': 341, 'vector': 342, 'technique': 343, 'scheme': 344, 'consistency': 345, 'without': 346, 'entity': 347, 'world': 348, 'intelligent': 349, 'continuous': 350, 'projects': 351, 'identification': 352, 'k': 353, 'tools': 354, 'maintenance': 355, 'optimizing': 356, 'visualization': 357, 'structural': 358, 'mapping': 359, 'experimental': 360, 'sources': 361, 'curriculum': 362, 'source': 363, 'collection': 364, 'making': 365, 'security': 366, 'sampling': 367, 'monitoring': 368, 'task': 369, 'predicting': 370, 'agents': 371, 'categorization': 372, 'improve': 373, 'dbms': 374, 'undergraduate': 375, 'discovering': 376, 'logical': 377, 'conditional': 378, 'spoken': 379, 'strategy': 380, 'latent': 381, 'privacy': 382, 'sensitive': 383, 'aware': 384, 'flexible': 385, 'discourse': 386, 'dependencies': 387, 'calculus': 388, 'parser': 389, 'that': 390, 'caching': 391, 'form': 392, 'expert': 393, 'sequence': 394, 'tracking': 395, 'dialogue': 396, 'workshop': 397, 'heuristic': 398, 'reinforcement': 399, 'improved': 400, 'alignment': 401, 'exploration': 402, 'are': 403, 'unified': 404, 'robot': 405, 'sensor': 406, 'compiler': 407, 'decomposition': 408, 'expansion': 409, 'recursive': 410, 'aggregation': 411, 'representations': 412, 'preserving': 413, 'unification': 414, 'their': 415, 'specifications': 416, 'distance': 417, 'constrained': 418, 'what': 419, 'top': 420, 'resource': 421, 'one': 422, 'relationship': 423, 'some': 424, 'texts': 425, 'cs': 426, 'browsing': 427, 'education': 428, 'frequent': 429, 'classifiers': 430, 'transformation': 431, 'sequential': 432, 'link': 433, 'error': 434, 'transfer': 435, 'induction': 436, 'static': 437, 'effects': 438, 'measures': 439, 'more': 440, 'transactions': 441, 'directed': 442, 'weighted': 443, 'component': 444, 'recovery': 445, 'bilingual': 446, 'community': 447, 'annotation': 448, 'estimating': 449, 'joins': 450, 'experiences': 451, 'interfaces': 452, 'series': 453, 'toward': 454, 'action': 455, 'or': 456, 'deductive': 457, 'users': 458, 'tagging': 459, 'spaces': 460, 'pages': 461, 'communication': 462, 'video': 463, 'co': 464, 'game': 465, 'descriptions': 466, 'specific': 467, 'extending': 468, 'plans': 469, 'up': 470, 'courses': 471, 'propagation': 472, 'approximation': 473, 'intelligence': 474, 'mechanism': 475, 'product': 476, 'under': 477, 'handling': 478, 'methodology': 479, 'approaches': 480, 'it': 481, 'graphical': 482, 'sharing': 483, 'maximum': 484, 'belief': 485, 'analyzing': 486, 'page': 487, 'virtual': 488, 'incorporating': 489, 'architectures': 490, 'collections': 491, 'c': 492, 'hashing': 493, 'exploring': 494, 'labeling': 495, 'organization': 496, 'lexicon': 497, 'rank': 498, 'modelling': 499, 'perspective': 500, 'update': 501, 'internet': 502, 'very': 503, 'relation': 504, 'dictionary': 505, 'cluster': 506, 'issues': 507, 'technology': 508, 'neural': 509, 'cache': 510, 'digital': 511, 'operations': 512, 'metric': 513, 'identifying': 514, 'measuring': 515, 'reduction': 516, 'finite': 517, 'shared': 518, 'logics': 519, 'boolean': 520, 'pruning': 521, 'hidden': 522, 'phrase': 523, 'algebra': 524, 'not': 525, 'power': 526, 'plan': 527, 'ad': 528, 'iterative': 529, 'managing': 530, 'matrix': 531, 'discriminative': 532, 'cooperative': 533, 'news': 534, 'ir': 535, 'words': 536, 'debugging': 537, 'impact': 538, 'qualitative': 539, 'efficiency': 540, 'laboratory': 541, 'kernels': 542, 'incomplete': 543, 'group': 544, 'datasets': 545, 'do': 546, 'comparative': 547, 'n': 548, 'effectiveness': 549, 'updates': 550, 'automatically': 551, 'modular': 552, 'prolog': 553, 'dependence': 554, 'properties': 555, 'cs1': 556, 'production': 557, 'string': 558, 'b': 559, 'diagnosis': 560, 'extensible': 561, 'vs': 562, 'range': 563, 'uncertainty': 564, 'student': 565, 'advanced': 566, 'sentence': 567, 'generic': 568, 'novel': 569, 'business': 570, 'assessment': 571, 'mixture': 572, 'theoretic': 573, 'classes': 574, 'boosting': 575, 'compression': 576, 'auctions': 577, 'syntax': 578, 'fault': 579, 'olap': 580, 'named': 581, 'representing': 582, 'distribution': 583, 'probability': 584, 'components': 585, 'tasks': 586, 'example': 587, 'good': 588, 'schemes': 589, 'low': 590, 'implementing': 591, 'operating': 592, 'partitioning': 593, 'higher': 594, 'integrity': 595, 'artificial': 596, 'scientific': 597, 'beyond': 598, 'personalized': 599, 'protocols': 600, 'utility': 601, 'processor': 602, 'engines': 603, 'history': 604, 'refinement': 605, 'goal': 606, 'actions': 607, 'common': 608, 'examples': 609, 'indexes': 610, 'reuse': 611, 'compilation': 612, 'ordering': 613, 'hierarchies': 614, 'principles': 615, 'better': 616, 'preferences': 617, 'multidimensional': 618, 'locking': 619, 'satisfaction': 620, 'comparing': 621, 'expressions': 622, 'binary': 623, 'applying': 624, 'sentences': 625, 'implicit': 626, 'practice': 627, 'hash': 628, 'introducing': 629, 'different': 630, 'simulation': 631, 'policies': 632, 'uncertain': 633, 'wide': 634, 'attribute': 635, 'composition': 636, 'meta': 637, 'assignment': 638, 'coordination': 639, 'relationships': 640, 'e': 641, 'keyword': 642, 'resources': 643, 'when': 644, 'transformations': 645, 'terms': 646, 'robots': 647, 'buffer': 648, 'why': 649, 'protocol': 650, 'tag': 651, 'typed': 652, 'entropy': 653, 'extension': 654, 'schemas': 655, 'designing': 656, 'aggregate': 657, 'causal': 658, 'reference': 659, 'events': 660, 'physical': 661, 'best': 662, 'log': 663, 'sat': 664, 'you': 665, 'proving': 666, 'change': 667, 'answers': 668, 'autonomous': 669, 'multilingual': 670, 'solution': 671, 'complete': 672, 'aspects': 673, 'merging': 674, 'site': 675, 'fuzzy': 676, 'disk': 677, 'instance': 678, 'sparse': 679, 'record': 680, 'relevant': 681, 'morphological': 682, 'explanation': 683, 'nested': 684, 'main': 685, 'diagrams': 686, 'files': 687, 'field': 688, 'images': 689, 'margin': 690, 'bounded': 691, 'propositional': 692, 'highly': 693, 'classifier': 694, 'nearest': 695, 'theorem': 696, 'guided': 697, 'single': 698, 'small': 699, 'sequences': 700, 'presence': 701, 'variable': 702, 'interactions': 703, 'versus': 704, 'moving': 705, 'evidence': 706, 'challenges': 707, 'expression': 708, 'sites': 709, 'prototype': 710, 'noun': 711, 'generalization': 712, 'can': 713, 'correlation': 714, 'future': 715, 'declarative': 716, 'efficiently': 717, 'proof': 718, 'predicate': 719, 'direct': 720, 'preference': 721, 'usage': 722, 'secure': 723, 'graphics': 724, 'full': 725, 'map': 726, 'distributions': 727, 'parallelism': 728, 'embedded': 729, 'media': 730, 'gaussian': 731, 'xquery': 732, 'three': 733, 'mt': 734, 'criteria': 735, 'measure': 736, 'modules': 737, 'vision': 738, 'clusters': 739, 'changes': 740, 'modal': 741, 'key': 742, 'basis': 743, 'dependent': 744, 'client': 745, 'size': 746, 'precision': 747, 'adaptation': 748, 'aspect': 749, 'multimodal': 750, 'tutorial': 751, 'weighting': 752, 'accurate': 753, 'paradigm': 754, 'activity': 755, 'part': 756, 'generative': 757, 'parametric': 758, 'subspace': 759, 'metrics': 760, 'medical': 761, 'recommendation': 762, 'universal': 763, 'accuracy': 764, 'assessing': 765, 'inferring': 766, 'garbage': 767, 'music': 768, 'manipulation': 769, 'limited': 770, 'uml': 771, 'writing': 772, 'experiment': 773, 'personal': 774, 'load': 775, 'materialized': 776, 'motion': 777, 'compressed': 778, 'algebraic': 779, 'quantitative': 780, 'expressive': 781, 'architectural': 782, 'preliminary': 783, 'grid': 784, 'predictive': 785, 'replicated': 786, 'point': 787, 'specifying': 788, 'bridging': 789, 'heuristics': 790, 'developing': 791, 'attributes': 792, 'fields': 793, 'hoc': 794, 'tables': 795, 'lessons': 796, 'entities': 797, 'constructing': 798, 'errors': 799, 'electronic': 800, 'proximity': 801, 'wireless': 802, 'answer': 803, 'replication': 804, 'classifying': 805, 'inheritance': 806, 'workflow': 807, 'region': 808, 'safe': 809, 'automata': 810, 'investigation': 811, 'overview': 812, 'ai': 813, 'reliable': 814, 'redundancy': 815, 'correctness': 816, 'instruction': 817, 'streaming': 818, 'revision': 819, 'scaling': 820, 'systematic': 821, 're': 822, 'polynomial': 823, 'implications': 824, 'visualizing': 825, 'discriminant': 826, 'international': 827, 'rdf': 828, 'default': 829, 'precise': 830, 'synthesis': 831, 'version': 832, 'ontologies': 833, 'neighbor': 834, 'recommendations': 835, 'summaries': 836, 'dimensionality': 837, 'optimizations': 838, 'genetic': 839, 'introduction': 840, 'help': 841, 'tolerant': 842, 'cognitive': 843, 'down': 844, 'spectral': 845, 'opinion': 846, 'enterprise': 847, 'policy': 848, 'effect': 849, 'bound': 850, 'interprocedural': 851, 'dynamically': 852, 'bounds': 853, 'symbolic': 854, 'inductive': 855, 'combinatorial': 856, 'hardware': 857, 'validation': 858, 'solutions': 859, 'classroom': 860, 'step': 861, 'fine': 862, 'location': 863, 'equivalence': 864, 'long': 865, 'sentiment': 866, 'variables': 867, 'intensive': 868, 'deterministic': 869, 'duplicate': 870, 'spatio': 871, 'output': 872, 'definition': 873, 'procedures': 874, 'factorization': 875, 'phase': 876, 'joint': 877, 'uniform': 878, 'result': 879, 'values': 880, 'external': 881, 'theoretical': 882, 'university': 883, 'max': 884, 'means': 885, 'alternative': 886, 'profiling': 887, 'platform': 888, 'maintaining': 889, 'partially': 890, 'tractable': 891, 'historical': 892, 'enhanced': 893, 'coverage': 894, 'early': 895, 'taxonomy': 896, 'selectivity': 897, 'transactional': 898, 'library': 899, 'pseudo': 900, 'trust': 901, 'categories': 902, 'evolving': 903, 'progressive': 904, 'extensions': 905, 'message': 906, 'core': 907, 'reverse': 908, 'simultaneous': 909, 'enhancing': 910, 'p2p': 911, 'anaphora': 912, 'near': 913, 'gap': 914, 'lazy': 915, 'density': 916, 'loop': 917, 'like': 918, 'commerce': 919, 'progress': 920, 'optimized': 921, 'across': 922, 'demonstration': 923, 'mechanisms': 924, 'optimizer': 925, 'revisited': 926, 'commitment': 927, 'logs': 928, 'geometric': 929, 'indices': 930, 'arabic': 931, 'topics': 932, 'array': 933, 'demand': 934, 'satisfiability': 935, 'school': 936, 'reordering': 937, 'table': 938, 'pre': 939, 'composite': 940, 'textual': 941, 'hypertext': 942, 'configuration': 943, 'parts': 944, 'reliability': 945, 'r': 946, 'within': 947, 'automating': 948, 'projection': 949, 'polymorphic': 950, 'interoperability': 951, 'routing': 952, 'way': 953, 'compact': 954, 'technologies': 955, 'minimal': 956, 'chart': 957, 'score': 958, 'explicit': 959, 'contextual': 960, 'critical': 961, 'synchronous': 962, 'xpath': 963, 'gene': 964, 'associative': 965, 'definitions': 966, 'goals': 967, 'dual': 968, 'db2': 969, 'communities': 970, 'statistics': 971, 'capturing': 972, 'perception': 973, 'valued': 974, 'influence': 975, 'related': 976, 'infrastructure': 977, 'dirichlet': 978, 'wikipedia': 979, 'localization': 980, 'end': 981, 'among': 982, 'number': 983, 'theories': 984, 'consistent': 985, 'warehouse': 986, 'register': 987, 'navigation': 988, 'label': 989, 'tuning': 990, 'multiprocessor': 991, 'we': 992, 'interval': 993, 'review': 994, 'diverse': 995, 'call': 996, 'korean': 997, 'right': 998, 'oracle': 999, 'devices': 1000, 'mixed': 1001, 'redundant': 1002, 'learned': 1003, 'rewriting': 1004, 'counting': 1005, 'importance': 1006, 'adjoining': 1007, 'than': 1008, 'survey': 1009, 'elimination': 1010, 'personalization': 1011, 'all': 1012, 'reviews': 1013, 'phrases': 1014, 'transitive': 1015, 'look': 1016, 'team': 1017, 'nlp': 1018, 'center': 1019, 'deep': 1020, 'points': 1021, 'normal': 1022, 'soft': 1023, 'negotiation': 1024, 'characterization': 1025, 'studies': 1026, 'nonmonotonic': 1027, 'skills': 1028, 'ii': 1029, 'cubes': 1030, 'minimization': 1031, 'principle': 1032, 'partitioned': 1033, 'summary': 1034, 'side': 1035, 'centric': 1036, 'ambiguity': 1037, 'inverted': 1038, 'standard': 1039, 'hard': 1040, 'observations': 1041, 'length': 1042, 'spam': 1043, 'reducing': 1044, 'market': 1045, 'evolutionary': 1046, 'informative': 1047, 'during': 1048, 'derivation': 1049, 'industrial': 1050, 'unstructured': 1051, 'translating': 1052, 'csp': 1053, 'signature': 1054, 'noise': 1055, 'thinking': 1056, 'pomdps': 1057, 'mdps': 1058, 'relative': 1059, 'abstractions': 1060, 'algorithmic': 1061, 'operators': 1062, 'disjunctive': 1063, 'formation': 1064, 'pointer': 1065, 'argumentation': 1066, 'teach': 1067, 'creating': 1068, 'embedding': 1069, 'experts': 1070, 'customer': 1071, '1': 1072, 'discrete': 1073, 'closed': 1074, 'hierarchy': 1075, 'conversion': 1076, 'shape': 1077, 'behaviors': 1078, 'target': 1079, 'robustness': 1080, 'procedure': 1081, 'operation': 1082, 'interesting': 1083, 'pragmatic': 1084, 'other': 1085, 'combination': 1086, 'fusion': 1087, 'reactive': 1088, 'compiling': 1089, 'difference': 1090, 'sound': 1091, 'deadlock': 1092, 'click': 1093, 'grained': 1094, 'parameter': 1095, 'independence': 1096, 'questions': 1097, 'federated': 1098, 'noisy': 1099, 'programmers': 1100, 'stable': 1101, 'speed': 1102, 'attacks': 1103, 'levels': 1104, 'focus': 1105, 'similar': 1106, 'morphology': 1107, 'bootstrapping': 1108, 'animation': 1109, 'forward': 1110, 'negative': 1111, 'measurement': 1112, 'simulator': 1113, 'blog': 1114, 'zero': 1115, 'prototyping': 1116, 'multidatabase': 1117, 'short': 1118, 'depth': 1119, 'organizing': 1120, 'dialogues': 1121, 'warehouses': 1122, 'focused': 1123, 'safety': 1124, 'biased': 1125, 'parameterized': 1126, 'profiles': 1127, 'off': 1128, 'orientation': 1129, 'office': 1130, 'style': 1131, 'occurrence': 1132, 'go': 1133, 'transition': 1134, 'termination': 1135, 'predicates': 1136, 'crawling': 1137, 'benchmark': 1138, 'inconsistency': 1139, 'creation': 1140, 'frequency': 1141, '3': 1142, 'forms': 1143, 'pagerank': 1144, 'reranking': 1145, 'gradient': 1146, '3d': 1147, 'match': 1148, 'multiagent': 1149, 'situation': 1150, 'biomedical': 1151, 'annotations': 1152, 'generalizing': 1153, 'aided': 1154, 'dynamics': 1155, 'name': 1156, 'verb': 1157, 'enhance': 1158, 'logistic': 1159, 'aligning': 1160, 'libraries': 1161, 'weak': 1162, 'bottom': 1163, 'skyline': 1164, 'recursion': 1165, 'input': 1166, 'quantified': 1167, 'blind': 1168, 'lr': 1169, 'back': 1170, 'ordered': 1171, 'correction': 1172, 'servers': 1173, 'learn': 1174, 'clause': 1175, 'cs2': 1176, 'unlabeled': 1177, 'life': 1178, 'trajectories': 1179, 'less': 1180, 'recall': 1181, 'account': 1182, 'quasi': 1183, 'middle': 1184, 'middleware': 1185, 'ensemble': 1186, 'dimension': 1187, 'no': 1188, 'predict': 1189, 'energy': 1190, 'ml': 1191, 'warehousing': 1192, 'providing': 1193, 'labeled': 1194, 'generator': 1195, 'formulas': 1196, 'lexicalized': 1197, 'formalism': 1198, 'family': 1199, 'rate': 1200, 'german': 1201, 'mathematical': 1202, 'operational': 1203, 'unifying': 1204, 'outliers': 1205, 'analogy': 1206, 'confidence': 1207, 'selective': 1208, 'generate': 1209, 'passing': 1210, 'work': 1211, 'centered': 1212, 'only': 1213, 'articles': 1214, 'bias': 1215, 'versions': 1216, 'anytime': 1217, 'planner': 1218, 'instances': 1219, 'second': 1220, 'gram': 1221, 'practices': 1222, 'i': 1223, 'separation': 1224, 'filter': 1225, 'coreference': 1226, 'differences': 1227, 'items': 1228, 'parse': 1229, 'enabling': 1230, 'reading': 1231, 'voting': 1232, 'intent': 1233, 'educational': 1234, 'characterizing': 1235, 'deriving': 1236, 'reorganization': 1237, 'transliteration': 1238, 'proactive': 1239, 'frame': 1240, 'topological': 1241, 'topical': 1242, 'head': 1243, 'mental': 1244, 'paper': 1245, 'paradigms': 1246, 'assistant': 1247, 'thesaurus': 1248, 'iteration': 1249, 'strings': 1250, 'adapting': 1251, 'determination': 1252, 'inclusion': 1253, 'find': 1254, 'decisions': 1255, 'infinite': 1256, 'be': 1257, 'run': 1258, 'broadcast': 1259, 'logging': 1260, 'foundations': 1261, 'balancing': 1262, 'toolkit': 1263, 'paths': 1264, 'convex': 1265, 'expected': 1266, 'projections': 1267, 'leveraging': 1268, 'curricula': 1269, 'browser': 1270, 'assignments': 1271, 'manager': 1272, 'computers': 1273, 'list': 1274, 'solver': 1275, 'parsers': 1276, 'broad': 1277, 'biological': 1278, 'cube': 1279, 'judgments': 1280, 'analyzer': 1281, 'mathematics': 1282, 'runtime': 1283, 'metadata': 1284, 'monotonic': 1285, 'ranked': 1286, 'itemsets': 1287, 'csps': 1288, 'email': 1289, 'dictionaries': 1290, 'just': 1291, 'massive': 1292, 'ethics': 1293, 'applied': 1294, 'traffic': 1295, 'placement': 1296, 'does': 1297, 'd': 1298, 'geometry': 1299, 'conscious': 1300, 'your': 1301, 'compositional': 1302, 'linking': 1303, 'contexts': 1304, 'mappings': 1305, 'normalization': 1306, 'exact': 1307, 'processors': 1308, 'lightweight': 1309, 'networked': 1310, 'synchronization': 1311, 'interpreter': 1312, 'aggregates': 1313, 'tags': 1314, 'locality': 1315, 'conflict': 1316, 'links': 1317, 'dataflow': 1318, 'ensembles': 1319, 'closure': 1320, 'neighborhood': 1321, 'explanations': 1322, 'batch': 1323, 'structuring': 1324, 'four': 1325, 'manipulating': 1326, 'bidirectional': 1327, 'majors': 1328, 'randomized': 1329, 'lists': 1330, 'serializability': 1331, 'grammatical': 1332, 'eliminating': 1333, 'layout': 1334, 'provenance': 1335, 'undergraduates': 1336, 'sort': 1337, 'contract': 1338, 'sorting': 1339, 'facility': 1340, 'persistent': 1341, 'out': 1342, 'availability': 1343, 'positive': 1344, 'fully': 1345, 'clickthrough': 1346, 'advertising': 1347, 'comprehension': 1348, 'restructuring': 1349, 'repositories': 1350, 'cad': 1351, 'easy': 1352, 'costs': 1353, 'probabilities': 1354, 'ambiguous': 1355, 'suggestion': 1356, 'categorial': 1357, 'completeness': 1358, 'minimum': 1359, 'transparent': 1360, 'histograms': 1361, 'quantifying': 1362, 'lisp': 1363, 'diagnostic': 1364, 'against': 1365, 'template': 1366, 'beliefs': 1367, 'least': 1368, 'window': 1369, 'svm': 1370, 'isolation': 1371, 'emerging': 1372, 'regularization': 1373, 'road': 1374, 'associations': 1375, 'poster': 1376, 'svms': 1377, 'lingual': 1378, 'lock': 1379, 'spontaneous': 1380, 'french': 1381, 'presentation': 1382, 'states': 1383, 'roles': 1384, 'anomaly': 1385, 'difficult': 1386, 'need': 1387, 'dissemination': 1388, 'investigating': 1389, 'determining': 1390, 'module': 1391, 'expertise': 1392, 'prior': 1393, 'profile': 1394, 'pairs': 1395, 'arbitrary': 1396, 'smoothing': 1397, 'tutoring': 1398, 'area': 1399, 'ada': 1400, 'workflows': 1401, 'names': 1402, 'genre': 1403, 'coupling': 1404, 'owl': 1405, 'meets': 1406, 'nonlinear': 1407, 'numeric': 1408, 'geographic': 1409, 'frameworks': 1410, 'inducing': 1411, 'sensing': 1412, 'possibilistic': 1413, 'directions': 1414, 'usability': 1415, 'classical': 1416, 'procedural': 1417, 'designs': 1418, 'bayes': 1419, 'binding': 1420, 'authority': 1421, 'legacy': 1422, 'session': 1423, 'circumscription': 1424, 'constructive': 1425, 'well': 1426, 'sample': 1427, 'signatures': 1428, 'native': 1429, 'purpose': 1430, 'year': 1431, 'channel': 1432, 'behaviour': 1433, 'invariants': 1434, 'treatment': 1435, 'branch': 1436, 'walk': 1437, 'adding': 1438, 'improvement': 1439, 'formalization': 1440, 'contents': 1441, 'dialog': 1442, 'net': 1443, 'regular': 1444, 'vertical': 1445, 'useful': 1446, 'effort': 1447, 'speculative': 1448, 'combined': 1449, 'formulation': 1450, 'cardinality': 1451, 'arc': 1452, 'light': 1453, 'activities': 1454, 'directional': 1455, 'guide': 1456, 'inter': 1457, 'records': 1458, 'html': 1459, 'current': 1460, 'suite': 1461, 'generated': 1462, 'typing': 1463, 'category': 1464, 'teachers': 1465, 'relaxed': 1466, 'terminology': 1467, 'vocabulary': 1468, 'agile': 1469, 'filters': 1470, 'implementations': 1471, 'diversity': 1472, 'archives': 1473, 'compound': 1474, 'loops': 1475, 'proofs': 1476, 'categorical': 1477, 'factors': 1478, 'missing': 1479, 'asynchronous': 1480, 'inspection': 1481, 'networking': 1482, 'calls': 1483, 'optimistic': 1484, 'outlier': 1485, 'who': 1486, 'behavioral': 1487, 'describing': 1488, 'windows': 1489, 'anonymous': 1490, 'utilizing': 1491, 'multiclass': 1492, 'tradeoffs': 1493, 'strong': 1494, 'read': 1495, 'poisson': 1496, 'portable': 1497, 'directory': 1498, 'challenge': 1499, 'nets': 1500, 'playing': 1501, 'interest': 1502, 'argument': 1503, 'coalitional': 1504, 'correct': 1505, 'defect': 1506, 'public': 1507, 'smart': 1508, 'annotated': 1509, 'women': 1510, 'unit': 1511, 'io': 1512, 'reduce': 1513, 'prover': 1514, 'conversational': 1515, 'dealing': 1516, 'mode': 1517, 'needs': 1518, 'collective': 1519, 'block': 1520, 'trends': 1521, 'maps': 1522, 'workload': 1523, 'groups': 1524, 'microarray': 1525, 'terminological': 1526, 'defined': 1527, 'edge': 1528, 'analytical': 1529, 'modified': 1530, 'instructions': 1531, 'choice': 1532, 'modularity': 1533, 'reusable': 1534, 'pairwise': 1535, 'commit': 1536, 'competitive': 1537, 'make': 1538, 'observation': 1539, 'controlled': 1540, 'templates': 1541, 'granularity': 1542, 'affective': 1543, 'secondary': 1544, 'failures': 1545, 'meaning': 1546, 'bringing': 1547, 'optimality': 1548, 'perspectives': 1549, 'breaking': 1550, 'bi': 1551, 'pos': 1552, 'approximating': 1553, 'analyses': 1554, 'failure': 1555, 'expectation': 1556, 'backtracking': 1557, 'concerns': 1558, 'blogs': 1559, 'operator': 1560, 'boundary': 1561, 'decentralized': 1562, 'discrimination': 1563, 'accessing': 1564, 'semantically': 1565, 'histogram': 1566, 'response': 1567, 'abductive': 1568, 'symmetric': 1569, 'generators': 1570, 'refining': 1571, 'arrays': 1572, 'bug': 1573, 'attention': 1574, 'transducers': 1575, 'symmetry': 1576, 'existing': 1577, 'collocations': 1578, 'derived': 1579, 'enough': 1580, 'unknown': 1581, 'adaptable': 1582, 'approximations': 1583, 'www': 1584, 'boundaries': 1585, 'assurance': 1586, 'slicing': 1587, 'write': 1588, 'rdbms': 1589, 'controlling': 1590, 'almost': 1591, 'maximal': 1592, 'parallelization': 1593, 'gathering': 1594, 'integer': 1595, 'viewing': 1596, 'benefits': 1597, 'character': 1598, 'scoring': 1599, 'metaphor': 1600, 'dont': 1601, 'subtyping': 1602, 'greedy': 1603, 'updating': 1604, 'considerations': 1605, 'automation': 1606, 'know': 1607, 'nonparametric': 1608, 'predictions': 1609, 'modern': 1610, 'desktop': 1611, 'likelihood': 1612, 'risk': 1613, 'experimentation': 1614, 'collaboration': 1615, 'lattice': 1616, 'constituent': 1617, 'globally': 1618, 'metasearch': 1619, 'horn': 1620, 'reconstruction': 1621, 'scene': 1622, 'face': 1623, 'de': 1624, 'remote': 1625, 'stage': 1626, 'delayed': 1627, 'lines': 1628, 'cs1cs2': 1629, 'subsequence': 1630, 'wordnet': 1631, 'criterion': 1632, 'semistructured': 1633, 'coding': 1634, 'foundation': 1635, 'decoding': 1636, 'scenarios': 1637, 'frames': 1638, 'ubiquitous': 1639, 'display': 1640, 'specified': 1641, 'law': 1642, 'axiomatic': 1643, 'p': 1644, 'em': 1645, 'individual': 1646, 'pair': 1647, 'learners': 1648, 'ability': 1649, 'walks': 1650, 'surface': 1651, 'opportunities': 1652, 'private': 1653, 'synchronized': 1654, 'cases': 1655, 'validating': 1656, 'assembly': 1657, 'optimizers': 1658, '2': 1659, 'notes': 1660, 'hot': 1661, 'sketch': 1662, 'paraphrasing': 1663, 'oodb': 1664, 'significance': 1665, 'nonnegative': 1666, 'panel': 1667, 'verbs': 1668, 'resolving': 1669, 'note': 1670, 'success': 1671, 'refactoring': 1672, 'people': 1673, 'prioritized': 1674, 'breadth': 1675, 'store': 1676, 'ahead': 1677, 'passage': 1678, 'atomic': 1679, 'codes': 1680, 'retention': 1681, 'comparisons': 1682, 'convergence': 1683, 'interpreting': 1684, 'differential': 1685, 'covering': 1686, 'dominance': 1687, 'route': 1688, 'arguments': 1689, 'threshold': 1690, 'charts': 1691, 'compressing': 1692, 'live': 1693, 'coarse': 1694, 'containment': 1695, 'sum': 1696, 'auction': 1697, 'sensors': 1698, 'stemming': 1699, 'false': 1700, 'whole': 1701, 'applicative': 1702, 'imprecise': 1703, 'lfg': 1704, 'thematic': 1705, 'taxonomies': 1706, 'organizational': 1707, 'alternatives': 1708, 'javascript': 1709, 'communications': 1710, 'replacement': 1711, 'position': 1712, 'left': 1713, 'circuits': 1714, 'bag': 1715, 'analytic': 1716, 'there': 1717, 'interoperable': 1718, 'conjunctive': 1719, 'activation': 1720, 'rates': 1721, 'selecting': 1722, 'both': 1723, 'copy': 1724, 'computations': 1725, 'coupled': 1726, 'cooperating': 1727, 'deduction': 1728, 'polymorphism': 1729, 'cut': 1730, 'lecture': 1731, 'tier': 1732, 'standards': 1733, 'defaults': 1734, 'faults': 1735, 'accessibility': 1736, 'prosodic': 1737, 'arts': 1738, 'accesses': 1739, 'wise': 1740, 'rfid': 1741, 'factor': 1742, 'characters': 1743, 'parameters': 1744, 'interests': 1745, 'monte': 1746, 'carlo': 1747, 'augmented': 1748, 'informed': 1749, 'autonomic': 1750, 'balanced': 1751, 'where': 1752, 'loosely': 1753, 'sponsored': 1754, 'adoption': 1755, 'twig': 1756, 'smalltalk': 1757, 'scope': 1758, 'extracted': 1759, 'subgraphs': 1760, 'urls': 1761, 'advice': 1762, 'bidding': 1763, 'visually': 1764, 'subjectivity': 1765, 'realistic': 1766, 'contention': 1767, 'rich': 1768, 'player': 1769, 'executing': 1770, 'hypothesis': 1771, 'alias': 1772, 'micro': 1773, 'ground': 1774, 'serial': 1775, 'few': 1776, 'pass': 1777, 'pipelined': 1778, 'pc': 1779, 'college': 1780, 'stories': 1781, 'laboratories': 1782, 'microsoft': 1783, 'partition': 1784, 'reformulation': 1785, 'strategic': 1786, 'something': 1787, 'fundamental': 1788, 'most': 1789, 'restrictions': 1790, 'changing': 1791, 'mutual': 1792, 'package': 1793, 'searches': 1794, 'synopses': 1795, 'technical': 1796, 'meanings': 1797, 'robotic': 1798, 'citation': 1799, 'primitives': 1800, 'discussion': 1801, 'company': 1802, 'wavelets': 1803, 'wrapper': 1804, 'recognizing': 1805, 'specialization': 1806, 'performing': 1807, 'verifying': 1808, 'recommender': 1809, 'cyclic': 1810, 'mechanical': 1811, 'fragments': 1812, 'taking': 1813, 'industry': 1814, 'linkage': 1815, 'augmenting': 1816, 'numerical': 1817, 'indexed': 1818, 'robotics': 1819, 'shift': 1820, 'entailment': 1821, 'denotational': 1822, 'focusing': 1823, 'written': 1824, 'theorems': 1825, 'chain': 1826, 'additive': 1827, 'living': 1828, 'comparable': 1829, 'invariant': 1830, '20': 1831, 'friendly': 1832, 'inputs': 1833, 'regularized': 1834, 'holistic': 1835, 'splitting': 1836, 'intrusion': 1837, 'recent': 1838, 'price': 1839, 'phrasal': 1840, 'physics': 1841, 'build': 1842, 'buffering': 1843, 'minimizing': 1844, 'cooperation': 1845, 'auxiliary': 1846, 'exception': 1847, 'pronoun': 1848, 'petri': 1849, 'next': 1850, 'divide': 1851, 'decompositions': 1852, 'weight': 1853, 'publishing': 1854, 'manifold': 1855, 'anchor': 1856, 'qa': 1857, 'merge': 1858, 'revealing': 1859, 'suffix': 1860, 'clauses': 1861, 'combinatory': 1862, 'whats': 1863, 'capture': 1864, 'simplifying': 1865, 'nondeterministic': 1866, 'node': 1867, 'induced': 1868, 'grams': 1869, 'quantifier': 1870, 'choices': 1871, 'distributing': 1872, 'really': 1873, 'total': 1874, 'interdisciplinary': 1875, 'explaining': 1876, 'eye': 1877, 'priors': 1878, 'versioning': 1879, 'double': 1880, 'chains': 1881, 'expensive': 1882, 'reporting': 1883, 'functionality': 1884, 'statements': 1885, 'financial': 1886, 'fair': 1887, 'but': 1888, '2003': 1889, 'messages': 1890, 'weights': 1891, 'monolingual': 1892, 'argumentative': 1893, 'massively': 1894, 'basic': 1895, 'rapid': 1896, 'forecasting': 1897, 'made': 1898, 'integrate': 1899, 'chemical': 1900, 'multilevel': 1901, 'intention': 1902, 'api': 1903, 'disks': 1904, 'worlds': 1905, 'flickr': 1906, 'gaps': 1907, 'abduction': 1908, 'strictness': 1909, 'recurrent': 1910, 'liberal': 1911, 'rewrite': 1912, 'solve': 1913, 'materialization': 1914, 'completion': 1915, 'website': 1916, 'mapreduce': 1917, 'dominant': 1918, 'expressing': 1919, 'bioinformatics': 1920, 'compilers': 1921, 'prefetching': 1922, 'transductive': 1923, 'achieving': 1924, 'anaphoric': 1925, 'notion': 1926, 'lambek': 1927, 'samples': 1928, 'connectionist': 1929, 'x': 1930, 'art': 1931, 'anomalies': 1932, 'producing': 1933, 'meaningful': 1934, 'assisted': 1935, 'formalisms': 1936, 'too': 1937, 'manufacturing': 1938, 'elements': 1939, 'comments': 1940, 'lda': 1941, 'treewidth': 1942, 'column': 1943, 'maximizing': 1944, 'm': 1945, 'much': 1946, 'localized': 1947, 'transport': 1948, 'helping': 1949, 'stationary': 1950, 'automotive': 1951, 'stored': 1952, 'strongly': 1953, 'reports': 1954, 'subject': 1955, 'predictors': 1956, 'traversal': 1957, 'post': 1958, 'interpretations': 1959, 'vague': 1960, 'flows': 1961, 'threads': 1962, 'negation': 1963, 'seed': 1964, 'methodologies': 1965, 'shapes': 1966, 'skew': 1967, 'lab': 1968, 'correspondences': 1969, 'timed': 1970, 'race': 1971, 'candidate': 1972, 'permutation': 1973, 'trace': 1974, '2000': 1975, 'observable': 1976, 'nominal': 1977, 'synthesizing': 1978, 'coherent': 1979, 'bit': 1980, 'senses': 1981, 'archiving': 1982, 'hypermedia': 1983, 'act': 1984, 'regions': 1985, 'color': 1986, 'improvements': 1987, 'pascal': 1988, 'ill': 1989, 'transformational': 1990, 'ellipsis': 1991, 'pipeline': 1992, 'quantification': 1993, 'instructional': 1994, 'keyphrase': 1995, 'indirect': 1996, 'author': 1997, 'blocking': 1998, 'retrieving': 1999, 'exchange': 2000, 'settings': 2001, 'possible': 2002, 'containing': 2003, 'transduction': 2004, 'imperfect': 2005, 'delivery': 2006, 'characteristics': 2007, 'sketching': 2008, 'horizontal': 2009, 'instant': 2010, 'continuations': 2011, 'videos': 2012, 'facts': 2013, 'hand': 2014, 'facilitate': 2015, 'multivariate': 2016, 'inverse': 2017, 'lasso': 2018, 'multithreaded': 2019, 'guarantees': 2020, 'restricted': 2021, 'status': 2022, 'studying': 2023, 'transform': 2024, 'contracts': 2025, 'trade': 2026, 'checker': 2027, 'bad': 2028, 'everyone': 2029, 'labs': 2030, 'correlated': 2031, 'correspondence': 2032, 'literature': 2033, 'pipelining': 2034, 'grouping': 2035, 'connected': 2036, 'teams': 2037, 'regret': 2038, 'snippets': 2039, 'acm': 2040, 'many': 2041, 'initiative': 2042, 'diagnosing': 2043, 'cleaning': 2044, 'skill': 2045, 'intensional': 2046, 'built': 2047, 'command': 2048, 'conditions': 2049, 'piecewise': 2050, 'codasyl': 2051, 'encodings': 2052, 'layered': 2053, 'dimensions': 2054, 'difficulty': 2055, 'correcting': 2056, 'q': 2057, 'communicating': 2058, 'modes': 2059, 'protein': 2060, 'perceptron': 2061, 'seeking': 2062, 'fractal': 2063, 'poker': 2064, 'snapshot': 2065, 'comprehensive': 2066, 'particle': 2067, 'novice': 2068, 'hmm': 2069, 'analogical': 2070, 'unix': 2071, 'audio': 2072, 'heap': 2073, 'consensus': 2074, 'yahoo': 2075, 'extensibility': 2076, 'intermediate': 2077, 'scenes': 2078, 'place': 2079, 'mediator': 2080, 'commercial': 2081, 'past': 2082, 'treebank': 2083, 'smt': 2084, 'google': 2085, 'overlapping': 2086, 'heterogeneity': 2087, 'aid': 2088, 'internal': 2089, 'coalition': 2090, 'equality': 2091, 'tensor': 2092, 'force': 2093, 'accurately': 2094, 'repository': 2095, 'reputation': 2096, 'keys': 2097, 'elicitation': 2098, 'division': 2099, 'coloring': 2100, 'healthcare': 2101, 'collector': 2102, 'utilization': 2103, 'gpsg': 2104, 'bitmap': 2105, 'pointers': 2106, 'corner': 2107, 'inferencing': 2108, 'intended': 2109, 'should': 2110, 'tagged': 2111, 'courseware': 2112, 'pedagogy': 2113, 'examination': 2114, 'varying': 2115, 'temporally': 2116, 'alpha': 2117, 'rankings': 2118, 'publishsubscribe': 2119, 'referring': 2120, 'pictures': 2121, 'factored': 2122, 'spreading': 2123, 'inferences': 2124, 'documentation': 2125, 'detect': 2126, 'overlay': 2127, 'story': 2128, 'winner': 2129, 'locating': 2130, 'reusing': 2131, 'paraphrases': 2132, 'optimize': 2133, 'loss': 2134, 'cues': 2135, 'stack': 2136, 'pca': 2137, 'similarities': 2138, 'equilibria': 2139, 'flash': 2140, 'pure': 2141, 'mean': 2142, 'preservation': 2143, 'referential': 2144, 'repairs': 2145, 'special': 2146, 'issue': 2147, 'walking': 2148, 'exploratory': 2149, 'major': 2150, 'traditional': 2151, 'starburst': 2152, 'if': 2153, 'equations': 2154, 'facilitating': 2155, 'hiding': 2156, 'satisfying': 2157, 'biology': 2158, 'minimax': 2159, 'drift': 2160, 'multiversion': 2161, 'device': 2162, 'ocr': 2163, 'extendible': 2164, 'editors': 2165, 's': 2166, 'summer': 2167, 'centering': 2168, 'works': 2169, 'orthogonal': 2170, 'conformant': 2171, 'bibliography': 2172, 'spatiotemporal': 2173, 'testbed': 2174, 'numbers': 2175, 'party': 2176, 'definite': 2177, 'relating': 2178, 'linguistically': 2179, 'connecting': 2180, 'enforcement': 2181, 'clues': 2182, 'lexicons': 2183, 'ontological': 2184, 'stability': 2185, 'replica': 2186, 'choosing': 2187, 'defining': 2188, 'count': 2189, 'intranet': 2190, 'exponential': 2191, 'while': 2192, 'geo': 2193, 'diffusion': 2194, 'conversation': 2195, 'manual': 2196, 'indefinite': 2197, 'triggers': 2198, 'variation': 2199, 'navigational': 2200, 'la': 2201, 'hpsg': 2202, 'requirement': 2203, 'anatomy': 2204, 'mutation': 2205, 'rational': 2206, 'simulations': 2207, 'so': 2208, 'including': 2209, 'switching': 2210, 'measurements': 2211, 'seminar': 2212, 'constructed': 2213, 'inversion': 2214, 'spelling': 2215, 'idea': 2216, '12': 2217, 'shallow': 2218, 'rare': 2219, 'job': 2220, 'vehicle': 2221, 'another': 2222, 'loading': 2223, 'organized': 2224, 'significant': 2225, 'addressing': 2226, 'visualisation': 2227, 'proxy': 2228, 'encryption': 2229, 'freshness': 2230, 'presentations': 2231, 'fact': 2232, 'filling': 2233, 'axioms': 2234, 'play': 2235, 'formed': 2236, 'migration': 2237, 'equivalent': 2238, 'distributional': 2239, 'decidable': 2240, 'government': 2241, 'adjectives': 2242, 'searchers': 2243, 'capstone': 2244, 'crawler': 2245, 'evaluate': 2246, 'shell': 2247, 'concrete': 2248, 'blogosphere': 2249, 'styles': 2250, 'protecting': 2251, 'db': 2252, 'turkish': 2253, 'attack': 2254, 'roc': 2255, 'iterated': 2256, 'directories': 2257, 'situations': 2258, 'distances': 2259, 'exodus': 2260, 'curve': 2261, 'grounded': 2262, 'traceability': 2263, 'humans': 2264, 'memories': 2265, 'null': 2266, 'labels': 2267, 'ads': 2268, 'summarizing': 2269, 'clusterings': 2270, 'descent': 2271, 'verbal': 2272, '2001': 2273, 'entry': 2274, 'concise': 2275, 'pilot': 2276, 'edit': 2277, 'wrapping': 2278, 'oltp': 2279, 'individuals': 2280, 'bounding': 2281, 'posterior': 2282, 'trec': 2283, 'environmental': 2284, 'consumer': 2285, 'me': 2286, 'signal': 2287, 'neighbors': 2288, 'viewpoint': 2289, 'multidatabases': 2290, 'promoting': 2291, 'hyper': 2292, 'which': 2293, 'tertiary': 2294, 'background': 2295, 'corporate': 2296, 'attitudes': 2297, 'skewed': 2298, 'reversible': 2299, 'relaxation': 2300, 'simplified': 2301, 'years': 2302, 'underlying': 2303, 'authorship': 2304, 'advances': 2305, 'acts': 2306, 'estimates': 2307, 'proper': 2308, 'tests': 2309, 'hits': 2310, 'portals': 2311, 'edges': 2312, 'utterances': 2313, 'acquiring': 2314, 'flat': 2315, 'prevention': 2316, 'capability': 2317, 'extreme': 2318, 'aliasing': 2319, 'papers': 2320, 'attachment': 2321, 'periodic': 2322, 'subcategorization': 2323, 'achieve': 2324, 'readability': 2325, 'available': 2326, 'ccg': 2327, 'constant': 2328, 'distillation': 2329, 'forests': 2330, 'hypotheses': 2331, 'pervasive': 2332, 'invited': 2333, 'mind': 2334, 'conquer': 2335, 'lower': 2336, 'encoding': 2337, 'assistance': 2338, 'travel': 2339, 'diagram': 2340, 'correlations': 2341, 'estimate': 2342, 'represent': 2343, 'maximization': 2344, 'segment': 2345, 'increasing': 2346, 'dl': 2347, 'phonological': 2348, 'advantages': 2349, 'composing': 2350, 'o': 2351, 'revisiting': 2352, 'stratified': 2353, 'randomization': 2354, 'variance': 2355, 'miner': 2356, 'inconsistent': 2357, 'obligations': 2358, 'novelty': 2359, 'weakly': 2360, 'trend': 2361, 'vote': 2362, 'objective': 2363, 'final': 2364, 'categorizing': 2365, 'trails': 2366, 'any': 2367, 'they': 2368, 'opinions': 2369, 'sms': 2370, 'movements': 2371, 'scoping': 2372, 'baseline': 2373, 'anonymizing': 2374, 'declustering': 2375, 'macro': 2376, 'shortest': 2377, 'knn': 2378, 'proposed': 2379, 'tape': 2380, 'ssa': 2381, 'phi': 2382, 'harmful': 2383, 'parsed': 2384, 'hypergraph': 2385, 'principal': 2386, 'segments': 2387, 'accessible': 2388, 'strength': 2389, 'informational': 2390, 'clinical': 2391, 'polarity': 2392, 'aqualogic': 2393, 'graded': 2394, 'neutral': 2395, 'degree': 2396, 'sciences': 2397, 'expressiveness': 2398, 'divergence': 2399, 'controls': 2400, 'taxonomic': 2401, 'beta': 2402, 'faceted': 2403, 'elections': 2404, 'readers': 2405, 'mixtures': 2406, 'spammers': 2407, 'transforms': 2408, 'ibm': 2409, 'setting': 2410, 'weaving': 2411, 'reconstructing': 2412, 'ciphers': 2413, 'release': 2414, 'last': 2415, 'blackboard': 2416, 'nash': 2417, 'enhancement': 2418, 'deviation': 2419, 'mediation': 2420, 'skylines': 2421, 'patent': 2422, 'thread': 2423, 'show': 2424, 'constituency': 2425, 'ode': 2426, 'elaboration': 2427, 'postgres': 2428, 'us': 2429, 'ecommerce': 2430, 'pi': 2431, 'clouds': 2432, 'sales': 2433, 'popular': 2434, 'important': 2435, 'snippet': 2436, 'extract': 2437, 'editing': 2438, 'fifteen': 2439, 'productivity': 2440, 'rating': 2441, 'associated': 2442, 'fragment': 2443, 'before': 2444, 'bulk': 2445, 'population': 2446, 'resident': 2447, 'curse': 2448, 'gui': 2449, 'topology': 2450, 'trading': 2451, 'cs0': 2452, 'exclusive': 2453, 'disjunctions': 2454, 'neighbour': 2455, 'viewpoints': 2456, 'andor': 2457, 'messaging': 2458, 'lite': 2459, 'factory': 2460, 'pronominal': 2461, 'duality': 2462, 'mandarin': 2463, 'chunks': 2464, 'geographical': 2465, 'subexpressions': 2466, 'interpreters': 2467, 'fraud': 2468, 'potential': 2469, 'reusability': 2470, 'attribution': 2471, 'onto': 2472, 'syntactically': 2473, 'root': 2474, 'getting': 2475, 'reduced': 2476, 'cp': 2477, 'see': 2478, 'lexicalization': 2479, 'prepositional': 2480, 'injection': 2481, 'multiparty': 2482, 'matrices': 2483, 'nonmyopic': 2484, 'limits': 2485, 'provide': 2486, 'atms': 2487, 'pronunciation': 2488, 'brief': 2489, 'elementary': 2490, 'exercise': 2491, 'barrier': 2492, 'grain': 2493, 'contrast': 2494, 'hypergraphs': 2495, 'sub': 2496, 'counts': 2497, 'webpage': 2498, 'customization': 2499, 'discovered': 2500, 'mu': 2501, 'conservative': 2502, 'commodity': 2503, 'gis': 2504, 'morpheme': 2505, 'board': 2506, 'molecular': 2507, 'must': 2508, 'mobility': 2509, 'tracing': 2510, 'going': 2511, 'supported': 2512, 'identify': 2513, 'causes': 2514, 'earth': 2515, 'orders': 2516, 'algebras': 2517, 'hierarchically': 2518, 'avoidance': 2519, 'intractable': 2520, 'encyclopedic': 2521, 'optical': 2522, 'prototypes': 2523, 'star': 2524, 'sensitivity': 2525, 'cycles': 2526, 'fixpoint': 2527, 'exploitation': 2528, 'spreadsheets': 2529, 'products': 2530, 'packing': 2531, 'tabular': 2532, 'gain': 2533, 'wavelet': 2534, 'exceptions': 2535, 'reengineering': 2536, 'layer': 2537, 'stopping': 2538, 'icse': 2539, 'gender': 2540, 'acyclic': 2541, 'nl': 2542, 'marketing': 2543, 'bandit': 2544, 'designed': 2545, 'analyze': 2546, 'coordinating': 2547, 'staged': 2548, 'essential': 2549, 'guarantee': 2550, 'purchase': 2551, 'f': 2552, 'screening': 2553, 'adjusting': 2554, 'iceberg': 2555, 'evaluations': 2556, 'monitor': 2557, 'naive': 2558, 'restarts': 2559, 'defeasible': 2560, 'subspaces': 2561, 'proposal': 2562, 'ansi': 2563, 'vectors': 2564, 'persistence': 2565, 'preprocessing': 2566, 'tokenization': 2567, 'continuation': 2568, 'compromise': 2569, 'epsilon': 2570, 'mediated': 2571, 'notation': 2572, 'defense': 2573, 'trajectory': 2574, 'tailoring': 2575, 'sliding': 2576, 'bootstrap': 2577, 'normalized': 2578, 'crash': 2579, 'clones': 2580, 'promises': 2581, 'admissible': 2582, 'engineers': 2583, 'examining': 2584, 'agenda': 2585, 'dependability': 2586, 'portal': 2587, 'scheduler': 2588, 'optimum': 2589, 'factoring': 2590, 'salience': 2591, 'estimators': 2592, 'compatibility': 2593, 'used': 2594, 'decoupling': 2595, 'big': 2596, 'closing': 2597, 'keywords': 2598, 'picture': 2599, 'ie': 2600, 'awareness': 2601, 'analytics': 2602, '10': 2603, '3rd': 2604, 'powerful': 2605, 'quorum': 2606, 'perform': 2607, 'collocation': 2608, 'classify': 2609, 'sequencing': 2610, 'interlingual': 2611, 'growth': 2612, 'morpho': 2613, 'analyser': 2614, 'learner': 2615, 'risc': 2616, 'mail': 2617, 'required': 2618, 'dependable': 2619, 'optimally': 2620, 'avoiding': 2621, 'identifiers': 2622, 'clustered': 2623, 'aids': 2624, 'haplotype': 2625, 'quantile': 2626, 'annotating': 2627, 'million': 2628, 'bank': 2629, 'stores': 2630, 'distinguishing': 2631, 'fundamentals': 2632, 'running': 2633, 'assertion': 2634, 'critique': 2635, 'emotions': 2636, 'script': 2637, 'camera': 2638, 'pushing': 2639, 'magic': 2640, 'subsumption': 2641, 'surfaces': 2642, 'telecommunication': 2643, 'linguistics': 2644, 'date': 2645, 'bid': 2646, 'atomicity': 2647, 'reachability': 2648, 'clone': 2649, 'arithmetic': 2650, 'specify': 2651, 'ambiguities': 2652, '2008': 2653, 'great': 2654, 'recovering': 2655, 'spacecraft': 2656, 'syllable': 2657, 'closures': 2658, 'transitions': 2659, 'generalised': 2660, 'parallelizing': 2661, 'constructions': 2662, 'statically': 2663, 'steps': 2664, 'plus': 2665, 'resistant': 2666, 'economic': 2667, 'translations': 2668, 'enforcing': 2669, 'asking': 2670, 'several': 2671, 'spectrum': 2672, 'enumeration': 2673, 'locks': 2674, 'tv': 2675, 'hands': 2676, 'have': 2677, 'mdl': 2678, 'aggressive': 2679, 'reason': 2680, 'irrelevance': 2681, 'departments': 2682, 'popularity': 2683, 'lambda': 2684, 'catalogs': 2685, 'auto': 2686, 'academic': 2687, 'grounding': 2688, 'nmf': 2689, 'ease': 2690, 'russian': 2691, 'assumptions': 2692, 'phenomena': 2693, 'bottleneck': 2694, 'tractability': 2695, 'workloads': 2696, 'lectures': 2697, 'options': 2698, 'speeding': 2699, 'graduate': 2700, 'assistants': 2701, 'motivated': 2702, 'grids': 2703, 'bin': 2704, 'membership': 2705, 'cipher': 2706, 'get': 2707, 'retrospective': 2708, 'linked': 2709, 'sizes': 2710, 'article': 2711, 'trip': 2712, 'handle': 2713, 'handwriting': 2714, 'decade': 2715, 'connection': 2716, 'datalog': 2717, 'pictorial': 2718, 'pdas': 2719, 'cultural': 2720, 'formulae': 2721, 'turing': 2722, 'priority': 2723, 'multiattribute': 2724, 'likely': 2725, 'authoring': 2726, 'clicks': 2727, 'lifetime': 2728, 'infer': 2729, 'puzzles': 2730, 'ingres': 2731, 'constructs': 2732, 'descriptive': 2733, 'preconditions': 2734, 'developments': 2735, 'h': 2736, 'mashups': 2737, 'successful': 2738, 'meeting': 2739, 'situated': 2740, 'item': 2741, 'transforming': 2742, 'girls': 2743, 'initial': 2744, 'perfect': 2745, 'lifted': 2746, 'assigning': 2747, 'engaging': 2748, 'offline': 2749, 'probe': 2750, 'locations': 2751, 'fixed': 2752, 'cryptography': 2753, 'floating': 2754, 'interrelated': 2755, 'expectations': 2756, 'shelf': 2757, 'literacy': 2758, 'outputs': 2759, 'spanish': 2760, 'progression': 2761, 'passive': 2762, 'threaded': 2763, 'discussions': 2764, 'computable': 2765, 'statistic': 2766, 'establishing': 2767, 'commonsense': 2768, 'motivation': 2769, 'clients': 2770, 'push': 2771, 'scalar': 2772, 'outerjoins': 2773, 'aqua': 2774, 'projected': 2775, 'troubleshooting': 2776, 'mass': 2777, 'salsa': 2778, 'sky': 2779, 'hindsight': 2780, 'consequence': 2781, 'drt': 2782, 'simd': 2783, 'patient': 2784, 'lego': 2785, 'fluents': 2786, 'day': 2787, 'currency': 2788, 'again': 2789, 'variant': 2790, 'dataspaces': 2791, 'bio': 2792, 'abandonment': 2793, 'jump': 2794, 'abnormal': 2795, 'emotion': 2796, 'novices': 2797, 'track': 2798, 'taught': 2799, 'coherency': 2800, 'duplication': 2801, 'pragmatics': 2802, 'concert': 2803, 'incrementality': 2804, 'dataspace': 2805, 'ideal': 2806, 'present': 2807, 'organizations': 2808, 'same': 2809, 'fractals': 2810, 'tsimmis': 2811, 'provision': 2812, 'mid': 2813, 'continual': 2814, 'unrestricted': 2815, 'boltzmann': 2816, 'ebl': 2817, 'forgetting': 2818, 'adversarial': 2819, 'squares': 2820, 'editor': 2821, 'foreign': 2822, 'discontinuous': 2823, 'bytecode': 2824, 'notions': 2825, 'tcp': 2826, 'feed': 2827, 'providers': 2828, 'cmm': 2829, 'identity': 2830, 'epistemic': 2831, 'infrastructures': 2832, 'detailed': 2833, 'delta': 2834, 'duration': 2835, 'imperative': 2836, 'nodes': 2837, 'encyclopedia': 2838, 'catalog': 2839, 'contest': 2840, 'substitution': 2841, 'focal': 2842, 'principled': 2843, 'connections': 2844, 'hyperlinked': 2845, 'empty': 2846, 'subqueries': 2847, 'anonymity': 2848, 'publication': 2849, 'element': 2850, 'nn': 2851, 'inspections': 2852, 'snapshots': 2853, 'scaled': 2854, 'visibility': 2855, 'cumulative': 2856, 'transducer': 2857, 'infosleuth': 2858, 'manage': 2859, 'fly': 2860, 'intrusions': 2861, 'phonology': 2862, 'refined': 2863, 'uniqueness': 2864, 'soccer': 2865, 'edits': 2866, 'prism': 2867, 'far': 2868, 'stemmer': 2869, 'provably': 2870, 'cover': 2871, 'violation': 2872, 'tough': 2873, 'tuples': 2874, 'tagger': 2875, '10g': 2876, 'customizable': 2877, 'subgraph': 2878, 'substring': 2879, 'sentential': 2880, 'mediators': 2881, 'characterizations': 2882, 'schools': 2883, 'overcoming': 2884, 'deployment': 2885, 'suspicious': 2886, 'observed': 2887, 'relief': 2888, 'requests': 2889, 'vod': 2890, 'movie': 2891, 'subsystem': 2892, 'scripting': 2893, 'hp': 2894, 'opportunity': 2895, 'idiom': 2896, 'sorted': 2897, 'semijoin': 2898, 'tracks': 2899, 'pay': 2900, 'demo': 2901, 'htn': 2902, 'heterogenous': 2903, 'simpler': 2904, 'insurance': 2905, 'connectivity': 2906, 'pitch': 2907, 'des': 2908, 'envy': 2909, 'goods': 2910, 'emergent': 2911, 'executable': 2912, 'sgml': 2913, 'tunable': 2914, 'exemplar': 2915, 'tighter': 2916, 'recency': 2917, 'recurrence': 2918, 'humor': 2919, 'agnostic': 2920, 'wave': 2921, 'mls': 2922, 'certifying': 2923, 'necessity': 2924, 'home': 2925, 'century': 2926, 'asymptotic': 2927, 'this': 2928, 'variety': 2929, 'verbose': 2930, 'intersection': 2931, 'yet': 2932, 'segmenting': 2933, 'goes': 2934, 'locally': 2935, 'nothing': 2936, 'quickly': 2937, 'durations': 2938, 'dilemma': 2939, 'add': 2940, 'competence': 2941, 'compliance': 2942, 'together': 2943, 'interacting': 2944, 'cloning': 2945, 'envelope': 2946, 'skewing': 2947, 'frontier': 2948, 'compile': 2949, 'hosting': 2950, 'developers': 2951, 'robocup': 2952, 'masses': 2953, 'imitation': 2954, 'coping': 2955, 'those': 2956, 'cant': 2957, 'scores': 2958, 'medicine': 2959, 'augmentation': 2960, 'lookahead': 2961, 'biologically': 2962, 'suites': 2963, 'markets': 2964, 'exactly': 2965, 'exhaustive': 2966, 'vp': 2967, 'signals': 2968, 'personality': 2969, 'cognition': 2970, 'cue': 2971, 'ordinal': 2972, 'deletion': 2973, 'feasibility': 2974, 'units': 2975, 'wisdom': 2976, 'polyhedral': 2977, 'yes': 2978, 'makes': 2979, 'capabilities': 2980, 'request': 2981, 'bisimulation': 2982, 'ambients': 2983, 'legal': 2984, 'enhancements': 2985, 'traces': 2986, 'proportional': 2987, 'chance': 2988, '2005': 2989, 'shopping': 2990, 'bugs': 2991, 'portfolio': 2992, 'property': 2993, 'vlsi': 2994, 'reducible': 2995, 'average': 2996, 'will': 2997, 'versatile': 2998, 'select': 2999, 'transmission': 3000, 'propagating': 3001, 'combinations': 3002, 'projective': 3003, 'derive': 3004, 'bibliographic': 3005, 'fragmentation': 3006, 'permission': 3007, 'combine': 3008, 'generality': 3009, 'chip': 3010, 'inflectional': 3011, 'super': 3012, 'learnable': 3013, 'compressor': 3014, 'organize': 3015, 'distinct': 3016, 'multiset': 3017, 'exploits': 3018, 'checkpointing': 3019, 'essence': 3020, 'alignments': 3021, 'known': 3022, 'backbone': 3023, 'accelerating': 3024, 'terminologies': 3025, 'priorities': 3026, 'o2': 3027, 'putting': 3028, 'blogging': 3029, 'conversations': 3030, 'coordinate': 3031, 'aerial': 3032, 'tune': 3033, 'deictic': 3034, 'gestures': 3035, 'jflap': 3036, 'incrementally': 3037, 'authors': 3038, 'accreditation': 3039, 'scenario': 3040, 'stop': 3041, 'fourier': 3042, 'aligned': 3043, 'webdav': 3044, 'compare': 3045, 'branching': 3046, 'conflicts': 3047, 'quadratic': 3048, 'cheap': 3049, 'creative': 3050, 'pool': 3051, 'subscription': 3052, 'standardization': 3053, 'equivalents': 3054, 'haystack': 3055, 'brain': 3056, 'rotation': 3057, 'sharable': 3058, 'benchmarking': 3059, 'ugly': 3060, 'interactivity': 3061, 'nsf': 3062, 'funding': 3063, 'thresholding': 3064, 'multiprocessors': 3065, 'nasa': 3066, 'banks': 3067, 'debugger': 3068, 'math': 3069, 'rigorous': 3070, 'typical': 3071, 'accelerated': 3072, 'backup': 3073, 'philosophy': 3074, 'subsets': 3075, 'participation': 3076, 'square': 3077, 'succinct': 3078, 'velocity': 3079, 'hit': 3080, 'recognize': 3081, 'plagiarism': 3082, 'given': 3083, 'ajax': 3084, 'cryptographically': 3085, 'era': 3086, 'implicatures': 3087, 'bipartite': 3088, 'thumb': 3089, 'thought': 3090, 'has': 3091, 'discontinuities': 3092, 'narratives': 3093, 'developer': 3094, 'mashup': 3095, 'sampled': 3096, 'hypertree': 3097, 'third': 3098, 'valid': 3099, 'delivering': 3100, 'metatheory': 3101, 'overload': 3102, 'garden': 3103, 'female': 3104, 'broadening': 3105, 'categorisation': 3106, 'descriptors': 3107, 'title': 3108, 'effectively': 3109, 'chunking': 3110, 'mixing': 3111, 'dense': 3112, 'rime': 3113, 'extensional': 3114, 'imbalanced': 3115, 'insight': 3116, 'configuring': 3117, 'versioned': 3118, 'competition': 3119, 'multiway': 3120, 'tournament': 3121, 'equilibrium': 3122, 'abstracts': 3123, 'cots': 3124, 'soar': 3125, 'conjunctions': 3126, 'eliciting': 3127, 'conference': 3128, 'translate': 3129, 'laplacian': 3130, 'nf2': 3131, 'perceptual': 3132, 'evolvable': 3133, 'talk': 3134, 'normalizing': 3135, 'compiled': 3136, 'invention': 3137, 'vehicles': 3138, 'oodbms': 3139, 'puzzle': 3140, 'benefit': 3141, 'episodes': 3142, 'give': 3143, 'whose': 3144, 'portability': 3145, 'universities': 3146, 'throughout': 3147, 'reminiscences': 3148, 'influential': 3149, 'folding': 3150, 'child': 3151, 'leak': 3152, 'formulating': 3153, 'enabled': 3154, 'systolic': 3155, 'rue': 3156, 'cells': 3157, 'culture': 3158, 'encapsulation': 3159, 'comprehensibility': 3160, 'substructure': 3161, 'hyperlinks': 3162, 'nomadic': 3163, 'schedules': 3164, 'hypothetical': 3165, 'spin': 3166, 'disambiguating': 3167, 'aspectual': 3168, 'layers': 3169, 'philosophers': 3170, 'cancer': 3171, 'securing': 3172, 'unbounded': 3173, 'specialized': 3174, 'scattergather': 3175, 'adequacy': 3176, 'thin': 3177, 'turning': 3178, 'bed': 3179, 'verified': 3180, 'interpolation': 3181, 'recommending': 3182, 'packages': 3183, 'various': 3184, 'certification': 3185, 'causality': 3186, 'sections': 3187, 'hide': 3188, 'choose': 3189, 'bdds': 3190, 'learnability': 3191, 'slam': 3192, 'odmg': 3193, 'naming': 3194, 'every': 3195, 'visualizations': 3196, 'capacity': 3197, 'internationalization': 3198, 'subclass': 3199, 'multilabel': 3200, 'manifesto': 3201, 'covers': 3202, 'nulls': 3203, 'discriminating': 3204, 'multiplication': 3205, 'anomalous': 3206, 'guessing': 3207, 'reversing': 3208, 'bloom': 3209, 'covariance': 3210, 'ownership': 3211, 'cc': 3212, 'translators': 3213, 'whom': 3214, 'markers': 3215, 'preparation': 3216, 'hci': 3217, 'angle': 3218, 'populated': 3219, 'ratings': 3220, 'lifecycle': 3221, 'basket': 3222, 'removing': 3223, 'iconic': 3224, 'times': 3225, 'treating': 3226, 'propositions': 3227, 'opportunistic': 3228, 'brokering': 3229, 'faculty': 3230, 'discipline': 3231, 'groupware': 3232, 'iterator': 3233, 'wild': 3234, 'remarks': 3235, 'construct': 3236, 'phoneme': 3237, 'educators': 3238, 'marketplace': 3239, 'contour': 3240, 'closest': 3241, 'contribution': 3242, 'preferential': 3243, 'acquired': 3244, 'adaboost': 3245, 'start': 3246, 'simulating': 3247, 'hindi': 3248, 'illinois': 3249, 'sessions': 3250, 'volume': 3251, '99': 3252, 'improves': 3253, 'haskell': 3254, 'diversification': 3255, 'keyframe': 3256, 'iii': 3257, 'folksonomy': 3258, 'car': 3259, 'holdem': 3260, 'removal': 3261, 'anti': 3262, 'converting': 3263, 'bagging': 3264, 'kdd': 3265, 'reclamation': 3266, 'displays': 3267, 'raid': 3268, 'genome': 3269, 'banner': 3270, 'national': 3271, 'monotonicity': 3272, 'innovative': 3273, 'retrieve': 3274, 'autoepistemic': 3275, 'microprocessor': 3276, 'overlap': 3277, 'folksonomies': 3278, 'informal': 3279, 'multifaceted': 3280, 'create': 3281, 'minority': 3282, 'material': 3283, 'sap': 3284, 'coefficient': 3285, 'connectives': 3286, 'v': 3287, 'hunt': 3288, 'person': 3289, 'manifolds': 3290, 'medium': 3291, 'grading': 3292, 'isometric': 3293, 'thesauri': 3294, 'talking': 3295, 'intervals': 3296, 'forest': 3297, 'coral': 3298, 'revolution': 3299, 'detectors': 3300, 'equational': 3301, 'gps': 3302, 'cell': 3303, 'behind': 3304, 'qualifiers': 3305, 'gold': 3306, 'actor': 3307, 'union': 3308, 't': 3309, 'fitting': 3310, 'du': 3311, 'oral': 3312, 'uses': 3313, 'primary': 3314, 'round': 3315, 'repair': 3316, 'coalescing': 3317, 'supports': 3318, 'them': 3319, 'representative': 3320, 'intonational': 3321, 'spreadsheet': 3322, 'convolution': 3323, 'truth': 3324, 'penalty': 3325, 'spilling': 3326, 'dec': 3327, 'theme': 3328, 'bucket': 3329, 'evidential': 3330, 'restart': 3331, 'tpc': 3332, 'bodies': 3333, 'chaining': 3334, 'schemata': 3335, 'still': 3336, 'decidability': 3337, 'according': 3338, 'integrator': 3339, 'nouns': 3340, 'simulated': 3341, 'referencing': 3342, 'coherence': 3343, 'exist': 3344, 'dag': 3345, 'erp': 3346, 'datr': 3347, 'adapted': 3348, 'island': 3349, 'jungle': 3350, 'customizing': 3351, 'overhead': 3352, 'positions': 3353, 'freshman': 3354, 'singular': 3355, 'follow': 3356, 'rationale': 3357, 'taint': 3358, 'aging': 3359, 'promotion': 3360, 'freely': 3361, 'redescription': 3362, 'replay': 3363, 'reconfigurable': 3364, 'economics': 3365, 'parsimonious': 3366, 'positives': 3367, 'scanning': 3368, 'scientists': 3369, 'superoptimizer': 3370, 'lsh': 3371, 'grace': 3372, 'classic': 3373, 'freshmen': 3374, 'mindstorms': 3375, 'disaster': 3376, 'african': 3377, 'american': 3378, 'him': 3379, 'broadcasts': 3380, 'backjumping': 3381, 'ria': 3382, 'ap': 3383, 'ndcg': 3384, 'calendar': 3385, 'pushdown': 3386, 'clique': 3387, 'letting': 3388, 'cat': 3389, 'say': 3390, 'defects': 3391, 'eufid': 3392, 'after': 3393, 'kernelized': 3394, 'viewed': 3395, 'w3qs': 3396, 'survivability': 3397, 'ethical': 3398, 'accounting': 3399, 'inspired': 3400, 'tutors': 3401, 'health': 3402, 'von': 3403, 'interestingness': 3404, 'emotional': 3405, 'certified': 3406, 'pronouns': 3407, 'maintain': 3408, 'echo': 3409, 'anticipating': 3410, 'harmonic': 3411, 'variational': 3412, 'junction': 3413, 'asymmetric': 3414, 'decomposing': 3415, 'outsourcing': 3416, 'fixpoints': 3417, 'firing': 3418, 'coalitions': 3419, 'macros': 3420, 'exponentially': 3421, 'animations': 3422, 'sift': 3423, 'privatization': 3424, 'oo': 3425, 'hilbert': 3426, 'mosaic': 3427, 'mark': 3428, 'queueing': 3429, 'subtypes': 3430, 'optimisation': 3431, 'respond': 3432, 'performances': 3433, 'telegraph': 3434, 'indicators': 3435, 'newton': 3436, 'smooth': 3437, 'payment': 3438, 'repairing': 3439, 'dls': 3440, 'analysing': 3441, 'cohesion': 3442, 'summarisation': 3443, 'schemasql': 3444, 'guest': 3445, 'skip': 3446, 'prune': 3447, 'cosine': 3448, 'reconsideration': 3449, 'judgements': 3450, 'worst': 3451, 'subtype': 3452, 'care': 3453, 'cpu': 3454, 'orchestra': 3455, 'unusual': 3456, 'terabyte': 3457, 'sized': 3458, 'shaping': 3459, 'formally': 3460, 'interpreted': 3461, 'agree': 3462, 'identifiability': 3463, 'geographically': 3464, 'supervision': 3465, 'statistically': 3466, 'lookup': 3467, 'simplification': 3468, 'apply': 3469, 'catching': 3470, 'myths': 3471, 'days': 3472, 'stride': 3473, 'department': 3474, 'thai': 3475, 'ccgbank': 3476, 'little': 3477, 'responses': 3478, 'ultra': 3479, 'dyadic': 3480, 'captions': 3481, 'existential': 3482, 'intentional': 3483, 'metu': 3484, 'satisfiable': 3485, 'workbench': 3486, 'handwritten': 3487, 'circumscribing': 3488, 'isomorphism': 3489, 'zoo': 3490, 'centrality': 3491, 'sketched': 3492, 'acceleration': 3493, 'revised': 3494, 'cyc': 3495, 'prioritization': 3496, 'implement': 3497, 'scalability': 3498, 'increase': 3499, 'realising': 3500, 'syntactified': 3501, 'backwards': 3502, 'controllers': 3503, 'fairness': 3504, 'perceived': 3505, 'stock': 3506, 'misuse': 3507, 'bigrams': 3508, 'combinator': 3509, 'variability': 3510, 'budget': 3511, 'plots': 3512, 'speculation': 3513, 'formulations': 3514, 'crawlers': 3515, 'diam': 3516, 'texture': 3517, 'assign': 3518, 'gist': 3519, 'knowledgeable': 3520, 'per': 3521, 'affinity': 3522, 'regeneration': 3523, 'acronym': 3524, 'credit': 3525, 'clp': 3526, '95': 3527, 'nuggets': 3528, 'definitional': 3529, 'trained': 3530, 'pearl': 3531, 'prefix': 3532, 'atoms': 3533, 'reconciling': 3534, 'clarification': 3535, 'guiding': 3536, 'impaired': 3537, 'thumbs': 3538, 'compacting': 3539, 'cf': 3540, 'diagnosability': 3541, '6': 3542, 'leakage': 3543, 'quantiles': 3544, 'subjective': 3545, 'affect': 3546, 'xprs': 3547, 'selections': 3548, 'gossiping': 3549, 'unnesting': 3550, 'member': 3551, 'devise': 3552, 'dialect': 3553, 'maybe': 3554, 'section': 3555, 'actively': 3556, 'steroids': 3557, 'mention': 3558, 'maxent': 3559, 'reciprocal': 3560, 'accents': 3561, 'suppressed': 3562, 'rooted': 3563, 'par': 3564, 'le': 3565, 'taken': 3566, 'dom': 3567, 'freeness': 3568, 'indivisible': 3569, 'mailing': 3570, 'regulatory': 3571, 'mine': 3572, 'alc': 3573, 'ratio': 3574, 'qos': 3575, 'incompleteness': 3576, 'degrees': 3577, 'freedom': 3578, 'immune': 3579, 'rasdaman': 3580, 'exercises': 3581, 'disambiguate': 3582, 'chatting': 3583, 'collectors': 3584, 'disequilibrium': 3585, 'sloan': 3586, 'oop': 3587, 'topically': 3588, 'discount': 3589, 'critiquing': 3590, 'occlusion': 3591, 'shapelets': 3592, 'interrupts': 3593, 'ddb': 3594, 'nature': 3595, 'logically': 3596, 'wallet': 3597, 'seemed': 3598, 'spill': 3599, 'tumor': 3600, 'reaching': 3601, 'motivational': 3602, 'unsatisfiability': 3603, 'drawings': 3604, 'magnitude': 3605, 'fix': 3606, 'delimited': 3607, 'heads': 3608, 'graduates': 3609, 'compatible': 3610, 'tight': 3611, 'auc': 3612, 'pareto': 3613, 'maturity': 3614, 'gradual': 3615, 'addition': 3616, 'studio': 3617, 'tying': 3618, 'subquery': 3619, 'disc': 3620, 'subtopic': 3621, 'fresh': 3622, 'marginal': 3623, 'coordinates': 3624, 'channels': 3625, 'drug': 3626, 'sequoia': 3627, 'prefer': 3628, 'observer': 3629, 'costly': 3630, 'explainable': 3631, 'tactical': 3632, 'storing': 3633, 'administration': 3634, 'compete': 3635, 'superscalar': 3636, 'superimposed': 3637, 'subsumers': 3638, 'eportal': 3639, 'empirically': 3640, 'janus': 3641, 'centers': 3642, 'offering': 3643, 'verbmobil': 3644, 'coach': 3645, 'antlima': 3646, 'autonomy': 3647, 'even': 3648, 'managers': 3649, 'paragraph': 3650, 'rectangle': 3651, 'kronecker': 3652, 'burst': 3653, 'behavioural': 3654, 'justification': 3655, 'dominators': 3656, 'banking': 3657, 'genes': 3658, 'wildcards': 3659, 'surf': 3660, 'height': 3661, 'cougar': 3662, 'lrtak': 3663, 'metonymy': 3664, 'developed': 3665, 'cascaded': 3666, 'tutor': 3667, 'adjustment': 3668, 'pac': 3669, 'planners': 3670, 'dbs': 3671, 'my': 3672, 'swing': 3673, 'xtra': 3674, 'semidefinite': 3675, 'corba': 3676, 'connect': 3677, 'yield': 3678, 'differing': 3679, 'address': 3680, 'animate': 3681, 'lexicalised': 3682, 'advance': 3683, 'organizer': 3684, 'ltag': 3685, 'ephemeral': 3686, 'martingale': 3687, 'calling': 3688, 'predicted': 3689, 'cape': 3690, 'advisor': 3691, 'wrap': 3692, 'fluid': 3693, 'externalities': 3694, 'psychology': 3695, 'translator': 3696, 'gait': 3697, 'intellectual': 3698, 'basics': 3699, 'instructors': 3700, 'striping': 3701, 'thresholds': 3702, 'delay': 3703, 'scripts': 3704, 'bridge': 3705, 'philosophical': 3706, 'modest': 3707, 'influencing': 3708, 'constraining': 3709, 'oss': 3710, 'encouraging': 3711, 'achievement': 3712, 'gmap': 3713, 'huge': 3714, 'uncovering': 3715, 'blogscope': 3716, 'outer': 3717, 'california': 3718, 'railroad': 3719, 'scopes': 3720, 'lilog': 3721, 'vdm': 3722, 'strudel': 3723, 'eos': 3724, 'targeted': 3725, 'paradigmatic': 3726, 'timing': 3727, 'counterfactuals': 3728, 'lingo': 3729, 'checkpoints': 3730, 'longevity': 3731, 'dbmss': 3732, 'limiting': 3733, 'preferred': 3734, 'dialectical': 3735, 'unexpected': 3736, 'platforms': 3737, 'multinomial': 3738, 'repeated': 3739, 'associating': 3740, 'perceptions': 3741, 'entropic': 3742, 'paging': 3743, 'fetches': 3744, 'authentication': 3745, 'investment': 3746, 'extensive': 3747, 'populations': 3748, 'inapplicable': 3749, 'storm': 3750, 'introspection': 3751, 'disjunction': 3752, 'convergent': 3753, 'plsa': 3754, 'deepening': 3755, 'workplace': 3756, 'inexpensive': 3757, 'factoid': 3758, 'observational': 3759, 'reasoners': 3760, 'magnetic': 3761, 'strictly': 3762, 'inlining': 3763, 'mcdb': 3764, 'modifying': 3765, 'intermittently': 3766, 'scans': 3767, 'bandwidth': 3768, 'hints': 3769, 'informatics': 3770, 'backbones': 3771, 'backdoors': 3772, 'tac': 3773, 'passages': 3774, 'direction': 3775, 'atlas': 3776, 'maze': 3777, 'targets': 3778, 'unfamiliar': 3779, 'clip': 3780, 'participants': 3781, 'lattices': 3782, 'determine': 3783, 'subgoal': 3784, 'systemt': 3785, 'accent': 3786, 'architecting': 3787, 'gesture': 3788, 'truncated': 3789, 'circular': 3790, 'sublanguage': 3791, 'incentive': 3792, 'synchronisation': 3793, 'damping': 3794, 'exclusion': 3795, 'modularization': 3796, 'phonemes': 3797, 'z': 3798, 'idlp': 3799, 'dnnf': 3800, 'relatively': 3801, 'redundancies': 3802, 'propbank': 3803, 'mentions': 3804, 'notification': 3805, 'parametricity': 3806, 'revelation': 3807, 'return': 3808, 'densification': 3809, 'crowds': 3810, 'decomposability': 3811, 'disseminating': 3812, 'linearizing': 3813, 'amazons': 3814, 'itemset': 3815, 'debate': 3816, 'malware': 3817, 'gray': 3818, 'offs': 3819, 'money': 3820, 'crimes': 3821, 'forum': 3822, 'gradients': 3823, 'gibbs': 3824, 'fun': 3825, 'convenient': 3826, 'motor': 3827, 'typechecking': 3828, 'ended': 3829, 'linker': 3830, 'astral': 3831, 'connectors': 3832, 'guidelines': 3833, 'motifs': 3834, 'resiliency': 3835, 'oil': 3836, 'equipment': 3837, 'accelerator': 3838, 'previews': 3839, 'spider': 3840, 'prioritizing': 3841, 'quadratically': 3842, 'figures': 3843, 'commitments': 3844, 'jawaa': 3845, 'formations': 3846, 'adaptivity': 3847, 'oid': 3848, 'european': 3849, 'abstracting': 3850, 'may': 3851, 'want': 3852, 'experiencing': 3853, 'idioms': 3854, 'drawing': 3855, 'literal': 3856, 'cryptographic': 3857, 'percentile': 3858, 'runs': 3859, 'revenue': 3860, 'branches': 3861, 'led': 3862, 'deduplication': 3863, 'intents': 3864, 'overlapped': 3865, 'quantifiers': 3866, 'translational': 3867, 'derivatives': 3868, 'miss': 3869, 'assertions': 3870, 'eth': 3871, 'zurich': 3872, 'synopsis': 3873, 'perplexity': 3874, 'subset': 3875, 'mars': 3876, 'customers': 3877, 'boat': 3878, 'el': 3879, 'bcnf': 3880, 'institutions': 3881, 'quizzes': 3882, 'reaction': 3883, 'circuit': 3884, 'burstiness': 3885, 'enriching': 3886, 'publish': 3887, 'subscribe': 3888, 'negotiating': 3889, 'five': 3890, 'ten': 3891, 'decide': 3892, 'whether': 3893, 'schedule': 3894, 'continuously': 3895, 'carrier': 3896, 'hiv': 3897, 'therapy': 3898, 'valency': 3899, 'pedagogical': 3900, 'competing': 3901, 'reserve': 3902, 'prices': 3903, 'bids': 3904, 'cellular': 3905, 'positional': 3906, 'bubble': 3907, 'enactment': 3908, 'acoustic': 3909, 'spotting': 3910, 'constituents': 3911, 'indian': 3912, 'explorer': 3913, 'rationality': 3914, 'formatting': 3915, 'teamwork': 3916, 'intra': 3917, 'curves': 3918, 'rendering': 3919, 'espresso': 3920, 'harvesting': 3921, 'conjunction': 3922, 'vldb': 3923, 'measured': 3924, 'vectorization': 3925, 'tail': 3926, 'shilling': 3927, 'profit': 3928, 'prima': 3929, 'airphys': 3930, 'wheel': 3931, 'encompass': 3932, 'radar': 3933, 'microcomputer': 3934, 'distributive': 3935, 'stereotype': 3936, 'cinematic': 3937, 'weather': 3938, 'forecasts': 3939, 'codd': 3940, 'fp': 3941, 'residual': 3942, 'wall': 3943, 'abnormality': 3944, 'recording': 3945, 'reasons': 3946, 'roll': 3947, 'requires': 3948, 'accelerate': 3949, 'lifting': 3950, 'srl': 3951, 'pathfinder': 3952, 'holmes': 3953, 'enity': 3954, 'satisfy': 3955, 'certain': 3956, 'topss': 3957, 'nonstop': 3958, 'players': 3959, 'disruptions': 3960, 'discoveries': 3961, 'trie': 3962, 'tokens': 3963, 'hierarchic': 3964, 'truthful': 3965, 'climbing': 3966, 'slices': 3967, 'successive': 3968, 'updated': 3969, 'simplicity': 3970, 'prospects': 3971, 'token': 3972, 'partitions': 3973, 'metaphors': 3974, 'securely': 3975, 'embracing': 3976, 'warping': 3977, 'markup': 3978, 'xxl': 3979, 'implicitly': 3980, 'centroid': 3981, 'pcfg': 3982, 'rethinking': 3983, 'eca': 3984, 'ida': 3985, 'euclidean': 3986, 'mereological': 3987, 'insertion': 3988, 'restoration': 3989, 'semitic': 3990, 'odometry': 3991, 'id': 3992, 'exogenous': 3993, 'markovian': 3994, 'navigator': 3995, 'black': 3996, 'ride': 3997, 'xslt': 3998, '4th': 3999, 'achievements': 4000, 'xrpc': 4001, 'photographs': 4002, 'container': 4003, 'reviewers': 4004, 'isomorphisms': 4005, 'prove': 4006, 'url': 4007, 'cliques': 4008, 'efficacy': 4009, 'reexamining': 4010, 'complementary': 4011, 'fourth': 4012, 'polysemy': 4013, 'man': 4014, 'repeats': 4015, 'repeat': 4016, 'yahoos': 4017, 'rough': 4018, 'insights': 4019, 'close': 4020, 'splines': 4021, 'also': 4022, 'necessary': 4023, 'weakest': 4024, 'sufficient': 4025, 'comic': 4026, 'surrogate': 4027, 'synergistic': 4028, 'commentary': 4029, 'recompilation': 4030, 'water': 4031, 'repetition': 4032, 'crawl': 4033, 'marked': 4034, 'problematic': 4035, 'deferred': 4036, 'inferential': 4037, 'cpus': 4038, 'unify': 4039, 'multiview': 4040, 'enforce': 4041, 'se': 4042, 'ramifications': 4043, 'qualifications': 4044, 'smash': 4045, 'interruptions': 4046, 'configurable': 4047, 'sigmod': 4048, 'j2ee': 4049, 'normality': 4050, 'literate': 4051, 'designer': 4052, 'dags': 4053, 'tiered': 4054, 'marking': 4055, 'rural': 4056, 'th': 4057, 'netflix': 4058, 'prize': 4059, 'unifies': 4060, 'audit': 4061, 'parent': 4062, 'unaware': 4063, 'gsp': 4064, 'mixin': 4065, 'windowed': 4066, 'interrupted': 4067, 'musical': 4068, 'ancient': 4069, 'mrfs': 4070, 'triple': 4071, 'beginners': 4072, 'harder': 4073, 'having': 4074, 'surprising': 4075, 'protection': 4076, 'restful': 4077, 'contrasting': 4078, 'earley': 4079, 'cryptanalysis': 4080, 'consciousness': 4081, 'widening': 4082, 'contraction': 4083, 'clickstreams': 4084, 'successes': 4085, 'oov': 4086, 'compute': 4087, 'generics': 4088, 'oracle8i': 4089, 'binarization': 4090, 'apache': 4091, 'phylogenetic': 4092, 'humming': 4093, 'epic': 4094, 'homogeneous': 4095, 'coordinated': 4096, 'backdoor': 4097, 'upon': 4098, 'assist': 4099, 'retaining': 4100, 'configurations': 4101, 'apparent': 4102, 'book': 4103, 'gestalt': 4104, 'indonesian': 4105, 'salient': 4106, 'deadline': 4107, 'predictability': 4108, 'preserves': 4109, 'being': 4110, 'monads': 4111, 'probing': 4112, 'away': 4113, 'homepage': 4114, 'begin': 4115, 'permanent': 4116, 'morph': 4117, 'kinds': 4118, 'compilability': 4119, 'seek': 4120, 'death': 4121, 'inconsistencies': 4122, 'integrative': 4123, 'condition': 4124, 'realisation': 4125, 'selected': 4126, 'cohesive': 4127, 'bracketed': 4128, 'observing': 4129, 'adtrees': 4130, 'winwin': 4131, 'hopfield': 4132, 'existence': 4133, 'rss': 4134, 'stm': 4135, 'inventories': 4136, 'interleaved': 4137, 'allens': 4138, 'plsi': 4139, 'bilexical': 4140, 'extent': 4141, 'combating': 4142, 'air': 4143, 'recommend': 4144, 'assumption': 4145, 'matcher': 4146, 'powered': 4147, 'segmented': 4148, 'unsegmented': 4149, 'stanford': 4150, 'emphasizing': 4151, 'signs': 4152, 'geotagging': 4153, 'serf': 4154, 'secret': 4155, 'format': 4156, 'box': 4157, 'titles': 4158, 'advancement': 4159, 'taggers': 4160, 'asknet': 4161, 'species': 4162, 'meet': 4163, 'fail': 4164, 'personalize': 4165, 'onboard': 4166, 'penn': 4167, 'multigram': 4168, 'sigma': 4169, 'misses': 4170, 'contradiction': 4171, 'exam': 4172, 'coming': 4173, 'age': 4174, 'xtract': 4175, '2002': 4176, 'japan': 4177, 'occurrences': 4178, 'entries': 4179, 'icon': 4180, 'timeline': 4181, 'movement': 4182, 'urban': 4183, 'city': 4184, 'looking': 4185, 'glass': 4186, 'front': 4187, 'cardinalities': 4188, 'reconciliation': 4189, 'blocks': 4190, 'scales': 4191, 'ends': 4192, 'preventing': 4193, 'learns': 4194, 'isolated': 4195, '0': 4196, 'constructivist': 4197, 'compress': 4198, 'interleaving': 4199, 'dissimilarity': 4200, 'moment': 4201, 'delegation': 4202, 'desires': 4203, 'intentions': 4204, 'invariance': 4205, 'reviewing': 4206, 'crisis': 4207, 'currying': 4208, 'reservoir': 4209, 'tale': 4210, 'multicomputer': 4211, 'winning': 4212, 'senseclusters': 4213, 'asymmetry': 4214, 'wrappers': 4215, 'transferring': 4216, 'vocabularies': 4217, 'crowdsourcing': 4218, 'controllability': 4219, 'longest': 4220, 'canadian': 4221, 'traveller': 4222, 'move': 4223, 'joining': 4224, 'deducing': 4225, 'mcmc': 4226, 'minimally': 4227, 'solvers': 4228, 'created': 4229, 'separate': 4230, 'borealis': 4231, 'accounts': 4232, 'frequencies': 4233, 'respect': 4234, 'untrusted': 4235, 'iid': 4236, 'seeing': 4237, 'dbo': 4238, 'delaying': 4239, 'photos': 4240, 'isnt': 4241, 'slot': 4242, 'fielded': 4243, 'neighboring': 4244, 'orthographic': 4245, 'kanji': 4246, 'determinism': 4247, 'contingency': 4248, 'strips': 4249, 'thing': 4250, 'genomes': 4251, 'pspace': 4252, 'mined': 4253, 'apples': 4254, 'agility': 4255, 'confusion': 4256, 'working': 4257, 'obtaining': 4258, 'affine': 4259, 'equalities': 4260, 'sonar': 4261, 'electrical': 4262, 'dtds': 4263, 'hungarian': 4264, 'calculations': 4265, 'risky': 4266, 'modulo': 4267, 'recorded': 4268, 'ner': 4269, 'sphere': 4270, 'loose': 4271, 'golog': 4272, 'surveillance': 4273, 'keep': 4274, 'systemic': 4275, 'intensity': 4276, 'calibration': 4277, 'adapt': 4278, 'expansions': 4279, 'monotone': 4280, 'shiq': 4281, 'primitive': 4282, 'influences': 4283, 'agglutinative': 4284, 'mirroring': 4285, 'urbana': 4286, 'champaign': 4287, 'needed': 4288, 'vr': 4289, 'throughput': 4290, 'scrolling': 4291, 'hardness': 4292, 'limitations': 4293, 'plausible': 4294, 'reformulations': 4295, 'fluent': 4296, 'marker': 4297, 'artifacts': 4298, 'clips': 4299, 'intonation': 4300, 'rufus': 4301, 'texas': 4302, 'contours': 4303, 'voted': 4304, 'labelling': 4305, 'larger': 4306, 'artists': 4307, 'contact': 4308, 'ancestors': 4309, 'grna': 4310, 'multiobjective': 4311, 'sealed': 4312, 'initialization': 4313, 'lead': 4314, 'explanatory': 4315, 'hyperparameter': 4316, 'copying': 4317, 'compliant': 4318, 'elastic': 4319, 'visible': 4320, 'employing': 4321, 'backward': 4322, 'recursively': 4323, 'narrative': 4324, 'ticket': 4325, 'allowing': 4326, 'debates': 4327, 'spots': 4328, 'emergence': 4329, 'matter': 4330, 'u': 4331, 'obtain': 4332, 'pools': 4333, 'vertically': 4334, 'browsers': 4335, 'refresh': 4336, 'equal': 4337, 'incorporation': 4338, 'mesh': 4339, 'supply': 4340, 'cope': 4341, 'fill': 4342, 'decomposable': 4343, 'lesson': 4344, 'tablet': 4345, 'spanning': 4346, 'dissimilarities': 4347, 'bea': 4348, 'oblivious': 4349, '2nd': 4350, 'spread': 4351, 'c45': 4352, 'oar': 4353, 'tolerance': 4354, 'r3': 4355, 'dynalab': 4356, 'check': 4357, 'multiplicative': 4358, 'dutch': 4359, 'cis': 4360, 'described': 4361, 'gr8': 4362, 'executive': 4363, 'twitter': 4364, 'faster': 4365, 'upper': 4366, 'nonlocal': 4367, 'facial': 4368, 'photo': 4369, 'things': 4370, 'multiuser': 4371, 'collusion': 4372, 'trenches': 4373, 'czech': 4374, 'grammatically': 4375, 'pro': 4376, 'automaton': 4377, 'memex': 4378, 'cfg': 4379, 'shading': 4380, 'aggregations': 4381, 'structurally': 4382, 'landmarks': 4383, 'lineage': 4384, 'compounds': 4385, 'adjuncts': 4386, 'substitutions': 4387, 'personalised': 4388, 'damia': 4389, 'fit': 4390, 'sm3': 4391, 'toolbox': 4392, 'separating': 4393, 'roots': 4394, 'aggregated': 4395, 'combinational': 4396, 'canonical': 4397, 'objectives': 4398, 'pulse': 4399, 'fad': 4400, 'adaptively': 4401, 'addressable': 4402, 'introduce': 4403, 'recapture': 4404, 'fluency': 4405, 'metarules': 4406, 'neat': 4407, 'storytelling': 4408, 'terminal': 4409, 'votes': 4410, 'institute': 4411, 'prefetch': 4412, 'aspectj': 4413, 'forums': 4414, 'shedding': 4415, 'intuition': 4416, 'neuroevolution': 4417, 'psi': 4418, 'calculation': 4419, 'swoogle': 4420, 'professional': 4421, 'patr': 4422, 'commutativity': 4423, 'anchors': 4424, 'conventional': 4425, 'outerjoin': 4426, 'agglomerative': 4427, 'contingent': 4428, 'flight': 4429, 'insensitive': 4430, 'usable': 4431, 'additional': 4432, 'kaleidoscope': 4433, '15': 4434, 'raw': 4435, 'matchmaking': 4436, 'posts': 4437, 'synchronizing': 4438, 'usefulness': 4439, 'overflows': 4440, 'precedence': 4441, 'conformance': 4442, 'reflective': 4443, 'clash': 4444, 'intuitions': 4445, 'vulnerabilities': 4446, 'textes': 4447, 'lexique': 4448, '80': 4449, 'rebuild': 4450, 'dining': 4451, 'directly': 4452, 'backed': 4453, 'postprocessing': 4454, 'encoded': 4455, '2d': 4456, 'beam': 4457, 'consequences': 4458, 'opponent': 4459, 'outreach': 4460, 'wish': 4461, 'targeting': 4462, 'audiovideo': 4463, 'mac': 4464, 'asymmetrical': 4465, 'ds': 4466, 'nodose': 4467, 'rigid': 4468, 'morpheus': 4469, 'scan': 4470, 'pl': 4471, 'thanks': 4472, 'anonymization': 4473, 'newsgroups': 4474, 'synonyms': 4475, 'guidance': 4476, 'polyphonic': 4477, 'mongolian': 4478, 'exploit': 4479, 'lp': 4480, 'norms': 4481, 'multirelational': 4482, 'ambient': 4483, 'untagged': 4484, 'symbols': 4485, 'avoid': 4486, 'guaranteeing': 4487, 'weblog': 4488, '7': 4489, 'six': 4490, 'essay': 4491, 'positioning': 4492, 'deployed': 4493, 'tenth': 4494, 'revising': 4495, 'themed': 4496, 'histories': 4497, 'trio': 4498, 'theres': 4499, 'taming': 4500, 'funnel': 4501, 'nombank': 4502, 'queuing': 4503, 'collected': 4504, 'denial': 4505, 'zooming': 4506, 'proposing': 4507, 'paid': 4508, 'imperatives': 4509, 'alphanumeric': 4510, 'watermarking': 4511, 'isomorphic': 4512, 'replicator': 4513, 'selectional': 4514, 'x86': 4515, 'sg': 4516, 'ternary': 4517, 'sampler': 4518, 'dp': 4519, 'multikey': 4520, 'stretching': 4521, 'clearing': 4522, 'fidelity': 4523, 'imposition': 4524, 'sector': 4525, 'biases': 4526, 'assessments': 4527, 'curb': 4528, 'engagement': 4529, 'chess': 4530, 'approximators': 4531, 'redesign': 4532, 'bushy': 4533, 'feasible': 4534, 'anticipation': 4535, 'assess': 4536, 'threading': 4537, 'ungrammatical': 4538, 'organic': 4539, 'licensing': 4540, 'sirius': 4541, 'formalizing': 4542, 'dominator': 4543, 'cuts': 4544, 'detector': 4545, 'interpersonal': 4546, 'cleanroom': 4547, 'oversubscribed': 4548, 'highlight': 4549, 'phrasing': 4550, 'categorized': 4551, 'broker': 4552, '2009': 4553, 'shortcut': 4554, 'flux': 4555, 'references': 4556, 'featuring': 4557, 'formalized': 4558, 'clientserver': 4559, 'websites': 4560, 'dtls': 4561, 'dataspot': 4562, 'applicability': 4563, 'since': 4564, 'vliw': 4565, 'body': 4566, 'adhoc': 4567, 'raid5': 4568, 'captcha': 4569, 'healing': 4570, 'attempt': 4571, 'duplicates': 4572, 'patients': 4573, 'programmable': 4574, 'animating': 4575, 'wait': 4576, 'fisher': 4577, 'brute': 4578, 'recruitment': 4579, 'cite': 4580, 'scholarly': 4581, 'stacking': 4582, 'copyright': 4583, 'seamless': 4584, 'buy': 4585, 'whitebox': 4586, 'fuzzing': 4587, 'receptive': 4588, 'anyway': 4589, 'caches': 4590, 'sparql': 4591, 'immersive': 4592, 'spamming': 4593, 'bookmarking': 4594, 'numbering': 4595, 'effortless': 4596, 'funbase': 4597, 'feaspar': 4598, 'scenic': 4599, 'webanywhere': 4600, 'screen': 4601, 'exsearch': 4602, 'barter': 4603, 'aol': 4604, 'cryptanalytic': 4605, 'pseudorandom': 4606, 'nonexistence': 4607, 'usually': 4608, 'manipulate': 4609, 'contradictory': 4610, 'revival': 4611, 'mouse': 4612, 'rim': 4613, 'bsr': 4614, 'teg': 4615, 'localisation': 4616, 'blood': 4617, 'transfusion': 4618, 'porting': 4619, 'roadmap': 4620, 'members': 4621, 'survive': 4622, 'outlines': 4623, 'archived': 4624, 'span': 4625, 'envisioning': 4626, 'itineraries': 4627, 'wellmade': 4628, 't4sql': 4629, 'performamatics': 4630, 'taj': 4631, 'reorderable': 4632, 'freespan': 4633, 'jukebox': 4634, 'benign': 4635, 'racesallusing': 4636, 'dantes': 4637, 'decreased': 4638, 'rdbv1': 4639, 'inline': 4640, 'trains': 4641, 'marketed': 4642, 'denali': 4643, 'lexeme': 4644, 'computationaily': 4645, 'everything': 4646, 's81': 4647, 'zoomuserviews': 4648, 'latency': 4649, 'gess': 4650, 'interactively': 4651, 'wordnets': 4652, 'unbundling': 4653, 'psst': 4654, 'political': 4655, 'outcomes': 4656, 'hospital': 4657, 'disjoint': 4658, 'poor': 4659, 'cognates': 4660, 'added': 4661, 'abuse': 4662, 'signing': 4663, 'rsa': 4664, 'monkeys': 4665, 'millennial': 4666, 'classificatory': 4667, 'hyperbf': 4668, 'ipse': 4669, 'anyone': 4670, 'precluding': 4671, 'saiu': 4672, 'nrrc': 4673, 'bfnumdocs': 4674, 'thor': 4675, 'cmradar': 4676, 'pronunciations': 4677, 'wysiwyg': 4678, 'forwarding': 4679, 'shake': 4680, 'bake': 4681, 'paraccel': 4682, 'medusa': 4683, 'xsds': 4684, 'morphographemic': 4685, 'nonconcatenative': 4686, 'redefinitions': 4687, 'encountered': 4688, 'supercompilation': 4689, 'contrastive': 4690, 'encapsualtion': 4691, 'computerised': 4692, 'express': 4693, 'transposed': 4694, 'jasmin': 4695, 'societal': 4696, 'memoryless': 4697, 'polyphony': 4698, 'divergences': 4699, 'outsourced': 4700, 'bypass': 4701, 'aerospace': 4702, 'neumann': 4703, 'quantminer': 4704, 'micmac': 4705, 'microprogram': 4706, 'adon': 4707, 'experiencer': 4708, 'proquel': 4709, 'php': 4710, 'sqlxnf': 4711, 'reinforcing': 4712, 'cutting': 4713, '8th': 4714, 'manuals': 4715, 'neptune': 4716, 'netserf': 4717, 'medialife': 4718, 'chronicle': 4719, 'sin': 4720, 'algovista': 4721, 'doubly': 4722, 'biin': 4723, 'evaluability': 4724, 'serfing': 4725, 'cabob': 4726, 'fpgas': 4727, 'subtasks': 4728, 'fcl': 4729, 'tribute': 4730, 'memorial': 4731, 'fractionation': 4732, 'refractionation': 4733, 'swarm': 4734, 'adnoun': 4735, 'supernode': 4736, 'hypertalk': 4737, 'overture': 4738, 'flocks': 4739, 'set®': 4740, 'deformable': 4741, 'lrpd': 4742, 'pinwheel': 4743, 'sides': 4744, 'coin': 4745, 'anorexic': 4746, 'paranoids': 4747, 'semiautomatic': 4748, 'bb1': 4749, 'orkut': 4750, 'transductions': 4751, 'hyperqueries': 4752, 'immix': 4753, 'mutator': 4754, 'equi': 4755, 'personalisation': 4756, 'telecommunications': 4757, 'invalidation': 4758, 'cam': 4759, 'jazz': 4760, 'impure': 4761, 'reformatting': 4762, 'header': 4763, 'interferring': 4764, 'emulator': 4765, 'helpful': 4766, 'biclustering': 4767, 'pcfgs': 4768, 'machinima': 4769, 'impressionrank': 4770, 'sectioning': 4771, 'regex': 4772, 'card': 4773, 'swarms': 4774, 'defensive': 4775, 'climate': 4776, 'carefully': 4777, 'swizzling': 4778, 'webware': 4779, 'letter': 4780, 'especial': 4781, '1991': 4782, 'incentives': 4783, 'granularities': 4784, 'analogic': 4785, 'locker': 4786, 'extensiblerule': 4787, 'passenger': 4788, 'airline': 4789, 'apportioning': 4790, 'baffling': 4791, 'factual': 4792, 'situationactivation': 4793, 'bimodal': 4794, 'fingerprinting': 4795, 'gregress': 4796, 'ohsumed': 4797, 'hol': 4798, 'metapher': 4799, 'sniafl': 4800, 'period': 4801, 'compensations': 4802, 'overseas': 4803, 'discord': 4804, 'ablation': 4805, 'shadowed': 4806, 'predilection': 4807, 'topigraphy': 4808, 'vita': 4809, 'dlfm': 4810, 'boxing': 4811, 'symbology': 4812, 'arrangement': 4813, 'ensembling': 4814, 'affiliated': 4815, 'biwtl': 4816, 'useless': 4817, 'statistice': 4818, 'aspiration': 4819, 'cnn': 4820, 'idiolectic': 4821, 'doctor': 4822, 'matches': 4823, 'ao': 4824, 'sei': 4825, 'repartitioning': 4826, 'inspecting': 4827, 'placing': 4828, 'intensities': 4829, 'lars': 4830, 'recommenders': 4831, 'lexicalising': 4832, 'hat': 4833, 'diagrama': 4834, 'turbo': 4835, 'charging': 4836, 'spontaneously': 4837, 'dxq': 4838, 'dust': 4839, 'microeconomic': 4840, 'warp': 4841, 'routine': 4842, 'gio': 4843, 'cubetree': 4844, 'sesame': 4845, 'deceptively': 4846, 'ures': 4847, 'methodological': 4848, 'trey': 4849, 'tempus': 4850, 'fugit': 4851, 'winrdbi': 4852, 'refitting': 4853, 'slides': 4854, 'tabletpc': 4855, 'uncertainties': 4856, 'demonizing': 4857, 'symbol': 4858, 'sri': 4859, 'carpenter': 4860, 'representativeness': 4861, 'walkthroughs': 4862, 'icicles': 4863, 'ratios': 4864, 'abbreviations': 4865, 'dataplorer': 4866, 'edict': 4867, 'bumps': 4868, 'curvature': 4869, 'zodiac': 4870, 'federation': 4871, 'cim': 4872, 'migrating': 4873, 'electronics': 4874, 'quark': 4875, 'resampling': 4876, 'financially': 4877, 'encina': 4878, 'db2xml': 4879, 'representationalist': 4880, 'adlads': 4881, 'upperbounds': 4882, 'streamglobe': 4883, 'youre': 4884, 'turnstile': 4885, 'linda': 4886, 'spmt': 4887, 'rpj': 4888, 'admit': 4889, 'conspiracy': 4890, 'pid': 4891, 'plow': 4892, 'instrumentation': 4893, 'hyperfairness': 4894, 'monadic': 4895, 'eql': 4896, 'bounce': 4897, 'advertisements': 4898, 'slim': 4899, 'adequate': 4900, 'polylingual': 4901, 'spotsigs': 4902, 'melbourne': 4903, 'individualism': 4904, 'parameterizable': 4905, 'balance': 4906, 'vickrey': 4907, 'exchanges': 4908, 'chase': 4909, 'framenet': 4910, 'loadstore': 4911, 'solves': 4912, 'semiconductor': 4913, 'crosslingual': 4914, 'inside': 4915, 'giuku': 4916, 'utilities': 4917, 'camouflaged': 4918, 'horting': 4919, 'hatches': 4920, 'egg': 4921, 'exclaim': 4922, 'eden': 4923, 'cohersion': 4924, 'rated': 4925, 'master': 4926, 'substrate': 4927, 'davis': 4928, 'putnam': 4929, 'outerplanar': 4930, 'central': 4931, 'tip': 4932, 'informix': 4933, 'artdb': 4934, 'taxation': 4935, 'sustainable': 4936, 'chillers': 4937, 'functionally': 4938, 'rstar': 4939, 'concentration': 4940, 'ming': 4941, 'statix': 4942, 'automatized': 4943, 'dances': 4944, 'cause': 4945, 'checklist': 4946, 'nah': 4947, 'syndrome': 4948, 'sinuhe': 4949, 'ado': 4950, 'mediating': 4951, 'orientated': 4952, 'scarce': 4953, 'dialogic': 4954, 'walrus': 4955, 'redo': 4956, 'tolerating': 4957, 'disagreement': 4958, 'rapidity': 4959, 'started': 4960, 'p2cast': 4961, 'patching': 4962, 'symrnetric': 4963, 'rlsc': 4964, 'agony': 4965, 'interform': 4966, 'gas': 4967, 'turbine': 4968, 'proliant': 4969, 'multimode': 4970, 'summarize': 4971, 'universe': 4972, 'vista': 4973, 'mapgraph': 4974, 'labelled': 4975, 'cpcv': 4976, 'generations': 4977, 'overcome': 4978, 'developmentevolution': 4979, 'deeper': 4980, 'qrelx': 4981, 'geospatially': 4982, 'photograph': 4983, 'perf': 4984, 'bloomjoin': 4985, 'teapot': 4986, 'beaten': 4987, 'subword': 4988, 'critics': 4989, 'substantional': 4990, 'enclosing': 4991, 'balls': 4992, 'emoticons': 4993, 'eyed': 4994, 'stereo': 4995, 'archjava': 4996, 'crossing': 4997, 'controller': 4998, 'assembler': 4999, 'mrdsm': 5000, 'timer': 5001, 'alerters': 5002, 'lob': 5003, 'talisman': 5004, 'un': 5005, 'système': 5006, 'gouverné': 5007, 'lois': 5008, 'linguistiques': 5009, 'pour': 5010, 'traitement': 5011, 'langue': 5012, 'naturelle': 5013, 'mcs': 5014, 'reconstruct': 5015, 'ascription': 5016, 'dynamo': 5017, 'moded': 5018, 'prime': 5019, 'implicate': 5020, 'quantifiable': 5021, 'chatty': 5022, 'renderman': 5023, 'kernelizing': 5024, 'pls': 5025, 'memoization': 5026, 'fax': 5027, 'proda': 5028, 'ink': 5029, 'taco': 5030, 'statisticalscientific': 5031, 'bnchmark': 5032, 'ulixes': 5033, 'gpx': 5034, 'paradise': 5035, 'occasions': 5036, 'factorial': 5037, 'cgcexplorer': 5038, 'treedt': 5039, 'sdss': 5040, 'skyserver': 5041, 'exercising': 5042, 'handy': 5043, 'trac': 5044, 'selforganizing': 5045, 'reuters': 5046, 'poison': 5047, 'pills': 5048, 'miqis': 5049, 'chained': 5050, 'subdialogues': 5051, 'virtualized': 5052, 'seismic': 5053, 'treisman': 5054, 'workshops': 5055, 'rewards': 5056, 'hypothesized': 5057, 'asserting': 5058, 'preemptive': 5059, 'deoptimization': 5060, 'adms±': 5061, 'workstation': 5062, 'mainframe': 5063, 'gorder': 5064, '17th': 5065, 'inex': 5066, 'ferry': 5067, 'optics': 5068, 'infeasible': 5069, 'stanislavskian': 5070, 'dualminer': 5071, 'lung': 5072, 'markerless': 5073, 'gating': 5074, 'radiotherapy': 5075, 'cybercivics': 5076, 'gunsat': 5077, 'aktionsarten': 5078, 'gsat': 5079, 'urgent': 5080, 'subseries': 5081, 'movers': 5082, 'topp': 5083, 'comfort': 5084, 'korea': 5085, 'coa': 5086, 'patents': 5087, 'artemis': 5088, 'lagrangian': 5089, 'tails': 5090, 'struggles': 5091, 'recompression': 5092, 'carousel': 5093, 'morpiiemes': 5094, 'bellman': 5095, 'piloted': 5096, 'rmses': 5097, 'presenters': 5098, 'remembering': 5099, 'jule': 5100, 'neuro': 5101, 'muse': 5102, 'tricks': 5103, 'traps': 5104, 'initiating': 5105, 'opsm': 5106, 'epdl': 5107, 'dirty': 5108, 'contained': 5109, 'animated': 5110, 'winmagic': 5111, 'compilable': 5112, 'delicious': 5113, 'xquisite': 5114, 'multitext': 5115, 'pomdp': 5116, 'aviation': 5117, 'rolex': 5118, 'navigable': 5119, 'simplifications': 5120, 'isotonic': 5121, 'programing': 5122, 'worm': 5123, 'discs': 5124, 'glue': 5125, 'carbohydrate': 5126, 'multirobot': 5127, 'eggyolk': 5128, 'sorts': 5129, 'fm91': 5130, 'ocam': 5131, 'spinning': 5132, 'italian': 5133, 'dbcache': 5134, 'splice': 5135, 'doing': 5136, 'satellite': 5137, 'whiteboard': 5138, 'acting': 5139, 'cd': 5140, 'rom': 5141, 'rainforest': 5142, 'requiring': 5143, 'privatizing': 5144, 'thine': 5145, 'enemy': 5146, 'champion': 5147, 'ut': 5148, 'arlington': 5149, 'whisper': 5150, 'retina': 5151, 'anchorwoman': 5152, 'verifier': 5153, 'modularizing': 5154, 'codescriptive': 5155, 'feedforward': 5156, 'timesten': 5157, 'optional': 5158, 'koref': 5159, 'gossip': 5160, 'slow': 5161, 'illumination': 5162, 'odd': 5163, 'coordinators': 5164, 'responders': 5165, 'shakespeare': 5166, 'explication': 5167, 'articulatory': 5168, 'opening': 5169, 'eyes': 5170, 'armor': 5171, 'los': 5172, 'angeles': 5173, 'airport': 5174, 'cone': 5175, 'sqlb': 5176, 'consumers': 5177, 'hydra': 5178, 'auv': 5179, 'desktops': 5180, 'motif': 5181, 'gr2': 5182, 'trigger': 5183, 'shopsmart': 5184, 'crfs': 5185, 'lk': 5186, 'pier': 5187, 'luby': 5188, 'rackoff': 5189, 'negotiators': 5190, 'win': 5191, 'arbus': 5192, 'iphones': 5193, 'phones': 5194, 'oh': 5195, 'advertise': 5196, 'inexact': 5197, 'publications': 5198, 'speechlanguage': 5199, 'spellchecking': 5200, 'autocorrection': 5201, 'inspector': 5202, 'fringe': 5203, 'saving': 5204, 'warning': 5205, 'vulnerability': 5206, 'orderings': 5207, 'radically': 5208, 'statechart': 5209, 'valuable': 5210, 'compared': 5211, 'own': 5212, 'armed': 5213, 'presuppositional': 5214, 'pdms': 5215, 'shard': 5216, 'laura': 5217, 'her': 5218, 'algorithmics': 5219, 'cui': 5220, 'spark': 5221, 'beacond': 5222, 'counterexample': 5223, 'xseq': 5224, 'campaign': 5225, 'informatively': 5226, 'meinongian': 5227, 'pintos': 5228, 'prescription': 5229, 'admission': 5230, 'underspecification': 5231, 'transitivity': 5232, 'foregrounding': 5233, 'summarising': 5234, 'noa': 5235, 'normative': 5236, 'congruences': 5237, 'topologically': 5238, 'fpga': 5239, 'tower': 5240, 'straw': 5241, 'hypotheticals': 5242, 'holder': 5243, 'conventions': 5244, 'filing': 5245, 'stripes': 5246, 'tuned': 5247, 'complementarities': 5248, 'tdlambda': 5249, 'eligibility': 5250, 'further': 5251, 'topaz': 5252, 'parallelizer': 5253, 'sanitization': 5254, 'terminator': 5255, 'unrestrictd': 5256, 'gapping': 5257, 'rely': 5258, 'bigsur': 5259, 'koda': 5260, 'enumerating': 5261, 'popel': 5262, 'counters': 5263, 'sale': 5264, 'scrap': 5265, 'triggering': 5266, 'florid': 5267, 'centred': 5268, 'incompletely': 5269, 'boltzrank': 5270, 'maximize': 5271, 'matesek': 5272, 'ring': 5273, 'sarms': 5274, 'cocomo': 5275, 'uflip': 5276, 'staggered': 5277, 'statestep': 5278, 'cm': 5279, 'eves': 5280, 'tp': 5281, 'counterfactual': 5282, 'conditioning': 5283, 'inferred': 5284, 'decompose': 5285, 'vault': 5286, 'ibe': 5287, 'confidential': 5288, 'drafting': 5289, 'pods': 5290, 'nominals': 5291, 'pylonic': 5292, 'eeg': 5293, 'epileptic': 5294, 'seizures': 5295, 'cacheportal': 5296, 'hosted': 5297, 'dsdt': 5298, 'durable': 5299, 'xvm': 5300, 'credibility': 5301, 'brier': 5302, 'potentialities': 5303, 'reducers': 5304, 'redus': 5305, 'swifft': 5306, 'fft': 5307, 'unicorn': 5308, 'seasonality': 5309, 'facile': 5310, 'simulators': 5311, 'parlog': 5312, 'superoperators': 5313, 'screamer': 5314, 'deserialization': 5315, 'fl': 5316, 'cayuga': 5317, 'dstributed': 5318, 'genealogy': 5319, 'ideas': 5320, 'vietnamese': 5321, 'isalog': 5322, 'amongst': 5323, 'vital': 5324, 'randomizing': 5325, 'virtualization': 5326, 'ims': 5327, 'impedance': 5328, 'syntagmatic': 5329, 'powerdb': 5330, 'involving': 5331, 'abstaining': 5332, 'totally': 5333, 'recrawl': 5334, 'dark': 5335, 'sgs': 5336, 'uncontrollable': 5337, 'cockpit': 5338, 'senior': 5339, 'concatenative': 5340, 'morphotactics': 5341, 'affects': 5342, 'giving': 5343, 'omt': 5344, 'scaffolding': 5345, 'flexibility': 5346, 'pane': 5347, 'residues': 5348, 'orchestrating': 5349, 'multicore': 5350, 'muvis': 5351, 'motivations': 5352, 'inspiring': 5353, 'pursue': 5354, 'chatbots': 5355, 'imt': 5356, 'pathologies': 5357, 'cooperate': 5358, 'sparq2l': 5359, 'rendezvous': 5360, 'penalized': 5361, 'determinant': 5362, 'amalgamating': 5363, 'viper': 5364, 'jmocha': 5365, 'bc': 5366, 'opponents': 5367, 'origins': 5368, 'suppressing': 5369, 'trainable': 5370, 'finders': 5371, 'adams': 5372, 'alliances': 5373, 'multilayered': 5374, 'aer': 5375, 'warnings': 5376, 'threats': 5377, 'idm': 5378, 'reap': 5379, 'corroborate': 5380, 'mutually': 5381, 'establishment': 5382, 'hybridized': 5383, 'locksmith': 5384, 'challenged': 5385, 'qcsp': 5386, 'nonprofits': 5387, 'shoqd': 5388, 'forcing': 5389, 'testability': 5390, 'maximally': 5391, 'pinpointing': 5392, 'dedicated': 5393, 'qursed': 5394, 'restructured': 5395, 'agreements': 5396, 'essentials': 5397, 'bucketing': 5398, 'wheat': 5399, 'voxelwise': 5400, 'resonance': 5401, 'canlogs': 5402, 'gate': 5403, 'seasons': 5404, 'farm': 5405, 'looks': 5406, 'taxis': 5407, 'lime': 5408, 'ups': 5409, 'downs': 5410, 'preposition': 5411, 'esl': 5412, 'trobe': 5413, 'poliqarp': 5414, 'indexer': 5415, 'palka': 5416, 'sifting': 5417, 'sda': 5418, 'cai': 5419, 'superlatives': 5420, 'meetings': 5421, 'csrs': 5422, 'excon': 5423, 'advocating': 5424, 'webview': 5425, 'hyperbolic': 5426, 'plane': 5427, 'adheat': 5428, 'ecosystem': 5429, 'sustainability': 5430, 'blockwise': 5431, 'landscan': 5432, 'alerter': 5433, 'referent': 5434, 'datarace': 5435, 'deadlocks': 5436, 'realizations': 5437, 'interact': 5438, 'scm': 5439, 'scored': 5440, 'expanded': 5441, 'charalign': 5442, 'byte': 5443, 'screens': 5444, 'recasting': 5445, 'sigcse': 5446, 'knack': 5447, '11g': 5448, 'cvdb': 5449, '2004': 5450, 'attracting': 5451, 'keeping': 5452, 'brightest': 5453, 'experienced': 5454, 'hddbs': 5455, 'countability': 5456, 'withouta': 5457, 'priori': 5458, 'personalizing': 5459, 'wip': 5460, 'intellimedia': 5461, 'wsqdsq': 5462, 'interfacile': 5463, 'rasp': 5464, 'asam': 5465, 'odx': 5466, 'oodbs': 5467, 'vyrd': 5468, 'ccal': 5469, 'questionnaire': 5470, 'trailfinding': 5471, 'logistics': 5472, 'debug': 5473, 'associational': 5474, 'flowcharts': 5475, 'blending': 5476, 'tcoz': 5477, 'algol': 5478, 'ecr': 5479, 'tasktracker': 5480, 'majsat': 5481, 'mierucompiler': 5482, 'ironing': 5483, 'clotho': 5484, 'awaredav': 5485, 'rollups': 5486, 'leveled': 5487, 'pundit': 5488, 'gcx': 5489, 'defacto': 5490, 'incident': 5491, 'commanders': 5492, 'overconstrained': 5493, 'resilient': 5494, 'propagator': 5495, 'sequel': 5496, 'might': 5497, 'thinker': 5498, 'agency': 5499, 'closegraph': 5500, 'turk': 5501, 'junit': 5502, 'gauss': 5503, 'unbalanced': 5504, 'saying': 5505, 'already': 5506, 'capitalized': 5507, 'fintime': 5508, 'exits': 5509, 'reopening': 5510, 'song': 5511, 'tapping': 5512, 'nearly': 5513, 'geominer': 5514, 'coevolving': 5515, 'mice': 5516, 'rewritings': 5517, 'laundering': 5518, 'fabrication': 5519, 'tangible': 5520, 'creativity': 5521, 'dnf': 5522, 'needle': 5523, 'invasive': 5524, 'actuated': 5525, 'detectioncorrection': 5526, 'casee': 5527, 'rediscovering': 5528, 'passion': 5529, 'beauty': 5530, 'joy': 5531, 'awe': 5532, 'continued': 5533, 'webdiplomat': 5534, 'multilist': 5535, 'affiliation': 5536, 'ford': 5537, 'xpathxslt': 5538, 'poogle': 5539, 'lrt': 5540, 'ip': 5541, 'jibiki': 5542, 'lexalp': 5543, 'interbase': 5544, 'ergonomics': 5545, 'siebel': 5546, 'mechanizing': 5547, 'sage': 5548, 'sqout': 5549, 'workblench': 5550, 'dbis': 5551, 'variations': 5552, 'forensic': 5553, 'tampering': 5554, 'dereference': 5555, 'mppm': 5556, 'consolution': 5557, 'www2004': 5558, 'lowell': 5559, 'misclassification': 5560, 'pcb': 5561, 'drilling': 5562, 'redefining': 5563, 'paraphrase': 5564, 'ungreedy': 5565, 'probalistic': 5566, 'evil': 5567, 'flexibly': 5568, 'mergepurge': 5569, 'captioned': 5570, 'mathfind': 5571, 'rights': 5572, 'duties': 5573, 'accessed': 5574, 'scr': 5575, 'uqlips': 5576, 'centralization': 5577, 'whither': 5578, '21': 5579, 'dart': 5580, 'wiki': 5581, 'svg': 5582, 'continous': 5583, 'visiprog': 5584, 'inherently': 5585, 'brooks': 5586, 'coopware': 5587, 'masters': 5588, 'families': 5589, 'timegraphs': 5590, 'suboptimal': 5591, 'singleton': 5592, 'microprogramming': 5593, 'watch': 5594, 'reminding': 5595, 'idiomatic': 5596, 'rel': 5597, 'laterally': 5598, 'spiking': 5599, 'neurons': 5600, 'relying': 5601, 'lof': 5602, 'gnu': 5603, 'mobide': 5604, 'cybertech': 5605, 'sensible': 5606, 'biosurveillance': 5607, 'indexicals': 5608, 'demonstratives': 5609, 'egalitarist': 5610, 'incommensurable': 5611, 'concolic': 5612, 'missed': 5613, 'actual': 5614, 'gamps': 5615, 'amplitude': 5616, 'compaction': 5617, 'overlays': 5618, 'papyrus': 5619, '6th': 5620, 'setl': 5621, 'renaissance': 5622, 'unitran': 5623, 'superior': 5624, 'hgdm': 5625, 'ac': 5626, 'apis': 5627, 'siren': 5628, 'hyperrectangle': 5629, 'declustered': 5630, 'deafault': 5631, 'angular': 5632, 'reputable': 5633, 'servents': 5634, 'subtask': 5635, 'extrapolation': 5636, 'jeroo': 5637, 'majority': 5638, 'aliases': 5639, 'pengi': 5640, 'rivaling': 5641, 'professionals': 5642, 'fusing': 5643, 'communicative': 5644, 'mips': 5645, 'snitch': 5646, 'paste': 5647, 'tickets': 5648, 'terminals': 5649, 'occam': 5650, 'gamma': 5651, 'schems': 5652, 'scratch': 5653, 'alphasort': 5654, 'interfacing': 5655, 'colorblind': 5656, 'coallocation': 5657, 'collaborations': 5658, 'punctuated': 5659, 'trips': 5660, 'valuation': 5661, 'sqlem': 5662, 'emergency': 5663, 'triage': 5664, 'wrong': 5665, 'waves': 5666, 'redesigning': 5667, 'plackett': 5668, 'luce': 5669, 'multimediaminer': 5670, 'emperical': 5671, 'redux': 5672, 'qsf': 5673, 'attacking': 5674, 'decipherment': 5675, 'entrans': 5676, 'edsc': 5677, 'vectorial': 5678, 'exprim': 5679, 'rivage': 5680, 'orthotics': 5681, 'custom': 5682, 'reassignment': 5683, 'realization': 5684, 'weaknesses': 5685, 'incoherency': 5686, 'aggregators': 5687, 'obsolescent': 5688, 'warlock': 5689, 'batmobile': 5690, 'taxi': 5691, 'synergy': 5692, 'cpoe': 5693, 'eel': 5694, 'stimuli': 5695, 'syntemic': 5696, 'fg': 5697, 'minute': 5698, 'later': 5699, 'socp': 5700, 'interpreternative': 5701, 'sensitivities': 5702, 'thermodynamics': 5703, 'eddies': 5704, 'xl': 5705, 'expose': 5706, 'cs2cs7': 5707, 'following': 5708, 'validated': 5709, 'tab': 5710, 'emphasis': 5711, 'promising': 5712, 'wring': 5713, 'dry': 5714, 'sellers': 5715, 'buyers': 5716, 'shill': 5717, 'fees': 5718, '200': 5719, 'cmerun': 5720, 'tapestry': 5721, 'maneuvering': 5722, 'obstacles': 5723, 'quadtree': 5724, 'vc': 5725, 'exceptional': 5726, 'deliberation': 5727, 'thousands': 5728, 'archaeological': 5729, 'selc': 5730, 'playback': 5731, 'continuity': 5732, 'pooled': 5733, 'slavic': 5734, 'condensed': 5735, 'dtps': 5736, 'tcsps': 5737, 'truecasing': 5738, '78': 5739, 'preceding': 5740, 'ethernet': 5741, 'multigraphs': 5742, 'phonetic': 5743, 'omes': 5744, 'webkhoj': 5745, 'lsl': 5746, 'selector': 5747, 'componentware': 5748, 'requirementsassurances': 5749, 'hadoop': 5750, 'netnews': 5751, 'mdm': 5752, 'mbdp': 5753, 'subsetting': 5754, 'superposition': 5755, 'discotect': 5756, 'traveled': 5757, 'baccalaureate': 5758, 'sustain': 5759, 'ghost': 5760, 'introspective': 5761, 'bitwidth': 5762, 'multipurpose': 5763, 'indeterminancy': 5764, 'memeta': 5765, 'mutable': 5766, 'ss': 5767, 'translingual': 5768, 'sos': 5769, 'evolve': 5770, 'irregularity': 5771, 'hamming': 5772, 'skoll': 5773, 'scaffolded': 5774, 'rbe': 5775, 'productions': 5776, 'reductions': 5777, 'phantom': 5778, 'predicative': 5779, 'demands': 5780, 'explosion': 5781, 'bunsetsu': 5782, 'hough': 5783, 'enable': 5784, 'petroglyphs': 5785, 'swiss': 5786, 'listener': 5787, 'reader': 5788, 'exterminator': 5789, 'biographical': 5790, 'independently': 5791, 'safeguard': 5792, 'uc': 5793, 'simlist': 5794, 'lexikon': 5795, 'helps': 5796, 'indic': 5797, 'train': 5798, 'interchange': 5799, 'imaged': 5800, 'pdf': 5801, 'biotech': 5802, 'translated': 5803, 'micronet': 5804, 'hypercubes': 5805, 'instantiations': 5806, 'kcat': 5807, 'intervention': 5808, 'darshak': 5809, 'degrading': 5810, 'animator': 5811, 'cl': 5812, 'researchs': 5813, 'fastest': 5814, 'odyssey': 5815, 's5': 5816, 'microfeature': 5817, 'rices': 5818, 'quicklink': 5819, 'heart': 5820, 'decaying': 5821, 'vanity': 5822, 'querylog': 5823, 'bundles': 5824, 'delexical': 5825, 'usenet': 5826, 'gral': 5827, 'c2c': 5828, 'cool': 5829, 'machiavelli': 5830, 'border': 5831, 'redistribution': 5832, 'broaden': 5833, 'resistance': 5834, 'relocation': 5835, 'wirelessmobile': 5836, 'metadatabase': 5837, 'rensselaer': 5838, 'engineer': 5839, 'pepx': 5840, 'burden': 5841, 'collinearity': 5842, 'nonnumeric': 5843, 'correctly': 5844, 'picnics': 5845, 'kittens': 5846, 'wigs': 5847, 'g': 5848, 'goat': 5849, 'sqlmx': 5850, 'jerpa': 5851, 'cloze': 5852, 'temperature': 5853, '3w': 5854, 'stereotypes': 5855, 'sddm': 5856, 'cypress': 5857, 'taker': 5858, 'verbalizes': 5859, 'practicum': 5860, 'perusing': 5861, 'videodisk': 5862, 'sematically': 5863, 'bell': 5864, 'hebrew': 5865, 'secureblox': 5866, 'shoulders': 5867, 'giants': 5868, 'ansisparc': 5869, 'eigenmaps': 5870, 'honors': 5871, 'adapter': 5872, 'sigmoids': 5873, 'frequently': 5874, 'iloc': 5875, 'mtr': 5876, 'corporation': 5877, 'hong': 5878, 'kong': 5879, 'tiled': 5880, 'minimising': 5881, 'automobile': 5882, 'sealing': 5883, 'eve': 5884, 'radixzip': 5885, 'menus': 5886, 'rock': 5887, 'contributed': 5888, 'rankcut': 5889, 'rewriter': 5890, 'neuroimagery': 5891, 'pop': 5892, 'maritime': 5893, 'cracked': 5894, 'amelioration': 5895, 'arieskvl': 5896, 'multiaction': 5897, 'webviews': 5898, 'ocfs': 5899, 'glr': 5900, 'hundreds': 5901, 'interlisp': 5902, 'paving': 5903, 'diligent': 5904, 'eight': 5905, 'scc': 5906, 'dcc': 5907, 'implicature': 5908, 'rbf': 5909, 'weesa': 5910, 'dblearn': 5911, 'xinuwu': 5912, 'xinu': 5913, 'csis': 5914, 'deconstructing': 5915, 'diacritics': 5916, 'clue': 5917, 'returned': 5918, 'semint': 5919, 'rao': 5920, 'blackwellised': 5921, 'writable': 5922, 'disclosure': 5923, 'hippocratic': 5924, 'abridged': 5925, 'historically': 5926, 'colleges': 5927, 'objectbase': 5928, 'ucair': 5929, 'toolbar': 5930, 'remora': 5931, 'triangulated': 5932, 'metaphoric': 5933, 'coercion': 5934, '21st': 5935, 'mindset': 5936, 'cyberporn': 5937, 'chicago': 5938, 'lognormal': 5939, 'erasure': 5940, 'nusmv': 5941, 'slm': 5942, 'arboreal': 5943, 'prow': 5944, 'shipping': 5945, 'astronomy': 5946, 'serving': 5947, 'submitted': 5948, 'manuscripts': 5949, 'questionanswering': 5950, 'misconceptions': 5951, 'todays': 5952, 'hypercard': 5953, 'accommodating': 5954, 'follower': 5955, 'offset': 5956, 'multiaccess': 5957, 'assets': 5958, 'toys': 5959, 'aboutness': 5960, 'gaze': 5961, 'extractive': 5962, 'udfs': 5963, 'invalidity': 5964, 'allocating': 5965, 'eliminate': 5966, 'trnon': 5967, 'ansductive': 5968, 'airweb': 5969, 'decorrelation': 5970, 'lookups': 5971, 'founded': 5972, 'reasoner': 5973, 'itself': 5974, 'enthusiasm': 5975, 'cook': 5976, 'pet': 5977, 'erroneous': 5978, 'coko': 5979, 'allocator': 5980, 'shifting': 5981, 'agatha': 5982, 'christie': 5983, 'leads': 5984, 'geodesic': 5985, 'boosted': 5986, 'diathesis': 5987, 'alternations': 5988, 'combinators': 5989, 'ariescsa': 5990, 'tribes': 5991, 'knit': 5992, 'employment': 5993, 'montagues': 5994, 'dragon': 5995, 'hunters': 5996, 'nnow': 5997, 'nurbs': 5998, 'minijava': 5999, 'samos': 6000, 'growing': 6001, 'cord': 6002, 'appraoch': 6003, 'ntcir': 6004, 'strongest': 6005, 'disorder': 6006, 'suitable': 6007, 'tridirectional': 6008, 'monothetic': 6009, 'practive': 6010, 'reactions': 6011, 'applicable': 6012, 'pens': 6013, 'shuffling': 6014, 'stacked': 6015, 'deck': 6016, 'vlkdbs': 6017, 'intermodule': 6018, 'supervaluation': 6019, 'inland': 6020, 'monic': 6021, 'multicluster': 6022, 'grafting': 6023, 'comex': 6024, 'commodities': 6025, 'finance': 6026, 'suspects': 6027, 'laws': 6028, 'shrinking': 6029, 'diameters': 6030, 'academically': 6031, 'vrifa': 6032, 'nomogram': 6033, 'radial': 6034, 'lrbf': 6035, 'pathfinding': 6036, 'sitemaps': 6037, 'above': 6038, 'duty': 6039, 'lhrs': 6040, 'overtly': 6041, 'uddi': 6042, 'registries': 6043, 'regrets': 6044, 'observability': 6045, 'mood': 6046, 'til': 6047, 'sofis': 6048, 'replace': 6049, 'wsj': 6050, 'mainteinability': 6051, 'transportable': 6052, 'iterators': 6053, 'readable': 6054, 'filename': 6055, 'nul': 6056, 'maxsat': 6057, 'modification': 6058, 'hahacronym': 6059, 'invocation': 6060, 'ptime': 6061, 'coercive': 6062, 'descriptiveness': 6063, 'caseframe': 6064, 'late': 6065, 'ce2': 6066, 'commandtalk': 6067, 'harry': 6068, 'met': 6069, 'harri': 6070, 'hunter': 6071, 'gatherer': 6072, 'socqet': 6073, 'yap3': 6074, 'seurat': 6075, 'earlier': 6076, 'disciplined': 6077, 'icse99': 6078, 'bifocal': 6079, 'microsurgery': 6080, 'nugget': 6081, 'consolidation': 6082, 'naturalistic': 6083, 'nonstationary': 6084, 'stamps': 6085, 'esa': 6086, 'rays': 6087, 'neurorule': 6088, 'skeptical': 6089, 'lifelog': 6090, 'bgp': 6091, 'lens': 6092, 'joysticks': 6093, 'mippets': 6094, 'dbir': 6095, 'standalone': 6096, 'uncooperative': 6097, 'suspend': 6098, 'resume': 6099, 'rotating': 6100, 'odeview': 6101, 'updatability': 6102, 'malm': 6103, 'old': 6104, 'pharse': 6105, 'progres': 6106, 'scaleable': 6107, 'pessimistic': 6108, 'bt': 6109, 'branched': 6110, 'did': 6111, 'trax': 6112, 'ifo': 6113, 'definites': 6114, 'toy': 6115, 'arm': 6116, 'emperiment': 6117, 'authorizations': 6118, 'lexicalist': 6119, 'icelandic': 6120, 'ruralcafe': 6121, 'w': 6122, 'pan': 6123, 'cb': 6124, 'ranksql': 6125, 'potts': 6126, 'mft': 6127, 'caramel': 6128, 'curry': 6129, 'howard': 6130, 'differentially': 6131, 'contenders': 6132, 'deobfuscation': 6133, 'preconditioned': 6134, 'algres': 6135, 'chimera': 6136, 'onion': 6137, 'kidney': 6138, 'magead': 6139, 'dialects': 6140, 'transmutation': 6141, 'mccs': 6142, 'didactic': 6143, 'dialectic': 6144, 'headline': 6145, 'intertask': 6146, 'exr': 6147, 'pivotunpivot': 6148, 'lapses': 6149, 'resumption': 6150, 'loads': 6151, 'tempoexpress': 6152, 'expressivity': 6153, 'tempo': 6154, 'impacts': 6155, 'reproduction': 6156, 'ica': 6157, 'wizards': 6158, 'wikispeedia': 6159, 'starving': 6160, 'hitting': 6161, 'kriegspiel': 6162, 'metapositions': 6163, 'harm': 6164, 'mismatch': 6165, 'lama': 6166, 'absolute': 6167, 'pennies': 6168, 'touch': 6169, 'restricting': 6170, 'aquery': 6171, 'pqc': 6172, 'matchsim': 6173, 'superdatabases': 6174, 'protel': 6175, 'umlanalyzer': 6176, 'satcsp': 6177, 'expander': 6178, 'nesc': 6179, 'pact': 6180, 'delinearization': 6181, 'break': 6182, 'multiloop': 6183, 'specificity': 6184, 'amnesic': 6185, 'snefru': 6186, 'transcripts': 6187, 'polyhedra': 6188, 'underapproximation': 6189, 'hyrex': 6190, 'rehist': 6191, 'bundle': 6192, 'fire': 6193, 'bm25': 6194, 'csql': 6195, 'dynamicity': 6196, 'bilvideo': 6197, 'contemplate': 6198, 'columnsort': 6199, 'subgroups': 6200, 'golden': 6201, 'controversies': 6202, 'syncro': 6203, 'lilithmodula': 6204, 'knows': 6205, 'sovereign': 6206, 'lossy': 6207, 'stamped': 6208, 'smartback': 6209, 'recallprecision': 6210, 'quickmig': 6211, 'diagnosers': 6212, 'controlflow': 6213, 'lack': 6214, 'linux': 6215, 'tapes': 6216, 'hold': 6217, 'investing': 6218, 'featherweight': 6219, 'exposing': 6220, 'internals': 6221, 'leo': 6222, 'db2s': 6223, 'tic': 6224, 'toe': 6225, 'tba': 6226, 'gloss': 6227, 'pointless': 6228, 'pda': 6229, 'tucking': 6230, 'rcc': 6231, 'cycs': 6232, 'xsb': 6233, 'operability': 6234, 'interruptible': 6235, 'insure': 6236, 'granting': 6237, 'cky': 6238, 'instantaneous': 6239, 'anything': 6240, 'worth': 6241, 'crimson': 6242, 'flexrecs': 6243, 'contacts': 6244, 'belong': 6245, 'theft': 6246, 'ellipsoid': 6247, 'rankboost': 6248, 'facet': 6249, 'landscapes': 6250, 'functor': 6251, 'perm': 6252, 'cpr': 6253, 'molecules': 6254, 'flaws': 6255, 'clare': 6256, 'briefings': 6257, 'protdb': 6258, 'cyclone': 6259, 'interventional': 6260, 'pull': 6261, 'rogue': 6262, 'segmental': 6263, 'jitter': 6264, 'eccles': 6265, 'achievent': 6266, 'israeli': 6267, 'neighborhoods': 6268, 'unlocking': 6269, 'awarding': 6270, 'verifiable': 6271, 'allocated': 6272, 'develop': 6273, 'tutorials': 6274, 'mariko': 6275, 'talks': 6276, 'siegfried': 6277, 'japanesegerman': 6278, 'warriors': 6279, 'phobes': 6280, 'attitude': 6281, 'easiest': 6282, 'ridl': 6283, 'bearing': 6284, 'imputing': 6285, 'spatiotemporalspatiotemporal': 6286, 'reversal': 6287, 'utile': 6288, 'distinctions': 6289, 'outside': 6290, 'chiron': 6291, 'simfusion': 6292, 'warfare': 6293, 'expanding': 6294, 'pivot': 6295, 'inaccessible': 6296, 'foci': 6297, 'intersystem': 6298, 'gated': 6299, 'multipipeline': 6300, 'triangle': 6301, 'utaclir': 6302, 'toponym': 6303, 'birch': 6304, 'iepad': 6305, 'collative': 6306, 'straightforward': 6307, 'xmldb': 6308, 'breakout': 6309, 'remember': 6310, 'think': 6311, 'executions': 6312, 'paintingclass': 6313, 'sometimes': 6314, 'aggregating': 6315, 'jpredictor': 6316, 'ecrins86': 6317, 'lets': 6318, 'transient': 6319, 'compensating': 6320, 'picodmbs': 6321, 'smartcard': 6322, 'adapters': 6323, 'tailored': 6324, 'ggraphlog': 6325, 'transpose': 6326, 'demystified': 6327, 'florida': 6328, 'vambam': 6329, 'omnidirectional': 6330, 'kc3': 6331, 'mash': 6332, 'opinionated': 6333, 'kinematic': 6334, 'articulated': 6335, 'slca': 6336, 'aptitude': 6337, 'attains': 6338, 'blast': 6339, 'guarded': 6340, 'redirection': 6341, 'gmine': 6342, 'fixing': 6343, 'polynominal': 6344, 'packet': 6345, 'tpm': 6346, 'informality': 6347, 'boredom': 6348, 'consolidating': 6349, 'pachinko': 6350, 'testtube': 6351, 'parses': 6352, 'satellites': 6353, 'knownet': 6354, 'champagne': 6355, 'tulips': 6356, 'teachable': 6357, 'axis': 6358, 'concomitant': 6359, 'medethex': 6360, 'dyc': 6361, 'javanet': 6362, 'opinionminer': 6363, 'luckiness': 6364, 'prefectching': 6365, 'aroma': 6366, 'hepatitis': 6367, 'quantities': 6368, 'amateurs': 6369, 'premodifiers': 6370, 'revel8or': 6371, 'professionalism': 6372, 'transtrl': 6373, 'locator': 6374, 'rethink': 6375, 'segmentations': 6376, 'democratic': 6377, 'lexicographic': 6378, 'consultation': 6379, 'abbreviation': 6380, 'cla': 6381, 'perturbation': 6382, 'lemma': 6383, 'adaptability': 6384, 'quarks': 6385, 'trustrank': 6386, 'goldilocks': 6387, 'opaque': 6388, 'shangri': 6389, 'reve': 6390, 'participatory': 6391, 'hierachy': 6392, 'crocopat': 6393, 'integers': 6394, 'vipas': 6395, 'galileo': 6396, 'our': 6397, 'extents': 6398, 'exposed': 6399, 'attibute': 6400, 'diversifying': 6401, 'omissions': 6402, 'blas': 6403, 'mammography': 6404, 'isolate': 6405, 'ossd': 6406, 'ldiff': 6407, 'differencing': 6408, 'accelerometer': 6409, 'smdp': 6410, 'homomorphisms': 6411, 'residency': 6412, 'sytems': 6413, 'biosystematics': 6414, 'ofs': 6415, 'odp': 6416, 'sciencecraft': 6417, 'eo': 6418, 'componential': 6419, 'ergodic': 6420, 'tension': 6421, 'reals': 6422, 'merrier': 6423, 'mini': 6424, 'disease': 6425, 'reflexive': 6426, 'cham': 6427, 'eclipse': 6428, 'demaq': 6429, 'orion': 6430, 'postscript': 6431, 'videoreach': 6432, 'enrichment': 6433, 'paraconsistency': 6434, 'chronologies': 6435, 'raster': 6436, 'fictitious': 6437, 'continuum': 6438, 'ficsr': 6439, 'eedback': 6440, 'nonistency': 6441, 'esolution': 6442, 'misaligned': 6443, 'ofcourse': 6444, 'materials': 6445, 'soat': 6446, 'peanut': 6447, 'gallery': 6448, 'assessor': 6449, 'lyapunov': 6450, 'clonetracker': 6451, 'pp': 6452, 'treebanking': 6453, 'blazing': 6454, 'lies': 6455, 'synonymy': 6456, 'eager': 6457, 'books': 6458, 'meronyms': 6459, 'unique': 6460, 'passed': 6461, 'restructure': 6462, 'linkages': 6463, 'sql3': 6464, 'uncorrelated': 6465, 'indiana': 6466, 'purdue': 6467, 'convoy': 6468, 'alice': 6469, 'walkthrough': 6470, 'trail': 6471, 'cutex': 6472, 'lemonade': 6473, 'bright': 6474, 'dr': 6475, 'eventtrigger': 6476, 'unibase': 6477, 'newspaper': 6478, 'xmem': 6479, 'hyperstorm': 6480, 'administering': 6481, 'convolutional': 6482, 'linkclus': 6483, 'identically': 6484, 'progxe': 6485, 'telcordias': 6486, 'unanchored': 6487, 'ignorant': 6488, 'xqbe': 6489, 'correlational': 6490, 'itinerary': 6491, 'beg': 6492, 'cardio': 6493, 'vascular': 6494, 'app': 6495, 'olympic': 6496, 'equestrian': 6497, 'experiential': 6498, 'roadrunner': 6499, 'suitability': 6500, 'kinesthetic': 6501, 'documented': 6502, 'refinements': 6503, 'converter': 6504, 'semirings': 6505, 'definability': 6506, 'piece': 6507, 'addressed': 6508, '5': 6509, 'iwpse': 6510, 'soon': 6511, 'abbreviated': 6512, 'marie': 6513, 'decoder': 6514, 'resolutions': 6515, '1000': 6516, 'commute': 6517, 'potters': 6518, 'dsl': 6519, 'ssc2': 6520, 'skeletons': 6521, 'reproducing': 6522, 'myerson': 6523, 'satterthwaite': 6524, 'impossibility': 6525, 'unweighted': 6526, 'labelers': 6527, 'relaxations': 6528, 'selectors': 6529, 'behaviosites': 6530, 'parasitic': 6531, 'infection': 6532, 'relocating': 6533, 'rerankeverything': 6534, 'mindreader': 6535, 'ultimate': 6536, 'cautious': 6537, 'surfer': 6538, 'joulesort': 6539, 'nero': 6540, 'importing': 6541, 'casting': 6542, 'accumulative': 6543, 'rework': 6544, 'yago': 6545, 'billiards': 6546, 'guesstimate': 6547, 'curing': 6548, '1tn': 6549, 'autocompletion': 6550, 'tolerate': 6551, 'linearizable': 6552, 'snowball': 6553, 'elu': 6554, 'cal': 6555, 'aggie': 6556, 'matic': 6557, 'cybersecurity': 6558, 'glory': 6559, 'contestants': 6560, 'contests': 6561, 'topcodercom': 6562, 'always': 6563, 'appc': 6564, 'enrich': 6565, 'attributio': 6566, 'hypercode': 6567, 'serv': 6568, 'seen': 6569, 'crosslinguistic': 6570, 'motivate': 6571, 'bargaining': 6572, 'become': 6573, 'disaggregation': 6574, 'webcq': 6575, 'psycho': 6576, 'engineered': 6577, 'arizona': 6578, 'tdts': 6579, 'blackboards': 6580, 'hedged': 6581, 'purpors': 6582, 'igrid': 6583, 'gateway': 6584, 'truncations': 6585, 'thresher': 6586, 'unwrapping': 6587, 'wavefront': 6588, 'granular': 6589, 'braid': 6590, 'lag': 6591, 'reasonably': 6592, 'consul': 6593, 'aptness': 6594, 'cast': 6595, 'cleanly': 6596, 'messy': 6597, 'mv3r': 6598, 'timestamp': 6599, 'ondux': 6600, 'supersense': 6601, 'lisfs': 6602, 'mock': 6603, 'trials': 6604, 'asymptotically': 6605, 'qbf': 6606, 'anisotropic': 6607, 'xor': 6608, 'aktionsart': 6609, 'fighting': 6610, 'mixins': 6611, 'inclination': 6612, 'geared': 6613, 'manifest': 6614, 'pwa': 6615, 'sssalpha': 6616, 'debit': 6617, 'found': 6618, 'lexnet': 6619, 'dynamical': 6620, 'basedatabase': 6621, 'appropriateness': 6622, 'handheld': 6623, 'accomodation': 6624, 'multiterm': 6625, 'mca': 6626, 'explorations': 6627, 'probabilitstic': 6628, 'vivid': 6629, 'clarity': 6630, 'unteachable': 6631, 'verifiers': 6632, 'ilog': 6633, 'awa': 6634, 'cassm': 6635, 'whips': 6636, 'cease': 6637, 'because': 6638, 'ignored': 6639, 'relativised': 6640, 'nba': 6641, 'multigranularity': 6642, 'fittest': 6643, 'survives': 6644, 'xcfs': 6645, 'flavers': 6646, 'negations': 6647, 'contradictions': 6648, 'vispedia': 6649, 'deficiencies': 6650, 'borders': 6651, 'spot': 6652, 'compostion': 6653, 'tell': 6654, 'turnover': 6655, 'transliterations': 6656, 'schemr': 6657, 'payoff': 6658, 'xrules': 6659, 'deals': 6660, 'unsuspecting': 6661, 'audience': 6662, 'explain': 6663, 'discover': 6664, 'realizational': 6665, 'dirt': 6666, 'sbtdiscovery': 6667, 'asynchronously': 6668, 'leaf': 6669, 'pangloss': 6670, 'hadoopdb': 6671, 'optimising': 6672, 'governed': 6673, 'calendars': 6674, 'layering': 6675, 'april': 6676, 'madbot': 6677, 'ihmms': 6678, 'cabinet': 6679, 'sprint': 6680, 'eiffel': 6681, 'conserved': 6682, 'thetenthstrand': 6683, 'ethicaldebates': 6684, 'tiling': 6685, 'checkers': 6686, 'diva': 6687, 'liptus': 6688, 'treat': 6689, 'eclectic': 6690, 'invisible': 6691, 'capital': 6692, 'relates': 6693, 'lurking': 6694, 'sake': 6695, 'themselves': 6696, 'sinhala': 6697, 'grapheme': 6698, 'schwa': 6699, 'epenthesis': 6700, 'hisbase': 6701, 'priming': 6702, 'alarms': 6703, 'actionable': 6704, 'volatile': 6705, 'checkpoint': 6706, 'unparsing': 6707, 'rdfxml': 6708, 'homonymy': 6709, 'authorities': 6710, 'hubs': 6711, 'runways': 6712, 'extremal': 6713, 'baskets': 6714, 'singer': 6715, 'mp3': 6716, 'subregularities': 6717, 'prosody': 6718, 'friends': 6719, 'determinization': 6720, 'phased': 6721, 'delocalisation': 6722, 'replanning': 6723, 'attractiveness': 6724, 'multiprocessing': 6725, 'proximus': 6726, 'attributed': 6727, 'perceptrons': 6728, 'wam': 6729, 'contemporary': 6730, 'journals': 6731, 'immc': 6732, 'brittleness': 6733, 'blackout': 6734, 'anywhere': 6735, 'remove': 6736, 'bottlenecks': 6737, 'derbys': 6738, 'bbm': 6739, 'petabyte': 6740, 'handlinh': 6741, 'immediate': 6742, 'phishing': 6743, 'emails': 6744, 'illiterate': 6745, 'lh': 6746, 'reed': 6747, 'solomon': 6748, 'street': 6749, 'journal': 6750, 'linearizability': 6751, 'lsa': 6752, 'soundness': 6753, 'masked': 6754, 'dip': 6755, 'punctuation': 6756, 'ask': 6757, 'groupwise': 6758, 'extremum': 6759, 'associationrules': 6760, 'ct': 6761, 'personnel': 6762, 'acceptability': 6763, 'option': 6764, 'drill': 6765, 'degrade': 6766, 'sie': 6767, 'obi': 6768, 'serpent': 6769, 'viewsystem': 6770, 'exhibit': 6771, 'critter': 6772, 'agricultural': 6773, 'fmri': 6774, 'volcano': 6775, 'contra': 6776, 'xvcl': 6777, 'dot': 6778, 'watson': 6779, 'tele': 6780, 'professor': 6781, 'pesto': 6782, 'querybrowser': 6783, 'principals': 6784, 'oz': 6785, 'mglair': 6786, 'scaleless': 6787, 'semmo': 6788, 'multiplayer': 6789, 'row': 6790, 'laplace': 6791, 'albep': 6792, 'caption': 6793, 'stand': 6794, 'synchronizable': 6795, 'preach': 6796, 'predefined': 6797, 'polarized': 6798, 'kiss': 6799, 'powers': 6800, 'aadds': 6801, 'cmu': 6802, 'rover': 6803, 'schematically': 6804, 'centralized': 6805, 'crowdreranking': 6806, 'mmtk': 6807, 'individualized': 6808, 'forgiving': 6809, 'cream': 6810, 'valuepetri': 6811, 'china': 6812, 'practicioners': 6813, 'managed': 6814, 'ecu': 6815, 'vindicated': 6816, 'cot': 6817, 'detecton': 6818, 'overfitting': 6819, 'emerge': 6820, 'verbosity': 6821, '25': 6822, 'rise': 6823, 'fall': 6824, 'salton': 6825, 'award': 6826, 'tactic': 6827, 'gpsm': 6828, 'dissolution': 6829, 'extremely': 6830, 'fibring': 6831, 'gputerasort': 6832, 'unpartitioned': 6833, 'holonic': 6834, 'pedestrian': 6835, 'rqafqi': 6836, 'indeterminate': 6837, 'constructor': 6838, 'carpediem': 6839, 'ssl': 6840, 'coarticulation': 6841, 'separable': 6842, 'ceteris': 6843, 'paribus': 6844, 'mocha': 6845, 'alternating': 6846, 'jeroboam': 6847, 'epilepsy': 6848, 's3': 6849, 'xpress': 6850, 'queriable': 6851, 'textured': 6852, 'bits': 6853, 'termsets': 6854, 'dataset': 6855, 'bacteria': 6856, 'cultures': 6857, 'scattering': 6858, 'shifts': 6859, 'samuel': 6860, 'amarel': 6861, 'cbse': 6862, 'datacycle': 6863, '1978': 6864, 'cst': 6865, 'citizens': 6866, 'psycholinguistically': 6867, 'parafac2': 6868, 'mpf': 6869, 'stars': 6870, 'coocurrences': 6871, 'import': 6872, 'denoising': 6873, 'autoencoders': 6874, 'tabling': 6875, 'quadrupedal': 6876, 'locomotion': 6877, 'multitheme': 6878, 'markovsemi': 6879, 'destinations': 6880, 'nondirectional': 6881, 'labor': 6882, 'characteristic': 6883, 'ddos': 6884, 'identified': 6885, 'reused': 6886, 'neighbourhood': 6887, 'broadband': 6888, 'v3': 6889, 'analog': 6890, 'keypoints': 6891, 'sister': 6892, 'reclustering': 6893, '3se': 6894, 'widely': 6895, 'proclamation': 6896, 'elaborate': 6897, 'anf': 6898, 'sammie': 6899, 'television': 6900, 'radio': 6901, 'aems': 6902, 'codds': 6903, 'reformulated': 6904, 'appear': 6905, 'posting': 6906, 'degradation': 6907, 'determined': 6908, 'elision': 6909, 'curio': 6910, 'reviving': 6911, 'fertility': 6912, 'compositions': 6913, 'hdp': 6914, 'concentric': 6915, 'hyperspaces': 6916, 'modula': 6917, 'labellings': 6918, 'cse': 6919, 'volunteers': 6920, 'hillsborough': 6921, 'county': 6922, 'district': 6923, 'transsformation': 6924, 'dolce': 6925, 'unsound': 6926, 'automateddistributed': 6927, 'multiresolution': 6928, 'mrf': 6929, 'theta': 6930, 'socially': 6931, 'here': 6932, 'pskip': 6933, 'scribble': 6934, 'alikes': 6935, 'chorochronos': 6936, 'folklore': 6937, 'confirmed': 6938, 'widl': 6939, 'inconcert': 6940, 'archive': 6941, 'sqlmed': 6942, 'tenant': 6943, 'telephone': 6944, 'journey': 6945, 'simplifier': 6946, 'gotolessness': 6947, 'infomix': 6948, 'prague': 6949, 'mima': 6950, 'innovation': 6951, 'interim': 6952, 'acmieee': 6953, 'despite': 6954, 'imbalance': 6955, 'stress': 6956, 'realizing': 6957, 'directors': 6958, 'implication': 6959, 'factorizations': 6960, 'datajoiner': 6961, 'collecting': 6962, 'ocean': 6963, 'conservant': 6964, 'multitale': 6965, 'bookmark': 6966, 'designated': 6967, 'sash': 6968, 'sportscast': 6969, 'weblab': 6970, 'hyperthesis': 6971, 'spell': 6972, 'crops': 6973, 'soil': 6974, 'situational': 6975, 'presupposition': 6976, 'socratic': 6977, 'exegesis': 6978, 'wake': 6979, 'wlan': 6980, 'repeating': 6981, 'aries': 6982, 'intractability': 6983, 'faces': 6984, 'kap': 6985, 'greediness': 6986, 'memm': 6987, 'segregation': 6988, 'dat': 6989, 'dd': 6990, 'chameleon': 6991, 'spiteful': 6992, 'xmill': 6993, 'majorization': 6994, 'instantiation': 6995, 'ailp': 6996, 'p3vi': 6997, 'mtw06': 6998, 'inequality': 6999, 'listening': 7000, 'provisions': 7001, 'operationally': 7002, 'multibuffer': 7003, 'transposition': 7004, 'statsnowball': 7005, 'dumber': 7006, 'speeddating': 7007, 'systematically': 7008, 'triangulation': 7009, 'plop': 7010, 'ghostdb': 7011, 'leaks': 7012, 'continually': 7013, 'sensory': 7014, 'nico': 7015, 'habermanns': 7016, 'saps': 7017, 'nonmonotonicity': 7018, 'batching': 7019, 'rearrangement': 7020, 'bags': 7021, 'inexperienced': 7022, 'spiral': 7023, 'beat': 7024, 'queens': 7025, 'machined': 7026, 'rrxf': 7027, 'punjabi': 7028, 'speaking': 7029, 'food': 7030, 'complaints': 7031, 'lore': 7032, 'soquet': 7033, 'crosscutting': 7034, 'rp': 7035, 'liveclassifier': 7036, 'atis': 7037, 'leave': 7038, 'said': 7039, 'snif': 7040, 'sniffing': 7041, 'autocorrelation': 7042, 'topographic': 7043, 'dpop': 7044, 'dcop': 7045, 'datametadata': 7046, 'append': 7047, 'pres': 7048, 'upside': 7049, 'drosophila': 7050, 'capping': 7051, 'judges': 7052, 'exchangeable': 7053, 'drawn': 7054, 'praire': 7055, 'databasenetwork': 7056, 'phoneticsphonology': 7057, 'bird': 7058, 'hisa': 7059, 'committees': 7060, 'understandable': 7061, 'dalí': 7062, 'quantum': 7063, 'fa': 7064, 'metamodeling': 7065, 'noticing': 7066, 'costing': 7067, 'expressed': 7068, 'crosslanguage': 7069, 'ciphertext': 7070, 'allophonic': 7071, 'phonotactic': 7072, 'deployers': 7073, 'prompt': 7074, 'coma': 7075, 'unmodified': 7076, 'backoff': 7077, 'administrators': 7078, 'believable': 7079, 'tourism': 7080, 'prose': 7081, 'generalizaiton': 7082, 'cafeobj': 7083, 'regularised': 7084, 'wishful': 7085, 'viable': 7086, 'handprinted': 7087, 'practicing': 7088, 'judo': 7089, 'boards': 7090, 'essays': 7091, 'jisdos': 7092, 'icp': 7093, 'nonrigid': 7094, 'guis': 7095, 'shrex': 7096, 'appliances': 7097, 'dhts': 7098, 'j2me': 7099, 'heat': 7100, 'candidates': 7101, 'atom': 7102, 'customized': 7103, 'bundling': 7104, 'bregman': 7105, 'dpls': 7106, 'pol': 7107, 'around': 7108, 'seller': 7109, 'brazilian': 7110, 'dependences': 7111, 'omega': 7112, 'galax': 7113, 'partitionings': 7114, 'hop': 7115, 'amcr': 7116, 'dispatching': 7117, 'epos': 7118, 'byzantine': 7119, 'generals': 7120, 'magma': 7121, 'dominating': 7122, 'profitably': 7123, 'sed': 7124, 'prf': 7125, 'lends': 7126, 'intersections': 7127, 'mis': 7128, 'dumping': 7129, 'simrank': 7130, 'clickgraph': 7131, 'unlevel': 7132, 'chronology': 7133, 'newswires': 7134, 'bleu': 7135, 'fluxplayer': 7136, 'vowels': 7137, 'quest': 7138, 'viewers': 7139, 'analogue': 7140, 'declaration': 7141, 'closer': 7142, 'wordmeanings': 7143, 'sleeved': 7144, 'coclustering': 7145, 'blacklists': 7146, 'malicious': 7147, 'escape': 7148, 'polyglot': 7149, 'interrelationship': 7150, 'avionics': 7151, 'churn': 7152, 'finalization': 7153, 'readings': 7154, 'writes': 7155, 'viztree': 7156, 'wakashi': 7157, 'perceptually': 7158, 'efis': 7159, 'paramodulation': 7160, 'controllable': 7161, 'osamt': 7162, 'oqlt': 7163, 'conditioned': 7164, 'ballot': 7165, 'sincerity': 7166, 'proofness': 7167, 'diophantine': 7168, 'adverbials': 7169, 'refreshment': 7170, 'diverging': 7171, 'chi': 7172, 'validity': 7173, 'subgroup': 7174, 'nestream': 7175, 'intuitive': 7176, 'jarap': 7177, 'semcog': 7178, 'huberized': 7179, 'visitor': 7180, 'boomerang': 7181, 'resourceful': 7182, 'lenses': 7183, 'surviving': 7184, 'multiparadigm': 7185, 'idefix': 7186, 'browserank': 7187, 'consideration': 7188, 'eroc': 7189, 'neato': 7190, 'hosts': 7191, 'usind': 7192, 'installations': 7193, 'anycast': 7194, 'cdns': 7195, 'ferret': 7196, 'filestore': 7197, 'stdl': 7198, 'clide': 7199, 'defection': 7200, 'calculi': 7201, 'dancing': 7202, 'endearing': 7203, 'caede': 7204, 'multitasking': 7205, 'embdedded': 7206, 'traits': 7207, 'guaranteed': 7208, 'errorperformance': 7209, 'rippling': 7210, 'hub': 7211, 'groves': 7212, 'disproportionate': 7213, 'interventions': 7214, 'narrowing': 7215, 'ginga': 7216, 'tangent': 7217, 'sourcing': 7218, 'reloaded': 7219, 'encapsulated': 7220, 'smil': 7221, 'experimenting': 7222, 'revisits': 7223, 'seeding': 7224, 'underpinnings': 7225, 'taggerlemmatiser': 7226, 'collision': 7227, 'calibrated': 7228, 'maxq': 7229, 'mudular': 7230, 'workstyle': 7231, 'hotspots': 7232, 'fgp': 7233, 'kohonen': 7234, 'possibility': 7235, 'cascades': 7236, 'forgettings': 7237, 'ariel': 7238, 'ppcp': 7239, 'clear': 7240, 'supertagging': 7241, 'claim': 7242, 'mathematicians': 7243, 'pymk': 7244, 'friend': 7245, 'myspace': 7246, 'midas': 7247, 'periods': 7248, 'distinction': 7249, 'twittermonitor': 7250, 'reformulating': 7251, 'primes': 7252, 'drivers': 7253, 'assessors': 7254, 'mistakes': 7255, 'dipra': 7256, 'idef1': 7257, 'pearsons': 7258, 'considering': 7259, 'agglutinativity': 7260, 'spacing': 7261, 'correlativity': 7262, 'obliviousness': 7263, 'hallucination': 7264, 'tioga': 7265, 'drjava': 7266, 'pedagogic': 7267, 'educating': 7268, 'superarchitects': 7269, 'min': 7270, 'disabled': 7271, 'children': 7272, 'commercially': 7273, 'prenominal': 7274, 'bet': 7275, 'humancomputer': 7276, 'pubmed': 7277, 'hopper': 7278, 'visits': 7279, 'collocated': 7280, 'ugv': 7281, 'blurring': 7282, 'produces': 7283, 'artistic': 7284, 'calligraphy': 7285, 'fred': 7286, 'csurf': 7287, 'institutional': 7288, 'multipaging': 7289, 'momis': 7290, 'ssd': 7291, 'deeds': 7292, 'thetis': 7293, 'timeout': 7294, 'judgmental': 7295, 'dewild': 7296, 'cards': 7297, 'formalizations': 7298, 'marcus': 7299, 'cxhist': 7300, 'scavenger': 7301, 'unranked': 7302, 'semrank': 7303, 'destructors': 7304, 'finalizers': 7305, 'imecho': 7306, 'writers': 7307, 'potentiality': 7308, 'fulltext': 7309, 'retaliate': 7310, 'shooter': 7311, 'consisting': 7312, 'jive': 7313, 'jove': 7314, 'happens': 7315, 'retrievability': 7316, 'genesis': 7317, 'sliced': 7318, 'whirl': 7319, 'araneus': 7320, 'amount': 7321, 'disparity': 7322, 'anticipatory': 7323, 'multistage': 7324, 'weve': 7325, 'been': 7326, 'requirementsdesign': 7327, 'ucms': 7328, 'vsams': 7329, 'doritos': 7330, 'cylindrical': 7331, 'smoothed': 7332, 'rainbow': 7333, 'actiview': 7334, 'supersql': 7335, 'augmentative': 7336, 'hownet': 7337, 'pardes': 7338, 'proto': 7339, 'bistratal': 7340, 'subsentential': 7341, 'regularly': 7342, 'citri': 7343, 'modifier': 7344, 'disima': 7345, 'oddessy': 7346, 'programme': 7347, 'guides': 7348, 'patchwork': 7349, 'profiled': 7350, 'datablitz': 7351, 'maximizationminimization': 7352, 'gulf': 7353, 'deryaft': 7354, 'wt10g': 7355, 'proteins': 7356, 'thou': 7357, 'shalt': 7358, 'covet': 7359, 'thy': 7360, 'cake': 7361, 'wordform': 7362, 'aac': 7363, 'montage': 7364, 'queryable': 7365, 'kbse': 7366, 'checkmate': 7367, 'cornering': 7368, 'checked': 7369, 'cooccurrence': 7370, 'serpentine': 7371, 'drives': 7372, 'sentinel': 7373, 'tone': 7374, 'jazzmatch': 7375, 'introducng': 7376, 'kb': 7377, 'dj': 7378, 'fabric': 7379, 'augeas': 7380, 'authoritativeness': 7381, 'creepy': 7382, 'desired': 7383, 'foral': 7384, 'tweeted': 7385, 'gf': 7386, 'weaker': 7387, 'universality': 7388, 'diag': 7389, '1n': 7390, 'adventures': 7391, 'prompter': 7392, 'intelligibility': 7393, 'rcx': 7394, 'understand': 7395, 'qualification': 7396, 'toolset': 7397, 'tedi': 7398, 'marshaling': 7399, 'carrying': 7400, 'commitlsn': 7401, 'latching': 7402, 'synchronizer': 7403, 'ppm': 7404, 'caterogization': 7405, 'itaca': 7406, 'kbs': 7407, 'diluting': 7408, 'acid': 7409, 'projecting': 7410, 'weekday': 7411, 'thumbnail': 7412, 'mariposa': 7413, 'orchestral': 7414, 'accompaniment': 7415, 'lexica': 7416, 'morphologically': 7417, 'coexistence': 7418, 'reman': 7419, 'saliency': 7420, 'unconcerned': 7421, 'heritage': 7422, 'microcomputers': 7423, 'traveling': 7424, 'salesman': 7425, 'mint': 7426, 'separability': 7427, 'retieval': 7428, 'linearly': 7429, 'pagesim': 7430, 'aimilarity': 7431, 'permutations': 7432, 'governors': 7433, 'ubidata': 7434, 'expertconsultation': 7435, 'kl': 7436, 'butterfly\\x99': 7437, 'testo': 7438, 'ag': 7439, 'proteome': 7440, 'analyst': 7441, 'seeded': 7442, 'codebooks': 7443, 'habitats': 7444, 'adam': 7445, 'untyped': 7446, 'degraded': 7447, 'arbitrarily': 7448, 'gaining': 7449, 'tour': 7450, 'retroactive': 7451, 'namur': 7452, 'retrievals': 7453, 'hifi': 7454, 'fan': 7455, 'unite': 7456, 'mhp': 7457, 'idtv': 7458, 'presentable': 7459, 'underspecified': 7460, 'cascade': 7461, 'ranks': 7462, 'generalising': 7463, 'equijoins': 7464, 'apt': 7465, 'ois': 7466, 'numeral': 7467, 'episodic': 7468, 'iv': 7469, 'shuttle': 7470, 'tscan': 7471, 'tasking': 7472, 'emt': 7473, 'imperfectly': 7474, 'xtag': 7475, 'nexusscout': 7476, 'symmetries': 7477, 'margins': 7478, 'incoherent': 7479, 'degress': 7480, 'liquid': 7481, 'schedulable': 7482, 'daml': 7483, 'received': 7484, 'amazoncom': 7485, 'helpfulness': 7486, 'gpgpu': 7487, 'subtransitive': 7488, 'agreement': 7489, 'mearf': 7490, 'stencils': 7491, 'bengali': 7492, 'greek': 7493, 'deciding': 7494, 'stateless': 7495, 'pigeons': 7496, 'abducing': 7497, 'conclusions': 7498, 'split': 7499, 'clocks': 7500, 'thoughts': 7501, 'octopus': 7502, 'modality': 7503, 'planck': 7504, 'iconism': 7505, 'gains': 7506, 'scheduled': 7507, 'revi': 7508, 'warranty': 7509, 'goodwill': 7510, 'rdfpeers': 7511, 'ur': 7512, 'metaprogramming': 7513, 'deixis': 7514, 'formats': 7515, 'chatbot': 7516, 'fruit': 7517, 'embryo': 7518, 'webcrow': 7519, 'crossword': 7520, 'everyday': 7521, 'sketches': 7522, 'neuroscience': 7523, 'semiparametric': 7524, 'concatenation': 7525, 'precursor': 7526, 'traveler': 7527, 'multiversioned': 7528, 'generalisation': 7529, 'distortion': 7530, 'pape': 7531, 'printing': 7532, 'congestion': 7533, 'existentially': 7534, 'shine': 7535, 'id3': 7536, 'authentic': 7537, 'chat': 7538, 'room': 7539, 'recovered': 7540, 'proximal': 7541, 'rounding': 7542, 'geoplot': 7543, 'knowing': 7544, 'topicrank': 7545, 'bluetooth': 7546, 'nesting': 7547, 'football': 7548, 'moses': 7549, 'arisenisr': 7550, 'sharc': 7551, 'completing': 7552, 'dvss': 7553, 'ionterfaces': 7554, 'visibly': 7555, 'sounding': 7556, 'unpacking': 7557, 'bioscience': 7558, 'opac': 7559, 'permit': 7560, 'disciplines': 7561, 'catalogue': 7562, 'icons': 7563, 'objecttask': 7564, 'imds': 7565, 'naos': 7566, 'datascope': 7567, 'spices': 7568, 'murax': 7569, 'mix': 7570, 'domino': 7571, 'undertow': 7572, 'tms': 7573, 'ebay': 7574, 'docqs': 7575, 'aqax': 7576, 'randomised': 7577, 'interpretable': 7578, 'cops': 7579, 'gila': 7580, 'aggregaterank': 7581, 'men': 7582, 'richer': 7583, 'psychological': 7584, 'patches': 7585, 'isis': 7586, 'customizability': 7587, 'c2': 7588, 'matchbox': 7589, 'cmic': 7590, 'shot': 7591, 'tense': 7592, 'crf': 7593, 'opt': 7594, 'extend': 7595, 'sided': 7596, 'computationally': 7597, 'bdi': 7598, 'smoqe': 7599, 'fist': 7600, 'korat': 7601, 'winners': 7602, 'listwise': 7603, 'unfolding': 7604, 'submodular': 7605, 'classifications': 7606, 'snugglebug': 7607, 'simulate': 7608, 'tangram': 7609, 'recom': 7610, 'vgm': 7611, 'khufu': 7612, 'generativediscriminative': 7613, 'javaxxxl': 7614, 'semdiff': 7615, 'att': 7616, 'netweaver': 7617, 'graphplans': 7618, 'maybms': 7619, 'clustra': 7620, 'telecom': 7621, 'hodfa': 7622, 'homogenizing': 7623, 'kdms': 7624, 'krisys': 7625, 'csv': 7626, 'datacubes': 7627, 'planetary': 7628, 'webml': 7629, 'vip': 7630, 'vml': 7631, 'underrepresented': 7632, 'multicriteria': 7633, 'blosom': 7634, 'reconsidered': 7635, 'bordaconsensus': 7636, 'calin': 7637, 'logarithmic': 7638, 'assertional': 7639, 'munin': 7640, 'electromyographic': 7641, 'findings': 7642, 'nooksack': 7643, 'falls': 7644, 'hydroelectric': 7645, 'station': 7646, 'xanadue': 7647, 'arity': 7648, 'kalman': 7649, 'iliad': 7650, 'oklahoma': 7651, 'fetching': 7652, 'nondeterminism': 7653, 'shadowing': 7654, 'ware': 7655, 'vibe': 7656, 'geotagged': 7657, 'inexpressivity': 7658, 'monad': 7659, 'transformers': 7660, 'myportal': 7661, 'menu': 7662, 'vimsys': 7663, 'aptly': 7664, 'summarizatiion': 7665, 'gai': 7666, 'tomita': 7667, 'exquex': 7668, 'geoenvironmental': 7669, 'mismatched': 7670, 'turn': 7671, 'demonstrations': 7672, 'citations': 7673, 'oracles': 7674, 'triples': 7675, 'subscribed': 7676, 'proportion': 7677, 'transportation': 7678, 'forgotten': 7679, 'connective': 7680, 'loaded': 7681, 'xel': 7682, 'hollands': 7683, 'congruence': 7684, 'considered': 7685, 'graduated': 7686, 'exposure': 7687, 'zoning': 7688, 'chemistry': 7689, 'illustrated': 7690, 'er': 7691, 'twicpen': 7692, 'held': 7693, 'scanner': 7694, 'rete': 7695, 'inclusions': 7696, 'textmole': 7697, 'reconstructive': 7698, 'hyperlink': 7699, 'eventually': 7700, 'kit': 7701, 'hyspirit': 7702, 'picky': 7703, 'dsps': 7704, 'cssv': 7705, 'recsplorer': 7706, 'demeter': 7707, 'keyphrases': 7708, 'fashion': 7709, 'wearable': 7710, 'ddc': 7711, 'genres': 7712, 'lisp7o': 7713, '40': 7714, 'i4e': 7715, 'genie': 7716, 'raising': 7717, 'directionality': 7718, 'basenp': 7719, 'besoins': 7720, 'lexicaux': 7721, 'lumiere': 7722, 'lanalyse': 7723, 'statistique': 7724, 'projet': 7725, 'bref': 7726, 'bdlex': 7727, 'francais': 7728, 'ecrit': 7729, 'et': 7730, 'crafted': 7731, 'cocqa': 7732, 'eurotra': 7733, 'factorizing': 7734, 'ipodlinux': 7735, 'os': 7736, 'penalties': 7737, 'hyperparamodulation': 7738, 'cleansing': 7739, 'crowded': 7740, 'cooccurance': 7741, 'majic': 7742, 'matlab': 7743, 'responsiveness': 7744, 'inquiry': 7745, 'broader': 7746, 'recycling': 7747, 'axiom': 7748, 'failsafe': 7749, 'floor': 7750, 'ebg': 7751, 'limeds': 7752, 'lincks': 7753, 'delayre': 7754, 'eracer': 7755, 'miniconference': 7756, 'paraphraser': 7757, 'entityrank': 7758, 'holistically': 7759, 'cgi': 7760, 'modperl': 7761, 'plangoal': 7762, 'laminar': 7763, 'lifestyle': 7764, 'ilsa': 7765, 'idbd': 7766, 'dbtg': 7767, 'monitors': 7768, 'clir': 7769, 'unsuccessful': 7770, 'expedite': 7771, 'acquire': 7772, 'investigaton': 7773, 'competitions': 7774, 'sell': 7775, 'conditionally': 7776, 'advertisement': 7777, 'popfed': 7778, 'instace': 7779, 'amn': 7780, 'laser': 7781, 'memoizer': 7782, 'ict': 7783, 'enriched': 7784, 'limit': 7785, 'spirit': 7786, 'diagnoses': 7787, 'terraserver': 7788, 'barriers': 7789, 'widespread': 7790, 'pbfilter': 7791, 'tirs': 7792, 'waller': 7793, 'kraft': 7794, 'triplet': 7795, 'regional': 7796, 'promise': 7797, 'perils': 7798, 'likelihoods': 7799, 'dictations': 7800, 'bind': 7801, 'topx': 7802, 'dare': 7803, 'weathra': 7804, 'interrupt': 7805, 'teacher': 7806, 'honorifics': 7807, 'recur': 7808, 'equation': 7809, 'dm': 7810, 'pict': 7811, 'overloading': 7812, 'ccgs': 7813, 'raised': 7814, 'stereotrust': 7815, 'taxonomical': 7816, 'featureide': 7817, 'apprentice': 7818, 'scsl': 7819, 'sox': 7820, 'insite': 7821, 'demon': 7822, 'authorization': 7823, 'lotos': 7824, 'doc': 7825, 'prob': 7826, 'maxn': 7827, 'brained': 7828, 'morphing': 7829, 'rhode': 7830, 'boosts': 7831, 'sac': 7832, 'cleanliness': 7833, 'cdn': 7834, 'zones': 7835, 'comes': 7836, '94': 7837, 'tpr': 7838, 'altricial': 7839, 'precocial': 7840, 'intro': 7841, 'compatibilities': 7842, 'synonym': 7843, 'diabetic': 7844, 'cuber': 7845, 'subsystems': 7846, 'spectroscopy': 7847, 'eigenspaces': 7848, 'mugi': 7849, 'wap': 7850, 'restore': 7851, 'detective': 7852, 'defeating': 7853, 'enforced': 7854, 'xtream': 7855, 'hdsampler': 7856, 'teleputing': 7857, 'corev': 7858, 'averaged': 7859, 'mlcs': 7860, 'urdu': 7861, 'tinycasper': 7862, 'routes': 7863, 'perpetual': 7864, 'cc2001': 7865, 'cited': 7866, 'inection': 7867, 'quantized': 7868, 'parsercompiler': 7869, 'v8': 7870, '4': 7871, 'sintesi': 7872, 'honesty': 7873, 'marketplaces': 7874, 'nonemptiness': 7875, 'scannerless': 7876, 'nslr1': 7877, 'recognizers': 7878, 'lmrp': 7879, 'quickstart': 7880, 'ltrules': 7881, 'rose': 7882, 'retail': 7883, 'outlet': 7884, 'precomputed': 7885, 'mss': 7886, 'mus': 7887, 'cyberwar': 7888, 'harmless': 7889, 'arsa': 7890, 'impediments': 7891, 'ops5': 7892, 'undesired': 7893, 'grammer': 7894, 'arising': 7895, 'invert': 7896, 'realism': 7897, 'hrdm': 7898, 'lifespans': 7899, 'surrogates': 7900, 'comprehensions': 7901, 'tradeoff': 7902, 'unpredictable': 7903, 'loanwords': 7904, 'leaming': 7905, 'yoopick': 7906, 'sports': 7907, 'arcs': 7908, 'rapidly': 7909, '2pxminer': 7910, 'openrulebench': 7911, 'presenter': 7912, 'lecturing': 7913, 'hugin': 7914, 'universes': 7915, 'phrasetable': 7916, 'medians': 7917, 'insanity': 7918, 'himotoki': 7919, 'diagonal': 7920, 'nightmare': 7921, 'mlisp2': 7922, 'multifractals': 7923, 'nonmontonic': 7924, 'traitor': 7925, 'comprehensible': 7926, 'fzi': 7927, 'karlsruhe': 7928, 'dfr': 7929, 'setups': 7930, 'satisficing': 7931, 'prisoner': 7932, 'webquilt': 7933, 'offics': 7934, 'telling': 7935, 'toggle': 7936, 'pebm': 7937, 'homomorphism': 7938, 'downward': 7939, 'upward': 7940, 'cfls': 7941, 'stencil': 7942, 'distinctness': 7943, 'dqp': 7944, 'sybase': 7945, 'ase': 7946, 'congolog': 7947, 'investigations': 7948, 'marriage': 7949, 'indexation': 7950, 'lapprentissage': 7951, 'pronomial': 7952, 'mud': 7953, 'damage': 7954, 'quarantine': 7955, 'mission': 7956, 'minesweeper': 7957, 'cocoviz': 7958, 'vizql': 7959, 'simdb': 7960, 'replies': 7961, 'contextualization': 7962, 'unorganized': 7963, 'empower': 7964, 'privileged': 7965, 'bantu': 7966, 'psychsim': 7967, 'threat': 7968, 'dcube': 7969, 'wa': 7970, 'disguised': 7971, 'encounter': 7972, 'cws': 7973, 'colorful': 7974, 'factorisation': 7975, 'diffuse': 7976, 'failing': 7977, 'hearsay': 7978, 'reallocation': 7979, 'cpm': 7980, 'wlans': 7981, 'deadliner': 7982, 'niche': 7983, 'velodrome': 7984, 'drastic': 7985, 'sequentially': 7986, 'numericalvectors': 7987, 'published': 7988, 'confluence': 7989, 'mangers': 7990, 'synthesized': 7991, 'dispositions': 7992, 'converses': 7993, 'pumping': 7994, 'lemmas': 7995, 'forth': 7996, 'tuple': 7997, 'homogeneity': 7998, 'wdas': 7999, '2006': 8000, 'frontal': 8001, 'print': 8002, 'feistel': 8003, 'rounds': 8004, 'equip': 8005, 'tourists': 8006, 'travelogues': 8007, 'prepare': 8008, 'martlet': 8009, 'abstracted': 8010, 'parallelisation': 8011, 'inc': 8012, 'rubric': 8013, 'longitudinal': 8014, 'tagmark': 8015, 'estimations': 8016, 'chianti': 8017, 'printed': 8018, 'twigs': 8019, 'undecidable': 8020, 'rdbvms': 8021, 'skeleton': 8022, 'forensics': 8023, 'permanents': 8024, 'polytopes': 8025, 'multidisciplinary': 8026, 'youtube': 8027, 'spc': 8028, 'cwb': 8029, 'interchangeabilities': 8030, 'resolve': 8031, 'venture': 8032, 'threesomes': 8033, 'blame': 8034, 'methodical': 8035, 'fasttrack': 8036, 'dolap07': 8037, 'fcvw': 8038, 'plug': 8039, 'csd': 8040, 'uoc': 8041, 'inconsisent': 8042, 'seth': 8043, 'gc': 8044, 'ilp': 8045, 'compressive': 8046, 'solo': 8047, 'orthosis': 8048, 'perturb': 8049, 'interruptable': 8050, 'career': 8051, 'disentangling': 8052, 'called': 8053, 'punctuality': 8054, 'hierarchyscan': 8055, 'flexpath': 8056, 'surveys': 8057, 'autotagging': 8058, 'closurize': 8059, 'concentrate': 8060, 'magical': 8061, 'coil': 8062, 'cognate': 8063, 'orthography': 8064, 'workfile': 8065, 'mergesorts': 8066, 'dignosis': 8067, 'alibi': 8068, 'timestamping': 8069, 'wiser': 8070, 'deliberative': 8071, 'apprenticeship': 8072, 'meme': 8073, 'cycle': 8074, 'advantage': 8075, 'nf': 8076, 'voronoi': 8077, 'ditributed': 8078, 'raddle': 8079, 'consultant': 8080, 'lid': 8081, 'never': 8082, 'spotfire': 8083, 'ale': 8084, 'assume': 8085, 'svd': 8086, 'houston': 8087, 'oxygen': 8088, 'tank': 8089, 'ariesim': 8090, 'broken': 8091, 'plural': 8092, 'billion': 8093, 'synthetic': 8094, 'embeddings': 8095, 'extenders': 8096, 'flattening': 8097, 'grocery': 8098, 'merits': 8099, 'smallest': 8100, 'lcas': 8101, 'humanoid': 8102, 'gemini': 8103, 'advertisers': 8104, 'marion': 8105, 'retargetable': 8106, 'networkweb': 8107, 'others': 8108, 'esp': 8109, 'quota': 8110, 'statement': 8111, 'dlv': 8112, 'agora': 8113, 'atm': 8114, 'dely': 8115, 'pmi': 8116, 'noncorrecting': 8117, 'cubeexplorer': 8118, 'partitional': 8119, 'simplify': 8120, 'deckard': 8121, 'transcription': 8122, 'opium': 8123, 'installuninstall': 8124, 'generational': 8125, 'validator': 8126, 'grassmann': 8127, 'preferable': 8128, 'gameboy': 8129, 'homebrew': 8130, 'metho': 8131, 'metaclasses': 8132, 'provisioning': 8133, 'unreliable': 8134, 'substitutability': 8135, 'csiec': 8136, 'bootstrapped': 8137, 'codecrawler': 8138, 'pepsys': 8139, 'ntjfsatnot': 8140, 'downdate': 8141, 'commands': 8142, 'diet': 8143, 'foks': 8144, 'scavenging': 8145, 'concerning': 8146, 'purposeful': 8147, 'dossier': 8148, 'contraints': 8149, 'alen': 8150, 'calculating': 8151, 'quirky': 8152, 'sor': 8153, 'sagas': 8154, 'navigations': 8155, 'hinting': 8156, 'indexable': 8157, 'pla': 8158, 'nlhe': 8159, 'village': 8160, 'conways': 8161, 'datasplash': 8162, 'bagger': 8163, 'extends': 8164, 'generalizes': 8165, 'pasta': 8166, '3s': 8167, 'brooklyn': 8168, 'teenage': 8169, 'persons': 8170, 'dementia': 8171, 'cognitively': 8172, 'describe': 8173, 'rigel': 8174, 'prospective': 8175, 'assumeguarantee': 8176, 'verisoft': 8177, 'montague': 8178, 'restarting': 8179, 'codesign': 8180, 'odesew': 8181, 'pddl': 8182, 'naturally': 8183, 'provable': 8184, 'ituned': 8185, 'lost': 8186, 'gpu': 8187, 'socializing': 8188, 'uksearch': 8189, 'storylines': 8190, 'reality': 8191, 'leadership': 8192, 'metareasoning': 8193, 'orden': 8194, 'volatility': 8195, 'empowering': 8196, 'millenium': 8197, 'mad': 8198, 'abe': 8199, 'hps': 8200, 'xas': 8201, 'componentized': 8202, 'lexemes': 8203, 'idarex': 8204, 'discernment': 8205, 'reconnaissance': 8206, 'worldwide': 8207, 'telescope': 8208, 'scramble': 8209, 'encrypt': 8210, 'falcon': 8211, 'psr': 8212, 'jkarelrobot': 8213, 'monologue': 8214, 'accadian': 8215, 'mul': 8216, 'green': 8217, 'illustration': 8218, 'corel': 8219, 'pipe': 8220, 'fork': 8221, 'resoution': 8222, 'danaphore': 8223, 'partir': 8224, 'dun': 8225, 'grammaire': 8226, 'verbes': 8227, 'anaphoriques': 8228, 'sparsely': 8229, 'btrees': 8230, 'mrd': 8231, 'mistake': 8232, 'sending': 8233, 'capable': 8234, 'federations': 8235, 'immigration': 8236, 'bolasso': 8237, 'maintainers': 8238, 'utilize': 8239, 'knapsack': 8240, 'kda': 8241, 'chaotic': 8242, 'expense': 8243, 'reimbursement': 8244, 'subroutines': 8245, 'goethe': 8246, 'hypersurfaces': 8247, 'quantity': 8248, 'hyperspread': 8249, 'cbir': 8250, 'quad': 8251, 'password': 8252, 'salts': 8253, '3dstring': 8254, 'voxelized': 8255, 'recognizer': 8256, 'garlic': 8257, 'flavor': 8258, 'duping': 8259, 'quasigroup': 8260, 'fostering': 8261, 'niagaracq': 8262, 'rendered': 8263, 'doodle': 8264, 'persuasive': 8265, 'aod': 8266, 'tiie': 8267, 'hal': 8268, 'sprinkling': 8269, 'yields': 8270, 'restoring': 8271, 'interpretive': 8272, 'weiner': 8273, 'presenting': 8274, 'microkernels': 8275, 'submodule': 8276, 'nitpick': 8277, 'quotations': 8278, 'inserted': 8279, 'arena': 8280, 'infusion': 8281, 'trick': 8282, 'rpref': 8283, 'bpref': 8284, 'due': 8285, 'ccured': 8286, 'retrofitting': 8287, 'asilomar': 8288, 'isolating': 8289, 'claremont': 8290, 'passwords': 8291, 'absence': 8292, 'cursive': 8293, 'charting': 8294, 'depths': 8295, 'bdd': 8296, 'polytime': 8297, 'schedulers': 8298, 'planarisation': 8299, 'stl': 8300, 'sardsrn': 8301, 'winnowing': 8302, 'subexpression': 8303, 'unknowns': 8304, 'prevent': 8305, 'stages': 8306, 'horizontally': 8307, 'rings': 8308, 'misconfigured': 8309, 'quantative': 8310, 'trackers': 8311, 'mercy': 8312, 'turings': 8313, 'dream': 8314, 'sndocrank': 8315, 'parsetalk': 8316, 'nonrecursive': 8317, 'heavy': 8318, 'tailed': 8319, 'dewey': 8320, 'gp': 8321, 'lvm': 8322, 'dempster': 8323, 'shafers': 8324, 'mirror': 8325, 'moby': 8326, 'disco': 8327, 'novo': 8328, 'gogo': 8329, 'mallows': 8330, 'tge': 8331, 'tlinks': 8332, 'legged': 8333, 'spicy': 8334, 'chomsky': 8335, 'diderichsen': 8336, 'progressing': 8337, 'sim': 8338, 'keyhole': 8339, 'robotstxt': 8340, 'mpsocs': 8341, 'comment': 8342, 'undirected': 8343, 'sgl': 8344, 'asymmetrically': 8345, 'collocational': 8346, 'unconditional': 8347, 'jumps': 8348, 'stick': 8349, 'i11': 8350, 'replicability': 8351, 'peg': 8352, 'towers': 8353, 'hanoi': 8354, 'grabber': 8355, 'quickstore': 8356, 'circumspective': 8357, 'inclusive': 8358, 'myopia': 8359, 'hill': 8360, 'sessionlock': 8361, 'eavesdropping': 8362, 'egs': 8363, 'kana': 8364, 'expressional': 8365, 'uninteresting': 8366, 'pdl': 8367, 'datapath': 8368, 'revisted': 8369, 'projectron': 8370, 'portlet': 8371, 'tbt': 8372, 'interating': 8373, 'normalisation': 8374, 'sums': 8375, 'customes': 8376, 'port': 8377, 'singapore': 8378, 'psa': 8379, 'dualising': 8380, 'quiescene': 8381, 'sacrifices': 8382, 'ransac': 8383, 'cylinders': 8384, 'ball': 8385, 'lham': 8386, '8': 8387, 'flowgraphs': 8388, 'tensorial': 8389, 'flick': 8390, 'idl': 8391, 'graphscope': 8392, 'lean': 8393, 'alep': 8394, 'routines': 8395, 'concernlines': 8396, 'occurring': 8397, 'erknn': 8398, 'behaved': 8399, 'psiphi': 8400, 'norm': 8401, 'locus': 8402, 'ray': 8403, 'forces': 8404, 'mbrs': 8405, 'rhythms': 8406, 'megaprogramming': 8407, 'once': 8408, 'kemeny': 8409, 'eigentransfer': 8410, 'combinatorical': 8411, 'queues': 8412, 'asp': 8413, 'initiator': 8414, 'gateways': 8415, 'mr': 8416, 'substrings': 8417, 'lrk': 8418, 'graduating': 8419, 'beamforming': 8420, 'destructive': 8421, 'bot': 8422, 'instantiating': 8423, 'coefficients': 8424, 'senselearner': 8425, 'mereology': 8426, 'modularized': 8427, 'multicontainer': 8428, 'contracting': 8429, 'ebusiness': 8430, 'bridger': 8431, 'edition': 8432, 'impression': 8433, 'nonprofit': 8434, 'housing': 8435, 'objectrelational': 8436, 'hibernate': 8437, 'edm': 8438, 'binaries': 8439, 'autopilot': 8440, 'fleet': 8441, 'counterexamples': 8442, 'uninterrupted': 8443, 'peta': 8444, 'geospatial': 8445, 'esc': 8446, 'mitosis': 8447, 'yam': 8448, 'informativeness': 8449, 'coresets': 8450, 'granger': 8451, 'make3d': 8452, 'stholes': 8453, 'pacer': 8454, 'races': 8455, 'theontologies': 8456, 'fclust': 8457, 'qualified': 8458, 'reflect': 8459, 'transversals': 8460, 'hardening': 8461, 'backend': 8462, 'nonground': 8463, 'nationwide': 8464, 'phoebus': 8465, 'pad': 8466, 'blackbox': 8467, 'carnot': 8468, 'weibull': 8469, 'dwell': 8470, 'bnn': 8471, 'reconceptualizing': 8472, 'isetl': 8473, 'overspecified': 8474, 'victoria': 8475, 'wellington': 8476, 'cork': 8477, 'confirmations': 8478, 'facets': 8479, 'kabiria': 8480, 'stakeholder': 8481, 'inegration': 8482, 'harnessing': 8483, 'manageable': 8484, 'searchersystem': 8485, 'pfs': 8486, 'sleep': 8487, 'peace': 8488, 'pseudolikelihood': 8489, 'gdr': 8490, 'restraints': 8491, 'attract': 8492, 'mc': 8493, 'telegraphic': 8494, 'leap': 8495, 'believe': 8496, 'soap': 8497, 'maintainability': 8498, 'xcon': 8499, 'modalities': 8500, 'alitheia': 8501, 'chord': 8502, 'curated': 8503, 'judgment': 8504, 'excerpts': 8505, 'tijah': 8506, 'dataflows': 8507, 'xmdvtool': 8508, 'iskodor': 8509, 'paragraphs': 8510, 'composable': 8511, 'trusted': 8512, 'mostly': 8513, 'inking': 8514, 'multifactor': 8515, 'tods': 8516, 'alt': 8517, 'je': 8518, 'menory': 8519, 'agna': 8520, 'orgenization': 8521, 'dpmis': 8522, 'reflections': 8523, 'boyce': 8524, 'squared': 8525, 'tmss': 8526, 'protected': 8527, 'corrections': 8528, 'hourly': 8529, 'mpeg': 8530, 'dance': 8531, 'roccer': 8532, 'insecure': 8533, 'enactability': 8534, 'alternation': 8535, 'oops': 8536, 'faciltity': 8537, 'offloading': 8538, 'zbroker': 8539, 'z3950': 8540, '¬1nf': 8541, 'occupancy': 8542, 'releases': 8543, 'synergies': 8544, 'sehas': 8545, 'propagated': 8546, 'unmasking': 8547, 'lc3uarch': 8548, 'lc': 8549, 'microarchitecture': 8550, 'faqs': 8551, 'semisupervised': 8552, 'coevolved': 8553, 'specialists': 8554, 'consistently': 8555, 'conjuncts': 8556, 'utilizations': 8557, 'diagrammatic': 8558, 'sunny': 8559, 'sibling': 8560, 'haemo': 8561, 'dialysis': 8562, 'jiljuliette': 8563, 'evicted': 8564, 'smaller': 8565, 'eventualities': 8566, 'immigrant': 8567, 'questionbank': 8568, 'jan': 8569, 'janninks': 8570, 'cold': 8571, 'hypernym': 8572, 'boost': 8573, 'precondition': 8574, 'cclisp\\x99': 8575, 'ipsc\\x99': 8576, 'mohca': 8577, 'anaphors': 8578, 'reactivity': 8579, 'hmms': 8580, 'moved': 8581, 'liteminutes': 8582, 'minutes': 8583, 'extensionality': 8584, 'intensionality': 8585, 'authorial': 8586, 'ttd': 8587, 'inspectors': 8588, 'produced': 8589, 'cart': 8590, 'workspaces': 8591, 'alloy': 8592, 'magazine': 8593, 'tam': 8594, 'jeli': 8595, 'promoters': 8596, 'jun': 8597, 'idrqr': 8598, 'qr': 8599, 'exel': 8600, 'vexed': 8601, 'turmoil': 8602, 'locale': 8603, 'share': 8604, 'swarming': 8605, 'lexicase': 8606, 'thrashing': 8607, 'facetnet': 8608, 'evolutions': 8609, 'dct': 8610, 'irisnet': 8611, 'aircraft': 8612, 'xqgen': 8613, 'consonant': 8614, 'interdependent': 8615, 'indexical': 8616, 'collapsed': 8617, 'crystal': 8618, 'landing': 8619, 'malpha': 8620, 'ethnicity': 8621, 'subgoals': 8622, 'predetermined': 8623, 'lotus': 8624, 'tastier': 8625, 'grammatico': 8626, 'laying': 8627, 'webcluster': 8628, 'committee': 8629, 'verificatino': 8630, 'efforts': 8631, 'callassist': 8632, 'criminals': 8633, 'duplicated': 8634, 'soping': 8635, 'impersonate': 8636, 'apl': 8637, 'pseudoword': 8638, 'html2rss': 8639, 'upml': 8640, 'mmr': 8641, 'advertiser': 8642, 'adfactors': 8643, 'ants': 8644, 'fortran': 8645, '90': 8646, 'imputations': 8647, 'inertia': 8648, 'unstable': 8649, 'backtrack': 8650, 'csi': 8651, '1998': 8652, 'styled': 8653, 'picsdesk': 8654, 'occams': 8655, 'razor': 8656, 'got': 8657, 'sharper': 8658, 'microbial': 8659, 'img': 8660, 'plain': 8661, 'ansix3sparc': 8662, 'descriptor': 8663, 'ictd': 8664, 'periodically': 8665, 'compose': 8666, 'pq': 8667, 'surprise': 8668, 'jointree': 8669, 'atomate': 8670, 'unanticipated': 8671, 'eurolang': 8672, 'homer': 8673, 'cbmir': 8674, 'mimic': 8675, 'system370': 8676, 'bicycling': 8677, 'proves': 8678, 'downloading': 8679, 'fsa': 8680, 'chips': 8681, 'paragon': 8682, 'servicing': 8683, 'tye': 8684, 'gimmick': 8685, 'listings': 8686, 'starts': 8687, 'hux': 8688, 'schemacentric': 8689, 'vm': 8690, 'steiner': 8691, 'minimips': 8692, 'tributaries': 8693, 'deltas': 8694, 'recrawling': 8695, 'caprera': 8696, 'parity': 8697, 'upgrade': 8698, 'degradations': 8699, 'rebuilds': 8700, 'mature': 8701, 'drinking': 8702, 'firehose': 8703, 'quiver': 8704, 'colorectal': 8705, 'ineffectiveness': 8706, 'umist': 8707, 'reconfiguration': 8708, 'decomposed': 8709, 'visualizaiton': 8710, 'copies': 8711, 'bloat': 8712, 'variants': 8713, 'idle': 8714, 'agm': 8715, 'javas': 8716, 'parsable': 8717, 'symchaff': 8718, 'smarter': 8719, 'geromesuite': 8720, 'constrain': 8721, 'senserelate': 8722, 'targetword': 8723, 'deas': 8724, 'georgia': 8725, 'computes': 8726, 'purely': 8727, 'ordinary': 8728, 'symbolico': 8729, 'documentary': 8730, 'interrogation': 8731, 'explicitly': 8732, 'telemeetings': 8733, 'liter': 8734, 'mismatches': 8735, 'statecharts': 8736, 'gestalts': 8737, 'outline': 8738, 'differently': 8739, 'kbmss': 8740, 'expertclerk': 8741, 'navigating': 8742, 'shoppers': 8743, 'buying': 8744, 'reefs': 8745, 'itopn': 8746, 'approximately': 8747, 'inequal': 8748, 'accumulation': 8749, 'interplay': 8750, 'moral': 8751, 'luposdate': 8752, 'discriminants': 8753, 'contstruct': 8754, 'weaver': 8755, 'remotely': 8756, 'sensed': 8757, 'geophysical': 8758, 'sushi': 8759, 'surfing': 8760, 'wysiwyt': 8761, 'evaluators': 8762, 'integrates': 8763, 'pr': 8764, 'cords': 8765, 'cogram': 8766, 'alcogram': 8767, 'placements': 8768, 'survival': 8769, 'critically': 8770, 'vec': 8771, 'xqforms': 8772, 'derivations': 8773, 'cadena': 8774, 'tulsa': 8775, 'amd': 8776, 'athlon': 8777, 'predator': 8778, 'kato': 8779, 'deploying': 8780, 'genomics': 8781, 'affordable': 8782, 'msn': 8783, 'sr': 8784, 'bpel': 8785, 'realities': 8786, 'neighbourhoods': 8787, 'scriptease': 8788, 'conspectus': 8789, 'nonprocedural': 8790, 'ucgs': 8791, 'mfis': 8792, 'peripheral': 8793, 'foveal': 8794, 'osprey': 8795, 'autonomously': 8796, 'semantifying': 8797, 'tricolor': 8798, 'infocrystal': 8799, 'unplugged': 8800, 'mergesort': 8801, 'aim': 8802, 'parameterised': 8803, 'bitmaps': 8804, 'sigir': 8805, 'proceedings': 8806, 'fractured': 8807, 'mirrors': 8808, 'calligraphic': 8809, 'consortium': 8810, 'permissions': 8811, 'aide': 8812, 'vocal': 8813, 'oraclizable': 8814, 'kahns': 8815, 'ipp': 8816, 'hedge': 8817, 'adls': 8818, 'coincidence': 8819, 'synthesizer': 8820, 'denormalization': 8821, 'lexicography': 8822, 'bitbots': 8823, 'rebound': 8824, 'sorter': 8825, 'infers': 8826, 'biasing': 8827, 'familiarity': 8828, 'inhomogeneous': 8829, 'pba': 8830, 'unplanned': 8831, 'deviations': 8832, 'simultaneously': 8833, 'bracketing': 8834, 'epci': 8835, 'potentially': 8836, 'infringement': 8837, 'hcc': 8838, 'undecomposable': 8839, 'shuffle': 8840, 'crossover': 8841, 'rescoring': 8842, 'ccc': 8843, 'incorporated': 8844, 'symp': 8845, 'plight': 8846, 'coca': 8847, 'seminal': 8848, 'metaheuristic': 8849, 'ideographic': 8850, 'latin': 8851, 'gpus': 8852, 'reservation': 8853, 'traceback': 8854, 'cheshire': 8855, 'wll': 8856, 'lemmatization': 8857, 'citeseer': 8858, 'interlinking': 8859, 'rhist': 8860, 'reu': 8861, 'sdoc': 8862, 'vistrails': 8863, 'deferring': 8864, 'mpe': 8865, 'lots': 8866, 'ticks': 8867, 'billions': 8868, 'trades': 8869, 'quotes': 8870, 'characterising': 8871, 'gazpacho': 8872, 'rash': 8873, 'occurence': 8874, 'calysto': 8875, 'ns2': 8876, 'searchable': 8877, 'classpects': 8878, 'programmability': 8879, 'stereographics': 8880, 'proust': 8881, 'onyx': 8882, 'constantly': 8883, 'moments': 8884, 'dijkstras': 8885, 'xspect': 8886, 'xlink': 8887, 'interchangeability': 8888, 'dummy': 8889, 'complementation': 8890, 'haplo': 8891, 'replets': 8892, 'upending': 8893, 'uncanny': 8894, 'valley': 8895, 'upgrading': 8896, 'ipsi': 8897, 'worked': 8898, 'didnt': 8899, 'naga': 8900, 'deviant': 8901, 'instrumented': 8902, 'discoverability': 8903, 'airfare': 8904, 'minimize': 8905, 'breakpoints': 8906, 'brand': 8907, 'gigabits': 8908, 'gem': 8909, 'cur': 8910, 'ucc': 8911, 'metadeliberation': 8912, 'logicist': 8913, 'multipotential': 8914, 'comparsion': 8915, 'schemascope': 8916, 'statisticallinguistic': 8917, 'gists': 8918, 'youserv': 8919, 'computed': 8920, 'invitational': 8921, 'arpansf': 8922, 'indormation': 8923, 'cbr': 8924, 'drive': 8925, 'war': 8926, 'hyperbase': 8927, 'interchangeable': 8928, 'autofeed': 8929, 'webfeeds': 8930, 'proportions': 8931, 'mereotopology': 8932, 'multivalued': 8933, 'disequilibration': 8934, 'persian': 8935, 'fagin': 8936, 'epistatic': 8937, 'hy': 8938, 'hygraph': 8939, 'halsteads': 8940, 'python': 8941, 'deadlines': 8942, 'driving': 8943, 'switched': 8944, 'outcome': 8945, 'scratchpad': 8946, 'sensemaking': 8947, 'subproblems': 8948, 'periodical': 8949, 'discriminators': 8950, 'bitam': 8951, 'admixture': 8952, 'dormant': 8953, 'corollary': 8954, 'intermittent': 8955, 'yesterday': 8956, 'minds': 8957, 'distinguish': 8958, 'gentzen': 8959, 'formel': 8960, 'complements': 8961, 'pitfalls': 8962, 'spice': 8963, 'critic': 8964, 'childrens': 8965, 'guardians': 8966, 'columbia': 8967, 'ids': 8968, 'monochromatic': 8969, 'bichromatic': 8970, 'on2l': 8971, 'quotient': 8972, 'composed': 8973, 'downside': 8974, 'weird': 8975, 'ttp': 8976, 'ngram': 8977, 'xarch': 8978, 'deviants': 8979, 'innovations': 8980, 'taga': 8981, 'agentcities': 8982, 'folds': 8983, 'infused': 8984, 'aspera': 8985, 'generalizations': 8986, 'especially': 8987, 'bdioctl': 8988, 'obstacle': 8989, 'monocular': 8990, 'nd': 8991, 'detail': 8992, 'plot': 8993, 'ensuring': 8994, 'privileges': 8995, 'rescue': 8996, 'relaxing': 8997, 'blockmodels': 8998, 'relatedness': 8999, 'interdependencies': 9000, 'pramatics': 9001, 'annealing': 9002, 'travelling': 9003, 'declarations': 9004, 'freeform': 9005, 'alternate': 9006, 'rekeying': 9007, 'triggered': 9008, 'sounds': 9009, 'unboxed': 9010, 'jinn': 9011, 'sqldata': 9012, '05': 9013, 'ufos': 9014, 'artful': 9015, 'ot': 9016, 'produce': 9017, 'localizing': 9018, 'homotopy': 9019, 'pianists': 9020, 'perceptive': 9021, 'explore': 9022, 'elevation': 9023, 'watchman': 9024, 'mujava': 9025, '1994': 9026, 'honest': 9027, 'southern': 9028, 'earthquake': 9029, 'asset': 9030, 'sl5': 9031, 'redwoods': 9032, 'reflection': 9033, 'ood': 9034, 'beginning': 9035, 'severities': 9036, 'restrictive': 9037, 'metaclustering': 9038, 'textal\\x99': 9039, 'crystallographic': 9040, 'timestamped': 9041, 'ldap': 9042, 'timely': 9043, 'suade': 9044, 'ary': 9045, 'ice': 9046, 'frank': 9047, 'predominant': 9048, 'comparatives': 9049, 'speculations': 9050, 'xquec': 9051, 'bibnetminer': 9052, 'largest': 9053, 'networkever': 9054, 'arnetminer': 9055, 'multithreading': 9056, 'fdm': 9057, 'faithful': 9058, 'nltk': 9059, 'ebag': 9060, 'conquers': 9061, 'plurals': 9062, 'taped': 9063, 'highlighting': 9064, 'disputed': 9065, 'claims': 9066, 'featurehouse': 9067, 'deciphering': 9068, 'affecting': 9069, 'infominer': 9070, 'mechanized': 9071, 'unobtrusive': 9072, 'xmas': 9073, 'incomparability': 9074, 'pyramid': 9075, 'indias': 9076, 'scrambled': 9077, 'senteces': 9078, 'synthesising': 9079, 'true': 9080, 'factopinion': 9081, 'marginalized': 9082, 'quel': 9083, 'stroke': 9084, 'eighth': 9085, 'dolap05': 9086, 'voicemail': 9087, 'annodomini': 9088, 'planningscheduling': 9089, 'privacygrid': 9090, 'objectstore': 9091, 'monolinguals': 9092, 'wifi': 9093, 'hypercuboid': 9094, 'othello': 9095, 'hardest': 9096, 'ceal': 9097, 'pylighter': 9098, 'highlighter': 9099, 'feeds': 9100, 'infosphere': 9101, 'mashuphub': 9102, 'desk': 9103, 'quantificational': 9104, 'tendum': 9105, 'releasing': 9106, 'privately': 9107, 'scatter': 9108, 'aida': 9109, 'topologies': 9110, 'lan': 9111, 'preview': 9112, 'thumbnails': 9113, 'parallax': 9114, 'relevancy': 9115, 'turst': 9116, 'strict': 9117, 'reorganizing': 9118, 'conic': 9119, 'smo': 9120, 'textplanning': 9121, 'pit': 9122, 'bursty': 9123, 'kalchas': 9124, 'crd': 9125, 'ecoinformatics': 9126, 'constructorsets': 9127, 'prolearn': 9128, 'itrails': 9129, 'advisory': 9130, 'endangered': 9131, 'caused': 9132, 'particles': 9133, 'disjointness': 9134, 'trimming': 9135, 'mentor': 9136, 'netprobe': 9137, 'ws': 9138, 'catalognet': 9139, 'peering': 9140, 'easier': 9141, 'typology': 9142, 'interference': 9143, 'embodied': 9144, 'compensation': 9145, 'movemine': 9146, 'secrecy': 9147, 'artoo': 9148, 'weboql': 9149, 'webs': 9150, 'parenthesis': 9151, 'resets': 9152, 'conjugate': 9153, 'noninterference': 9154, 'eliminability': 9155, 'pooling': 9156, 'nonnumerical': 9157, 'recruiting': 9158, 'bestcut': 9159, 'earchivarius': 9160, 'scott': 9161, 'tetris': 9162, 'vmodel': 9163, 'mrm': 9164, 'button': 9165, 'extracts': 9166, 'wider': 9167, 'switch': 9168, 'practically': 9169, 'cloud': 9170, 'these': 9171, 'ncr': 9172, '3700': 9173, 'clickthroughs': 9174, 'vstrails': 9175, 'incorporate': 9176, 'para': 9177, 'rectangles': 9178, 'maya': 9179, 'dispatch': 9180, 'designers': 9181, 'animalscript': 9182, 'differentiation': 9183, 'darpa': 9184, 'communicator': 9185, 'dbminer': 9186, 'nonparallel': 9187, 'subverting': 9188, 'sdp': 9189, 'qp': 9190, 'adjectival': 9191, 'mailer': 9192, 'irregular': 9193, 'ole': 9194, 'metagrammar': 9195, 'lca': 9196, 'proqid': 9197, 'corresponding': 9198, 'accuracies': 9199, 'nominalisations': 9200, 'partnership': 9201, 'webucation': 9202, 'flsa': 9203, 'vacationing': 9204, 'iso': 9205, '9001': 9206, 'mpsbr': 9207, 'cmmi': 9208, 'bl': 9209, 'informaticas': 9210, 'pathway': 9211, 'choreography': 9212, 'eniam': 9213, 'avoidable': 9214, 'refutations': 9215, 'pain': 9216, 'radford': 9217, 'replicating': 9218, 'subjects': 9219, 'preh': 9220, 'assuming': 9221, 'cisc': 9222, 'registers': 9223, 'sting': 9224, 'bernstein': 9225, 'timelines': 9226, 'prospector': 9227, 'irs': 9228, 'lingol': 9229, 'vhdl': 9230, 'cloaking': 9231, 'attempts': 9232, 'catch': 9233, 'battle': 9234, 'owners': 9235, 'academics': 9236, 'unsearchmo': 9237, 'securities': 9238, 'convenience': 9239, 'unannotated': 9240, 'gems': 9241, 'biomarker': 9242, 'snarpy': 9243, 'kr': 9244, 'pyro': 9245, 'ix': 9246, 'doll': 9247, 'gplag': 9248, 'economical': 9249, 'revisionintegration': 9250, 'codewords': 9251, 'protect': 9252, 'corrective': 9253, 'inflected': 9254, 'anniversary': 9255, 'plastics': 9256, 'ram': 9257, 'dates': 9258, 'amilcare': 9259, 'apple': 9260, 'splicing': 9261, 'misordered': 9262, 'hyperion': 9263, 'ipac': 9264, 'bigram': 9265, 'fatigue': 9266, 'handhelds': 9267, 'spells': 9268, 'done': 9269, 'educe': 9270, 'partitionable': 9271, 'switchable': 9272, 'paired': 9273, 'sizing': 9274, 'toss': 9275, 'tax': 9276, 'theorist': 9277, 'trada': 9278, 'darmstadt': 9279, 'browse': 9280, 'recover': 9281, 'nonextensive': 9282, 'wosq': 9283, 'nomograms': 9284, 'emailsift': 9285, 'disclosing': 9286, 'anonymized': 9287, 'instructor': 9288, 'compactly': 9289, 'ltags': 9290, 'enaction': 9291, 'bloggers': 9292, 'nic': 9293, 'independant': 9294, 'nogoods': 9295, 'yinyang': 9296, 'glueqos': 9297, 'sweeten': 9298, 'swings': 9299, 'critac': 9300, 'proofreading': 9301, 'dtgolog': 9302, 'alert': 9303, 'rationalizability': 9304, 'decoupled': 9305, 'flowgraph': 9306, 'pradigms': 9307, 'encarta': 9308, 'siphon': 9309, 'webcrawler': 9310, 'responding': 9311, 'empathetic': 9312, 'companion': 9313, 'eco': 9314, 'places': 9315, 'predicated': 9316, 'starvation': 9317, 'commuting': 9318, 'multilogue': 9319, 'benchmarks': 9320, 'bmd': 9321}\n"
          ],
          "name": "stdout"
        }
      ]
    },
    {
      "cell_type": "code",
      "metadata": {
        "id": "helbdUizF2un",
        "colab_type": "code",
        "colab": {
          "base_uri": "https://localhost:8080/",
          "height": 467
        },
        "outputId": "ae0f7566-87b1-4af2-db9e-dc4ffefafc03"
      },
      "source": [
        "X_train, X_test, Y_train, Y_test = train_test_split(X, Y, test_size=0.2, random_state=1234, shuffle=False)\n",
        "print(X_train[:5])\n",
        "print(X_test[:5])\n",
        "X_train"
      ],
      "execution_count": null,
      "outputs": [
        {
          "output_type": "stream",
          "text": [
            "[[   0    0    0    0    0    0    0    0    0    0  132  247  402    2\n",
            "   834    9  126    5    8  161]\n",
            " [   0    0    0    0    0    0    0    0    0    0    0    0    0   44\n",
            "  2099 1325   61    4  415   58]\n",
            " [   0    0    0    0    0    0    0    0    0    0    0 1865   63  213\n",
            "  4596  478    2 1866 1444  622]\n",
            " [   0    0    0    0    0    0    0    0    0    0    0    0    0 4597\n",
            "     3  262    9   18   51   15]\n",
            " [   0    0    0    0 1038  531   30  214    2  429 1228    5   45  545\n",
            "     5    6  122    2  132   32]]\n",
            "[[   0    0    0    0    0    0    0    0    0    0    0    0   69  233\n",
            "   149   12 1242   96 1598   34]\n",
            " [   0    0    0    0    0    0    0    0    0    0    0    0   28   68\n",
            "     1   38   78    6   41  232]\n",
            " [   0    0    0    0    0    0    0    0    0    0    0 2704 1915   61\n",
            "     1 8428 2531    4 1686  173]\n",
            " [   0    0    0    0    0    0    0    0    0    0    0    0   13   44\n",
            "  1062    7   65  865  250  112]\n",
            " [   0    0    0    0    0    0    0    0    0    0    0    0  890 1654\n",
            "  3327 1058    5   54  475   41]]\n"
          ],
          "name": "stdout"
        },
        {
          "output_type": "execute_result",
          "data": {
            "text/plain": [
              "array([[   0,    0,    0, ...,    5,    8,  161],\n",
              "       [   0,    0,    0, ...,    4,  415,   58],\n",
              "       [   0,    0,    0, ..., 1866, 1444,  622],\n",
              "       ...,\n",
              "       [   0,    0,    0, ...,  168,  166,  709],\n",
              "       [   0,    0,    0, ...,  105,   27,  212],\n",
              "       [   0,    0,    0, ...,  131,   61,  134]], dtype=int32)"
            ]
          },
          "metadata": {
            "tags": []
          },
          "execution_count": 39
        }
      ]
    },
    {
      "cell_type": "code",
      "metadata": {
        "id": "S-e50l29Hg3p",
        "colab_type": "code",
        "colab": {
          "base_uri": "https://localhost:8080/",
          "height": 183
        },
        "outputId": "ef3341b9-0f55-457f-b1ff-5375bf31dcdd"
      },
      "source": [
        "print(Y_train[:5])\n",
        "print(Y_test[:5])"
      ],
      "execution_count": null,
      "outputs": [
        {
          "output_type": "stream",
          "text": [
            "[[0. 1. 0. 0. 0.]\n",
            " [0. 1. 0. 0. 0.]\n",
            " [0. 1. 0. 0. 0.]\n",
            " [1. 0. 0. 0. 0.]\n",
            " [1. 0. 0. 0. 0.]]\n",
            "[[0. 0. 0. 0. 1.]\n",
            " [0. 0. 0. 1. 0.]\n",
            " [0. 0. 1. 0. 0.]\n",
            " [0. 0. 1. 0. 0.]\n",
            " [0. 0. 1. 0. 0.]]\n"
          ],
          "name": "stdout"
        }
      ]
    },
    {
      "cell_type": "code",
      "metadata": {
        "colab_type": "code",
        "id": "tVCkJNtr1kUq",
        "colab": {
          "base_uri": "https://localhost:8080/",
          "height": 367
        },
        "outputId": "1ca3cee4-b9f7-4eee-a940-3f9fd23fb35a"
      },
      "source": [
        "# tokenize new data for Kaggle upload\n",
        "X_new = tokenizer.texts_to_sequences(test.title)\n",
        "X_new = pad_sequences(X_new, maxlen=20)\n",
        "X_new[:10]"
      ],
      "execution_count": null,
      "outputs": [
        {
          "output_type": "execute_result",
          "data": {
            "text/plain": [
              "array([[   0,    0,    0,    0,    0,    0,    0,    0,    0,    0,    0,\n",
              "           0,    3,  482,    8,   32,   15,    1,  117,   66],\n",
              "       [   0,    0,    0,    0,    0,    0,    0,    0,    0,    0,    0,\n",
              "        1591,  130,  758,   20,   66,    1, 1407,  295,  307],\n",
              "       [   0,    0,    0,    0,    0,    0,   95,    4,  120,    2,   35,\n",
              "          21,  693, 2005, 6187,    1,   24,    2,  463,  166],\n",
              "       [   0,    0,    0,    0,    0,    0,    0,    0,    0,    0,    0,\n",
              "           0,  378,  229,  793,    1,   47,  278,  399,   14],\n",
              "       [   0,    0,    0,    0,    0,    0,    0,    0,    0,    0,    0,\n",
              "           0,    0,    0,    0,    0,   47,  202,  302,  519],\n",
              "       [   0,    0,    0,    0,    0,    0,    0,    0,    0,    0,    0,\n",
              "           0,  107,   10,  320,  284,  285,   33,  929,  593],\n",
              "       [   0,    0,    0,    0,    0,    0,    0,    0,    0,    0,    0,\n",
              "           0,    0,    0,    0,    0,    0,   76,  299, 8308],\n",
              "       [   0,    0,    0,    0,    0,    0,    0,    0,    0,    0,    0,\n",
              "           0,    0, 1923,  287, 5096,   33, 1457, 1855,  189],\n",
              "       [   0,    0,    0,    0,    0,    0,    0,    0,    0,    0,    3,\n",
              "         107,    4, 4608,  148,   53,    1,  305,  216,   25],\n",
              "       [   0,    0,    0,    0,    0,    0,    0,    0,    0,    0,    0,\n",
              "           0,    0,  378,  159,  620,  377, 1261,    4,  206]],\n",
              "      dtype=int32)"
            ]
          },
          "metadata": {
            "tags": []
          },
          "execution_count": 41
        }
      ]
    },
    {
      "cell_type": "code",
      "metadata": {
        "id": "aBsJGIy4xH9N",
        "colab_type": "code",
        "colab": {
          "base_uri": "https://localhost:8080/",
          "height": 33
        },
        "outputId": "6a757d9b-4efc-44dc-adaa-074ccd223e7f"
      },
      "source": [
        "# dict_len = max(max(X_train)) # for only X_train tokenized\n",
        "dict_len = np.amax(X)\n",
        "print(dict_len)"
      ],
      "execution_count": null,
      "outputs": [
        {
          "output_type": "stream",
          "text": [
            "9321\n"
          ],
          "name": "stdout"
        }
      ]
    },
    {
      "cell_type": "markdown",
      "metadata": {
        "id": "DsTH-Q4o76_S",
        "colab_type": "text"
      },
      "source": [
        "#### Using data file created in R\n",
        "\n",
        "*  ref_to concatenates titles of all references pointing towards a given title\n",
        "*  ref_from concatenates titles of all references to which a given title refers"
      ]
    },
    {
      "cell_type": "code",
      "metadata": {
        "id": "5PJTOY1A7_2T",
        "colab_type": "code",
        "colab": {
          "base_uri": "https://localhost:8080/",
          "height": 197
        },
        "outputId": "cd4f207a-d9b0-49f3-e5f3-d613d17bb330"
      },
      "source": [
        "cross_ref.head()"
      ],
      "execution_count": null,
      "outputs": [
        {
          "output_type": "execute_result",
          "data": {
            "text/html": [
              "<div>\n",
              "<style scoped>\n",
              "    .dataframe tbody tr th:only-of-type {\n",
              "        vertical-align: middle;\n",
              "    }\n",
              "\n",
              "    .dataframe tbody tr th {\n",
              "        vertical-align: top;\n",
              "    }\n",
              "\n",
              "    .dataframe thead th {\n",
              "        text-align: right;\n",
              "    }\n",
              "</style>\n",
              "<table border=\"1\" class=\"dataframe\">\n",
              "  <thead>\n",
              "    <tr style=\"text-align: right;\">\n",
              "      <th></th>\n",
              "      <th>Unnamed: 0</th>\n",
              "      <th>id</th>\n",
              "      <th>label</th>\n",
              "      <th>ref_to</th>\n",
              "      <th>ref_from</th>\n",
              "    </tr>\n",
              "  </thead>\n",
              "  <tbody>\n",
              "    <tr>\n",
              "      <th>0</th>\n",
              "      <td>1</td>\n",
              "      <td>0</td>\n",
              "      <td>1.0</td>\n",
              "      <td>a framework for clustering evolving data strea...</td>\n",
              "      <td>NaN</td>\n",
              "    </tr>\n",
              "    <tr>\n",
              "      <th>1</th>\n",
              "      <td>2</td>\n",
              "      <td>3</td>\n",
              "      <td>1.0</td>\n",
              "      <td>implementation techniques for main memory data...</td>\n",
              "      <td>providing better support for a class of decisi...</td>\n",
              "    </tr>\n",
              "    <tr>\n",
              "      <th>2</th>\n",
              "      <td>3</td>\n",
              "      <td>6</td>\n",
              "      <td>1.0</td>\n",
              "      <td>statix making xml count answering xml queries ...</td>\n",
              "      <td>NaN</td>\n",
              "    </tr>\n",
              "    <tr>\n",
              "      <th>3</th>\n",
              "      <td>4</td>\n",
              "      <td>8</td>\n",
              "      <td>0.0</td>\n",
              "      <td>temporal databases   status and research direc...</td>\n",
              "      <td>NaN</td>\n",
              "    </tr>\n",
              "    <tr>\n",
              "      <th>4</th>\n",
              "      <td>5</td>\n",
              "      <td>9</td>\n",
              "      <td>0.0</td>\n",
              "      <td>dynamic itemset counting and implication rules...</td>\n",
              "      <td>pattern lattice traversal by selective jumps</td>\n",
              "    </tr>\n",
              "  </tbody>\n",
              "</table>\n",
              "</div>"
            ],
            "text/plain": [
              "   Unnamed: 0  ...                                           ref_from\n",
              "0           1  ...                                                NaN\n",
              "1           2  ...  providing better support for a class of decisi...\n",
              "2           3  ...                                                NaN\n",
              "3           4  ...                                                NaN\n",
              "4           5  ...       pattern lattice traversal by selective jumps\n",
              "\n",
              "[5 rows x 5 columns]"
            ]
          },
          "metadata": {
            "tags": []
          },
          "execution_count": 43
        }
      ]
    },
    {
      "cell_type": "code",
      "metadata": {
        "id": "032W2aiSKS03",
        "colab_type": "code",
        "colab": {}
      },
      "source": [
        "cross_ref2 = cross_ref.fillna(\"noref\")"
      ],
      "execution_count": null,
      "outputs": []
    },
    {
      "cell_type": "code",
      "metadata": {
        "id": "ivQiNumS93aq",
        "colab_type": "code",
        "colab": {
          "base_uri": "https://localhost:8080/",
          "height": 514
        },
        "outputId": "d5751758-579c-4a4f-d313-6084f17c5d59"
      },
      "source": [
        "train3 = train.join(cross_ref2.set_index('id'), how = 'left', on=\"id\", rsuffix=\"cross\")\n",
        "train3.head(10)"
      ],
      "execution_count": null,
      "outputs": [
        {
          "output_type": "execute_result",
          "data": {
            "text/html": [
              "<div>\n",
              "<style scoped>\n",
              "    .dataframe tbody tr th:only-of-type {\n",
              "        vertical-align: middle;\n",
              "    }\n",
              "\n",
              "    .dataframe tbody tr th {\n",
              "        vertical-align: top;\n",
              "    }\n",
              "\n",
              "    .dataframe thead th {\n",
              "        text-align: right;\n",
              "    }\n",
              "</style>\n",
              "<table border=\"1\" class=\"dataframe\">\n",
              "  <thead>\n",
              "    <tr style=\"text-align: right;\">\n",
              "      <th></th>\n",
              "      <th>id</th>\n",
              "      <th>label</th>\n",
              "      <th>title</th>\n",
              "      <th>Unnamed: 0</th>\n",
              "      <th>labelcross</th>\n",
              "      <th>ref_to</th>\n",
              "      <th>ref_from</th>\n",
              "    </tr>\n",
              "  </thead>\n",
              "  <tbody>\n",
              "    <tr>\n",
              "      <th>0</th>\n",
              "      <td>0</td>\n",
              "      <td>1</td>\n",
              "      <td>interactive visual exploration of neighbor bas...</td>\n",
              "      <td>1</td>\n",
              "      <td>1</td>\n",
              "      <td>a framework for clustering evolving data strea...</td>\n",
              "      <td>noref</td>\n",
              "    </tr>\n",
              "    <tr>\n",
              "      <th>1</th>\n",
              "      <td>3</td>\n",
              "      <td>1</td>\n",
              "      <td>relational division four algorithms and their ...</td>\n",
              "      <td>2</td>\n",
              "      <td>1</td>\n",
              "      <td>implementation techniques for main memory data...</td>\n",
              "      <td>providing better support for a class of decisi...</td>\n",
              "    </tr>\n",
              "    <tr>\n",
              "      <th>2</th>\n",
              "      <td>6</td>\n",
              "      <td>1</td>\n",
              "      <td>simplifying xml schema effortless handling of ...</td>\n",
              "      <td>3</td>\n",
              "      <td>1</td>\n",
              "      <td>statix making xml count answering xml queries ...</td>\n",
              "      <td>noref</td>\n",
              "    </tr>\n",
              "    <tr>\n",
              "      <th>3</th>\n",
              "      <td>8</td>\n",
              "      <td>0</td>\n",
              "      <td>funbase a function based information managemen...</td>\n",
              "      <td>4</td>\n",
              "      <td>0</td>\n",
              "      <td>temporal databases   status and research direc...</td>\n",
              "      <td>noref</td>\n",
              "    </tr>\n",
              "    <tr>\n",
              "      <th>4</th>\n",
              "      <td>9</td>\n",
              "      <td>0</td>\n",
              "      <td>inverted matrix efficient discovery of frequen...</td>\n",
              "      <td>5</td>\n",
              "      <td>0</td>\n",
              "      <td>dynamic itemset counting and implication rules...</td>\n",
              "      <td>pattern lattice traversal by selective jumps</td>\n",
              "    </tr>\n",
              "    <tr>\n",
              "      <th>5</th>\n",
              "      <td>11</td>\n",
              "      <td>2</td>\n",
              "      <td>computational aspects of covering in dominance...</td>\n",
              "      <td>6</td>\n",
              "      <td>2</td>\n",
              "      <td>noref</td>\n",
              "      <td>noref</td>\n",
              "    </tr>\n",
              "    <tr>\n",
              "      <th>6</th>\n",
              "      <td>13</td>\n",
              "      <td>4</td>\n",
              "      <td>feaspar   a feature structure parser learning ...</td>\n",
              "      <td>7</td>\n",
              "      <td>4</td>\n",
              "      <td>gemini a natural language system for spoken la...</td>\n",
              "      <td>noref</td>\n",
              "    </tr>\n",
              "    <tr>\n",
              "      <th>7</th>\n",
              "      <td>18</td>\n",
              "      <td>0</td>\n",
              "      <td>assessing the scenic route measuring the value...</td>\n",
              "      <td>8</td>\n",
              "      <td>0</td>\n",
              "      <td>noref</td>\n",
              "      <td>noref</td>\n",
              "    </tr>\n",
              "    <tr>\n",
              "      <th>8</th>\n",
              "      <td>20</td>\n",
              "      <td>0</td>\n",
              "      <td>webanywhere enabling a screen reading interfac...</td>\n",
              "      <td>9</td>\n",
              "      <td>0</td>\n",
              "      <td>knowing the users every move user activity tra...</td>\n",
              "      <td>noref</td>\n",
              "    </tr>\n",
              "    <tr>\n",
              "      <th>9</th>\n",
              "      <td>24</td>\n",
              "      <td>2</td>\n",
              "      <td>non standard semantics for the method of tempo...</td>\n",
              "      <td>10</td>\n",
              "      <td>2</td>\n",
              "      <td>towards an implementation of database manageme...</td>\n",
              "      <td>generalized events in temporal databases</td>\n",
              "    </tr>\n",
              "  </tbody>\n",
              "</table>\n",
              "</div>"
            ],
            "text/plain": [
              "   id  ...                                           ref_from\n",
              "0   0  ...                                              noref\n",
              "1   3  ...  providing better support for a class of decisi...\n",
              "2   6  ...                                              noref\n",
              "3   8  ...                                              noref\n",
              "4   9  ...       pattern lattice traversal by selective jumps\n",
              "5  11  ...                                              noref\n",
              "6  13  ...                                              noref\n",
              "7  18  ...                                              noref\n",
              "8  20  ...                                              noref\n",
              "9  24  ...           generalized events in temporal databases\n",
              "\n",
              "[10 rows x 7 columns]"
            ]
          },
          "metadata": {
            "tags": []
          },
          "execution_count": 45
        }
      ]
    },
    {
      "cell_type": "code",
      "metadata": {
        "id": "C0WdemAVZSYv",
        "colab_type": "code",
        "colab": {}
      },
      "source": [
        "train3[\"merged\"] = train3[\"title\"] +\" \"+ train3[\"ref_to\"] +\" \"+ train3[\"ref_from\"]"
      ],
      "execution_count": null,
      "outputs": []
    },
    {
      "cell_type": "code",
      "metadata": {
        "id": "S-oiWvV__k9J",
        "colab_type": "code",
        "colab": {}
      },
      "source": [
        "test3 = test.join(cross_ref2.set_index('id'), how = 'left', on=\"id\", rsuffix=\"cross\")"
      ],
      "execution_count": null,
      "outputs": []
    },
    {
      "cell_type": "code",
      "metadata": {
        "id": "fhRD7UBhVdFG",
        "colab_type": "code",
        "colab": {}
      },
      "source": [
        "test3[\"merged\"] = test3[\"title\"] +\" \"+ test3[\"ref_to\"] +\" \"+ test3[\"ref_from\"]"
      ],
      "execution_count": null,
      "outputs": []
    },
    {
      "cell_type": "code",
      "metadata": {
        "colab_type": "code",
        "id": "GIS1GRPNPqcv",
        "colab": {}
      },
      "source": [
        "# # MAKE A SECOND DATA SPLIT\n",
        "# X_train_, X_test_, Y_train_, Y_test_ = train_test_split(X, Y, test_size=0.2, random_state=245, shuffle=True)\n",
        "# X_to_train_, X_to_test_, X_from_train_, X_from_test_ = train_test_split(X_to,X_from, test_size=0.2, random_state=245, shuffle=True)\n",
        "# X_merged_train_, X_merged_test_ = train_test_split(X_merged, test_size=0.2, random_state=245, shuffle=True)"
      ],
      "execution_count": null,
      "outputs": []
    },
    {
      "cell_type": "markdown",
      "metadata": {
        "id": "O--othcolipK",
        "colab_type": "text"
      },
      "source": [
        "### Making results reproducible with keras - not sure it works here...\n",
        "\n",
        "Will repeat this setting seed exercise before each model run."
      ]
    },
    {
      "cell_type": "code",
      "metadata": {
        "id": "NHKjEiuTU19z",
        "colab_type": "code",
        "colab": {}
      },
      "source": [
        "# from https://keras.io/getting-started/faq/#how-can-i-obtain-reproducible-results-using-keras-during-development\n",
        "# I replaced tf.set_random_seed with tf.compat.v1.set_random_seed (the former did not work)\n",
        "# the same change in tf.compat.v1.ConfigProto\n",
        "np.random.seed(42)\n",
        "random.seed(12345)\n",
        "\n",
        "# Force TensorFlow to use single thread.\n",
        "session_conf = tf.compat.v1.ConfigProto(intra_op_parallelism_threads=1,\n",
        "                              inter_op_parallelism_threads=1)\n",
        "\n",
        "tf.compat.v1.set_random_seed(1234)"
      ],
      "execution_count": null,
      "outputs": []
    },
    {
      "cell_type": "markdown",
      "metadata": {
        "id": "Ztg0u_bYpiPx",
        "colab_type": "text"
      },
      "source": [
        "## Using ktrain on titles only"
      ]
    },
    {
      "cell_type": "code",
      "metadata": {
        "id": "UoWRzONJwXBq",
        "colab_type": "code",
        "colab": {}
      },
      "source": [
        "all_df = train[['title','label']]\n",
        "\n",
        "train_set, val_set = train_test_split(all_df, test_size=0.2, random_state=1234)"
      ],
      "execution_count": null,
      "outputs": []
    },
    {
      "cell_type": "code",
      "metadata": {
        "id": "JsmkcU8RxDPQ",
        "colab_type": "code",
        "colab": {
          "base_uri": "https://localhost:8080/",
          "height": 117
        },
        "outputId": "e42a6166-3dff-4ba8-be86-2cfaae8e2bc5"
      },
      "source": [
        "(x_train,  y_train), (x_test, y_test), preproc = ktrain.text.texts_from_df(train_df=train_set,text_column='title',label_columns=['label'],val_df=val_set,\n",
        "                          max_features=10000, maxlen=30, preprocess_mode='bert', random_state=1)"
      ],
      "execution_count": null,
      "outputs": [
        {
          "output_type": "stream",
          "text": [
            "preprocessing train...\n",
            "language: en\n"
          ],
          "name": "stdout"
        },
        {
          "output_type": "display_data",
          "data": {
            "text/html": [
              "done."
            ],
            "text/plain": [
              "<IPython.core.display.HTML object>"
            ]
          },
          "metadata": {
            "tags": []
          }
        },
        {
          "output_type": "stream",
          "text": [
            "preprocessing test...\n",
            "language: en\n"
          ],
          "name": "stdout"
        },
        {
          "output_type": "display_data",
          "data": {
            "text/html": [
              "done."
            ],
            "text/plain": [
              "<IPython.core.display.HTML object>"
            ]
          },
          "metadata": {
            "tags": []
          }
        }
      ]
    },
    {
      "cell_type": "markdown",
      "metadata": {
        "id": "QMAiG873VQrX",
        "colab_type": "text"
      },
      "source": [
        "### Batch size = 64 (not used for kaggle uploads)"
      ]
    },
    {
      "cell_type": "code",
      "metadata": {
        "id": "Efci3f8ZxzXK",
        "colab_type": "code",
        "colab": {
          "base_uri": "https://localhost:8080/",
          "height": 67
        },
        "outputId": "2ae5f1ab-4c54-403f-9e6f-49d4660b001f"
      },
      "source": [
        "np.random.seed(42)\n",
        "random.seed(12345)\n",
        "session_conf = tf.compat.v1.ConfigProto(intra_op_parallelism_threads=1,\n",
        "                              inter_op_parallelism_threads=1)\n",
        "tf.compat.v1.set_random_seed(1234) \n",
        "\n",
        "model = ktrain.text.text_classifier('bert', train_data=(x_train, y_train), preproc=preproc)\n",
        "learner = ktrain.get_learner(model, train_data=(x_train, y_train), val_data=(x_test, y_test), batch_size=64)"
      ],
      "execution_count": null,
      "outputs": [
        {
          "output_type": "stream",
          "text": [
            "Is Multi-Label? False\n",
            "maxlen is 30\n",
            "done.\n"
          ],
          "name": "stdout"
        }
      ]
    },
    {
      "cell_type": "code",
      "metadata": {
        "id": "iuxkFhFcBUHs",
        "colab_type": "code",
        "colab": {
          "base_uri": "https://localhost:8080/",
          "height": 633
        },
        "outputId": "cffcdc20-d16e-4acd-8f6b-a22bfcbb3fe4"
      },
      "source": [
        "learner.lr_find()             # briefly simulate training to find good learning rate\n",
        "learner.lr_plot()             # visually identify best learning rate"
      ],
      "execution_count": null,
      "outputs": [
        {
          "output_type": "stream",
          "text": [
            "simulating training for different learning rates... this may take a few moments...\n",
            "Train on 10223 samples\n",
            "Epoch 1/1024\n",
            "10223/10223 [==============================] - 125s 12ms/sample - loss: 1.7217 - accuracy: 0.2267\n",
            "Epoch 2/1024\n",
            "10223/10223 [==============================] - 111s 11ms/sample - loss: 1.5648 - accuracy: 0.2916\n",
            "Epoch 3/1024\n",
            "10223/10223 [==============================] - 110s 11ms/sample - loss: 1.1217 - accuracy: 0.5736\n",
            "Epoch 4/1024\n",
            "10223/10223 [==============================] - 110s 11ms/sample - loss: 0.8120 - accuracy: 0.7034\n",
            "Epoch 5/1024\n",
            "10223/10223 [==============================] - 111s 11ms/sample - loss: 0.7290 - accuracy: 0.7393\n",
            "Epoch 6/1024\n",
            "10223/10223 [==============================] - 110s 11ms/sample - loss: 1.1644 - accuracy: 0.5223\n",
            "Epoch 7/1024\n",
            "10223/10223 [==============================] - 110s 11ms/sample - loss: 1.7979 - accuracy: 0.2174\n",
            "Epoch 8/1024\n",
            " 4416/10223 [===========>..................] - ETA: 1:02 - loss: 2.8514 - accuracy: 0.2083\n",
            "\n",
            "done.\n",
            "Please invoke the Learner.lr_plot() method to visually inspect the loss plot to help identify the maximal learning rate associated with falling loss.\n"
          ],
          "name": "stdout"
        },
        {
          "output_type": "display_data",
          "data": {
            "image/png": "[encoded data removed]",
            "text/plain": [
              "<Figure size 432x288 with 1 Axes>"
            ]
          },
          "metadata": {
            "tags": []
          }
        }
      ]
    },
    {
      "cell_type": "markdown",
      "metadata": {
        "id": "PEi61ZEyDOzp",
        "colab_type": "text"
      },
      "source": [
        "#### Fitting a model with fit_onecycle"
      ]
    },
    {
      "cell_type": "code",
      "metadata": {
        "id": "PkeaosZLxzAm",
        "colab_type": "code",
        "colab": {
          "base_uri": "https://localhost:8080/",
          "height": 250
        },
        "outputId": "5525f3b4-ae04-482c-c166-e76f814586ee"
      },
      "source": [
        "# Attempt 1 (no random seed fixed)\n",
        "learner.fit_onecycle(2e-5, 4)"
      ],
      "execution_count": null,
      "outputs": [
        {
          "output_type": "stream",
          "text": [
            "\n",
            "\n",
            "begin training using onecycle policy with max lr of 2e-05...\n",
            "ERROR! Session/line number was not unique in database. History logging moved to new session 59\n",
            "Train on 10223 samples, validate on 2556 samples\n",
            "Epoch 1/4\n",
            "10223/10223 [==============================] - 119s 12ms/sample - loss: 1.0298 - accuracy: 0.6227 - val_loss: 0.8281 - val_accuracy: 0.6952\n",
            "Epoch 2/4\n",
            "10223/10223 [==============================] - 118s 11ms/sample - loss: 0.7687 - accuracy: 0.7195 - val_loss: 0.7439 - val_accuracy: 0.7285\n",
            "Epoch 3/4\n",
            "10223/10223 [==============================] - 117s 11ms/sample - loss: 0.6029 - accuracy: 0.7837 - val_loss: 0.7033 - val_accuracy: 0.7469\n",
            "Epoch 4/4\n",
            "10223/10223 [==============================] - 117s 11ms/sample - loss: 0.4419 - accuracy: 0.8512 - val_loss: 0.7217 - val_accuracy: 0.7508\n"
          ],
          "name": "stdout"
        },
        {
          "output_type": "execute_result",
          "data": {
            "text/plain": [
              "<tensorflow.python.keras.callbacks.History at 0x7fc8c207c198>"
            ]
          },
          "metadata": {
            "tags": []
          },
          "execution_count": 27
        }
      ]
    },
    {
      "cell_type": "code",
      "metadata": {
        "colab_type": "code",
        "id": "G3cvOjO5Ldzt",
        "colab": {
          "base_uri": "https://localhost:8080/",
          "height": 267
        },
        "outputId": "3278261e-7ea6-4f56-a77b-36c34b3f4051"
      },
      "source": [
        "# ATTEMPT 2 (with a seed fixed above)\n",
        "learner.fit_onecycle(0.0001, 5)"
      ],
      "execution_count": null,
      "outputs": [
        {
          "output_type": "stream",
          "text": [
            "\n",
            "\n",
            "begin training using onecycle policy with max lr of 0.0001...\n",
            "Train on 10223 samples, validate on 2556 samples\n",
            "Epoch 1/5\n",
            "10223/10223 [==============================] - 135s 13ms/sample - loss: 1.0651 - accuracy: 0.5847 - val_loss: 0.7462 - val_accuracy: 0.7285\n",
            "Epoch 2/5\n",
            "10223/10223 [==============================] - 117s 11ms/sample - loss: 0.7000 - accuracy: 0.7494 - val_loss: 0.6919 - val_accuracy: 0.7547\n",
            "Epoch 3/5\n",
            "10223/10223 [==============================] - 117s 11ms/sample - loss: 0.5239 - accuracy: 0.8112 - val_loss: 0.7490 - val_accuracy: 0.7457\n",
            "Epoch 4/5\n",
            "10223/10223 [==============================] - 117s 11ms/sample - loss: 0.2877 - accuracy: 0.9015 - val_loss: 0.8324 - val_accuracy: 0.7477\n",
            "Epoch 5/5\n",
            "10223/10223 [==============================] - 117s 11ms/sample - loss: 0.1198 - accuracy: 0.9611 - val_loss: 0.9635 - val_accuracy: 0.7555\n"
          ],
          "name": "stdout"
        },
        {
          "output_type": "execute_result",
          "data": {
            "text/plain": [
              "<tensorflow.python.keras.callbacks.History at 0x7f0005fa7ef0>"
            ]
          },
          "metadata": {
            "tags": []
          },
          "execution_count": 34
        }
      ]
    },
    {
      "cell_type": "code",
      "metadata": {
        "id": "6_WOHzb_DIIu",
        "colab_type": "code",
        "colab": {
          "base_uri": "https://localhost:8080/",
          "height": 267
        },
        "outputId": "fd4e10dd-f706-4b35-8059-9b6760926569"
      },
      "source": [
        "# ATTEMPT 3 (with the same random seed to check reproducibility)\n",
        "# the results are not identical, but close... not reproducible well.\n",
        "learner.fit_onecycle(0.0001, 5)"
      ],
      "execution_count": null,
      "outputs": [
        {
          "output_type": "stream",
          "text": [
            "\n",
            "\n",
            "begin training using onecycle policy with max lr of 0.0001...\n",
            "Train on 10223 samples, validate on 2556 samples\n",
            "Epoch 1/5\n",
            "10223/10223 [==============================] - 94s 9ms/sample - loss: 1.0651 - accuracy: 0.5848 - val_loss: 0.7548 - val_accuracy: 0.7246\n",
            "Epoch 2/5\n",
            "10223/10223 [==============================] - 75s 7ms/sample - loss: 0.6978 - accuracy: 0.7469 - val_loss: 0.6883 - val_accuracy: 0.7547\n",
            "Epoch 3/5\n",
            "10223/10223 [==============================] - 77s 8ms/sample - loss: 0.5248 - accuracy: 0.8129 - val_loss: 0.7453 - val_accuracy: 0.7461\n",
            "Epoch 4/5\n",
            "10223/10223 [==============================] - 77s 8ms/sample - loss: 0.2939 - accuracy: 0.8999 - val_loss: 0.8197 - val_accuracy: 0.7433\n",
            "Epoch 5/5\n",
            "10223/10223 [==============================] - 75s 7ms/sample - loss: 0.1120 - accuracy: 0.9647 - val_loss: 0.9754 - val_accuracy: 0.7516\n"
          ],
          "name": "stdout"
        },
        {
          "output_type": "execute_result",
          "data": {
            "text/plain": [
              "<tensorflow.python.keras.callbacks.History at 0x7f835b77d6d8>"
            ]
          },
          "metadata": {
            "tags": []
          },
          "execution_count": 66
        }
      ]
    },
    {
      "cell_type": "markdown",
      "metadata": {
        "id": "oQiy-9raugiE",
        "colab_type": "text"
      },
      "source": [
        "#### Fitting a model with autofit"
      ]
    },
    {
      "cell_type": "code",
      "metadata": {
        "id": "RIk0GMSaoqhH",
        "colab_type": "code",
        "colab": {
          "base_uri": "https://localhost:8080/",
          "height": 433
        },
        "outputId": "e3e494e1-be5f-42d6-f955-f65afb93cbad"
      },
      "source": [
        "learner.autofit(0.0001, reduce_on_plateau=3)"
      ],
      "execution_count": null,
      "outputs": [
        {
          "output_type": "stream",
          "text": [
            "early_stopping automatically enabled at patience=5\n",
            "\n",
            "\n",
            "begin training using triangular learning rate policy with max lr of 0.0001...\n",
            "Train on 10223 samples, validate on 2556 samples\n",
            "Epoch 1/1024\n",
            "10223/10223 [==============================] - 96s 9ms/sample - loss: 0.9960 - accuracy: 0.6182 - val_loss: 0.7116 - val_accuracy: 0.7387\n",
            "Epoch 2/1024\n",
            "10223/10223 [==============================] - 76s 7ms/sample - loss: 0.6362 - accuracy: 0.7746 - val_loss: 0.6984 - val_accuracy: 0.7488\n",
            "Epoch 3/1024\n",
            "10223/10223 [==============================] - 76s 7ms/sample - loss: 0.4669 - accuracy: 0.8329 - val_loss: 0.7179 - val_accuracy: 0.7516\n",
            "Epoch 4/1024\n",
            "10223/10223 [==============================] - 74s 7ms/sample - loss: 0.3322 - accuracy: 0.8827 - val_loss: 0.7977 - val_accuracy: 0.7414\n",
            "Epoch 5/1024\n",
            "10176/10223 [============================>.] - ETA: 0s - loss: 0.2539 - accuracy: 0.9125\n",
            "Epoch 00005: Reducing Max LR on Plateau: new max lr will be 5e-05 (if not early_stopping).\n",
            "10223/10223 [==============================] - 74s 7ms/sample - loss: 0.2543 - accuracy: 0.9124 - val_loss: 0.8814 - val_accuracy: 0.7422\n",
            "Epoch 6/1024\n",
            "10223/10223 [==============================] - 74s 7ms/sample - loss: 0.1259 - accuracy: 0.9582 - val_loss: 1.0326 - val_accuracy: 0.7394\n",
            "Epoch 7/1024\n",
            "10176/10223 [============================>.] - ETA: 0s - loss: 0.0697 - accuracy: 0.9776Restoring model weights from the end of the best epoch.\n",
            "10223/10223 [==============================] - 74s 7ms/sample - loss: 0.0696 - accuracy: 0.9776 - val_loss: 1.1744 - val_accuracy: 0.7336\n",
            "Epoch 00007: early stopping\n",
            "Weights from best epoch have been loaded into model.\n"
          ],
          "name": "stdout"
        },
        {
          "output_type": "execute_result",
          "data": {
            "text/plain": [
              "<tensorflow.python.keras.callbacks.History at 0x7f837a12e278>"
            ]
          },
          "metadata": {
            "tags": []
          },
          "execution_count": 27
        }
      ]
    },
    {
      "cell_type": "code",
      "metadata": {
        "id": "CJ_p9BEc1XiN",
        "colab_type": "code",
        "colab": {}
      },
      "source": [
        "# learner.save_model('/content/gdrive/My Drive/DL')\n",
        "# learner.save_model()"
      ],
      "execution_count": null,
      "outputs": []
    },
    {
      "cell_type": "markdown",
      "metadata": {
        "id": "HtvhUAGEU-Ev",
        "colab_type": "text"
      },
      "source": [
        "### Batch size = 32"
      ]
    },
    {
      "cell_type": "code",
      "metadata": {
        "id": "6abF4GOwIvwG",
        "colab_type": "code",
        "colab": {
          "base_uri": "https://localhost:8080/",
          "height": 67
        },
        "outputId": "6d85eb31-4515-4aad-d051-30122b9b3980"
      },
      "source": [
        "# CHANGED BATCH SIZE TO 32\n",
        "np.random.seed(42)\n",
        "random.seed(12345)\n",
        "session_conf = tf.compat.v1.ConfigProto(intra_op_parallelism_threads=1,\n",
        "                              inter_op_parallelism_threads=1)\n",
        "tf.compat.v1.set_random_seed(1234) \n",
        "\n",
        "model = ktrain.text.text_classifier('bert', train_data=(x_train, y_train), preproc=preproc)\n",
        "learner = ktrain.get_learner(model, train_data=(x_train, y_train), val_data=(x_test, y_test), batch_size=32)"
      ],
      "execution_count": null,
      "outputs": [
        {
          "output_type": "stream",
          "text": [
            "Is Multi-Label? False\n",
            "maxlen is 30\n",
            "done.\n"
          ],
          "name": "stdout"
        }
      ]
    },
    {
      "cell_type": "code",
      "metadata": {
        "id": "f9y8ndrOL6sB",
        "colab_type": "code",
        "colab": {
          "base_uri": "https://localhost:8080/",
          "height": 533
        },
        "outputId": "586d9571-6d56-49ad-e38f-ae4a789c23ac"
      },
      "source": [
        "learner.lr_find()             # briefly simulate training to find good learning rate\n",
        "learner.lr_plot() "
      ],
      "execution_count": null,
      "outputs": [
        {
          "output_type": "stream",
          "text": [
            "simulating training for different learning rates... this may take a few moments...\n",
            "Train on 10223 samples\n",
            "Epoch 1/1024\n",
            "10223/10223 [==============================] - 126s 12ms/sample - loss: 1.6336 - accuracy: 0.2497\n",
            "Epoch 2/1024\n",
            "10223/10223 [==============================] - 114s 11ms/sample - loss: 1.0480 - accuracy: 0.6050\n",
            "Epoch 3/1024\n",
            "10223/10223 [==============================] - 110s 11ms/sample - loss: 1.0554 - accuracy: 0.6019\n",
            "Epoch 4/1024\n",
            "10223/10223 [==============================] - 110s 11ms/sample - loss: 1.6716 - accuracy: 0.2164\n",
            "Epoch 5/1024\n",
            " 1408/10223 [===>..........................] - ETA: 1:34 - loss: 3.9859 - accuracy: 0.2067\n",
            "\n",
            "done.\n",
            "Please invoke the Learner.lr_plot() method to visually inspect the loss plot to help identify the maximal learning rate associated with falling loss.\n"
          ],
          "name": "stdout"
        },
        {
          "output_type": "display_data",
          "data": {
            "image/png": "[encoded data removed]",
            "text/plain": [
              "<Figure size 432x288 with 1 Axes>"
            ]
          },
          "metadata": {
            "tags": []
          }
        }
      ]
    },
    {
      "cell_type": "markdown",
      "metadata": {
        "colab_type": "text",
        "id": "yI7IVvxOXpHH"
      },
      "source": [
        "#### Fitting a model with fit_onecycle"
      ]
    },
    {
      "cell_type": "code",
      "metadata": {
        "id": "6ZNRa89LI3VA",
        "colab_type": "code",
        "colab": {
          "base_uri": "https://localhost:8080/",
          "height": 333
        },
        "outputId": "08a36e14-7b76-456a-eba0-143a6c7b7ab1"
      },
      "source": [
        "# ATTEMPT 3 (with fixed seed, smaller batches)\n",
        "learner.fit_onecycle(0.0001, 7, checkpoint_folder='/content/gdrive/My Drive') \n",
        "# saved all the models but they are huge so left just after 2nd epoch and moved to LK "
      ],
      "execution_count": null,
      "outputs": [
        {
          "output_type": "stream",
          "text": [
            "\n",
            "\n",
            "begin training using onecycle policy with max lr of 0.0001...\n",
            "Train on 10223 samples, validate on 2556 samples\n",
            "Epoch 1/7\n",
            "10223/10223 [==============================] - 119s 12ms/sample - loss: 1.0613 - accuracy: 0.5859 - val_loss: 0.8342 - val_accuracy: 0.6968\n",
            "Epoch 2/7\n",
            "10223/10223 [==============================] - 118s 12ms/sample - loss: 0.6925 - accuracy: 0.7445 - val_loss: 0.6949 - val_accuracy: 0.7531\n",
            "Epoch 3/7\n",
            "10223/10223 [==============================] - 117s 11ms/sample - loss: 0.5222 - accuracy: 0.8177 - val_loss: 0.7654 - val_accuracy: 0.7371\n",
            "Epoch 4/7\n",
            "10223/10223 [==============================] - 119s 12ms/sample - loss: 0.4157 - accuracy: 0.8540 - val_loss: 0.8122 - val_accuracy: 0.7254\n",
            "Epoch 5/7\n",
            "10223/10223 [==============================] - 119s 12ms/sample - loss: 0.2346 - accuracy: 0.9168 - val_loss: 0.9213 - val_accuracy: 0.7379\n",
            "Epoch 6/7\n",
            "10223/10223 [==============================] - 120s 12ms/sample - loss: 0.0990 - accuracy: 0.9678 - val_loss: 1.0882 - val_accuracy: 0.7433\n",
            "Epoch 7/7\n",
            "10223/10223 [==============================] - 120s 12ms/sample - loss: 0.0271 - accuracy: 0.9911 - val_loss: 1.2703 - val_accuracy: 0.7488\n"
          ],
          "name": "stdout"
        },
        {
          "output_type": "execute_result",
          "data": {
            "text/plain": [
              "<tensorflow.python.keras.callbacks.History at 0x7f835b544ef0>"
            ]
          },
          "metadata": {
            "tags": []
          },
          "execution_count": 64
        }
      ]
    },
    {
      "cell_type": "markdown",
      "metadata": {
        "colab_type": "text",
        "id": "GehGanr-XiQA"
      },
      "source": [
        "#### Fitting a model with autofit"
      ]
    },
    {
      "cell_type": "code",
      "metadata": {
        "colab_type": "code",
        "id": "tnZiyhqSXiQE",
        "colab": {
          "base_uri": "https://localhost:8080/",
          "height": 433
        },
        "outputId": "df6c640d-5c43-4046-e585-41e38183b25b"
      },
      "source": [
        "# also saves all the epochs in separate files. epoch=2 is the best. Saved to a local drive and made predictions here.\n",
        "learner.autofit(0.0001, reduce_on_plateau=3, checkpoint_folder='/content/gdrive/My Drive') "
      ],
      "execution_count": null,
      "outputs": [
        {
          "output_type": "stream",
          "text": [
            "early_stopping automatically enabled at patience=5\n",
            "\n",
            "\n",
            "begin training using triangular learning rate policy with max lr of 0.0001...\n",
            "Train on 10223 samples, validate on 2556 samples\n",
            "Epoch 1/1024\n",
            "10223/10223 [==============================] - 159s 16ms/sample - loss: 0.9641 - accuracy: 0.6284 - val_loss: 0.6903 - val_accuracy: 0.7563\n",
            "Epoch 2/1024\n",
            "10223/10223 [==============================] - 130s 13ms/sample - loss: 0.6279 - accuracy: 0.7736 - val_loss: 0.6851 - val_accuracy: 0.7527\n",
            "Epoch 3/1024\n",
            "10223/10223 [==============================] - 119s 12ms/sample - loss: 0.4583 - accuracy: 0.8383 - val_loss: 0.7203 - val_accuracy: 0.7477\n",
            "Epoch 4/1024\n",
            "10223/10223 [==============================] - 119s 12ms/sample - loss: 0.3428 - accuracy: 0.8856 - val_loss: 0.8269 - val_accuracy: 0.7336\n",
            "Epoch 5/1024\n",
            "10208/10223 [============================>.] - ETA: 0s - loss: 0.2520 - accuracy: 0.9155\n",
            "Epoch 00005: Reducing Max LR on Plateau: new max lr will be 5e-05 (if not early_stopping).\n",
            "10223/10223 [==============================] - 119s 12ms/sample - loss: 0.2522 - accuracy: 0.9154 - val_loss: 0.8445 - val_accuracy: 0.7496\n",
            "Epoch 6/1024\n",
            "10223/10223 [==============================] - 120s 12ms/sample - loss: 0.1214 - accuracy: 0.9617 - val_loss: 1.0542 - val_accuracy: 0.7461\n",
            "Epoch 7/1024\n",
            "10208/10223 [============================>.] - ETA: 0s - loss: 0.0696 - accuracy: 0.9792Restoring model weights from the end of the best epoch.\n",
            "10223/10223 [==============================] - 120s 12ms/sample - loss: 0.0697 - accuracy: 0.9792 - val_loss: 1.1651 - val_accuracy: 0.7492\n",
            "Epoch 00007: early stopping\n",
            "Weights from best epoch have been loaded into model.\n"
          ],
          "name": "stdout"
        },
        {
          "output_type": "execute_result",
          "data": {
            "text/plain": [
              "<tensorflow.python.keras.callbacks.History at 0x7f822e6d0d30>"
            ]
          },
          "metadata": {
            "tags": []
          },
          "execution_count": 69
        }
      ]
    },
    {
      "cell_type": "markdown",
      "metadata": {
        "id": "Gv17tIrkeGaL",
        "colab_type": "text"
      },
      "source": [
        "#### Predict on a new data (for Kaggle)\n"
      ]
    },
    {
      "cell_type": "code",
      "metadata": {
        "id": "I1J873b_eHfm",
        "colab_type": "code",
        "colab": {
          "base_uri": "https://localhost:8080/",
          "height": 197
        },
        "outputId": "c81fd99f-d074-4079-c275-4ff4cd8e6f59"
      },
      "source": [
        "test.head()"
      ],
      "execution_count": null,
      "outputs": [
        {
          "output_type": "execute_result",
          "data": {
            "text/html": [
              "<div>\n",
              "<style scoped>\n",
              "    .dataframe tbody tr th:only-of-type {\n",
              "        vertical-align: middle;\n",
              "    }\n",
              "\n",
              "    .dataframe tbody tr th {\n",
              "        vertical-align: top;\n",
              "    }\n",
              "\n",
              "    .dataframe thead th {\n",
              "        text-align: right;\n",
              "    }\n",
              "</style>\n",
              "<table border=\"1\" class=\"dataframe\">\n",
              "  <thead>\n",
              "    <tr style=\"text-align: right;\">\n",
              "      <th></th>\n",
              "      <th>id</th>\n",
              "      <th>title</th>\n",
              "    </tr>\n",
              "  </thead>\n",
              "  <tbody>\n",
              "    <tr>\n",
              "      <th>0</th>\n",
              "      <td>1</td>\n",
              "      <td>autodomainmine a graphical data mining system ...</td>\n",
              "    </tr>\n",
              "    <tr>\n",
              "      <th>1</th>\n",
              "      <td>2</td>\n",
              "      <td>anipqo almost non intrusive parametric query o...</td>\n",
              "    </tr>\n",
              "    <tr>\n",
              "      <th>2</th>\n",
              "      <td>4</td>\n",
              "      <td>selection and ranking of text from highly impe...</td>\n",
              "    </tr>\n",
              "    <tr>\n",
              "      <th>3</th>\n",
              "      <td>5</td>\n",
              "      <td>conditional random fields for multi agent rein...</td>\n",
              "    </tr>\n",
              "    <tr>\n",
              "      <th>4</th>\n",
              "      <td>7</td>\n",
              "      <td>multi dimensional description logics</td>\n",
              "    </tr>\n",
              "  </tbody>\n",
              "</table>\n",
              "</div>"
            ],
            "text/plain": [
              "   id                                              title\n",
              "0   1  autodomainmine a graphical data mining system ...\n",
              "1   2  anipqo almost non intrusive parametric query o...\n",
              "2   4  selection and ranking of text from highly impe...\n",
              "3   5  conditional random fields for multi agent rein...\n",
              "4   7               multi dimensional description logics"
            ]
          },
          "metadata": {
            "tags": []
          },
          "execution_count": 71
        }
      ]
    },
    {
      "cell_type": "code",
      "metadata": {
        "id": "AElUuVHhnWob",
        "colab_type": "code",
        "colab": {
          "base_uri": "https://localhost:8080/",
          "height": 67
        },
        "outputId": "87d9d739-6c07-41c3-fadb-ea27bb9856d8"
      },
      "source": [
        "test.iloc[34,:]\n"
      ],
      "execution_count": null,
      "outputs": [
        {
          "output_type": "execute_result",
          "data": {
            "text/plain": [
              "id                                                    63\n",
              "title    perception concepts and language road and ipage\n",
              "Name: 34, dtype: object"
            ]
          },
          "metadata": {
            "tags": []
          },
          "execution_count": 121
        }
      ]
    },
    {
      "cell_type": "code",
      "metadata": {
        "id": "Vx6uNvecnn-9",
        "colab_type": "code",
        "colab": {
          "base_uri": "https://localhost:8080/",
          "height": 67
        },
        "outputId": "999f6b41-56fa-45f3-cf26-cb0c5925deba"
      },
      "source": [
        "test.iloc[43,:]"
      ],
      "execution_count": null,
      "outputs": [
        {
          "output_type": "execute_result",
          "data": {
            "text/plain": [
              "id                                                      76\n",
              "title    mace language support for building distributed...\n",
              "Name: 43, dtype: object"
            ]
          },
          "metadata": {
            "tags": []
          },
          "execution_count": 123
        }
      ]
    },
    {
      "cell_type": "code",
      "metadata": {
        "id": "GqN1o6PqoK9K",
        "colab_type": "code",
        "colab": {
          "base_uri": "https://localhost:8080/",
          "height": 67
        },
        "outputId": "55907675-e0db-4b22-8484-b959ef42f709"
      },
      "source": [
        "test.iloc[116,:]"
      ],
      "execution_count": null,
      "outputs": [
        {
          "output_type": "execute_result",
          "data": {
            "text/plain": [
              "id                                                     242\n",
              "title    probabilistic combination of text classifiers ...\n",
              "Name: 116, dtype: object"
            ]
          },
          "metadata": {
            "tags": []
          },
          "execution_count": 125
        }
      ]
    },
    {
      "cell_type": "code",
      "metadata": {
        "id": "6P79AaPzkpxV",
        "colab_type": "code",
        "colab": {
          "base_uri": "https://localhost:8080/",
          "height": 647
        },
        "outputId": "6247451a-a96c-4fb8-bd5e-c1cb9e64802f"
      },
      "source": [
        "test.head(20)"
      ],
      "execution_count": null,
      "outputs": [
        {
          "output_type": "execute_result",
          "data": {
            "text/html": [
              "<div>\n",
              "<style scoped>\n",
              "    .dataframe tbody tr th:only-of-type {\n",
              "        vertical-align: middle;\n",
              "    }\n",
              "\n",
              "    .dataframe tbody tr th {\n",
              "        vertical-align: top;\n",
              "    }\n",
              "\n",
              "    .dataframe thead th {\n",
              "        text-align: right;\n",
              "    }\n",
              "</style>\n",
              "<table border=\"1\" class=\"dataframe\">\n",
              "  <thead>\n",
              "    <tr style=\"text-align: right;\">\n",
              "      <th></th>\n",
              "      <th>id</th>\n",
              "      <th>title</th>\n",
              "    </tr>\n",
              "  </thead>\n",
              "  <tbody>\n",
              "    <tr>\n",
              "      <th>0</th>\n",
              "      <td>1</td>\n",
              "      <td>autodomainmine a graphical data mining system ...</td>\n",
              "    </tr>\n",
              "    <tr>\n",
              "      <th>1</th>\n",
              "      <td>2</td>\n",
              "      <td>anipqo almost non intrusive parametric query o...</td>\n",
              "    </tr>\n",
              "    <tr>\n",
              "      <th>2</th>\n",
              "      <td>4</td>\n",
              "      <td>selection and ranking of text from highly impe...</td>\n",
              "    </tr>\n",
              "    <tr>\n",
              "      <th>3</th>\n",
              "      <td>5</td>\n",
              "      <td>conditional random fields for multi agent rein...</td>\n",
              "    </tr>\n",
              "    <tr>\n",
              "      <th>4</th>\n",
              "      <td>7</td>\n",
              "      <td>multi dimensional description logics</td>\n",
              "    </tr>\n",
              "    <tr>\n",
              "      <th>5</th>\n",
              "      <td>10</td>\n",
              "      <td>fast on line index construction by geometric p...</td>\n",
              "    </tr>\n",
              "    <tr>\n",
              "      <th>6</th>\n",
              "      <td>12</td>\n",
              "      <td>reasoning about rings</td>\n",
              "    </tr>\n",
              "    <tr>\n",
              "      <th>7</th>\n",
              "      <td>14</td>\n",
              "      <td>transductive regression piloted by inter manif...</td>\n",
              "    </tr>\n",
              "    <tr>\n",
              "      <th>8</th>\n",
              "      <td>15</td>\n",
              "      <td>a fast and usually linear algorithm for global...</td>\n",
              "    </tr>\n",
              "    <tr>\n",
              "      <th>9</th>\n",
              "      <td>16</td>\n",
              "      <td>conditional constraint satisfaction logical fo...</td>\n",
              "    </tr>\n",
              "    <tr>\n",
              "      <th>10</th>\n",
              "      <td>17</td>\n",
              "      <td>on the role of old information in generating r...</td>\n",
              "    </tr>\n",
              "    <tr>\n",
              "      <th>11</th>\n",
              "      <td>19</td>\n",
              "      <td>shrinkage estimator generalizations of proxima...</td>\n",
              "    </tr>\n",
              "    <tr>\n",
              "      <th>12</th>\n",
              "      <td>21</td>\n",
              "      <td>a multilingual paradigm for automatic verb cla...</td>\n",
              "    </tr>\n",
              "    <tr>\n",
              "      <th>13</th>\n",
              "      <td>22</td>\n",
              "      <td>approximate query answering in locally closed ...</td>\n",
              "    </tr>\n",
              "    <tr>\n",
              "      <th>14</th>\n",
              "      <td>23</td>\n",
              "      <td>constraints on strong generative power</td>\n",
              "    </tr>\n",
              "    <tr>\n",
              "      <th>15</th>\n",
              "      <td>25</td>\n",
              "      <td>mining correlated bursty topic patterns from c...</td>\n",
              "    </tr>\n",
              "    <tr>\n",
              "      <th>16</th>\n",
              "      <td>26</td>\n",
              "      <td>learning markov logic network structure via hy...</td>\n",
              "    </tr>\n",
              "    <tr>\n",
              "      <th>17</th>\n",
              "      <td>27</td>\n",
              "      <td>compact convex upper bound iteration for appro...</td>\n",
              "    </tr>\n",
              "    <tr>\n",
              "      <th>18</th>\n",
              "      <td>28</td>\n",
              "      <td>free ordered cug on chemical abstract machine</td>\n",
              "    </tr>\n",
              "    <tr>\n",
              "      <th>19</th>\n",
              "      <td>29</td>\n",
              "      <td>controlling interference in ambients</td>\n",
              "    </tr>\n",
              "  </tbody>\n",
              "</table>\n",
              "</div>"
            ],
            "text/plain": [
              "    id                                              title\n",
              "0    1  autodomainmine a graphical data mining system ...\n",
              "1    2  anipqo almost non intrusive parametric query o...\n",
              "2    4  selection and ranking of text from highly impe...\n",
              "3    5  conditional random fields for multi agent rein...\n",
              "4    7               multi dimensional description logics\n",
              "5   10  fast on line index construction by geometric p...\n",
              "6   12                              reasoning about rings\n",
              "7   14  transductive regression piloted by inter manif...\n",
              "8   15  a fast and usually linear algorithm for global...\n",
              "9   16  conditional constraint satisfaction logical fo...\n",
              "10  17  on the role of old information in generating r...\n",
              "11  19  shrinkage estimator generalizations of proxima...\n",
              "12  21  a multilingual paradigm for automatic verb cla...\n",
              "13  22  approximate query answering in locally closed ...\n",
              "14  23             constraints on strong generative power\n",
              "15  25  mining correlated bursty topic patterns from c...\n",
              "16  26  learning markov logic network structure via hy...\n",
              "17  27  compact convex upper bound iteration for appro...\n",
              "18  28      free ordered cug on chemical abstract machine\n",
              "19  29               controlling interference in ambients"
            ]
          },
          "metadata": {
            "tags": []
          },
          "execution_count": 124
        }
      ]
    },
    {
      "cell_type": "code",
      "metadata": {
        "id": "w7z9AIJadsCb",
        "colab_type": "code",
        "colab": {}
      },
      "source": [
        "# to predict on a new data\n",
        "predictor = ktrain.get_predictor(learner.model, preproc)"
      ],
      "execution_count": null,
      "outputs": []
    },
    {
      "cell_type": "code",
      "metadata": {
        "id": "xNee07-LdttM",
        "colab_type": "code",
        "colab": {
          "base_uri": "https://localhost:8080/",
          "height": 17
        },
        "outputId": "06aacaee-4c34-4c0e-988d-a773be7a1e1b"
      },
      "source": [
        "Y_new6 = predictor.predict(x_new)"
      ],
      "execution_count": null,
      "outputs": [
        {
          "output_type": "display_data",
          "data": {
            "text/html": [
              ""
            ],
            "text/plain": [
              "<IPython.core.display.HTML object>"
            ]
          },
          "metadata": {
            "tags": []
          }
        }
      ]
    },
    {
      "cell_type": "code",
      "metadata": {
        "id": "a_rStmX3e4Ts",
        "colab_type": "code",
        "colab": {
          "base_uri": "https://localhost:8080/",
          "height": 53
        },
        "outputId": "bdf714cc-c1bd-4144-c7fb-59b742e87c43"
      },
      "source": [
        "print(Y_new6)"
      ],
      "execution_count": null,
      "outputs": [
        {
          "output_type": "stream",
          "text": [
            "['1', '1', '0', '2', '2', '1', '2', '2', '3', '2', '0', '0', '4', '1', '2', '0', '2', '2', '4', '3', '0', '0', '3', '4', '2', '0', '3', '0', '0', '0', '0', '3', '3', '4', '4', '1', '2', '3', '2', '4', '0', '1', '0', '4', '0', '3', '3', '3', '0', '2', '1', '3', '3', '3', '2', '3', '0', '3', '1', '1', '2', '3', '2', '1', '4', '2', '2', '0', '0', '4', '4', '3', '0', '3', '4', '3', '1', '3', '0', '3', '3', '1', '3', '1', '0', '0', '4', '1', '4', '2', '1', '3', '1', '1', '4', '1', '1', '0', '2', '0', '1', '4', '1', '0', '2', '2', '4', '1', '1', '1', '2', '4', '3', '4', '4', '4', '0', '4', '3', '3', '2', '0', '3', '0', '1', '1', '2', '3', '3', '4', '3', '3', '1', '2', '3', '0', '2', '1', '2', '3', '0', '3', '0', '0', '2', '4', '2', '4', '1', '2', '3', '2', '0', '2', '3', '1', '3', '4', '2', '1', '3', '1', '2', '3', '1', '0', '1', '3', '3', '4', '0', '1', '1', '0', '3', '2', '0', '0', '0', '3', '0', '1', '0', '0', '4', '3', '2', '3', '3', '1', '3', '4', '3', '0', '0', '0', '4', '0', '3', '0', '2', '1', '4', '1', '0', '2', '2', '4', '2', '0', '0', '2', '0', '1', '4', '2', '2', '3', '0', '0', '0', '3', '4', '3', '3', '3', '3', '0', '2', '3', '0', '1', '0', '2', '2', '2', '4', '1', '0', '3', '0', '3', '3', '0', '3', '1', '3', '0', '0', '2', '1', '0', '0', '2', '3', '0', '0', '1', '1', '0', '0', '2', '2', '1', '2', '3', '1', '3', '3', '2', '0', '2', '0', '3', '3', '1', '1', '4', '0', '1', '0', '4', '3', '4', '1', '0', '2', '4', '3', '0', '3', '4', '0', '3', '2', '1', '4', '4', '4', '3', '1', '0', '4', '0', '2', '0', '1', '2', '0', '1', '2', '1', '2', '2', '3', '2', '2', '4', '3', '0', '1', '4', '1', '3', '0', '4', '1', '2', '2', '0', '0', '2', '0', '1', '1', '1', '2', '3', '4', '4', '1', '1', '4', '1', '4', '3', '0', '0', '2', '1', '4', '3', '1', '2', '4', '2', '2', '4', '4', '1', '0', '1', '0', '4', '1', '1', '0', '1', '0', '3', '0', '0', '3', '1', '1', '3', '3', '3', '0', '2', '1', '3', '0', '1', '0', '1', '3', '1', '3', '3', '4', '0', '2', '3', '2', '0', '4', '1', '4', '2', '0', '1', '2', '3', '3', '0', '2', '0', '1', '3', '4', '4', '4', '3', '4', '1', '4', '3', '1', '4', '2', '3', '4', '4', '1', '0', '1', '2', '1', '2', '0', '1', '0', '1', '0', '0', '1', '2', '1', '1', '0', '3', '1', '1', '0', '1', '0', '0', '0', '1', '0', '2', '1', '2', '2', '0', '0', '3', '3', '3', '1', '0', '0', '0', '0', '2', '1', '0', '2', '0', '1', '1', '1', '3', '0', '1', '2', '2', '2', '0', '4', '2', '3', '4', '1', '0', '4', '1', '4', '0', '3', '4', '3', '2', '3', '0', '1', '2', '0', '2', '3', '3', '1', '2', '4', '2', '4', '2', '0', '0', '3', '0', '1', '2', '1', '3', '2', '0', '2', '3', '0', '0', '0', '3', '4', '3', '0', '1', '0', '0', '2', '0', '2', '3', '0', '0', '3', '0', '3', '2', '4', '3', '1', '2', '0', '0', '2', '3', '4', '3', '2', '4', '1', '1', '2', '0', '1', '0', '4', '1', '0', '1', '1', '4', '0', '0', '1', '1', '2', '0', '0', '0', '2', '4', '2', '3', '1', '0', '4', '0', '3', '2', '0', '1', '1', '2', '2', '1', '0', '1', '3', '1', '0', '0', '0', '4', '1', '3', '3', '1', '2', '2', '4', '1', '3', '1', '3', '0', '3', '2', '0', '1', '3', '0', '2', '0', '1', '2', '3', '4', '0', '3', '1', '3', '3', '3', '0', '2', '2', '3', '1', '1', '4', '2', '1', '4', '0', '4', '0', '3', '1', '3', '0', '2', '1', '2', '3', '1', '3', '4', '1', '2', '1', '1', '3', '3', '2', '1', '0', '1', '2', '1', '3', '0', '1', '2', '0', '3', '2', '2', '3', '3', '0', '2', '3', '1', '1', '0', '1', '0', '3', '2', '2', '4', '0', '2', '3', '3', '1', '1', '0', '2', '3', '1', '3', '0', '1', '3', '4', '2', '3', '0', '2', '0', '2', '0', '1', '4', '1', '1', '2', '2', '2', '3', '2', '1', '0', '3', '1', '1', '4', '1', '1', '0', '1', '2', '0', '4', '1', '1', '3', '1', '4', '2', '4', '1', '0', '0', '0', '2', '2', '1', '0', '0', '0', '1', '1', '4', '0', '0', '3', '4', '1', '1', '0', '0', '4', '4', '3', '1', '2', '3', '2', '2', '1', '0', '3', '1', '1', '2', '0', '4', '3', '0', '3', '0', '2', '4', '2', '0', '2', '2', '2', '1', '0', '0', '3', '1', '0', '4', '4', '1', '0', '1', '2', '2', '0', '1', '4', '4', '0', '0', '1', '1', '0', '2', '1', '2', '2', '2', '2', '0', '0', '0', '4', '1', '0', '1', '2', '3', '2', '4', '0', '4', '2', '1', '4', '1', '2', '3', '1', '3', '3', '2', '2', '4', '4', '3', '1', '0', '4', '0', '0', '1', '0', '1', '3', '2', '4', '2', '0', '4', '0', '0', '2', '0', '1', '0', '3', '2', '1', '2', '0', '1', '1', '0', '0', '4', '2', '0', '3', '1', '3', '4', '3', '1', '3', '0', '2', '2', '0', '0', '2', '0', '3', '4', '1', '1', '3', '4', '3', '0', '2', '0', '4', '0', '2', '2', '2', '3', '1', '0', '3', '1', '1', '1', '0', '2', '2', '2', '3', '1', '0', '0', '1', '0', '0', '1', '1', '0', '3', '2', '0', '2', '3', '3', '4', '3', '1', '1', '1', '0', '3', '3', '2', '1', '0', '1', '3', '1', '1', '2', '0', '2', '1', '0', '2', '1', '0', '0', '2', '2', '3', '0', '2', '0', '3', '0', '4', '0', '0', '1', '1', '2', '4', '0', '1', '3', '4', '2', '1', '3', '3', '0', '2', '4', '0', '2', '4', '0', '1', '2', '3', '3', '2', '0', '3', '1', '4', '1', '2', '3', '4', '1', '1', '3', '3', '0', '1', '2', '4', '0', '2', '1', '0', '0', '4', '1', '4', '2', '2', '2', '3', '2', '1', '1', '4', '1', '3', '1', '3', '1', '1', '1', '3', '0', '1', '4', '0', '3', '4', '3', '1', '3', '0', '2', '3', '1', '1', '0', '3', '2', '1', '0', '2', '4', '0', '3', '2', '1', '1', '0', '0', '4', '3', '0', '0', '1', '3', '2', '1', '4', '4', '0', '4', '2', '2', '0', '0', '2', '0', '1', '4', '0', '4', '0', '1', '3', '0', '0', '2', '2', '1', '4', '0', '2', '1', '1', '0', '0', '0', '1', '1', '0', '4', '0', '1', '3', '0', '2', '2', '0', '3', '0', '3', '3', '1', '0', '0', '0', '4', '3', '3', '3', '1', '4', '4', '2', '4', '0', '3', '2', '3', '0', '4', '2', '3', '2', '0', '0', '2', '4', '0', '2', '2', '2', '1', '0', '1', '3', '0', '1', '0', '4', '3', '1', '1', '2', '4', '0', '1', '4', '0', '1', '0', '4', '1', '2', '2', '0', '4', '0', '2', '1', '3', '1', '2', '3', '1', '4', '4', '3', '1', '0', '3', '0', '4', '3', '0', '3', '0', '3', '3', '4', '0', '2', '0', '0', '1', '1', '2', '3', '0', '4', '1', '0', '4', '1', '3', '4', '1', '3', '0', '3', '2', '0', '1', '2', '3', '1', '0', '1', '2', '1', '4', '3', '3', '0', '2', '2', '4', '1', '4', '0', '3', '0', '2', '1', '4', '0', '3', '3', '2', '2', '1', '4', '1', '4', '1', '1', '1', '3', '4', '3', '3', '1', '2', '1', '1', '3', '2', '2', '2', '3', '2', '0', '0', '3', '1', '3', '4', '1', '2', '0', '3', '3', '1', '0', '2', '1', '0', '3', '1', '3', '0', '2', '4', '2', '1', '2', '2', '0', '0', '3', '3', '3', '0', '0', '1', '4', '0', '1', '2', '0', '2', '4', '0', '0', '4', '2', '4', '0', '1', '0', '2', '4', '3', '1', '0', '0', '3', '4', '1', '2', '1', '1', '3', '2', '3', '3', '3', '2', '2', '3', '1', '2', '3', '1', '0', '3', '4', '3', '0', '0', '2', '1', '2', '0', '0', '0', '3', '1', '3', '0', '1', '2', '1', '2', '0', '0', '3', '4', '0', '2', '3', '0', '1', '2', '2', '2', '1', '4', '0', '3', '3', '0', '4', '4', '0', '0', '0', '3', '1', '0', '1', '3', '4', '1', '0', '0', '1', '4', '0', '0', '0', '0', '1', '2', '1', '3', '1', '0', '4', '4', '4', '3', '1', '3', '3', '0', '0', '0', '3', '1', '4', '1', '0', '1', '3', '3', '2', '0', '2', '2', '3', '1', '2', '0', '1', '1', '0', '2', '0', '2', '4', '1', '1', '2', '2', '2', '2', '3', '4', '2', '2', '0', '1', '2', '0', '4', '0', '1', '2', '4', '4', '1', '2', '4', '2', '3', '3', '1', '1', '1', '3', '4', '4', '0', '1', '1', '4', '2', '0', '3', '2', '3', '2', '0', '3', '1', '0', '3', '0', '0', '1', '1', '2', '2', '3', '1', '1', '0', '3', '3', '0', '3', '0', '0', '0', '2', '2', '0', '3', '1', '1', '1', '3', '2', '0', '2', '2', '4', '4', '2', '3', '0', '3', '0', '4', '2', '2', '2', '0', '0', '3', '0', '1', '2', '0', '1', '1', '4', '2', '1', '0', '1', '1', '3', '2', '2', '2', '2', '1', '0', '1', '1', '2', '1', '2', '2', '0', '1', '4', '1', '1', '0', '0', '3', '1', '2', '1', '1', '4', '2', '3', '1', '1', '3', '0', '1', '4', '2', '2', '3', '0', '4', '3', '1', '0', '0', '1', '3', '1', '2', '3', '2', '2', '0', '1', '2', '0', '1', '0', '1', '0', '4', '0', '2', '3', '1', '2', '1', '3', '3', '3', '1', '2', '2', '0', '4', '0', '3', '2', '0', '0', '3', '1', '3', '0', '3', '4', '4', '1', '4', '4', '3', '1', '3', '1', '1', '3', '2', '4', '1', '3', '0', '0', '0', '1', '3', '0', '2', '0', '0', '1', '3', '1', '4', '1', '3', '1', '3', '0', '1', '1', '3', '1', '1', '1', '4', '2', '4', '2', '1', '1', '1', '4', '3', '4', '1', '0', '4', '4', '1', '1', '3', '1', '0', '0', '0', '4', '0', '0', '0', '0', '0', '1', '2', '3', '2', '0', '2', '0', '3', '3', '0', '1', '3', '1', '2', '3', '4', '0', '0', '0', '3', '3', '2', '3', '4', '0', '2', '1', '0', '4', '0', '3', '1', '2', '3', '0', '4', '2', '3', '0', '1', '1', '2', '1', '1', '1', '0', '0', '1', '0', '0', '4', '0', '2', '2', '0', '1', '1', '1', '4', '2', '1', '2', '3', '4', '2', '3', '3', '2', '2', '3', '4', '0', '2', '2', '2', '1', '3', '2', '4', '1', '4', '2', '1', '1', '0', '3', '3', '1', '3', '3', '2', '1', '3', '3', '1', '0', '2', '4', '1', '1', '0', '3', '1', '0', '0', '0', '3', '4', '3', '1', '2', '1', '3', '1', '1', '0', '4', '1', '3', '2', '0', '3', '1', '2', '1', '2', '4', '1', '4', '0', '1', '1', '1', '2', '3', '3', '0', '2', '4', '0', '3', '2', '1', '3', '0', '2', '1', '2', '2', '4', '2', '3', '1', '0', '4', '0', '2', '0', '1', '0', '3', '1', '0', '2', '0', '3', '1', '0', '2', '0', '0', '2', '2', '4', '0', '1', '1', '0', '3', '0', '2', '1', '2', '2', '1', '1', '4', '0', '4', '1', '0', '3', '2', '1', '0', '2', '3', '2', '0', '2', '1', '4', '1', '0', '2', '1', '2', '1', '1', '0', '0', '0', '0', '1', '0', '3', '2', '4', '1', '0', '1', '2', '2', '4', '2', '4', '3', '0', '4', '0', '0', '2', '4', '1', '0', '3', '1', '3', '4', '3', '2', '0', '1', '0', '0', '3', '3', '1', '0', '1', '4', '0', '2', '0', '0', '2', '2', '3', '3', '2', '0', '1', '2', '4', '2', '3', '2', '0', '0', '1', '3', '4', '1', '1', '3', '1', '0', '4', '2', '2', '1', '3', '0', '3', '4', '2', '3', '1', '0', '2', '3', '1', '2', '4', '0', '3', '3', '1', '1', '4', '4', '0', '4', '1', '0', '4', '0', '1', '3', '4', '3', '1', '0', '1', '2', '3', '2', '4', '0', '0', '0', '1', '0', '1', '3', '1', '4', '4', '4', '3', '0', '1', '2', '1', '2', '4', '0', '1', '3', '0', '1', '0', '0', '2', '0', '0', '2', '4', '1', '0', '4', '2', '3', '2', '1', '1', '1', '0', '1', '0', '2', '3', '4', '2', '2', '2', '1', '1', '4', '0', '4', '1', '3', '4', '2', '3', '2', '1', '1', '1', '0', '3', '0', '1', '2', '0', '2', '1', '4', '3', '2', '1', '1', '4', '3', '2', '0', '3', '0', '0', '0', '3', '0', '1', '4', '3', '0', '1', '2', '1', '2', '0', '1', '3', '4', '2', '4', '3', '3', '0', '2', '0', '1', '0', '0', '3', '3', '0', '4', '1', '0', '3', '0', '2', '3', '1', '0', '2', '1', '1', '4', '1', '0', '0', '0', '1', '4', '2', '1', '3', '2', '4', '0', '1', '3', '2', '0', '1', '3', '3', '2', '0', '1', '0', '1', '1', '2', '1', '1', '3', '0', '3', '1', '0', '4', '3', '0', '0', '0', '2', '3', '2', '3', '0', '1', '4', '1', '3', '0', '3', '0', '2', '2', '2', '1', '2', '3', '2', '2', '0', '4', '1', '2', '3', '2', '1', '1', '2', '3', '2', '1', '1', '2', '2', '0', '2', '2', '3', '2', '0', '0', '3', '3', '0', '1', '3', '3', '3', '1', '3', '0', '0', '2', '3', '0', '1', '3', '4', '3', '0', '2', '3', '3', '3', '0', '2', '1', '1', '3', '2', '2', '4', '1', '0', '1', '0', '4', '0', '4', '2', '1', '3', '0', '0', '3', '3', '4', '3', '0', '3', '2', '0', '1', '3', '1', '2', '0', '1', '3', '0', '1', '2', '0', '1', '3', '3', '0', '4', '3', '0', '2', '4', '2', '2', '0', '1', '4', '0', '1', '1', '1', '3', '2', '4', '3', '2', '3', '1', '1', '4', '1', '2', '0', '2', '1', '1', '3', '0', '1', '1', '1', '0', '1', '4', '0', '2', '3', '2', '1', '3', '1', '1', '0', '3', '1', '4', '1', '2', '3', '4', '3', '1', '1', '3', '2', '1', '2', '3', '0', '1', '1', '3', '1', '0', '1', '0', '1', '2', '0', '0', '4', '0', '0', '1', '1', '0', '1', '0', '2', '4', '0', '1', '1', '3', '3', '0', '4', '3', '2', '0', '1', '2', '1', '2', '2', '0', '1', '0', '1', '2', '2', '2', '2', '3', '3', '1', '0', '3', '2', '3', '1', '2', '2', '0', '1', '2', '2', '2', '3', '1', '2', '1', '1', '4', '1', '0', '4', '2', '4', '2', '4', '3', '0', '0', '1', '3', '3', '1', '3', '3', '2', '2', '0', '0', '1', '2', '4', '4', '0', '1', '4', '4', '2', '0', '3', '0', '2', '1', '2', '3', '0', '0', '1', '2', '0', '0', '3', '2', '3', '4', '4', '4', '3', '1', '3', '3', '3', '4', '3', '0', '3', '2', '3', '1', '0', '0', '1', '1', '0', '3', '4', '0', '0', '1', '0', '4', '3', '2', '1', '3', '1', '1', '0', '2', '1', '0', '0', '4', '4', '0', '0', '3', '4', '3', '0', '1', '2', '3', '2', '3', '2', '0', '0', '0', '2', '3', '2', '2', '2', '1', '2', '4', '3', '3', '3', '4', '1', '0', '1', '4', '2', '1', '2', '1', '3', '0', '1', '0', '1', '3', '2', '3', '0', '3', '4', '0', '3', '2', '1', '1', '4', '2', '3', '1', '2', '2', '0', '0', '3', '3', '4', '1', '0', '0', '1', '0', '1', '3', '0', '3', '1', '2', '0', '0', '4', '3', '2', '3', '2', '1', '1', '0', '2', '0', '1', '4', '0', '0', '0', '0', '2', '1', '2', '0', '4', '0', '0', '1', '4', '0', '4', '1', '2', '1', '3', '3', '3', '0', '3', '2', '0', '0', '3', '0', '0', '3', '1', '3', '3', '0', '1', '2', '2', '2', '0', '3', '3', '2', '0', '0', '0', '1', '2', '2', '4', '4', '2', '4', '1', '1', '4', '1', '2', '0', '0', '0', '2', '1', '4', '2', '2', '0', '0', '3', '2', '4', '3', '3', '3', '2', '2', '2', '1', '2', '1', '3', '4', '1', '3', '2', '1', '3', '4', '0', '2', '1', '1', '2', '2', '0', '2', '2', '0', '4', '0', '4', '4', '4', '1', '4', '3', '3', '3', '3', '0', '1', '2', '3', '3', '3', '3', '1', '0', '1', '2', '2', '3', '2', '0', '0', '4', '1', '3', '0', '0', '4', '2', '1', '1', '1', '4', '3', '3', '4', '2', '0', '0', '0', '2', '0', '1', '1', '0', '1', '1', '0', '1', '1', '3', '3', '2', '2', '2', '2', '0', '2', '0', '3', '1', '4', '0', '2', '4', '1', '3', '0', '4', '0', '2', '2', '1', '1', '0', '1', '1', '1', '3', '1', '0', '1', '3', '0', '1', '1', '1', '4', '1', '4', '1', '3', '1', '4', '2', '1', '2', '2', '4', '1', '3', '0', '2', '2', '1', '2', '3', '1', '3', '1', '0', '2', '0', '2', '3', '2', '3', '0', '3', '1', '2', '3', '4', '4', '1', '1', '4', '2', '2', '3', '2', '1', '3', '1', '3', '0', '2', '1', '0', '0', '4', '1', '1', '1', '2', '2', '2', '2', '0', '3', '3', '2', '3', '3', '0', '3', '3', '4', '3', '2', '1', '3', '0', '2', '2', '0', '4', '2', '3', '3', '0', '3', '1', '3', '0', '3', '1', '2', '2', '3', '0', '2', '2', '2', '1', '0', '4', '1', '1', '4', '2', '2', '0', '0', '1', '1', '3', '3', '0', '1', '2', '0', '4', '1', '0', '3', '0', '4', '3', '0', '1', '4', '0', '1', '0', '4', '0', '0', '3', '1', '2', '2', '2', '1', '3', '0', '2', '3', '2', '1', '4', '3', '2', '0', '1', '2', '2', '1', '0', '2', '0', '3', '0', '1', '4', '3', '2', '4', '2', '2', '0', '0', '0', '1', '3', '3', '2', '1', '2', '3', '0', '3', '0', '2', '0', '1', '2', '2', '0', '2', '4', '3', '1', '1', '0', '3', '0', '2', '3', '0', '2', '1', '1', '0', '3', '1', '2', '2', '0', '1', '0', '2', '1', '3', '0', '0', '1', '2', '1', '4', '2', '2', '1', '0', '0', '3', '1', '3', '4', '2', '2', '3', '3', '3', '0', '3', '2', '3', '2', '0', '0', '1', '4', '0', '1', '1', '0', '3', '4', '2', '3', '0', '0', '3', '1', '0', '3', '3', '1', '0', '4', '4', '3', '3', '0', '1', '0', '4', '4', '2', '2', '2', '1', '0', '1', '0', '4', '2', '0', '3', '2', '1', '3', '3', '2', '0', '1', '1', '0', '4', '3', '4', '2', '1', '2', '3', '3', '0', '3', '1', '3', '0', '0', '3', '1', '2', '2', '2', '4', '4', '0', '2', '3', '2', '0', '2', '2', '4', '1', '0', '1', '0', '4', '1', '1', '0', '0', '1', '1', '3', '1', '0', '2', '1', '4', '2', '2', '3', '4', '2', '2', '3', '4', '4', '0', '1', '2', '0', '1', '2', '0', '0', '2', '1', '1', '0', '0', '4', '0', '1', '3', '3', '1', '1', '1', '0', '3', '0', '4', '0', '3', '2', '0', '3', '1', '2', '1', '2', '2', '1', '0', '1', '3', '1', '1', '2', '1', '2', '4', '1', '0', '4', '0', '4', '0', '1', '0', '3', '1', '1', '4', '1', '0', '1', '3', '4', '1', '2', '3', '0', '4', '3', '2', '1', '0', '4', '4', '3', '1', '4', '3', '0', '0', '0', '4', '1', '2', '4', '1', '4', '4', '2', '0', '3', '3', '1', '3', '1', '0', '3', '4', '2', '1', '1', '1', '1', '4', '0', '0', '4', '1', '0', '1', '2', '0', '1', '2', '4', '1', '1', '1', '2', '2', '3', '2', '4', '1', '3', '0', '1', '0', '2', '0', '1', '2', '0', '4', '0', '0', '1', '4', '1', '0', '3', '2', '2', '4', '1', '1', '0', '1', '4', '0', '1', '4', '0', '0', '3', '2', '2', '2', '0', '2', '1', '1', '2', '0', '0', '3', '2', '2', '3', '2', '1', '2', '0', '3', '2', '3', '3', '0', '0', '0', '0', '4', '1', '3', '1', '0', '0', '3', '0', '2', '0', '2', '1', '3', '2', '4', '0', '2', '0', '0', '2', '2', '2', '1', '0', '2', '3', '2', '3', '3', '4', '2', '3', '4', '3', '1', '1', '2', '1', '1', '1', '1', '4', '3', '4', '3', '3', '3', '4', '2', '3', '3', '0', '2', '1', '0', '0', '2', '1', '1', '0', '0', '1', '2', '0', '3', '2', '4', '0', '0', '2', '3', '3', '4', '3', '1', '0', '2', '3', '0', '3', '3', '0', '3', '1', '4', '3', '1', '1', '0', '2', '3', '1', '0', '1', '0', '0', '0', '0', '0', '2', '3', '2', '1', '1', '3', '1', '0', '2', '1', '3', '1', '1', '0', '2', '1', '1', '3', '1', '3', '4', '3', '2', '0', '3', '0', '3', '1', '0', '3', '1', '2', '4', '0', '1', '1', '0', '1', '2', '1', '3', '1', '4', '4', '2', '2', '2', '0', '3', '3', '0', '0', '3', '0', '2', '4', '2', '3', '3', '0', '3', '0', '0', '0', '2', '1', '1', '2', '1', '1', '4', '0', '4', '3', '2', '3', '0', '2', '0', '2', '4', '1', '4', '4', '2', '1', '3', '2', '2', '2', '2', '0', '2', '1', '2', '3', '1', '2', '0', '2', '1', '0', '1', '3', '4', '2', '4', '0', '1', '1', '2', '0', '3', '0', '2', '3', '2', '0', '2', '1', '1', '1', '2', '3', '0', '1', '3', '1', '3', '4', '3', '0', '1', '3', '2', '1', '3', '2', '2', '4', '3', '0', '0', '2', '1', '0', '4', '0', '1', '1', '0', '0', '1', '0', '3', '0', '1', '3', '2', '4', '0', '3', '0', '2', '3', '0', '0', '0', '3', '0', '1', '0', '4', '2', '3', '3', '3', '1', '0', '3', '0', '3', '0', '2', '0', '0', '0', '3', '2', '4', '1', '0', '2', '0', '2', '3', '1', '4', '3', '4', '3', '2', '2', '0', '1', '3', '3', '3', '3', '1', '0', '1', '3', '4', '1', '0', '1', '4', '0', '4', '1', '0', '3', '3', '2', '3', '2', '3', '2', '4', '1', '1', '0', '3', '4', '2', '1', '0', '3', '3', '0', '4', '1', '1', '4', '2', '0', '1', '4', '1', '3', '1', '0', '3', '4', '3', '3', '2', '0', '1', '3', '1', '4', '2', '0', '2', '2', '4', '1', '2', '0', '1', '2', '3', '0', '0', '1', '0', '0', '4', '3', '4', '3', '4', '3', '3', '1', '3', '0', '4', '0', '1', '2', '4', '0', '4', '3', '1', '2', '1', '3', '3', '3', '0', '1', '0', '3', '3', '4', '1', '2', '0', '4', '0', '0', '3', '4', '0', '2', '0', '2', '3', '4', '2', '2', '1', '4', '0', '2', '1', '0', '1', '1', '4', '2', '2', '0', '2', '3', '1', '2', '1', '4', '3', '0', '1', '4', '3', '1', '2', '1', '1', '0', '2', '3', '1', '2', '3', '4', '0', '3', '0', '1', '0', '2', '0', '1', '4', '2', '1', '3', '3', '0', '3', '1', '0', '3', '2', '0', '4', '1', '2', '3', '2', '0', '1', '1', '0', '1', '3', '0', '4', '2', '3', '2', '1', '2', '1', '1', '2', '0', '1', '2', '2', '3', '2', '1', '2', '1', '0', '4', '3', '2', '3', '4', '2', '1', '4', '3', '1', '0', '3', '2', '0', '0', '1', '2', '3', '0', '0', '4', '1', '1', '3', '4', '4', '1', '4', '4', '1', '1', '1', '2', '4', '1', '1', '2', '3', '1', '0', '0', '0', '2', '0', '2', '0', '2', '0', '3', '2', '3', '0', '3', '0', '0', '3', '0', '3', '2', '1', '0', '2', '0', '2', '1', '3', '0', '1', '4', '0', '1', '3', '0', '0', '3', '0', '4', '2', '2', '4', '1', '1', '1', '3', '0', '4', '0', '3', '2', '4', '2', '1', '3', '0', '3', '0', '2', '1', '3', '3', '4', '3', '0', '2', '4', '2', '0', '1', '4', '2', '2', '2', '3', '0', '0', '0', '2', '4', '3', '3', '3', '0', '1', '3', '2', '0', '2', '1', '0', '0', '3', '2', '2', '0', '3', '3', '2', '3', '1', '3', '2', '3', '2', '0', '0', '2', '0', '1', '1', '1', '1', '4', '3', '2', '2', '3', '0', '1', '3', '2', '3', '0', '0', '2', '0', '2', '3', '0', '1', '4', '0', '3', '2', '2', '2', '0', '1', '2', '2', '4', '0', '3', '1', '2', '4', '2', '3', '1', '0', '4', '2', '4', '1', '1', '1', '3', '3', '3', '4', '3', '0', '1', '1', '3', '0', '1', '4', '1', '3', '2', '4', '1', '1', '3', '3', '0', '4', '2', '0', '2', '1', '2', '1', '0', '2', '1', '4', '1', '1', '2', '0', '2', '2', '1', '4', '0', '0', '0', '1', '0', '3', '4', '2', '1', '0', '3', '0', '3', '3', '0', '3', '1', '3', '3', '3', '1', '3', '1', '2', '1', '1', '2', '0', '3', '3', '2', '2', '0', '3', '2', '2', '2', '3', '0', '1', '3', '2', '1', '3', '0', '3', '0', '0', '4', '2', '3', '2', '1', '0', '0', '0', '1', '0', '2', '0', '4', '0', '0', '2', '2', '4', '4', '0', '2', '2', '0', '0', '1', '3', '2', '0', '1', '1', '4', '4', '0', '0', '2', '3', '1', '4', '0', '3', '4', '0', '2', '0', '0', '1', '3', '2', '1', '3', '1', '2', '1', '1', '1', '0', '2', '2', '0', '4', '3', '2', '0', '2', '3', '0', '2', '2', '1', '1', '2', '3', '3', '1', '3', '4', '0', '4', '1', '0', '1', '3', '1', '3', '3', '0', '2', '1', '0', '2', '0', '0', '4', '2', '1', '1', '3', '1', '2', '2', '3', '2', '0', '0', '3', '2', '1', '4', '4', '2', '3', '0', '0', '2', '4', '0', '2', '1', '1', '4', '4', '3', '0', '4', '0', '1', '1', '0', '1', '0', '1', '0', '1', '0', '4', '3', '0', '0', '4', '1', '2', '0', '3', '3', '3', '1', '2', '2', '1', '1', '0', '2', '0', '1', '2', '1', '0', '0', '3', '2', '0', '0', '1', '4', '3', '0', '4', '3', '3', '4', '2', '0', '4', '0', '0', '4', '0', '2', '4', '1', '0', '1', '3', '0', '2', '0', '2', '1', '2', '1', '0', '2', '0', '0', '1', '2', '3', '3', '1', '1', '4', '0', '1', '4', '1', '4', '4', '4', '1', '2', '1', '1', '1', '1', '3', '1', '0', '4', '3', '2', '2', '2', '4', '1', '3', '0', '2', '3', '2', '0', '1', '1', '0', '0', '3', '3', '4', '3', '1', '1', '1', '4', '3', '2', '0', '4', '2', '0', '2', '4', '3', '1', '0', '0', '1', '2', '4', '1', '3', '1', '3', '4', '0', '4', '1', '1', '2', '4', '2', '1', '1', '1', '2', '0', '0', '0', '1', '4', '2', '2', '0', '3', '0', '0', '1', '4', '2', '4', '1', '2', '1', '3', '1', '0', '1', '2', '2', '0', '2', '1', '3', '0', '0', '2', '1', '2', '2', '3', '0', '1', '1', '1', '2', '1', '3', '2', '1', '0', '2', '1', '4', '0', '3', '2', '3', '3', '2', '4', '1', '0', '2', '0', '1', '2', '0', '3', '0', '1', '0', '1', '3', '1', '0', '3', '2', '2', '1', '0', '3', '4', '0', '1', '2', '3', '0', '0', '0', '0', '1', '3', '1', '2', '3', '1', '0', '3', '0', '0', '3', '2', '1', '0', '2', '0', '3', '1', '0', '0', '1', '4', '2', '2', '0', '3', '1', '0', '0', '1', '1', '0', '2', '0', '2', '0', '3', '3', '0', '0', '0', '0', '3', '1', '3', '3', '3', '3', '2', '0', '4', '1', '4', '4', '0', '0', '1', '3', '0', '1', '2', '3', '2', '1', '2', '0', '3', '0', '0', '3', '2', '0', '0', '0', '0', '1', '2', '2', '0', '0', '1', '2', '1', '0', '1', '2', '1', '2', '1', '1', '0', '3', '2', '0', '4', '0', '3', '1', '1', '0', '4', '3', '3', '2', '2', '2', '4', '1', '2', '3', '2', '4', '0', '4', '4', '2', '3', '2', '1', '1', '2', '3', '2', '0', '2', '0', '4', '2', '1', '3', '1', '2', '2', '4', '0', '1', '1', '0', '0', '1', '2', '2', '3', '1', '4', '3', '0', '3', '1', '2', '1', '3', '1', '1', '2', '2', '3', '2', '1', '1', '2', '0', '1', '2', '0', '1', '1', '0', '0', '1', '2', '1', '2', '4', '0', '1', '2', '1', '1', '4', '2', '0', '3', '1', '3', '2', '0', '0', '3', '0', '3', '0', '0', '2', '2', '0', '1', '4', '3', '1', '4', '3', '4', '3', '0', '1', '1', '4', '2', '2', '1', '0', '1', '3', '0', '2', '1', '4', '0', '2', '2', '3', '0', '0', '2', '2', '2', '2', '2', '1', '2', '2', '4', '4', '0', '1', '3', '4', '4', '3', '3', '1', '1', '4', '1', '0', '3', '1', '1', '0', '0', '2', '2', '4', '1', '1', '1', '3', '0', '0', '4', '0', '2', '1', '2', '4', '1', '3', '3', '1', '1', '2', '1', '3', '0', '0', '0', '4', '2', '1', '1', '2', '3', '0', '0', '2', '0', '0', '0', '2', '3', '3', '4', '3', '2', '0', '0', '0', '0', '0', '3', '2', '3', '3', '0', '4', '2', '2', '1', '0', '2', '1', '3', '4', '1', '2', '2', '3', '1', '3', '1', '0', '1', '1', '4', '3', '2', '0', '2', '3', '3', '0', '0', '2', '3', '1', '2', '0', '2', '0', '1', '1', '0', '2', '0', '4', '2', '2', '2', '3', '3', '2', '0', '4', '0', '2', '1', '1', '4', '1', '2', '3', '0', '0', '3', '4', '3', '0', '4', '2', '3', '3', '1', '2', '4', '3', '4', '0', '0', '0', '0', '3', '1', '3', '4', '1', '4', '3', '4', '1', '3', '1', '2', '1', '2', '4', '2', '3', '3', '2', '0', '4', '2', '3', '1', '4', '1', '2', '1', '0', '1', '2', '0', '3', '0', '2', '2', '3', '1', '3', '3', '1', '0', '3', '3', '0', '2', '4', '3', '3', '3', '1', '2', '0', '2', '1', '0', '0', '4', '0', '4', '0', '0', '1', '2', '0', '4', '4', '1', '1', '2', '2', '1', '2', '0', '0', '0', '0', '0', '1', '0', '2', '1', '0', '1', '0', '2', '2', '2', '2', '1', '0', '4', '1', '0', '3', '1', '0', '3', '4', '3', '3', '0', '2', '4', '3', '4', '0', '2', '0', '1', '2', '0', '4', '3', '0', '4', '0', '2', '0', '1', '0', '3', '0', '3', '0', '4', '4', '3', '1', '2', '3', '0', '1', '0', '1', '1', '1', '0', '1', '2', '3', '1', '0', '2', '1', '4', '3', '0', '0', '4', '1', '1', '4', '0', '4', '1', '3', '0', '0', '0', '2', '1', '0', '0', '4', '1', '3', '1', '2', '0', '2', '2', '0', '3', '2', '3', '0', '4', '0', '2', '1', '0', '0', '2', '3', '1', '1', '3', '1', '2', '3', '1', '0', '2', '2', '1', '0', '2', '3', '0', '2', '0', '0', '1', '1', '0', '0', '0', '2', '1', '1', '0', '2', '1', '0', '0', '2', '1', '2', '3', '3', '3', '0', '3', '0', '0', '0', '3', '1', '2', '2', '4', '1', '1', '2', '0', '3', '4', '3', '2', '2', '1', '4', '1', '1', '2', '0', '1', '3', '4', '1', '2', '3', '2', '0', '1', '3', '2', '3', '0', '4', '3', '3', '4', '4', '0', '3', '2', '4', '2', '0', '2', '3', '1', '3', '2', '3', '0', '4', '0', '3', '2', '1', '2', '1', '4', '2', '3', '2', '0', '1', '2', '4', '0', '3', '3', '0', '4', '2', '4', '2', '0', '1', '3', '4', '2', '0', '3', '1', '0', '0', '3', '2', '0', '4', '1', '1', '2', '0', '0', '3', '1', '0', '3', '4', '3', '1', '2', '2', '3', '3', '3', '2', '1', '2', '3', '1', '0', '1', '0', '0', '1', '2', '3', '2', '4', '0', '1', '0', '0', '1', '1', '3', '4', '0', '0', '1', '3', '0', '0', '3', '4', '3', '1', '4', '3', '0', '0', '0', '0', '3', '1', '3', '2', '4', '4', '2', '0', '0', '0', '3', '2', '1', '2', '3', '2', '1', '0', '2', '3', '0', '0', '0', '4', '2', '0', '0', '2', '1', '2', '1', '4', '3', '2', '3', '0', '3', '4', '1', '3', '0', '0', '1', '1', '4', '0', '0', '1', '2', '2', '3', '0', '4', '0', '0', '0', '2', '0', '1', '2', '1', '0', '3', '1', '2', '1', '2', '0', '2', '0', '1', '3', '2', '3', '1', '1', '0', '1', '0', '1', '3', '4', '0', '0', '1', '3', '4', '0', '0', '0', '2', '2', '0', '3', '0', '2', '3', '1', '3', '0', '1', '1', '4', '0', '1', '4', '1', '0', '2', '3', '0', '4', '0', '1', '1', '1', '1', '2', '2', '4', '0', '1', '3', '2', '3', '2', '3', '2', '1', '2', '3', '3', '3', '0', '3', '4', '2', '3', '2', '0', '1', '3', '2', '2', '2', '1', '0', '4', '1', '2', '0', '2', '1', '3', '2', '2', '2', '1', '4', '2', '0', '0', '3', '3', '0', '2', '2', '1', '0', '0', '3', '4', '0', '2', '4', '0', '4', '3', '0', '1', '4', '2', '2', '0', '1', '1', '2', '3', '2', '1', '1', '0', '1', '2', '2', '2', '0', '2', '0', '0', '2', '0', '1', '4', '0', '3', '3', '0', '1', '0', '2', '2', '1', '4', '0', '4', '1', '3', '1', '1', '3', '1', '1', '1', '0', '0', '2', '0', '0', '2', '1', '2', '2', '0', '3', '0', '2', '4', '3', '3', '0', '4', '2', '3', '2', '0', '1', '0', '3', '3', '0', '2', '2', '0', '3', '0', '0', '4', '0', '4', '2', '0', '3', '4', '1', '4', '1', '3', '0', '0', '1', '1', '4', '0', '3', '1', '3', '4', '0', '2', '0', '0', '0', '3', '4', '4', '2', '1', '1', '1', '0', '3', '2', '4', '4', '3', '1', '1', '0', '1', '4', '3', '0', '0', '1', '3', '0', '1', '0', '2', '0', '0', '0', '1', '2', '4', '2', '2', '4', '1', '0', '0', '1', '3', '1', '0', '2', '4', '1', '2', '2', '1', '1', '1', '2', '2', '0', '2', '3', '4', '3', '1', '1', '2', '2', '2', '1', '1', '0', '2', '1', '2', '2', '1', '1', '2', '3', '3', '2', '4', '1', '1', '2', '1', '4', '0', '0', '1', '3', '1', '0', '1', '4', '1', '4', '3', '2', '1', '3', '0', '3', '2', '3', '1', '3', '0', '2', '3', '2', '2', '3', '0', '2', '0', '4', '0', '3', '2', '1', '0', '2', '3', '1', '0', '0', '2', '3', '0', '1', '2', '0', '0', '1', '4', '4', '2', '2', '2', '2', '2', '3', '2', '1', '4', '2', '3', '1', '0', '2', '1', '2', '4', '1', '2', '4', '4', '0', '3', '3', '3', '1', '2', '0', '0', '1', '2', '4', '2', '1', '2', '2', '1', '3', '1', '3', '4', '4', '2', '2', '4', '1', '4', '0', '3', '1', '3', '2', '0', '2', '2', '0', '0', '2', '3', '0', '2', '0', '3', '0', '1', '3', '3', '1', '3', '1', '0', '4', '1', '0', '1', '0', '1', '2', '1', '1', '0', '1', '1', '2', '2', '1', '0', '3', '1', '0', '3', '3', '1', '2', '0', '2', '0', '4', '1', '0', '0', '4', '2', '0', '4', '0', '3', '3', '0', '1', '2', '2', '0', '0', '2', '2', '0', '0', '1', '0', '1', '0', '1', '1', '0', '2', '2', '0', '1', '0', '1', '1', '2', '1', '1', '2', '1', '4', '0', '2', '3', '0', '3', '4', '3', '0', '1', '0', '2', '0', '1', '0', '2', '2', '0', '4', '3', '2', '1', '1', '1', '4', '3', '0', '2', '0', '0', '4', '4', '1', '3', '0', '1', '3', '1', '1', '4', '3', '0', '4', '2', '0', '2', '1', '0', '2', '2', '2', '0', '0', '0', '2', '2', '4', '2', '2', '3', '2', '3', '1', '0', '3', '2', '0', '4', '3', '2', '2', '2', '1', '2', '1', '1', '0', '3', '4', '0', '0', '0', '2', '2', '3', '3', '0', '0', '2', '1', '2', '3', '1', '1', '4', '0', '2', '2', '1', '4', '0', '3', '1', '2', '0', '1', '3', '1', '3', '0', '0', '0', '0', '2', '2', '2', '3', '2', '2', '3', '0', '3', '1', '1', '2', '2', '2', '1', '0', '2', '0', '1', '3', '0', '1', '1', '3', '1', '0', '0', '3', '1', '2', '1', '2', '4', '1', '4', '2', '0', '2', '2', '2', '0', '0', '0', '4', '1', '0', '2', '0', '0', '0', '1', '0', '2', '2', '4', '0', '1', '1', '2', '3', '2', '3', '4', '0', '3', '4', '1', '2', '2', '0', '4', '3', '0', '4', '4', '1', '0', '3', '0', '2', '0', '4', '0', '0', '1', '2', '1', '1', '2', '1', '2', '3', '4', '2', '0', '0', '3', '0', '0', '1', '0', '1', '3', '4', '1', '0', '2', '1', '0', '0', '3', '0', '2', '4', '2', '1', '0', '2', '1', '2', '1', '2', '0', '1', '2', '2', '1', '1', '1', '2', '0', '1', '3', '2', '4', '2', '3', '3', '3', '2', '1', '0', '4', '3', '3', '3', '2', '0', '0', '0', '0', '4', '0', '1', '1', '1', '0', '0', '4', '2', '4', '0', '2', '0', '0', '2', '0', '1', '1', '1', '1', '2', '3', '4', '3', '4', '4', '4', '2', '0', '3', '0', '2', '2', '4', '2', '3', '2', '3', '3', '1', '3', '4', '3', '1', '0', '0', '0', '1', '0', '1', '4', '0', '3', '3', '4', '0', '0', '0', '1', '3', '0', '1', '0', '1', '4', '1', '3', '3', '3', '0', '4', '1', '2', '3', '2', '0', '4', '1', '0', '1', '3', '2', '3', '3', '4', '3', '0', '4', '4', '1', '1', '0', '3', '0', '0', '3', '0', '1', '2', '4', '1', '0', '3', '1', '2', '3', '0', '0', '4', '0', '3', '3', '1', '2', '3', '3', '1', '2', '0', '0', '2', '2', '3', '3', '2', '3', '0', '0', '2', '2', '4', '3', '3', '1', '1', '1', '2', '4', '0', '0', '2', '1', '1', '1', '4', '1', '0', '2', '3', '4', '0', '4', '0', '4', '1', '1', '1', '2', '0', '1', '4', '4', '1', '3', '0', '3', '2', '1', '0', '0', '3', '0', '3', '1', '0', '1', '0', '0', '0', '1', '0', '0', '1', '0', '2', '0', '0', '2', '2', '1', '0', '0', '2', '1', '2', '1', '4', '2', '1', '0', '2', '3', '1', '2', '1', '3', '2', '0', '0', '3', '2', '4', '3', '4', '0', '1', '2', '1', '4', '1', '3', '0', '4', '0', '1', '2', '1', '0', '2', '1', '1', '0', '1', '1', '1', '0', '1', '3', '0', '4', '4', '1', '4', '1', '0', '2', '2', '1', '2', '0', '1', '3', '0', '4', '0', '3', '4', '1', '2', '3', '4', '0', '1', '1', '0', '2', '0', '0', '2', '1', '3', '1', '3', '4', '0', '0', '3', '2', '3', '1', '2', '0', '0', '1', '3', '0', '2', '0', '1', '1', '0', '3', '0', '4', '3', '2', '1', '0', '1', '3', '3', '2', '3', '4', '2', '3', '0', '0', '1', '3', '2', '0', '2', '1', '1', '1', '1', '2', '4', '1', '1', '2', '1', '3', '4', '2', '3', '2', '0', '2', '4', '4', '4', '4', '2', '1', '0', '0', '4', '1', '2', '1', '0', '0', '1', '2', '0', '4', '2', '0', '0', '0', '4', '1', '4', '1', '0', '4', '0', '1', '3', '0', '0', '1', '1', '1', '0', '1', '3', '0', '3', '2', '1', '4', '2', '1', '2', '2', '4', '0', '4', '1', '4', '0', '0', '3', '1', '4', '1', '4', '2', '1', '1', '3', '1', '3', '3', '3', '0', '1', '0', '0', '0', '2', '2', '3', '4', '3', '2', '0', '1', '0', '3', '1', '2', '1', '3', '4', '4', '2', '1', '0', '1', '1', '1', '4', '2', '1', '0', '2', '1', '4', '3', '4', '3', '0', '1', '2', '2', '2', '4', '0', '1', '2', '0', '4', '1', '2', '4', '2', '0', '3', '1', '1', '3', '2', '3', '0', '3', '1', '3', '2', '0', '1', '2', '1', '4', '2', '2', '4', '3', '4', '1', '2', '1', '2', '1', '2', '0', '2', '0', '1', '2', '3', '0', '3', '3', '2', '2', '2', '2', '0', '0', '0', '0', '2', '1', '2', '2', '2', '0', '0', '4', '1', '3', '1', '3', '2', '3', '1', '1', '1', '0', '2', '1', '0', '3', '2', '4', '0', '1', '1', '0', '2', '4', '0', '2', '4', '2', '2', '0', '2', '1', '0', '3', '0', '4', '0', '3', '1', '1', '3', '2', '0', '3', '1', '1', '1', '2', '3', '0', '2', '2', '4', '4', '3', '0', '0', '2', '2', '3', '1', '1', '0', '0', '0', '3', '2', '4', '3', '0', '2', '1', '1', '1', '1', '3', '2', '2', '1', '2', '3', '2', '3', '2', '1', '4', '4', '2', '3', '3', '1', '3', '1', '2', '0', '1', '0', '0', '4', '1', '3', '0', '4', '2', '3', '1', '1', '0', '1', '0', '0', '4', '2', '1', '0', '0', '0', '1', '3', '4', '0', '3', '1', '2', '4', '1', '4', '3', '0', '3', '2', '2', '3', '1', '0', '0', '3', '2', '4', '3', '3', '0', '0', '1', '1', '4', '2', '0', '0', '0', '1', '4', '4', '2', '2', '0', '0', '3', '3', '1', '0', '2', '1', '4', '2', '4', '2', '0', '4', '3', '3', '0', '4', '0', '3', '1', '1', '4', '1', '2', '4', '1', '0', '4', '2', '1', '0', '0', '2', '2', '0', '0', '0', '4', '4', '1', '3', '3', '3', '0', '3', '4', '1', '1', '3', '0', '1', '4', '1', '1', '1', '3', '0', '1', '2', '0', '2', '0', '0', '3', '3', '0', '3', '2', '0', '4', '3', '1', '1', '0', '0', '1', '2', '1', '4', '2', '3', '1', '2', '1', '0', '0', '3', '2', '2', '3', '2', '0', '1', '1', '3', '4', '1', '2', '1', '2', '4', '0', '3', '1', '0', '0', '1', '0', '2', '4', '0', '2', '2', '4', '2', '1', '0', '1', '1', '1', '1', '3', '3', '3', '1', '1', '2', '4', '4', '3', '0', '0', '4', '2', '4', '1', '1', '2', '0', '4', '3', '3', '4', '0', '2', '1', '2', '3', '2', '4', '3', '1', '3', '3', '2', '2', '0', '3', '2', '2', '0', '4', '2', '0', '4', '1', '3', '0', '2', '0', '2', '1', '0', '3', '2', '2', '4', '1', '1', '0', '1', '2', '1', '0', '3', '1', '2', '1', '0', '3', '2', '1', '0', '3', '0', '4', '0', '2', '2', '3', '0', '2', '2', '1', '2', '0', '0', '0', '2', '2', '4', '2', '1', '0', '2', '2', '1', '3', '0', '4', '0', '0', '1', '1', '4', '1', '0', '0', '2', '1', '0', '0', '4', '2', '2', '0', '1', '0', '0', '2', '1', '1', '1', '2', '1', '1', '3', '3', '2', '3', '2', '2', '0', '4', '1', '1', '4', '2', '3', '0', '2', '2', '3', '3', '0', '0', '2', '4', '1', '1', '0', '3', '1', '0', '3', '4', '2', '2', '1', '0', '3', '0', '4', '0', '2', '1', '1', '2', '4', '0', '0', '0', '0', '0', '4', '3', '2', '4', '0', '2', '0', '0', '0', '1', '2', '3', '4', '3', '0', '1', '2', '1', '4', '0', '1', '2', '1', '1', '2', '1', '2', '4', '4', '4', '0', '2', '2', '3', '2', '3', '4', '2', '0', '3', '2', '0', '0', '3', '3', '1', '2', '3', '0', '1', '0', '2', '4', '3', '2', '4', '4', '2', '3', '1', '0', '2', '1', '1', '0', '2', '4', '3', '3', '0', '2', '1', '2', '0', '2', '0', '1', '1', '2', '4', '0', '2', '3', '4', '2', '4', '1', '4', '1', '3', '3', '2', '2', '1', '0', '1', '1', '0', '2', '1', '4', '3', '3', '2', '3', '3', '4', '1', '2', '0', '1', '4', '0', '4', '2', '1', '3', '2', '1', '1', '2', '0', '3', '1', '2', '3', '2', '3', '1', '0', '2', '0', '0', '0', '3', '3', '4', '0', '4', '4', '1', '3', '0', '1', '0', '1', '1', '0', '1', '0', '2', '4', '2', '2', '0', '0', '3', '4', '3', '0', '0', '3', '0', '2', '0', '3', '1', '0', '2', '3', '0', '2', '1', '0', '1', '0', '1', '2', '0', '2', '2', '3', '1', '0', '0', '1', '2', '0', '1', '1', '1', '0', '2', '0', '4', '2', '1', '2', '0', '1', '4', '1', '1', '0', '2', '4', '0', '1', '3', '0', '0', '4', '0', '1', '2', '3', '3', '1', '0', '3', '2', '0', '4', '2', '0', '0', '2', '4', '3', '2', '0', '3', '3', '4', '2', '3', '0', '4', '3', '0', '1', '4', '1', '0', '0', '4', '1', '3', '3', '3', '2', '1', '0', '2', '0', '1', '3', '0', '2', '2', '0', '1', '0', '3', '1', '2', '4', '1', '0', '1', '4', '0', '0', '0', '1', '1', '1', '1', '3', '1', '0', '0', '1', '2', '2', '4', '1', '2', '1', '1', '3', '4', '2', '1', '3', '0', '0', '2', '3', '1', '0', '2', '1', '4', '0', '0', '3', '4', '1', '4', '4', '1', '0', '0', '0', '4', '0', '4', '0', '1', '2', '2', '2', '2', '1', '0', '3', '3', '0', '3', '2', '0', '2', '3', '2', '2', '1', '2', '3', '0', '2', '0', '3', '1', '1', '0', '4', '1', '2', '3', '3', '1', '0', '2', '4', '1', '0', '0', '1', '3', '0', '1', '2', '0', '1', '1', '2', '1', '0', '1', '1', '0', '3', '0', '3', '4', '1', '2', '0', '1', '0', '1', '2', '2', '0', '0', '2', '1', '2', '0', '2', '1', '2', '2', '2', '4', '0', '1', '3', '1', '1', '1', '0', '3', '0', '3', '4', '1', '3', '2', '1', '0', '2', '3', '2', '1', '0', '0', '1', '3', '4', '4', '2', '0', '2', '3', '0', '0', '3', '1', '0', '2', '0', '0', '2', '0', '0', '0', '3', '1', '0', '0', '4', '1', '0', '1', '1', '0', '1', '4', '4', '2', '4', '3', '1', '3', '1', '3', '0', '3', '0', '0', '2', '1', '2', '4', '0', '2', '1', '1', '4', '2', '0', '2', '0', '0', '2', '2', '0', '2', '3', '3', '2', '4', '2', '1', '4', '0', '0', '3', '3', '2', '3', '1', '2', '2', '4', '1', '0', '3', '0', '3', '2', '3', '2', '0', '2', '0', '2', '0', '0', '1', '2', '0', '1', '1', '1', '1', '0', '1', '0', '1', '3', '1', '2', '3', '0', '3', '1', '2', '3', '0', '4', '0', '0', '2', '1', '1', '3', '0', '1', '0', '1', '0', '0', '0', '0', '3', '3', '3', '0', '0', '3', '4', '4', '1', '0', '1', '2', '1', '1', '1', '3', '4', '4', '1', '2', '0', '2', '1', '2', '1', '3', '2', '4', '0', '0', '3', '0', '3', '0', '4', '1', '1', '4', '1', '1', '1', '1', '1', '0', '0', '2', '3', '1', '1', '1', '1', '4', '0', '1', '3', '0', '2', '1', '2', '0', '2', '1', '3', '2', '1', '1', '0', '2', '2', '1', '2', '3', '0', '1', '1', '2', '0', '4', '1', '3', '0', '0', '3', '1', '3', '2', '0', '0', '2', '1', '4', '0', '1', '0', '0', '1', '2', '0', '2', '1', '1', '3', '4', '3', '0', '1', '1', '4', '1', '0', '3', '4', '1', '0', '4', '2', '0', '3', '0', '1', '0', '2', '0', '2', '2', '3', '3', '2', '3', '2', '1', '3', '1', '0', '2', '1', '1', '2', '4', '3', '2', '2', '0', '2', '1', '3', '2', '4', '1', '3', '3', '2', '1', '0', '1', '2', '4', '3', '0', '0', '4', '3', '3', '0', '2', '0', '1', '0', '1', '3', '3', '1', '0', '0', '2', '2', '1', '3', '2', '0', '3', '4', '3', '1', '4', '1', '1', '2', '2', '0', '2', '1', '2', '0', '0', '2', '4', '4', '2', '2', '3', '0', '2', '1', '4', '4', '0', '3', '2', '1', '0', '2', '2', '4', '4', '0', '3', '2', '2', '4', '0', '0', '2', '2', '1', '3', '2', '1', '1', '3', '2', '2', '3', '1', '2', '4', '4', '3', '1', '3', '3', '0', '1', '3', '1', '1', '0', '3', '3', '2', '2', '0', '3', '0', '0', '4', '0', '3', '3', '4', '0', '3', '0', '0', '0', '0', '0', '0', '2', '1', '2', '3', '1', '1', '4', '3', '2', '1', '1', '1', '2', '4', '0', '2', '2', '0', '0', '4', '0', '0', '1', '2', '1', '1', '0', '1', '0', '4', '0', '4', '3', '1', '3', '1', '4', '1', '2', '1', '3', '1', '0', '3', '0', '0', '4', '1', '1', '0', '2', '4', '2', '1', '3', '1', '3', '0', '0', '4', '1', '2', '2', '1', '1', '1', '0', '0', '1', '2', '0', '3', '0', '2', '1', '3', '0', '3', '2', '1', '1', '1', '4', '0', '2', '4', '3', '0', '1', '0', '4', '2', '1', '0', '3', '1', '1', '1', '3', '2', '0', '3', '4', '2', '0', '0', '2', '4', '3', '3', '2', '0', '1', '0', '2', '2', '0', '3', '2', '1', '2', '3', '1', '0', '1', '0', '1', '2', '2', '2', '2', '1', '0', '1', '4', '1', '4', '4', '1', '0', '1', '4', '0', '0', '3', '2', '1', '1', '1', '2', '0', '4', '4', '0', '0', '3', '3', '2', '0', '3', '2', '4', '1', '0', '0', '0', '4', '1', '1', '1', '4', '4', '1', '1', '3', '1', '2', '4', '3', '2', '3', '3', '2', '0', '0', '0', '3', '0', '1', '1', '2', '4', '1', '1', '3', '3', '4', '2', '4', '1', '4', '0', '2', '1', '2', '1', '2', '4', '1', '4', '0', '2', '4', '2', '0', '0', '2', '2', '4', '1', '0', '1', '2', '0', '0', '1', '1', '1', '4', '1', '3', '3', '0', '3', '1', '2', '1', '3', '0', '2', '0', '3', '2', '3', '1', '3', '2', '0', '2', '2', '2', '0', '1', '1', '0', '2', '0', '2', '2', '4', '3', '0', '1', '0', '4', '2', '1', '1', '0', '2', '2', '1', '2', '1', '0', '3', '2', '3', '2', '2', '0', '0', '0', '0', '4', '0', '3', '2', '1', '2', '2', '4', '3', '2', '0', '4', '0', '0', '0', '0', '4', '2', '0', '2', '0', '0', '4', '0', '3', '2', '3', '0', '3', '0', '1', '1', '4', '2', '3', '0', '2', '4', '1', '3', '1', '0', '2', '1', '4', '2', '4', '1', '3', '1', '3', '4', '4', '2', '1', '2', '2', '0', '1', '2', '0', '3', '1', '2', '1', '2', '0', '3', '1', '2', '4', '3', '3', '1', '4', '1', '1', '0', '1', '4', '0', '3', '1', '4', '4', '3', '1', '3', '1', '3', '2', '3', '0', '0', '1', '3', '1', '2', '2', '4', '2', '3', '0', '1', '0', '0', '2', '2', '1', '3', '2', '4', '1', '1', '2', '1', '0', '3', '3', '0', '3', '1', '2', '3', '3', '3', '1', '2', '1', '2', '4', '1', '3', '1', '1', '3', '3', '1', '1', '4', '3', '2', '2', '3', '1', '1', '2', '1', '0', '1', '2', '2', '0', '4', '4', '0', '0', '0', '1', '3', '0', '1', '2', '3', '0', '0', '0', '4', '1', '3', '2', '4', '0', '2', '1', '2', '0', '3', '2', '2', '1', '2', '0', '0', '0', '2', '3', '3', '2', '0', '0', '0', '2', '0', '1', '0', '0', '0', '2', '3', '3', '1', '2', '2', '1', '1', '2', '2', '1', '3', '2', '0', '0', '4', '0', '0', '3', '2', '0', '0', '0', '0', '0', '2', '0', '3', '1', '2', '2', '0', '0', '1', '0', '0', '4', '0', '1', '1', '0', '2', '0', '2', '2', '4', '0', '0', '4', '4', '2', '2', '2', '0', '3', '3', '2', '3', '2', '2', '1', '1', '0', '0', '3', '1', '3', '0', '3', '0', '3', '3', '2', '1', '0', '1', '1', '0', '0', '0', '2', '1', '1', '4', '3', '3', '1', '3', '0', '2', '2', '1', '1', '1', '4', '2', '0', '3', '0', '0', '3', '0', '1', '4', '4', '4', '1', '3', '2', '2', '3', '4', '3', '2', '3', '3', '0', '2', '3', '0', '3', '2', '1', '0', '1', '0', '2', '4', '0', '2', '3', '0', '0', '4', '4', '1', '3', '2', '1', '2', '3', '3', '3', '1', '1', '0', '4', '1', '3', '2', '1', '0', '3', '1', '0', '1', '0', '4', '3', '0', '3', '3', '0', '1', '1', '0', '1', '0', '1', '2', '3', '1', '2', '2', '2', '1', '4', '3', '4', '3', '0', '2', '1', '1', '0', '3', '2', '4', '4', '0', '2', '4', '2', '1', '4', '0', '3', '1', '2', '1', '1', '3', '3', '2', '3', '0', '1', '0', '1', '4', '1', '0', '3', '1', '0', '1', '1', '1', '1', '4', '1', '3', '1', '0', '4', '4', '0', '2', '4', '4', '0', '2', '1', '2', '2', '3', '4', '2', '0', '3', '2', '0', '0', '2', '1', '0', '1', '0', '3', '1', '1', '1', '0', '0', '2', '1', '2', '3', '3', '1', '0', '3', '0', '2', '1', '2', '0', '2', '2', '1', '0', '1', '0', '0', '0', '3', '1', '4', '0', '2', '0', '0', '0', '0', '1', '1', '1', '4', '0', '1', '3', '2', '3', '1', '2', '2', '1', '4', '0', '3', '2', '1', '3', '3', '0', '2', '1', '4', '1', '1', '0', '3', '2', '2', '2', '2', '3', '1', '0', '4', '2', '2', '1', '4', '1', '1', '2', '0', '0', '1', '3', '1', '0', '3', '1', '2', '1', '0', '1', '2', '4', '1', '0', '3', '2', '1', '2', '0', '0', '2', '3', '0', '1', '0', '3', '4', '1', '3', '2', '1', '0', '1', '4', '1', '1', '0', '0', '1', '0', '2', '0', '3', '0', '1', '2', '2', '4', '0', '4', '3', '3', '3', '0', '0', '3', '2', '2', '0', '0', '3', '1', '3', '2', '1', '0', '0', '3', '4', '4', '1', '2', '0', '0', '3', '0', '3', '2', '3', '0', '3', '0', '2', '1', '0', '0', '3', '3', '3', '0', '1', '0', '0', '4', '1', '3', '4', '4', '0', '4', '3', '2', '1', '3', '1', '3', '0', '2', '4', '1', '1', '3', '3', '3', '1', '1', '2', '0', '4', '1', '4', '4', '1', '3', '3', '1', '0', '3', '3', '3', '2', '0', '2', '0', '0', '2', '0', '1', '0', '1', '2', '0', '1', '2', '2', '4', '0', '1', '0', '4', '1', '0', '2', '4', '3', '1', '0', '1', '0', '4', '0', '3', '3', '0', '2', '2', '2', '0', '1', '2', '2', '0', '1', '2', '3', '3', '0', '0', '1', '1', '0', '3', '1', '1', '3', '3', '3', '3', '3', '1', '0', '1', '0', '0', '4', '0', '4', '3', '4', '3', '1', '2', '3', '0', '0', '0', '2', '4', '3', '4', '3', '1', '4', '0', '2', '2', '2', '0', '1', '2', '1', '2', '4', '1', '0', '0', '0', '0', '2', '2', '3', '3', '0', '0', '2', '0', '1', '1', '2', '2', '3', '1', '4', '2', '1', '4', '1', '1', '3', '0', '3', '2', '1', '3', '3', '3', '0', '0', '1', '4', '0', '0', '4', '0', '4', '3', '3', '3', '2', '2', '1', '0', '3', '1', '1', '0', '3', '1', '3', '1', '1', '1', '3', '4', '1', '1', '1', '4', '2', '3', '0', '3', '4', '2', '2', '1', '1', '0', '0', '1', '3', '3', '3', '3', '2', '0', '3', '4', '1', '4', '3', '4', '2', '3', '1', '1', '0', '3', '2', '2', '0', '4', '1', '0', '3', '4', '2', '3', '3', '0', '0', '0', '2', '3', '2', '1', '2', '1', '1', '1', '2', '0', '2', '3', '3', '0', '3', '2', '1', '3', '4', '4', '0', '3', '0', '1', '4', '3', '1', '1', '3', '2', '1', '0', '0', '0', '0', '1', '0', '3', '1', '0', '3', '3', '0', '3', '4', '4', '2', '2', '1', '4', '4', '2', '0', '4', '3', '1', '0', '4', '3', '1', '1', '0', '2', '4', '4', '0', '0', '4', '0', '2', '4', '0', '3', '3', '2', '4', '2', '4', '2', '0', '0', '2', '2', '1', '2', '0', '3', '2', '3', '0', '3', '4', '1', '3', '1', '1', '0', '2', '0', '3', '2', '3', '3', '3', '2', '0', '3', '2', '1', '1', '0', '1', '2', '3', '3', '2', '3', '0', '3', '3', '4', '2', '4', '2', '0', '2', '2', '0', '2', '3', '2', '4', '2', '3', '2', '0', '2', '2', '2', '0', '1', '0', '0', '2', '4', '3', '0', '0', '3', '3', '1', '3', '1', '2', '0', '2', '2', '1', '3', '1', '0', '1', '2', '1', '4', '1', '1', '4', '4', '1', '2', '3', '3', '2', '0', '1', '2', '3', '0', '0', '0', '1', '1', '1', '3', '1', '2', '1', '2', '2', '3', '3', '0', '3', '1', '0', '3', '4', '4', '1', '4', '0', '2', '2', '3', '3', '3', '3', '4', '1', '2', '1', '2', '2', '0', '2', '1', '4', '0', '2', '1', '2', '2', '2', '0', '3', '1', '1', '0', '4', '2', '2', '1', '2', '3', '0', '3', '0', '1', '1', '4', '0', '2', '3', '1', '2', '4', '2', '1', '0', '0', '2', '0', '3', '2', '0', '3', '2', '0', '1', '2', '2', '1', '1', '2', '3', '0', '1', '3', '2', '0', '2', '0', '2', '1', '0', '0', '3', '0', '1', '0', '0', '1', '3', '0', '1', '3', '2', '1', '4', '3', '4', '1', '1', '0', '4', '4', '0', '3', '1', '3', '4', '3', '1', '1', '1', '2', '3', '0', '3', '4', '0', '2', '0', '3', '0', '4', '1', '2', '1', '1', '1', '3', '1', '3', '4', '0', '1', '2', '0', '1', '2', '4', '1', '2', '2', '1', '2', '1', '0', '1', '0', '2', '1', '0', '2', '3', '2', '1', '1', '3', '2', '3', '0', '0', '4', '1', '3', '2', '3', '1', '2', '4', '1', '0', '0', '1', '3', '2', '4', '4', '3', '2', '2', '2', '0', '3', '1', '4', '1', '0', '1', '2', '3', '2', '3', '1', '0', '3', '0', '3', '2', '1', '1', '0', '1', '3', '0', '1', '3', '0', '2', '1', '1', '1', '3', '1', '3', '0', '1', '3', '2', '2', '2', '2', '0', '3', '1', '2', '1', '3', '3', '2', '1', '2', '3', '2', '4', '1', '2', '0', '2', '1', '4', '0', '1', '4', '1', '0', '2', '0', '2', '0', '2', '0', '0', '0', '0', '3', '2', '1', '1', '2', '0', '4', '1', '3', '4', '1', '2', '0', '2', '0', '1', '1', '3', '1', '1', '0', '1', '3', '4', '2', '4', '3', '1', '3', '2', '0', '2', '1', '3', '2', '3', '0', '0', '4', '2', '2', '3', '1', '1', '2', '2', '4', '0', '1', '3', '2', '1', '4', '0', '3', '3', '2', '3', '2', '1', '2', '2', '2', '1', '3', '2', '2', '0', '2', '3', '2', '0', '3', '4', '0', '4', '1', '2', '1', '2', '2', '2', '2', '3', '0', '0', '0', '3', '3', '0', '0', '0', '3', '0', '0', '2', '4', '3', '1', '4', '4', '1', '4', '2', '3', '0', '0', '3', '2', '2', '0', '4', '1', '0', '3', '1', '0', '0', '0', '0', '3', '0', '4', '3', '0', '1', '1', '0', '1', '0', '2', '0', '3', '2', '0', '2', '1', '2', '2', '2', '0', '1', '0', '3', '0', '0', '0', '2', '3', '2', '4', '1', '2', '0', '4', '3', '1', '3', '2', '0', '1', '4', '4', '0', '0', '4', '2', '1', '1', '1', '2', '1', '1', '4', '2', '4', '3', '3', '1', '1', '2', '3', '4', '1', '2', '0', '0', '3', '2', '2', '1', '0', '3', '3', '1', '0', '0', '2', '4', '2', '0', '0', '2', '2', '0', '2', '0', '2', '3', '2', '3', '3', '3', '4', '4', '2', '3', '0', '0', '1', '0', '0', '1', '1', '0', '1', '3', '1', '2', '0', '4', '0', '0', '2', '0', '0', '1', '0', '1', '4', '4', '1', '1', '4', '3', '4', '1', '1', '1', '1', '2', '0', '1', '0', '0', '3', '3', '2', '3', '3', '0', '2', '4', '4', '1', '3', '1', '1', '1', '4', '2', '1', '2', '1', '1', '4', '2', '2', '2', '3', '3', '1', '0', '4', '2', '2', '1', '1', '1', '1', '3', '1', '3', '4', '0', '0', '1', '1', '0', '1', '1', '2', '0', '2', '1', '0', '4', '2', '1', '1', '2', '1', '3', '1', '2', '2', '0', '0', '1', '4', '2', '0', '4', '3', '2', '1', '1', '0', '0', '3', '4', '4', '2', '1', '3', '3', '1', '3', '2', '4', '2', '1', '0', '1', '4', '4', '3', '3', '2', '0', '1', '0', '2', '0', '1', '1', '3', '1', '0', '1', '0', '1', '3', '0', '3', '0', '2', '3', '3', '1', '1', '0', '0', '3', '0', '1', '1', '1', '0', '3', '0', '3', '1', '0', '3', '4', '0', '0', '1', '1', '2', '1', '1', '1', '0', '3', '1', '1', '3', '0', '4', '0', '0', '0', '1', '3', '2', '4', '2', '1', '0', '1', '2', '1', '4', '3', '3', '1', '1', '2', '0', '0', '0', '2', '1', '0', '0', '1', '2', '4', '1', '3', '3', '3', '3', '3', '2', '1', '1', '0', '1', '1', '2', '1', '3', '0', '4', '1', '2', '3', '1', '2', '4', '3', '0', '1', '1', '0', '1', '0', '2', '1', '0', '0', '0', '0', '3', '4', '0', '3', '3', '4', '3', '0', '3', '2', '2', '1', '3', '0', '0', '1', '2', '1', '2', '0', '3', '1', '1', '3', '3', '0', '1', '1', '3', '0', '0', '3', '3', '1', '0', '4', '4', '1', '3', '1', '3', '0', '1', '3', '4', '0', '0', '0', '3', '3', '2', '2', '1', '0', '2', '2', '4', '2', '0', '2', '0', '1', '0', '4', '1', '2', '2', '4', '1', '4', '2', '4', '3', '2', '0', '2', '3', '1', '0', '3', '1', '1', '3', '0', '0', '0', '2', '1', '3', '2', '0', '1', '0', '2', '1', '2', '3', '0', '0', '3', '4', '2', '1', '2', '1', '3', '1', '0', '1', '1', '1', '4', '4', '0', '0', '1', '2', '3', '1', '3', '2', '2', '4', '2', '0', '2', '3', '1', '1', '0', '2', '0', '4', '1', '3', '3', '2', '1', '3', '1', '1', '2', '1', '0', '1', '1', '3', '1', '3', '3', '3', '2', '0', '3', '3', '1', '1', '3', '1', '0', '0', '4', '0', '2', '1', '3', '2', '2', '0', '0', '4', '0', '0', '3', '3', '4', '3', '3', '3', '2', '2', '2', '2', '0', '0', '1', '3', '2', '1', '1', '1', '2', '1', '0', '1', '1', '2', '4', '3', '0', '1', '1', '0', '4', '3', '1', '4', '2', '1', '2', '1', '3', '4', '2', '0', '1', '0', '3', '3', '2', '0', '2', '1', '1', '3', '3', '2', '0', '0', '0', '0', '1', '1', '2', '0', '0', '2', '1', '1', '3', '2', '0', '2', '0', '3', '3', '3', '1', '1', '1', '0', '0', '2', '1', '3', '3', '4', '1', '4', '2', '1', '0', '2', '0', '3', '0', '0', '2', '0', '2', '0', '3', '0', '4', '0', '3', '0', '0', '4', '0', '3', '3', '2', '2', '0', '2', '3', '0', '3', '2', '1', '0', '1', '2', '3', '3', '3', '3', '1', '4', '1', '1', '2', '2', '3', '2', '2', '0', '0', '3', '1', '2', '0', '1', '4', '1', '0', '2', '1', '3', '0', '0', '4', '3', '4', '1', '1', '3', '0', '2', '2', '3', '1', '4', '3', '2', '0', '4', '1', '1', '0', '4', '0', '1', '3', '0', '2', '4', '2', '1', '0', '3', '3', '0', '2', '3', '1', '1', '1', '3', '2', '2', '3', '3', '0', '1', '4', '1', '1', '1', '2', '2', '3', '1', '2', '3', '1', '2', '0', '4', '1', '2', '4', '0', '3', '0', '0', '2', '1', '1', '0', '2', '0', '0', '3', '2', '0', '1', '2', '3', '4', '3', '0', '2', '0', '4', '0', '4', '1', '2', '1', '2', '3', '3', '0', '2', '1', '4', '4', '2', '2', '2', '1', '0', '4', '0', '0', '1', '3', '4', '2', '4', '0', '3', '3', '3', '1', '1', '4', '0', '0', '0', '1', '3', '4', '2', '3', '3', '0', '4', '2', '0', '0', '1', '2', '1', '1', '3', '4', '3', '2', '0', '2', '3', '4', '0', '0', '2', '0', '3', '4', '3', '2', '0', '4', '3', '0', '1', '3', '0', '3', '2', '4', '3', '1', '0', '3', '2', '3', '3', '0', '3', '0', '3', '2', '3', '4', '3', '1', '4', '3', '1', '4', '0', '1', '0', '4', '3', '1', '2', '1', '4', '2', '0', '1', '3', '2', '0', '0', '1', '0', '0', '2', '1', '0', '0', '2', '0', '0', '4', '2', '1', '2', '3', '1', '2', '4', '1', '2', '2', '0', '2', '1', '0', '0', '3', '0', '0', '1', '1', '1', '1', '3', '3', '3', '2', '4', '0', '4', '1', '0', '3', '2', '4', '1', '2', '1', '4', '1', '2', '2', '2', '4', '0', '1', '0', '4', '3', '1', '1', '0', '2', '3', '1', '4', '1', '3', '3', '1', '0', '2', '0', '1', '3', '0', '2', '0', '3', '1', '0', '2', '1', '4', '4', '0', '1', '3', '3', '4', '2', '1', '1', '4', '3', '2', '2', '4', '1', '1', '2', '0', '2', '3', '3', '2', '1', '0', '4', '3', '1', '3', '3', '0', '2', '3', '0', '0', '0', '1', '0', '0', '2', '0', '4', '0', '2', '4', '0', '2', '1', '3', '0', '4', '0', '0', '0', '2', '2', '4', '1', '1', '2', '3', '2', '0', '3', '2', '4', '3', '3', '1', '0', '0', '1', '4', '0', '3', '4', '1', '1', '0', '3', '2', '4', '2', '2', '1', '0', '0', '3', '3', '4', '0', '4', '2', '1', '4', '1', '0', '0', '4', '3', '4', '3', '0', '0', '3', '0', '1', '0', '2', '4', '0', '1', '4', '1', '0', '3', '0', '3', '2', '4', '2', '0', '1', '0', '4', '2', '0', '0', '1', '4', '3', '0', '3', '0', '2', '1', '0', '0', '4', '2', '0', '0', '1', '0', '4', '3', '0', '1', '2', '1', '3', '0', '0', '1', '0', '1', '0', '1', '3', '4', '4', '2', '0', '3', '2', '2', '1', '3', '1', '4', '1', '2', '2', '2', '1', '0', '4', '3', '1', '4', '0', '1', '3', '4', '0', '0', '3', '0', '0', '4', '0', '0', '4', '2', '1', '1', '2', '0', '0', '4', '4', '2', '0', '4', '0', '1', '1', '1', '1', '1', '1', '1', '1', '1', '1', '3', '2', '2', '3', '2', '2', '2', '3', '2', '1', '1', '4', '2', '3', '1', '1', '3', '3', '2', '3', '1', '2', '1', '0', '0', '3', '0', '3', '2', '2', '1', '4', '2', '4', '2', '2', '0', '1', '2', '2', '0', '3', '1', '3', '3', '0', '4', '3', '2', '1', '1', '0', '4', '3', '0', '3', '2', '2', '0', '1', '0', '0', '4', '1', '4', '1', '0', '0', '0', '2', '0', '2', '4', '2', '0', '2', '4', '0', '1', '1', '1', '2', '0', '1', '3', '0', '0', '0', '0', '2', '3', '0', '0', '0', '1', '1', '4', '2', '2', '3', '0', '0', '2', '1', '2', '4', '4', '2', '0', '2', '0', '2', '1', '1', '3', '0', '1', '3', '4', '1', '4', '1', '1', '0', '1', '3', '1', '0', '0', '1', '3', '3', '3', '0', '3', '2', '2', '3', '2', '1', '0', '3', '2', '2', '2', '3', '3', '0', '2', '0', '2', '2', '2', '3', '2', '3', '4', '0', '3', '0', '0', '1', '0', '2', '1', '4', '0', '3', '1', '3', '0', '0', '3', '1', '1', '0', '4', '4', '3', '0', '0', '4', '3', '1', '1', '1', '0', '3', '3', '3', '3', '1', '2', '3', '2', '3', '3', '1', '2', '0', '2', '1', '0', '0', '0', '0', '4', '1', '3', '3', '2', '4', '4', '4', '2', '4', '0', '0', '3', '2', '2', '1', '2', '3', '3', '0', '0', '4', '3', '4', '3', '1', '0', '1', '0', '4', '3', '1', '2', '3', '1', '4', '0', '2', '1', '1', '1', '1', '4', '1', '0', '4', '3', '0', '4', '0', '3', '0', '2', '0', '2', '0', '2', '4', '3', '0', '0', '0', '1', '1', '2', '3', '2', '2', '0', '3', '1', '1', '4', '3', '0', '3', '0', '3', '2', '3', '3', '2', '0', '1', '0', '3', '2', '1', '2', '0', '1', '2', '1', '3', '0', '2', '0', '4', '3', '2', '1', '2', '2', '0', '2', '2', '2', '4', '3', '1', '0', '4', '4', '0', '1', '3', '3', '2', '1', '4', '4', '3', '3', '2', '2', '4', '3', '0', '3', '2', '3', '2', '2', '2', '0', '2', '1', '1', '4', '4', '2', '3', '4', '0', '3', '0', '1', '1', '3', '3', '4', '0', '0', '2', '0', '1', '0', '1', '2', '1', '2', '0', '3', '1', '2', '0', '2', '1', '3', '1', '0', '3', '3', '0', '2', '0', '2', '3', '0', '2', '0', '0', '1', '0', '0', '3', '2', '4', '4', '0', '3', '1', '0', '2', '1', '4', '0', '1', '3', '1', '3', '3', '3', '1', '2', '4', '1', '2', '0', '1', '4', '1', '4', '0', '1', '1', '0', '3', '2', '4', '0', '3', '4', '1', '2', '2', '2', '2', '2', '1', '3', '3', '0', '2', '2', '0', '1', '3', '4', '2', '4', '2', '3', '2', '1', '3', '1', '2', '2', '0', '2', '3', '4', '2', '1', '1', '3', '3', '2', '2', '0', '2', '2', '1', '2', '0', '4', '0', '2', '3', '1', '2', '2', '2', '0', '1', '1', '1', '0', '2', '1', '0', '3', '3', '4', '0', '1', '3', '0', '1', '3', '2', '4', '3', '2', '3', '4', '4', '1', '1', '1', '2', '1', '1', '4', '3', '1', '1', '0', '1', '4', '3', '0', '3', '4', '4', '4', '2', '2', '3', '4', '2', '2', '0', '0', '3', '2', '3', '1', '2', '1', '1', '0', '0', '1', '0', '0', '0', '0', '0', '0', '0', '1', '4', '3', '2', '0', '0', '0', '0', '2', '2', '1', '3', '2', '4', '0', '2', '0', '3', '4', '3', '3', '4', '0', '4', '1', '1', '2', '0', '0', '4', '1', '1', '3', '3', '2', '2', '0', '4', '4', '1', '0', '2', '2', '2', '2', '4', '3', '4', '1', '4', '0', '4', '0', '2', '0', '3', '2', '0', '2', '1', '2', '2', '3', '0', '0', '1', '0', '2', '2', '0', '3', '3', '3', '3', '3', '0', '1', '2', '1', '1', '0', '2', '3', '2', '1', '3', '2', '1', '1', '1', '0', '4', '0', '1', '2', '1', '3', '2', '1', '3', '1', '0', '0', '1', '4', '3', '2', '4', '2', '3', '2', '0', '2', '1', '1', '3', '1', '0', '0', '1', '1', '3', '3', '2', '4', '1', '0', '4', '3', '1', '1', '1', '0', '0', '0', '1', '2', '2', '0', '0', '0', '3', '3', '2', '3', '1', '1', '2', '3', '0', '3', '0', '3', '0', '1', '2', '0', '1', '3', '0', '1', '3', '1', '3', '0', '0', '3', '3', '3', '0', '1', '3', '1', '4', '2', '0', '1', '2', '1', '2', '4', '1', '1', '0', '2', '0', '4', '1', '0', '1', '1', '1', '1', '1', '0', '2', '2', '1', '0', '3', '1', '1', '0', '4', '0', '2', '0', '3', '0', '4', '2', '3', '2', '0', '0', '1', '0', '0', '1', '1', '0', '4', '0', '0', '1', '2', '1', '0', '1', '2', '1', '4', '3', '4', '2', '1', '1', '1', '4', '2', '0', '0', '0', '1', '2', '1', '2', '2', '4', '2', '1', '1', '2', '1', '1', '4', '0', '4', '3', '4', '4', '4', '1', '3', '3', '0', '0', '0', '0', '0', '1', '1', '2', '2', '3', '2', '0', '1', '1', '1', '0', '4', '2', '2', '1', '3', '0', '4', '4', '3', '1', '1', '2', '1', '4', '2', '0', '2', '2', '4', '1', '0', '0', '0', '3', '1', '0', '2', '4', '0', '4', '1', '2', '3', '1', '1', '2', '4', '1', '0', '1', '2', '0', '3', '2', '3', '3', '0', '0', '2', '3', '3', '0', '3', '1', '4', '4', '0', '1', '1', '2', '2', '2', '1', '1', '4', '0', '3', '2', '1', '1', '3', '1', '3', '2', '0', '0', '2', '2', '0', '0', '2', '0', '1', '1', '1', '0', '1', '3', '2', '1', '3', '3', '1', '2', '4', '2', '4', '3', '3', '3', '0', '0', '3', '4', '2', '3', '2', '2', '4', '3', '3', '0', '4', '0', '0', '0', '4', '0', '4', '0', '0', '3', '2', '0', '2', '0', '1', '3', '2', '0', '1', '1', '0', '1', '3', '3', '0', '2', '3', '2', '2', '0', '0', '0', '4', '2', '2', '4', '1', '2', '4', '2', '3', '1', '2', '2', '2', '2', '4', '3', '3', '3', '1', '1', '3', '0', '4', '2', '0', '0', '2', '2', '2', '0', '3', '1', '3', '3', '3', '0', '0', '4', '4', '2', '2', '3', '3', '0', '2', '1', '1', '1', '1', '3', '0', '2', '1', '2', '1', '2', '4', '3', '4', '1', '4', '3', '1', '3', '3', '1', '2', '3', '3', '3', '0', '4', '2', '1', '3', '2', '4', '2', '1', '3', '2', '4', '1', '3', '0', '2', '4', '2', '1', '4', '0', '1', '2', '4', '3', '2', '2', '1', '2', '2', '2', '1', '1', '4', '2', '4', '1', '2', '0', '1', '2', '0', '3', '1', '1', '2', '0', '3', '0', '3', '0', '0', '3', '3', '0', '1', '0', '0', '0', '0', '2', '4', '2', '1', '4', '2', '2', '0', '1', '2', '1', '0', '2', '2', '3', '2', '3', '0', '3', '4', '4', '0', '4', '2', '1', '0', '1', '0', '3', '2', '1', '4', '0', '3', '1', '0', '4', '0', '1', '2', '0', '3', '1', '1', '1', '3', '3', '1', '2', '0', '2', '1', '3', '0', '1', '2', '0', '3', '3', '1', '0', '1', '1', '1', '2', '3', '1', '2', '4', '1', '2', '0', '1', '0', '0', '1', '0', '2', '4', '1', '2', '3', '4', '4', '4', '1', '2', '1', '1', '3', '3', '3', '0', '3', '1', '0', '1', '0', '2', '1', '4', '2', '2', '1', '4', '1', '0', '0', '0', '0', '1', '1', '3', '4', '4', '0', '0', '3', '0', '0', '1', '0', '3', '2', '0', '3', '1', '2', '2', '2', '3', '0', '1', '0', '2', '2', '4', '1', '0', '0', '1', '1', '3', '0', '2', '1', '3', '4', '2', '2', '2', '1', '2', '2', '0', '4', '3', '1', '3', '3', '3', '0', '2', '3', '0', '0', '0', '1', '0', '0', '0', '3', '1', '0', '2', '2', '1', '1', '4', '0', '2', '4', '1', '4', '0', '0', '1', '1', '1', '3', '4', '3', '2', '2', '4', '0', '1', '1', '1', '2', '2', '2', '3', '1', '3', '0', '4', '2', '1', '3', '4', '2', '2', '4', '0', '2', '4', '4', '4', '1', '2', '0', '0', '0', '2', '4', '4', '1', '2', '2', '1', '0', '4', '3', '2', '0', '0', '3', '1', '1', '0', '3', '1', '3', '4', '4', '1', '0', '4', '0', '0', '0', '3', '4', '0', '4', '3', '3', '0', '2', '4', '3', '4', '4', '1', '2', '0', '0', '1', '3', '2', '0', '1', '2', '3', '1', '1', '1', '3', '4', '1', '4', '1', '1', '4', '2', '1', '1', '1', '4', '2', '0', '2', '4', '1', '0', '3', '3', '2', '0', '1', '3', '4', '1', '1', '3', '3', '0', '3', '2', '1', '2', '1', '2', '3', '4', '3', '1', '2', '1', '1', '0', '3', '2', '0', '4', '0', '0', '3', '3', '0', '1', '0', '0', '1', '4', '0', '4', '2', '3', '1', '3', '1', '4', '4', '2', '1', '2', '0', '3', '2', '4', '1', '4', '3', '3', '4', '4', '0', '4', '2', '2', '1', '0', '1', '1', '2', '4', '4', '3', '4', '1', '2', '2', '1', '2', '2', '2', '0', '0', '0', '2', '1', '2', '2', '3', '3', '2', '2', '3', '0', '0', '4', '3', '4', '2', '1', '2', '0', '1', '1', '4', '4', '3', '2', '4', '0', '1', '3', '3', '3', '2', '1', '1', '2', '1', '0', '3', '2', '1', '3', '2', '2', '0', '0', '0', '3', '1', '3', '1', '0', '2', '3', '0', '0', '3', '2', '4', '0', '3', '3', '1', '2', '3', '2', '0', '1', '1', '3', '4', '0', '3', '2', '1', '2', '1', '1', '0', '2', '3', '0', '2', '4', '3', '4', '1', '4', '0', '0', '2', '0', '2', '1', '0', '2', '0', '3', '2', '2', '0', '2', '0', '1', '1', '2', '2', '0', '3', '0', '0', '4', '1', '1', '1', '3', '0', '4', '1', '0', '3', '3', '2', '2', '4', '1', '0', '1', '3', '3', '3', '1', '2', '0', '0', '4', '2', '3', '2', '0', '2', '3', '3', '3', '3', '0', '4', '4', '1', '0', '4', '1', '1', '2', '4', '0', '2', '0', '2', '1', '2', '3', '0', '0', '1', '1', '4', '3', '0', '3', '2', '0', '3', '3', '0', '1', '1', '3', '3', '2', '4', '1', '4', '2', '1', '3', '1', '4', '2', '3', '4', '2', '4', '2', '0', '2', '4', '1', '3', '4', '1', '1', '1', '2', '0', '3', '4', '0', '2', '1', '1', '0', '3', '0', '2', '4', '2', '1', '1', '4', '3', '3', '2', '0', '3', '2', '2', '0', '1', '2', '3', '1', '2', '0', '2', '3', '1', '2', '1', '0', '0', '4', '1', '3', '3', '3', '1', '1', '3', '2', '1', '1', '3', '3', '2', '3', '0', '4', '0', '0', '1', '0', '0', '0', '0', '3', '2', '0', '1', '0', '4', '2', '2', '1', '3', '3', '2', '0', '1', '4', '3', '4', '2', '2', '0', '4', '3', '4', '3', '4', '4', '1', '2', '4', '1', '2', '1', '1', '1', '0', '2', '0', '0', '1', '1', '2', '3', '0', '0', '3', '4', '3', '1', '1', '2', '1', '3', '2', '0', '0', '4', '0', '2', '3', '0', '4', '1', '2', '2', '1', '1', '3', '2', '3', '2', '1', '4', '1', '4', '3', '2', '0', '1', '4', '0', '0', '3', '4', '2', '2', '2', '0', '1', '2', '0', '1', '4', '1', '0', '1', '1', '0', '3', '2', '4', '2', '1', '2', '2', '2', '1', '0', '2', '2', '4', '0', '2', '2', '3', '2', '1', '2', '0', '1', '2', '3', '0', '4', '4', '2', '1', '1', '1', '0', '3', '4', '1', '1', '0', '3', '2', '2', '4', '0', '3', '0', '3', '3', '2', '0', '0', '1', '0', '2', '1', '2', '3', '2', '1', '4', '4', '2', '2', '4', '4', '2', '3', '2', '0', '0', '2', '1', '4', '3', '2', '2', '0', '3', '3', '2', '4', '3', '1', '0', '3', '2', '3', '0', '1', '3', '1', '3', '4', '0', '2', '0', '3', '2', '0', '0', '2', '1', '2', '2', '4', '4', '4', '1', '0', '3', '3', '4', '1', '3', '0', '4', '0', '3', '0', '1', '1', '0', '3', '1', '4', '2', '3', '1', '3', '1', '3', '0', '2', '0', '4', '1', '0', '4', '4', '1', '3', '4', '4', '2', '4', '1', '1', '1', '2', '1', '4', '3', '2', '4', '0', '3', '3', '4', '2', '4', '1', '0', '0', '1', '1', '3', '2', '2', '4', '1', '4', '3', '2', '1', '2', '1', '0', '3', '0', '0', '3', '4', '3', '2', '0', '4', '1', '3', '0', '3', '3', '4', '4', '2', '4', '0', '0', '1', '1', '0', '0', '1', '0', '0', '2', '1', '0', '0', '3', '2', '3', '4', '2', '3', '1', '3', '1', '0', '1', '3', '1', '1', '1', '1', '2', '1', '0', '0', '2', '3', '1', '1', '3', '2', '3', '1', '2', '4', '3', '3', '4', '4', '1', '4', '0', '1', '2', '0', '2', '4', '3', '1', '3', '1', '0', '0', '2', '1', '1', '3', '0', '1', '0', '3', '1', '2', '4', '1', '1', '1', '0', '0', '0', '3', '3', '1', '3', '1', '2', '0', '4', '3', '1', '0', '0', '1', '1', '1', '3', '1', '1', '0', '0', '4', '3', '3', '3', '0', '3', '1', '4', '2', '2', '1', '0', '0', '2', '1', '1', '3', '1', '3', '2', '2', '0']\n"
          ],
          "name": "stdout"
        }
      ]
    },
    {
      "cell_type": "code",
      "metadata": {
        "id": "71NddJSIexVG",
        "colab_type": "code",
        "colab": {}
      },
      "source": [
        "test6 = pd.DataFrame(list(zip(test['id'], Y_new6)), \n",
        "               columns = ['id', 'label'])\n",
        "test6\n",
        "test6.to_csv('test6.csv',index=False)"
      ],
      "execution_count": null,
      "outputs": []
    },
    {
      "cell_type": "markdown",
      "metadata": {
        "colab_type": "text",
        "id": "6pI4mcdx0MnV"
      },
      "source": [
        "## Using ktrain bert on own titles + reference titles"
      ]
    },
    {
      "cell_type": "code",
      "metadata": {
        "colab_type": "code",
        "id": "vyb5xwe60MnZ",
        "colab": {}
      },
      "source": [
        "all_df = train3[['merged','label']]\n",
        "\n",
        "train_set, val_set = train_test_split(all_df, test_size=0.2, random_state=245)"
      ],
      "execution_count": null,
      "outputs": []
    },
    {
      "cell_type": "code",
      "metadata": {
        "id": "BE_bXU2E0glr",
        "colab_type": "code",
        "colab": {
          "base_uri": "https://localhost:8080/",
          "height": 197
        },
        "outputId": "ab5c93fc-f03e-41ca-aa07-38b76a6618de"
      },
      "source": [
        "all_df.head()"
      ],
      "execution_count": null,
      "outputs": [
        {
          "output_type": "execute_result",
          "data": {
            "text/html": [
              "<div>\n",
              "<style scoped>\n",
              "    .dataframe tbody tr th:only-of-type {\n",
              "        vertical-align: middle;\n",
              "    }\n",
              "\n",
              "    .dataframe tbody tr th {\n",
              "        vertical-align: top;\n",
              "    }\n",
              "\n",
              "    .dataframe thead th {\n",
              "        text-align: right;\n",
              "    }\n",
              "</style>\n",
              "<table border=\"1\" class=\"dataframe\">\n",
              "  <thead>\n",
              "    <tr style=\"text-align: right;\">\n",
              "      <th></th>\n",
              "      <th>merged</th>\n",
              "      <th>label</th>\n",
              "    </tr>\n",
              "  </thead>\n",
              "  <tbody>\n",
              "    <tr>\n",
              "      <th>0</th>\n",
              "      <td>interactive visual exploration of neighbor bas...</td>\n",
              "      <td>1</td>\n",
              "    </tr>\n",
              "    <tr>\n",
              "      <th>1</th>\n",
              "      <td>relational division four algorithms and their ...</td>\n",
              "      <td>1</td>\n",
              "    </tr>\n",
              "    <tr>\n",
              "      <th>2</th>\n",
              "      <td>simplifying xml schema effortless handling of ...</td>\n",
              "      <td>1</td>\n",
              "    </tr>\n",
              "    <tr>\n",
              "      <th>3</th>\n",
              "      <td>funbase a function based information managemen...</td>\n",
              "      <td>0</td>\n",
              "    </tr>\n",
              "    <tr>\n",
              "      <th>4</th>\n",
              "      <td>inverted matrix efficient discovery of frequen...</td>\n",
              "      <td>0</td>\n",
              "    </tr>\n",
              "  </tbody>\n",
              "</table>\n",
              "</div>"
            ],
            "text/plain": [
              "                                              merged  label\n",
              "0  interactive visual exploration of neighbor bas...      1\n",
              "1  relational division four algorithms and their ...      1\n",
              "2  simplifying xml schema effortless handling of ...      1\n",
              "3  funbase a function based information managemen...      0\n",
              "4  inverted matrix efficient discovery of frequen...      0"
            ]
          },
          "metadata": {
            "tags": []
          },
          "execution_count": 54
        }
      ]
    },
    {
      "cell_type": "code",
      "metadata": {
        "colab_type": "code",
        "id": "K51nZWua0Mnl",
        "colab": {
          "base_uri": "https://localhost:8080/",
          "height": 117
        },
        "outputId": "b355f279-5fab-4b35-a0dc-4dd4e28f66de"
      },
      "source": [
        "(x_train,  y_train), (x_test, y_test), preproc = ktrain.text.texts_from_df(train_df=train_set,text_column='merged',label_columns=['label'],val_df=val_set,\n",
        "                          max_features=14000, maxlen=256, preprocess_mode='bert', random_state=1)"
      ],
      "execution_count": null,
      "outputs": [
        {
          "output_type": "stream",
          "text": [
            "preprocessing train...\n",
            "language: en\n"
          ],
          "name": "stdout"
        },
        {
          "output_type": "display_data",
          "data": {
            "text/html": [
              "done."
            ],
            "text/plain": [
              "<IPython.core.display.HTML object>"
            ]
          },
          "metadata": {
            "tags": []
          }
        },
        {
          "output_type": "stream",
          "text": [
            "preprocessing test...\n",
            "language: en\n"
          ],
          "name": "stdout"
        },
        {
          "output_type": "display_data",
          "data": {
            "text/html": [
              "done."
            ],
            "text/plain": [
              "<IPython.core.display.HTML object>"
            ]
          },
          "metadata": {
            "tags": []
          }
        }
      ]
    },
    {
      "cell_type": "markdown",
      "metadata": {
        "colab_type": "text",
        "id": "4YBn0P470Mob"
      },
      "source": [
        "### Batch size = 16"
      ]
    },
    {
      "cell_type": "code",
      "metadata": {
        "colab_type": "code",
        "id": "h6p0EAPz0Mod",
        "colab": {
          "base_uri": "https://localhost:8080/",
          "height": 67
        },
        "outputId": "1c2d0a9f-ae76-453e-ec02-c581f02d049f"
      },
      "source": [
        "# CHANGED BATCH SIZE TO 16 due to higher sequence length\n",
        "np.random.seed(5)\n",
        "random.seed(5)\n",
        "session_conf = tf.compat.v1.ConfigProto(intra_op_parallelism_threads=1,\n",
        "                              inter_op_parallelism_threads=1)\n",
        "tf.compat.v1.set_random_seed(5) \n",
        "\n",
        "model = ktrain.text.text_classifier('bert', train_data=(x_train, y_train), preproc=preproc)\n",
        "learner = ktrain.get_learner(model, train_data=(x_train, y_train), val_data=(x_test, y_test), batch_size=16)"
      ],
      "execution_count": null,
      "outputs": [
        {
          "output_type": "stream",
          "text": [
            "Is Multi-Label? False\n",
            "maxlen is 256\n",
            "done.\n"
          ],
          "name": "stdout"
        }
      ]
    },
    {
      "cell_type": "code",
      "metadata": {
        "colab_type": "code",
        "id": "eTRV6pp70Moi",
        "colab": {
          "base_uri": "https://localhost:8080/",
          "height": 433
        },
        "outputId": "de5fc5a9-50ad-4d6e-9bf5-30350b1480f4"
      },
      "source": [
        "learner.lr_find()             # briefly simulate training to find good learning rate\n",
        "learner.lr_plot() "
      ],
      "execution_count": null,
      "outputs": [
        {
          "output_type": "stream",
          "text": [
            "simulating training for different learning rates... this may take a few moments...\n",
            "Train on 10223 samples\n",
            "Epoch 1/1024\n",
            "10223/10223 [==============================] - 504s 49ms/sample - loss: 1.2505 - accuracy: 0.5018\n",
            "Epoch 2/1024\n",
            " 8144/10223 [======================>.......] - ETA: 1:37 - loss: 1.5101 - accuracy: 0.4280\n",
            "\n",
            "done.\n",
            "Please invoke the Learner.lr_plot() method to visually inspect the loss plot to help identify the maximal learning rate associated with falling loss.\n"
          ],
          "name": "stdout"
        },
        {
          "output_type": "display_data",
          "data": {
            "image/png": "[encoded data removed]",
            "text/plain": [
              "<Figure size 432x288 with 1 Axes>"
            ]
          },
          "metadata": {
            "tags": [],
            "needs_background": "light"
          }
        }
      ]
    },
    {
      "cell_type": "markdown",
      "metadata": {
        "colab_type": "text",
        "id": "lVzClKZb0Mov"
      },
      "source": [
        "#### Fitting a model with autofit"
      ]
    },
    {
      "cell_type": "code",
      "metadata": {
        "colab_type": "code",
        "id": "KA5wbcfr0Mow",
        "colab": {
          "base_uri": "https://localhost:8080/",
          "height": 467
        },
        "outputId": "81f4b007-2776-43e3-a8bd-b1189e32a08b"
      },
      "source": [
        "# also saves all the epochs in separate files. epoch=2 is the best. Saved to a local drive and made predictions here.\n",
        "learner.autofit(0.0001, reduce_on_plateau=2, checkpoint_folder='/content/gdrive/My Drive') "
      ],
      "execution_count": null,
      "outputs": [
        {
          "output_type": "stream",
          "text": [
            "early_stopping automatically enabled at patience=5\n",
            "\n",
            "\n",
            "begin training using triangular learning rate policy with max lr of 0.0001...\n",
            "Train on 10223 samples, validate on 2556 samples\n",
            "Epoch 1/1024\n",
            "10223/10223 [==============================] - 517s 51ms/sample - loss: 0.7290 - accuracy: 0.7340 - val_loss: 0.5115 - val_accuracy: 0.8118\n",
            "Epoch 2/1024\n",
            "10223/10223 [==============================] - 514s 50ms/sample - loss: 0.4448 - accuracy: 0.8458 - val_loss: 0.5103 - val_accuracy: 0.8149\n",
            "Epoch 3/1024\n",
            "10223/10223 [==============================] - 511s 50ms/sample - loss: 0.3552 - accuracy: 0.8772 - val_loss: 0.5431 - val_accuracy: 0.8005\n",
            "Epoch 4/1024\n",
            "10208/10223 [============================>.] - ETA: 0s - loss: 0.2968 - accuracy: 0.8973\n",
            "Epoch 00004: Reducing Max LR on Plateau: new max lr will be 5e-05 (if not early_stopping).\n",
            "10223/10223 [==============================] - 511s 50ms/sample - loss: 0.2965 - accuracy: 0.8974 - val_loss: 0.5471 - val_accuracy: 0.8130\n",
            "Epoch 5/1024\n",
            "10223/10223 [==============================] - 511s 50ms/sample - loss: 0.1813 - accuracy: 0.9378 - val_loss: 0.6101 - val_accuracy: 0.8169\n",
            "Epoch 6/1024\n",
            "10208/10223 [============================>.] - ETA: 0s - loss: 0.1133 - accuracy: 0.9642\n",
            "Epoch 00006: Reducing Max LR on Plateau: new max lr will be 2.5e-05 (if not early_stopping).\n",
            "10223/10223 [==============================] - 508s 50ms/sample - loss: 0.1133 - accuracy: 0.9642 - val_loss: 0.7181 - val_accuracy: 0.8016\n",
            "Epoch 7/1024\n",
            "10208/10223 [============================>.] - ETA: 0s - loss: 0.0554 - accuracy: 0.9832Restoring model weights from the end of the best epoch.\n",
            "10223/10223 [==============================] - 509s 50ms/sample - loss: 0.0567 - accuracy: 0.9831 - val_loss: 0.8652 - val_accuracy: 0.7989\n",
            "Epoch 00007: early stopping\n",
            "Weights from best epoch have been loaded into model.\n"
          ],
          "name": "stdout"
        },
        {
          "output_type": "execute_result",
          "data": {
            "text/plain": [
              "<tensorflow.python.keras.callbacks.History at 0x7f6418da1668>"
            ]
          },
          "metadata": {
            "tags": []
          },
          "execution_count": 62
        }
      ]
    },
    {
      "cell_type": "markdown",
      "metadata": {
        "colab_type": "text",
        "id": "3LJGDRfN0Mo0"
      },
      "source": [
        "#### Predict on a new data (for Kaggle)\n"
      ]
    },
    {
      "cell_type": "code",
      "metadata": {
        "colab_type": "code",
        "id": "5HUxTUbI0Mo1",
        "colab": {
          "base_uri": "https://localhost:8080/",
          "height": 197
        },
        "outputId": "c81fd99f-d074-4079-c275-4ff4cd8e6f59"
      },
      "source": [
        "test.head()"
      ],
      "execution_count": null,
      "outputs": [
        {
          "output_type": "execute_result",
          "data": {
            "text/html": [
              "<div>\n",
              "<style scoped>\n",
              "    .dataframe tbody tr th:only-of-type {\n",
              "        vertical-align: middle;\n",
              "    }\n",
              "\n",
              "    .dataframe tbody tr th {\n",
              "        vertical-align: top;\n",
              "    }\n",
              "\n",
              "    .dataframe thead th {\n",
              "        text-align: right;\n",
              "    }\n",
              "</style>\n",
              "<table border=\"1\" class=\"dataframe\">\n",
              "  <thead>\n",
              "    <tr style=\"text-align: right;\">\n",
              "      <th></th>\n",
              "      <th>id</th>\n",
              "      <th>title</th>\n",
              "    </tr>\n",
              "  </thead>\n",
              "  <tbody>\n",
              "    <tr>\n",
              "      <th>0</th>\n",
              "      <td>1</td>\n",
              "      <td>autodomainmine a graphical data mining system ...</td>\n",
              "    </tr>\n",
              "    <tr>\n",
              "      <th>1</th>\n",
              "      <td>2</td>\n",
              "      <td>anipqo almost non intrusive parametric query o...</td>\n",
              "    </tr>\n",
              "    <tr>\n",
              "      <th>2</th>\n",
              "      <td>4</td>\n",
              "      <td>selection and ranking of text from highly impe...</td>\n",
              "    </tr>\n",
              "    <tr>\n",
              "      <th>3</th>\n",
              "      <td>5</td>\n",
              "      <td>conditional random fields for multi agent rein...</td>\n",
              "    </tr>\n",
              "    <tr>\n",
              "      <th>4</th>\n",
              "      <td>7</td>\n",
              "      <td>multi dimensional description logics</td>\n",
              "    </tr>\n",
              "  </tbody>\n",
              "</table>\n",
              "</div>"
            ],
            "text/plain": [
              "   id                                              title\n",
              "0   1  autodomainmine a graphical data mining system ...\n",
              "1   2  anipqo almost non intrusive parametric query o...\n",
              "2   4  selection and ranking of text from highly impe...\n",
              "3   5  conditional random fields for multi agent rein...\n",
              "4   7               multi dimensional description logics"
            ]
          },
          "metadata": {
            "tags": []
          },
          "execution_count": 71
        }
      ]
    },
    {
      "cell_type": "code",
      "metadata": {
        "colab_type": "code",
        "id": "rZicUo3a0Mo4",
        "colab": {
          "base_uri": "https://localhost:8080/",
          "height": 67
        },
        "outputId": "87d9d739-6c07-41c3-fadb-ea27bb9856d8"
      },
      "source": [
        "test.iloc[34,:]\n"
      ],
      "execution_count": null,
      "outputs": [
        {
          "output_type": "execute_result",
          "data": {
            "text/plain": [
              "id                                                    63\n",
              "title    perception concepts and language road and ipage\n",
              "Name: 34, dtype: object"
            ]
          },
          "metadata": {
            "tags": []
          },
          "execution_count": 121
        }
      ]
    },
    {
      "cell_type": "code",
      "metadata": {
        "colab_type": "code",
        "id": "4FBze64I0Mo8",
        "colab": {
          "base_uri": "https://localhost:8080/",
          "height": 67
        },
        "outputId": "999f6b41-56fa-45f3-cf26-cb0c5925deba"
      },
      "source": [
        "test.iloc[43,:]"
      ],
      "execution_count": null,
      "outputs": [
        {
          "output_type": "execute_result",
          "data": {
            "text/plain": [
              "id                                                      76\n",
              "title    mace language support for building distributed...\n",
              "Name: 43, dtype: object"
            ]
          },
          "metadata": {
            "tags": []
          },
          "execution_count": 123
        }
      ]
    },
    {
      "cell_type": "code",
      "metadata": {
        "colab_type": "code",
        "id": "0K3a1Jkz0MpC",
        "colab": {
          "base_uri": "https://localhost:8080/",
          "height": 67
        },
        "outputId": "55907675-e0db-4b22-8484-b959ef42f709"
      },
      "source": [
        "test.iloc[116,:]"
      ],
      "execution_count": null,
      "outputs": [
        {
          "output_type": "execute_result",
          "data": {
            "text/plain": [
              "id                                                     242\n",
              "title    probabilistic combination of text classifiers ...\n",
              "Name: 116, dtype: object"
            ]
          },
          "metadata": {
            "tags": []
          },
          "execution_count": 125
        }
      ]
    },
    {
      "cell_type": "code",
      "metadata": {
        "colab_type": "code",
        "id": "NhJGhnR00MpH",
        "colab": {
          "base_uri": "https://localhost:8080/",
          "height": 647
        },
        "outputId": "6247451a-a96c-4fb8-bd5e-c1cb9e64802f"
      },
      "source": [
        "test.head(20)"
      ],
      "execution_count": null,
      "outputs": [
        {
          "output_type": "execute_result",
          "data": {
            "text/html": [
              "<div>\n",
              "<style scoped>\n",
              "    .dataframe tbody tr th:only-of-type {\n",
              "        vertical-align: middle;\n",
              "    }\n",
              "\n",
              "    .dataframe tbody tr th {\n",
              "        vertical-align: top;\n",
              "    }\n",
              "\n",
              "    .dataframe thead th {\n",
              "        text-align: right;\n",
              "    }\n",
              "</style>\n",
              "<table border=\"1\" class=\"dataframe\">\n",
              "  <thead>\n",
              "    <tr style=\"text-align: right;\">\n",
              "      <th></th>\n",
              "      <th>id</th>\n",
              "      <th>title</th>\n",
              "    </tr>\n",
              "  </thead>\n",
              "  <tbody>\n",
              "    <tr>\n",
              "      <th>0</th>\n",
              "      <td>1</td>\n",
              "      <td>autodomainmine a graphical data mining system ...</td>\n",
              "    </tr>\n",
              "    <tr>\n",
              "      <th>1</th>\n",
              "      <td>2</td>\n",
              "      <td>anipqo almost non intrusive parametric query o...</td>\n",
              "    </tr>\n",
              "    <tr>\n",
              "      <th>2</th>\n",
              "      <td>4</td>\n",
              "      <td>selection and ranking of text from highly impe...</td>\n",
              "    </tr>\n",
              "    <tr>\n",
              "      <th>3</th>\n",
              "      <td>5</td>\n",
              "      <td>conditional random fields for multi agent rein...</td>\n",
              "    </tr>\n",
              "    <tr>\n",
              "      <th>4</th>\n",
              "      <td>7</td>\n",
              "      <td>multi dimensional description logics</td>\n",
              "    </tr>\n",
              "    <tr>\n",
              "      <th>5</th>\n",
              "      <td>10</td>\n",
              "      <td>fast on line index construction by geometric p...</td>\n",
              "    </tr>\n",
              "    <tr>\n",
              "      <th>6</th>\n",
              "      <td>12</td>\n",
              "      <td>reasoning about rings</td>\n",
              "    </tr>\n",
              "    <tr>\n",
              "      <th>7</th>\n",
              "      <td>14</td>\n",
              "      <td>transductive regression piloted by inter manif...</td>\n",
              "    </tr>\n",
              "    <tr>\n",
              "      <th>8</th>\n",
              "      <td>15</td>\n",
              "      <td>a fast and usually linear algorithm for global...</td>\n",
              "    </tr>\n",
              "    <tr>\n",
              "      <th>9</th>\n",
              "      <td>16</td>\n",
              "      <td>conditional constraint satisfaction logical fo...</td>\n",
              "    </tr>\n",
              "    <tr>\n",
              "      <th>10</th>\n",
              "      <td>17</td>\n",
              "      <td>on the role of old information in generating r...</td>\n",
              "    </tr>\n",
              "    <tr>\n",
              "      <th>11</th>\n",
              "      <td>19</td>\n",
              "      <td>shrinkage estimator generalizations of proxima...</td>\n",
              "    </tr>\n",
              "    <tr>\n",
              "      <th>12</th>\n",
              "      <td>21</td>\n",
              "      <td>a multilingual paradigm for automatic verb cla...</td>\n",
              "    </tr>\n",
              "    <tr>\n",
              "      <th>13</th>\n",
              "      <td>22</td>\n",
              "      <td>approximate query answering in locally closed ...</td>\n",
              "    </tr>\n",
              "    <tr>\n",
              "      <th>14</th>\n",
              "      <td>23</td>\n",
              "      <td>constraints on strong generative power</td>\n",
              "    </tr>\n",
              "    <tr>\n",
              "      <th>15</th>\n",
              "      <td>25</td>\n",
              "      <td>mining correlated bursty topic patterns from c...</td>\n",
              "    </tr>\n",
              "    <tr>\n",
              "      <th>16</th>\n",
              "      <td>26</td>\n",
              "      <td>learning markov logic network structure via hy...</td>\n",
              "    </tr>\n",
              "    <tr>\n",
              "      <th>17</th>\n",
              "      <td>27</td>\n",
              "      <td>compact convex upper bound iteration for appro...</td>\n",
              "    </tr>\n",
              "    <tr>\n",
              "      <th>18</th>\n",
              "      <td>28</td>\n",
              "      <td>free ordered cug on chemical abstract machine</td>\n",
              "    </tr>\n",
              "    <tr>\n",
              "      <th>19</th>\n",
              "      <td>29</td>\n",
              "      <td>controlling interference in ambients</td>\n",
              "    </tr>\n",
              "  </tbody>\n",
              "</table>\n",
              "</div>"
            ],
            "text/plain": [
              "    id                                              title\n",
              "0    1  autodomainmine a graphical data mining system ...\n",
              "1    2  anipqo almost non intrusive parametric query o...\n",
              "2    4  selection and ranking of text from highly impe...\n",
              "3    5  conditional random fields for multi agent rein...\n",
              "4    7               multi dimensional description logics\n",
              "5   10  fast on line index construction by geometric p...\n",
              "6   12                              reasoning about rings\n",
              "7   14  transductive regression piloted by inter manif...\n",
              "8   15  a fast and usually linear algorithm for global...\n",
              "9   16  conditional constraint satisfaction logical fo...\n",
              "10  17  on the role of old information in generating r...\n",
              "11  19  shrinkage estimator generalizations of proxima...\n",
              "12  21  a multilingual paradigm for automatic verb cla...\n",
              "13  22  approximate query answering in locally closed ...\n",
              "14  23             constraints on strong generative power\n",
              "15  25  mining correlated bursty topic patterns from c...\n",
              "16  26  learning markov logic network structure via hy...\n",
              "17  27  compact convex upper bound iteration for appro...\n",
              "18  28      free ordered cug on chemical abstract machine\n",
              "19  29               controlling interference in ambients"
            ]
          },
          "metadata": {
            "tags": []
          },
          "execution_count": 124
        }
      ]
    },
    {
      "cell_type": "code",
      "metadata": {
        "colab_type": "code",
        "id": "rD7NNDrn0MpO",
        "colab": {}
      },
      "source": [
        "# to predict on a new data\n",
        "predictor = ktrain.get_predictor(learner.model, preproc)"
      ],
      "execution_count": null,
      "outputs": []
    },
    {
      "cell_type": "code",
      "metadata": {
        "colab_type": "code",
        "id": "wRHiy01j0MpT",
        "colab": {
          "base_uri": "https://localhost:8080/",
          "height": 17
        },
        "outputId": "06aacaee-4c34-4c0e-988d-a773be7a1e1b"
      },
      "source": [
        "Y_new6 = predictor.predict(x_new)"
      ],
      "execution_count": null,
      "outputs": [
        {
          "output_type": "display_data",
          "data": {
            "text/html": [
              ""
            ],
            "text/plain": [
              "<IPython.core.display.HTML object>"
            ]
          },
          "metadata": {
            "tags": []
          }
        }
      ]
    },
    {
      "cell_type": "code",
      "metadata": {
        "colab_type": "code",
        "id": "qkJpfh7g0MpZ",
        "colab": {
          "base_uri": "https://localhost:8080/",
          "height": 53
        },
        "outputId": "bdf714cc-c1bd-4144-c7fb-59b742e87c43"
      },
      "source": [
        "print(Y_new6)"
      ],
      "execution_count": null,
      "outputs": [
        {
          "output_type": "stream",
          "text": [
            "['1', '1', '0', '2', '2', '1', '2', '2', '3', '2', '0', '0', '4', '1', '2', '0', '2', '2', '4', '3', '0', '0', '3', '4', '2', '0', '3', '0', '0', '0', '0', '3', '3', '4', '4', '1', '2', '3', '2', '4', '0', '1', '0', '4', '0', '3', '3', '3', '0', '2', '1', '3', '3', '3', '2', '3', '0', '3', '1', '1', '2', '3', '2', '1', '4', '2', '2', '0', '0', '4', '4', '3', '0', '3', '4', '3', '1', '3', '0', '3', '3', '1', '3', '1', '0', '0', '4', '1', '4', '2', '1', '3', '1', '1', '4', '1', '1', '0', '2', '0', '1', '4', '1', '0', '2', '2', '4', '1', '1', '1', '2', '4', '3', '4', '4', '4', '0', '4', '3', '3', '2', '0', '3', '0', '1', '1', '2', '3', '3', '4', '3', '3', '1', '2', '3', '0', '2', '1', '2', '3', '0', '3', '0', '0', '2', '4', '2', '4', '1', '2', '3', '2', '0', '2', '3', '1', '3', '4', '2', '1', '3', '1', '2', '3', '1', '0', '1', '3', '3', '4', '0', '1', '1', '0', '3', '2', '0', '0', '0', '3', '0', '1', '0', '0', '4', '3', '2', '3', '3', '1', '3', '4', '3', '0', '0', '0', '4', '0', '3', '0', '2', '1', '4', '1', '0', '2', '2', '4', '2', '0', '0', '2', '0', '1', '4', '2', '2', '3', '0', '0', '0', '3', '4', '3', '3', '3', '3', '0', '2', '3', '0', '1', '0', '2', '2', '2', '4', '1', '0', '3', '0', '3', '3', '0', '3', '1', '3', '0', '0', '2', '1', '0', '0', '2', '3', '0', '0', '1', '1', '0', '0', '2', '2', '1', '2', '3', '1', '3', '3', '2', '0', '2', '0', '3', '3', '1', '1', '4', '0', '1', '0', '4', '3', '4', '1', '0', '2', '4', '3', '0', '3', '4', '0', '3', '2', '1', '4', '4', '4', '3', '1', '0', '4', '0', '2', '0', '1', '2', '0', '1', '2', '1', '2', '2', '3', '2', '2', '4', '3', '0', '1', '4', '1', '3', '0', '4', '1', '2', '2', '0', '0', '2', '0', '1', '1', '1', '2', '3', '4', '4', '1', '1', '4', '1', '4', '3', '0', '0', '2', '1', '4', '3', '1', '2', '4', '2', '2', '4', '4', '1', '0', '1', '0', '4', '1', '1', '0', '1', '0', '3', '0', '0', '3', '1', '1', '3', '3', '3', '0', '2', '1', '3', '0', '1', '0', '1', '3', '1', '3', '3', '4', '0', '2', '3', '2', '0', '4', '1', '4', '2', '0', '1', '2', '3', '3', '0', '2', '0', '1', '3', '4', '4', '4', '3', '4', '1', '4', '3', '1', '4', '2', '3', '4', '4', '1', '0', '1', '2', '1', '2', '0', '1', '0', '1', '0', '0', '1', '2', '1', '1', '0', '3', '1', '1', '0', '1', '0', '0', '0', '1', '0', '2', '1', '2', '2', '0', '0', '3', '3', '3', '1', '0', '0', '0', '0', '2', '1', '0', '2', '0', '1', '1', '1', '3', '0', '1', '2', '2', '2', '0', '4', '2', '3', '4', '1', '0', '4', '1', '4', '0', '3', '4', '3', '2', '3', '0', '1', '2', '0', '2', '3', '3', '1', '2', '4', '2', '4', '2', '0', '0', '3', '0', '1', '2', '1', '3', '2', '0', '2', '3', '0', '0', '0', '3', '4', '3', '0', '1', '0', '0', '2', '0', '2', '3', '0', '0', '3', '0', '3', '2', '4', '3', '1', '2', '0', '0', '2', '3', '4', '3', '2', '4', '1', '1', '2', '0', '1', '0', '4', '1', '0', '1', '1', '4', '0', '0', '1', '1', '2', '0', '0', '0', '2', '4', '2', '3', '1', '0', '4', '0', '3', '2', '0', '1', '1', '2', '2', '1', '0', '1', '3', '1', '0', '0', '0', '4', '1', '3', '3', '1', '2', '2', '4', '1', '3', '1', '3', '0', '3', '2', '0', '1', '3', '0', '2', '0', '1', '2', '3', '4', '0', '3', '1', '3', '3', '3', '0', '2', '2', '3', '1', '1', '4', '2', '1', '4', '0', '4', '0', '3', '1', '3', '0', '2', '1', '2', '3', '1', '3', '4', '1', '2', '1', '1', '3', '3', '2', '1', '0', '1', '2', '1', '3', '0', '1', '2', '0', '3', '2', '2', '3', '3', '0', '2', '3', '1', '1', '0', '1', '0', '3', '2', '2', '4', '0', '2', '3', '3', '1', '1', '0', '2', '3', '1', '3', '0', '1', '3', '4', '2', '3', '0', '2', '0', '2', '0', '1', '4', '1', '1', '2', '2', '2', '3', '2', '1', '0', '3', '1', '1', '4', '1', '1', '0', '1', '2', '0', '4', '1', '1', '3', '1', '4', '2', '4', '1', '0', '0', '0', '2', '2', '1', '0', '0', '0', '1', '1', '4', '0', '0', '3', '4', '1', '1', '0', '0', '4', '4', '3', '1', '2', '3', '2', '2', '1', '0', '3', '1', '1', '2', '0', '4', '3', '0', '3', '0', '2', '4', '2', '0', '2', '2', '2', '1', '0', '0', '3', '1', '0', '4', '4', '1', '0', '1', '2', '2', '0', '1', '4', '4', '0', '0', '1', '1', '0', '2', '1', '2', '2', '2', '2', '0', '0', '0', '4', '1', '0', '1', '2', '3', '2', '4', '0', '4', '2', '1', '4', '1', '2', '3', '1', '3', '3', '2', '2', '4', '4', '3', '1', '0', '4', '0', '0', '1', '0', '1', '3', '2', '4', '2', '0', '4', '0', '0', '2', '0', '1', '0', '3', '2', '1', '2', '0', '1', '1', '0', '0', '4', '2', '0', '3', '1', '3', '4', '3', '1', '3', '0', '2', '2', '0', '0', '2', '0', '3', '4', '1', '1', '3', '4', '3', '0', '2', '0', '4', '0', '2', '2', '2', '3', '1', '0', '3', '1', '1', '1', '0', '2', '2', '2', '3', '1', '0', '0', '1', '0', '0', '1', '1', '0', '3', '2', '0', '2', '3', '3', '4', '3', '1', '1', '1', '0', '3', '3', '2', '1', '0', '1', '3', '1', '1', '2', '0', '2', '1', '0', '2', '1', '0', '0', '2', '2', '3', '0', '2', '0', '3', '0', '4', '0', '0', '1', '1', '2', '4', '0', '1', '3', '4', '2', '1', '3', '3', '0', '2', '4', '0', '2', '4', '0', '1', '2', '3', '3', '2', '0', '3', '1', '4', '1', '2', '3', '4', '1', '1', '3', '3', '0', '1', '2', '4', '0', '2', '1', '0', '0', '4', '1', '4', '2', '2', '2', '3', '2', '1', '1', '4', '1', '3', '1', '3', '1', '1', '1', '3', '0', '1', '4', '0', '3', '4', '3', '1', '3', '0', '2', '3', '1', '1', '0', '3', '2', '1', '0', '2', '4', '0', '3', '2', '1', '1', '0', '0', '4', '3', '0', '0', '1', '3', '2', '1', '4', '4', '0', '4', '2', '2', '0', '0', '2', '0', '1', '4', '0', '4', '0', '1', '3', '0', '0', '2', '2', '1', '4', '0', '2', '1', '1', '0', '0', '0', '1', '1', '0', '4', '0', '1', '3', '0', '2', '2', '0', '3', '0', '3', '3', '1', '0', '0', '0', '4', '3', '3', '3', '1', '4', '4', '2', '4', '0', '3', '2', '3', '0', '4', '2', '3', '2', '0', '0', '2', '4', '0', '2', '2', '2', '1', '0', '1', '3', '0', '1', '0', '4', '3', '1', '1', '2', '4', '0', '1', '4', '0', '1', '0', '4', '1', '2', '2', '0', '4', '0', '2', '1', '3', '1', '2', '3', '1', '4', '4', '3', '1', '0', '3', '0', '4', '3', '0', '3', '0', '3', '3', '4', '0', '2', '0', '0', '1', '1', '2', '3', '0', '4', '1', '0', '4', '1', '3', '4', '1', '3', '0', '3', '2', '0', '1', '2', '3', '1', '0', '1', '2', '1', '4', '3', '3', '0', '2', '2', '4', '1', '4', '0', '3', '0', '2', '1', '4', '0', '3', '3', '2', '2', '1', '4', '1', '4', '1', '1', '1', '3', '4', '3', '3', '1', '2', '1', '1', '3', '2', '2', '2', '3', '2', '0', '0', '3', '1', '3', '4', '1', '2', '0', '3', '3', '1', '0', '2', '1', '0', '3', '1', '3', '0', '2', '4', '2', '1', '2', '2', '0', '0', '3', '3', '3', '0', '0', '1', '4', '0', '1', '2', '0', '2', '4', '0', '0', '4', '2', '4', '0', '1', '0', '2', '4', '3', '1', '0', '0', '3', '4', '1', '2', '1', '1', '3', '2', '3', '3', '3', '2', '2', '3', '1', '2', '3', '1', '0', '3', '4', '3', '0', '0', '2', '1', '2', '0', '0', '0', '3', '1', '3', '0', '1', '2', '1', '2', '0', '0', '3', '4', '0', '2', '3', '0', '1', '2', '2', '2', '1', '4', '0', '3', '3', '0', '4', '4', '0', '0', '0', '3', '1', '0', '1', '3', '4', '1', '0', '0', '1', '4', '0', '0', '0', '0', '1', '2', '1', '3', '1', '0', '4', '4', '4', '3', '1', '3', '3', '0', '0', '0', '3', '1', '4', '1', '0', '1', '3', '3', '2', '0', '2', '2', '3', '1', '2', '0', '1', '1', '0', '2', '0', '2', '4', '1', '1', '2', '2', '2', '2', '3', '4', '2', '2', '0', '1', '2', '0', '4', '0', '1', '2', '4', '4', '1', '2', '4', '2', '3', '3', '1', '1', '1', '3', '4', '4', '0', '1', '1', '4', '2', '0', '3', '2', '3', '2', '0', '3', '1', '0', '3', '0', '0', '1', '1', '2', '2', '3', '1', '1', '0', '3', '3', '0', '3', '0', '0', '0', '2', '2', '0', '3', '1', '1', '1', '3', '2', '0', '2', '2', '4', '4', '2', '3', '0', '3', '0', '4', '2', '2', '2', '0', '0', '3', '0', '1', '2', '0', '1', '1', '4', '2', '1', '0', '1', '1', '3', '2', '2', '2', '2', '1', '0', '1', '1', '2', '1', '2', '2', '0', '1', '4', '1', '1', '0', '0', '3', '1', '2', '1', '1', '4', '2', '3', '1', '1', '3', '0', '1', '4', '2', '2', '3', '0', '4', '3', '1', '0', '0', '1', '3', '1', '2', '3', '2', '2', '0', '1', '2', '0', '1', '0', '1', '0', '4', '0', '2', '3', '1', '2', '1', '3', '3', '3', '1', '2', '2', '0', '4', '0', '3', '2', '0', '0', '3', '1', '3', '0', '3', '4', '4', '1', '4', '4', '3', '1', '3', '1', '1', '3', '2', '4', '1', '3', '0', '0', '0', '1', '3', '0', '2', '0', '0', '1', '3', '1', '4', '1', '3', '1', '3', '0', '1', '1', '3', '1', '1', '1', '4', '2', '4', '2', '1', '1', '1', '4', '3', '4', '1', '0', '4', '4', '1', '1', '3', '1', '0', '0', '0', '4', '0', '0', '0', '0', '0', '1', '2', '3', '2', '0', '2', '0', '3', '3', '0', '1', '3', '1', '2', '3', '4', '0', '0', '0', '3', '3', '2', '3', '4', '0', '2', '1', '0', '4', '0', '3', '1', '2', '3', '0', '4', '2', '3', '0', '1', '1', '2', '1', '1', '1', '0', '0', '1', '0', '0', '4', '0', '2', '2', '0', '1', '1', '1', '4', '2', '1', '2', '3', '4', '2', '3', '3', '2', '2', '3', '4', '0', '2', '2', '2', '1', '3', '2', '4', '1', '4', '2', '1', '1', '0', '3', '3', '1', '3', '3', '2', '1', '3', '3', '1', '0', '2', '4', '1', '1', '0', '3', '1', '0', '0', '0', '3', '4', '3', '1', '2', '1', '3', '1', '1', '0', '4', '1', '3', '2', '0', '3', '1', '2', '1', '2', '4', '1', '4', '0', '1', '1', '1', '2', '3', '3', '0', '2', '4', '0', '3', '2', '1', '3', '0', '2', '1', '2', '2', '4', '2', '3', '1', '0', '4', '0', '2', '0', '1', '0', '3', '1', '0', '2', '0', '3', '1', '0', '2', '0', '0', '2', '2', '4', '0', '1', '1', '0', '3', '0', '2', '1', '2', '2', '1', '1', '4', '0', '4', '1', '0', '3', '2', '1', '0', '2', '3', '2', '0', '2', '1', '4', '1', '0', '2', '1', '2', '1', '1', '0', '0', '0', '0', '1', '0', '3', '2', '4', '1', '0', '1', '2', '2', '4', '2', '4', '3', '0', '4', '0', '0', '2', '4', '1', '0', '3', '1', '3', '4', '3', '2', '0', '1', '0', '0', '3', '3', '1', '0', '1', '4', '0', '2', '0', '0', '2', '2', '3', '3', '2', '0', '1', '2', '4', '2', '3', '2', '0', '0', '1', '3', '4', '1', '1', '3', '1', '0', '4', '2', '2', '1', '3', '0', '3', '4', '2', '3', '1', '0', '2', '3', '1', '2', '4', '0', '3', '3', '1', '1', '4', '4', '0', '4', '1', '0', '4', '0', '1', '3', '4', '3', '1', '0', '1', '2', '3', '2', '4', '0', '0', '0', '1', '0', '1', '3', '1', '4', '4', '4', '3', '0', '1', '2', '1', '2', '4', '0', '1', '3', '0', '1', '0', '0', '2', '0', '0', '2', '4', '1', '0', '4', '2', '3', '2', '1', '1', '1', '0', '1', '0', '2', '3', '4', '2', '2', '2', '1', '1', '4', '0', '4', '1', '3', '4', '2', '3', '2', '1', '1', '1', '0', '3', '0', '1', '2', '0', '2', '1', '4', '3', '2', '1', '1', '4', '3', '2', '0', '3', '0', '0', '0', '3', '0', '1', '4', '3', '0', '1', '2', '1', '2', '0', '1', '3', '4', '2', '4', '3', '3', '0', '2', '0', '1', '0', '0', '3', '3', '0', '4', '1', '0', '3', '0', '2', '3', '1', '0', '2', '1', '1', '4', '1', '0', '0', '0', '1', '4', '2', '1', '3', '2', '4', '0', '1', '3', '2', '0', '1', '3', '3', '2', '0', '1', '0', '1', '1', '2', '1', '1', '3', '0', '3', '1', '0', '4', '3', '0', '0', '0', '2', '3', '2', '3', '0', '1', '4', '1', '3', '0', '3', '0', '2', '2', '2', '1', '2', '3', '2', '2', '0', '4', '1', '2', '3', '2', '1', '1', '2', '3', '2', '1', '1', '2', '2', '0', '2', '2', '3', '2', '0', '0', '3', '3', '0', '1', '3', '3', '3', '1', '3', '0', '0', '2', '3', '0', '1', '3', '4', '3', '0', '2', '3', '3', '3', '0', '2', '1', '1', '3', '2', '2', '4', '1', '0', '1', '0', '4', '0', '4', '2', '1', '3', '0', '0', '3', '3', '4', '3', '0', '3', '2', '0', '1', '3', '1', '2', '0', '1', '3', '0', '1', '2', '0', '1', '3', '3', '0', '4', '3', '0', '2', '4', '2', '2', '0', '1', '4', '0', '1', '1', '1', '3', '2', '4', '3', '2', '3', '1', '1', '4', '1', '2', '0', '2', '1', '1', '3', '0', '1', '1', '1', '0', '1', '4', '0', '2', '3', '2', '1', '3', '1', '1', '0', '3', '1', '4', '1', '2', '3', '4', '3', '1', '1', '3', '2', '1', '2', '3', '0', '1', '1', '3', '1', '0', '1', '0', '1', '2', '0', '0', '4', '0', '0', '1', '1', '0', '1', '0', '2', '4', '0', '1', '1', '3', '3', '0', '4', '3', '2', '0', '1', '2', '1', '2', '2', '0', '1', '0', '1', '2', '2', '2', '2', '3', '3', '1', '0', '3', '2', '3', '1', '2', '2', '0', '1', '2', '2', '2', '3', '1', '2', '1', '1', '4', '1', '0', '4', '2', '4', '2', '4', '3', '0', '0', '1', '3', '3', '1', '3', '3', '2', '2', '0', '0', '1', '2', '4', '4', '0', '1', '4', '4', '2', '0', '3', '0', '2', '1', '2', '3', '0', '0', '1', '2', '0', '0', '3', '2', '3', '4', '4', '4', '3', '1', '3', '3', '3', '4', '3', '0', '3', '2', '3', '1', '0', '0', '1', '1', '0', '3', '4', '0', '0', '1', '0', '4', '3', '2', '1', '3', '1', '1', '0', '2', '1', '0', '0', '4', '4', '0', '0', '3', '4', '3', '0', '1', '2', '3', '2', '3', '2', '0', '0', '0', '2', '3', '2', '2', '2', '1', '2', '4', '3', '3', '3', '4', '1', '0', '1', '4', '2', '1', '2', '1', '3', '0', '1', '0', '1', '3', '2', '3', '0', '3', '4', '0', '3', '2', '1', '1', '4', '2', '3', '1', '2', '2', '0', '0', '3', '3', '4', '1', '0', '0', '1', '0', '1', '3', '0', '3', '1', '2', '0', '0', '4', '3', '2', '3', '2', '1', '1', '0', '2', '0', '1', '4', '0', '0', '0', '0', '2', '1', '2', '0', '4', '0', '0', '1', '4', '0', '4', '1', '2', '1', '3', '3', '3', '0', '3', '2', '0', '0', '3', '0', '0', '3', '1', '3', '3', '0', '1', '2', '2', '2', '0', '3', '3', '2', '0', '0', '0', '1', '2', '2', '4', '4', '2', '4', '1', '1', '4', '1', '2', '0', '0', '0', '2', '1', '4', '2', '2', '0', '0', '3', '2', '4', '3', '3', '3', '2', '2', '2', '1', '2', '1', '3', '4', '1', '3', '2', '1', '3', '4', '0', '2', '1', '1', '2', '2', '0', '2', '2', '0', '4', '0', '4', '4', '4', '1', '4', '3', '3', '3', '3', '0', '1', '2', '3', '3', '3', '3', '1', '0', '1', '2', '2', '3', '2', '0', '0', '4', '1', '3', '0', '0', '4', '2', '1', '1', '1', '4', '3', '3', '4', '2', '0', '0', '0', '2', '0', '1', '1', '0', '1', '1', '0', '1', '1', '3', '3', '2', '2', '2', '2', '0', '2', '0', '3', '1', '4', '0', '2', '4', '1', '3', '0', '4', '0', '2', '2', '1', '1', '0', '1', '1', '1', '3', '1', '0', '1', '3', '0', '1', '1', '1', '4', '1', '4', '1', '3', '1', '4', '2', '1', '2', '2', '4', '1', '3', '0', '2', '2', '1', '2', '3', '1', '3', '1', '0', '2', '0', '2', '3', '2', '3', '0', '3', '1', '2', '3', '4', '4', '1', '1', '4', '2', '2', '3', '2', '1', '3', '1', '3', '0', '2', '1', '0', '0', '4', '1', '1', '1', '2', '2', '2', '2', '0', '3', '3', '2', '3', '3', '0', '3', '3', '4', '3', '2', '1', '3', '0', '2', '2', '0', '4', '2', '3', '3', '0', '3', '1', '3', '0', '3', '1', '2', '2', '3', '0', '2', '2', '2', '1', '0', '4', '1', '1', '4', '2', '2', '0', '0', '1', '1', '3', '3', '0', '1', '2', '0', '4', '1', '0', '3', '0', '4', '3', '0', '1', '4', '0', '1', '0', '4', '0', '0', '3', '1', '2', '2', '2', '1', '3', '0', '2', '3', '2', '1', '4', '3', '2', '0', '1', '2', '2', '1', '0', '2', '0', '3', '0', '1', '4', '3', '2', '4', '2', '2', '0', '0', '0', '1', '3', '3', '2', '1', '2', '3', '0', '3', '0', '2', '0', '1', '2', '2', '0', '2', '4', '3', '1', '1', '0', '3', '0', '2', '3', '0', '2', '1', '1', '0', '3', '1', '2', '2', '0', '1', '0', '2', '1', '3', '0', '0', '1', '2', '1', '4', '2', '2', '1', '0', '0', '3', '1', '3', '4', '2', '2', '3', '3', '3', '0', '3', '2', '3', '2', '0', '0', '1', '4', '0', '1', '1', '0', '3', '4', '2', '3', '0', '0', '3', '1', '0', '3', '3', '1', '0', '4', '4', '3', '3', '0', '1', '0', '4', '4', '2', '2', '2', '1', '0', '1', '0', '4', '2', '0', '3', '2', '1', '3', '3', '2', '0', '1', '1', '0', '4', '3', '4', '2', '1', '2', '3', '3', '0', '3', '1', '3', '0', '0', '3', '1', '2', '2', '2', '4', '4', '0', '2', '3', '2', '0', '2', '2', '4', '1', '0', '1', '0', '4', '1', '1', '0', '0', '1', '1', '3', '1', '0', '2', '1', '4', '2', '2', '3', '4', '2', '2', '3', '4', '4', '0', '1', '2', '0', '1', '2', '0', '0', '2', '1', '1', '0', '0', '4', '0', '1', '3', '3', '1', '1', '1', '0', '3', '0', '4', '0', '3', '2', '0', '3', '1', '2', '1', '2', '2', '1', '0', '1', '3', '1', '1', '2', '1', '2', '4', '1', '0', '4', '0', '4', '0', '1', '0', '3', '1', '1', '4', '1', '0', '1', '3', '4', '1', '2', '3', '0', '4', '3', '2', '1', '0', '4', '4', '3', '1', '4', '3', '0', '0', '0', '4', '1', '2', '4', '1', '4', '4', '2', '0', '3', '3', '1', '3', '1', '0', '3', '4', '2', '1', '1', '1', '1', '4', '0', '0', '4', '1', '0', '1', '2', '0', '1', '2', '4', '1', '1', '1', '2', '2', '3', '2', '4', '1', '3', '0', '1', '0', '2', '0', '1', '2', '0', '4', '0', '0', '1', '4', '1', '0', '3', '2', '2', '4', '1', '1', '0', '1', '4', '0', '1', '4', '0', '0', '3', '2', '2', '2', '0', '2', '1', '1', '2', '0', '0', '3', '2', '2', '3', '2', '1', '2', '0', '3', '2', '3', '3', '0', '0', '0', '0', '4', '1', '3', '1', '0', '0', '3', '0', '2', '0', '2', '1', '3', '2', '4', '0', '2', '0', '0', '2', '2', '2', '1', '0', '2', '3', '2', '3', '3', '4', '2', '3', '4', '3', '1', '1', '2', '1', '1', '1', '1', '4', '3', '4', '3', '3', '3', '4', '2', '3', '3', '0', '2', '1', '0', '0', '2', '1', '1', '0', '0', '1', '2', '0', '3', '2', '4', '0', '0', '2', '3', '3', '4', '3', '1', '0', '2', '3', '0', '3', '3', '0', '3', '1', '4', '3', '1', '1', '0', '2', '3', '1', '0', '1', '0', '0', '0', '0', '0', '2', '3', '2', '1', '1', '3', '1', '0', '2', '1', '3', '1', '1', '0', '2', '1', '1', '3', '1', '3', '4', '3', '2', '0', '3', '0', '3', '1', '0', '3', '1', '2', '4', '0', '1', '1', '0', '1', '2', '1', '3', '1', '4', '4', '2', '2', '2', '0', '3', '3', '0', '0', '3', '0', '2', '4', '2', '3', '3', '0', '3', '0', '0', '0', '2', '1', '1', '2', '1', '1', '4', '0', '4', '3', '2', '3', '0', '2', '0', '2', '4', '1', '4', '4', '2', '1', '3', '2', '2', '2', '2', '0', '2', '1', '2', '3', '1', '2', '0', '2', '1', '0', '1', '3', '4', '2', '4', '0', '1', '1', '2', '0', '3', '0', '2', '3', '2', '0', '2', '1', '1', '1', '2', '3', '0', '1', '3', '1', '3', '4', '3', '0', '1', '3', '2', '1', '3', '2', '2', '4', '3', '0', '0', '2', '1', '0', '4', '0', '1', '1', '0', '0', '1', '0', '3', '0', '1', '3', '2', '4', '0', '3', '0', '2', '3', '0', '0', '0', '3', '0', '1', '0', '4', '2', '3', '3', '3', '1', '0', '3', '0', '3', '0', '2', '0', '0', '0', '3', '2', '4', '1', '0', '2', '0', '2', '3', '1', '4', '3', '4', '3', '2', '2', '0', '1', '3', '3', '3', '3', '1', '0', '1', '3', '4', '1', '0', '1', '4', '0', '4', '1', '0', '3', '3', '2', '3', '2', '3', '2', '4', '1', '1', '0', '3', '4', '2', '1', '0', '3', '3', '0', '4', '1', '1', '4', '2', '0', '1', '4', '1', '3', '1', '0', '3', '4', '3', '3', '2', '0', '1', '3', '1', '4', '2', '0', '2', '2', '4', '1', '2', '0', '1', '2', '3', '0', '0', '1', '0', '0', '4', '3', '4', '3', '4', '3', '3', '1', '3', '0', '4', '0', '1', '2', '4', '0', '4', '3', '1', '2', '1', '3', '3', '3', '0', '1', '0', '3', '3', '4', '1', '2', '0', '4', '0', '0', '3', '4', '0', '2', '0', '2', '3', '4', '2', '2', '1', '4', '0', '2', '1', '0', '1', '1', '4', '2', '2', '0', '2', '3', '1', '2', '1', '4', '3', '0', '1', '4', '3', '1', '2', '1', '1', '0', '2', '3', '1', '2', '3', '4', '0', '3', '0', '1', '0', '2', '0', '1', '4', '2', '1', '3', '3', '0', '3', '1', '0', '3', '2', '0', '4', '1', '2', '3', '2', '0', '1', '1', '0', '1', '3', '0', '4', '2', '3', '2', '1', '2', '1', '1', '2', '0', '1', '2', '2', '3', '2', '1', '2', '1', '0', '4', '3', '2', '3', '4', '2', '1', '4', '3', '1', '0', '3', '2', '0', '0', '1', '2', '3', '0', '0', '4', '1', '1', '3', '4', '4', '1', '4', '4', '1', '1', '1', '2', '4', '1', '1', '2', '3', '1', '0', '0', '0', '2', '0', '2', '0', '2', '0', '3', '2', '3', '0', '3', '0', '0', '3', '0', '3', '2', '1', '0', '2', '0', '2', '1', '3', '0', '1', '4', '0', '1', '3', '0', '0', '3', '0', '4', '2', '2', '4', '1', '1', '1', '3', '0', '4', '0', '3', '2', '4', '2', '1', '3', '0', '3', '0', '2', '1', '3', '3', '4', '3', '0', '2', '4', '2', '0', '1', '4', '2', '2', '2', '3', '0', '0', '0', '2', '4', '3', '3', '3', '0', '1', '3', '2', '0', '2', '1', '0', '0', '3', '2', '2', '0', '3', '3', '2', '3', '1', '3', '2', '3', '2', '0', '0', '2', '0', '1', '1', '1', '1', '4', '3', '2', '2', '3', '0', '1', '3', '2', '3', '0', '0', '2', '0', '2', '3', '0', '1', '4', '0', '3', '2', '2', '2', '0', '1', '2', '2', '4', '0', '3', '1', '2', '4', '2', '3', '1', '0', '4', '2', '4', '1', '1', '1', '3', '3', '3', '4', '3', '0', '1', '1', '3', '0', '1', '4', '1', '3', '2', '4', '1', '1', '3', '3', '0', '4', '2', '0', '2', '1', '2', '1', '0', '2', '1', '4', '1', '1', '2', '0', '2', '2', '1', '4', '0', '0', '0', '1', '0', '3', '4', '2', '1', '0', '3', '0', '3', '3', '0', '3', '1', '3', '3', '3', '1', '3', '1', '2', '1', '1', '2', '0', '3', '3', '2', '2', '0', '3', '2', '2', '2', '3', '0', '1', '3', '2', '1', '3', '0', '3', '0', '0', '4', '2', '3', '2', '1', '0', '0', '0', '1', '0', '2', '0', '4', '0', '0', '2', '2', '4', '4', '0', '2', '2', '0', '0', '1', '3', '2', '0', '1', '1', '4', '4', '0', '0', '2', '3', '1', '4', '0', '3', '4', '0', '2', '0', '0', '1', '3', '2', '1', '3', '1', '2', '1', '1', '1', '0', '2', '2', '0', '4', '3', '2', '0', '2', '3', '0', '2', '2', '1', '1', '2', '3', '3', '1', '3', '4', '0', '4', '1', '0', '1', '3', '1', '3', '3', '0', '2', '1', '0', '2', '0', '0', '4', '2', '1', '1', '3', '1', '2', '2', '3', '2', '0', '0', '3', '2', '1', '4', '4', '2', '3', '0', '0', '2', '4', '0', '2', '1', '1', '4', '4', '3', '0', '4', '0', '1', '1', '0', '1', '0', '1', '0', '1', '0', '4', '3', '0', '0', '4', '1', '2', '0', '3', '3', '3', '1', '2', '2', '1', '1', '0', '2', '0', '1', '2', '1', '0', '0', '3', '2', '0', '0', '1', '4', '3', '0', '4', '3', '3', '4', '2', '0', '4', '0', '0', '4', '0', '2', '4', '1', '0', '1', '3', '0', '2', '0', '2', '1', '2', '1', '0', '2', '0', '0', '1', '2', '3', '3', '1', '1', '4', '0', '1', '4', '1', '4', '4', '4', '1', '2', '1', '1', '1', '1', '3', '1', '0', '4', '3', '2', '2', '2', '4', '1', '3', '0', '2', '3', '2', '0', '1', '1', '0', '0', '3', '3', '4', '3', '1', '1', '1', '4', '3', '2', '0', '4', '2', '0', '2', '4', '3', '1', '0', '0', '1', '2', '4', '1', '3', '1', '3', '4', '0', '4', '1', '1', '2', '4', '2', '1', '1', '1', '2', '0', '0', '0', '1', '4', '2', '2', '0', '3', '0', '0', '1', '4', '2', '4', '1', '2', '1', '3', '1', '0', '1', '2', '2', '0', '2', '1', '3', '0', '0', '2', '1', '2', '2', '3', '0', '1', '1', '1', '2', '1', '3', '2', '1', '0', '2', '1', '4', '0', '3', '2', '3', '3', '2', '4', '1', '0', '2', '0', '1', '2', '0', '3', '0', '1', '0', '1', '3', '1', '0', '3', '2', '2', '1', '0', '3', '4', '0', '1', '2', '3', '0', '0', '0', '0', '1', '3', '1', '2', '3', '1', '0', '3', '0', '0', '3', '2', '1', '0', '2', '0', '3', '1', '0', '0', '1', '4', '2', '2', '0', '3', '1', '0', '0', '1', '1', '0', '2', '0', '2', '0', '3', '3', '0', '0', '0', '0', '3', '1', '3', '3', '3', '3', '2', '0', '4', '1', '4', '4', '0', '0', '1', '3', '0', '1', '2', '3', '2', '1', '2', '0', '3', '0', '0', '3', '2', '0', '0', '0', '0', '1', '2', '2', '0', '0', '1', '2', '1', '0', '1', '2', '1', '2', '1', '1', '0', '3', '2', '0', '4', '0', '3', '1', '1', '0', '4', '3', '3', '2', '2', '2', '4', '1', '2', '3', '2', '4', '0', '4', '4', '2', '3', '2', '1', '1', '2', '3', '2', '0', '2', '0', '4', '2', '1', '3', '1', '2', '2', '4', '0', '1', '1', '0', '0', '1', '2', '2', '3', '1', '4', '3', '0', '3', '1', '2', '1', '3', '1', '1', '2', '2', '3', '2', '1', '1', '2', '0', '1', '2', '0', '1', '1', '0', '0', '1', '2', '1', '2', '4', '0', '1', '2', '1', '1', '4', '2', '0', '3', '1', '3', '2', '0', '0', '3', '0', '3', '0', '0', '2', '2', '0', '1', '4', '3', '1', '4', '3', '4', '3', '0', '1', '1', '4', '2', '2', '1', '0', '1', '3', '0', '2', '1', '4', '0', '2', '2', '3', '0', '0', '2', '2', '2', '2', '2', '1', '2', '2', '4', '4', '0', '1', '3', '4', '4', '3', '3', '1', '1', '4', '1', '0', '3', '1', '1', '0', '0', '2', '2', '4', '1', '1', '1', '3', '0', '0', '4', '0', '2', '1', '2', '4', '1', '3', '3', '1', '1', '2', '1', '3', '0', '0', '0', '4', '2', '1', '1', '2', '3', '0', '0', '2', '0', '0', '0', '2', '3', '3', '4', '3', '2', '0', '0', '0', '0', '0', '3', '2', '3', '3', '0', '4', '2', '2', '1', '0', '2', '1', '3', '4', '1', '2', '2', '3', '1', '3', '1', '0', '1', '1', '4', '3', '2', '0', '2', '3', '3', '0', '0', '2', '3', '1', '2', '0', '2', '0', '1', '1', '0', '2', '0', '4', '2', '2', '2', '3', '3', '2', '0', '4', '0', '2', '1', '1', '4', '1', '2', '3', '0', '0', '3', '4', '3', '0', '4', '2', '3', '3', '1', '2', '4', '3', '4', '0', '0', '0', '0', '3', '1', '3', '4', '1', '4', '3', '4', '1', '3', '1', '2', '1', '2', '4', '2', '3', '3', '2', '0', '4', '2', '3', '1', '4', '1', '2', '1', '0', '1', '2', '0', '3', '0', '2', '2', '3', '1', '3', '3', '1', '0', '3', '3', '0', '2', '4', '3', '3', '3', '1', '2', '0', '2', '1', '0', '0', '4', '0', '4', '0', '0', '1', '2', '0', '4', '4', '1', '1', '2', '2', '1', '2', '0', '0', '0', '0', '0', '1', '0', '2', '1', '0', '1', '0', '2', '2', '2', '2', '1', '0', '4', '1', '0', '3', '1', '0', '3', '4', '3', '3', '0', '2', '4', '3', '4', '0', '2', '0', '1', '2', '0', '4', '3', '0', '4', '0', '2', '0', '1', '0', '3', '0', '3', '0', '4', '4', '3', '1', '2', '3', '0', '1', '0', '1', '1', '1', '0', '1', '2', '3', '1', '0', '2', '1', '4', '3', '0', '0', '4', '1', '1', '4', '0', '4', '1', '3', '0', '0', '0', '2', '1', '0', '0', '4', '1', '3', '1', '2', '0', '2', '2', '0', '3', '2', '3', '0', '4', '0', '2', '1', '0', '0', '2', '3', '1', '1', '3', '1', '2', '3', '1', '0', '2', '2', '1', '0', '2', '3', '0', '2', '0', '0', '1', '1', '0', '0', '0', '2', '1', '1', '0', '2', '1', '0', '0', '2', '1', '2', '3', '3', '3', '0', '3', '0', '0', '0', '3', '1', '2', '2', '4', '1', '1', '2', '0', '3', '4', '3', '2', '2', '1', '4', '1', '1', '2', '0', '1', '3', '4', '1', '2', '3', '2', '0', '1', '3', '2', '3', '0', '4', '3', '3', '4', '4', '0', '3', '2', '4', '2', '0', '2', '3', '1', '3', '2', '3', '0', '4', '0', '3', '2', '1', '2', '1', '4', '2', '3', '2', '0', '1', '2', '4', '0', '3', '3', '0', '4', '2', '4', '2', '0', '1', '3', '4', '2', '0', '3', '1', '0', '0', '3', '2', '0', '4', '1', '1', '2', '0', '0', '3', '1', '0', '3', '4', '3', '1', '2', '2', '3', '3', '3', '2', '1', '2', '3', '1', '0', '1', '0', '0', '1', '2', '3', '2', '4', '0', '1', '0', '0', '1', '1', '3', '4', '0', '0', '1', '3', '0', '0', '3', '4', '3', '1', '4', '3', '0', '0', '0', '0', '3', '1', '3', '2', '4', '4', '2', '0', '0', '0', '3', '2', '1', '2', '3', '2', '1', '0', '2', '3', '0', '0', '0', '4', '2', '0', '0', '2', '1', '2', '1', '4', '3', '2', '3', '0', '3', '4', '1', '3', '0', '0', '1', '1', '4', '0', '0', '1', '2', '2', '3', '0', '4', '0', '0', '0', '2', '0', '1', '2', '1', '0', '3', '1', '2', '1', '2', '0', '2', '0', '1', '3', '2', '3', '1', '1', '0', '1', '0', '1', '3', '4', '0', '0', '1', '3', '4', '0', '0', '0', '2', '2', '0', '3', '0', '2', '3', '1', '3', '0', '1', '1', '4', '0', '1', '4', '1', '0', '2', '3', '0', '4', '0', '1', '1', '1', '1', '2', '2', '4', '0', '1', '3', '2', '3', '2', '3', '2', '1', '2', '3', '3', '3', '0', '3', '4', '2', '3', '2', '0', '1', '3', '2', '2', '2', '1', '0', '4', '1', '2', '0', '2', '1', '3', '2', '2', '2', '1', '4', '2', '0', '0', '3', '3', '0', '2', '2', '1', '0', '0', '3', '4', '0', '2', '4', '0', '4', '3', '0', '1', '4', '2', '2', '0', '1', '1', '2', '3', '2', '1', '1', '0', '1', '2', '2', '2', '0', '2', '0', '0', '2', '0', '1', '4', '0', '3', '3', '0', '1', '0', '2', '2', '1', '4', '0', '4', '1', '3', '1', '1', '3', '1', '1', '1', '0', '0', '2', '0', '0', '2', '1', '2', '2', '0', '3', '0', '2', '4', '3', '3', '0', '4', '2', '3', '2', '0', '1', '0', '3', '3', '0', '2', '2', '0', '3', '0', '0', '4', '0', '4', '2', '0', '3', '4', '1', '4', '1', '3', '0', '0', '1', '1', '4', '0', '3', '1', '3', '4', '0', '2', '0', '0', '0', '3', '4', '4', '2', '1', '1', '1', '0', '3', '2', '4', '4', '3', '1', '1', '0', '1', '4', '3', '0', '0', '1', '3', '0', '1', '0', '2', '0', '0', '0', '1', '2', '4', '2', '2', '4', '1', '0', '0', '1', '3', '1', '0', '2', '4', '1', '2', '2', '1', '1', '1', '2', '2', '0', '2', '3', '4', '3', '1', '1', '2', '2', '2', '1', '1', '0', '2', '1', '2', '2', '1', '1', '2', '3', '3', '2', '4', '1', '1', '2', '1', '4', '0', '0', '1', '3', '1', '0', '1', '4', '1', '4', '3', '2', '1', '3', '0', '3', '2', '3', '1', '3', '0', '2', '3', '2', '2', '3', '0', '2', '0', '4', '0', '3', '2', '1', '0', '2', '3', '1', '0', '0', '2', '3', '0', '1', '2', '0', '0', '1', '4', '4', '2', '2', '2', '2', '2', '3', '2', '1', '4', '2', '3', '1', '0', '2', '1', '2', '4', '1', '2', '4', '4', '0', '3', '3', '3', '1', '2', '0', '0', '1', '2', '4', '2', '1', '2', '2', '1', '3', '1', '3', '4', '4', '2', '2', '4', '1', '4', '0', '3', '1', '3', '2', '0', '2', '2', '0', '0', '2', '3', '0', '2', '0', '3', '0', '1', '3', '3', '1', '3', '1', '0', '4', '1', '0', '1', '0', '1', '2', '1', '1', '0', '1', '1', '2', '2', '1', '0', '3', '1', '0', '3', '3', '1', '2', '0', '2', '0', '4', '1', '0', '0', '4', '2', '0', '4', '0', '3', '3', '0', '1', '2', '2', '0', '0', '2', '2', '0', '0', '1', '0', '1', '0', '1', '1', '0', '2', '2', '0', '1', '0', '1', '1', '2', '1', '1', '2', '1', '4', '0', '2', '3', '0', '3', '4', '3', '0', '1', '0', '2', '0', '1', '0', '2', '2', '0', '4', '3', '2', '1', '1', '1', '4', '3', '0', '2', '0', '0', '4', '4', '1', '3', '0', '1', '3', '1', '1', '4', '3', '0', '4', '2', '0', '2', '1', '0', '2', '2', '2', '0', '0', '0', '2', '2', '4', '2', '2', '3', '2', '3', '1', '0', '3', '2', '0', '4', '3', '2', '2', '2', '1', '2', '1', '1', '0', '3', '4', '0', '0', '0', '2', '2', '3', '3', '0', '0', '2', '1', '2', '3', '1', '1', '4', '0', '2', '2', '1', '4', '0', '3', '1', '2', '0', '1', '3', '1', '3', '0', '0', '0', '0', '2', '2', '2', '3', '2', '2', '3', '0', '3', '1', '1', '2', '2', '2', '1', '0', '2', '0', '1', '3', '0', '1', '1', '3', '1', '0', '0', '3', '1', '2', '1', '2', '4', '1', '4', '2', '0', '2', '2', '2', '0', '0', '0', '4', '1', '0', '2', '0', '0', '0', '1', '0', '2', '2', '4', '0', '1', '1', '2', '3', '2', '3', '4', '0', '3', '4', '1', '2', '2', '0', '4', '3', '0', '4', '4', '1', '0', '3', '0', '2', '0', '4', '0', '0', '1', '2', '1', '1', '2', '1', '2', '3', '4', '2', '0', '0', '3', '0', '0', '1', '0', '1', '3', '4', '1', '0', '2', '1', '0', '0', '3', '0', '2', '4', '2', '1', '0', '2', '1', '2', '1', '2', '0', '1', '2', '2', '1', '1', '1', '2', '0', '1', '3', '2', '4', '2', '3', '3', '3', '2', '1', '0', '4', '3', '3', '3', '2', '0', '0', '0', '0', '4', '0', '1', '1', '1', '0', '0', '4', '2', '4', '0', '2', '0', '0', '2', '0', '1', '1', '1', '1', '2', '3', '4', '3', '4', '4', '4', '2', '0', '3', '0', '2', '2', '4', '2', '3', '2', '3', '3', '1', '3', '4', '3', '1', '0', '0', '0', '1', '0', '1', '4', '0', '3', '3', '4', '0', '0', '0', '1', '3', '0', '1', '0', '1', '4', '1', '3', '3', '3', '0', '4', '1', '2', '3', '2', '0', '4', '1', '0', '1', '3', '2', '3', '3', '4', '3', '0', '4', '4', '1', '1', '0', '3', '0', '0', '3', '0', '1', '2', '4', '1', '0', '3', '1', '2', '3', '0', '0', '4', '0', '3', '3', '1', '2', '3', '3', '1', '2', '0', '0', '2', '2', '3', '3', '2', '3', '0', '0', '2', '2', '4', '3', '3', '1', '1', '1', '2', '4', '0', '0', '2', '1', '1', '1', '4', '1', '0', '2', '3', '4', '0', '4', '0', '4', '1', '1', '1', '2', '0', '1', '4', '4', '1', '3', '0', '3', '2', '1', '0', '0', '3', '0', '3', '1', '0', '1', '0', '0', '0', '1', '0', '0', '1', '0', '2', '0', '0', '2', '2', '1', '0', '0', '2', '1', '2', '1', '4', '2', '1', '0', '2', '3', '1', '2', '1', '3', '2', '0', '0', '3', '2', '4', '3', '4', '0', '1', '2', '1', '4', '1', '3', '0', '4', '0', '1', '2', '1', '0', '2', '1', '1', '0', '1', '1', '1', '0', '1', '3', '0', '4', '4', '1', '4', '1', '0', '2', '2', '1', '2', '0', '1', '3', '0', '4', '0', '3', '4', '1', '2', '3', '4', '0', '1', '1', '0', '2', '0', '0', '2', '1', '3', '1', '3', '4', '0', '0', '3', '2', '3', '1', '2', '0', '0', '1', '3', '0', '2', '0', '1', '1', '0', '3', '0', '4', '3', '2', '1', '0', '1', '3', '3', '2', '3', '4', '2', '3', '0', '0', '1', '3', '2', '0', '2', '1', '1', '1', '1', '2', '4', '1', '1', '2', '1', '3', '4', '2', '3', '2', '0', '2', '4', '4', '4', '4', '2', '1', '0', '0', '4', '1', '2', '1', '0', '0', '1', '2', '0', '4', '2', '0', '0', '0', '4', '1', '4', '1', '0', '4', '0', '1', '3', '0', '0', '1', '1', '1', '0', '1', '3', '0', '3', '2', '1', '4', '2', '1', '2', '2', '4', '0', '4', '1', '4', '0', '0', '3', '1', '4', '1', '4', '2', '1', '1', '3', '1', '3', '3', '3', '0', '1', '0', '0', '0', '2', '2', '3', '4', '3', '2', '0', '1', '0', '3', '1', '2', '1', '3', '4', '4', '2', '1', '0', '1', '1', '1', '4', '2', '1', '0', '2', '1', '4', '3', '4', '3', '0', '1', '2', '2', '2', '4', '0', '1', '2', '0', '4', '1', '2', '4', '2', '0', '3', '1', '1', '3', '2', '3', '0', '3', '1', '3', '2', '0', '1', '2', '1', '4', '2', '2', '4', '3', '4', '1', '2', '1', '2', '1', '2', '0', '2', '0', '1', '2', '3', '0', '3', '3', '2', '2', '2', '2', '0', '0', '0', '0', '2', '1', '2', '2', '2', '0', '0', '4', '1', '3', '1', '3', '2', '3', '1', '1', '1', '0', '2', '1', '0', '3', '2', '4', '0', '1', '1', '0', '2', '4', '0', '2', '4', '2', '2', '0', '2', '1', '0', '3', '0', '4', '0', '3', '1', '1', '3', '2', '0', '3', '1', '1', '1', '2', '3', '0', '2', '2', '4', '4', '3', '0', '0', '2', '2', '3', '1', '1', '0', '0', '0', '3', '2', '4', '3', '0', '2', '1', '1', '1', '1', '3', '2', '2', '1', '2', '3', '2', '3', '2', '1', '4', '4', '2', '3', '3', '1', '3', '1', '2', '0', '1', '0', '0', '4', '1', '3', '0', '4', '2', '3', '1', '1', '0', '1', '0', '0', '4', '2', '1', '0', '0', '0', '1', '3', '4', '0', '3', '1', '2', '4', '1', '4', '3', '0', '3', '2', '2', '3', '1', '0', '0', '3', '2', '4', '3', '3', '0', '0', '1', '1', '4', '2', '0', '0', '0', '1', '4', '4', '2', '2', '0', '0', '3', '3', '1', '0', '2', '1', '4', '2', '4', '2', '0', '4', '3', '3', '0', '4', '0', '3', '1', '1', '4', '1', '2', '4', '1', '0', '4', '2', '1', '0', '0', '2', '2', '0', '0', '0', '4', '4', '1', '3', '3', '3', '0', '3', '4', '1', '1', '3', '0', '1', '4', '1', '1', '1', '3', '0', '1', '2', '0', '2', '0', '0', '3', '3', '0', '3', '2', '0', '4', '3', '1', '1', '0', '0', '1', '2', '1', '4', '2', '3', '1', '2', '1', '0', '0', '3', '2', '2', '3', '2', '0', '1', '1', '3', '4', '1', '2', '1', '2', '4', '0', '3', '1', '0', '0', '1', '0', '2', '4', '0', '2', '2', '4', '2', '1', '0', '1', '1', '1', '1', '3', '3', '3', '1', '1', '2', '4', '4', '3', '0', '0', '4', '2', '4', '1', '1', '2', '0', '4', '3', '3', '4', '0', '2', '1', '2', '3', '2', '4', '3', '1', '3', '3', '2', '2', '0', '3', '2', '2', '0', '4', '2', '0', '4', '1', '3', '0', '2', '0', '2', '1', '0', '3', '2', '2', '4', '1', '1', '0', '1', '2', '1', '0', '3', '1', '2', '1', '0', '3', '2', '1', '0', '3', '0', '4', '0', '2', '2', '3', '0', '2', '2', '1', '2', '0', '0', '0', '2', '2', '4', '2', '1', '0', '2', '2', '1', '3', '0', '4', '0', '0', '1', '1', '4', '1', '0', '0', '2', '1', '0', '0', '4', '2', '2', '0', '1', '0', '0', '2', '1', '1', '1', '2', '1', '1', '3', '3', '2', '3', '2', '2', '0', '4', '1', '1', '4', '2', '3', '0', '2', '2', '3', '3', '0', '0', '2', '4', '1', '1', '0', '3', '1', '0', '3', '4', '2', '2', '1', '0', '3', '0', '4', '0', '2', '1', '1', '2', '4', '0', '0', '0', '0', '0', '4', '3', '2', '4', '0', '2', '0', '0', '0', '1', '2', '3', '4', '3', '0', '1', '2', '1', '4', '0', '1', '2', '1', '1', '2', '1', '2', '4', '4', '4', '0', '2', '2', '3', '2', '3', '4', '2', '0', '3', '2', '0', '0', '3', '3', '1', '2', '3', '0', '1', '0', '2', '4', '3', '2', '4', '4', '2', '3', '1', '0', '2', '1', '1', '0', '2', '4', '3', '3', '0', '2', '1', '2', '0', '2', '0', '1', '1', '2', '4', '0', '2', '3', '4', '2', '4', '1', '4', '1', '3', '3', '2', '2', '1', '0', '1', '1', '0', '2', '1', '4', '3', '3', '2', '3', '3', '4', '1', '2', '0', '1', '4', '0', '4', '2', '1', '3', '2', '1', '1', '2', '0', '3', '1', '2', '3', '2', '3', '1', '0', '2', '0', '0', '0', '3', '3', '4', '0', '4', '4', '1', '3', '0', '1', '0', '1', '1', '0', '1', '0', '2', '4', '2', '2', '0', '0', '3', '4', '3', '0', '0', '3', '0', '2', '0', '3', '1', '0', '2', '3', '0', '2', '1', '0', '1', '0', '1', '2', '0', '2', '2', '3', '1', '0', '0', '1', '2', '0', '1', '1', '1', '0', '2', '0', '4', '2', '1', '2', '0', '1', '4', '1', '1', '0', '2', '4', '0', '1', '3', '0', '0', '4', '0', '1', '2', '3', '3', '1', '0', '3', '2', '0', '4', '2', '0', '0', '2', '4', '3', '2', '0', '3', '3', '4', '2', '3', '0', '4', '3', '0', '1', '4', '1', '0', '0', '4', '1', '3', '3', '3', '2', '1', '0', '2', '0', '1', '3', '0', '2', '2', '0', '1', '0', '3', '1', '2', '4', '1', '0', '1', '4', '0', '0', '0', '1', '1', '1', '1', '3', '1', '0', '0', '1', '2', '2', '4', '1', '2', '1', '1', '3', '4', '2', '1', '3', '0', '0', '2', '3', '1', '0', '2', '1', '4', '0', '0', '3', '4', '1', '4', '4', '1', '0', '0', '0', '4', '0', '4', '0', '1', '2', '2', '2', '2', '1', '0', '3', '3', '0', '3', '2', '0', '2', '3', '2', '2', '1', '2', '3', '0', '2', '0', '3', '1', '1', '0', '4', '1', '2', '3', '3', '1', '0', '2', '4', '1', '0', '0', '1', '3', '0', '1', '2', '0', '1', '1', '2', '1', '0', '1', '1', '0', '3', '0', '3', '4', '1', '2', '0', '1', '0', '1', '2', '2', '0', '0', '2', '1', '2', '0', '2', '1', '2', '2', '2', '4', '0', '1', '3', '1', '1', '1', '0', '3', '0', '3', '4', '1', '3', '2', '1', '0', '2', '3', '2', '1', '0', '0', '1', '3', '4', '4', '2', '0', '2', '3', '0', '0', '3', '1', '0', '2', '0', '0', '2', '0', '0', '0', '3', '1', '0', '0', '4', '1', '0', '1', '1', '0', '1', '4', '4', '2', '4', '3', '1', '3', '1', '3', '0', '3', '0', '0', '2', '1', '2', '4', '0', '2', '1', '1', '4', '2', '0', '2', '0', '0', '2', '2', '0', '2', '3', '3', '2', '4', '2', '1', '4', '0', '0', '3', '3', '2', '3', '1', '2', '2', '4', '1', '0', '3', '0', '3', '2', '3', '2', '0', '2', '0', '2', '0', '0', '1', '2', '0', '1', '1', '1', '1', '0', '1', '0', '1', '3', '1', '2', '3', '0', '3', '1', '2', '3', '0', '4', '0', '0', '2', '1', '1', '3', '0', '1', '0', '1', '0', '0', '0', '0', '3', '3', '3', '0', '0', '3', '4', '4', '1', '0', '1', '2', '1', '1', '1', '3', '4', '4', '1', '2', '0', '2', '1', '2', '1', '3', '2', '4', '0', '0', '3', '0', '3', '0', '4', '1', '1', '4', '1', '1', '1', '1', '1', '0', '0', '2', '3', '1', '1', '1', '1', '4', '0', '1', '3', '0', '2', '1', '2', '0', '2', '1', '3', '2', '1', '1', '0', '2', '2', '1', '2', '3', '0', '1', '1', '2', '0', '4', '1', '3', '0', '0', '3', '1', '3', '2', '0', '0', '2', '1', '4', '0', '1', '0', '0', '1', '2', '0', '2', '1', '1', '3', '4', '3', '0', '1', '1', '4', '1', '0', '3', '4', '1', '0', '4', '2', '0', '3', '0', '1', '0', '2', '0', '2', '2', '3', '3', '2', '3', '2', '1', '3', '1', '0', '2', '1', '1', '2', '4', '3', '2', '2', '0', '2', '1', '3', '2', '4', '1', '3', '3', '2', '1', '0', '1', '2', '4', '3', '0', '0', '4', '3', '3', '0', '2', '0', '1', '0', '1', '3', '3', '1', '0', '0', '2', '2', '1', '3', '2', '0', '3', '4', '3', '1', '4', '1', '1', '2', '2', '0', '2', '1', '2', '0', '0', '2', '4', '4', '2', '2', '3', '0', '2', '1', '4', '4', '0', '3', '2', '1', '0', '2', '2', '4', '4', '0', '3', '2', '2', '4', '0', '0', '2', '2', '1', '3', '2', '1', '1', '3', '2', '2', '3', '1', '2', '4', '4', '3', '1', '3', '3', '0', '1', '3', '1', '1', '0', '3', '3', '2', '2', '0', '3', '0', '0', '4', '0', '3', '3', '4', '0', '3', '0', '0', '0', '0', '0', '0', '2', '1', '2', '3', '1', '1', '4', '3', '2', '1', '1', '1', '2', '4', '0', '2', '2', '0', '0', '4', '0', '0', '1', '2', '1', '1', '0', '1', '0', '4', '0', '4', '3', '1', '3', '1', '4', '1', '2', '1', '3', '1', '0', '3', '0', '0', '4', '1', '1', '0', '2', '4', '2', '1', '3', '1', '3', '0', '0', '4', '1', '2', '2', '1', '1', '1', '0', '0', '1', '2', '0', '3', '0', '2', '1', '3', '0', '3', '2', '1', '1', '1', '4', '0', '2', '4', '3', '0', '1', '0', '4', '2', '1', '0', '3', '1', '1', '1', '3', '2', '0', '3', '4', '2', '0', '0', '2', '4', '3', '3', '2', '0', '1', '0', '2', '2', '0', '3', '2', '1', '2', '3', '1', '0', '1', '0', '1', '2', '2', '2', '2', '1', '0', '1', '4', '1', '4', '4', '1', '0', '1', '4', '0', '0', '3', '2', '1', '1', '1', '2', '0', '4', '4', '0', '0', '3', '3', '2', '0', '3', '2', '4', '1', '0', '0', '0', '4', '1', '1', '1', '4', '4', '1', '1', '3', '1', '2', '4', '3', '2', '3', '3', '2', '0', '0', '0', '3', '0', '1', '1', '2', '4', '1', '1', '3', '3', '4', '2', '4', '1', '4', '0', '2', '1', '2', '1', '2', '4', '1', '4', '0', '2', '4', '2', '0', '0', '2', '2', '4', '1', '0', '1', '2', '0', '0', '1', '1', '1', '4', '1', '3', '3', '0', '3', '1', '2', '1', '3', '0', '2', '0', '3', '2', '3', '1', '3', '2', '0', '2', '2', '2', '0', '1', '1', '0', '2', '0', '2', '2', '4', '3', '0', '1', '0', '4', '2', '1', '1', '0', '2', '2', '1', '2', '1', '0', '3', '2', '3', '2', '2', '0', '0', '0', '0', '4', '0', '3', '2', '1', '2', '2', '4', '3', '2', '0', '4', '0', '0', '0', '0', '4', '2', '0', '2', '0', '0', '4', '0', '3', '2', '3', '0', '3', '0', '1', '1', '4', '2', '3', '0', '2', '4', '1', '3', '1', '0', '2', '1', '4', '2', '4', '1', '3', '1', '3', '4', '4', '2', '1', '2', '2', '0', '1', '2', '0', '3', '1', '2', '1', '2', '0', '3', '1', '2', '4', '3', '3', '1', '4', '1', '1', '0', '1', '4', '0', '3', '1', '4', '4', '3', '1', '3', '1', '3', '2', '3', '0', '0', '1', '3', '1', '2', '2', '4', '2', '3', '0', '1', '0', '0', '2', '2', '1', '3', '2', '4', '1', '1', '2', '1', '0', '3', '3', '0', '3', '1', '2', '3', '3', '3', '1', '2', '1', '2', '4', '1', '3', '1', '1', '3', '3', '1', '1', '4', '3', '2', '2', '3', '1', '1', '2', '1', '0', '1', '2', '2', '0', '4', '4', '0', '0', '0', '1', '3', '0', '1', '2', '3', '0', '0', '0', '4', '1', '3', '2', '4', '0', '2', '1', '2', '0', '3', '2', '2', '1', '2', '0', '0', '0', '2', '3', '3', '2', '0', '0', '0', '2', '0', '1', '0', '0', '0', '2', '3', '3', '1', '2', '2', '1', '1', '2', '2', '1', '3', '2', '0', '0', '4', '0', '0', '3', '2', '0', '0', '0', '0', '0', '2', '0', '3', '1', '2', '2', '0', '0', '1', '0', '0', '4', '0', '1', '1', '0', '2', '0', '2', '2', '4', '0', '0', '4', '4', '2', '2', '2', '0', '3', '3', '2', '3', '2', '2', '1', '1', '0', '0', '3', '1', '3', '0', '3', '0', '3', '3', '2', '1', '0', '1', '1', '0', '0', '0', '2', '1', '1', '4', '3', '3', '1', '3', '0', '2', '2', '1', '1', '1', '4', '2', '0', '3', '0', '0', '3', '0', '1', '4', '4', '4', '1', '3', '2', '2', '3', '4', '3', '2', '3', '3', '0', '2', '3', '0', '3', '2', '1', '0', '1', '0', '2', '4', '0', '2', '3', '0', '0', '4', '4', '1', '3', '2', '1', '2', '3', '3', '3', '1', '1', '0', '4', '1', '3', '2', '1', '0', '3', '1', '0', '1', '0', '4', '3', '0', '3', '3', '0', '1', '1', '0', '1', '0', '1', '2', '3', '1', '2', '2', '2', '1', '4', '3', '4', '3', '0', '2', '1', '1', '0', '3', '2', '4', '4', '0', '2', '4', '2', '1', '4', '0', '3', '1', '2', '1', '1', '3', '3', '2', '3', '0', '1', '0', '1', '4', '1', '0', '3', '1', '0', '1', '1', '1', '1', '4', '1', '3', '1', '0', '4', '4', '0', '2', '4', '4', '0', '2', '1', '2', '2', '3', '4', '2', '0', '3', '2', '0', '0', '2', '1', '0', '1', '0', '3', '1', '1', '1', '0', '0', '2', '1', '2', '3', '3', '1', '0', '3', '0', '2', '1', '2', '0', '2', '2', '1', '0', '1', '0', '0', '0', '3', '1', '4', '0', '2', '0', '0', '0', '0', '1', '1', '1', '4', '0', '1', '3', '2', '3', '1', '2', '2', '1', '4', '0', '3', '2', '1', '3', '3', '0', '2', '1', '4', '1', '1', '0', '3', '2', '2', '2', '2', '3', '1', '0', '4', '2', '2', '1', '4', '1', '1', '2', '0', '0', '1', '3', '1', '0', '3', '1', '2', '1', '0', '1', '2', '4', '1', '0', '3', '2', '1', '2', '0', '0', '2', '3', '0', '1', '0', '3', '4', '1', '3', '2', '1', '0', '1', '4', '1', '1', '0', '0', '1', '0', '2', '0', '3', '0', '1', '2', '2', '4', '0', '4', '3', '3', '3', '0', '0', '3', '2', '2', '0', '0', '3', '1', '3', '2', '1', '0', '0', '3', '4', '4', '1', '2', '0', '0', '3', '0', '3', '2', '3', '0', '3', '0', '2', '1', '0', '0', '3', '3', '3', '0', '1', '0', '0', '4', '1', '3', '4', '4', '0', '4', '3', '2', '1', '3', '1', '3', '0', '2', '4', '1', '1', '3', '3', '3', '1', '1', '2', '0', '4', '1', '4', '4', '1', '3', '3', '1', '0', '3', '3', '3', '2', '0', '2', '0', '0', '2', '0', '1', '0', '1', '2', '0', '1', '2', '2', '4', '0', '1', '0', '4', '1', '0', '2', '4', '3', '1', '0', '1', '0', '4', '0', '3', '3', '0', '2', '2', '2', '0', '1', '2', '2', '0', '1', '2', '3', '3', '0', '0', '1', '1', '0', '3', '1', '1', '3', '3', '3', '3', '3', '1', '0', '1', '0', '0', '4', '0', '4', '3', '4', '3', '1', '2', '3', '0', '0', '0', '2', '4', '3', '4', '3', '1', '4', '0', '2', '2', '2', '0', '1', '2', '1', '2', '4', '1', '0', '0', '0', '0', '2', '2', '3', '3', '0', '0', '2', '0', '1', '1', '2', '2', '3', '1', '4', '2', '1', '4', '1', '1', '3', '0', '3', '2', '1', '3', '3', '3', '0', '0', '1', '4', '0', '0', '4', '0', '4', '3', '3', '3', '2', '2', '1', '0', '3', '1', '1', '0', '3', '1', '3', '1', '1', '1', '3', '4', '1', '1', '1', '4', '2', '3', '0', '3', '4', '2', '2', '1', '1', '0', '0', '1', '3', '3', '3', '3', '2', '0', '3', '4', '1', '4', '3', '4', '2', '3', '1', '1', '0', '3', '2', '2', '0', '4', '1', '0', '3', '4', '2', '3', '3', '0', '0', '0', '2', '3', '2', '1', '2', '1', '1', '1', '2', '0', '2', '3', '3', '0', '3', '2', '1', '3', '4', '4', '0', '3', '0', '1', '4', '3', '1', '1', '3', '2', '1', '0', '0', '0', '0', '1', '0', '3', '1', '0', '3', '3', '0', '3', '4', '4', '2', '2', '1', '4', '4', '2', '0', '4', '3', '1', '0', '4', '3', '1', '1', '0', '2', '4', '4', '0', '0', '4', '0', '2', '4', '0', '3', '3', '2', '4', '2', '4', '2', '0', '0', '2', '2', '1', '2', '0', '3', '2', '3', '0', '3', '4', '1', '3', '1', '1', '0', '2', '0', '3', '2', '3', '3', '3', '2', '0', '3', '2', '1', '1', '0', '1', '2', '3', '3', '2', '3', '0', '3', '3', '4', '2', '4', '2', '0', '2', '2', '0', '2', '3', '2', '4', '2', '3', '2', '0', '2', '2', '2', '0', '1', '0', '0', '2', '4', '3', '0', '0', '3', '3', '1', '3', '1', '2', '0', '2', '2', '1', '3', '1', '0', '1', '2', '1', '4', '1', '1', '4', '4', '1', '2', '3', '3', '2', '0', '1', '2', '3', '0', '0', '0', '1', '1', '1', '3', '1', '2', '1', '2', '2', '3', '3', '0', '3', '1', '0', '3', '4', '4', '1', '4', '0', '2', '2', '3', '3', '3', '3', '4', '1', '2', '1', '2', '2', '0', '2', '1', '4', '0', '2', '1', '2', '2', '2', '0', '3', '1', '1', '0', '4', '2', '2', '1', '2', '3', '0', '3', '0', '1', '1', '4', '0', '2', '3', '1', '2', '4', '2', '1', '0', '0', '2', '0', '3', '2', '0', '3', '2', '0', '1', '2', '2', '1', '1', '2', '3', '0', '1', '3', '2', '0', '2', '0', '2', '1', '0', '0', '3', '0', '1', '0', '0', '1', '3', '0', '1', '3', '2', '1', '4', '3', '4', '1', '1', '0', '4', '4', '0', '3', '1', '3', '4', '3', '1', '1', '1', '2', '3', '0', '3', '4', '0', '2', '0', '3', '0', '4', '1', '2', '1', '1', '1', '3', '1', '3', '4', '0', '1', '2', '0', '1', '2', '4', '1', '2', '2', '1', '2', '1', '0', '1', '0', '2', '1', '0', '2', '3', '2', '1', '1', '3', '2', '3', '0', '0', '4', '1', '3', '2', '3', '1', '2', '4', '1', '0', '0', '1', '3', '2', '4', '4', '3', '2', '2', '2', '0', '3', '1', '4', '1', '0', '1', '2', '3', '2', '3', '1', '0', '3', '0', '3', '2', '1', '1', '0', '1', '3', '0', '1', '3', '0', '2', '1', '1', '1', '3', '1', '3', '0', '1', '3', '2', '2', '2', '2', '0', '3', '1', '2', '1', '3', '3', '2', '1', '2', '3', '2', '4', '1', '2', '0', '2', '1', '4', '0', '1', '4', '1', '0', '2', '0', '2', '0', '2', '0', '0', '0', '0', '3', '2', '1', '1', '2', '0', '4', '1', '3', '4', '1', '2', '0', '2', '0', '1', '1', '3', '1', '1', '0', '1', '3', '4', '2', '4', '3', '1', '3', '2', '0', '2', '1', '3', '2', '3', '0', '0', '4', '2', '2', '3', '1', '1', '2', '2', '4', '0', '1', '3', '2', '1', '4', '0', '3', '3', '2', '3', '2', '1', '2', '2', '2', '1', '3', '2', '2', '0', '2', '3', '2', '0', '3', '4', '0', '4', '1', '2', '1', '2', '2', '2', '2', '3', '0', '0', '0', '3', '3', '0', '0', '0', '3', '0', '0', '2', '4', '3', '1', '4', '4', '1', '4', '2', '3', '0', '0', '3', '2', '2', '0', '4', '1', '0', '3', '1', '0', '0', '0', '0', '3', '0', '4', '3', '0', '1', '1', '0', '1', '0', '2', '0', '3', '2', '0', '2', '1', '2', '2', '2', '0', '1', '0', '3', '0', '0', '0', '2', '3', '2', '4', '1', '2', '0', '4', '3', '1', '3', '2', '0', '1', '4', '4', '0', '0', '4', '2', '1', '1', '1', '2', '1', '1', '4', '2', '4', '3', '3', '1', '1', '2', '3', '4', '1', '2', '0', '0', '3', '2', '2', '1', '0', '3', '3', '1', '0', '0', '2', '4', '2', '0', '0', '2', '2', '0', '2', '0', '2', '3', '2', '3', '3', '3', '4', '4', '2', '3', '0', '0', '1', '0', '0', '1', '1', '0', '1', '3', '1', '2', '0', '4', '0', '0', '2', '0', '0', '1', '0', '1', '4', '4', '1', '1', '4', '3', '4', '1', '1', '1', '1', '2', '0', '1', '0', '0', '3', '3', '2', '3', '3', '0', '2', '4', '4', '1', '3', '1', '1', '1', '4', '2', '1', '2', '1', '1', '4', '2', '2', '2', '3', '3', '1', '0', '4', '2', '2', '1', '1', '1', '1', '3', '1', '3', '4', '0', '0', '1', '1', '0', '1', '1', '2', '0', '2', '1', '0', '4', '2', '1', '1', '2', '1', '3', '1', '2', '2', '0', '0', '1', '4', '2', '0', '4', '3', '2', '1', '1', '0', '0', '3', '4', '4', '2', '1', '3', '3', '1', '3', '2', '4', '2', '1', '0', '1', '4', '4', '3', '3', '2', '0', '1', '0', '2', '0', '1', '1', '3', '1', '0', '1', '0', '1', '3', '0', '3', '0', '2', '3', '3', '1', '1', '0', '0', '3', '0', '1', '1', '1', '0', '3', '0', '3', '1', '0', '3', '4', '0', '0', '1', '1', '2', '1', '1', '1', '0', '3', '1', '1', '3', '0', '4', '0', '0', '0', '1', '3', '2', '4', '2', '1', '0', '1', '2', '1', '4', '3', '3', '1', '1', '2', '0', '0', '0', '2', '1', '0', '0', '1', '2', '4', '1', '3', '3', '3', '3', '3', '2', '1', '1', '0', '1', '1', '2', '1', '3', '0', '4', '1', '2', '3', '1', '2', '4', '3', '0', '1', '1', '0', '1', '0', '2', '1', '0', '0', '0', '0', '3', '4', '0', '3', '3', '4', '3', '0', '3', '2', '2', '1', '3', '0', '0', '1', '2', '1', '2', '0', '3', '1', '1', '3', '3', '0', '1', '1', '3', '0', '0', '3', '3', '1', '0', '4', '4', '1', '3', '1', '3', '0', '1', '3', '4', '0', '0', '0', '3', '3', '2', '2', '1', '0', '2', '2', '4', '2', '0', '2', '0', '1', '0', '4', '1', '2', '2', '4', '1', '4', '2', '4', '3', '2', '0', '2', '3', '1', '0', '3', '1', '1', '3', '0', '0', '0', '2', '1', '3', '2', '0', '1', '0', '2', '1', '2', '3', '0', '0', '3', '4', '2', '1', '2', '1', '3', '1', '0', '1', '1', '1', '4', '4', '0', '0', '1', '2', '3', '1', '3', '2', '2', '4', '2', '0', '2', '3', '1', '1', '0', '2', '0', '4', '1', '3', '3', '2', '1', '3', '1', '1', '2', '1', '0', '1', '1', '3', '1', '3', '3', '3', '2', '0', '3', '3', '1', '1', '3', '1', '0', '0', '4', '0', '2', '1', '3', '2', '2', '0', '0', '4', '0', '0', '3', '3', '4', '3', '3', '3', '2', '2', '2', '2', '0', '0', '1', '3', '2', '1', '1', '1', '2', '1', '0', '1', '1', '2', '4', '3', '0', '1', '1', '0', '4', '3', '1', '4', '2', '1', '2', '1', '3', '4', '2', '0', '1', '0', '3', '3', '2', '0', '2', '1', '1', '3', '3', '2', '0', '0', '0', '0', '1', '1', '2', '0', '0', '2', '1', '1', '3', '2', '0', '2', '0', '3', '3', '3', '1', '1', '1', '0', '0', '2', '1', '3', '3', '4', '1', '4', '2', '1', '0', '2', '0', '3', '0', '0', '2', '0', '2', '0', '3', '0', '4', '0', '3', '0', '0', '4', '0', '3', '3', '2', '2', '0', '2', '3', '0', '3', '2', '1', '0', '1', '2', '3', '3', '3', '3', '1', '4', '1', '1', '2', '2', '3', '2', '2', '0', '0', '3', '1', '2', '0', '1', '4', '1', '0', '2', '1', '3', '0', '0', '4', '3', '4', '1', '1', '3', '0', '2', '2', '3', '1', '4', '3', '2', '0', '4', '1', '1', '0', '4', '0', '1', '3', '0', '2', '4', '2', '1', '0', '3', '3', '0', '2', '3', '1', '1', '1', '3', '2', '2', '3', '3', '0', '1', '4', '1', '1', '1', '2', '2', '3', '1', '2', '3', '1', '2', '0', '4', '1', '2', '4', '0', '3', '0', '0', '2', '1', '1', '0', '2', '0', '0', '3', '2', '0', '1', '2', '3', '4', '3', '0', '2', '0', '4', '0', '4', '1', '2', '1', '2', '3', '3', '0', '2', '1', '4', '4', '2', '2', '2', '1', '0', '4', '0', '0', '1', '3', '4', '2', '4', '0', '3', '3', '3', '1', '1', '4', '0', '0', '0', '1', '3', '4', '2', '3', '3', '0', '4', '2', '0', '0', '1', '2', '1', '1', '3', '4', '3', '2', '0', '2', '3', '4', '0', '0', '2', '0', '3', '4', '3', '2', '0', '4', '3', '0', '1', '3', '0', '3', '2', '4', '3', '1', '0', '3', '2', '3', '3', '0', '3', '0', '3', '2', '3', '4', '3', '1', '4', '3', '1', '4', '0', '1', '0', '4', '3', '1', '2', '1', '4', '2', '0', '1', '3', '2', '0', '0', '1', '0', '0', '2', '1', '0', '0', '2', '0', '0', '4', '2', '1', '2', '3', '1', '2', '4', '1', '2', '2', '0', '2', '1', '0', '0', '3', '0', '0', '1', '1', '1', '1', '3', '3', '3', '2', '4', '0', '4', '1', '0', '3', '2', '4', '1', '2', '1', '4', '1', '2', '2', '2', '4', '0', '1', '0', '4', '3', '1', '1', '0', '2', '3', '1', '4', '1', '3', '3', '1', '0', '2', '0', '1', '3', '0', '2', '0', '3', '1', '0', '2', '1', '4', '4', '0', '1', '3', '3', '4', '2', '1', '1', '4', '3', '2', '2', '4', '1', '1', '2', '0', '2', '3', '3', '2', '1', '0', '4', '3', '1', '3', '3', '0', '2', '3', '0', '0', '0', '1', '0', '0', '2', '0', '4', '0', '2', '4', '0', '2', '1', '3', '0', '4', '0', '0', '0', '2', '2', '4', '1', '1', '2', '3', '2', '0', '3', '2', '4', '3', '3', '1', '0', '0', '1', '4', '0', '3', '4', '1', '1', '0', '3', '2', '4', '2', '2', '1', '0', '0', '3', '3', '4', '0', '4', '2', '1', '4', '1', '0', '0', '4', '3', '4', '3', '0', '0', '3', '0', '1', '0', '2', '4', '0', '1', '4', '1', '0', '3', '0', '3', '2', '4', '2', '0', '1', '0', '4', '2', '0', '0', '1', '4', '3', '0', '3', '0', '2', '1', '0', '0', '4', '2', '0', '0', '1', '0', '4', '3', '0', '1', '2', '1', '3', '0', '0', '1', '0', '1', '0', '1', '3', '4', '4', '2', '0', '3', '2', '2', '1', '3', '1', '4', '1', '2', '2', '2', '1', '0', '4', '3', '1', '4', '0', '1', '3', '4', '0', '0', '3', '0', '0', '4', '0', '0', '4', '2', '1', '1', '2', '0', '0', '4', '4', '2', '0', '4', '0', '1', '1', '1', '1', '1', '1', '1', '1', '1', '1', '3', '2', '2', '3', '2', '2', '2', '3', '2', '1', '1', '4', '2', '3', '1', '1', '3', '3', '2', '3', '1', '2', '1', '0', '0', '3', '0', '3', '2', '2', '1', '4', '2', '4', '2', '2', '0', '1', '2', '2', '0', '3', '1', '3', '3', '0', '4', '3', '2', '1', '1', '0', '4', '3', '0', '3', '2', '2', '0', '1', '0', '0', '4', '1', '4', '1', '0', '0', '0', '2', '0', '2', '4', '2', '0', '2', '4', '0', '1', '1', '1', '2', '0', '1', '3', '0', '0', '0', '0', '2', '3', '0', '0', '0', '1', '1', '4', '2', '2', '3', '0', '0', '2', '1', '2', '4', '4', '2', '0', '2', '0', '2', '1', '1', '3', '0', '1', '3', '4', '1', '4', '1', '1', '0', '1', '3', '1', '0', '0', '1', '3', '3', '3', '0', '3', '2', '2', '3', '2', '1', '0', '3', '2', '2', '2', '3', '3', '0', '2', '0', '2', '2', '2', '3', '2', '3', '4', '0', '3', '0', '0', '1', '0', '2', '1', '4', '0', '3', '1', '3', '0', '0', '3', '1', '1', '0', '4', '4', '3', '0', '0', '4', '3', '1', '1', '1', '0', '3', '3', '3', '3', '1', '2', '3', '2', '3', '3', '1', '2', '0', '2', '1', '0', '0', '0', '0', '4', '1', '3', '3', '2', '4', '4', '4', '2', '4', '0', '0', '3', '2', '2', '1', '2', '3', '3', '0', '0', '4', '3', '4', '3', '1', '0', '1', '0', '4', '3', '1', '2', '3', '1', '4', '0', '2', '1', '1', '1', '1', '4', '1', '0', '4', '3', '0', '4', '0', '3', '0', '2', '0', '2', '0', '2', '4', '3', '0', '0', '0', '1', '1', '2', '3', '2', '2', '0', '3', '1', '1', '4', '3', '0', '3', '0', '3', '2', '3', '3', '2', '0', '1', '0', '3', '2', '1', '2', '0', '1', '2', '1', '3', '0', '2', '0', '4', '3', '2', '1', '2', '2', '0', '2', '2', '2', '4', '3', '1', '0', '4', '4', '0', '1', '3', '3', '2', '1', '4', '4', '3', '3', '2', '2', '4', '3', '0', '3', '2', '3', '2', '2', '2', '0', '2', '1', '1', '4', '4', '2', '3', '4', '0', '3', '0', '1', '1', '3', '3', '4', '0', '0', '2', '0', '1', '0', '1', '2', '1', '2', '0', '3', '1', '2', '0', '2', '1', '3', '1', '0', '3', '3', '0', '2', '0', '2', '3', '0', '2', '0', '0', '1', '0', '0', '3', '2', '4', '4', '0', '3', '1', '0', '2', '1', '4', '0', '1', '3', '1', '3', '3', '3', '1', '2', '4', '1', '2', '0', '1', '4', '1', '4', '0', '1', '1', '0', '3', '2', '4', '0', '3', '4', '1', '2', '2', '2', '2', '2', '1', '3', '3', '0', '2', '2', '0', '1', '3', '4', '2', '4', '2', '3', '2', '1', '3', '1', '2', '2', '0', '2', '3', '4', '2', '1', '1', '3', '3', '2', '2', '0', '2', '2', '1', '2', '0', '4', '0', '2', '3', '1', '2', '2', '2', '0', '1', '1', '1', '0', '2', '1', '0', '3', '3', '4', '0', '1', '3', '0', '1', '3', '2', '4', '3', '2', '3', '4', '4', '1', '1', '1', '2', '1', '1', '4', '3', '1', '1', '0', '1', '4', '3', '0', '3', '4', '4', '4', '2', '2', '3', '4', '2', '2', '0', '0', '3', '2', '3', '1', '2', '1', '1', '0', '0', '1', '0', '0', '0', '0', '0', '0', '0', '1', '4', '3', '2', '0', '0', '0', '0', '2', '2', '1', '3', '2', '4', '0', '2', '0', '3', '4', '3', '3', '4', '0', '4', '1', '1', '2', '0', '0', '4', '1', '1', '3', '3', '2', '2', '0', '4', '4', '1', '0', '2', '2', '2', '2', '4', '3', '4', '1', '4', '0', '4', '0', '2', '0', '3', '2', '0', '2', '1', '2', '2', '3', '0', '0', '1', '0', '2', '2', '0', '3', '3', '3', '3', '3', '0', '1', '2', '1', '1', '0', '2', '3', '2', '1', '3', '2', '1', '1', '1', '0', '4', '0', '1', '2', '1', '3', '2', '1', '3', '1', '0', '0', '1', '4', '3', '2', '4', '2', '3', '2', '0', '2', '1', '1', '3', '1', '0', '0', '1', '1', '3', '3', '2', '4', '1', '0', '4', '3', '1', '1', '1', '0', '0', '0', '1', '2', '2', '0', '0', '0', '3', '3', '2', '3', '1', '1', '2', '3', '0', '3', '0', '3', '0', '1', '2', '0', '1', '3', '0', '1', '3', '1', '3', '0', '0', '3', '3', '3', '0', '1', '3', '1', '4', '2', '0', '1', '2', '1', '2', '4', '1', '1', '0', '2', '0', '4', '1', '0', '1', '1', '1', '1', '1', '0', '2', '2', '1', '0', '3', '1', '1', '0', '4', '0', '2', '0', '3', '0', '4', '2', '3', '2', '0', '0', '1', '0', '0', '1', '1', '0', '4', '0', '0', '1', '2', '1', '0', '1', '2', '1', '4', '3', '4', '2', '1', '1', '1', '4', '2', '0', '0', '0', '1', '2', '1', '2', '2', '4', '2', '1', '1', '2', '1', '1', '4', '0', '4', '3', '4', '4', '4', '1', '3', '3', '0', '0', '0', '0', '0', '1', '1', '2', '2', '3', '2', '0', '1', '1', '1', '0', '4', '2', '2', '1', '3', '0', '4', '4', '3', '1', '1', '2', '1', '4', '2', '0', '2', '2', '4', '1', '0', '0', '0', '3', '1', '0', '2', '4', '0', '4', '1', '2', '3', '1', '1', '2', '4', '1', '0', '1', '2', '0', '3', '2', '3', '3', '0', '0', '2', '3', '3', '0', '3', '1', '4', '4', '0', '1', '1', '2', '2', '2', '1', '1', '4', '0', '3', '2', '1', '1', '3', '1', '3', '2', '0', '0', '2', '2', '0', '0', '2', '0', '1', '1', '1', '0', '1', '3', '2', '1', '3', '3', '1', '2', '4', '2', '4', '3', '3', '3', '0', '0', '3', '4', '2', '3', '2', '2', '4', '3', '3', '0', '4', '0', '0', '0', '4', '0', '4', '0', '0', '3', '2', '0', '2', '0', '1', '3', '2', '0', '1', '1', '0', '1', '3', '3', '0', '2', '3', '2', '2', '0', '0', '0', '4', '2', '2', '4', '1', '2', '4', '2', '3', '1', '2', '2', '2', '2', '4', '3', '3', '3', '1', '1', '3', '0', '4', '2', '0', '0', '2', '2', '2', '0', '3', '1', '3', '3', '3', '0', '0', '4', '4', '2', '2', '3', '3', '0', '2', '1', '1', '1', '1', '3', '0', '2', '1', '2', '1', '2', '4', '3', '4', '1', '4', '3', '1', '3', '3', '1', '2', '3', '3', '3', '0', '4', '2', '1', '3', '2', '4', '2', '1', '3', '2', '4', '1', '3', '0', '2', '4', '2', '1', '4', '0', '1', '2', '4', '3', '2', '2', '1', '2', '2', '2', '1', '1', '4', '2', '4', '1', '2', '0', '1', '2', '0', '3', '1', '1', '2', '0', '3', '0', '3', '0', '0', '3', '3', '0', '1', '0', '0', '0', '0', '2', '4', '2', '1', '4', '2', '2', '0', '1', '2', '1', '0', '2', '2', '3', '2', '3', '0', '3', '4', '4', '0', '4', '2', '1', '0', '1', '0', '3', '2', '1', '4', '0', '3', '1', '0', '4', '0', '1', '2', '0', '3', '1', '1', '1', '3', '3', '1', '2', '0', '2', '1', '3', '0', '1', '2', '0', '3', '3', '1', '0', '1', '1', '1', '2', '3', '1', '2', '4', '1', '2', '0', '1', '0', '0', '1', '0', '2', '4', '1', '2', '3', '4', '4', '4', '1', '2', '1', '1', '3', '3', '3', '0', '3', '1', '0', '1', '0', '2', '1', '4', '2', '2', '1', '4', '1', '0', '0', '0', '0', '1', '1', '3', '4', '4', '0', '0', '3', '0', '0', '1', '0', '3', '2', '0', '3', '1', '2', '2', '2', '3', '0', '1', '0', '2', '2', '4', '1', '0', '0', '1', '1', '3', '0', '2', '1', '3', '4', '2', '2', '2', '1', '2', '2', '0', '4', '3', '1', '3', '3', '3', '0', '2', '3', '0', '0', '0', '1', '0', '0', '0', '3', '1', '0', '2', '2', '1', '1', '4', '0', '2', '4', '1', '4', '0', '0', '1', '1', '1', '3', '4', '3', '2', '2', '4', '0', '1', '1', '1', '2', '2', '2', '3', '1', '3', '0', '4', '2', '1', '3', '4', '2', '2', '4', '0', '2', '4', '4', '4', '1', '2', '0', '0', '0', '2', '4', '4', '1', '2', '2', '1', '0', '4', '3', '2', '0', '0', '3', '1', '1', '0', '3', '1', '3', '4', '4', '1', '0', '4', '0', '0', '0', '3', '4', '0', '4', '3', '3', '0', '2', '4', '3', '4', '4', '1', '2', '0', '0', '1', '3', '2', '0', '1', '2', '3', '1', '1', '1', '3', '4', '1', '4', '1', '1', '4', '2', '1', '1', '1', '4', '2', '0', '2', '4', '1', '0', '3', '3', '2', '0', '1', '3', '4', '1', '1', '3', '3', '0', '3', '2', '1', '2', '1', '2', '3', '4', '3', '1', '2', '1', '1', '0', '3', '2', '0', '4', '0', '0', '3', '3', '0', '1', '0', '0', '1', '4', '0', '4', '2', '3', '1', '3', '1', '4', '4', '2', '1', '2', '0', '3', '2', '4', '1', '4', '3', '3', '4', '4', '0', '4', '2', '2', '1', '0', '1', '1', '2', '4', '4', '3', '4', '1', '2', '2', '1', '2', '2', '2', '0', '0', '0', '2', '1', '2', '2', '3', '3', '2', '2', '3', '0', '0', '4', '3', '4', '2', '1', '2', '0', '1', '1', '4', '4', '3', '2', '4', '0', '1', '3', '3', '3', '2', '1', '1', '2', '1', '0', '3', '2', '1', '3', '2', '2', '0', '0', '0', '3', '1', '3', '1', '0', '2', '3', '0', '0', '3', '2', '4', '0', '3', '3', '1', '2', '3', '2', '0', '1', '1', '3', '4', '0', '3', '2', '1', '2', '1', '1', '0', '2', '3', '0', '2', '4', '3', '4', '1', '4', '0', '0', '2', '0', '2', '1', '0', '2', '0', '3', '2', '2', '0', '2', '0', '1', '1', '2', '2', '0', '3', '0', '0', '4', '1', '1', '1', '3', '0', '4', '1', '0', '3', '3', '2', '2', '4', '1', '0', '1', '3', '3', '3', '1', '2', '0', '0', '4', '2', '3', '2', '0', '2', '3', '3', '3', '3', '0', '4', '4', '1', '0', '4', '1', '1', '2', '4', '0', '2', '0', '2', '1', '2', '3', '0', '0', '1', '1', '4', '3', '0', '3', '2', '0', '3', '3', '0', '1', '1', '3', '3', '2', '4', '1', '4', '2', '1', '3', '1', '4', '2', '3', '4', '2', '4', '2', '0', '2', '4', '1', '3', '4', '1', '1', '1', '2', '0', '3', '4', '0', '2', '1', '1', '0', '3', '0', '2', '4', '2', '1', '1', '4', '3', '3', '2', '0', '3', '2', '2', '0', '1', '2', '3', '1', '2', '0', '2', '3', '1', '2', '1', '0', '0', '4', '1', '3', '3', '3', '1', '1', '3', '2', '1', '1', '3', '3', '2', '3', '0', '4', '0', '0', '1', '0', '0', '0', '0', '3', '2', '0', '1', '0', '4', '2', '2', '1', '3', '3', '2', '0', '1', '4', '3', '4', '2', '2', '0', '4', '3', '4', '3', '4', '4', '1', '2', '4', '1', '2', '1', '1', '1', '0', '2', '0', '0', '1', '1', '2', '3', '0', '0', '3', '4', '3', '1', '1', '2', '1', '3', '2', '0', '0', '4', '0', '2', '3', '0', '4', '1', '2', '2', '1', '1', '3', '2', '3', '2', '1', '4', '1', '4', '3', '2', '0', '1', '4', '0', '0', '3', '4', '2', '2', '2', '0', '1', '2', '0', '1', '4', '1', '0', '1', '1', '0', '3', '2', '4', '2', '1', '2', '2', '2', '1', '0', '2', '2', '4', '0', '2', '2', '3', '2', '1', '2', '0', '1', '2', '3', '0', '4', '4', '2', '1', '1', '1', '0', '3', '4', '1', '1', '0', '3', '2', '2', '4', '0', '3', '0', '3', '3', '2', '0', '0', '1', '0', '2', '1', '2', '3', '2', '1', '4', '4', '2', '2', '4', '4', '2', '3', '2', '0', '0', '2', '1', '4', '3', '2', '2', '0', '3', '3', '2', '4', '3', '1', '0', '3', '2', '3', '0', '1', '3', '1', '3', '4', '0', '2', '0', '3', '2', '0', '0', '2', '1', '2', '2', '4', '4', '4', '1', '0', '3', '3', '4', '1', '3', '0', '4', '0', '3', '0', '1', '1', '0', '3', '1', '4', '2', '3', '1', '3', '1', '3', '0', '2', '0', '4', '1', '0', '4', '4', '1', '3', '4', '4', '2', '4', '1', '1', '1', '2', '1', '4', '3', '2', '4', '0', '3', '3', '4', '2', '4', '1', '0', '0', '1', '1', '3', '2', '2', '4', '1', '4', '3', '2', '1', '2', '1', '0', '3', '0', '0', '3', '4', '3', '2', '0', '4', '1', '3', '0', '3', '3', '4', '4', '2', '4', '0', '0', '1', '1', '0', '0', '1', '0', '0', '2', '1', '0', '0', '3', '2', '3', '4', '2', '3', '1', '3', '1', '0', '1', '3', '1', '1', '1', '1', '2', '1', '0', '0', '2', '3', '1', '1', '3', '2', '3', '1', '2', '4', '3', '3', '4', '4', '1', '4', '0', '1', '2', '0', '2', '4', '3', '1', '3', '1', '0', '0', '2', '1', '1', '3', '0', '1', '0', '3', '1', '2', '4', '1', '1', '1', '0', '0', '0', '3', '3', '1', '3', '1', '2', '0', '4', '3', '1', '0', '0', '1', '1', '1', '3', '1', '1', '0', '0', '4', '3', '3', '3', '0', '3', '1', '4', '2', '2', '1', '0', '0', '2', '1', '1', '3', '1', '3', '2', '2', '0']\n"
          ],
          "name": "stdout"
        }
      ]
    },
    {
      "cell_type": "code",
      "metadata": {
        "colab_type": "code",
        "id": "BgL1cmKS0Mpf",
        "colab": {}
      },
      "source": [
        "test6 = pd.DataFrame(list(zip(test['id'], Y_new6)), \n",
        "               columns = ['id', 'label'])\n",
        "test6\n",
        "test6.to_csv('test6.csv',index=False)"
      ],
      "execution_count": null,
      "outputs": []
    }
  ]
}