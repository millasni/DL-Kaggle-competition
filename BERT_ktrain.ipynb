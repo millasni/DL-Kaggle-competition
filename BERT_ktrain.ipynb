{
  "nbformat": 4,
  "nbformat_minor": 0,
  "metadata": {
    "colab": {
      "name": "BERT_ktrain.ipynb",
      "provenance": [],
      "collapsed_sections": [
        "yI7IVvxOXpHH",
        "GehGanr-XiQA"
      ],
      "toc_visible": true
    },
    "kernelspec": {
      "name": "python3",
      "display_name": "Python 3"
    },
    "accelerator": "GPU"
  },
  "cells": [
    {
      "cell_type": "markdown",
      "metadata": {
        "id": "YvZAktjeOidE",
        "colab_type": "text"
      },
      "source": [
        "Here I implemet BERT with ktrain library. However, accuracies here are lower than using Hugging Face transformers library (in a separate code file)."
      ]
    },
    {
      "cell_type": "code",
      "metadata": {
        "id": "KsKT0-OtDo19",
        "colab_type": "code",
        "colab": {
          "base_uri": "https://localhost:8080/",
          "height": 117
        },
        "outputId": "2ecfb739-aa4b-4fed-8efe-d7b9fe8493a3"
      },
      "source": [
        "# download the repo to get access to data\n",
        "!rm -rf DL-Kaggle-competition/\n",
        "!git clone https://github.com/millasni/DL-Kaggle-competition/"
      ],
      "execution_count": null,
      "outputs": [
        {
          "output_type": "stream",
          "text": [
            "Cloning into 'DL-Kaggle-competition'...\n",
            "remote: Enumerating objects: 25, done.\u001b[K\n",
            "remote: Counting objects: 100% (25/25), done.\u001b[K\n",
            "remote: Compressing objects: 100% (21/21), done.\u001b[K\n",
            "remote: Total 25 (delta 4), reused 23 (delta 2), pack-reused 0\u001b[K\n",
            "Unpacking objects: 100% (25/25), done.\n"
          ],
          "name": "stdout"
        }
      ]
    },
    {
      "cell_type": "code",
      "metadata": {
        "id": "huB7jevI0wiH",
        "colab_type": "code",
        "colab": {
          "base_uri": "https://localhost:8080/",
          "height": 33
        },
        "outputId": "791d264b-07c2-4b3d-c58e-c1a68a058583"
      },
      "source": [
        "from google.colab import drive\n",
        "drive.mount('/content/gdrive')"
      ],
      "execution_count": null,
      "outputs": [
        {
          "output_type": "stream",
          "text": [
            "Drive already mounted at /content/gdrive; to attempt to forcibly remount, call drive.mount(\"/content/gdrive\", force_remount=True).\n"
          ],
          "name": "stdout"
        }
      ]
    },
    {
      "cell_type": "code",
      "metadata": {
        "id": "2qyuC8oID0--",
        "colab_type": "code",
        "colab": {}
      },
      "source": [
        "!pip install tensorflow-gpu\n",
        "!pip install keras\n",
        "!pip3 install ktrain\n",
        "!pip3 install \"tensorflow_gpu>=2.1.0\""
      ],
      "execution_count": null,
      "outputs": []
    },
    {
      "cell_type": "code",
      "metadata": {
        "id": "HXYdZ9IagpF7",
        "colab_type": "code",
        "colab": {}
      },
      "source": [
        "import pandas as pd\n",
        "# import torch\n",
        "# import torch.nn as nn\n",
        "# import torch.nn.functional as F\n",
        "# import torch.optim as optim\n",
        "# import skorch\n",
        "import sklearn\n",
        "import numpy as np\n",
        "import matplotlib.pyplot as plt\n",
        "import random\n",
        "\n",
        "import tensorflow as tf\n",
        "from tensorflow.keras import backend as K # or from keras...?\n",
        "\n",
        "from tensorflow.keras.models import Sequential, load_model\n",
        "from tensorflow.keras.layers import Embedding, Dense, GRU, LSTM, Bidirectional,SpatialDropout1D,Concatenate\n",
        "from tensorflow.keras.layers import Conv1D,GlobalMaxPooling1D,MaxPooling1D,Dropout,Flatten,Activation\n",
        "from keras.utils.np_utils import to_categorical \n",
        "from keras.preprocessing.text import Tokenizer \n",
        "from keras.preprocessing.sequence import pad_sequences \n",
        "from keras import optimizers\n",
        "from keras.initializers import Constant\n",
        "from tensorflow.keras.callbacks import ModelCheckpoint,EarlyStopping\n",
        "\n",
        "import ktrain\n",
        "\n",
        "from sklearn.model_selection import train_test_split\n",
        "from sklearn.model_selection import StratifiedKFold\n",
        "from sklearn.metrics import confusion_matrix\n",
        "\n",
        "import os"
      ],
      "execution_count": null,
      "outputs": []
    },
    {
      "cell_type": "code",
      "metadata": {
        "id": "UXiv3Bcumuc4",
        "colab_type": "code",
        "colab": {}
      },
      "source": [
        "train = pd.read_csv('DL-Kaggle-competition/train.csv') \n",
        "test = pd.read_csv('DL-Kaggle-competition/test.csv') \n",
        "text = pd.read_csv('DL-Kaggle-competition/text.csv') \n",
        "reference = pd.read_csv('DL-Kaggle-competition/reference.csv') \n",
        "cross_ref = pd.read_csv('DL-Kaggle-competition/ref_in_out.csv') "
      ],
      "execution_count": null,
      "outputs": []
    },
    {
      "cell_type": "code",
      "metadata": {
        "id": "-TQ6A_0mbPfX",
        "colab_type": "code",
        "colab": {
          "base_uri": "https://localhost:8080/",
          "height": 197
        },
        "outputId": "85128eab-f029-472a-87cb-c3a7098b0b6b"
      },
      "source": [
        "train.head()"
      ],
      "execution_count": null,
      "outputs": [
        {
          "output_type": "execute_result",
          "data": {
            "text/html": [
              "<div>\n",
              "<style scoped>\n",
              "    .dataframe tbody tr th:only-of-type {\n",
              "        vertical-align: middle;\n",
              "    }\n",
              "\n",
              "    .dataframe tbody tr th {\n",
              "        vertical-align: top;\n",
              "    }\n",
              "\n",
              "    .dataframe thead th {\n",
              "        text-align: right;\n",
              "    }\n",
              "</style>\n",
              "<table border=\"1\" class=\"dataframe\">\n",
              "  <thead>\n",
              "    <tr style=\"text-align: right;\">\n",
              "      <th></th>\n",
              "      <th>id</th>\n",
              "      <th>label</th>\n",
              "    </tr>\n",
              "  </thead>\n",
              "  <tbody>\n",
              "    <tr>\n",
              "      <th>0</th>\n",
              "      <td>0</td>\n",
              "      <td>1</td>\n",
              "    </tr>\n",
              "    <tr>\n",
              "      <th>1</th>\n",
              "      <td>3</td>\n",
              "      <td>1</td>\n",
              "    </tr>\n",
              "    <tr>\n",
              "      <th>2</th>\n",
              "      <td>6</td>\n",
              "      <td>1</td>\n",
              "    </tr>\n",
              "    <tr>\n",
              "      <th>3</th>\n",
              "      <td>8</td>\n",
              "      <td>0</td>\n",
              "    </tr>\n",
              "    <tr>\n",
              "      <th>4</th>\n",
              "      <td>9</td>\n",
              "      <td>0</td>\n",
              "    </tr>\n",
              "  </tbody>\n",
              "</table>\n",
              "</div>"
            ],
            "text/plain": [
              "   id  label\n",
              "0   0      1\n",
              "1   3      1\n",
              "2   6      1\n",
              "3   8      0\n",
              "4   9      0"
            ]
          },
          "metadata": {
            "tags": []
          },
          "execution_count": 29
        }
      ]
    },
    {
      "cell_type": "markdown",
      "metadata": {
        "id": "HR-laMsksDcb",
        "colab_type": "text"
      },
      "source": [
        "## Data pre-processing"
      ]
    },
    {
      "cell_type": "code",
      "metadata": {
        "id": "aPZWNyVJhuvU",
        "colab_type": "code",
        "colab": {
          "base_uri": "https://localhost:8080/",
          "height": 117
        },
        "outputId": "04ac324a-8036-4d8a-ffcd-89584edaa918"
      },
      "source": [
        "# One-hot encode the classes in the train\n",
        "Y = to_categorical(train[['label']])\n",
        "print(Y.shape)\n",
        "print(Y[:5])"
      ],
      "execution_count": null,
      "outputs": [
        {
          "output_type": "stream",
          "text": [
            "(12779, 5)\n",
            "[[0. 1. 0. 0. 0.]\n",
            " [0. 1. 0. 0. 0.]\n",
            " [0. 1. 0. 0. 0.]\n",
            " [1. 0. 0. 0. 0.]\n",
            " [1. 0. 0. 0. 0.]]\n"
          ],
          "name": "stdout"
        }
      ]
    },
    {
      "cell_type": "code",
      "metadata": {
        "id": "Gjzj-tC9cjIk",
        "colab_type": "code",
        "colab": {
          "base_uri": "https://localhost:8080/",
          "height": 133
        },
        "outputId": "cf485235-8cff-42f0-ab84-fededca931c4"
      },
      "source": [
        "print(text.head())\n",
        "text.shape # we have twice as many lines in text than in train"
      ],
      "execution_count": null,
      "outputs": [
        {
          "output_type": "stream",
          "text": [
            "   id                                              title\n",
            "0   0  interactive visual exploration of neighbor bas...\n",
            "1   1  autodomainmine a graphical data mining system ...\n",
            "2   2  anipqo almost non intrusive parametric query o...\n",
            "3   3  relational division four algorithms and their ...\n",
            "4   4  selection and ranking of text from highly impe...\n"
          ],
          "name": "stdout"
        },
        {
          "output_type": "execute_result",
          "data": {
            "text/plain": [
              "(25561, 2)"
            ]
          },
          "metadata": {
            "tags": []
          },
          "execution_count": 31
        }
      ]
    },
    {
      "cell_type": "code",
      "metadata": {
        "id": "J5ZVLLiouozU",
        "colab_type": "code",
        "colab": {
          "base_uri": "https://localhost:8080/",
          "height": 647
        },
        "outputId": "0e2120d6-b441-4669-da5f-d986cc7d1930"
      },
      "source": [
        "train = train.join(text, how='left', on='id',  lsuffix='', rsuffix='text')\n",
        "train.head(20)"
      ],
      "execution_count": null,
      "outputs": [
        {
          "output_type": "execute_result",
          "data": {
            "text/html": [
              "<div>\n",
              "<style scoped>\n",
              "    .dataframe tbody tr th:only-of-type {\n",
              "        vertical-align: middle;\n",
              "    }\n",
              "\n",
              "    .dataframe tbody tr th {\n",
              "        vertical-align: top;\n",
              "    }\n",
              "\n",
              "    .dataframe thead th {\n",
              "        text-align: right;\n",
              "    }\n",
              "</style>\n",
              "<table border=\"1\" class=\"dataframe\">\n",
              "  <thead>\n",
              "    <tr style=\"text-align: right;\">\n",
              "      <th></th>\n",
              "      <th>id</th>\n",
              "      <th>label</th>\n",
              "      <th>idtext</th>\n",
              "      <th>title</th>\n",
              "    </tr>\n",
              "  </thead>\n",
              "  <tbody>\n",
              "    <tr>\n",
              "      <th>0</th>\n",
              "      <td>0</td>\n",
              "      <td>1</td>\n",
              "      <td>0</td>\n",
              "      <td>interactive visual exploration of neighbor bas...</td>\n",
              "    </tr>\n",
              "    <tr>\n",
              "      <th>1</th>\n",
              "      <td>3</td>\n",
              "      <td>1</td>\n",
              "      <td>3</td>\n",
              "      <td>relational division four algorithms and their ...</td>\n",
              "    </tr>\n",
              "    <tr>\n",
              "      <th>2</th>\n",
              "      <td>6</td>\n",
              "      <td>1</td>\n",
              "      <td>6</td>\n",
              "      <td>simplifying xml schema effortless handling of ...</td>\n",
              "    </tr>\n",
              "    <tr>\n",
              "      <th>3</th>\n",
              "      <td>8</td>\n",
              "      <td>0</td>\n",
              "      <td>8</td>\n",
              "      <td>funbase a function based information managemen...</td>\n",
              "    </tr>\n",
              "    <tr>\n",
              "      <th>4</th>\n",
              "      <td>9</td>\n",
              "      <td>0</td>\n",
              "      <td>9</td>\n",
              "      <td>inverted matrix efficient discovery of frequen...</td>\n",
              "    </tr>\n",
              "    <tr>\n",
              "      <th>5</th>\n",
              "      <td>11</td>\n",
              "      <td>2</td>\n",
              "      <td>11</td>\n",
              "      <td>computational aspects of covering in dominance...</td>\n",
              "    </tr>\n",
              "    <tr>\n",
              "      <th>6</th>\n",
              "      <td>13</td>\n",
              "      <td>4</td>\n",
              "      <td>13</td>\n",
              "      <td>feaspar   a feature structure parser learning ...</td>\n",
              "    </tr>\n",
              "    <tr>\n",
              "      <th>7</th>\n",
              "      <td>18</td>\n",
              "      <td>0</td>\n",
              "      <td>18</td>\n",
              "      <td>assessing the scenic route measuring the value...</td>\n",
              "    </tr>\n",
              "    <tr>\n",
              "      <th>8</th>\n",
              "      <td>20</td>\n",
              "      <td>0</td>\n",
              "      <td>20</td>\n",
              "      <td>webanywhere enabling a screen reading interfac...</td>\n",
              "    </tr>\n",
              "    <tr>\n",
              "      <th>9</th>\n",
              "      <td>24</td>\n",
              "      <td>2</td>\n",
              "      <td>24</td>\n",
              "      <td>non standard semantics for the method of tempo...</td>\n",
              "    </tr>\n",
              "    <tr>\n",
              "      <th>10</th>\n",
              "      <td>30</td>\n",
              "      <td>0</td>\n",
              "      <td>30</td>\n",
              "      <td>exsearch a novel vertical search engine for on...</td>\n",
              "    </tr>\n",
              "    <tr>\n",
              "      <th>11</th>\n",
              "      <td>31</td>\n",
              "      <td>2</td>\n",
              "      <td>31</td>\n",
              "      <td>query evaluation and progression in aol knowle...</td>\n",
              "    </tr>\n",
              "    <tr>\n",
              "      <th>12</th>\n",
              "      <td>32</td>\n",
              "      <td>3</td>\n",
              "      <td>32</td>\n",
              "      <td>cryptanalytic attacks on pseudorandom number g...</td>\n",
              "    </tr>\n",
              "    <tr>\n",
              "      <th>13</th>\n",
              "      <td>33</td>\n",
              "      <td>3</td>\n",
              "      <td>33</td>\n",
              "      <td>threshold concepts in computer science do they...</td>\n",
              "    </tr>\n",
              "    <tr>\n",
              "      <th>14</th>\n",
              "      <td>36</td>\n",
              "      <td>2</td>\n",
              "      <td>36</td>\n",
              "      <td>nonexistence of voting rules that are usually ...</td>\n",
              "    </tr>\n",
              "    <tr>\n",
              "      <th>15</th>\n",
              "      <td>38</td>\n",
              "      <td>3</td>\n",
              "      <td>38</td>\n",
              "      <td>using node merging to enhance graph coloring</td>\n",
              "    </tr>\n",
              "    <tr>\n",
              "      <th>16</th>\n",
              "      <td>40</td>\n",
              "      <td>0</td>\n",
              "      <td>40</td>\n",
              "      <td>combining classifiers in text categorization</td>\n",
              "    </tr>\n",
              "    <tr>\n",
              "      <th>17</th>\n",
              "      <td>41</td>\n",
              "      <td>1</td>\n",
              "      <td>41</td>\n",
              "      <td>theoretical and practical tools for data base ...</td>\n",
              "    </tr>\n",
              "    <tr>\n",
              "      <th>18</th>\n",
              "      <td>43</td>\n",
              "      <td>2</td>\n",
              "      <td>43</td>\n",
              "      <td>goal directed site independent recommendations...</td>\n",
              "    </tr>\n",
              "    <tr>\n",
              "      <th>19</th>\n",
              "      <td>44</td>\n",
              "      <td>2</td>\n",
              "      <td>44</td>\n",
              "      <td>towards modeling threaded discussions using in...</td>\n",
              "    </tr>\n",
              "  </tbody>\n",
              "</table>\n",
              "</div>"
            ],
            "text/plain": [
              "    id  label  idtext                                              title\n",
              "0    0      1       0  interactive visual exploration of neighbor bas...\n",
              "1    3      1       3  relational division four algorithms and their ...\n",
              "2    6      1       6  simplifying xml schema effortless handling of ...\n",
              "3    8      0       8  funbase a function based information managemen...\n",
              "4    9      0       9  inverted matrix efficient discovery of frequen...\n",
              "5   11      2      11  computational aspects of covering in dominance...\n",
              "6   13      4      13  feaspar   a feature structure parser learning ...\n",
              "7   18      0      18  assessing the scenic route measuring the value...\n",
              "8   20      0      20  webanywhere enabling a screen reading interfac...\n",
              "9   24      2      24  non standard semantics for the method of tempo...\n",
              "10  30      0      30  exsearch a novel vertical search engine for on...\n",
              "11  31      2      31  query evaluation and progression in aol knowle...\n",
              "12  32      3      32  cryptanalytic attacks on pseudorandom number g...\n",
              "13  33      3      33  threshold concepts in computer science do they...\n",
              "14  36      2      36  nonexistence of voting rules that are usually ...\n",
              "15  38      3      38       using node merging to enhance graph coloring\n",
              "16  40      0      40       combining classifiers in text categorization\n",
              "17  41      1      41  theoretical and practical tools for data base ...\n",
              "18  43      2      43  goal directed site independent recommendations...\n",
              "19  44      2      44  towards modeling threaded discussions using in..."
            ]
          },
          "metadata": {
            "tags": []
          },
          "execution_count": 32
        }
      ]
    },
    {
      "cell_type": "code",
      "metadata": {
        "id": "xx5b79UymZ0n",
        "colab_type": "code",
        "colab": {
          "base_uri": "https://localhost:8080/",
          "height": 367
        },
        "outputId": "b3b2681d-55ce-47c5-b910-9f90fd56d51a"
      },
      "source": [
        "train.title.values[:20]"
      ],
      "execution_count": null,
      "outputs": [
        {
          "output_type": "execute_result",
          "data": {
            "text/plain": [
              "array(['interactive visual exploration of neighbor based patterns in data streams',\n",
              "       'relational division four algorithms and their performance',\n",
              "       'simplifying xml schema effortless handling of nondeterministic regular expressions',\n",
              "       'funbase a function based information management system',\n",
              "       'inverted matrix efficient discovery of frequent items in large datasets in the context of interactive mining',\n",
              "       'computational aspects of covering in dominance graphs',\n",
              "       'feaspar   a feature structure parser learning to parse spoken language',\n",
              "       'assessing the scenic route measuring the value of search trails in web logs',\n",
              "       'webanywhere enabling a screen reading interface for the web on any computer',\n",
              "       'non standard semantics for the method of temporal arguments',\n",
              "       'exsearch a novel vertical search engine for online barter business',\n",
              "       'query evaluation and progression in aol knowledge bases',\n",
              "       'cryptanalytic attacks on pseudorandom number generators',\n",
              "       'threshold concepts in computer science do they exist and are they useful',\n",
              "       'nonexistence of voting rules that are usually hard to manipulate',\n",
              "       'using node merging to enhance graph coloring',\n",
              "       'combining classifiers in text categorization',\n",
              "       'theoretical and practical tools for data base design',\n",
              "       'goal directed site independent recommendations from passive observations',\n",
              "       'towards modeling threaded discussions using induced ontology knowledge'],\n",
              "      dtype=object)"
            ]
          },
          "metadata": {
            "tags": []
          },
          "execution_count": 33
        }
      ]
    },
    {
      "cell_type": "code",
      "metadata": {
        "id": "t6xJXgRQy2fj",
        "colab_type": "code",
        "colab": {
          "base_uri": "https://localhost:8080/",
          "height": 197
        },
        "outputId": "32b0d6db-a973-4e7e-d506-9088a28fab5a"
      },
      "source": [
        "train = train[['id','label','title']]\n",
        "train.head()"
      ],
      "execution_count": null,
      "outputs": [
        {
          "output_type": "execute_result",
          "data": {
            "text/html": [
              "<div>\n",
              "<style scoped>\n",
              "    .dataframe tbody tr th:only-of-type {\n",
              "        vertical-align: middle;\n",
              "    }\n",
              "\n",
              "    .dataframe tbody tr th {\n",
              "        vertical-align: top;\n",
              "    }\n",
              "\n",
              "    .dataframe thead th {\n",
              "        text-align: right;\n",
              "    }\n",
              "</style>\n",
              "<table border=\"1\" class=\"dataframe\">\n",
              "  <thead>\n",
              "    <tr style=\"text-align: right;\">\n",
              "      <th></th>\n",
              "      <th>id</th>\n",
              "      <th>label</th>\n",
              "      <th>title</th>\n",
              "    </tr>\n",
              "  </thead>\n",
              "  <tbody>\n",
              "    <tr>\n",
              "      <th>0</th>\n",
              "      <td>0</td>\n",
              "      <td>1</td>\n",
              "      <td>interactive visual exploration of neighbor bas...</td>\n",
              "    </tr>\n",
              "    <tr>\n",
              "      <th>1</th>\n",
              "      <td>3</td>\n",
              "      <td>1</td>\n",
              "      <td>relational division four algorithms and their ...</td>\n",
              "    </tr>\n",
              "    <tr>\n",
              "      <th>2</th>\n",
              "      <td>6</td>\n",
              "      <td>1</td>\n",
              "      <td>simplifying xml schema effortless handling of ...</td>\n",
              "    </tr>\n",
              "    <tr>\n",
              "      <th>3</th>\n",
              "      <td>8</td>\n",
              "      <td>0</td>\n",
              "      <td>funbase a function based information managemen...</td>\n",
              "    </tr>\n",
              "    <tr>\n",
              "      <th>4</th>\n",
              "      <td>9</td>\n",
              "      <td>0</td>\n",
              "      <td>inverted matrix efficient discovery of frequen...</td>\n",
              "    </tr>\n",
              "  </tbody>\n",
              "</table>\n",
              "</div>"
            ],
            "text/plain": [
              "   id  label                                              title\n",
              "0   0      1  interactive visual exploration of neighbor bas...\n",
              "1   3      1  relational division four algorithms and their ...\n",
              "2   6      1  simplifying xml schema effortless handling of ...\n",
              "3   8      0  funbase a function based information managemen...\n",
              "4   9      0  inverted matrix efficient discovery of frequen..."
            ]
          },
          "metadata": {
            "tags": []
          },
          "execution_count": 34
        }
      ]
    },
    {
      "cell_type": "code",
      "metadata": {
        "id": "OLRaDZ3ExQv-",
        "colab_type": "code",
        "colab": {
          "base_uri": "https://localhost:8080/",
          "height": 197
        },
        "outputId": "35c2eb4a-90ef-4d38-ddb4-ebfa4ab0b358"
      },
      "source": [
        "test = test.join(text, how='left', on='id',  lsuffix='', rsuffix='text')\n",
        "test.head()"
      ],
      "execution_count": null,
      "outputs": [
        {
          "output_type": "execute_result",
          "data": {
            "text/html": [
              "<div>\n",
              "<style scoped>\n",
              "    .dataframe tbody tr th:only-of-type {\n",
              "        vertical-align: middle;\n",
              "    }\n",
              "\n",
              "    .dataframe tbody tr th {\n",
              "        vertical-align: top;\n",
              "    }\n",
              "\n",
              "    .dataframe thead th {\n",
              "        text-align: right;\n",
              "    }\n",
              "</style>\n",
              "<table border=\"1\" class=\"dataframe\">\n",
              "  <thead>\n",
              "    <tr style=\"text-align: right;\">\n",
              "      <th></th>\n",
              "      <th>id</th>\n",
              "      <th>idtext</th>\n",
              "      <th>title</th>\n",
              "    </tr>\n",
              "  </thead>\n",
              "  <tbody>\n",
              "    <tr>\n",
              "      <th>0</th>\n",
              "      <td>1</td>\n",
              "      <td>1</td>\n",
              "      <td>autodomainmine a graphical data mining system ...</td>\n",
              "    </tr>\n",
              "    <tr>\n",
              "      <th>1</th>\n",
              "      <td>2</td>\n",
              "      <td>2</td>\n",
              "      <td>anipqo almost non intrusive parametric query o...</td>\n",
              "    </tr>\n",
              "    <tr>\n",
              "      <th>2</th>\n",
              "      <td>4</td>\n",
              "      <td>4</td>\n",
              "      <td>selection and ranking of text from highly impe...</td>\n",
              "    </tr>\n",
              "    <tr>\n",
              "      <th>3</th>\n",
              "      <td>5</td>\n",
              "      <td>5</td>\n",
              "      <td>conditional random fields for multi agent rein...</td>\n",
              "    </tr>\n",
              "    <tr>\n",
              "      <th>4</th>\n",
              "      <td>7</td>\n",
              "      <td>7</td>\n",
              "      <td>multi dimensional description logics</td>\n",
              "    </tr>\n",
              "  </tbody>\n",
              "</table>\n",
              "</div>"
            ],
            "text/plain": [
              "   id  idtext                                              title\n",
              "0   1       1  autodomainmine a graphical data mining system ...\n",
              "1   2       2  anipqo almost non intrusive parametric query o...\n",
              "2   4       4  selection and ranking of text from highly impe...\n",
              "3   5       5  conditional random fields for multi agent rein...\n",
              "4   7       7               multi dimensional description logics"
            ]
          },
          "metadata": {
            "tags": []
          },
          "execution_count": 35
        }
      ]
    },
    {
      "cell_type": "code",
      "metadata": {
        "id": "fE-MQ_oozDq1",
        "colab_type": "code",
        "colab": {
          "base_uri": "https://localhost:8080/",
          "height": 197
        },
        "outputId": "b9015355-a919-4f81-f8d6-087535034147"
      },
      "source": [
        "test = test[['id','title']]\n",
        "test.head()"
      ],
      "execution_count": null,
      "outputs": [
        {
          "output_type": "execute_result",
          "data": {
            "text/html": [
              "<div>\n",
              "<style scoped>\n",
              "    .dataframe tbody tr th:only-of-type {\n",
              "        vertical-align: middle;\n",
              "    }\n",
              "\n",
              "    .dataframe tbody tr th {\n",
              "        vertical-align: top;\n",
              "    }\n",
              "\n",
              "    .dataframe thead th {\n",
              "        text-align: right;\n",
              "    }\n",
              "</style>\n",
              "<table border=\"1\" class=\"dataframe\">\n",
              "  <thead>\n",
              "    <tr style=\"text-align: right;\">\n",
              "      <th></th>\n",
              "      <th>id</th>\n",
              "      <th>title</th>\n",
              "    </tr>\n",
              "  </thead>\n",
              "  <tbody>\n",
              "    <tr>\n",
              "      <th>0</th>\n",
              "      <td>1</td>\n",
              "      <td>autodomainmine a graphical data mining system ...</td>\n",
              "    </tr>\n",
              "    <tr>\n",
              "      <th>1</th>\n",
              "      <td>2</td>\n",
              "      <td>anipqo almost non intrusive parametric query o...</td>\n",
              "    </tr>\n",
              "    <tr>\n",
              "      <th>2</th>\n",
              "      <td>4</td>\n",
              "      <td>selection and ranking of text from highly impe...</td>\n",
              "    </tr>\n",
              "    <tr>\n",
              "      <th>3</th>\n",
              "      <td>5</td>\n",
              "      <td>conditional random fields for multi agent rein...</td>\n",
              "    </tr>\n",
              "    <tr>\n",
              "      <th>4</th>\n",
              "      <td>7</td>\n",
              "      <td>multi dimensional description logics</td>\n",
              "    </tr>\n",
              "  </tbody>\n",
              "</table>\n",
              "</div>"
            ],
            "text/plain": [
              "   id                                              title\n",
              "0   1  autodomainmine a graphical data mining system ...\n",
              "1   2  anipqo almost non intrusive parametric query o...\n",
              "2   4  selection and ranking of text from highly impe...\n",
              "3   5  conditional random fields for multi agent rein...\n",
              "4   7               multi dimensional description logics"
            ]
          },
          "metadata": {
            "tags": []
          },
          "execution_count": 36
        }
      ]
    },
    {
      "cell_type": "code",
      "metadata": {
        "id": "srmaulRH8VOL",
        "colab_type": "code",
        "colab": {
          "base_uri": "https://localhost:8080/",
          "height": 318
        },
        "outputId": "f9eb8aba-e3e3-4438-9fe5-a28ef90becb7"
      },
      "source": [
        "# tokenize train data on the whole TEXT (train+test) to see the max sent_len - - for exploration only\n",
        "tokenizer = Tokenizer()\n",
        "tokenizer.fit_on_texts(text.title)\n",
        "t = tokenizer.texts_to_sequences(text.title)\n",
        "print(t[:10])\n",
        "print(len(max(t, key=len)))\n",
        "sent_len = []\n",
        "for i in t:\n",
        "  sent_len.append(len(i))\n",
        "\n",
        "plt.hist(sent_len,bins=28)\n",
        "plt.show()"
      ],
      "execution_count": null,
      "outputs": [
        {
          "output_type": "stream",
          "text": [
            "[[123, 239, 421, 2, 766, 9, 133, 5, 8, 176], [6586, 3, 407, 8, 35, 16, 1, 120, 75], [6587, 1896, 114, 3491, 859, 23, 75, 1, 1002, 244, 264], [49, 2612, 1299, 58, 4, 428, 57], [94, 4, 126, 2, 34, 24, 618, 1436, 3492, 1, 27, 2, 441, 170], [393, 265, 638, 1, 44, 225, 327, 14], [2432, 56, 210, 6588, 530, 2, 2142, 980, 476], [44, 200, 323, 515], [6589, 3, 346, 9, 17, 46, 16], [924, 568, 30, 156, 2, 484, 1626, 5, 45, 662, 5, 6, 106, 2, 123, 35]]\n",
            "28\n"
          ],
          "name": "stdout"
        },
        {
          "output_type": "display_data",
          "data": {
            "image/png": "[encoded data removed]",
            "text/plain": [
              "<Figure size 432x288 with 1 Axes>"
            ]
          },
          "metadata": {
            "tags": [],
            "needs_background": "light"
          }
        }
      ]
    },
    {
      "cell_type": "code",
      "metadata": {
        "id": "VDcaxRln0Wni",
        "colab_type": "code",
        "colab": {}
      },
      "source": [
        "# tokenize train data (on the whole set of labeled data)\n",
        "tokenizer = Tokenizer()\n",
        "tokenizer.fit_on_texts(train.title)\n",
        "X = tokenizer.texts_to_sequences(train.title)\n",
        "print(X[:10])\n",
        "X = pad_sequences(X, maxlen=20)\n",
        "X[:10]\n",
        "word_index = tokenizer.word_index\n",
        "print('Found %s unique tokens.' % len(word_index))\n",
        "print(word_index)"
      ],
      "execution_count": null,
      "outputs": []
    },
    {
      "cell_type": "code",
      "metadata": {
        "id": "helbdUizF2un",
        "colab_type": "code",
        "colab": {
          "base_uri": "https://localhost:8080/",
          "height": 467
        },
        "outputId": "ae0f7566-87b1-4af2-db9e-dc4ffefafc03"
      },
      "source": [
        "X_train, X_test, Y_train, Y_test = train_test_split(X, Y, test_size=0.2, random_state=1234, shuffle=False)\n",
        "print(X_train[:5])\n",
        "print(X_test[:5])\n",
        "X_train"
      ],
      "execution_count": null,
      "outputs": [
        {
          "output_type": "stream",
          "text": [
            "[[   0    0    0    0    0    0    0    0    0    0  132  247  402    2\n",
            "   834    9  126    5    8  161]\n",
            " [   0    0    0    0    0    0    0    0    0    0    0    0    0   44\n",
            "  2099 1325   61    4  415   58]\n",
            " [   0    0    0    0    0    0    0    0    0    0    0 1865   63  213\n",
            "  4596  478    2 1866 1444  622]\n",
            " [   0    0    0    0    0    0    0    0    0    0    0    0    0 4597\n",
            "     3  262    9   18   51   15]\n",
            " [   0    0    0    0 1038  531   30  214    2  429 1228    5   45  545\n",
            "     5    6  122    2  132   32]]\n",
            "[[   0    0    0    0    0    0    0    0    0    0    0    0   69  233\n",
            "   149   12 1242   96 1598   34]\n",
            " [   0    0    0    0    0    0    0    0    0    0    0    0   28   68\n",
            "     1   38   78    6   41  232]\n",
            " [   0    0    0    0    0    0    0    0    0    0    0 2704 1915   61\n",
            "     1 8428 2531    4 1686  173]\n",
            " [   0    0    0    0    0    0    0    0    0    0    0    0   13   44\n",
            "  1062    7   65  865  250  112]\n",
            " [   0    0    0    0    0    0    0    0    0    0    0    0  890 1654\n",
            "  3327 1058    5   54  475   41]]\n"
          ],
          "name": "stdout"
        },
        {
          "output_type": "execute_result",
          "data": {
            "text/plain": [
              "array([[   0,    0,    0, ...,    5,    8,  161],\n",
              "       [   0,    0,    0, ...,    4,  415,   58],\n",
              "       [   0,    0,    0, ..., 1866, 1444,  622],\n",
              "       ...,\n",
              "       [   0,    0,    0, ...,  168,  166,  709],\n",
              "       [   0,    0,    0, ...,  105,   27,  212],\n",
              "       [   0,    0,    0, ...,  131,   61,  134]], dtype=int32)"
            ]
          },
          "metadata": {
            "tags": []
          },
          "execution_count": 39
        }
      ]
    },
    {
      "cell_type": "code",
      "metadata": {
        "id": "S-e50l29Hg3p",
        "colab_type": "code",
        "colab": {
          "base_uri": "https://localhost:8080/",
          "height": 183
        },
        "outputId": "ef3341b9-0f55-457f-b1ff-5375bf31dcdd"
      },
      "source": [
        "print(Y_train[:5])\n",
        "print(Y_test[:5])"
      ],
      "execution_count": null,
      "outputs": [
        {
          "output_type": "stream",
          "text": [
            "[[0. 1. 0. 0. 0.]\n",
            " [0. 1. 0. 0. 0.]\n",
            " [0. 1. 0. 0. 0.]\n",
            " [1. 0. 0. 0. 0.]\n",
            " [1. 0. 0. 0. 0.]]\n",
            "[[0. 0. 0. 0. 1.]\n",
            " [0. 0. 0. 1. 0.]\n",
            " [0. 0. 1. 0. 0.]\n",
            " [0. 0. 1. 0. 0.]\n",
            " [0. 0. 1. 0. 0.]]\n"
          ],
          "name": "stdout"
        }
      ]
    },
    {
      "cell_type": "code",
      "metadata": {
        "colab_type": "code",
        "id": "tVCkJNtr1kUq",
        "colab": {
          "base_uri": "https://localhost:8080/",
          "height": 367
        },
        "outputId": "1ca3cee4-b9f7-4eee-a940-3f9fd23fb35a"
      },
      "source": [
        "# tokenize new data for Kaggle upload\n",
        "X_new = tokenizer.texts_to_sequences(test.title)\n",
        "X_new = pad_sequences(X_new, maxlen=20)\n",
        "X_new[:10]"
      ],
      "execution_count": null,
      "outputs": [
        {
          "output_type": "execute_result",
          "data": {
            "text/plain": [
              "array([[   0,    0,    0,    0,    0,    0,    0,    0,    0,    0,    0,\n",
              "           0,    3,  482,    8,   32,   15,    1,  117,   66],\n",
              "       [   0,    0,    0,    0,    0,    0,    0,    0,    0,    0,    0,\n",
              "        1591,  130,  758,   20,   66,    1, 1407,  295,  307],\n",
              "       [   0,    0,    0,    0,    0,    0,   95,    4,  120,    2,   35,\n",
              "          21,  693, 2005, 6187,    1,   24,    2,  463,  166],\n",
              "       [   0,    0,    0,    0,    0,    0,    0,    0,    0,    0,    0,\n",
              "           0,  378,  229,  793,    1,   47,  278,  399,   14],\n",
              "       [   0,    0,    0,    0,    0,    0,    0,    0,    0,    0,    0,\n",
              "           0,    0,    0,    0,    0,   47,  202,  302,  519],\n",
              "       [   0,    0,    0,    0,    0,    0,    0,    0,    0,    0,    0,\n",
              "           0,  107,   10,  320,  284,  285,   33,  929,  593],\n",
              "       [   0,    0,    0,    0,    0,    0,    0,    0,    0,    0,    0,\n",
              "           0,    0,    0,    0,    0,    0,   76,  299, 8308],\n",
              "       [   0,    0,    0,    0,    0,    0,    0,    0,    0,    0,    0,\n",
              "           0,    0, 1923,  287, 5096,   33, 1457, 1855,  189],\n",
              "       [   0,    0,    0,    0,    0,    0,    0,    0,    0,    0,    3,\n",
              "         107,    4, 4608,  148,   53,    1,  305,  216,   25],\n",
              "       [   0,    0,    0,    0,    0,    0,    0,    0,    0,    0,    0,\n",
              "           0,    0,  378,  159,  620,  377, 1261,    4,  206]],\n",
              "      dtype=int32)"
            ]
          },
          "metadata": {
            "tags": []
          },
          "execution_count": 41
        }
      ]
    },
    {
      "cell_type": "code",
      "metadata": {
        "id": "aBsJGIy4xH9N",
        "colab_type": "code",
        "colab": {
          "base_uri": "https://localhost:8080/",
          "height": 33
        },
        "outputId": "6a757d9b-4efc-44dc-adaa-074ccd223e7f"
      },
      "source": [
        "# dict_len = max(max(X_train)) # for only X_train tokenized\n",
        "dict_len = np.amax(X)\n",
        "print(dict_len)"
      ],
      "execution_count": null,
      "outputs": [
        {
          "output_type": "stream",
          "text": [
            "9321\n"
          ],
          "name": "stdout"
        }
      ]
    },
    {
      "cell_type": "markdown",
      "metadata": {
        "id": "DsTH-Q4o76_S",
        "colab_type": "text"
      },
      "source": [
        "#### Concatenating references titles\n",
        "\n",
        "*  ref_to concatenates titles of all references pointing towards a given title\n",
        "*  ref_from concatenates titles of all references to which a given title refers"
      ]
    },
    {
      "cell_type": "code",
      "metadata": {
        "id": "5PJTOY1A7_2T",
        "colab_type": "code",
        "colab": {
          "base_uri": "https://localhost:8080/",
          "height": 197
        },
        "outputId": "cd4f207a-d9b0-49f3-e5f3-d613d17bb330"
      },
      "source": [
        "cross_ref.head()"
      ],
      "execution_count": null,
      "outputs": [
        {
          "output_type": "execute_result",
          "data": {
            "text/html": [
              "<div>\n",
              "<style scoped>\n",
              "    .dataframe tbody tr th:only-of-type {\n",
              "        vertical-align: middle;\n",
              "    }\n",
              "\n",
              "    .dataframe tbody tr th {\n",
              "        vertical-align: top;\n",
              "    }\n",
              "\n",
              "    .dataframe thead th {\n",
              "        text-align: right;\n",
              "    }\n",
              "</style>\n",
              "<table border=\"1\" class=\"dataframe\">\n",
              "  <thead>\n",
              "    <tr style=\"text-align: right;\">\n",
              "      <th></th>\n",
              "      <th>Unnamed: 0</th>\n",
              "      <th>id</th>\n",
              "      <th>label</th>\n",
              "      <th>ref_to</th>\n",
              "      <th>ref_from</th>\n",
              "    </tr>\n",
              "  </thead>\n",
              "  <tbody>\n",
              "    <tr>\n",
              "      <th>0</th>\n",
              "      <td>1</td>\n",
              "      <td>0</td>\n",
              "      <td>1.0</td>\n",
              "      <td>a framework for clustering evolving data strea...</td>\n",
              "      <td>NaN</td>\n",
              "    </tr>\n",
              "    <tr>\n",
              "      <th>1</th>\n",
              "      <td>2</td>\n",
              "      <td>3</td>\n",
              "      <td>1.0</td>\n",
              "      <td>implementation techniques for main memory data...</td>\n",
              "      <td>providing better support for a class of decisi...</td>\n",
              "    </tr>\n",
              "    <tr>\n",
              "      <th>2</th>\n",
              "      <td>3</td>\n",
              "      <td>6</td>\n",
              "      <td>1.0</td>\n",
              "      <td>statix making xml count answering xml queries ...</td>\n",
              "      <td>NaN</td>\n",
              "    </tr>\n",
              "    <tr>\n",
              "      <th>3</th>\n",
              "      <td>4</td>\n",
              "      <td>8</td>\n",
              "      <td>0.0</td>\n",
              "      <td>temporal databases   status and research direc...</td>\n",
              "      <td>NaN</td>\n",
              "    </tr>\n",
              "    <tr>\n",
              "      <th>4</th>\n",
              "      <td>5</td>\n",
              "      <td>9</td>\n",
              "      <td>0.0</td>\n",
              "      <td>dynamic itemset counting and implication rules...</td>\n",
              "      <td>pattern lattice traversal by selective jumps</td>\n",
              "    </tr>\n",
              "  </tbody>\n",
              "</table>\n",
              "</div>"
            ],
            "text/plain": [
              "   Unnamed: 0  ...                                           ref_from\n",
              "0           1  ...                                                NaN\n",
              "1           2  ...  providing better support for a class of decisi...\n",
              "2           3  ...                                                NaN\n",
              "3           4  ...                                                NaN\n",
              "4           5  ...       pattern lattice traversal by selective jumps\n",
              "\n",
              "[5 rows x 5 columns]"
            ]
          },
          "metadata": {
            "tags": []
          },
          "execution_count": 43
        }
      ]
    },
    {
      "cell_type": "code",
      "metadata": {
        "id": "032W2aiSKS03",
        "colab_type": "code",
        "colab": {}
      },
      "source": [
        "cross_ref2 = cross_ref.fillna(\"noref\")"
      ],
      "execution_count": null,
      "outputs": []
    },
    {
      "cell_type": "code",
      "metadata": {
        "id": "ivQiNumS93aq",
        "colab_type": "code",
        "colab": {
          "base_uri": "https://localhost:8080/",
          "height": 514
        },
        "outputId": "d5751758-579c-4a4f-d313-6084f17c5d59"
      },
      "source": [
        "train3 = train.join(cross_ref2.set_index('id'), how = 'left', on=\"id\", rsuffix=\"cross\")\n",
        "train3.head(10)"
      ],
      "execution_count": null,
      "outputs": [
        {
          "output_type": "execute_result",
          "data": {
            "text/html": [
              "<div>\n",
              "<style scoped>\n",
              "    .dataframe tbody tr th:only-of-type {\n",
              "        vertical-align: middle;\n",
              "    }\n",
              "\n",
              "    .dataframe tbody tr th {\n",
              "        vertical-align: top;\n",
              "    }\n",
              "\n",
              "    .dataframe thead th {\n",
              "        text-align: right;\n",
              "    }\n",
              "</style>\n",
              "<table border=\"1\" class=\"dataframe\">\n",
              "  <thead>\n",
              "    <tr style=\"text-align: right;\">\n",
              "      <th></th>\n",
              "      <th>id</th>\n",
              "      <th>label</th>\n",
              "      <th>title</th>\n",
              "      <th>Unnamed: 0</th>\n",
              "      <th>labelcross</th>\n",
              "      <th>ref_to</th>\n",
              "      <th>ref_from</th>\n",
              "    </tr>\n",
              "  </thead>\n",
              "  <tbody>\n",
              "    <tr>\n",
              "      <th>0</th>\n",
              "      <td>0</td>\n",
              "      <td>1</td>\n",
              "      <td>interactive visual exploration of neighbor bas...</td>\n",
              "      <td>1</td>\n",
              "      <td>1</td>\n",
              "      <td>a framework for clustering evolving data strea...</td>\n",
              "      <td>noref</td>\n",
              "    </tr>\n",
              "    <tr>\n",
              "      <th>1</th>\n",
              "      <td>3</td>\n",
              "      <td>1</td>\n",
              "      <td>relational division four algorithms and their ...</td>\n",
              "      <td>2</td>\n",
              "      <td>1</td>\n",
              "      <td>implementation techniques for main memory data...</td>\n",
              "      <td>providing better support for a class of decisi...</td>\n",
              "    </tr>\n",
              "    <tr>\n",
              "      <th>2</th>\n",
              "      <td>6</td>\n",
              "      <td>1</td>\n",
              "      <td>simplifying xml schema effortless handling of ...</td>\n",
              "      <td>3</td>\n",
              "      <td>1</td>\n",
              "      <td>statix making xml count answering xml queries ...</td>\n",
              "      <td>noref</td>\n",
              "    </tr>\n",
              "    <tr>\n",
              "      <th>3</th>\n",
              "      <td>8</td>\n",
              "      <td>0</td>\n",
              "      <td>funbase a function based information managemen...</td>\n",
              "      <td>4</td>\n",
              "      <td>0</td>\n",
              "      <td>temporal databases   status and research direc...</td>\n",
              "      <td>noref</td>\n",
              "    </tr>\n",
              "    <tr>\n",
              "      <th>4</th>\n",
              "      <td>9</td>\n",
              "      <td>0</td>\n",
              "      <td>inverted matrix efficient discovery of frequen...</td>\n",
              "      <td>5</td>\n",
              "      <td>0</td>\n",
              "      <td>dynamic itemset counting and implication rules...</td>\n",
              "      <td>pattern lattice traversal by selective jumps</td>\n",
              "    </tr>\n",
              "    <tr>\n",
              "      <th>5</th>\n",
              "      <td>11</td>\n",
              "      <td>2</td>\n",
              "      <td>computational aspects of covering in dominance...</td>\n",
              "      <td>6</td>\n",
              "      <td>2</td>\n",
              "      <td>noref</td>\n",
              "      <td>noref</td>\n",
              "    </tr>\n",
              "    <tr>\n",
              "      <th>6</th>\n",
              "      <td>13</td>\n",
              "      <td>4</td>\n",
              "      <td>feaspar   a feature structure parser learning ...</td>\n",
              "      <td>7</td>\n",
              "      <td>4</td>\n",
              "      <td>gemini a natural language system for spoken la...</td>\n",
              "      <td>noref</td>\n",
              "    </tr>\n",
              "    <tr>\n",
              "      <th>7</th>\n",
              "      <td>18</td>\n",
              "      <td>0</td>\n",
              "      <td>assessing the scenic route measuring the value...</td>\n",
              "      <td>8</td>\n",
              "      <td>0</td>\n",
              "      <td>noref</td>\n",
              "      <td>noref</td>\n",
              "    </tr>\n",
              "    <tr>\n",
              "      <th>8</th>\n",
              "      <td>20</td>\n",
              "      <td>0</td>\n",
              "      <td>webanywhere enabling a screen reading interfac...</td>\n",
              "      <td>9</td>\n",
              "      <td>0</td>\n",
              "      <td>knowing the users every move user activity tra...</td>\n",
              "      <td>noref</td>\n",
              "    </tr>\n",
              "    <tr>\n",
              "      <th>9</th>\n",
              "      <td>24</td>\n",
              "      <td>2</td>\n",
              "      <td>non standard semantics for the method of tempo...</td>\n",
              "      <td>10</td>\n",
              "      <td>2</td>\n",
              "      <td>towards an implementation of database manageme...</td>\n",
              "      <td>generalized events in temporal databases</td>\n",
              "    </tr>\n",
              "  </tbody>\n",
              "</table>\n",
              "</div>"
            ],
            "text/plain": [
              "   id  ...                                           ref_from\n",
              "0   0  ...                                              noref\n",
              "1   3  ...  providing better support for a class of decisi...\n",
              "2   6  ...                                              noref\n",
              "3   8  ...                                              noref\n",
              "4   9  ...       pattern lattice traversal by selective jumps\n",
              "5  11  ...                                              noref\n",
              "6  13  ...                                              noref\n",
              "7  18  ...                                              noref\n",
              "8  20  ...                                              noref\n",
              "9  24  ...           generalized events in temporal databases\n",
              "\n",
              "[10 rows x 7 columns]"
            ]
          },
          "metadata": {
            "tags": []
          },
          "execution_count": 45
        }
      ]
    },
    {
      "cell_type": "code",
      "metadata": {
        "id": "C0WdemAVZSYv",
        "colab_type": "code",
        "colab": {}
      },
      "source": [
        "train3[\"merged\"] = train3[\"title\"] +\" \"+ train3[\"ref_to\"] +\" \"+ train3[\"ref_from\"]"
      ],
      "execution_count": null,
      "outputs": []
    },
    {
      "cell_type": "code",
      "metadata": {
        "id": "S-oiWvV__k9J",
        "colab_type": "code",
        "colab": {}
      },
      "source": [
        "test3 = test.join(cross_ref2.set_index('id'), how = 'left', on=\"id\", rsuffix=\"cross\")"
      ],
      "execution_count": null,
      "outputs": []
    },
    {
      "cell_type": "code",
      "metadata": {
        "id": "fhRD7UBhVdFG",
        "colab_type": "code",
        "colab": {}
      },
      "source": [
        "test3[\"merged\"] = test3[\"title\"] +\" \"+ test3[\"ref_to\"] +\" \"+ test3[\"ref_from\"]"
      ],
      "execution_count": null,
      "outputs": []
    },
    {
      "cell_type": "code",
      "metadata": {
        "colab_type": "code",
        "id": "GIS1GRPNPqcv",
        "colab": {}
      },
      "source": [
        "# # MAKE A SECOND DATA SPLIT\n",
        "# X_train_, X_test_, Y_train_, Y_test_ = train_test_split(X, Y, test_size=0.2, random_state=245, shuffle=True)\n",
        "# X_to_train_, X_to_test_, X_from_train_, X_from_test_ = train_test_split(X_to,X_from, test_size=0.2, random_state=245, shuffle=True)\n",
        "# X_merged_train_, X_merged_test_ = train_test_split(X_merged, test_size=0.2, random_state=245, shuffle=True)"
      ],
      "execution_count": null,
      "outputs": []
    },
    {
      "cell_type": "markdown",
      "metadata": {
        "id": "O--othcolipK",
        "colab_type": "text"
      },
      "source": [
        "### Making results reproducible with keras - not sure it works here...\n",
        "\n",
        "Will repeat this setting seed exercise before each model run."
      ]
    },
    {
      "cell_type": "code",
      "metadata": {
        "id": "NHKjEiuTU19z",
        "colab_type": "code",
        "colab": {}
      },
      "source": [
        "# from https://keras.io/getting-started/faq/#how-can-i-obtain-reproducible-results-using-keras-during-development\n",
        "# I replaced tf.set_random_seed with tf.compat.v1.set_random_seed (the former did not work)\n",
        "# the same change in tf.compat.v1.ConfigProto\n",
        "np.random.seed(42)\n",
        "random.seed(12345)\n",
        "\n",
        "# Force TensorFlow to use single thread.\n",
        "session_conf = tf.compat.v1.ConfigProto(intra_op_parallelism_threads=1,\n",
        "                              inter_op_parallelism_threads=1)\n",
        "\n",
        "tf.compat.v1.set_random_seed(1234)"
      ],
      "execution_count": null,
      "outputs": []
    },
    {
      "cell_type": "markdown",
      "metadata": {
        "id": "Ztg0u_bYpiPx",
        "colab_type": "text"
      },
      "source": [
        "## Using ktrain on titles only"
      ]
    },
    {
      "cell_type": "code",
      "metadata": {
        "id": "UoWRzONJwXBq",
        "colab_type": "code",
        "colab": {}
      },
      "source": [
        "all_df = train[['title','label']]\n",
        "\n",
        "train_set, val_set = train_test_split(all_df, test_size=0.2, random_state=1234)"
      ],
      "execution_count": null,
      "outputs": []
    },
    {
      "cell_type": "code",
      "metadata": {
        "id": "JsmkcU8RxDPQ",
        "colab_type": "code",
        "colab": {
          "base_uri": "https://localhost:8080/",
          "height": 117
        },
        "outputId": "e42a6166-3dff-4ba8-be86-2cfaae8e2bc5"
      },
      "source": [
        "(x_train,  y_train), (x_test, y_test), preproc = ktrain.text.texts_from_df(train_df=train_set,text_column='title',label_columns=['label'],val_df=val_set,\n",
        "                          max_features=10000, maxlen=30, preprocess_mode='bert', random_state=1)"
      ],
      "execution_count": null,
      "outputs": [
        {
          "output_type": "stream",
          "text": [
            "preprocessing train...\n",
            "language: en\n"
          ],
          "name": "stdout"
        },
        {
          "output_type": "display_data",
          "data": {
            "text/html": [
              "done."
            ],
            "text/plain": [
              "<IPython.core.display.HTML object>"
            ]
          },
          "metadata": {
            "tags": []
          }
        },
        {
          "output_type": "stream",
          "text": [
            "preprocessing test...\n",
            "language: en\n"
          ],
          "name": "stdout"
        },
        {
          "output_type": "display_data",
          "data": {
            "text/html": [
              "done."
            ],
            "text/plain": [
              "<IPython.core.display.HTML object>"
            ]
          },
          "metadata": {
            "tags": []
          }
        }
      ]
    },
    {
      "cell_type": "markdown",
      "metadata": {
        "id": "HtvhUAGEU-Ev",
        "colab_type": "text"
      },
      "source": [
        "### Batch size = 32"
      ]
    },
    {
      "cell_type": "code",
      "metadata": {
        "id": "6abF4GOwIvwG",
        "colab_type": "code",
        "colab": {
          "base_uri": "https://localhost:8080/",
          "height": 67
        },
        "outputId": "6d85eb31-4515-4aad-d051-30122b9b3980"
      },
      "source": [
        "# CHANGED BATCH SIZE TO 32\n",
        "np.random.seed(42)\n",
        "random.seed(12345)\n",
        "session_conf = tf.compat.v1.ConfigProto(intra_op_parallelism_threads=1,\n",
        "                              inter_op_parallelism_threads=1)\n",
        "tf.compat.v1.set_random_seed(1234) \n",
        "\n",
        "model = ktrain.text.text_classifier('bert', train_data=(x_train, y_train), preproc=preproc)\n",
        "learner = ktrain.get_learner(model, train_data=(x_train, y_train), val_data=(x_test, y_test), batch_size=32)"
      ],
      "execution_count": null,
      "outputs": [
        {
          "output_type": "stream",
          "text": [
            "Is Multi-Label? False\n",
            "maxlen is 30\n",
            "done.\n"
          ],
          "name": "stdout"
        }
      ]
    },
    {
      "cell_type": "code",
      "metadata": {
        "id": "f9y8ndrOL6sB",
        "colab_type": "code",
        "colab": {
          "base_uri": "https://localhost:8080/",
          "height": 533
        },
        "outputId": "586d9571-6d56-49ad-e38f-ae4a789c23ac"
      },
      "source": [
        "learner.lr_find()             # briefly simulate training to find good learning rate\n",
        "learner.lr_plot() "
      ],
      "execution_count": null,
      "outputs": [
        {
          "output_type": "stream",
          "text": [
            "simulating training for different learning rates... this may take a few moments...\n",
            "Train on 10223 samples\n",
            "Epoch 1/1024\n",
            "10223/10223 [==============================] - 126s 12ms/sample - loss: 1.6336 - accuracy: 0.2497\n",
            "Epoch 2/1024\n",
            "10223/10223 [==============================] - 114s 11ms/sample - loss: 1.0480 - accuracy: 0.6050\n",
            "Epoch 3/1024\n",
            "10223/10223 [==============================] - 110s 11ms/sample - loss: 1.0554 - accuracy: 0.6019\n",
            "Epoch 4/1024\n",
            "10223/10223 [==============================] - 110s 11ms/sample - loss: 1.6716 - accuracy: 0.2164\n",
            "Epoch 5/1024\n",
            " 1408/10223 [===>..........................] - ETA: 1:34 - loss: 3.9859 - accuracy: 0.2067\n",
            "\n",
            "done.\n",
            "Please invoke the Learner.lr_plot() method to visually inspect the loss plot to help identify the maximal learning rate associated with falling loss.\n"
          ],
          "name": "stdout"
        },
        {
          "output_type": "display_data",
          "data": {
            "image/png": "[encoded data removed]",
            "text/plain": [
              "<Figure size 432x288 with 1 Axes>"
            ]
          },
          "metadata": {
            "tags": []
          }
        }
      ]
    },
    {
      "cell_type": "markdown",
      "metadata": {
        "colab_type": "text",
        "id": "yI7IVvxOXpHH"
      },
      "source": [
        "#### Fitting a model with fit_onecycle"
      ]
    },
    {
      "cell_type": "code",
      "metadata": {
        "id": "6ZNRa89LI3VA",
        "colab_type": "code",
        "colab": {
          "base_uri": "https://localhost:8080/",
          "height": 333
        },
        "outputId": "08a36e14-7b76-456a-eba0-143a6c7b7ab1"
      },
      "source": [
        "# ATTEMPT 3 (with fixed seed, smaller batches)\n",
        "learner.fit_onecycle(0.0001, 7, checkpoint_folder='/content/gdrive/My Drive') \n",
        "# saved all the models but they are huge so left just after 2nd epoch and moved to LK "
      ],
      "execution_count": null,
      "outputs": [
        {
          "output_type": "stream",
          "text": [
            "\n",
            "\n",
            "begin training using onecycle policy with max lr of 0.0001...\n",
            "Train on 10223 samples, validate on 2556 samples\n",
            "Epoch 1/7\n",
            "10223/10223 [==============================] - 119s 12ms/sample - loss: 1.0613 - accuracy: 0.5859 - val_loss: 0.8342 - val_accuracy: 0.6968\n",
            "Epoch 2/7\n",
            "10223/10223 [==============================] - 118s 12ms/sample - loss: 0.6925 - accuracy: 0.7445 - val_loss: 0.6949 - val_accuracy: 0.7531\n",
            "Epoch 3/7\n",
            "10223/10223 [==============================] - 117s 11ms/sample - loss: 0.5222 - accuracy: 0.8177 - val_loss: 0.7654 - val_accuracy: 0.7371\n",
            "Epoch 4/7\n",
            "10223/10223 [==============================] - 119s 12ms/sample - loss: 0.4157 - accuracy: 0.8540 - val_loss: 0.8122 - val_accuracy: 0.7254\n",
            "Epoch 5/7\n",
            "10223/10223 [==============================] - 119s 12ms/sample - loss: 0.2346 - accuracy: 0.9168 - val_loss: 0.9213 - val_accuracy: 0.7379\n",
            "Epoch 6/7\n",
            "10223/10223 [==============================] - 120s 12ms/sample - loss: 0.0990 - accuracy: 0.9678 - val_loss: 1.0882 - val_accuracy: 0.7433\n",
            "Epoch 7/7\n",
            "10223/10223 [==============================] - 120s 12ms/sample - loss: 0.0271 - accuracy: 0.9911 - val_loss: 1.2703 - val_accuracy: 0.7488\n"
          ],
          "name": "stdout"
        },
        {
          "output_type": "execute_result",
          "data": {
            "text/plain": [
              "<tensorflow.python.keras.callbacks.History at 0x7f835b544ef0>"
            ]
          },
          "metadata": {
            "tags": []
          },
          "execution_count": 64
        }
      ]
    },
    {
      "cell_type": "markdown",
      "metadata": {
        "colab_type": "text",
        "id": "GehGanr-XiQA"
      },
      "source": [
        "#### Fitting a model with autofit"
      ]
    },
    {
      "cell_type": "code",
      "metadata": {
        "colab_type": "code",
        "id": "tnZiyhqSXiQE",
        "colab": {
          "base_uri": "https://localhost:8080/",
          "height": 433
        },
        "outputId": "df6c640d-5c43-4046-e585-41e38183b25b"
      },
      "source": [
        "# also saves all the epochs in separate files. epoch=2 is the best. Saved to a local drive and made predictions here.\n",
        "learner.autofit(0.0001, reduce_on_plateau=3, checkpoint_folder='/content/gdrive/My Drive') "
      ],
      "execution_count": null,
      "outputs": [
        {
          "output_type": "stream",
          "text": [
            "early_stopping automatically enabled at patience=5\n",
            "\n",
            "\n",
            "begin training using triangular learning rate policy with max lr of 0.0001...\n",
            "Train on 10223 samples, validate on 2556 samples\n",
            "Epoch 1/1024\n",
            "10223/10223 [==============================] - 159s 16ms/sample - loss: 0.9641 - accuracy: 0.6284 - val_loss: 0.6903 - val_accuracy: 0.7563\n",
            "Epoch 2/1024\n",
            "10223/10223 [==============================] - 130s 13ms/sample - loss: 0.6279 - accuracy: 0.7736 - val_loss: 0.6851 - val_accuracy: 0.7527\n",
            "Epoch 3/1024\n",
            "10223/10223 [==============================] - 119s 12ms/sample - loss: 0.4583 - accuracy: 0.8383 - val_loss: 0.7203 - val_accuracy: 0.7477\n",
            "Epoch 4/1024\n",
            "10223/10223 [==============================] - 119s 12ms/sample - loss: 0.3428 - accuracy: 0.8856 - val_loss: 0.8269 - val_accuracy: 0.7336\n",
            "Epoch 5/1024\n",
            "10208/10223 [============================>.] - ETA: 0s - loss: 0.2520 - accuracy: 0.9155\n",
            "Epoch 00005: Reducing Max LR on Plateau: new max lr will be 5e-05 (if not early_stopping).\n",
            "10223/10223 [==============================] - 119s 12ms/sample - loss: 0.2522 - accuracy: 0.9154 - val_loss: 0.8445 - val_accuracy: 0.7496\n",
            "Epoch 6/1024\n",
            "10223/10223 [==============================] - 120s 12ms/sample - loss: 0.1214 - accuracy: 0.9617 - val_loss: 1.0542 - val_accuracy: 0.7461\n",
            "Epoch 7/1024\n",
            "10208/10223 [============================>.] - ETA: 0s - loss: 0.0696 - accuracy: 0.9792Restoring model weights from the end of the best epoch.\n",
            "10223/10223 [==============================] - 120s 12ms/sample - loss: 0.0697 - accuracy: 0.9792 - val_loss: 1.1651 - val_accuracy: 0.7492\n",
            "Epoch 00007: early stopping\n",
            "Weights from best epoch have been loaded into model.\n"
          ],
          "name": "stdout"
        },
        {
          "output_type": "execute_result",
          "data": {
            "text/plain": [
              "<tensorflow.python.keras.callbacks.History at 0x7f822e6d0d30>"
            ]
          },
          "metadata": {
            "tags": []
          },
          "execution_count": 69
        }
      ]
    },
    {
      "cell_type": "markdown",
      "metadata": {
        "id": "Gv17tIrkeGaL",
        "colab_type": "text"
      },
      "source": [
        "#### Predict on a new data (for Kaggle)\n"
      ]
    },
    {
      "cell_type": "code",
      "metadata": {
        "id": "I1J873b_eHfm",
        "colab_type": "code",
        "colab": {
          "base_uri": "https://localhost:8080/",
          "height": 197
        },
        "outputId": "c81fd99f-d074-4079-c275-4ff4cd8e6f59"
      },
      "source": [
        "test.head()"
      ],
      "execution_count": null,
      "outputs": [
        {
          "output_type": "execute_result",
          "data": {
            "text/html": [
              "<div>\n",
              "<style scoped>\n",
              "    .dataframe tbody tr th:only-of-type {\n",
              "        vertical-align: middle;\n",
              "    }\n",
              "\n",
              "    .dataframe tbody tr th {\n",
              "        vertical-align: top;\n",
              "    }\n",
              "\n",
              "    .dataframe thead th {\n",
              "        text-align: right;\n",
              "    }\n",
              "</style>\n",
              "<table border=\"1\" class=\"dataframe\">\n",
              "  <thead>\n",
              "    <tr style=\"text-align: right;\">\n",
              "      <th></th>\n",
              "      <th>id</th>\n",
              "      <th>title</th>\n",
              "    </tr>\n",
              "  </thead>\n",
              "  <tbody>\n",
              "    <tr>\n",
              "      <th>0</th>\n",
              "      <td>1</td>\n",
              "      <td>autodomainmine a graphical data mining system ...</td>\n",
              "    </tr>\n",
              "    <tr>\n",
              "      <th>1</th>\n",
              "      <td>2</td>\n",
              "      <td>anipqo almost non intrusive parametric query o...</td>\n",
              "    </tr>\n",
              "    <tr>\n",
              "      <th>2</th>\n",
              "      <td>4</td>\n",
              "      <td>selection and ranking of text from highly impe...</td>\n",
              "    </tr>\n",
              "    <tr>\n",
              "      <th>3</th>\n",
              "      <td>5</td>\n",
              "      <td>conditional random fields for multi agent rein...</td>\n",
              "    </tr>\n",
              "    <tr>\n",
              "      <th>4</th>\n",
              "      <td>7</td>\n",
              "      <td>multi dimensional description logics</td>\n",
              "    </tr>\n",
              "  </tbody>\n",
              "</table>\n",
              "</div>"
            ],
            "text/plain": [
              "   id                                              title\n",
              "0   1  autodomainmine a graphical data mining system ...\n",
              "1   2  anipqo almost non intrusive parametric query o...\n",
              "2   4  selection and ranking of text from highly impe...\n",
              "3   5  conditional random fields for multi agent rein...\n",
              "4   7               multi dimensional description logics"
            ]
          },
          "metadata": {
            "tags": []
          },
          "execution_count": 71
        }
      ]
    },
    {
      "cell_type": "code",
      "metadata": {
        "id": "AElUuVHhnWob",
        "colab_type": "code",
        "colab": {
          "base_uri": "https://localhost:8080/",
          "height": 67
        },
        "outputId": "87d9d739-6c07-41c3-fadb-ea27bb9856d8"
      },
      "source": [
        "test.iloc[34,:]\n"
      ],
      "execution_count": null,
      "outputs": [
        {
          "output_type": "execute_result",
          "data": {
            "text/plain": [
              "id                                                    63\n",
              "title    perception concepts and language road and ipage\n",
              "Name: 34, dtype: object"
            ]
          },
          "metadata": {
            "tags": []
          },
          "execution_count": 121
        }
      ]
    },
    {
      "cell_type": "code",
      "metadata": {
        "id": "Vx6uNvecnn-9",
        "colab_type": "code",
        "colab": {
          "base_uri": "https://localhost:8080/",
          "height": 67
        },
        "outputId": "999f6b41-56fa-45f3-cf26-cb0c5925deba"
      },
      "source": [
        "test.iloc[43,:]"
      ],
      "execution_count": null,
      "outputs": [
        {
          "output_type": "execute_result",
          "data": {
            "text/plain": [
              "id                                                      76\n",
              "title    mace language support for building distributed...\n",
              "Name: 43, dtype: object"
            ]
          },
          "metadata": {
            "tags": []
          },
          "execution_count": 123
        }
      ]
    },
    {
      "cell_type": "code",
      "metadata": {
        "id": "GqN1o6PqoK9K",
        "colab_type": "code",
        "colab": {
          "base_uri": "https://localhost:8080/",
          "height": 67
        },
        "outputId": "55907675-e0db-4b22-8484-b959ef42f709"
      },
      "source": [
        "test.iloc[116,:]"
      ],
      "execution_count": null,
      "outputs": [
        {
          "output_type": "execute_result",
          "data": {
            "text/plain": [
              "id                                                     242\n",
              "title    probabilistic combination of text classifiers ...\n",
              "Name: 116, dtype: object"
            ]
          },
          "metadata": {
            "tags": []
          },
          "execution_count": 125
        }
      ]
    },
    {
      "cell_type": "code",
      "metadata": {
        "id": "6P79AaPzkpxV",
        "colab_type": "code",
        "colab": {
          "base_uri": "https://localhost:8080/",
          "height": 647
        },
        "outputId": "6247451a-a96c-4fb8-bd5e-c1cb9e64802f"
      },
      "source": [
        "test.head(20)"
      ],
      "execution_count": null,
      "outputs": [
        {
          "output_type": "execute_result",
          "data": {
            "text/html": [
              "<div>\n",
              "<style scoped>\n",
              "    .dataframe tbody tr th:only-of-type {\n",
              "        vertical-align: middle;\n",
              "    }\n",
              "\n",
              "    .dataframe tbody tr th {\n",
              "        vertical-align: top;\n",
              "    }\n",
              "\n",
              "    .dataframe thead th {\n",
              "        text-align: right;\n",
              "    }\n",
              "</style>\n",
              "<table border=\"1\" class=\"dataframe\">\n",
              "  <thead>\n",
              "    <tr style=\"text-align: right;\">\n",
              "      <th></th>\n",
              "      <th>id</th>\n",
              "      <th>title</th>\n",
              "    </tr>\n",
              "  </thead>\n",
              "  <tbody>\n",
              "    <tr>\n",
              "      <th>0</th>\n",
              "      <td>1</td>\n",
              "      <td>autodomainmine a graphical data mining system ...</td>\n",
              "    </tr>\n",
              "    <tr>\n",
              "      <th>1</th>\n",
              "      <td>2</td>\n",
              "      <td>anipqo almost non intrusive parametric query o...</td>\n",
              "    </tr>\n",
              "    <tr>\n",
              "      <th>2</th>\n",
              "      <td>4</td>\n",
              "      <td>selection and ranking of text from highly impe...</td>\n",
              "    </tr>\n",
              "    <tr>\n",
              "      <th>3</th>\n",
              "      <td>5</td>\n",
              "      <td>conditional random fields for multi agent rein...</td>\n",
              "    </tr>\n",
              "    <tr>\n",
              "      <th>4</th>\n",
              "      <td>7</td>\n",
              "      <td>multi dimensional description logics</td>\n",
              "    </tr>\n",
              "    <tr>\n",
              "      <th>5</th>\n",
              "      <td>10</td>\n",
              "      <td>fast on line index construction by geometric p...</td>\n",
              "    </tr>\n",
              "    <tr>\n",
              "      <th>6</th>\n",
              "      <td>12</td>\n",
              "      <td>reasoning about rings</td>\n",
              "    </tr>\n",
              "    <tr>\n",
              "      <th>7</th>\n",
              "      <td>14</td>\n",
              "      <td>transductive regression piloted by inter manif...</td>\n",
              "    </tr>\n",
              "    <tr>\n",
              "      <th>8</th>\n",
              "      <td>15</td>\n",
              "      <td>a fast and usually linear algorithm for global...</td>\n",
              "    </tr>\n",
              "    <tr>\n",
              "      <th>9</th>\n",
              "      <td>16</td>\n",
              "      <td>conditional constraint satisfaction logical fo...</td>\n",
              "    </tr>\n",
              "    <tr>\n",
              "      <th>10</th>\n",
              "      <td>17</td>\n",
              "      <td>on the role of old information in generating r...</td>\n",
              "    </tr>\n",
              "    <tr>\n",
              "      <th>11</th>\n",
              "      <td>19</td>\n",
              "      <td>shrinkage estimator generalizations of proxima...</td>\n",
              "    </tr>\n",
              "    <tr>\n",
              "      <th>12</th>\n",
              "      <td>21</td>\n",
              "      <td>a multilingual paradigm for automatic verb cla...</td>\n",
              "    </tr>\n",
              "    <tr>\n",
              "      <th>13</th>\n",
              "      <td>22</td>\n",
              "      <td>approximate query answering in locally closed ...</td>\n",
              "    </tr>\n",
              "    <tr>\n",
              "      <th>14</th>\n",
              "      <td>23</td>\n",
              "      <td>constraints on strong generative power</td>\n",
              "    </tr>\n",
              "    <tr>\n",
              "      <th>15</th>\n",
              "      <td>25</td>\n",
              "      <td>mining correlated bursty topic patterns from c...</td>\n",
              "    </tr>\n",
              "    <tr>\n",
              "      <th>16</th>\n",
              "      <td>26</td>\n",
              "      <td>learning markov logic network structure via hy...</td>\n",
              "    </tr>\n",
              "    <tr>\n",
              "      <th>17</th>\n",
              "      <td>27</td>\n",
              "      <td>compact convex upper bound iteration for appro...</td>\n",
              "    </tr>\n",
              "    <tr>\n",
              "      <th>18</th>\n",
              "      <td>28</td>\n",
              "      <td>free ordered cug on chemical abstract machine</td>\n",
              "    </tr>\n",
              "    <tr>\n",
              "      <th>19</th>\n",
              "      <td>29</td>\n",
              "      <td>controlling interference in ambients</td>\n",
              "    </tr>\n",
              "  </tbody>\n",
              "</table>\n",
              "</div>"
            ],
            "text/plain": [
              "    id                                              title\n",
              "0    1  autodomainmine a graphical data mining system ...\n",
              "1    2  anipqo almost non intrusive parametric query o...\n",
              "2    4  selection and ranking of text from highly impe...\n",
              "3    5  conditional random fields for multi agent rein...\n",
              "4    7               multi dimensional description logics\n",
              "5   10  fast on line index construction by geometric p...\n",
              "6   12                              reasoning about rings\n",
              "7   14  transductive regression piloted by inter manif...\n",
              "8   15  a fast and usually linear algorithm for global...\n",
              "9   16  conditional constraint satisfaction logical fo...\n",
              "10  17  on the role of old information in generating r...\n",
              "11  19  shrinkage estimator generalizations of proxima...\n",
              "12  21  a multilingual paradigm for automatic verb cla...\n",
              "13  22  approximate query answering in locally closed ...\n",
              "14  23             constraints on strong generative power\n",
              "15  25  mining correlated bursty topic patterns from c...\n",
              "16  26  learning markov logic network structure via hy...\n",
              "17  27  compact convex upper bound iteration for appro...\n",
              "18  28      free ordered cug on chemical abstract machine\n",
              "19  29               controlling interference in ambients"
            ]
          },
          "metadata": {
            "tags": []
          },
          "execution_count": 124
        }
      ]
    },
    {
      "cell_type": "code",
      "metadata": {
        "id": "w7z9AIJadsCb",
        "colab_type": "code",
        "colab": {}
      },
      "source": [
        "# to predict on a new data\n",
        "predictor = ktrain.get_predictor(learner.model, preproc)"
      ],
      "execution_count": null,
      "outputs": []
    },
    {
      "cell_type": "code",
      "metadata": {
        "id": "xNee07-LdttM",
        "colab_type": "code",
        "colab": {
          "base_uri": "https://localhost:8080/",
          "height": 17
        },
        "outputId": "06aacaee-4c34-4c0e-988d-a773be7a1e1b"
      },
      "source": [
        "Y_new6 = predictor.predict(x_new)"
      ],
      "execution_count": null,
      "outputs": [
        {
          "output_type": "display_data",
          "data": {
            "text/html": [
              ""
            ],
            "text/plain": [
              "<IPython.core.display.HTML object>"
            ]
          },
          "metadata": {
            "tags": []
          }
        }
      ]
    },
    {
      "cell_type": "code",
      "metadata": {
        "id": "71NddJSIexVG",
        "colab_type": "code",
        "colab": {}
      },
      "source": [
        "test6 = pd.DataFrame(list(zip(test['id'], Y_new6)), \n",
        "               columns = ['id', 'label'])\n",
        "test6\n",
        "test6.to_csv('test6.csv',index=False)"
      ],
      "execution_count": null,
      "outputs": []
    },
    {
      "cell_type": "markdown",
      "metadata": {
        "colab_type": "text",
        "id": "6pI4mcdx0MnV"
      },
      "source": [
        "## Using ktrain bert on own titles + reference titles"
      ]
    },
    {
      "cell_type": "code",
      "metadata": {
        "colab_type": "code",
        "id": "vyb5xwe60MnZ",
        "colab": {}
      },
      "source": [
        "all_df = train3[['merged','label']]\n",
        "\n",
        "train_set, val_set = train_test_split(all_df, test_size=0.2, random_state=245)"
      ],
      "execution_count": null,
      "outputs": []
    },
    {
      "cell_type": "code",
      "metadata": {
        "id": "BE_bXU2E0glr",
        "colab_type": "code",
        "colab": {
          "base_uri": "https://localhost:8080/",
          "height": 197
        },
        "outputId": "ab5c93fc-f03e-41ca-aa07-38b76a6618de"
      },
      "source": [
        "all_df.head()"
      ],
      "execution_count": null,
      "outputs": [
        {
          "output_type": "execute_result",
          "data": {
            "text/html": [
              "<div>\n",
              "<style scoped>\n",
              "    .dataframe tbody tr th:only-of-type {\n",
              "        vertical-align: middle;\n",
              "    }\n",
              "\n",
              "    .dataframe tbody tr th {\n",
              "        vertical-align: top;\n",
              "    }\n",
              "\n",
              "    .dataframe thead th {\n",
              "        text-align: right;\n",
              "    }\n",
              "</style>\n",
              "<table border=\"1\" class=\"dataframe\">\n",
              "  <thead>\n",
              "    <tr style=\"text-align: right;\">\n",
              "      <th></th>\n",
              "      <th>merged</th>\n",
              "      <th>label</th>\n",
              "    </tr>\n",
              "  </thead>\n",
              "  <tbody>\n",
              "    <tr>\n",
              "      <th>0</th>\n",
              "      <td>interactive visual exploration of neighbor bas...</td>\n",
              "      <td>1</td>\n",
              "    </tr>\n",
              "    <tr>\n",
              "      <th>1</th>\n",
              "      <td>relational division four algorithms and their ...</td>\n",
              "      <td>1</td>\n",
              "    </tr>\n",
              "    <tr>\n",
              "      <th>2</th>\n",
              "      <td>simplifying xml schema effortless handling of ...</td>\n",
              "      <td>1</td>\n",
              "    </tr>\n",
              "    <tr>\n",
              "      <th>3</th>\n",
              "      <td>funbase a function based information managemen...</td>\n",
              "      <td>0</td>\n",
              "    </tr>\n",
              "    <tr>\n",
              "      <th>4</th>\n",
              "      <td>inverted matrix efficient discovery of frequen...</td>\n",
              "      <td>0</td>\n",
              "    </tr>\n",
              "  </tbody>\n",
              "</table>\n",
              "</div>"
            ],
            "text/plain": [
              "                                              merged  label\n",
              "0  interactive visual exploration of neighbor bas...      1\n",
              "1  relational division four algorithms and their ...      1\n",
              "2  simplifying xml schema effortless handling of ...      1\n",
              "3  funbase a function based information managemen...      0\n",
              "4  inverted matrix efficient discovery of frequen...      0"
            ]
          },
          "metadata": {
            "tags": []
          },
          "execution_count": 54
        }
      ]
    },
    {
      "cell_type": "code",
      "metadata": {
        "colab_type": "code",
        "id": "K51nZWua0Mnl",
        "colab": {
          "base_uri": "https://localhost:8080/",
          "height": 117
        },
        "outputId": "b355f279-5fab-4b35-a0dc-4dd4e28f66de"
      },
      "source": [
        "(x_train,  y_train), (x_test, y_test), preproc = ktrain.text.texts_from_df(train_df=train_set,text_column='merged',label_columns=['label'],val_df=val_set,\n",
        "                          max_features=14000, maxlen=256, preprocess_mode='bert', random_state=1)"
      ],
      "execution_count": null,
      "outputs": [
        {
          "output_type": "stream",
          "text": [
            "preprocessing train...\n",
            "language: en\n"
          ],
          "name": "stdout"
        },
        {
          "output_type": "display_data",
          "data": {
            "text/html": [
              "done."
            ],
            "text/plain": [
              "<IPython.core.display.HTML object>"
            ]
          },
          "metadata": {
            "tags": []
          }
        },
        {
          "output_type": "stream",
          "text": [
            "preprocessing test...\n",
            "language: en\n"
          ],
          "name": "stdout"
        },
        {
          "output_type": "display_data",
          "data": {
            "text/html": [
              "done."
            ],
            "text/plain": [
              "<IPython.core.display.HTML object>"
            ]
          },
          "metadata": {
            "tags": []
          }
        }
      ]
    },
    {
      "cell_type": "markdown",
      "metadata": {
        "colab_type": "text",
        "id": "4YBn0P470Mob"
      },
      "source": [
        "### Batch size = 16"
      ]
    },
    {
      "cell_type": "code",
      "metadata": {
        "colab_type": "code",
        "id": "h6p0EAPz0Mod",
        "colab": {
          "base_uri": "https://localhost:8080/",
          "height": 67
        },
        "outputId": "1c2d0a9f-ae76-453e-ec02-c581f02d049f"
      },
      "source": [
        "# CHANGED BATCH SIZE TO 16 due to higher sequence length\n",
        "np.random.seed(5)\n",
        "random.seed(5)\n",
        "session_conf = tf.compat.v1.ConfigProto(intra_op_parallelism_threads=1,\n",
        "                              inter_op_parallelism_threads=1)\n",
        "tf.compat.v1.set_random_seed(5) \n",
        "\n",
        "model = ktrain.text.text_classifier('bert', train_data=(x_train, y_train), preproc=preproc)\n",
        "learner = ktrain.get_learner(model, train_data=(x_train, y_train), val_data=(x_test, y_test), batch_size=16)"
      ],
      "execution_count": null,
      "outputs": [
        {
          "output_type": "stream",
          "text": [
            "Is Multi-Label? False\n",
            "maxlen is 256\n",
            "done.\n"
          ],
          "name": "stdout"
        }
      ]
    },
    {
      "cell_type": "code",
      "metadata": {
        "colab_type": "code",
        "id": "eTRV6pp70Moi",
        "colab": {
          "base_uri": "https://localhost:8080/",
          "height": 433
        },
        "outputId": "de5fc5a9-50ad-4d6e-9bf5-30350b1480f4"
      },
      "source": [
        "learner.lr_find()             # briefly simulate training to find good learning rate\n",
        "learner.lr_plot() "
      ],
      "execution_count": null,
      "outputs": [
        {
          "output_type": "stream",
          "text": [
            "simulating training for different learning rates... this may take a few moments...\n",
            "Train on 10223 samples\n",
            "Epoch 1/1024\n",
            "10223/10223 [==============================] - 504s 49ms/sample - loss: 1.2505 - accuracy: 0.5018\n",
            "Epoch 2/1024\n",
            " 8144/10223 [======================>.......] - ETA: 1:37 - loss: 1.5101 - accuracy: 0.4280\n",
            "\n",
            "done.\n",
            "Please invoke the Learner.lr_plot() method to visually inspect the loss plot to help identify the maximal learning rate associated with falling loss.\n"
          ],
          "name": "stdout"
        },
        {
          "output_type": "display_data",
          "data": {
            "image/png": "[encoded data removed]",
            "text/plain": [
              "<Figure size 432x288 with 1 Axes>"
            ]
          },
          "metadata": {
            "tags": [],
            "needs_background": "light"
          }
        }
      ]
    },
    {
      "cell_type": "markdown",
      "metadata": {
        "colab_type": "text",
        "id": "lVzClKZb0Mov"
      },
      "source": [
        "#### Fitting a model with autofit"
      ]
    },
    {
      "cell_type": "code",
      "metadata": {
        "colab_type": "code",
        "id": "KA5wbcfr0Mow",
        "colab": {
          "base_uri": "https://localhost:8080/",
          "height": 467
        },
        "outputId": "81f4b007-2776-43e3-a8bd-b1189e32a08b"
      },
      "source": [
        "# also saves all the epochs in separate files. epoch=2 is the best. Saved to a local drive and made predictions here.\n",
        "learner.autofit(0.0001, reduce_on_plateau=2, checkpoint_folder='/content/gdrive/My Drive') "
      ],
      "execution_count": null,
      "outputs": [
        {
          "output_type": "stream",
          "text": [
            "early_stopping automatically enabled at patience=5\n",
            "\n",
            "\n",
            "begin training using triangular learning rate policy with max lr of 0.0001...\n",
            "Train on 10223 samples, validate on 2556 samples\n",
            "Epoch 1/1024\n",
            "10223/10223 [==============================] - 517s 51ms/sample - loss: 0.7290 - accuracy: 0.7340 - val_loss: 0.5115 - val_accuracy: 0.8118\n",
            "Epoch 2/1024\n",
            "10223/10223 [==============================] - 514s 50ms/sample - loss: 0.4448 - accuracy: 0.8458 - val_loss: 0.5103 - val_accuracy: 0.8149\n",
            "Epoch 3/1024\n",
            "10223/10223 [==============================] - 511s 50ms/sample - loss: 0.3552 - accuracy: 0.8772 - val_loss: 0.5431 - val_accuracy: 0.8005\n",
            "Epoch 4/1024\n",
            "10208/10223 [============================>.] - ETA: 0s - loss: 0.2968 - accuracy: 0.8973\n",
            "Epoch 00004: Reducing Max LR on Plateau: new max lr will be 5e-05 (if not early_stopping).\n",
            "10223/10223 [==============================] - 511s 50ms/sample - loss: 0.2965 - accuracy: 0.8974 - val_loss: 0.5471 - val_accuracy: 0.8130\n",
            "Epoch 5/1024\n",
            "10223/10223 [==============================] - 511s 50ms/sample - loss: 0.1813 - accuracy: 0.9378 - val_loss: 0.6101 - val_accuracy: 0.8169\n",
            "Epoch 6/1024\n",
            "10208/10223 [============================>.] - ETA: 0s - loss: 0.1133 - accuracy: 0.9642\n",
            "Epoch 00006: Reducing Max LR on Plateau: new max lr will be 2.5e-05 (if not early_stopping).\n",
            "10223/10223 [==============================] - 508s 50ms/sample - loss: 0.1133 - accuracy: 0.9642 - val_loss: 0.7181 - val_accuracy: 0.8016\n",
            "Epoch 7/1024\n",
            "10208/10223 [============================>.] - ETA: 0s - loss: 0.0554 - accuracy: 0.9832Restoring model weights from the end of the best epoch.\n",
            "10223/10223 [==============================] - 509s 50ms/sample - loss: 0.0567 - accuracy: 0.9831 - val_loss: 0.8652 - val_accuracy: 0.7989\n",
            "Epoch 00007: early stopping\n",
            "Weights from best epoch have been loaded into model.\n"
          ],
          "name": "stdout"
        },
        {
          "output_type": "execute_result",
          "data": {
            "text/plain": [
              "<tensorflow.python.keras.callbacks.History at 0x7f6418da1668>"
            ]
          },
          "metadata": {
            "tags": []
          },
          "execution_count": 62
        }
      ]
    },
    {
      "cell_type": "markdown",
      "metadata": {
        "colab_type": "text",
        "id": "3LJGDRfN0Mo0"
      },
      "source": [
        "#### Predict on a new data (for Kaggle)\n"
      ]
    },
    {
      "cell_type": "code",
      "metadata": {
        "colab_type": "code",
        "id": "5HUxTUbI0Mo1",
        "colab": {
          "base_uri": "https://localhost:8080/",
          "height": 197
        },
        "outputId": "c81fd99f-d074-4079-c275-4ff4cd8e6f59"
      },
      "source": [
        "test.head()"
      ],
      "execution_count": null,
      "outputs": [
        {
          "output_type": "execute_result",
          "data": {
            "text/html": [
              "<div>\n",
              "<style scoped>\n",
              "    .dataframe tbody tr th:only-of-type {\n",
              "        vertical-align: middle;\n",
              "    }\n",
              "\n",
              "    .dataframe tbody tr th {\n",
              "        vertical-align: top;\n",
              "    }\n",
              "\n",
              "    .dataframe thead th {\n",
              "        text-align: right;\n",
              "    }\n",
              "</style>\n",
              "<table border=\"1\" class=\"dataframe\">\n",
              "  <thead>\n",
              "    <tr style=\"text-align: right;\">\n",
              "      <th></th>\n",
              "      <th>id</th>\n",
              "      <th>title</th>\n",
              "    </tr>\n",
              "  </thead>\n",
              "  <tbody>\n",
              "    <tr>\n",
              "      <th>0</th>\n",
              "      <td>1</td>\n",
              "      <td>autodomainmine a graphical data mining system ...</td>\n",
              "    </tr>\n",
              "    <tr>\n",
              "      <th>1</th>\n",
              "      <td>2</td>\n",
              "      <td>anipqo almost non intrusive parametric query o...</td>\n",
              "    </tr>\n",
              "    <tr>\n",
              "      <th>2</th>\n",
              "      <td>4</td>\n",
              "      <td>selection and ranking of text from highly impe...</td>\n",
              "    </tr>\n",
              "    <tr>\n",
              "      <th>3</th>\n",
              "      <td>5</td>\n",
              "      <td>conditional random fields for multi agent rein...</td>\n",
              "    </tr>\n",
              "    <tr>\n",
              "      <th>4</th>\n",
              "      <td>7</td>\n",
              "      <td>multi dimensional description logics</td>\n",
              "    </tr>\n",
              "  </tbody>\n",
              "</table>\n",
              "</div>"
            ],
            "text/plain": [
              "   id                                              title\n",
              "0   1  autodomainmine a graphical data mining system ...\n",
              "1   2  anipqo almost non intrusive parametric query o...\n",
              "2   4  selection and ranking of text from highly impe...\n",
              "3   5  conditional random fields for multi agent rein...\n",
              "4   7               multi dimensional description logics"
            ]
          },
          "metadata": {
            "tags": []
          },
          "execution_count": 71
        }
      ]
    },
    {
      "cell_type": "code",
      "metadata": {
        "colab_type": "code",
        "id": "rZicUo3a0Mo4",
        "colab": {
          "base_uri": "https://localhost:8080/",
          "height": 67
        },
        "outputId": "87d9d739-6c07-41c3-fadb-ea27bb9856d8"
      },
      "source": [
        "test.iloc[34,:]\n"
      ],
      "execution_count": null,
      "outputs": [
        {
          "output_type": "execute_result",
          "data": {
            "text/plain": [
              "id                                                    63\n",
              "title    perception concepts and language road and ipage\n",
              "Name: 34, dtype: object"
            ]
          },
          "metadata": {
            "tags": []
          },
          "execution_count": 121
        }
      ]
    },
    {
      "cell_type": "code",
      "metadata": {
        "colab_type": "code",
        "id": "4FBze64I0Mo8",
        "colab": {
          "base_uri": "https://localhost:8080/",
          "height": 67
        },
        "outputId": "999f6b41-56fa-45f3-cf26-cb0c5925deba"
      },
      "source": [
        "test.iloc[43,:]"
      ],
      "execution_count": null,
      "outputs": [
        {
          "output_type": "execute_result",
          "data": {
            "text/plain": [
              "id                                                      76\n",
              "title    mace language support for building distributed...\n",
              "Name: 43, dtype: object"
            ]
          },
          "metadata": {
            "tags": []
          },
          "execution_count": 123
        }
      ]
    },
    {
      "cell_type": "code",
      "metadata": {
        "colab_type": "code",
        "id": "0K3a1Jkz0MpC",
        "colab": {
          "base_uri": "https://localhost:8080/",
          "height": 67
        },
        "outputId": "55907675-e0db-4b22-8484-b959ef42f709"
      },
      "source": [
        "test.iloc[116,:]"
      ],
      "execution_count": null,
      "outputs": [
        {
          "output_type": "execute_result",
          "data": {
            "text/plain": [
              "id                                                     242\n",
              "title    probabilistic combination of text classifiers ...\n",
              "Name: 116, dtype: object"
            ]
          },
          "metadata": {
            "tags": []
          },
          "execution_count": 125
        }
      ]
    },
    {
      "cell_type": "code",
      "metadata": {
        "colab_type": "code",
        "id": "NhJGhnR00MpH",
        "colab": {
          "base_uri": "https://localhost:8080/",
          "height": 647
        },
        "outputId": "6247451a-a96c-4fb8-bd5e-c1cb9e64802f"
      },
      "source": [
        "test.head(20)"
      ],
      "execution_count": null,
      "outputs": [
        {
          "output_type": "execute_result",
          "data": {
            "text/html": [
              "<div>\n",
              "<style scoped>\n",
              "    .dataframe tbody tr th:only-of-type {\n",
              "        vertical-align: middle;\n",
              "    }\n",
              "\n",
              "    .dataframe tbody tr th {\n",
              "        vertical-align: top;\n",
              "    }\n",
              "\n",
              "    .dataframe thead th {\n",
              "        text-align: right;\n",
              "    }\n",
              "</style>\n",
              "<table border=\"1\" class=\"dataframe\">\n",
              "  <thead>\n",
              "    <tr style=\"text-align: right;\">\n",
              "      <th></th>\n",
              "      <th>id</th>\n",
              "      <th>title</th>\n",
              "    </tr>\n",
              "  </thead>\n",
              "  <tbody>\n",
              "    <tr>\n",
              "      <th>0</th>\n",
              "      <td>1</td>\n",
              "      <td>autodomainmine a graphical data mining system ...</td>\n",
              "    </tr>\n",
              "    <tr>\n",
              "      <th>1</th>\n",
              "      <td>2</td>\n",
              "      <td>anipqo almost non intrusive parametric query o...</td>\n",
              "    </tr>\n",
              "    <tr>\n",
              "      <th>2</th>\n",
              "      <td>4</td>\n",
              "      <td>selection and ranking of text from highly impe...</td>\n",
              "    </tr>\n",
              "    <tr>\n",
              "      <th>3</th>\n",
              "      <td>5</td>\n",
              "      <td>conditional random fields for multi agent rein...</td>\n",
              "    </tr>\n",
              "    <tr>\n",
              "      <th>4</th>\n",
              "      <td>7</td>\n",
              "      <td>multi dimensional description logics</td>\n",
              "    </tr>\n",
              "    <tr>\n",
              "      <th>5</th>\n",
              "      <td>10</td>\n",
              "      <td>fast on line index construction by geometric p...</td>\n",
              "    </tr>\n",
              "    <tr>\n",
              "      <th>6</th>\n",
              "      <td>12</td>\n",
              "      <td>reasoning about rings</td>\n",
              "    </tr>\n",
              "    <tr>\n",
              "      <th>7</th>\n",
              "      <td>14</td>\n",
              "      <td>transductive regression piloted by inter manif...</td>\n",
              "    </tr>\n",
              "    <tr>\n",
              "      <th>8</th>\n",
              "      <td>15</td>\n",
              "      <td>a fast and usually linear algorithm for global...</td>\n",
              "    </tr>\n",
              "    <tr>\n",
              "      <th>9</th>\n",
              "      <td>16</td>\n",
              "      <td>conditional constraint satisfaction logical fo...</td>\n",
              "    </tr>\n",
              "    <tr>\n",
              "      <th>10</th>\n",
              "      <td>17</td>\n",
              "      <td>on the role of old information in generating r...</td>\n",
              "    </tr>\n",
              "    <tr>\n",
              "      <th>11</th>\n",
              "      <td>19</td>\n",
              "      <td>shrinkage estimator generalizations of proxima...</td>\n",
              "    </tr>\n",
              "    <tr>\n",
              "      <th>12</th>\n",
              "      <td>21</td>\n",
              "      <td>a multilingual paradigm for automatic verb cla...</td>\n",
              "    </tr>\n",
              "    <tr>\n",
              "      <th>13</th>\n",
              "      <td>22</td>\n",
              "      <td>approximate query answering in locally closed ...</td>\n",
              "    </tr>\n",
              "    <tr>\n",
              "      <th>14</th>\n",
              "      <td>23</td>\n",
              "      <td>constraints on strong generative power</td>\n",
              "    </tr>\n",
              "    <tr>\n",
              "      <th>15</th>\n",
              "      <td>25</td>\n",
              "      <td>mining correlated bursty topic patterns from c...</td>\n",
              "    </tr>\n",
              "    <tr>\n",
              "      <th>16</th>\n",
              "      <td>26</td>\n",
              "      <td>learning markov logic network structure via hy...</td>\n",
              "    </tr>\n",
              "    <tr>\n",
              "      <th>17</th>\n",
              "      <td>27</td>\n",
              "      <td>compact convex upper bound iteration for appro...</td>\n",
              "    </tr>\n",
              "    <tr>\n",
              "      <th>18</th>\n",
              "      <td>28</td>\n",
              "      <td>free ordered cug on chemical abstract machine</td>\n",
              "    </tr>\n",
              "    <tr>\n",
              "      <th>19</th>\n",
              "      <td>29</td>\n",
              "      <td>controlling interference in ambients</td>\n",
              "    </tr>\n",
              "  </tbody>\n",
              "</table>\n",
              "</div>"
            ],
            "text/plain": [
              "    id                                              title\n",
              "0    1  autodomainmine a graphical data mining system ...\n",
              "1    2  anipqo almost non intrusive parametric query o...\n",
              "2    4  selection and ranking of text from highly impe...\n",
              "3    5  conditional random fields for multi agent rein...\n",
              "4    7               multi dimensional description logics\n",
              "5   10  fast on line index construction by geometric p...\n",
              "6   12                              reasoning about rings\n",
              "7   14  transductive regression piloted by inter manif...\n",
              "8   15  a fast and usually linear algorithm for global...\n",
              "9   16  conditional constraint satisfaction logical fo...\n",
              "10  17  on the role of old information in generating r...\n",
              "11  19  shrinkage estimator generalizations of proxima...\n",
              "12  21  a multilingual paradigm for automatic verb cla...\n",
              "13  22  approximate query answering in locally closed ...\n",
              "14  23             constraints on strong generative power\n",
              "15  25  mining correlated bursty topic patterns from c...\n",
              "16  26  learning markov logic network structure via hy...\n",
              "17  27  compact convex upper bound iteration for appro...\n",
              "18  28      free ordered cug on chemical abstract machine\n",
              "19  29               controlling interference in ambients"
            ]
          },
          "metadata": {
            "tags": []
          },
          "execution_count": 124
        }
      ]
    },
    {
      "cell_type": "code",
      "metadata": {
        "colab_type": "code",
        "id": "rD7NNDrn0MpO",
        "colab": {}
      },
      "source": [
        "# to predict on a new data\n",
        "predictor = ktrain.get_predictor(learner.model, preproc)"
      ],
      "execution_count": null,
      "outputs": []
    },
    {
      "cell_type": "code",
      "metadata": {
        "colab_type": "code",
        "id": "wRHiy01j0MpT",
        "colab": {
          "base_uri": "https://localhost:8080/",
          "height": 17
        },
        "outputId": "06aacaee-4c34-4c0e-988d-a773be7a1e1b"
      },
      "source": [
        "Y_new6 = predictor.predict(x_new)"
      ],
      "execution_count": null,
      "outputs": [
        {
          "output_type": "display_data",
          "data": {
            "text/html": [
              ""
            ],
            "text/plain": [
              "<IPython.core.display.HTML object>"
            ]
          },
          "metadata": {
            "tags": []
          }
        }
      ]
    },
    {
      "cell_type": "code",
      "metadata": {
        "colab_type": "code",
        "id": "BgL1cmKS0Mpf",
        "colab": {}
      },
      "source": [
        "test6 = pd.DataFrame(list(zip(test['id'], Y_new6)), \n",
        "               columns = ['id', 'label'])\n",
        "test6\n",
        "test6.to_csv('test6.csv',index=False)"
      ],
      "execution_count": null,
      "outputs": []
    }
  ]
}