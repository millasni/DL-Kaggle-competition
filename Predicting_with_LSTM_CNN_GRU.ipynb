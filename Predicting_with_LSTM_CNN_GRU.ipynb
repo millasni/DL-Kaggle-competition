{
  "nbformat": 4,
  "nbformat_minor": 0,
  "metadata": {
    "colab": {
      "name": "Predicting_with_LSTM_CNN_GRU.ipynb",
      "provenance": [],
      "collapsed_sections": [
        "DsTH-Q4o76_S"
      ],
      "toc_visible": true
    },
    "kernelspec": {
      "name": "python3",
      "display_name": "Python 3"
    }
  },
  "cells": [
    {
      "cell_type": "markdown",
      "metadata": {
        "id": "Uyz7ZdY2gpzy",
        "colab_type": "text"
      },
      "source": [
        "# 1. Summary\n",
        "\n",
        "Please note that no external data was used to improve predictions, i.e. only data available in 5 files on Kaggle was used in training models.\n",
        "\n",
        "This code file contains predictions with **CNN, LSTM, GRU** by using:\n",
        "\n",
        "*   Just article titles (valid.accuracy capped at 75% in colab and at 72.6% in Kaggle) \n",
        "*   Article own titles + titles of incoming/outgoing references concatenated - accuracy about 80.8-81.1% in colab, 81.7-82.1% in kaggle\n",
        "*   Embeddings learnt on the training set vs GloVe and Word2Vec embeddings.\n",
        "\n",
        "Other models were implemented in separate files:\n",
        "\n",
        "*   **Using BERT with ktrain in keras** - accuracy 75.3% in colab, 74% in kaggle using own titles only; own titles+reference titles - 81.5% acc in colab, not used for kaggle uploads due to lower accuracy than for other implementation of BERT.\n",
        "*   **Using BERT in PyTorch** - accuracy using titles only: 76% in colab, 74.5% in kaggle; accuracy using own titles + titles of incoming/outgoing references: 83-85% in colab and 81.7-82.9% in kaggle (trained on whole training data for 3 epochs). **The best model produces 82.86% accuracy on kaggle**.\n",
        "*   **Using text mining techniques** - accuracy using own titles only with logistic regression on TF-IDF matrix - 72% in colab and 69.6% in kaggle. Using own titles + reference titles concatenated + TF-IDF: logistic regression: 82% in colab and kaggle; multi-layer perceptron with (128,256) layers: 82.6% in kaggle (**the second-best!**).\n",
        "\n",
        "It's interesting that using TF-IDF matrix of own titles + reference titles and a logistic regression or multilayer perceptron allows reaching higher accuracy than with most specialized NLP models except BERT and one instance of CNN. It might be due to the fact that our training data is small (12k)."
      ]
    },
    {
      "cell_type": "markdown",
      "metadata": {
        "id": "UBP76s36DZhs",
        "colab_type": "text"
      },
      "source": [
        "# 2. Data prep"
      ]
    },
    {
      "cell_type": "markdown",
      "metadata": {
        "id": "zvIRP07PgeiF",
        "colab_type": "text"
      },
      "source": [
        "## Reading in data and installing libraries"
      ]
    },
    {
      "cell_type": "code",
      "metadata": {
        "id": "75D3A19MjlY2",
        "colab_type": "code",
        "colab": {
          "base_uri": "https://localhost:8080/",
          "height": 117
        },
        "outputId": "3b4198b5-e0d0-436b-bb68-24b8ed15307a"
      },
      "source": [
        "# download the repo to get access to data\n",
        "!rm -rf DL-Kaggle-competition/\n",
        "!git clone https://github.com/millasni/DL-Kaggle-competition/"
      ],
      "execution_count": null,
      "outputs": [
        {
          "output_type": "stream",
          "text": [
            "Cloning into 'DL-Kaggle-competition'...\n",
            "remote: Enumerating objects: 25, done.\u001b[K\n",
            "remote: Counting objects: 100% (25/25), done.\u001b[K\n",
            "remote: Compressing objects: 100% (21/21), done.\u001b[K\n",
            "remote: Total 25 (delta 4), reused 23 (delta 2), pack-reused 0\u001b[K\n",
            "Unpacking objects: 100% (25/25), done.\n"
          ],
          "name": "stdout"
        }
      ]
    },
    {
      "cell_type": "code",
      "metadata": {
        "id": "cmaaxB6XmnrN",
        "colab_type": "code",
        "colab": {
          "base_uri": "https://localhost:8080/",
          "height": 1000
        },
        "outputId": "2c6ffecc-7605-4252-a80b-e8218f5483f3"
      },
      "source": [
        "!pip install -q torch skorch torchvision torchtext\n",
        "tf\n",
        "!pip install keras\n",
        "!pip install h5py\n",
        "!pip3 install ktrain\n",
        "!pip install NLTK\n",
        "# !pip install bert-tensorflow"
      ],
      "execution_count": null,
      "outputs": [
        {
          "output_type": "stream",
          "text": [
            "\u001b[?25l\r\u001b[K     |██▉                             | 10kB 17.7MB/s eta 0:00:01\r\u001b[K     |█████▊                          | 20kB 2.5MB/s eta 0:00:01\r\u001b[K     |████████▋                       | 30kB 3.6MB/s eta 0:00:01\r\u001b[K     |███████████▌                    | 40kB 2.2MB/s eta 0:00:01\r\u001b[K     |██████████████▍                 | 51kB 2.7MB/s eta 0:00:01\r\u001b[K     |█████████████████▎              | 61kB 3.2MB/s eta 0:00:01\r\u001b[K     |████████████████████▏           | 71kB 3.7MB/s eta 0:00:01\r\u001b[K     |███████████████████████         | 81kB 2.9MB/s eta 0:00:01\r\u001b[K     |██████████████████████████      | 92kB 3.2MB/s eta 0:00:01\r\u001b[K     |████████████████████████████▉   | 102kB 3.5MB/s eta 0:00:01\r\u001b[K     |███████████████████████████████▊| 112kB 3.5MB/s eta 0:00:01\r\u001b[K     |████████████████████████████████| 122kB 3.5MB/s \n",
            "\u001b[?25hRequirement already satisfied: tensorflow in /usr/local/lib/python3.6/dist-packages (2.2.0rc2)\n",
            "Requirement already satisfied: wrapt>=1.11.1 in /usr/local/lib/python3.6/dist-packages (from tensorflow) (1.12.1)\n",
            "Requirement already satisfied: numpy<2.0,>=1.16.0 in /usr/local/lib/python3.6/dist-packages (from tensorflow) (1.18.2)\n",
            "Requirement already satisfied: keras-preprocessing>=1.1.0 in /usr/local/lib/python3.6/dist-packages (from tensorflow) (1.1.0)\n",
            "Requirement already satisfied: tensorflow-estimator<2.3.0,>=2.2.0rc0 in /usr/local/lib/python3.6/dist-packages (from tensorflow) (2.2.0rc0)\n",
            "Requirement already satisfied: gast==0.3.3 in /usr/local/lib/python3.6/dist-packages (from tensorflow) (0.3.3)\n",
            "Requirement already satisfied: wheel>=0.26; python_version >= \"3\" in /usr/local/lib/python3.6/dist-packages (from tensorflow) (0.34.2)\n",
            "Requirement already satisfied: absl-py>=0.7.0 in /usr/local/lib/python3.6/dist-packages (from tensorflow) (0.9.0)\n",
            "Requirement already satisfied: astunparse==1.6.3 in /usr/local/lib/python3.6/dist-packages (from tensorflow) (1.6.3)\n",
            "Requirement already satisfied: tensorboard<2.3.0,>=2.2.0 in /usr/local/lib/python3.6/dist-packages (from tensorflow) (2.2.0)\n",
            "Requirement already satisfied: scipy==1.4.1; python_version >= \"3\" in /usr/local/lib/python3.6/dist-packages (from tensorflow) (1.4.1)\n",
            "Requirement already satisfied: h5py<2.11.0,>=2.10.0 in /usr/local/lib/python3.6/dist-packages (from tensorflow) (2.10.0)\n",
            "Requirement already satisfied: opt-einsum>=2.3.2 in /usr/local/lib/python3.6/dist-packages (from tensorflow) (3.2.0)\n",
            "Requirement already satisfied: grpcio>=1.8.6 in /usr/local/lib/python3.6/dist-packages (from tensorflow) (1.28.1)\n",
            "Requirement already satisfied: protobuf>=3.8.0 in /usr/local/lib/python3.6/dist-packages (from tensorflow) (3.10.0)\n",
            "Requirement already satisfied: google-pasta>=0.1.8 in /usr/local/lib/python3.6/dist-packages (from tensorflow) (0.2.0)\n",
            "Requirement already satisfied: termcolor>=1.1.0 in /usr/local/lib/python3.6/dist-packages (from tensorflow) (1.1.0)\n",
            "Requirement already satisfied: six>=1.12.0 in /usr/local/lib/python3.6/dist-packages (from tensorflow) (1.12.0)\n",
            "Requirement already satisfied: requests<3,>=2.21.0 in /usr/local/lib/python3.6/dist-packages (from tensorboard<2.3.0,>=2.2.0->tensorflow) (2.21.0)\n",
            "Requirement already satisfied: setuptools>=41.0.0 in /usr/local/lib/python3.6/dist-packages (from tensorboard<2.3.0,>=2.2.0->tensorflow) (46.1.3)\n",
            "Requirement already satisfied: tensorboard-plugin-wit>=1.6.0 in /usr/local/lib/python3.6/dist-packages (from tensorboard<2.3.0,>=2.2.0->tensorflow) (1.6.0.post3)\n",
            "Requirement already satisfied: werkzeug>=0.11.15 in /usr/local/lib/python3.6/dist-packages (from tensorboard<2.3.0,>=2.2.0->tensorflow) (1.0.1)\n",
            "Requirement already satisfied: google-auth<2,>=1.6.3 in /usr/local/lib/python3.6/dist-packages (from tensorboard<2.3.0,>=2.2.0->tensorflow) (1.7.2)\n",
            "Requirement already satisfied: markdown>=2.6.8 in /usr/local/lib/python3.6/dist-packages (from tensorboard<2.3.0,>=2.2.0->tensorflow) (3.2.1)\n",
            "Requirement already satisfied: google-auth-oauthlib<0.5,>=0.4.1 in /usr/local/lib/python3.6/dist-packages (from tensorboard<2.3.0,>=2.2.0->tensorflow) (0.4.1)\n",
            "Requirement already satisfied: idna<2.9,>=2.5 in /usr/local/lib/python3.6/dist-packages (from requests<3,>=2.21.0->tensorboard<2.3.0,>=2.2.0->tensorflow) (2.8)\n",
            "Requirement already satisfied: urllib3<1.25,>=1.21.1 in /usr/local/lib/python3.6/dist-packages (from requests<3,>=2.21.0->tensorboard<2.3.0,>=2.2.0->tensorflow) (1.24.3)\n",
            "Requirement already satisfied: certifi>=2017.4.17 in /usr/local/lib/python3.6/dist-packages (from requests<3,>=2.21.0->tensorboard<2.3.0,>=2.2.0->tensorflow) (2020.4.5.1)\n",
            "Requirement already satisfied: chardet<3.1.0,>=3.0.2 in /usr/local/lib/python3.6/dist-packages (from requests<3,>=2.21.0->tensorboard<2.3.0,>=2.2.0->tensorflow) (3.0.4)\n",
            "Requirement already satisfied: cachetools<3.2,>=2.0.0 in /usr/local/lib/python3.6/dist-packages (from google-auth<2,>=1.6.3->tensorboard<2.3.0,>=2.2.0->tensorflow) (3.1.1)\n",
            "Requirement already satisfied: pyasn1-modules>=0.2.1 in /usr/local/lib/python3.6/dist-packages (from google-auth<2,>=1.6.3->tensorboard<2.3.0,>=2.2.0->tensorflow) (0.2.8)\n",
            "Requirement already satisfied: rsa<4.1,>=3.1.4 in /usr/local/lib/python3.6/dist-packages (from google-auth<2,>=1.6.3->tensorboard<2.3.0,>=2.2.0->tensorflow) (4.0)\n",
            "Requirement already satisfied: requests-oauthlib>=0.7.0 in /usr/local/lib/python3.6/dist-packages (from google-auth-oauthlib<0.5,>=0.4.1->tensorboard<2.3.0,>=2.2.0->tensorflow) (1.3.0)\n",
            "Requirement already satisfied: pyasn1<0.5.0,>=0.4.6 in /usr/local/lib/python3.6/dist-packages (from pyasn1-modules>=0.2.1->google-auth<2,>=1.6.3->tensorboard<2.3.0,>=2.2.0->tensorflow) (0.4.8)\n",
            "Requirement already satisfied: oauthlib>=3.0.0 in /usr/local/lib/python3.6/dist-packages (from requests-oauthlib>=0.7.0->google-auth-oauthlib<0.5,>=0.4.1->tensorboard<2.3.0,>=2.2.0->tensorflow) (3.1.0)\n",
            "Requirement already satisfied: keras in /usr/local/lib/python3.6/dist-packages (2.3.1)\n",
            "Requirement already satisfied: scipy>=0.14 in /usr/local/lib/python3.6/dist-packages (from keras) (1.4.1)\n",
            "Requirement already satisfied: pyyaml in /usr/local/lib/python3.6/dist-packages (from keras) (3.13)\n",
            "Requirement already satisfied: keras-preprocessing>=1.0.5 in /usr/local/lib/python3.6/dist-packages (from keras) (1.1.0)\n",
            "Requirement already satisfied: keras-applications>=1.0.6 in /usr/local/lib/python3.6/dist-packages (from keras) (1.0.8)\n",
            "Requirement already satisfied: h5py in /usr/local/lib/python3.6/dist-packages (from keras) (2.10.0)\n",
            "Requirement already satisfied: numpy>=1.9.1 in /usr/local/lib/python3.6/dist-packages (from keras) (1.18.2)\n",
            "Requirement already satisfied: six>=1.9.0 in /usr/local/lib/python3.6/dist-packages (from keras) (1.12.0)\n",
            "Requirement already satisfied: h5py in /usr/local/lib/python3.6/dist-packages (2.10.0)\n",
            "Requirement already satisfied: six in /usr/local/lib/python3.6/dist-packages (from h5py) (1.12.0)\n",
            "Requirement already satisfied: numpy>=1.7 in /usr/local/lib/python3.6/dist-packages (from h5py) (1.18.2)\n",
            "Collecting ktrain\n",
            "\u001b[?25l  Downloading https://files.pythonhosted.org/packages/99/26/b66d9a4e27ca2854ee7f2c66084f90b7bf7e27e46b7611be52f2fe9ae5dc/ktrain-0.13.2.tar.gz (25.2MB)\n",
            "\u001b[K     |████████████████████████████████| 25.2MB 183kB/s \n",
            "\u001b[?25hCollecting tensorflow==2.1.0\n",
            "\u001b[?25l  Downloading https://files.pythonhosted.org/packages/85/d4/c0cd1057b331bc38b65478302114194bd8e1b9c2bbc06e300935c0e93d90/tensorflow-2.1.0-cp36-cp36m-manylinux2010_x86_64.whl (421.8MB)\n",
            "\u001b[K     |████████████████████████████████| 421.8MB 37kB/s \n",
            "\u001b[?25hRequirement already satisfied: scikit-learn>=0.21.3 in /usr/local/lib/python3.6/dist-packages (from ktrain) (0.22.2.post1)\n",
            "Requirement already satisfied: matplotlib>=3.0.0 in /usr/local/lib/python3.6/dist-packages (from ktrain) (3.2.1)\n",
            "Requirement already satisfied: pandas>=1.0.1 in /usr/local/lib/python3.6/dist-packages (from ktrain) (1.0.3)\n",
            "Requirement already satisfied: fastprogress>=0.1.21 in /usr/local/lib/python3.6/dist-packages (from ktrain) (0.2.3)\n",
            "Collecting keras_bert>=0.81.0\n",
            "  Downloading https://files.pythonhosted.org/packages/2c/0f/cdc886c1018943ea62d3209bc964413d5aa9d0eb7e493abd8545be679294/keras-bert-0.81.0.tar.gz\n",
            "Requirement already satisfied: requests in /usr/local/lib/python3.6/dist-packages (from ktrain) (2.21.0)\n",
            "Requirement already satisfied: joblib in /usr/local/lib/python3.6/dist-packages (from ktrain) (0.14.1)\n",
            "Collecting langdetect\n",
            "\u001b[?25l  Downloading https://files.pythonhosted.org/packages/56/a3/8407c1e62d5980188b4acc45ef3d94b933d14a2ebc9ef3505f22cf772570/langdetect-1.0.8.tar.gz (981kB)\n",
            "\u001b[K     |████████████████████████████████| 983kB 42.9MB/s \n",
            "\u001b[?25hRequirement already satisfied: jieba in /usr/local/lib/python3.6/dist-packages (from ktrain) (0.42.1)\n",
            "Collecting cchardet\n",
            "\u001b[?25l  Downloading https://files.pythonhosted.org/packages/1e/c5/7e1a0d7b4afd83d6f8de794fce82820ec4c5136c6d52e14000822681a842/cchardet-2.1.6-cp36-cp36m-manylinux2010_x86_64.whl (241kB)\n",
            "\u001b[K     |████████████████████████████████| 245kB 48.0MB/s \n",
            "\u001b[?25hRequirement already satisfied: networkx>=2.3 in /usr/local/lib/python3.6/dist-packages (from ktrain) (2.4)\n",
            "Requirement already satisfied: bokeh in /usr/local/lib/python3.6/dist-packages (from ktrain) (1.4.0)\n",
            "Collecting seqeval\n",
            "  Downloading https://files.pythonhosted.org/packages/34/91/068aca8d60ce56dd9ba4506850e876aba5e66a6f2f29aa223224b50df0de/seqeval-0.0.12.tar.gz\n",
            "Requirement already satisfied: packaging in /usr/local/lib/python3.6/dist-packages (from ktrain) (20.3)\n",
            "Requirement already satisfied: tensorflow_datasets in /usr/local/lib/python3.6/dist-packages (from ktrain) (2.1.0)\n",
            "Collecting transformers>=2.7.0\n",
            "\u001b[?25l  Downloading https://files.pythonhosted.org/packages/a3/78/92cedda05552398352ed9784908b834ee32a0bd071a9b32de287327370b7/transformers-2.8.0-py3-none-any.whl (563kB)\n",
            "\u001b[K     |████████████████████████████████| 573kB 41.7MB/s \n",
            "\u001b[?25hRequirement already satisfied: ipython in /usr/local/lib/python3.6/dist-packages (from ktrain) (5.5.0)\n",
            "Collecting syntok\n",
            "  Downloading https://files.pythonhosted.org/packages/ff/36/5b423791cd877a21c2771a2b070194270f163f2969066923f89aa3099e2d/syntok-1.2.2.tar.gz\n",
            "Requirement already satisfied: six>=1.12.0 in /usr/local/lib/python3.6/dist-packages (from tensorflow==2.1.0->ktrain) (1.12.0)\n",
            "Requirement already satisfied: absl-py>=0.7.0 in /usr/local/lib/python3.6/dist-packages (from tensorflow==2.1.0->ktrain) (0.9.0)\n",
            "Requirement already satisfied: numpy<2.0,>=1.16.0 in /usr/local/lib/python3.6/dist-packages (from tensorflow==2.1.0->ktrain) (1.18.2)\n",
            "Collecting gast==0.2.2\n",
            "  Downloading https://files.pythonhosted.org/packages/4e/35/11749bf99b2d4e3cceb4d55ca22590b0d7c2c62b9de38ac4a4a7f4687421/gast-0.2.2.tar.gz\n",
            "Collecting tensorboard<2.2.0,>=2.1.0\n",
            "\u001b[?25l  Downloading https://files.pythonhosted.org/packages/d9/41/bbf49b61370e4f4d245d4c6051dfb6db80cec672605c91b1652ac8cc3d38/tensorboard-2.1.1-py3-none-any.whl (3.8MB)\n",
            "\u001b[K     |████████████████████████████████| 3.9MB 44.0MB/s \n",
            "\u001b[?25hRequirement already satisfied: keras-applications>=1.0.8 in /usr/local/lib/python3.6/dist-packages (from tensorflow==2.1.0->ktrain) (1.0.8)\n",
            "Requirement already satisfied: wrapt>=1.11.1 in /usr/local/lib/python3.6/dist-packages (from tensorflow==2.1.0->ktrain) (1.12.1)\n",
            "Requirement already satisfied: scipy==1.4.1; python_version >= \"3\" in /usr/local/lib/python3.6/dist-packages (from tensorflow==2.1.0->ktrain) (1.4.1)\n",
            "Requirement already satisfied: keras-preprocessing>=1.1.0 in /usr/local/lib/python3.6/dist-packages (from tensorflow==2.1.0->ktrain) (1.1.0)\n",
            "Requirement already satisfied: grpcio>=1.8.6 in /usr/local/lib/python3.6/dist-packages (from tensorflow==2.1.0->ktrain) (1.28.1)\n",
            "Requirement already satisfied: opt-einsum>=2.3.2 in /usr/local/lib/python3.6/dist-packages (from tensorflow==2.1.0->ktrain) (3.2.0)\n",
            "Collecting tensorflow-estimator<2.2.0,>=2.1.0rc0\n",
            "\u001b[?25l  Downloading https://files.pythonhosted.org/packages/18/90/b77c328a1304437ab1310b463e533fa7689f4bfc41549593056d812fab8e/tensorflow_estimator-2.1.0-py2.py3-none-any.whl (448kB)\n",
            "\u001b[K     |████████████████████████████████| 450kB 38.9MB/s \n",
            "\u001b[?25hRequirement already satisfied: termcolor>=1.1.0 in /usr/local/lib/python3.6/dist-packages (from tensorflow==2.1.0->ktrain) (1.1.0)\n",
            "Requirement already satisfied: protobuf>=3.8.0 in /usr/local/lib/python3.6/dist-packages (from tensorflow==2.1.0->ktrain) (3.10.0)\n",
            "Requirement already satisfied: wheel>=0.26; python_version >= \"3\" in /usr/local/lib/python3.6/dist-packages (from tensorflow==2.1.0->ktrain) (0.34.2)\n",
            "Requirement already satisfied: astor>=0.6.0 in /usr/local/lib/python3.6/dist-packages (from tensorflow==2.1.0->ktrain) (0.8.1)\n",
            "Requirement already satisfied: google-pasta>=0.1.6 in /usr/local/lib/python3.6/dist-packages (from tensorflow==2.1.0->ktrain) (0.2.0)\n",
            "Requirement already satisfied: kiwisolver>=1.0.1 in /usr/local/lib/python3.6/dist-packages (from matplotlib>=3.0.0->ktrain) (1.2.0)\n",
            "Requirement already satisfied: python-dateutil>=2.1 in /usr/local/lib/python3.6/dist-packages (from matplotlib>=3.0.0->ktrain) (2.8.1)\n",
            "Requirement already satisfied: pyparsing!=2.0.4,!=2.1.2,!=2.1.6,>=2.0.1 in /usr/local/lib/python3.6/dist-packages (from matplotlib>=3.0.0->ktrain) (2.4.7)\n",
            "Requirement already satisfied: cycler>=0.10 in /usr/local/lib/python3.6/dist-packages (from matplotlib>=3.0.0->ktrain) (0.10.0)\n",
            "Requirement already satisfied: pytz>=2017.2 in /usr/local/lib/python3.6/dist-packages (from pandas>=1.0.1->ktrain) (2018.9)\n",
            "Requirement already satisfied: Keras in /usr/local/lib/python3.6/dist-packages (from keras_bert>=0.81.0->ktrain) (2.3.1)\n",
            "Collecting keras-transformer>=0.30.0\n",
            "  Downloading https://files.pythonhosted.org/packages/54/0c/fede535ac576c03863c44bf2e0bf051fe21f5e10103631b6b6236ae446f3/keras-transformer-0.32.0.tar.gz\n",
            "Requirement already satisfied: chardet<3.1.0,>=3.0.2 in /usr/local/lib/python3.6/dist-packages (from requests->ktrain) (3.0.4)\n",
            "Requirement already satisfied: urllib3<1.25,>=1.21.1 in /usr/local/lib/python3.6/dist-packages (from requests->ktrain) (1.24.3)\n",
            "Requirement already satisfied: idna<2.9,>=2.5 in /usr/local/lib/python3.6/dist-packages (from requests->ktrain) (2.8)\n",
            "Requirement already satisfied: certifi>=2017.4.17 in /usr/local/lib/python3.6/dist-packages (from requests->ktrain) (2020.4.5.1)\n",
            "Requirement already satisfied: decorator>=4.3.0 in /usr/local/lib/python3.6/dist-packages (from networkx>=2.3->ktrain) (4.4.2)\n",
            "Requirement already satisfied: PyYAML>=3.10 in /usr/local/lib/python3.6/dist-packages (from bokeh->ktrain) (3.13)\n",
            "Requirement already satisfied: pillow>=4.0 in /usr/local/lib/python3.6/dist-packages (from bokeh->ktrain) (7.0.0)\n",
            "Requirement already satisfied: Jinja2>=2.7 in /usr/local/lib/python3.6/dist-packages (from bokeh->ktrain) (2.11.1)\n",
            "Requirement already satisfied: tornado>=4.3 in /usr/local/lib/python3.6/dist-packages (from bokeh->ktrain) (4.5.3)\n",
            "Requirement already satisfied: tensorflow-metadata in /usr/local/lib/python3.6/dist-packages (from tensorflow_datasets->ktrain) (0.21.1)\n",
            "Requirement already satisfied: future in /usr/local/lib/python3.6/dist-packages (from tensorflow_datasets->ktrain) (0.16.0)\n",
            "Requirement already satisfied: attrs>=18.1.0 in /usr/local/lib/python3.6/dist-packages (from tensorflow_datasets->ktrain) (19.3.0)\n",
            "Requirement already satisfied: tqdm in /usr/local/lib/python3.6/dist-packages (from tensorflow_datasets->ktrain) (4.38.0)\n",
            "Requirement already satisfied: dill in /usr/local/lib/python3.6/dist-packages (from tensorflow_datasets->ktrain) (0.3.1.1)\n",
            "Requirement already satisfied: promise in /usr/local/lib/python3.6/dist-packages (from tensorflow_datasets->ktrain) (2.3)\n",
            "Requirement already satisfied: regex!=2019.12.17 in /usr/local/lib/python3.6/dist-packages (from transformers>=2.7.0->ktrain) (2019.12.20)\n",
            "Collecting sentencepiece\n",
            "\u001b[?25l  Downloading https://files.pythonhosted.org/packages/74/f4/2d5214cbf13d06e7cb2c20d84115ca25b53ea76fa1f0ade0e3c9749de214/sentencepiece-0.1.85-cp36-cp36m-manylinux1_x86_64.whl (1.0MB)\n",
            "\u001b[K     |████████████████████████████████| 1.0MB 46.6MB/s \n",
            "\u001b[?25hCollecting sacremoses\n",
            "\u001b[?25l  Downloading https://files.pythonhosted.org/packages/99/50/93509f906a40bffd7d175f97fd75ea328ad9bd91f48f59c4bd084c94a25e/sacremoses-0.0.41.tar.gz (883kB)\n",
            "\u001b[K     |████████████████████████████████| 890kB 44.2MB/s \n",
            "\u001b[?25hRequirement already satisfied: dataclasses; python_version < \"3.7\" in /usr/local/lib/python3.6/dist-packages (from transformers>=2.7.0->ktrain) (0.7)\n",
            "Collecting tokenizers==0.5.2\n",
            "\u001b[?25l  Downloading https://files.pythonhosted.org/packages/d1/3f/73c881ea4723e43c1e9acf317cf407fab3a278daab3a69c98dcac511c04f/tokenizers-0.5.2-cp36-cp36m-manylinux1_x86_64.whl (3.7MB)\n",
            "\u001b[K     |████████████████████████████████| 3.7MB 44.4MB/s \n",
            "\u001b[?25hRequirement already satisfied: filelock in /usr/local/lib/python3.6/dist-packages (from transformers>=2.7.0->ktrain) (3.0.12)\n",
            "Requirement already satisfied: boto3 in /usr/local/lib/python3.6/dist-packages (from transformers>=2.7.0->ktrain) (1.12.38)\n",
            "Requirement already satisfied: traitlets>=4.2 in /usr/local/lib/python3.6/dist-packages (from ipython->ktrain) (4.3.3)\n",
            "Requirement already satisfied: pygments in /usr/local/lib/python3.6/dist-packages (from ipython->ktrain) (2.1.3)\n",
            "Requirement already satisfied: pexpect; sys_platform != \"win32\" in /usr/local/lib/python3.6/dist-packages (from ipython->ktrain) (4.8.0)\n",
            "Requirement already satisfied: setuptools>=18.5 in /usr/local/lib/python3.6/dist-packages (from ipython->ktrain) (46.1.3)\n",
            "Requirement already satisfied: pickleshare in /usr/local/lib/python3.6/dist-packages (from ipython->ktrain) (0.7.5)\n",
            "Requirement already satisfied: simplegeneric>0.8 in /usr/local/lib/python3.6/dist-packages (from ipython->ktrain) (0.8.1)\n",
            "Requirement already satisfied: prompt-toolkit<2.0.0,>=1.0.4 in /usr/local/lib/python3.6/dist-packages (from ipython->ktrain) (1.0.18)\n",
            "Requirement already satisfied: google-auth<2,>=1.6.3 in /usr/local/lib/python3.6/dist-packages (from tensorboard<2.2.0,>=2.1.0->tensorflow==2.1.0->ktrain) (1.7.2)\n",
            "Requirement already satisfied: google-auth-oauthlib<0.5,>=0.4.1 in /usr/local/lib/python3.6/dist-packages (from tensorboard<2.2.0,>=2.1.0->tensorflow==2.1.0->ktrain) (0.4.1)\n",
            "Requirement already satisfied: werkzeug>=0.11.15 in /usr/local/lib/python3.6/dist-packages (from tensorboard<2.2.0,>=2.1.0->tensorflow==2.1.0->ktrain) (1.0.1)\n",
            "Requirement already satisfied: markdown>=2.6.8 in /usr/local/lib/python3.6/dist-packages (from tensorboard<2.2.0,>=2.1.0->tensorflow==2.1.0->ktrain) (3.2.1)\n",
            "Requirement already satisfied: h5py in /usr/local/lib/python3.6/dist-packages (from keras-applications>=1.0.8->tensorflow==2.1.0->ktrain) (2.10.0)\n",
            "Collecting keras-pos-embd>=0.10.0\n",
            "  Downloading https://files.pythonhosted.org/packages/09/70/b63ed8fc660da2bb6ae29b9895401c628da5740c048c190b5d7107cadd02/keras-pos-embd-0.11.0.tar.gz\n",
            "Collecting keras-multi-head>=0.22.0\n",
            "  Downloading https://files.pythonhosted.org/packages/40/3e/d0a64bb2ac5217928effe4507c26bbd19b86145d16a1948bc2d4f4c6338a/keras-multi-head-0.22.0.tar.gz\n",
            "Collecting keras-layer-normalization>=0.12.0\n",
            "  Downloading https://files.pythonhosted.org/packages/a4/0e/d1078df0494bac9ce1a67954e5380b6e7569668f0f3b50a9531c62c1fc4a/keras-layer-normalization-0.14.0.tar.gz\n",
            "Collecting keras-position-wise-feed-forward>=0.5.0\n",
            "  Downloading https://files.pythonhosted.org/packages/e3/59/f0faa1037c033059e7e9e7758e6c23b4d1c0772cd48de14c4b6fd4033ad5/keras-position-wise-feed-forward-0.6.0.tar.gz\n",
            "Collecting keras-embed-sim>=0.7.0\n",
            "  Downloading https://files.pythonhosted.org/packages/bc/20/735fd53f6896e2af63af47e212601c1b8a7a80d00b6126c388c9d1233892/keras-embed-sim-0.7.0.tar.gz\n",
            "Requirement already satisfied: MarkupSafe>=0.23 in /usr/local/lib/python3.6/dist-packages (from Jinja2>=2.7->bokeh->ktrain) (1.1.1)\n",
            "Requirement already satisfied: googleapis-common-protos in /usr/local/lib/python3.6/dist-packages (from tensorflow-metadata->tensorflow_datasets->ktrain) (1.51.0)\n",
            "Requirement already satisfied: click in /usr/local/lib/python3.6/dist-packages (from sacremoses->transformers>=2.7.0->ktrain) (7.1.1)\n",
            "Requirement already satisfied: jmespath<1.0.0,>=0.7.1 in /usr/local/lib/python3.6/dist-packages (from boto3->transformers>=2.7.0->ktrain) (0.9.5)\n",
            "Requirement already satisfied: s3transfer<0.4.0,>=0.3.0 in /usr/local/lib/python3.6/dist-packages (from boto3->transformers>=2.7.0->ktrain) (0.3.3)\n",
            "Requirement already satisfied: botocore<1.16.0,>=1.15.38 in /usr/local/lib/python3.6/dist-packages (from boto3->transformers>=2.7.0->ktrain) (1.15.38)\n",
            "Requirement already satisfied: ipython-genutils in /usr/local/lib/python3.6/dist-packages (from traitlets>=4.2->ipython->ktrain) (0.2.0)\n",
            "Requirement already satisfied: ptyprocess>=0.5 in /usr/local/lib/python3.6/dist-packages (from pexpect; sys_platform != \"win32\"->ipython->ktrain) (0.6.0)\n",
            "Requirement already satisfied: wcwidth in /usr/local/lib/python3.6/dist-packages (from prompt-toolkit<2.0.0,>=1.0.4->ipython->ktrain) (0.1.9)\n",
            "Requirement already satisfied: pyasn1-modules>=0.2.1 in /usr/local/lib/python3.6/dist-packages (from google-auth<2,>=1.6.3->tensorboard<2.2.0,>=2.1.0->tensorflow==2.1.0->ktrain) (0.2.8)\n",
            "Requirement already satisfied: rsa<4.1,>=3.1.4 in /usr/local/lib/python3.6/dist-packages (from google-auth<2,>=1.6.3->tensorboard<2.2.0,>=2.1.0->tensorflow==2.1.0->ktrain) (4.0)\n",
            "Requirement already satisfied: cachetools<3.2,>=2.0.0 in /usr/local/lib/python3.6/dist-packages (from google-auth<2,>=1.6.3->tensorboard<2.2.0,>=2.1.0->tensorflow==2.1.0->ktrain) (3.1.1)\n",
            "Requirement already satisfied: requests-oauthlib>=0.7.0 in /usr/local/lib/python3.6/dist-packages (from google-auth-oauthlib<0.5,>=0.4.1->tensorboard<2.2.0,>=2.1.0->tensorflow==2.1.0->ktrain) (1.3.0)\n",
            "Collecting keras-self-attention==0.41.0\n",
            "  Downloading https://files.pythonhosted.org/packages/1b/1c/01599219bef7266fa43b3316e4f55bcb487734d3bafdc60ffd564f3cfe29/keras-self-attention-0.41.0.tar.gz\n",
            "Requirement already satisfied: docutils<0.16,>=0.10 in /usr/local/lib/python3.6/dist-packages (from botocore<1.16.0,>=1.15.38->boto3->transformers>=2.7.0->ktrain) (0.15.2)\n",
            "Requirement already satisfied: pyasn1<0.5.0,>=0.4.6 in /usr/local/lib/python3.6/dist-packages (from pyasn1-modules>=0.2.1->google-auth<2,>=1.6.3->tensorboard<2.2.0,>=2.1.0->tensorflow==2.1.0->ktrain) (0.4.8)\n",
            "Requirement already satisfied: oauthlib>=3.0.0 in /usr/local/lib/python3.6/dist-packages (from requests-oauthlib>=0.7.0->google-auth-oauthlib<0.5,>=0.4.1->tensorboard<2.2.0,>=2.1.0->tensorflow==2.1.0->ktrain) (3.1.0)\n",
            "Building wheels for collected packages: ktrain, keras-bert, langdetect, seqeval, syntok, gast, keras-transformer, sacremoses, keras-pos-embd, keras-multi-head, keras-layer-normalization, keras-position-wise-feed-forward, keras-embed-sim, keras-self-attention\n",
            "  Building wheel for ktrain (setup.py) ... \u001b[?25l\u001b[?25hdone\n",
            "  Created wheel for ktrain: filename=ktrain-0.13.2-cp36-none-any.whl size=25239774 sha256=8cd21c95c633677462b83ceea67cf9d62a6616a561b4cf239b70fbb38a88ccc2\n",
            "  Stored in directory: /root/.cache/pip/wheels/95/fb/62/cf5424c7a9c267b78db4efacfe8b4c3a0a3f1a755f2d63e428\n",
            "  Building wheel for keras-bert (setup.py) ... \u001b[?25l\u001b[?25hdone\n",
            "  Created wheel for keras-bert: filename=keras_bert-0.81.0-cp36-none-any.whl size=37913 sha256=173c1063ebf1de9df4898bd2db8df8f8bf99810f01ccd46ddf9dcb04a6b2b703\n",
            "  Stored in directory: /root/.cache/pip/wheels/bd/27/da/ffc2d573aa48b87440ec4f98bc7c992e3a2d899edb2d22ef9e\n",
            "  Building wheel for langdetect (setup.py) ... \u001b[?25l\u001b[?25hdone\n",
            "  Created wheel for langdetect: filename=langdetect-1.0.8-cp36-none-any.whl size=993193 sha256=a9ac987a158ff54bfeb72333846be8a386344fd7219af059f4a1abd6a1a6bc9b\n",
            "  Stored in directory: /root/.cache/pip/wheels/8d/b3/aa/6d99de9f3841d7d3d40a60ea06e6d669e8e5012e6c8b947a57\n",
            "  Building wheel for seqeval (setup.py) ... \u001b[?25l\u001b[?25hdone\n",
            "  Created wheel for seqeval: filename=seqeval-0.0.12-cp36-none-any.whl size=7424 sha256=c033f232db7a7c2d47124130d97e888226503160753e0517dc85c833d0c30c5d\n",
            "  Stored in directory: /root/.cache/pip/wheels/4f/32/0a/df3b340a82583566975377d65e724895b3fad101a3fb729f68\n",
            "  Building wheel for syntok (setup.py) ... \u001b[?25l\u001b[?25hdone\n",
            "  Created wheel for syntok: filename=syntok-1.2.2-cp36-none-any.whl size=20724 sha256=50a2724be9d469cb874770ab9b5cddca697706d578bf2249e63749e554363ef6\n",
            "  Stored in directory: /root/.cache/pip/wheels/b4/b0/d2/ffdbbc1a16cb37e580fb7b3a6fbaaf09c7f7c163981db385b3\n",
            "  Building wheel for gast (setup.py) ... \u001b[?25l\u001b[?25hdone\n",
            "  Created wheel for gast: filename=gast-0.2.2-cp36-none-any.whl size=7540 sha256=6401c355f40f0860094e4d665c4065e75c9ad777888580d00d464e51ba4d47d9\n",
            "  Stored in directory: /root/.cache/pip/wheels/5c/2e/7e/a1d4d4fcebe6c381f378ce7743a3ced3699feb89bcfbdadadd\n",
            "  Building wheel for keras-transformer (setup.py) ... \u001b[?25l\u001b[?25hdone\n",
            "  Created wheel for keras-transformer: filename=keras_transformer-0.32.0-cp36-none-any.whl size=13266 sha256=6163b96baa8b6b9ee8a407383d8e1d474c4b1befaef5322a8ad4db0371bf4f6a\n",
            "  Stored in directory: /root/.cache/pip/wheels/62/f0/ce/82fa5d024d5ef8e263f26a50dcee23820efe245680ce9c922a\n",
            "  Building wheel for sacremoses (setup.py) ... \u001b[?25l\u001b[?25hdone\n",
            "  Created wheel for sacremoses: filename=sacremoses-0.0.41-cp36-none-any.whl size=893334 sha256=d8b013d0ae69daf6cc54b72906e24d020119908a51b3d6c9cdfc20a16b986736\n",
            "  Stored in directory: /root/.cache/pip/wheels/22/5a/d4/b020a81249de7dc63758a34222feaa668dbe8ebfe9170cc9b1\n",
            "  Building wheel for keras-pos-embd (setup.py) ... \u001b[?25l\u001b[?25hdone\n",
            "  Created wheel for keras-pos-embd: filename=keras_pos_embd-0.11.0-cp36-none-any.whl size=7554 sha256=8bc8dfd7a43e6beb6652f662f48c846707acfe8f7a7ad3b6a6f09ec5a9befda0\n",
            "  Stored in directory: /root/.cache/pip/wheels/5b/a1/a0/ce6b1d49ba1a9a76f592e70cf297b05c96bc9f418146761032\n",
            "  Building wheel for keras-multi-head (setup.py) ... \u001b[?25l\u001b[?25hdone\n",
            "  Created wheel for keras-multi-head: filename=keras_multi_head-0.22.0-cp36-none-any.whl size=15371 sha256=78b46f8d98919680c0a004939e511dc2e167f503f4e79b4ff6e1a1eac5861edd\n",
            "  Stored in directory: /root/.cache/pip/wheels/bb/df/3f/81b36f41b66e6a9cd69224c70a737de2bb6b2f7feb3272c25e\n",
            "  Building wheel for keras-layer-normalization (setup.py) ... \u001b[?25l\u001b[?25hdone\n",
            "  Created wheel for keras-layer-normalization: filename=keras_layer_normalization-0.14.0-cp36-none-any.whl size=5268 sha256=412ddab6e28ab89ae6cf4c820853f4818d7555892f71af4628973167f8ecd315\n",
            "  Stored in directory: /root/.cache/pip/wheels/54/80/22/a638a7d406fd155e507aa33d703e3fa2612b9eb7bb4f4fe667\n",
            "  Building wheel for keras-position-wise-feed-forward (setup.py) ... \u001b[?25l\u001b[?25hdone\n",
            "  Created wheel for keras-position-wise-feed-forward: filename=keras_position_wise_feed_forward-0.6.0-cp36-none-any.whl size=5623 sha256=40364f227a01df2b7d1ecac07a87d654371cd6caf506b39653309031584679ba\n",
            "  Stored in directory: /root/.cache/pip/wheels/39/e2/e2/3514fef126a00574b13bc0b9e23891800158df3a3c19c96e3b\n",
            "  Building wheel for keras-embed-sim (setup.py) ... \u001b[?25l\u001b[?25hdone\n",
            "  Created wheel for keras-embed-sim: filename=keras_embed_sim-0.7.0-cp36-none-any.whl size=4676 sha256=ec1e43057df46f866b736fcccb543562fcebd19911ba898c66d8d53ca5a28ddb\n",
            "  Stored in directory: /root/.cache/pip/wheels/d1/bc/b1/b0c45cee4ca2e6c86586b0218ffafe7f0703c6d07fdf049866\n",
            "  Building wheel for keras-self-attention (setup.py) ... \u001b[?25l\u001b[?25hdone\n",
            "  Created wheel for keras-self-attention: filename=keras_self_attention-0.41.0-cp36-none-any.whl size=17288 sha256=7cf641a88f949daa7048b9f878339a4cb4563ca51c119d3c1fb475373d3e36e6\n",
            "  Stored in directory: /root/.cache/pip/wheels/cc/dc/17/84258b27a04cd38ac91998abe148203720ca696186635db694\n",
            "Successfully built ktrain keras-bert langdetect seqeval syntok gast keras-transformer sacremoses keras-pos-embd keras-multi-head keras-layer-normalization keras-position-wise-feed-forward keras-embed-sim keras-self-attention\n",
            "Installing collected packages: gast, tensorboard, tensorflow-estimator, tensorflow, keras-pos-embd, keras-self-attention, keras-multi-head, keras-layer-normalization, keras-position-wise-feed-forward, keras-embed-sim, keras-transformer, keras-bert, langdetect, cchardet, seqeval, sentencepiece, sacremoses, tokenizers, transformers, syntok, ktrain\n",
            "  Found existing installation: gast 0.3.3\n",
            "    Uninstalling gast-0.3.3:\n",
            "      Successfully uninstalled gast-0.3.3\n",
            "  Found existing installation: tensorboard 2.2.0\n",
            "    Uninstalling tensorboard-2.2.0:\n",
            "      Successfully uninstalled tensorboard-2.2.0\n",
            "  Found existing installation: tensorflow-estimator 2.2.0rc0\n",
            "    Uninstalling tensorflow-estimator-2.2.0rc0:\n",
            "      Successfully uninstalled tensorflow-estimator-2.2.0rc0\n",
            "  Found existing installation: tensorflow 2.2.0rc2\n",
            "    Uninstalling tensorflow-2.2.0rc2:\n",
            "      Successfully uninstalled tensorflow-2.2.0rc2\n",
            "Successfully installed cchardet-2.1.6 gast-0.2.2 keras-bert-0.81.0 keras-embed-sim-0.7.0 keras-layer-normalization-0.14.0 keras-multi-head-0.22.0 keras-pos-embd-0.11.0 keras-position-wise-feed-forward-0.6.0 keras-self-attention-0.41.0 keras-transformer-0.32.0 ktrain-0.13.2 langdetect-1.0.8 sacremoses-0.0.41 sentencepiece-0.1.85 seqeval-0.0.12 syntok-1.2.2 tensorboard-2.1.1 tensorflow-2.1.0 tensorflow-estimator-2.1.0 tokenizers-0.5.2 transformers-2.8.0\n",
            "Requirement already satisfied: NLTK in /usr/local/lib/python3.6/dist-packages (3.2.5)\n",
            "Requirement already satisfied: six in /usr/local/lib/python3.6/dist-packages (from NLTK) (1.12.0)\n"
          ],
          "name": "stdout"
        }
      ]
    },
    {
      "cell_type": "code",
      "metadata": {
        "id": "HXYdZ9IagpF7",
        "colab_type": "code",
        "colab": {
          "base_uri": "https://localhost:8080/",
          "height": 33
        },
        "outputId": "093629e1-33bd-4a12-924c-4f6589e35894"
      },
      "source": [
        "import pandas as pd\n",
        "import torch\n",
        "import torch.nn as nn\n",
        "import torch.nn.functional as F\n",
        "import torch.optim as optim\n",
        "import skorch\n",
        "import sklearn\n",
        "import numpy as np\n",
        "import matplotlib.pyplot as plt\n",
        "import random\n",
        "\n",
        "import tensorflow as tf\n",
        "from tensorflow.keras import backend as K # or from keras...?\n",
        "from tensorflow.keras.backend import concatenate\n",
        "\n",
        "from tensorflow.keras.models import Sequential, load_model\n",
        "from tensorflow.keras.models import Model\n",
        "\n",
        "from tensorflow.keras.layers import Input\n",
        "from tensorflow.keras.layers import Embedding, Dense, GRU, LSTM, Bidirectional,SpatialDropout1D,Concatenate\n",
        "from tensorflow.keras.layers import Conv1D,GlobalMaxPooling1D,MaxPooling1D,Dropout,Flatten,Activation\n",
        "\n",
        "# from tensorflow.python.keras.layers import Dense\n",
        "# from tensorflow.python.keras import Sequential\n",
        "\n",
        "from keras.utils.np_utils import to_categorical \n",
        "from keras.preprocessing.text import Tokenizer \n",
        "from keras.preprocessing.sequence import pad_sequences \n",
        "from tensorflow.keras import optimizers\n",
        "from keras.initializers import Constant\n",
        "from tensorflow.keras.callbacks import ModelCheckpoint,EarlyStopping\n",
        "\n",
        "import ktrain\n",
        "\n",
        "from sklearn.model_selection import train_test_split\n",
        "from sklearn.model_selection import StratifiedKFold\n",
        "from sklearn.metrics import confusion_matrix\n",
        "\n",
        "import os"
      ],
      "execution_count": null,
      "outputs": [
        {
          "output_type": "stream",
          "text": [
            "Using TensorFlow backend.\n"
          ],
          "name": "stderr"
        }
      ]
    },
    {
      "cell_type": "code",
      "metadata": {
        "id": "UXiv3Bcumuc4",
        "colab_type": "code",
        "colab": {}
      },
      "source": [
        "train = pd.read_csv('DL-Kaggle-competition/train.csv') \n",
        "test = pd.read_csv('DL-Kaggle-competition/test.csv') \n",
        "text = pd.read_csv('DL-Kaggle-competition/text.csv') \n",
        "reference = pd.read_csv('DL-Kaggle-competition/reference.csv') \n",
        "reference_classes = pd.read_csv('DL-Kaggle-competition/ref_class_shares.csv') \n",
        "cross_ref = pd.read_csv('DL-Kaggle-competition/ref_in_out.csv') "
      ],
      "execution_count": null,
      "outputs": []
    },
    {
      "cell_type": "code",
      "metadata": {
        "id": "-TQ6A_0mbPfX",
        "colab_type": "code",
        "colab": {
          "base_uri": "https://localhost:8080/",
          "height": 197
        },
        "outputId": "d1d655d2-b32c-486a-a971-da0076130d80"
      },
      "source": [
        "train.head()"
      ],
      "execution_count": null,
      "outputs": [
        {
          "output_type": "execute_result",
          "data": {
            "text/html": [
              "<div>\n",
              "<style scoped>\n",
              "    .dataframe tbody tr th:only-of-type {\n",
              "        vertical-align: middle;\n",
              "    }\n",
              "\n",
              "    .dataframe tbody tr th {\n",
              "        vertical-align: top;\n",
              "    }\n",
              "\n",
              "    .dataframe thead th {\n",
              "        text-align: right;\n",
              "    }\n",
              "</style>\n",
              "<table border=\"1\" class=\"dataframe\">\n",
              "  <thead>\n",
              "    <tr style=\"text-align: right;\">\n",
              "      <th></th>\n",
              "      <th>id</th>\n",
              "      <th>label</th>\n",
              "    </tr>\n",
              "  </thead>\n",
              "  <tbody>\n",
              "    <tr>\n",
              "      <th>0</th>\n",
              "      <td>0</td>\n",
              "      <td>1</td>\n",
              "    </tr>\n",
              "    <tr>\n",
              "      <th>1</th>\n",
              "      <td>3</td>\n",
              "      <td>1</td>\n",
              "    </tr>\n",
              "    <tr>\n",
              "      <th>2</th>\n",
              "      <td>6</td>\n",
              "      <td>1</td>\n",
              "    </tr>\n",
              "    <tr>\n",
              "      <th>3</th>\n",
              "      <td>8</td>\n",
              "      <td>0</td>\n",
              "    </tr>\n",
              "    <tr>\n",
              "      <th>4</th>\n",
              "      <td>9</td>\n",
              "      <td>0</td>\n",
              "    </tr>\n",
              "  </tbody>\n",
              "</table>\n",
              "</div>"
            ],
            "text/plain": [
              "   id  label\n",
              "0   0      1\n",
              "1   3      1\n",
              "2   6      1\n",
              "3   8      0\n",
              "4   9      0"
            ]
          },
          "metadata": {
            "tags": []
          },
          "execution_count": 5
        }
      ]
    },
    {
      "cell_type": "markdown",
      "metadata": {
        "id": "HR-laMsksDcb",
        "colab_type": "text"
      },
      "source": [
        "## Data pre-processing"
      ]
    },
    {
      "cell_type": "code",
      "metadata": {
        "id": "aPZWNyVJhuvU",
        "colab_type": "code",
        "colab": {
          "base_uri": "https://localhost:8080/",
          "height": 117
        },
        "outputId": "b7077856-4a3b-4018-cb58-9f841a153158"
      },
      "source": [
        "# One-hot encode the classes in the train\n",
        "Y = to_categorical(train[['label']])\n",
        "print(Y.shape)\n",
        "print(Y[:5])"
      ],
      "execution_count": null,
      "outputs": [
        {
          "output_type": "stream",
          "text": [
            "(12779, 5)\n",
            "[[0. 1. 0. 0. 0.]\n",
            " [0. 1. 0. 0. 0.]\n",
            " [0. 1. 0. 0. 0.]\n",
            " [1. 0. 0. 0. 0.]\n",
            " [1. 0. 0. 0. 0.]]\n"
          ],
          "name": "stdout"
        }
      ]
    },
    {
      "cell_type": "code",
      "metadata": {
        "id": "Gjzj-tC9cjIk",
        "colab_type": "code",
        "colab": {
          "base_uri": "https://localhost:8080/",
          "height": 133
        },
        "outputId": "bb1bfbc8-bc4c-4a72-a0a8-d9e7a4ed7696"
      },
      "source": [
        "print(text.head())\n",
        "text.shape # we have twice as many lines in text than in train"
      ],
      "execution_count": null,
      "outputs": [
        {
          "output_type": "stream",
          "text": [
            "   id                                              title\n",
            "0   0  interactive visual exploration of neighbor bas...\n",
            "1   1  autodomainmine a graphical data mining system ...\n",
            "2   2  anipqo almost non intrusive parametric query o...\n",
            "3   3  relational division four algorithms and their ...\n",
            "4   4  selection and ranking of text from highly impe...\n"
          ],
          "name": "stdout"
        },
        {
          "output_type": "execute_result",
          "data": {
            "text/plain": [
              "(25561, 2)"
            ]
          },
          "metadata": {
            "tags": []
          },
          "execution_count": 7
        }
      ]
    },
    {
      "cell_type": "code",
      "metadata": {
        "id": "J5ZVLLiouozU",
        "colab_type": "code",
        "colab": {
          "base_uri": "https://localhost:8080/",
          "height": 197
        },
        "outputId": "1c9542bd-be1a-455c-8dcd-887abab8375f"
      },
      "source": [
        "train = train.join(text, how='left', on='id',  lsuffix='', rsuffix='text')\n",
        "train.head()\n",
        "train.tail()"
      ],
      "execution_count": null,
      "outputs": [
        {
          "output_type": "execute_result",
          "data": {
            "text/html": [
              "<div>\n",
              "<style scoped>\n",
              "    .dataframe tbody tr th:only-of-type {\n",
              "        vertical-align: middle;\n",
              "    }\n",
              "\n",
              "    .dataframe tbody tr th {\n",
              "        vertical-align: top;\n",
              "    }\n",
              "\n",
              "    .dataframe thead th {\n",
              "        text-align: right;\n",
              "    }\n",
              "</style>\n",
              "<table border=\"1\" class=\"dataframe\">\n",
              "  <thead>\n",
              "    <tr style=\"text-align: right;\">\n",
              "      <th></th>\n",
              "      <th>id</th>\n",
              "      <th>label</th>\n",
              "      <th>idtext</th>\n",
              "      <th>title</th>\n",
              "    </tr>\n",
              "  </thead>\n",
              "  <tbody>\n",
              "    <tr>\n",
              "      <th>12774</th>\n",
              "      <td>25547</td>\n",
              "      <td>4</td>\n",
              "      <td>25547</td>\n",
              "      <td>scaling up from dialogue to multilogue some pr...</td>\n",
              "    </tr>\n",
              "    <tr>\n",
              "      <th>12775</th>\n",
              "      <td>25548</td>\n",
              "      <td>3</td>\n",
              "      <td>25548</td>\n",
              "      <td>a laboratory for the development and evaluatio...</td>\n",
              "    </tr>\n",
              "    <tr>\n",
              "      <th>12776</th>\n",
              "      <td>25554</td>\n",
              "      <td>2</td>\n",
              "      <td>25554</td>\n",
              "      <td>an analysis of transformational analogy genera...</td>\n",
              "    </tr>\n",
              "    <tr>\n",
              "      <th>12777</th>\n",
              "      <td>25555</td>\n",
              "      <td>2</td>\n",
              "      <td>25555</td>\n",
              "      <td>exploiting known taxonomies in learning overla...</td>\n",
              "    </tr>\n",
              "    <tr>\n",
              "      <th>12778</th>\n",
              "      <td>25557</td>\n",
              "      <td>1</td>\n",
              "      <td>25557</td>\n",
              "      <td>maintaining materialized views in distributed ...</td>\n",
              "    </tr>\n",
              "  </tbody>\n",
              "</table>\n",
              "</div>"
            ],
            "text/plain": [
              "          id  label  idtext                                              title\n",
              "12774  25547      4   25547  scaling up from dialogue to multilogue some pr...\n",
              "12775  25548      3   25548  a laboratory for the development and evaluatio...\n",
              "12776  25554      2   25554  an analysis of transformational analogy genera...\n",
              "12777  25555      2   25555  exploiting known taxonomies in learning overla...\n",
              "12778  25557      1   25557  maintaining materialized views in distributed ..."
            ]
          },
          "metadata": {
            "tags": []
          },
          "execution_count": 8
        }
      ]
    },
    {
      "cell_type": "code",
      "metadata": {
        "id": "t6xJXgRQy2fj",
        "colab_type": "code",
        "colab": {
          "base_uri": "https://localhost:8080/",
          "height": 197
        },
        "outputId": "126a3544-8c7b-4ac8-d220-a0b92df1cef4"
      },
      "source": [
        "train = train[['id','label','title']]\n",
        "train.head()\n"
      ],
      "execution_count": null,
      "outputs": [
        {
          "output_type": "execute_result",
          "data": {
            "text/html": [
              "<div>\n",
              "<style scoped>\n",
              "    .dataframe tbody tr th:only-of-type {\n",
              "        vertical-align: middle;\n",
              "    }\n",
              "\n",
              "    .dataframe tbody tr th {\n",
              "        vertical-align: top;\n",
              "    }\n",
              "\n",
              "    .dataframe thead th {\n",
              "        text-align: right;\n",
              "    }\n",
              "</style>\n",
              "<table border=\"1\" class=\"dataframe\">\n",
              "  <thead>\n",
              "    <tr style=\"text-align: right;\">\n",
              "      <th></th>\n",
              "      <th>id</th>\n",
              "      <th>label</th>\n",
              "      <th>title</th>\n",
              "    </tr>\n",
              "  </thead>\n",
              "  <tbody>\n",
              "    <tr>\n",
              "      <th>0</th>\n",
              "      <td>0</td>\n",
              "      <td>1</td>\n",
              "      <td>interactive visual exploration of neighbor bas...</td>\n",
              "    </tr>\n",
              "    <tr>\n",
              "      <th>1</th>\n",
              "      <td>3</td>\n",
              "      <td>1</td>\n",
              "      <td>relational division four algorithms and their ...</td>\n",
              "    </tr>\n",
              "    <tr>\n",
              "      <th>2</th>\n",
              "      <td>6</td>\n",
              "      <td>1</td>\n",
              "      <td>simplifying xml schema effortless handling of ...</td>\n",
              "    </tr>\n",
              "    <tr>\n",
              "      <th>3</th>\n",
              "      <td>8</td>\n",
              "      <td>0</td>\n",
              "      <td>funbase a function based information managemen...</td>\n",
              "    </tr>\n",
              "    <tr>\n",
              "      <th>4</th>\n",
              "      <td>9</td>\n",
              "      <td>0</td>\n",
              "      <td>inverted matrix efficient discovery of frequen...</td>\n",
              "    </tr>\n",
              "  </tbody>\n",
              "</table>\n",
              "</div>"
            ],
            "text/plain": [
              "   id  label                                              title\n",
              "0   0      1  interactive visual exploration of neighbor bas...\n",
              "1   3      1  relational division four algorithms and their ...\n",
              "2   6      1  simplifying xml schema effortless handling of ...\n",
              "3   8      0  funbase a function based information managemen...\n",
              "4   9      0  inverted matrix efficient discovery of frequen..."
            ]
          },
          "metadata": {
            "tags": []
          },
          "execution_count": 9
        }
      ]
    },
    {
      "cell_type": "code",
      "metadata": {
        "id": "OLRaDZ3ExQv-",
        "colab_type": "code",
        "colab": {
          "base_uri": "https://localhost:8080/",
          "height": 197
        },
        "outputId": "33d40bbf-170f-4df5-b2e8-508dd6a7b720"
      },
      "source": [
        "test = test.join(text, how='left', on='id',  lsuffix='', rsuffix='text')\n",
        "test.head()"
      ],
      "execution_count": null,
      "outputs": [
        {
          "output_type": "execute_result",
          "data": {
            "text/html": [
              "<div>\n",
              "<style scoped>\n",
              "    .dataframe tbody tr th:only-of-type {\n",
              "        vertical-align: middle;\n",
              "    }\n",
              "\n",
              "    .dataframe tbody tr th {\n",
              "        vertical-align: top;\n",
              "    }\n",
              "\n",
              "    .dataframe thead th {\n",
              "        text-align: right;\n",
              "    }\n",
              "</style>\n",
              "<table border=\"1\" class=\"dataframe\">\n",
              "  <thead>\n",
              "    <tr style=\"text-align: right;\">\n",
              "      <th></th>\n",
              "      <th>id</th>\n",
              "      <th>idtext</th>\n",
              "      <th>title</th>\n",
              "    </tr>\n",
              "  </thead>\n",
              "  <tbody>\n",
              "    <tr>\n",
              "      <th>0</th>\n",
              "      <td>1</td>\n",
              "      <td>1</td>\n",
              "      <td>autodomainmine a graphical data mining system ...</td>\n",
              "    </tr>\n",
              "    <tr>\n",
              "      <th>1</th>\n",
              "      <td>2</td>\n",
              "      <td>2</td>\n",
              "      <td>anipqo almost non intrusive parametric query o...</td>\n",
              "    </tr>\n",
              "    <tr>\n",
              "      <th>2</th>\n",
              "      <td>4</td>\n",
              "      <td>4</td>\n",
              "      <td>selection and ranking of text from highly impe...</td>\n",
              "    </tr>\n",
              "    <tr>\n",
              "      <th>3</th>\n",
              "      <td>5</td>\n",
              "      <td>5</td>\n",
              "      <td>conditional random fields for multi agent rein...</td>\n",
              "    </tr>\n",
              "    <tr>\n",
              "      <th>4</th>\n",
              "      <td>7</td>\n",
              "      <td>7</td>\n",
              "      <td>multi dimensional description logics</td>\n",
              "    </tr>\n",
              "  </tbody>\n",
              "</table>\n",
              "</div>"
            ],
            "text/plain": [
              "   id  idtext                                              title\n",
              "0   1       1  autodomainmine a graphical data mining system ...\n",
              "1   2       2  anipqo almost non intrusive parametric query o...\n",
              "2   4       4  selection and ranking of text from highly impe...\n",
              "3   5       5  conditional random fields for multi agent rein...\n",
              "4   7       7               multi dimensional description logics"
            ]
          },
          "metadata": {
            "tags": []
          },
          "execution_count": 12
        }
      ]
    },
    {
      "cell_type": "code",
      "metadata": {
        "id": "fE-MQ_oozDq1",
        "colab_type": "code",
        "colab": {
          "base_uri": "https://localhost:8080/",
          "height": 197
        },
        "outputId": "92790f48-55ad-4c9d-9596-f43d3487dcab"
      },
      "source": [
        "test = test[['id','title']]\n",
        "test.head()"
      ],
      "execution_count": null,
      "outputs": [
        {
          "output_type": "execute_result",
          "data": {
            "text/html": [
              "<div>\n",
              "<style scoped>\n",
              "    .dataframe tbody tr th:only-of-type {\n",
              "        vertical-align: middle;\n",
              "    }\n",
              "\n",
              "    .dataframe tbody tr th {\n",
              "        vertical-align: top;\n",
              "    }\n",
              "\n",
              "    .dataframe thead th {\n",
              "        text-align: right;\n",
              "    }\n",
              "</style>\n",
              "<table border=\"1\" class=\"dataframe\">\n",
              "  <thead>\n",
              "    <tr style=\"text-align: right;\">\n",
              "      <th></th>\n",
              "      <th>id</th>\n",
              "      <th>title</th>\n",
              "    </tr>\n",
              "  </thead>\n",
              "  <tbody>\n",
              "    <tr>\n",
              "      <th>0</th>\n",
              "      <td>1</td>\n",
              "      <td>autodomainmine a graphical data mining system ...</td>\n",
              "    </tr>\n",
              "    <tr>\n",
              "      <th>1</th>\n",
              "      <td>2</td>\n",
              "      <td>anipqo almost non intrusive parametric query o...</td>\n",
              "    </tr>\n",
              "    <tr>\n",
              "      <th>2</th>\n",
              "      <td>4</td>\n",
              "      <td>selection and ranking of text from highly impe...</td>\n",
              "    </tr>\n",
              "    <tr>\n",
              "      <th>3</th>\n",
              "      <td>5</td>\n",
              "      <td>conditional random fields for multi agent rein...</td>\n",
              "    </tr>\n",
              "    <tr>\n",
              "      <th>4</th>\n",
              "      <td>7</td>\n",
              "      <td>multi dimensional description logics</td>\n",
              "    </tr>\n",
              "  </tbody>\n",
              "</table>\n",
              "</div>"
            ],
            "text/plain": [
              "   id                                              title\n",
              "0   1  autodomainmine a graphical data mining system ...\n",
              "1   2  anipqo almost non intrusive parametric query o...\n",
              "2   4  selection and ranking of text from highly impe...\n",
              "3   5  conditional random fields for multi agent rein...\n",
              "4   7               multi dimensional description logics"
            ]
          },
          "metadata": {
            "tags": []
          },
          "execution_count": 13
        }
      ]
    },
    {
      "cell_type": "code",
      "metadata": {
        "id": "srmaulRH8VOL",
        "colab_type": "code",
        "colab": {}
      },
      "source": [
        "# tokenize train data on the whole TEXT (train+test) to see the max sent_len - - for exploration only\n",
        "tokenizer = Tokenizer()\n",
        "tokenizer.fit_on_texts(text.title)\n",
        "t = tokenizer.texts_to_sequences(text.title)\n",
        "print(t[:10])\n",
        "print(len(max(t, key=len)))\n",
        "sent_len = []\n",
        "for i in t:\n",
        "  sent_len.append(len(i))\n",
        "\n",
        "plt.hist(sent_len,bins=28)\n",
        "plt.show()"
      ],
      "execution_count": null,
      "outputs": []
    },
    {
      "cell_type": "code",
      "metadata": {
        "id": "VDcaxRln0Wni",
        "colab_type": "code",
        "colab": {}
      },
      "source": [
        "# tokenize train data (on the whole set of labeled data)\n",
        "tokenizer = Tokenizer()\n",
        "tokenizer.fit_on_texts(train.title)\n",
        "X = tokenizer.texts_to_sequences(train.title)\n",
        "X = pad_sequences(X, maxlen=20)\n",
        "X[:10]\n",
        "word_index = tokenizer.word_index\n",
        "print('Found %s unique tokens.' % len(word_index)) # Found 9321 unique tokens."
      ],
      "execution_count": null,
      "outputs": []
    },
    {
      "cell_type": "code",
      "metadata": {
        "id": "helbdUizF2un",
        "colab_type": "code",
        "colab": {}
      },
      "source": [
        "X_train, X_test, Y_train, Y_test = train_test_split(X, Y, test_size=0.2, random_state=1234, shuffle=False)"
      ],
      "execution_count": null,
      "outputs": []
    },
    {
      "cell_type": "code",
      "metadata": {
        "id": "iYGj9gsCKmYi",
        "colab_type": "code",
        "colab": {}
      },
      "source": [
        "# MAKE A SECOND DATA SPLIT\n",
        "X_train_, X_test_, Y_train_, Y_test_ = train_test_split(X, Y, test_size=0.2, random_state=245, shuffle=True)"
      ],
      "execution_count": null,
      "outputs": []
    },
    {
      "cell_type": "code",
      "metadata": {
        "id": "S-e50l29Hg3p",
        "colab_type": "code",
        "colab": {
          "base_uri": "https://localhost:8080/",
          "height": 183
        },
        "outputId": "7564c8c4-7bd3-41c7-be08-9d490f9ccf17"
      },
      "source": [
        "print(Y_train[:5])\n",
        "print(Y_test[:5])"
      ],
      "execution_count": null,
      "outputs": [
        {
          "output_type": "stream",
          "text": [
            "[[0. 1. 0. 0. 0.]\n",
            " [0. 1. 0. 0. 0.]\n",
            " [0. 1. 0. 0. 0.]\n",
            " [1. 0. 0. 0. 0.]\n",
            " [1. 0. 0. 0. 0.]]\n",
            "[[0. 0. 0. 0. 1.]\n",
            " [0. 0. 0. 1. 0.]\n",
            " [0. 0. 1. 0. 0.]\n",
            " [0. 0. 1. 0. 0.]\n",
            " [0. 0. 1. 0. 0.]]\n"
          ],
          "name": "stdout"
        }
      ]
    },
    {
      "cell_type": "code",
      "metadata": {
        "colab_type": "code",
        "id": "tVCkJNtr1kUq",
        "colab": {
          "base_uri": "https://localhost:8080/",
          "height": 367
        },
        "outputId": "ceb72e9a-e279-456c-e397-1ab51a767436"
      },
      "source": [
        "# tokenize test data for Kaggle upload\n",
        "X_new = tokenizer.texts_to_sequences(test.title)\n",
        "X_new = pad_sequences(X_new, maxlen=20)\n",
        "X_new[:10]"
      ],
      "execution_count": null,
      "outputs": [
        {
          "output_type": "execute_result",
          "data": {
            "text/plain": [
              "array([[   0,    0,    0,    0,    0,    0,    0,    0,    0,    0,    0,\n",
              "           0,    3,  482,    8,   32,   15,    1,  117,   66],\n",
              "       [   0,    0,    0,    0,    0,    0,    0,    0,    0,    0,    0,\n",
              "        1591,  130,  758,   20,   66,    1, 1407,  295,  307],\n",
              "       [   0,    0,    0,    0,    0,    0,   95,    4,  120,    2,   35,\n",
              "          21,  693, 2005, 6187,    1,   24,    2,  463,  166],\n",
              "       [   0,    0,    0,    0,    0,    0,    0,    0,    0,    0,    0,\n",
              "           0,  378,  229,  793,    1,   47,  278,  399,   14],\n",
              "       [   0,    0,    0,    0,    0,    0,    0,    0,    0,    0,    0,\n",
              "           0,    0,    0,    0,    0,   47,  202,  302,  519],\n",
              "       [   0,    0,    0,    0,    0,    0,    0,    0,    0,    0,    0,\n",
              "           0,  107,   10,  320,  284,  285,   33,  929,  593],\n",
              "       [   0,    0,    0,    0,    0,    0,    0,    0,    0,    0,    0,\n",
              "           0,    0,    0,    0,    0,    0,   76,  299, 8308],\n",
              "       [   0,    0,    0,    0,    0,    0,    0,    0,    0,    0,    0,\n",
              "           0,    0, 1923,  287, 5096,   33, 1457, 1855,  189],\n",
              "       [   0,    0,    0,    0,    0,    0,    0,    0,    0,    0,    3,\n",
              "         107,    4, 4608,  148,   53,    1,  305,  216,   25],\n",
              "       [   0,    0,    0,    0,    0,    0,    0,    0,    0,    0,    0,\n",
              "           0,    0,  378,  159,  620,  377, 1261,    4,  206]],\n",
              "      dtype=int32)"
            ]
          },
          "metadata": {
            "tags": []
          },
          "execution_count": 21
        }
      ]
    },
    {
      "cell_type": "code",
      "metadata": {
        "id": "YKUSQm62IR9l",
        "colab_type": "code",
        "colab": {
          "base_uri": "https://localhost:8080/",
          "height": 67
        },
        "outputId": "f3cff2ca-5bd6-4796-b899-e4cf4095e918"
      },
      "source": [
        "# trying to find dictionary length (for the whole labelled set tokenized)\n",
        "print(len(X_train))\n",
        "print(np.amax(X)) \n",
        "np.amax(X)"
      ],
      "execution_count": null,
      "outputs": [
        {
          "output_type": "stream",
          "text": [
            "10223\n",
            "9321\n"
          ],
          "name": "stdout"
        },
        {
          "output_type": "execute_result",
          "data": {
            "text/plain": [
              "9321"
            ]
          },
          "metadata": {
            "tags": []
          },
          "execution_count": 22
        }
      ]
    },
    {
      "cell_type": "code",
      "metadata": {
        "id": "7ZS9fSpdIg3W",
        "colab_type": "code",
        "colab": {
          "base_uri": "https://localhost:8080/",
          "height": 133
        },
        "outputId": "61f08df4-3e43-4936-ceaa-fac9b73d3108"
      },
      "source": [
        "print(X)"
      ],
      "execution_count": null,
      "outputs": [
        {
          "output_type": "stream",
          "text": [
            "[[   0    0    0 ...    5    8  161]\n",
            " [   0    0    0 ...    4  415   58]\n",
            " [   0    0    0 ... 1866 1444  622]\n",
            " ...\n",
            " [   0    0    0 ...   64    4  206]\n",
            " [   0    0    0 ...   14 2086  314]\n",
            " [   0    0    0 ...    5   38   29]]\n"
          ],
          "name": "stdout"
        }
      ]
    },
    {
      "cell_type": "code",
      "metadata": {
        "id": "aBsJGIy4xH9N",
        "colab_type": "code",
        "colab": {
          "base_uri": "https://localhost:8080/",
          "height": 33
        },
        "outputId": "3822a2db-60d0-4d52-d55b-e42c3099342a"
      },
      "source": [
        "# dict_len = max(max(X_train)) # for only X_train tokenized\n",
        "dict_len = np.amax(X)\n",
        "print(dict_len)"
      ],
      "execution_count": null,
      "outputs": [
        {
          "output_type": "stream",
          "text": [
            "9321\n"
          ],
          "name": "stdout"
        }
      ]
    },
    {
      "cell_type": "markdown",
      "metadata": {
        "id": "O--othcolipK",
        "colab_type": "text"
      },
      "source": [
        "## Making results reproducible with keras\n",
        "\n",
        "Will repeat this setting seed exercise before each model run."
      ]
    },
    {
      "cell_type": "code",
      "metadata": {
        "id": "NHKjEiuTU19z",
        "colab_type": "code",
        "colab": {}
      },
      "source": [
        "# from https://keras.io/getting-started/faq/#how-can-i-obtain-reproducible-results-using-keras-during-development\n",
        "# I replaced tf.set_random_seed with tf.compat.v1.set_random_seed (the former did not work)\n",
        "# the same change in tf.compat.v1.ConfigProto\n",
        "\n",
        "# The below is necessary for starting Numpy generated random numbers\n",
        "# in a well-defined initial state.\n",
        "np.random.seed(42)\n",
        "\n",
        "# The below is necessary for starting core Python generated random numbers\n",
        "# in a well-defined state.\n",
        "random.seed(12345)\n",
        "\n",
        "# Force TensorFlow to use single thread.\n",
        "# Multiple threads are a potential source of non-reproducible results.\n",
        "# For further details, see: https://stackoverflow.com/questions/42022950/\n",
        "\n",
        "session_conf = tf.compat.v1.ConfigProto(intra_op_parallelism_threads=1,\n",
        "                              inter_op_parallelism_threads=1)\n",
        "\n",
        "# from keras import backend as K\n",
        "\n",
        "# The below tf.set_random_seed() will make random number generation\n",
        "# in the TensorFlow backend have a well-defined initial state.\n",
        "# For further details, see:\n",
        "# https://www.tensorflow.org/api_docs/python/tf/set_random_seed\n",
        "\n",
        "# tf.set_random_seed(1234) # this is not working\n",
        "tf.compat.v1.set_random_seed(1234)\n",
        "# sess = tf.compat.v1.Session(graph=tf.get_default_graph(), config=session_conf)\n",
        "# K.set_session(sess)"
      ],
      "execution_count": null,
      "outputs": []
    },
    {
      "cell_type": "markdown",
      "metadata": {
        "id": "kIyIe7miw4hM",
        "colab_type": "text"
      },
      "source": [
        "# 3. Using only own article titles"
      ]
    },
    {
      "cell_type": "markdown",
      "metadata": {
        "id": "lYlGfUpMqe7I",
        "colab_type": "text"
      },
      "source": [
        "## LSTM\n",
        "\n",
        "After trying a bunch of LSTM models with Adam and RMSprop optimizers, I keep only RMSprop result as it wins the battle and will be used thereafter. \n",
        "\n",
        "I also played with the learning rate and batch size for RMSprop and default lr with batch=64 gives decent results, so I will stick to them (outputs not shown)."
      ]
    },
    {
      "cell_type": "markdown",
      "metadata": {
        "id": "QZ6TAzmXl2oM",
        "colab_type": "text"
      },
      "source": [
        "#### Trying various basic (one hidden layer) architectures\n",
        "\n",
        "Slight trend to growing valid. accuracy with increased emb and hidden dims."
      ]
    },
    {
      "cell_type": "code",
      "metadata": {
        "colab_type": "code",
        "id": "OG5elm0fHDs_",
        "colab": {
          "base_uri": "https://localhost:8080/",
          "height": 1000
        },
        "outputId": "e55d17c8-d693-412b-eabe-2c092ea7693b"
      },
      "source": [
        "embed = [32,64,128]\n",
        "hidden = [64,128,256]\n",
        "drop = [0, 0.1, 0.2, 0.3]\n",
        "for i in embed:\n",
        "  for j in hidden:\n",
        "    for k in drop:\n",
        "      print('emb_dim:',i,' hidden_dim:',j, ' drop:',k,'----RMSprop')\n",
        "      np.random.seed(42)\n",
        "      random.seed(12345)\n",
        "      session_conf = tf.compat.v1.ConfigProto(intra_op_parallelism_threads=1,\n",
        "                                    inter_op_parallelism_threads=1)\n",
        "      tf.compat.v1.set_random_seed(1234) \n",
        "\n",
        "      model = Sequential() \n",
        "      model.add(Embedding(dict_len + 1, output_dim=i)) \n",
        "      model.add(LSTM(j, dropout=k)) \n",
        "      model.add(Dense(5, activation=\"softmax\"))  \n",
        "      model.compile(loss='categorical_crossentropy', optimizer='RMSprop', metrics=['accuracy'])\n",
        "      model.fit(X_train, Y_train, validation_data = (X_test, Y_test), batch_size=64, epochs=7) \n",
        "      model.evaluate(X_test, Y_test)"
      ],
      "execution_count": null,
      "outputs": [
        {
          "output_type": "stream",
          "text": [
            "emb_dim: 32  hidden_dim: 64  drop: 0 ----RMSprop\n",
            "Epoch 1/7\n",
            "160/160 [==============================] - 3s 22ms/step - loss: 1.4046 - accuracy: 0.4062 - val_loss: 1.0870 - val_accuracy: 0.5646\n",
            "Epoch 2/7\n",
            "160/160 [==============================] - 3s 20ms/step - loss: 0.9025 - accuracy: 0.6645 - val_loss: 0.8483 - val_accuracy: 0.6714\n",
            "Epoch 3/7\n",
            "160/160 [==============================] - 3s 19ms/step - loss: 0.6947 - accuracy: 0.7523 - val_loss: 0.7841 - val_accuracy: 0.7066\n",
            "Epoch 4/7\n",
            "160/160 [==============================] - 3s 20ms/step - loss: 0.5924 - accuracy: 0.7889 - val_loss: 0.7771 - val_accuracy: 0.7148\n",
            "Epoch 5/7\n",
            "160/160 [==============================] - 3s 19ms/step - loss: 0.5224 - accuracy: 0.8178 - val_loss: 0.7396 - val_accuracy: 0.7340\n",
            "Epoch 6/7\n",
            "160/160 [==============================] - 3s 19ms/step - loss: 0.4708 - accuracy: 0.8353 - val_loss: 0.7413 - val_accuracy: 0.7238\n",
            "Epoch 7/7\n",
            "160/160 [==============================] - 3s 20ms/step - loss: 0.4269 - accuracy: 0.8534 - val_loss: 0.8439 - val_accuracy: 0.7254\n",
            "80/80 [==============================] - 0s 4ms/step - loss: 0.8438 - accuracy: 0.7254\n",
            "emb_dim: 32  hidden_dim: 64  drop: 0.1 ----RMSprop\n",
            "Epoch 1/7\n",
            "160/160 [==============================] - 4s 22ms/step - loss: 1.4154 - accuracy: 0.4041 - val_loss: 1.1124 - val_accuracy: 0.5630\n",
            "Epoch 2/7\n",
            "160/160 [==============================] - 3s 19ms/step - loss: 0.9264 - accuracy: 0.6512 - val_loss: 0.8616 - val_accuracy: 0.6628\n",
            "Epoch 3/7\n",
            "160/160 [==============================] - 3s 19ms/step - loss: 0.7200 - accuracy: 0.7429 - val_loss: 0.7980 - val_accuracy: 0.6987\n",
            "Epoch 4/7\n",
            "160/160 [==============================] - 3s 20ms/step - loss: 0.6173 - accuracy: 0.7819 - val_loss: 0.7669 - val_accuracy: 0.7171\n",
            "Epoch 5/7\n",
            "160/160 [==============================] - 3s 20ms/step - loss: 0.5479 - accuracy: 0.8100 - val_loss: 0.7417 - val_accuracy: 0.7308\n",
            "Epoch 6/7\n",
            "160/160 [==============================] - 3s 20ms/step - loss: 0.4990 - accuracy: 0.8258 - val_loss: 0.7373 - val_accuracy: 0.7261\n",
            "Epoch 7/7\n",
            "160/160 [==============================] - 3s 20ms/step - loss: 0.4524 - accuracy: 0.8426 - val_loss: 0.8228 - val_accuracy: 0.7312\n",
            "80/80 [==============================] - 0s 4ms/step - loss: 0.8227 - accuracy: 0.7312\n",
            "emb_dim: 32  hidden_dim: 64  drop: 0.2 ----RMSprop\n",
            "Epoch 1/7\n",
            "160/160 [==============================] - 4s 22ms/step - loss: 1.4302 - accuracy: 0.3948 - val_loss: 1.1282 - val_accuracy: 0.5634\n",
            "Epoch 2/7\n",
            "160/160 [==============================] - 3s 20ms/step - loss: 0.9572 - accuracy: 0.6368 - val_loss: 0.8824 - val_accuracy: 0.6534\n",
            "Epoch 3/7\n",
            "160/160 [==============================] - 3s 20ms/step - loss: 0.7443 - accuracy: 0.7299 - val_loss: 0.8039 - val_accuracy: 0.6972\n",
            "Epoch 4/7\n",
            "160/160 [==============================] - 3s 20ms/step - loss: 0.6409 - accuracy: 0.7704 - val_loss: 0.7561 - val_accuracy: 0.7164\n",
            "Epoch 5/7\n",
            "160/160 [==============================] - 3s 20ms/step - loss: 0.5734 - accuracy: 0.7985 - val_loss: 0.7404 - val_accuracy: 0.7297\n",
            "Epoch 6/7\n",
            "160/160 [==============================] - 3s 20ms/step - loss: 0.5256 - accuracy: 0.8155 - val_loss: 0.7315 - val_accuracy: 0.7308\n",
            "Epoch 7/7\n",
            "160/160 [==============================] - 3s 20ms/step - loss: 0.4788 - accuracy: 0.8335 - val_loss: 0.7876 - val_accuracy: 0.7351\n",
            "80/80 [==============================] - 0s 4ms/step - loss: 0.7875 - accuracy: 0.7351\n",
            "emb_dim: 32  hidden_dim: 64  drop: 0.3 ----RMSprop\n",
            "Epoch 1/7\n",
            "160/160 [==============================] - 4s 22ms/step - loss: 1.4445 - accuracy: 0.3913 - val_loss: 1.1533 - val_accuracy: 0.5618\n",
            "Epoch 2/7\n",
            "160/160 [==============================] - 3s 20ms/step - loss: 0.9875 - accuracy: 0.6211 - val_loss: 0.8993 - val_accuracy: 0.6573\n",
            "Epoch 3/7\n",
            "160/160 [==============================] - 3s 20ms/step - loss: 0.7762 - accuracy: 0.7175 - val_loss: 0.8156 - val_accuracy: 0.6917\n",
            "Epoch 4/7\n",
            "160/160 [==============================] - 3s 20ms/step - loss: 0.6740 - accuracy: 0.7566 - val_loss: 0.7865 - val_accuracy: 0.7034\n",
            "Epoch 5/7\n",
            "160/160 [==============================] - 3s 20ms/step - loss: 0.6048 - accuracy: 0.7883 - val_loss: 0.7451 - val_accuracy: 0.7273\n",
            "Epoch 6/7\n",
            "160/160 [==============================] - 3s 20ms/step - loss: 0.5578 - accuracy: 0.8049 - val_loss: 0.7280 - val_accuracy: 0.7320\n",
            "Epoch 7/7\n",
            "160/160 [==============================] - 3s 20ms/step - loss: 0.5150 - accuracy: 0.8189 - val_loss: 0.7850 - val_accuracy: 0.7289\n",
            "80/80 [==============================] - 0s 4ms/step - loss: 0.7850 - accuracy: 0.7289\n",
            "emb_dim: 32  hidden_dim: 128  drop: 0 ----RMSprop\n",
            "Epoch 1/7\n",
            "160/160 [==============================] - 7s 44ms/step - loss: 1.3526 - accuracy: 0.4420 - val_loss: 1.0136 - val_accuracy: 0.5908\n",
            "Epoch 2/7\n",
            "160/160 [==============================] - 7s 42ms/step - loss: 0.8659 - accuracy: 0.6854 - val_loss: 0.8256 - val_accuracy: 0.6917\n",
            "Epoch 3/7\n",
            "160/160 [==============================] - 7s 42ms/step - loss: 0.6853 - accuracy: 0.7549 - val_loss: 0.7742 - val_accuracy: 0.7121\n",
            "Epoch 4/7\n",
            "160/160 [==============================] - 7s 42ms/step - loss: 0.5885 - accuracy: 0.7924 - val_loss: 0.7714 - val_accuracy: 0.7203\n",
            "Epoch 5/7\n",
            "160/160 [==============================] - 7s 42ms/step - loss: 0.5178 - accuracy: 0.8167 - val_loss: 0.7498 - val_accuracy: 0.7234\n",
            "Epoch 6/7\n",
            "160/160 [==============================] - 7s 42ms/step - loss: 0.4656 - accuracy: 0.8393 - val_loss: 0.7485 - val_accuracy: 0.7261\n",
            "Epoch 7/7\n",
            "160/160 [==============================] - 7s 43ms/step - loss: 0.4207 - accuracy: 0.8564 - val_loss: 0.7914 - val_accuracy: 0.7312\n",
            "80/80 [==============================] - 1s 7ms/step - loss: 0.7915 - accuracy: 0.7312\n",
            "emb_dim: 32  hidden_dim: 128  drop: 0.1 ----RMSprop\n",
            "Epoch 1/7\n",
            "160/160 [==============================] - 7s 45ms/step - loss: 1.3888 - accuracy: 0.4377 - val_loss: 1.0658 - val_accuracy: 0.5861\n",
            "Epoch 2/7\n",
            "160/160 [==============================] - 7s 42ms/step - loss: 0.9107 - accuracy: 0.6652 - val_loss: 0.8438 - val_accuracy: 0.6878\n",
            "Epoch 3/7\n",
            "160/160 [==============================] - 7s 43ms/step - loss: 0.7222 - accuracy: 0.7390 - val_loss: 0.7777 - val_accuracy: 0.7109\n",
            "Epoch 4/7\n",
            "160/160 [==============================] - 7s 44ms/step - loss: 0.6222 - accuracy: 0.7822 - val_loss: 0.7717 - val_accuracy: 0.7160\n",
            "Epoch 5/7\n",
            "160/160 [==============================] - 7s 43ms/step - loss: 0.5515 - accuracy: 0.8084 - val_loss: 0.7408 - val_accuracy: 0.7312\n",
            "Epoch 6/7\n",
            "160/160 [==============================] - 7s 44ms/step - loss: 0.5019 - accuracy: 0.8250 - val_loss: 0.7339 - val_accuracy: 0.7312\n",
            "Epoch 7/7\n",
            "160/160 [==============================] - 7s 43ms/step - loss: 0.4543 - accuracy: 0.8425 - val_loss: 0.7754 - val_accuracy: 0.7371\n",
            "80/80 [==============================] - 1s 7ms/step - loss: 0.7755 - accuracy: 0.7371\n",
            "emb_dim: 32  hidden_dim: 128  drop: 0.2 ----RMSprop\n",
            "Epoch 1/7\n",
            "160/160 [==============================] - 7s 45ms/step - loss: 1.3785 - accuracy: 0.4265 - val_loss: 1.0589 - val_accuracy: 0.6052\n",
            "Epoch 2/7\n",
            "160/160 [==============================] - 7s 43ms/step - loss: 0.9183 - accuracy: 0.6555 - val_loss: 0.8590 - val_accuracy: 0.6776\n",
            "Epoch 3/7\n",
            "160/160 [==============================] - 7s 43ms/step - loss: 0.7447 - accuracy: 0.7309 - val_loss: 0.7855 - val_accuracy: 0.7019\n",
            "Epoch 4/7\n",
            "160/160 [==============================] - 7s 43ms/step - loss: 0.6448 - accuracy: 0.7728 - val_loss: 0.7816 - val_accuracy: 0.7171\n",
            "Epoch 5/7\n",
            "160/160 [==============================] - 7s 42ms/step - loss: 0.5772 - accuracy: 0.7960 - val_loss: 0.7437 - val_accuracy: 0.7332\n",
            "Epoch 6/7\n",
            "160/160 [==============================] - 7s 43ms/step - loss: 0.5275 - accuracy: 0.8167 - val_loss: 0.7339 - val_accuracy: 0.7312\n",
            "Epoch 7/7\n",
            "160/160 [==============================] - 7s 43ms/step - loss: 0.4844 - accuracy: 0.8324 - val_loss: 0.7558 - val_accuracy: 0.7379\n",
            "80/80 [==============================] - 1s 7ms/step - loss: 0.7558 - accuracy: 0.7379\n",
            "emb_dim: 32  hidden_dim: 128  drop: 0.3 ----RMSprop\n",
            "Epoch 1/7\n",
            "160/160 [==============================] - 8s 48ms/step - loss: 1.4082 - accuracy: 0.4178 - val_loss: 1.0898 - val_accuracy: 0.5861\n",
            "Epoch 2/7\n",
            "160/160 [==============================] - 7s 47ms/step - loss: 0.9478 - accuracy: 0.6463 - val_loss: 0.8681 - val_accuracy: 0.6674\n",
            "Epoch 3/7\n",
            "160/160 [==============================] - 7s 43ms/step - loss: 0.7738 - accuracy: 0.7220 - val_loss: 0.7916 - val_accuracy: 0.6991\n",
            "Epoch 4/7\n",
            "160/160 [==============================] - 7s 43ms/step - loss: 0.6772 - accuracy: 0.7589 - val_loss: 0.7813 - val_accuracy: 0.7093\n",
            "Epoch 5/7\n",
            "160/160 [==============================] - 7s 44ms/step - loss: 0.6127 - accuracy: 0.7840 - val_loss: 0.7463 - val_accuracy: 0.7273\n",
            "Epoch 6/7\n",
            "160/160 [==============================] - 7s 44ms/step - loss: 0.5649 - accuracy: 0.8029 - val_loss: 0.7344 - val_accuracy: 0.7316\n",
            "Epoch 7/7\n",
            "160/160 [==============================] - 7s 43ms/step - loss: 0.5260 - accuracy: 0.8142 - val_loss: 0.7498 - val_accuracy: 0.7347\n",
            "80/80 [==============================] - 1s 7ms/step - loss: 0.7498 - accuracy: 0.7347\n",
            "emb_dim: 32  hidden_dim: 256  drop: 0 ----RMSprop\n",
            "Epoch 1/7\n",
            "160/160 [==============================] - 17s 108ms/step - loss: 1.3428 - accuracy: 0.4540 - val_loss: 1.0193 - val_accuracy: 0.6440\n",
            "Epoch 2/7\n",
            "160/160 [==============================] - 17s 104ms/step - loss: 0.8470 - accuracy: 0.6981 - val_loss: 0.8155 - val_accuracy: 0.7015\n",
            "Epoch 3/7\n",
            "160/160 [==============================] - 17s 106ms/step - loss: 0.6700 - accuracy: 0.7646 - val_loss: 0.7654 - val_accuracy: 0.7191\n",
            "Epoch 4/7\n",
            "160/160 [==============================] - 17s 104ms/step - loss: 0.5732 - accuracy: 0.7983 - val_loss: 0.7454 - val_accuracy: 0.7336\n",
            "Epoch 5/7\n",
            "160/160 [==============================] - 17s 105ms/step - loss: 0.5069 - accuracy: 0.8213 - val_loss: 0.7469 - val_accuracy: 0.7261\n",
            "Epoch 6/7\n",
            "160/160 [==============================] - 17s 106ms/step - loss: 0.4556 - accuracy: 0.8427 - val_loss: 0.7703 - val_accuracy: 0.7191\n",
            "Epoch 7/7\n",
            "160/160 [==============================] - 17s 106ms/step - loss: 0.4094 - accuracy: 0.8586 - val_loss: 0.7964 - val_accuracy: 0.7300\n",
            "80/80 [==============================] - 2s 20ms/step - loss: 0.7963 - accuracy: 0.7300\n",
            "emb_dim: 32  hidden_dim: 256  drop: 0.1 ----RMSprop\n",
            "Epoch 1/7\n",
            "160/160 [==============================] - 17s 109ms/step - loss: 1.3633 - accuracy: 0.4401 - val_loss: 1.0395 - val_accuracy: 0.6260\n",
            "Epoch 2/7\n",
            "160/160 [==============================] - 17s 106ms/step - loss: 0.8651 - accuracy: 0.6899 - val_loss: 0.8279 - val_accuracy: 0.6972\n",
            "Epoch 3/7\n",
            "160/160 [==============================] - 17s 107ms/step - loss: 0.6919 - accuracy: 0.7583 - val_loss: 0.7627 - val_accuracy: 0.7250\n",
            "Epoch 4/7\n",
            "160/160 [==============================] - 17s 109ms/step - loss: 0.5939 - accuracy: 0.7912 - val_loss: 0.7636 - val_accuracy: 0.7312\n",
            "Epoch 5/7\n",
            "160/160 [==============================] - 17s 107ms/step - loss: 0.5296 - accuracy: 0.8151 - val_loss: 0.7466 - val_accuracy: 0.7254\n",
            "Epoch 6/7\n",
            "160/160 [==============================] - 17s 107ms/step - loss: 0.4815 - accuracy: 0.8315 - val_loss: 0.7669 - val_accuracy: 0.7265\n",
            "Epoch 7/7\n",
            "160/160 [==============================] - 17s 106ms/step - loss: 0.4358 - accuracy: 0.8498 - val_loss: 0.7785 - val_accuracy: 0.7320\n",
            "80/80 [==============================] - 2s 20ms/step - loss: 0.7784 - accuracy: 0.7320\n",
            "emb_dim: 32  hidden_dim: 256  drop: 0.2 ----RMSprop\n",
            "Epoch 1/7\n",
            "160/160 [==============================] - 18s 109ms/step - loss: 1.3766 - accuracy: 0.4263 - val_loss: 1.0562 - val_accuracy: 0.6420\n",
            "Epoch 2/7\n",
            "160/160 [==============================] - 17s 106ms/step - loss: 0.8922 - accuracy: 0.6766 - val_loss: 0.8298 - val_accuracy: 0.6964\n",
            "Epoch 3/7\n",
            "160/160 [==============================] - 17s 108ms/step - loss: 0.7209 - accuracy: 0.7427 - val_loss: 0.7652 - val_accuracy: 0.7179\n",
            "Epoch 4/7\n",
            "160/160 [==============================] - 17s 106ms/step - loss: 0.6243 - accuracy: 0.7793 - val_loss: 0.7584 - val_accuracy: 0.7273\n",
            "Epoch 5/7\n",
            "160/160 [==============================] - 17s 106ms/step - loss: 0.5624 - accuracy: 0.8008 - val_loss: 0.7374 - val_accuracy: 0.7281\n",
            "Epoch 6/7\n",
            "160/160 [==============================] - 17s 107ms/step - loss: 0.5118 - accuracy: 0.8187 - val_loss: 0.7389 - val_accuracy: 0.7383\n",
            "Epoch 7/7\n",
            "160/160 [==============================] - 17s 105ms/step - loss: 0.4702 - accuracy: 0.8371 - val_loss: 0.7647 - val_accuracy: 0.7351\n",
            "80/80 [==============================] - 2s 20ms/step - loss: 0.7646 - accuracy: 0.7351\n",
            "emb_dim: 32  hidden_dim: 256  drop: 0.3 ----RMSprop\n",
            "Epoch 1/7\n",
            "160/160 [==============================] - 17s 109ms/step - loss: 1.4010 - accuracy: 0.4147 - val_loss: 1.1083 - val_accuracy: 0.6154\n",
            "Epoch 2/7\n",
            "160/160 [==============================] - 17s 106ms/step - loss: 0.9348 - accuracy: 0.6601 - val_loss: 0.8473 - val_accuracy: 0.6757\n",
            "Epoch 3/7\n",
            "160/160 [==============================] - 17s 106ms/step - loss: 0.7543 - accuracy: 0.7324 - val_loss: 0.7796 - val_accuracy: 0.7101\n",
            "Epoch 4/7\n",
            "160/160 [==============================] - 17s 106ms/step - loss: 0.6593 - accuracy: 0.7649 - val_loss: 0.7557 - val_accuracy: 0.7242\n",
            "Epoch 5/7\n",
            "160/160 [==============================] - 17s 107ms/step - loss: 0.5992 - accuracy: 0.7856 - val_loss: 0.7437 - val_accuracy: 0.7277\n",
            "Epoch 6/7\n",
            "160/160 [==============================] - 17s 106ms/step - loss: 0.5527 - accuracy: 0.8065 - val_loss: 0.7327 - val_accuracy: 0.7336\n",
            "Epoch 7/7\n",
            "160/160 [==============================] - 17s 107ms/step - loss: 0.5128 - accuracy: 0.8207 - val_loss: 0.7494 - val_accuracy: 0.7347\n",
            "80/80 [==============================] - 2s 20ms/step - loss: 0.7493 - accuracy: 0.7347\n",
            "emb_dim: 64  hidden_dim: 64  drop: 0 ----RMSprop\n",
            "Epoch 1/7\n",
            "160/160 [==============================] - 4s 24ms/step - loss: 1.3140 - accuracy: 0.4698 - val_loss: 0.9584 - val_accuracy: 0.6412\n",
            "Epoch 2/7\n",
            "160/160 [==============================] - 3s 22ms/step - loss: 0.7901 - accuracy: 0.7173 - val_loss: 0.7754 - val_accuracy: 0.7144\n",
            "Epoch 3/7\n",
            "160/160 [==============================] - 4s 22ms/step - loss: 0.6150 - accuracy: 0.7819 - val_loss: 0.7621 - val_accuracy: 0.7210\n",
            "Epoch 4/7\n",
            "160/160 [==============================] - 3s 21ms/step - loss: 0.5228 - accuracy: 0.8162 - val_loss: 0.7646 - val_accuracy: 0.7281\n",
            "Epoch 5/7\n",
            "160/160 [==============================] - 3s 22ms/step - loss: 0.4576 - accuracy: 0.8427 - val_loss: 0.7381 - val_accuracy: 0.7308\n",
            "Epoch 6/7\n",
            "160/160 [==============================] - 4s 22ms/step - loss: 0.4068 - accuracy: 0.8600 - val_loss: 0.7678 - val_accuracy: 0.7254\n",
            "Epoch 7/7\n",
            "160/160 [==============================] - 3s 22ms/step - loss: 0.3645 - accuracy: 0.8730 - val_loss: 0.8440 - val_accuracy: 0.7242\n",
            "80/80 [==============================] - 0s 4ms/step - loss: 0.8441 - accuracy: 0.7242\n",
            "emb_dim: 64  hidden_dim: 64  drop: 0.1 ----RMSprop\n",
            "Epoch 1/7\n",
            "160/160 [==============================] - 4s 25ms/step - loss: 1.3275 - accuracy: 0.4645 - val_loss: 0.9757 - val_accuracy: 0.6346\n",
            "Epoch 2/7\n",
            "160/160 [==============================] - 4s 23ms/step - loss: 0.8106 - accuracy: 0.7088 - val_loss: 0.7799 - val_accuracy: 0.7089\n",
            "Epoch 3/7\n",
            "160/160 [==============================] - 4s 23ms/step - loss: 0.6314 - accuracy: 0.7772 - val_loss: 0.7701 - val_accuracy: 0.7175\n",
            "Epoch 4/7\n",
            "160/160 [==============================] - 4s 23ms/step - loss: 0.5408 - accuracy: 0.8090 - val_loss: 0.7549 - val_accuracy: 0.7285\n",
            "Epoch 5/7\n",
            "160/160 [==============================] - 4s 23ms/step - loss: 0.4785 - accuracy: 0.8363 - val_loss: 0.7271 - val_accuracy: 0.7344\n",
            "Epoch 6/7\n",
            "160/160 [==============================] - 4s 23ms/step - loss: 0.4275 - accuracy: 0.8533 - val_loss: 0.7554 - val_accuracy: 0.7289\n",
            "Epoch 7/7\n",
            "160/160 [==============================] - 4s 23ms/step - loss: 0.3880 - accuracy: 0.8648 - val_loss: 0.8131 - val_accuracy: 0.7261\n",
            "80/80 [==============================] - 0s 4ms/step - loss: 0.8131 - accuracy: 0.7261\n",
            "emb_dim: 64  hidden_dim: 64  drop: 0.2 ----RMSprop\n",
            "Epoch 1/7\n",
            "160/160 [==============================] - 4s 25ms/step - loss: 1.3424 - accuracy: 0.4533 - val_loss: 1.0031 - val_accuracy: 0.6056\n",
            "Epoch 2/7\n",
            "160/160 [==============================] - 4s 23ms/step - loss: 0.8370 - accuracy: 0.6985 - val_loss: 0.7861 - val_accuracy: 0.7046\n",
            "Epoch 3/7\n",
            "160/160 [==============================] - 4s 23ms/step - loss: 0.6573 - accuracy: 0.7675 - val_loss: 0.7658 - val_accuracy: 0.7128\n",
            "Epoch 4/7\n",
            "160/160 [==============================] - 4s 23ms/step - loss: 0.5670 - accuracy: 0.8003 - val_loss: 0.7518 - val_accuracy: 0.7300\n",
            "Epoch 5/7\n",
            "160/160 [==============================] - 4s 23ms/step - loss: 0.5076 - accuracy: 0.8232 - val_loss: 0.7280 - val_accuracy: 0.7383\n",
            "Epoch 6/7\n",
            "160/160 [==============================] - 4s 22ms/step - loss: 0.4565 - accuracy: 0.8400 - val_loss: 0.7488 - val_accuracy: 0.7312\n",
            "Epoch 7/7\n",
            "160/160 [==============================] - 4s 23ms/step - loss: 0.4194 - accuracy: 0.8548 - val_loss: 0.7953 - val_accuracy: 0.7312\n",
            "80/80 [==============================] - 0s 4ms/step - loss: 0.7952 - accuracy: 0.7312\n",
            "emb_dim: 64  hidden_dim: 64  drop: 0.3 ----RMSprop\n",
            "Epoch 1/7\n",
            "160/160 [==============================] - 4s 25ms/step - loss: 1.3555 - accuracy: 0.4463 - val_loss: 1.0157 - val_accuracy: 0.6068\n",
            "Epoch 2/7\n",
            "160/160 [==============================] - 4s 22ms/step - loss: 0.8575 - accuracy: 0.6871 - val_loss: 0.7971 - val_accuracy: 0.7023\n",
            "Epoch 3/7\n",
            "160/160 [==============================] - 4s 23ms/step - loss: 0.6801 - accuracy: 0.7578 - val_loss: 0.7609 - val_accuracy: 0.7160\n",
            "Epoch 4/7\n",
            "160/160 [==============================] - 4s 22ms/step - loss: 0.5923 - accuracy: 0.7906 - val_loss: 0.7541 - val_accuracy: 0.7257\n",
            "Epoch 5/7\n",
            "160/160 [==============================] - 4s 23ms/step - loss: 0.5308 - accuracy: 0.8167 - val_loss: 0.7249 - val_accuracy: 0.7320\n",
            "Epoch 6/7\n",
            "160/160 [==============================] - 4s 23ms/step - loss: 0.4816 - accuracy: 0.8303 - val_loss: 0.7436 - val_accuracy: 0.7324\n",
            "Epoch 7/7\n",
            "160/160 [==============================] - 4s 24ms/step - loss: 0.4491 - accuracy: 0.8445 - val_loss: 0.7944 - val_accuracy: 0.7297\n",
            "80/80 [==============================] - 0s 4ms/step - loss: 0.7945 - accuracy: 0.7297\n",
            "emb_dim: 64  hidden_dim: 128  drop: 0 ----RMSprop\n",
            "Epoch 1/7\n",
            "160/160 [==============================] - 8s 49ms/step - loss: 1.2559 - accuracy: 0.4971 - val_loss: 0.9268 - val_accuracy: 0.6444\n",
            "Epoch 2/7\n",
            "160/160 [==============================] - 7s 47ms/step - loss: 0.7755 - accuracy: 0.7227 - val_loss: 0.7812 - val_accuracy: 0.7152\n",
            "Epoch 3/7\n",
            "160/160 [==============================] - 7s 46ms/step - loss: 0.6162 - accuracy: 0.7832 - val_loss: 0.7565 - val_accuracy: 0.7308\n",
            "Epoch 4/7\n",
            "160/160 [==============================] - 7s 46ms/step - loss: 0.5262 - accuracy: 0.8143 - val_loss: 0.7613 - val_accuracy: 0.7375\n",
            "Epoch 5/7\n",
            "160/160 [==============================] - 7s 46ms/step - loss: 0.4614 - accuracy: 0.8398 - val_loss: 0.7575 - val_accuracy: 0.7347\n",
            "Epoch 6/7\n",
            "160/160 [==============================] - 7s 46ms/step - loss: 0.4104 - accuracy: 0.8590 - val_loss: 0.7790 - val_accuracy: 0.7246\n",
            "Epoch 7/7\n",
            "160/160 [==============================] - 7s 47ms/step - loss: 0.3664 - accuracy: 0.8758 - val_loss: 0.8289 - val_accuracy: 0.7293\n",
            "80/80 [==============================] - 1s 7ms/step - loss: 0.8288 - accuracy: 0.7293\n",
            "emb_dim: 64  hidden_dim: 128  drop: 0.1 ----RMSprop\n",
            "Epoch 1/7\n",
            "160/160 [==============================] - 8s 50ms/step - loss: 1.2728 - accuracy: 0.4866 - val_loss: 0.9817 - val_accuracy: 0.6639\n",
            "Epoch 2/7\n",
            "160/160 [==============================] - 8s 48ms/step - loss: 0.7962 - accuracy: 0.7163 - val_loss: 0.7917 - val_accuracy: 0.7023\n",
            "Epoch 3/7\n",
            "160/160 [==============================] - 8s 47ms/step - loss: 0.6367 - accuracy: 0.7757 - val_loss: 0.7553 - val_accuracy: 0.7289\n",
            "Epoch 4/7\n",
            "160/160 [==============================] - 8s 47ms/step - loss: 0.5471 - accuracy: 0.8069 - val_loss: 0.7606 - val_accuracy: 0.7347\n",
            "Epoch 5/7\n",
            "160/160 [==============================] - 8s 48ms/step - loss: 0.4841 - accuracy: 0.8316 - val_loss: 0.7538 - val_accuracy: 0.7320\n",
            "Epoch 6/7\n",
            "160/160 [==============================] - 8s 47ms/step - loss: 0.4349 - accuracy: 0.8495 - val_loss: 0.7624 - val_accuracy: 0.7308\n",
            "Epoch 7/7\n",
            "160/160 [==============================] - 8s 48ms/step - loss: 0.3921 - accuracy: 0.8654 - val_loss: 0.8101 - val_accuracy: 0.7289\n",
            "80/80 [==============================] - 1s 7ms/step - loss: 0.8100 - accuracy: 0.7289\n",
            "emb_dim: 64  hidden_dim: 128  drop: 0.2 ----RMSprop\n",
            "Epoch 1/7\n",
            "160/160 [==============================] - 8s 50ms/step - loss: 1.2910 - accuracy: 0.4770 - val_loss: 1.0100 - val_accuracy: 0.6592\n",
            "Epoch 2/7\n",
            "160/160 [==============================] - 8s 48ms/step - loss: 0.8217 - accuracy: 0.7069 - val_loss: 0.7995 - val_accuracy: 0.6991\n",
            "Epoch 3/7\n",
            "160/160 [==============================] - 8s 48ms/step - loss: 0.6604 - accuracy: 0.7699 - val_loss: 0.7602 - val_accuracy: 0.7242\n",
            "Epoch 4/7\n",
            "160/160 [==============================] - 8s 48ms/step - loss: 0.5702 - accuracy: 0.7995 - val_loss: 0.7522 - val_accuracy: 0.7351\n",
            "Epoch 5/7\n",
            "160/160 [==============================] - 8s 48ms/step - loss: 0.5099 - accuracy: 0.8225 - val_loss: 0.7494 - val_accuracy: 0.7379\n",
            "Epoch 6/7\n",
            "160/160 [==============================] - 8s 48ms/step - loss: 0.4631 - accuracy: 0.8408 - val_loss: 0.7542 - val_accuracy: 0.7359\n",
            "Epoch 7/7\n",
            "160/160 [==============================] - 8s 47ms/step - loss: 0.4201 - accuracy: 0.8554 - val_loss: 0.8040 - val_accuracy: 0.7300\n",
            "80/80 [==============================] - 1s 7ms/step - loss: 0.8040 - accuracy: 0.7300\n",
            "emb_dim: 64  hidden_dim: 128  drop: 0.3 ----RMSprop\n",
            "Epoch 1/7\n",
            "160/160 [==============================] - 8s 51ms/step - loss: 1.3109 - accuracy: 0.4728 - val_loss: 1.0070 - val_accuracy: 0.6412\n",
            "Epoch 2/7\n",
            "160/160 [==============================] - 8s 48ms/step - loss: 0.8473 - accuracy: 0.6958 - val_loss: 0.8121 - val_accuracy: 0.6948\n",
            "Epoch 3/7\n",
            "160/160 [==============================] - 8s 47ms/step - loss: 0.6836 - accuracy: 0.7608 - val_loss: 0.7627 - val_accuracy: 0.7234\n",
            "Epoch 4/7\n",
            "160/160 [==============================] - 8s 48ms/step - loss: 0.5959 - accuracy: 0.7922 - val_loss: 0.7509 - val_accuracy: 0.7375\n",
            "Epoch 5/7\n",
            "160/160 [==============================] - 8s 48ms/step - loss: 0.5372 - accuracy: 0.8130 - val_loss: 0.7462 - val_accuracy: 0.7351\n",
            "Epoch 6/7\n",
            "160/160 [==============================] - 8s 48ms/step - loss: 0.4906 - accuracy: 0.8308 - val_loss: 0.7463 - val_accuracy: 0.7363\n",
            "Epoch 7/7\n",
            "160/160 [==============================] - 8s 47ms/step - loss: 0.4500 - accuracy: 0.8439 - val_loss: 0.7777 - val_accuracy: 0.7406\n",
            "80/80 [==============================] - 1s 7ms/step - loss: 0.7776 - accuracy: 0.7406\n",
            "emb_dim: 64  hidden_dim: 256  drop: 0 ----RMSprop\n",
            "Epoch 1/7\n",
            "160/160 [==============================] - 19s 116ms/step - loss: 1.2814 - accuracy: 0.5020 - val_loss: 0.9757 - val_accuracy: 0.6581\n",
            "Epoch 2/7\n",
            "160/160 [==============================] - 19s 116ms/step - loss: 0.7813 - accuracy: 0.7261 - val_loss: 0.7842 - val_accuracy: 0.7101\n",
            "Epoch 3/7\n",
            "160/160 [==============================] - 19s 119ms/step - loss: 0.6163 - accuracy: 0.7833 - val_loss: 0.7570 - val_accuracy: 0.7281\n",
            "Epoch 4/7\n",
            "160/160 [==============================] - 18s 112ms/step - loss: 0.5263 - accuracy: 0.8149 - val_loss: 0.7473 - val_accuracy: 0.7359\n",
            "Epoch 5/7\n",
            "160/160 [==============================] - 18s 115ms/step - loss: 0.4618 - accuracy: 0.8388 - val_loss: 0.7600 - val_accuracy: 0.7285\n",
            "Epoch 6/7\n",
            "160/160 [==============================] - 18s 114ms/step - loss: 0.4118 - accuracy: 0.8555 - val_loss: 0.7930 - val_accuracy: 0.7254\n",
            "Epoch 7/7\n",
            "160/160 [==============================] - 18s 113ms/step - loss: 0.3671 - accuracy: 0.8696 - val_loss: 0.8189 - val_accuracy: 0.7297\n",
            "80/80 [==============================] - 2s 20ms/step - loss: 0.8187 - accuracy: 0.7297\n",
            "emb_dim: 64  hidden_dim: 256  drop: 0.1 ----RMSprop\n",
            "Epoch 1/7\n",
            "160/160 [==============================] - 19s 116ms/step - loss: 1.2572 - accuracy: 0.4972 - val_loss: 0.9430 - val_accuracy: 0.6647\n",
            "Epoch 2/7\n",
            "160/160 [==============================] - 18s 113ms/step - loss: 0.7842 - accuracy: 0.7273 - val_loss: 0.7839 - val_accuracy: 0.7132\n",
            "Epoch 3/7\n",
            "160/160 [==============================] - 18s 113ms/step - loss: 0.6271 - accuracy: 0.7838 - val_loss: 0.7518 - val_accuracy: 0.7332\n",
            "Epoch 4/7\n",
            "160/160 [==============================] - 18s 113ms/step - loss: 0.5412 - accuracy: 0.8092 - val_loss: 0.7346 - val_accuracy: 0.7383\n",
            "Epoch 5/7\n",
            "160/160 [==============================] - 18s 112ms/step - loss: 0.4785 - accuracy: 0.8318 - val_loss: 0.7467 - val_accuracy: 0.7347\n",
            "Epoch 6/7\n",
            "160/160 [==============================] - 18s 113ms/step - loss: 0.4288 - accuracy: 0.8504 - val_loss: 0.7831 - val_accuracy: 0.7265\n",
            "Epoch 7/7\n",
            "160/160 [==============================] - 18s 114ms/step - loss: 0.3868 - accuracy: 0.8643 - val_loss: 0.8015 - val_accuracy: 0.7332\n",
            "80/80 [==============================] - 2s 20ms/step - loss: 0.8013 - accuracy: 0.7332\n",
            "emb_dim: 64  hidden_dim: 256  drop: 0.2 ----RMSprop\n",
            "Epoch 1/7\n",
            "160/160 [==============================] - 18s 116ms/step - loss: 1.2638 - accuracy: 0.4910 - val_loss: 0.9245 - val_accuracy: 0.6514\n",
            "Epoch 2/7\n",
            "160/160 [==============================] - 18s 113ms/step - loss: 0.8036 - accuracy: 0.7188 - val_loss: 0.7934 - val_accuracy: 0.7089\n",
            "Epoch 3/7\n",
            "160/160 [==============================] - 18s 114ms/step - loss: 0.6483 - accuracy: 0.7752 - val_loss: 0.7572 - val_accuracy: 0.7289\n",
            "Epoch 4/7\n",
            "160/160 [==============================] - 18s 113ms/step - loss: 0.5629 - accuracy: 0.8025 - val_loss: 0.7367 - val_accuracy: 0.7387\n",
            "Epoch 5/7\n",
            "160/160 [==============================] - 18s 114ms/step - loss: 0.5041 - accuracy: 0.8229 - val_loss: 0.7377 - val_accuracy: 0.7363\n",
            "Epoch 6/7\n",
            "160/160 [==============================] - 18s 113ms/step - loss: 0.4559 - accuracy: 0.8415 - val_loss: 0.7730 - val_accuracy: 0.7265\n",
            "Epoch 7/7\n",
            "160/160 [==============================] - 18s 115ms/step - loss: 0.4153 - accuracy: 0.8528 - val_loss: 0.7810 - val_accuracy: 0.7387\n",
            "80/80 [==============================] - 2s 22ms/step - loss: 0.7808 - accuracy: 0.7387\n",
            "emb_dim: 64  hidden_dim: 256  drop: 0.3 ----RMSprop\n",
            "Epoch 1/7\n",
            "160/160 [==============================] - 18s 115ms/step - loss: 1.2822 - accuracy: 0.4847 - val_loss: 0.9465 - val_accuracy: 0.6506\n",
            "Epoch 2/7\n",
            "160/160 [==============================] - 18s 113ms/step - loss: 0.8206 - accuracy: 0.7102 - val_loss: 0.7979 - val_accuracy: 0.7089\n",
            "Epoch 3/7\n",
            "160/160 [==============================] - 18s 113ms/step - loss: 0.6647 - accuracy: 0.7672 - val_loss: 0.7645 - val_accuracy: 0.7297\n",
            "Epoch 4/7\n",
            "160/160 [==============================] - 18s 113ms/step - loss: 0.5836 - accuracy: 0.7955 - val_loss: 0.7437 - val_accuracy: 0.7344\n",
            "Epoch 5/7\n",
            "160/160 [==============================] - 18s 114ms/step - loss: 0.5262 - accuracy: 0.8167 - val_loss: 0.7386 - val_accuracy: 0.7332\n",
            "Epoch 6/7\n",
            "160/160 [==============================] - 18s 113ms/step - loss: 0.4796 - accuracy: 0.8310 - val_loss: 0.7659 - val_accuracy: 0.7297\n",
            "Epoch 7/7\n",
            "160/160 [==============================] - 18s 113ms/step - loss: 0.4418 - accuracy: 0.8447 - val_loss: 0.7669 - val_accuracy: 0.7398\n",
            "80/80 [==============================] - 2s 21ms/step - loss: 0.7668 - accuracy: 0.7398\n",
            "emb_dim: 128  hidden_dim: 64  drop: 0 ----RMSprop\n",
            "Epoch 1/7\n",
            "160/160 [==============================] - 5s 30ms/step - loss: 1.2042 - accuracy: 0.5260 - val_loss: 0.8735 - val_accuracy: 0.6733\n",
            "Epoch 2/7\n",
            "160/160 [==============================] - 5s 28ms/step - loss: 0.7145 - accuracy: 0.7471 - val_loss: 0.7469 - val_accuracy: 0.7261\n",
            "Epoch 3/7\n",
            "160/160 [==============================] - 4s 28ms/step - loss: 0.5641 - accuracy: 0.8033 - val_loss: 0.7525 - val_accuracy: 0.7281\n",
            "Epoch 4/7\n",
            "160/160 [==============================] - 5s 28ms/step - loss: 0.4784 - accuracy: 0.8319 - val_loss: 0.7593 - val_accuracy: 0.7347\n",
            "Epoch 5/7\n",
            "160/160 [==============================] - 4s 28ms/step - loss: 0.4142 - accuracy: 0.8553 - val_loss: 0.7770 - val_accuracy: 0.7340\n",
            "Epoch 6/7\n",
            "160/160 [==============================] - 4s 28ms/step - loss: 0.3622 - accuracy: 0.8739 - val_loss: 0.8016 - val_accuracy: 0.7265\n",
            "Epoch 7/7\n",
            "160/160 [==============================] - 5s 28ms/step - loss: 0.3197 - accuracy: 0.8904 - val_loss: 0.8934 - val_accuracy: 0.7128\n",
            "80/80 [==============================] - 0s 4ms/step - loss: 0.8934 - accuracy: 0.7128\n",
            "emb_dim: 128  hidden_dim: 64  drop: 0.1 ----RMSprop\n",
            "Epoch 1/7\n",
            "160/160 [==============================] - 5s 33ms/step - loss: 1.2161 - accuracy: 0.5217 - val_loss: 0.8822 - val_accuracy: 0.6667\n",
            "Epoch 2/7\n",
            "160/160 [==============================] - 5s 30ms/step - loss: 0.7271 - accuracy: 0.7397 - val_loss: 0.7535 - val_accuracy: 0.7210\n",
            "Epoch 3/7\n",
            "160/160 [==============================] - 5s 30ms/step - loss: 0.5793 - accuracy: 0.7954 - val_loss: 0.7555 - val_accuracy: 0.7269\n",
            "Epoch 4/7\n",
            "160/160 [==============================] - 5s 31ms/step - loss: 0.4961 - accuracy: 0.8254 - val_loss: 0.7538 - val_accuracy: 0.7371\n",
            "Epoch 5/7\n",
            "160/160 [==============================] - 5s 30ms/step - loss: 0.4330 - accuracy: 0.8480 - val_loss: 0.7752 - val_accuracy: 0.7355\n",
            "Epoch 6/7\n",
            "160/160 [==============================] - 5s 30ms/step - loss: 0.3825 - accuracy: 0.8670 - val_loss: 0.8018 - val_accuracy: 0.7281\n",
            "Epoch 7/7\n",
            "160/160 [==============================] - 5s 30ms/step - loss: 0.3421 - accuracy: 0.8809 - val_loss: 0.8706 - val_accuracy: 0.7144\n",
            "80/80 [==============================] - 0s 4ms/step - loss: 0.8706 - accuracy: 0.7144\n",
            "emb_dim: 128  hidden_dim: 64  drop: 0.2 ----RMSprop\n",
            "Epoch 1/7\n",
            "160/160 [==============================] - 7s 43ms/step - loss: 1.2335 - accuracy: 0.5101 - val_loss: 0.8968 - val_accuracy: 0.6510\n",
            "Epoch 2/7\n",
            "160/160 [==============================] - 5s 30ms/step - loss: 0.7484 - accuracy: 0.7322 - val_loss: 0.7611 - val_accuracy: 0.7171\n",
            "Epoch 3/7\n",
            "160/160 [==============================] - 5s 31ms/step - loss: 0.5992 - accuracy: 0.7897 - val_loss: 0.7547 - val_accuracy: 0.7246\n",
            "Epoch 4/7\n",
            "160/160 [==============================] - 5s 30ms/step - loss: 0.5174 - accuracy: 0.8158 - val_loss: 0.7538 - val_accuracy: 0.7359\n",
            "Epoch 5/7\n",
            "160/160 [==============================] - 5s 30ms/step - loss: 0.4560 - accuracy: 0.8408 - val_loss: 0.7606 - val_accuracy: 0.7371\n",
            "Epoch 6/7\n",
            "160/160 [==============================] - 5s 31ms/step - loss: 0.4078 - accuracy: 0.8562 - val_loss: 0.7812 - val_accuracy: 0.7332\n",
            "Epoch 7/7\n",
            "160/160 [==============================] - 5s 30ms/step - loss: 0.3679 - accuracy: 0.8721 - val_loss: 0.8391 - val_accuracy: 0.7195\n",
            "80/80 [==============================] - 0s 4ms/step - loss: 0.8391 - accuracy: 0.7195\n",
            "emb_dim: 128  hidden_dim: 64  drop: 0.3 ----RMSprop\n",
            "Epoch 1/7\n",
            "160/160 [==============================] - 5s 33ms/step - loss: 1.2552 - accuracy: 0.4991 - val_loss: 0.9184 - val_accuracy: 0.6408\n",
            "Epoch 2/7\n",
            "160/160 [==============================] - 5s 31ms/step - loss: 0.7725 - accuracy: 0.7232 - val_loss: 0.7748 - val_accuracy: 0.7132\n",
            "Epoch 3/7\n",
            "160/160 [==============================] - 5s 31ms/step - loss: 0.6230 - accuracy: 0.7793 - val_loss: 0.7574 - val_accuracy: 0.7257\n",
            "Epoch 4/7\n",
            "160/160 [==============================] - 5s 30ms/step - loss: 0.5434 - accuracy: 0.8073 - val_loss: 0.7565 - val_accuracy: 0.7344\n",
            "Epoch 5/7\n",
            "160/160 [==============================] - 5s 31ms/step - loss: 0.4822 - accuracy: 0.8311 - val_loss: 0.7511 - val_accuracy: 0.7379\n",
            "Epoch 6/7\n",
            "160/160 [==============================] - 5s 31ms/step - loss: 0.4369 - accuracy: 0.8446 - val_loss: 0.7635 - val_accuracy: 0.7351\n",
            "Epoch 7/7\n",
            "160/160 [==============================] - 5s 31ms/step - loss: 0.3975 - accuracy: 0.8615 - val_loss: 0.8273 - val_accuracy: 0.7246\n",
            "80/80 [==============================] - 0s 5ms/step - loss: 0.8273 - accuracy: 0.7246\n",
            "emb_dim: 128  hidden_dim: 128  drop: 0 ----RMSprop\n",
            "Epoch 1/7\n",
            "160/160 [==============================] - 10s 64ms/step - loss: 1.1936 - accuracy: 0.5399 - val_loss: 0.9003 - val_accuracy: 0.6960\n",
            "Epoch 2/7\n",
            "160/160 [==============================] - 10s 62ms/step - loss: 0.7128 - accuracy: 0.7463 - val_loss: 0.7494 - val_accuracy: 0.7308\n",
            "Epoch 3/7\n",
            "160/160 [==============================] - 10s 63ms/step - loss: 0.5690 - accuracy: 0.8007 - val_loss: 0.7471 - val_accuracy: 0.7387\n",
            "Epoch 4/7\n",
            "160/160 [==============================] - 10s 61ms/step - loss: 0.4808 - accuracy: 0.8306 - val_loss: 0.7474 - val_accuracy: 0.7390\n",
            "Epoch 5/7\n",
            "160/160 [==============================] - 10s 61ms/step - loss: 0.4168 - accuracy: 0.8550 - val_loss: 0.7807 - val_accuracy: 0.7336\n",
            "Epoch 6/7\n",
            "160/160 [==============================] - 10s 61ms/step - loss: 0.3640 - accuracy: 0.8726 - val_loss: 0.8111 - val_accuracy: 0.7257\n",
            "Epoch 7/7\n",
            "160/160 [==============================] - 10s 62ms/step - loss: 0.3192 - accuracy: 0.8893 - val_loss: 0.8629 - val_accuracy: 0.7214\n",
            "80/80 [==============================] - 1s 8ms/step - loss: 0.8630 - accuracy: 0.7214\n",
            "emb_dim: 128  hidden_dim: 128  drop: 0.1 ----RMSprop\n",
            "Epoch 1/7\n",
            "160/160 [==============================] - 11s 66ms/step - loss: 1.2007 - accuracy: 0.5324 - val_loss: 0.8979 - val_accuracy: 0.6897\n",
            "Epoch 2/7\n",
            "160/160 [==============================] - 10s 63ms/step - loss: 0.7271 - accuracy: 0.7404 - val_loss: 0.7546 - val_accuracy: 0.7257\n",
            "Epoch 3/7\n",
            "160/160 [==============================] - 10s 64ms/step - loss: 0.5841 - accuracy: 0.7948 - val_loss: 0.7458 - val_accuracy: 0.7398\n",
            "Epoch 4/7\n",
            "160/160 [==============================] - 10s 63ms/step - loss: 0.4958 - accuracy: 0.8241 - val_loss: 0.7447 - val_accuracy: 0.7379\n",
            "Epoch 5/7\n",
            "160/160 [==============================] - 10s 63ms/step - loss: 0.4351 - accuracy: 0.8482 - val_loss: 0.7608 - val_accuracy: 0.7359\n",
            "Epoch 6/7\n",
            "160/160 [==============================] - 10s 63ms/step - loss: 0.3833 - accuracy: 0.8651 - val_loss: 0.7972 - val_accuracy: 0.7324\n",
            "Epoch 7/7\n",
            "160/160 [==============================] - 10s 62ms/step - loss: 0.3400 - accuracy: 0.8801 - val_loss: 0.8371 - val_accuracy: 0.7222\n",
            "80/80 [==============================] - 1s 8ms/step - loss: 0.8371 - accuracy: 0.7222\n",
            "emb_dim: 128  hidden_dim: 128  drop: 0.2 ----RMSprop\n",
            "Epoch 1/7\n",
            "160/160 [==============================] - 11s 66ms/step - loss: 1.2273 - accuracy: 0.5234 - val_loss: 0.9097 - val_accuracy: 0.6815\n",
            "Epoch 2/7\n",
            "160/160 [==============================] - 10s 63ms/step - loss: 0.7507 - accuracy: 0.7302 - val_loss: 0.7609 - val_accuracy: 0.7265\n",
            "Epoch 3/7\n",
            "160/160 [==============================] - 10s 64ms/step - loss: 0.6068 - accuracy: 0.7877 - val_loss: 0.7455 - val_accuracy: 0.7371\n",
            "Epoch 4/7\n",
            "160/160 [==============================] - 10s 64ms/step - loss: 0.5215 - accuracy: 0.8162 - val_loss: 0.7366 - val_accuracy: 0.7441\n",
            "Epoch 5/7\n",
            "160/160 [==============================] - 10s 64ms/step - loss: 0.4624 - accuracy: 0.8383 - val_loss: 0.7482 - val_accuracy: 0.7375\n",
            "Epoch 6/7\n",
            "160/160 [==============================] - 10s 63ms/step - loss: 0.4126 - accuracy: 0.8558 - val_loss: 0.7802 - val_accuracy: 0.7320\n",
            "Epoch 7/7\n",
            "160/160 [==============================] - 10s 63ms/step - loss: 0.3694 - accuracy: 0.8714 - val_loss: 0.8092 - val_accuracy: 0.7320\n",
            "80/80 [==============================] - 1s 8ms/step - loss: 0.8092 - accuracy: 0.7320\n",
            "emb_dim: 128  hidden_dim: 128  drop: 0.3 ----RMSprop\n",
            "Epoch 1/7\n",
            "160/160 [==============================] - 10s 65ms/step - loss: 1.2556 - accuracy: 0.5070 - val_loss: 0.9190 - val_accuracy: 0.6463\n",
            "Epoch 2/7\n",
            "160/160 [==============================] - 10s 63ms/step - loss: 0.7794 - accuracy: 0.7208 - val_loss: 0.7744 - val_accuracy: 0.7156\n",
            "Epoch 3/7\n",
            "160/160 [==============================] - 10s 63ms/step - loss: 0.6332 - accuracy: 0.7781 - val_loss: 0.7488 - val_accuracy: 0.7351\n",
            "Epoch 4/7\n",
            "160/160 [==============================] - 10s 63ms/step - loss: 0.5470 - accuracy: 0.8069 - val_loss: 0.7421 - val_accuracy: 0.7414\n",
            "Epoch 5/7\n",
            "160/160 [==============================] - 10s 63ms/step - loss: 0.4892 - accuracy: 0.8294 - val_loss: 0.7344 - val_accuracy: 0.7422\n",
            "Epoch 6/7\n",
            "160/160 [==============================] - 10s 63ms/step - loss: 0.4447 - accuracy: 0.8436 - val_loss: 0.7563 - val_accuracy: 0.7347\n",
            "Epoch 7/7\n",
            "160/160 [==============================] - 11s 66ms/step - loss: 0.4019 - accuracy: 0.8607 - val_loss: 0.7841 - val_accuracy: 0.7387\n",
            "80/80 [==============================] - 1s 8ms/step - loss: 0.7841 - accuracy: 0.7387\n",
            "emb_dim: 128  hidden_dim: 256  drop: 0 ----RMSprop\n",
            "Epoch 1/7\n",
            "160/160 [==============================] - 21s 129ms/step - loss: 1.1622 - accuracy: 0.5543 - val_loss: 0.8862 - val_accuracy: 0.6882\n",
            "Epoch 2/7\n",
            "160/160 [==============================] - 21s 129ms/step - loss: 0.7126 - accuracy: 0.7523 - val_loss: 0.7481 - val_accuracy: 0.7289\n",
            "Epoch 3/7\n",
            "160/160 [==============================] - 21s 129ms/step - loss: 0.5665 - accuracy: 0.8014 - val_loss: 0.7498 - val_accuracy: 0.7332\n",
            "Epoch 4/7\n",
            "160/160 [==============================] - 21s 129ms/step - loss: 0.4784 - accuracy: 0.8325 - val_loss: 0.7467 - val_accuracy: 0.7437\n",
            "Epoch 5/7\n",
            "160/160 [==============================] - 21s 129ms/step - loss: 0.4162 - accuracy: 0.8550 - val_loss: 0.7769 - val_accuracy: 0.7328\n",
            "Epoch 6/7\n",
            "160/160 [==============================] - 21s 129ms/step - loss: 0.3620 - accuracy: 0.8737 - val_loss: 0.8254 - val_accuracy: 0.7246\n",
            "Epoch 7/7\n",
            "160/160 [==============================] - 21s 129ms/step - loss: 0.3160 - accuracy: 0.8918 - val_loss: 0.8582 - val_accuracy: 0.7222\n",
            "80/80 [==============================] - 2s 24ms/step - loss: 0.8582 - accuracy: 0.7222\n",
            "emb_dim: 128  hidden_dim: 256  drop: 0.1 ----RMSprop\n",
            "Epoch 1/7\n",
            "160/160 [==============================] - 21s 132ms/step - loss: 1.1768 - accuracy: 0.5470 - val_loss: 0.8677 - val_accuracy: 0.6835\n",
            "Epoch 2/7\n",
            "160/160 [==============================] - 21s 130ms/step - loss: 0.7202 - accuracy: 0.7454 - val_loss: 0.7512 - val_accuracy: 0.7297\n",
            "Epoch 3/7\n",
            "160/160 [==============================] - 21s 131ms/step - loss: 0.5773 - accuracy: 0.7977 - val_loss: 0.7492 - val_accuracy: 0.7304\n",
            "Epoch 4/7\n",
            "160/160 [==============================] - 21s 130ms/step - loss: 0.4918 - accuracy: 0.8273 - val_loss: 0.7413 - val_accuracy: 0.7418\n",
            "Epoch 5/7\n",
            "160/160 [==============================] - 21s 130ms/step - loss: 0.4332 - accuracy: 0.8494 - val_loss: 0.7777 - val_accuracy: 0.7293\n",
            "Epoch 6/7\n",
            "160/160 [==============================] - 21s 131ms/step - loss: 0.3802 - accuracy: 0.8660 - val_loss: 0.8074 - val_accuracy: 0.7265\n",
            "Epoch 7/7\n",
            "160/160 [==============================] - 21s 133ms/step - loss: 0.3351 - accuracy: 0.8838 - val_loss: 0.8434 - val_accuracy: 0.7285\n",
            "80/80 [==============================] - 2s 24ms/step - loss: 0.8434 - accuracy: 0.7285\n",
            "emb_dim: 128  hidden_dim: 256  drop: 0.2 ----RMSprop\n",
            "Epoch 1/7\n",
            "160/160 [==============================] - 22s 135ms/step - loss: 1.2097 - accuracy: 0.5353 - val_loss: 0.8895 - val_accuracy: 0.6851\n",
            "Epoch 2/7\n",
            "160/160 [==============================] - 21s 132ms/step - loss: 0.7470 - accuracy: 0.7377 - val_loss: 0.7592 - val_accuracy: 0.7281\n",
            "Epoch 3/7\n",
            "160/160 [==============================] - 22s 135ms/step - loss: 0.6024 - accuracy: 0.7888 - val_loss: 0.7529 - val_accuracy: 0.7277\n",
            "Epoch 4/7\n",
            "160/160 [==============================] - 21s 132ms/step - loss: 0.5190 - accuracy: 0.8178 - val_loss: 0.7392 - val_accuracy: 0.7422\n",
            "Epoch 5/7\n",
            "160/160 [==============================] - 21s 132ms/step - loss: 0.4587 - accuracy: 0.8380 - val_loss: 0.7660 - val_accuracy: 0.7308\n",
            "Epoch 6/7\n",
            "160/160 [==============================] - 21s 132ms/step - loss: 0.4095 - accuracy: 0.8567 - val_loss: 0.7877 - val_accuracy: 0.7293\n",
            "Epoch 7/7\n",
            "160/160 [==============================] - 21s 132ms/step - loss: 0.3635 - accuracy: 0.8712 - val_loss: 0.8136 - val_accuracy: 0.7308\n",
            "80/80 [==============================] - 2s 24ms/step - loss: 0.8135 - accuracy: 0.7308\n",
            "emb_dim: 128  hidden_dim: 256  drop: 0.3 ----RMSprop\n",
            "Epoch 1/7\n",
            "160/160 [==============================] - 21s 133ms/step - loss: 1.2088 - accuracy: 0.5269 - val_loss: 0.8884 - val_accuracy: 0.6835\n",
            "Epoch 2/7\n",
            "160/160 [==============================] - 21s 132ms/step - loss: 0.7642 - accuracy: 0.7318 - val_loss: 0.7686 - val_accuracy: 0.7226\n",
            "Epoch 3/7\n",
            "160/160 [==============================] - 21s 131ms/step - loss: 0.6212 - accuracy: 0.7822 - val_loss: 0.7602 - val_accuracy: 0.7277\n",
            "Epoch 4/7\n",
            "160/160 [==============================] - 21s 131ms/step - loss: 0.5394 - accuracy: 0.8102 - val_loss: 0.7420 - val_accuracy: 0.7433\n",
            "Epoch 5/7\n",
            "160/160 [==============================] - 21s 132ms/step - loss: 0.4806 - accuracy: 0.8338 - val_loss: 0.7472 - val_accuracy: 0.7324\n",
            "Epoch 6/7\n",
            "160/160 [==============================] - 21s 130ms/step - loss: 0.4339 - accuracy: 0.8486 - val_loss: 0.7782 - val_accuracy: 0.7297\n",
            "Epoch 7/7\n",
            "160/160 [==============================] - 21s 131ms/step - loss: 0.3905 - accuracy: 0.8632 - val_loss: 0.8209 - val_accuracy: 0.7269\n",
            "80/80 [==============================] - 2s 25ms/step - loss: 0.8208 - accuracy: 0.7269\n"
          ],
          "name": "stdout"
        }
      ]
    },
    {
      "cell_type": "markdown",
      "metadata": {
        "id": "xejQKFqZrsw0",
        "colab_type": "text"
      },
      "source": [
        "#### Predict on the test set for kaggle\n",
        "\n",
        "72.085% on Kaggle vs 74.41% here"
      ]
    },
    {
      "cell_type": "code",
      "metadata": {
        "id": "s4CiSia6HwW-",
        "colab_type": "code",
        "colab": {}
      },
      "source": [
        "# Running the best model on the test set\n",
        "np.random.seed(42)\n",
        "random.seed(12345)\n",
        "session_conf = tf.compat.v1.ConfigProto(intra_op_parallelism_threads=1,\n",
        "                              inter_op_parallelism_threads=1)\n",
        "tf.compat.v1.set_random_seed(1234) \n",
        "model2 = Sequential() \n",
        "model2.add(Embedding(dict_len + 1, 128)) # adding trainable=True does not change the result, likely trainable by default\n",
        "model2.add(LSTM(128, dropout=0.2)) \n",
        "# number of classes = 5\n",
        "model2.add(Dense(5, activation=\"softmax\"))  \n",
        "model2.compile(loss='categorical_crossentropy', optimizer='RMSprop', metrics=['accuracy'])"
      ],
      "execution_count": null,
      "outputs": []
    },
    {
      "cell_type": "code",
      "metadata": {
        "id": "H58q2cmFIBi3",
        "colab_type": "code",
        "colab": {
          "base_uri": "https://localhost:8080/",
          "height": 183
        },
        "outputId": "f485b60e-d5e6-4566-f7b1-4f872b53ff87"
      },
      "source": [
        "# Train the model\n",
        "model2.fit(X_train, Y_train, validation_data = (X_test, Y_test), batch_size=64, epochs=4) \n",
        "model2.evaluate(X_test, Y_test) "
      ],
      "execution_count": null,
      "outputs": [
        {
          "output_type": "stream",
          "text": [
            "Epoch 1/4\n",
            "160/160 [==============================] - 11s 66ms/step - loss: 1.2273 - accuracy: 0.5234 - val_loss: 0.9097 - val_accuracy: 0.6815\n",
            "Epoch 2/4\n",
            "160/160 [==============================] - 10s 64ms/step - loss: 0.7507 - accuracy: 0.7302 - val_loss: 0.7609 - val_accuracy: 0.7265\n",
            "Epoch 3/4\n",
            "160/160 [==============================] - 10s 64ms/step - loss: 0.6068 - accuracy: 0.7877 - val_loss: 0.7455 - val_accuracy: 0.7371\n",
            "Epoch 4/4\n",
            "160/160 [==============================] - 10s 63ms/step - loss: 0.5215 - accuracy: 0.8162 - val_loss: 0.7366 - val_accuracy: 0.7441\n",
            "80/80 [==============================] - 1s 8ms/step - loss: 0.7365 - accuracy: 0.7441\n"
          ],
          "name": "stdout"
        },
        {
          "output_type": "execute_result",
          "data": {
            "text/plain": [
              "[0.7365121841430664, 0.7441314458847046]"
            ]
          },
          "metadata": {
            "tags": []
          },
          "execution_count": 41
        }
      ]
    },
    {
      "cell_type": "code",
      "metadata": {
        "id": "YyC6D0mVyk5I",
        "colab_type": "code",
        "colab": {
          "base_uri": "https://localhost:8080/",
          "height": 100
        },
        "outputId": "c7ad16c3-a478-4fcf-f6f9-35444c7c3a39"
      },
      "source": [
        "Y_test_pred = model2.predict_classes(X_test)\n",
        "Y_test_df = pd.DataFrame(Y_test)\n",
        "Y_test_categ = Y_test_df.idxmax(axis=1)\n",
        "confusion_matrix(Y_test_categ,Y_test_pred)"
      ],
      "execution_count": null,
      "outputs": [
        {
          "output_type": "execute_result",
          "data": {
            "text/plain": [
              "array([[374, 104,  67,  18,  25],\n",
              "       [ 70, 466,  20,  27,   5],\n",
              "       [ 47,  25, 405,  42,  41],\n",
              "       [  9,  28,  40, 410,  15],\n",
              "       [ 25,   1,  34,  11, 247]])"
            ]
          },
          "metadata": {
            "tags": []
          },
          "execution_count": 52
        }
      ]
    },
    {
      "cell_type": "code",
      "metadata": {
        "id": "tcHWsV6hy7tZ",
        "colab_type": "code",
        "colab": {
          "base_uri": "https://localhost:8080/",
          "height": 133
        },
        "outputId": "0df29d48-8ccd-47a9-b1a6-a1084e5949a4"
      },
      "source": [
        "print(Y_test)\n"
      ],
      "execution_count": null,
      "outputs": [
        {
          "output_type": "stream",
          "text": [
            "[[0. 0. 0. 0. 1.]\n",
            " [0. 0. 0. 1. 0.]\n",
            " [0. 0. 1. 0. 0.]\n",
            " ...\n",
            " [0. 0. 1. 0. 0.]\n",
            " [0. 0. 1. 0. 0.]\n",
            " [0. 1. 0. 0. 0.]]\n"
          ],
          "name": "stdout"
        }
      ]
    },
    {
      "cell_type": "code",
      "metadata": {
        "id": "bw-kaJjfy9e8",
        "colab_type": "code",
        "colab": {
          "base_uri": "https://localhost:8080/",
          "height": 33
        },
        "outputId": "92544141-b780-4284-f859-1f3febba01f4"
      },
      "source": [
        "print(Y_test_pred)"
      ],
      "execution_count": null,
      "outputs": [
        {
          "output_type": "stream",
          "text": [
            "[4 3 2 ... 2 2 1]\n"
          ],
          "name": "stdout"
        }
      ]
    },
    {
      "cell_type": "code",
      "metadata": {
        "id": "1Cw0NFLAIBye",
        "colab_type": "code",
        "colab": {
          "base_uri": "https://localhost:8080/",
          "height": 350
        },
        "outputId": "45fc0cf1-7316-4863-cd08-ee2809e1f8c2"
      },
      "source": [
        "Y_new2 = model2.predict_classes(X_new)\n",
        "# show the inputs and predicted outputs\n",
        "print(X_new[:5])\n",
        "for i in range(5):\n",
        "\tprint(\"X=%s, Predicted=%s\" % (X_new[i], Y_new2[i]))"
      ],
      "execution_count": null,
      "outputs": [
        {
          "output_type": "stream",
          "text": [
            "[[   0    0    0    0    0    0    0    0    0    0    0    0    3  482\n",
            "     8   32   15    1  117   66]\n",
            " [   0    0    0    0    0    0    0    0    0    0    0 1591  130  758\n",
            "    20   66    1 1407  295  307]\n",
            " [   0    0    0    0    0    0   95    4  120    2   35   21  693 2005\n",
            "  6187    1   24    2  463  166]\n",
            " [   0    0    0    0    0    0    0    0    0    0    0    0  378  229\n",
            "   793    1   47  278  399   14]\n",
            " [   0    0    0    0    0    0    0    0    0    0    0    0    0    0\n",
            "     0    0   47  202  302  519]]\n",
            "X=[  0   0   0   0   0   0   0   0   0   0   0   0   3 482   8  32  15   1\n",
            " 117  66], Predicted=1\n",
            "X=[   0    0    0    0    0    0    0    0    0    0    0 1591  130  758\n",
            "   20   66    1 1407  295  307], Predicted=1\n",
            "X=[   0    0    0    0    0    0   95    4  120    2   35   21  693 2005\n",
            " 6187    1   24    2  463  166], Predicted=0\n",
            "X=[  0   0   0   0   0   0   0   0   0   0   0   0 378 229 793   1  47 278\n",
            " 399  14], Predicted=2\n",
            "X=[  0   0   0   0   0   0   0   0   0   0   0   0   0   0   0   0  47 202\n",
            " 302 519], Predicted=2\n"
          ],
          "name": "stdout"
        }
      ]
    },
    {
      "cell_type": "code",
      "metadata": {
        "id": "l1UH2QUvICEA",
        "colab_type": "code",
        "colab": {}
      },
      "source": [
        "test2 = pd.DataFrame(list(zip(test['id'], Y_new2)), \n",
        "               columns = ['id', 'label'])\n",
        "test2\n",
        "test2.to_csv('test2.csv',index=False)"
      ],
      "execution_count": null,
      "outputs": []
    },
    {
      "cell_type": "markdown",
      "metadata": {
        "id": "LEJl50Vx5gtL",
        "colab_type": "text"
      },
      "source": [
        "###LSTM w 2 layers, doubling hidden_units in the second one\n",
        "\n",
        "No gain vs 1-layer LSTM"
      ]
    },
    {
      "cell_type": "code",
      "metadata": {
        "id": "sjEIueYlIB9l",
        "colab_type": "code",
        "colab": {
          "base_uri": "https://localhost:8080/",
          "height": 1000
        },
        "outputId": "9b595830-17e6-4089-f3e5-a039f385a7fb"
      },
      "source": [
        "embed = [128]\n",
        "hidden = [64,128,256]\n",
        "drop = [0, 0.1, 0.2]\n",
        "# optim = ['adam','RMSprop']\n",
        "for i in embed:\n",
        "  for j in hidden:\n",
        "    for k in drop:\n",
        "      # for l in optim:\n",
        "      # print('emb_dim: ',i,' hidden_dim: ',j, ' drop: ',k, ' optim: ',l)\n",
        "      print('emb_dim:',i,' hidden_dim:',j, ' drop:',k,'----RMSprop')\n",
        "      np.random.seed(42)\n",
        "      random.seed(12345)\n",
        "      session_conf = tf.compat.v1.ConfigProto(intra_op_parallelism_threads=1,\n",
        "                                    inter_op_parallelism_threads=1)\n",
        "      tf.compat.v1.set_random_seed(1234) \n",
        "\n",
        "      model = Sequential() \n",
        "      model.add(Embedding(dict_len + 1, output_dim=i)) \n",
        "      model.add(LSTM(j, dropout=k, recurrent_dropout=0.1, return_sequences=True))\n",
        "      model.add(LSTM(j*2, dropout=k, recurrent_dropout=0.1)) \n",
        "      model.add(Dense(5, activation=\"softmax\"))  \n",
        "      model.compile(loss='categorical_crossentropy', optimizer='RMSprop', metrics=['accuracy'])\n",
        "      # Train the model\n",
        "      model.fit(X_train, Y_train, validation_data = (X_test, Y_test), batch_size=64, epochs=5) \n",
        "      model.evaluate(X_test, Y_test)"
      ],
      "execution_count": null,
      "outputs": [
        {
          "output_type": "stream",
          "text": [
            "emb_dim: 128  hidden_dim: 64  drop: 0 ----RMSprop\n",
            "Epoch 1/5\n",
            "160/160 [==============================] - 17s 107ms/step - loss: 1.2005 - accuracy: 0.5063 - val_loss: 0.8927 - val_accuracy: 0.6737\n",
            "Epoch 2/5\n",
            "160/160 [==============================] - 16s 102ms/step - loss: 0.7358 - accuracy: 0.7362 - val_loss: 0.7685 - val_accuracy: 0.7179\n",
            "Epoch 3/5\n",
            "160/160 [==============================] - 16s 103ms/step - loss: 0.5843 - accuracy: 0.7909 - val_loss: 0.7500 - val_accuracy: 0.7277\n",
            "Epoch 4/5\n",
            "160/160 [==============================] - 16s 103ms/step - loss: 0.4949 - accuracy: 0.8240 - val_loss: 0.7609 - val_accuracy: 0.7351\n",
            "Epoch 5/5\n",
            "160/160 [==============================] - 17s 104ms/step - loss: 0.4259 - accuracy: 0.8536 - val_loss: 0.7902 - val_accuracy: 0.7304\n",
            "80/80 [==============================] - 1s 11ms/step - loss: 0.7902 - accuracy: 0.7304\n",
            "emb_dim: 128  hidden_dim: 64  drop: 0.1 ----RMSprop\n",
            "Epoch 1/5\n",
            "160/160 [==============================] - 20s 123ms/step - loss: 1.2122 - accuracy: 0.5003 - val_loss: 0.9012 - val_accuracy: 0.6631\n",
            "Epoch 2/5\n",
            "160/160 [==============================] - 19s 120ms/step - loss: 0.7551 - accuracy: 0.7268 - val_loss: 0.7771 - val_accuracy: 0.7113\n",
            "Epoch 3/5\n",
            "160/160 [==============================] - 19s 120ms/step - loss: 0.5980 - accuracy: 0.7860 - val_loss: 0.7527 - val_accuracy: 0.7254\n",
            "Epoch 4/5\n",
            "160/160 [==============================] - 19s 121ms/step - loss: 0.5101 - accuracy: 0.8184 - val_loss: 0.7613 - val_accuracy: 0.7285\n",
            "Epoch 5/5\n",
            "160/160 [==============================] - 19s 121ms/step - loss: 0.4421 - accuracy: 0.8440 - val_loss: 0.7787 - val_accuracy: 0.7293\n",
            "80/80 [==============================] - 1s 11ms/step - loss: 0.7787 - accuracy: 0.7293\n",
            "emb_dim: 128  hidden_dim: 64  drop: 0.2 ----RMSprop\n",
            "Epoch 1/5\n",
            "160/160 [==============================] - 19s 121ms/step - loss: 1.2331 - accuracy: 0.4900 - val_loss: 0.9100 - val_accuracy: 0.6600\n",
            "Epoch 2/5\n",
            "160/160 [==============================] - 19s 118ms/step - loss: 0.7721 - accuracy: 0.7186 - val_loss: 0.7809 - val_accuracy: 0.7132\n",
            "Epoch 3/5\n",
            "160/160 [==============================] - 19s 118ms/step - loss: 0.6119 - accuracy: 0.7838 - val_loss: 0.7496 - val_accuracy: 0.7269\n",
            "Epoch 4/5\n",
            "160/160 [==============================] - 19s 120ms/step - loss: 0.5269 - accuracy: 0.8113 - val_loss: 0.7591 - val_accuracy: 0.7328\n",
            "Epoch 5/5\n",
            "160/160 [==============================] - 19s 120ms/step - loss: 0.4618 - accuracy: 0.8367 - val_loss: 0.7758 - val_accuracy: 0.7344\n",
            "80/80 [==============================] - 1s 11ms/step - loss: 0.7758 - accuracy: 0.7344\n",
            "emb_dim: 128  hidden_dim: 128  drop: 0 ----RMSprop\n",
            "Epoch 1/5\n",
            "160/160 [==============================] - 45s 279ms/step - loss: 1.1658 - accuracy: 0.5290 - val_loss: 0.8633 - val_accuracy: 0.6811\n",
            "Epoch 2/5\n",
            "160/160 [==============================] - 44s 277ms/step - loss: 0.7062 - accuracy: 0.7481 - val_loss: 0.7453 - val_accuracy: 0.7324\n",
            "Epoch 3/5\n",
            "160/160 [==============================] - 44s 277ms/step - loss: 0.5587 - accuracy: 0.8037 - val_loss: 0.7397 - val_accuracy: 0.7363\n",
            "Epoch 4/5\n",
            "160/160 [==============================] - 44s 278ms/step - loss: 0.4683 - accuracy: 0.8362 - val_loss: 0.7595 - val_accuracy: 0.7359\n",
            "Epoch 5/5\n",
            "160/160 [==============================] - 44s 278ms/step - loss: 0.3979 - accuracy: 0.8588 - val_loss: 0.8033 - val_accuracy: 0.7234\n",
            "80/80 [==============================] - 2s 26ms/step - loss: 0.8032 - accuracy: 0.7234\n",
            "emb_dim: 128  hidden_dim: 128  drop: 0.1 ----RMSprop\n",
            "Epoch 1/5\n",
            "160/160 [==============================] - 48s 301ms/step - loss: 1.1804 - accuracy: 0.5172 - val_loss: 0.8711 - val_accuracy: 0.6729\n",
            "Epoch 2/5\n",
            "160/160 [==============================] - 48s 300ms/step - loss: 0.7306 - accuracy: 0.7389 - val_loss: 0.7544 - val_accuracy: 0.7242\n",
            "Epoch 3/5\n",
            "160/160 [==============================] - 48s 300ms/step - loss: 0.5778 - accuracy: 0.7967 - val_loss: 0.7404 - val_accuracy: 0.7320\n",
            "Epoch 4/5\n",
            "160/160 [==============================] - 48s 298ms/step - loss: 0.4882 - accuracy: 0.8283 - val_loss: 0.7481 - val_accuracy: 0.7332\n",
            "Epoch 5/5\n",
            "160/160 [==============================] - 48s 297ms/step - loss: 0.4177 - accuracy: 0.8498 - val_loss: 0.7868 - val_accuracy: 0.7269\n",
            "80/80 [==============================] - 2s 26ms/step - loss: 0.7867 - accuracy: 0.7269\n",
            "emb_dim: 128  hidden_dim: 128  drop: 0.2 ----RMSprop\n",
            "Epoch 1/5\n",
            "160/160 [==============================] - 48s 298ms/step - loss: 1.1889 - accuracy: 0.5113 - val_loss: 0.8805 - val_accuracy: 0.6796\n",
            "Epoch 2/5\n",
            "160/160 [==============================] - 47s 296ms/step - loss: 0.7381 - accuracy: 0.7364 - val_loss: 0.7549 - val_accuracy: 0.7250\n",
            "Epoch 3/5\n",
            "160/160 [==============================] - 48s 297ms/step - loss: 0.5904 - accuracy: 0.7940 - val_loss: 0.7443 - val_accuracy: 0.7297\n",
            "Epoch 4/5\n",
            "160/160 [==============================] - 47s 295ms/step - loss: 0.5034 - accuracy: 0.8204 - val_loss: 0.7449 - val_accuracy: 0.7320\n",
            "Epoch 5/5\n",
            "160/160 [==============================] - 47s 295ms/step - loss: 0.4338 - accuracy: 0.8460 - val_loss: 0.7722 - val_accuracy: 0.7320\n",
            "80/80 [==============================] - 2s 28ms/step - loss: 0.7721 - accuracy: 0.7320\n",
            "emb_dim: 128  hidden_dim: 256  drop: 0 ----RMSprop\n",
            "Epoch 1/5\n",
            "160/160 [==============================] - 142s 887ms/step - loss: 1.1787 - accuracy: 0.5195 - val_loss: 0.8549 - val_accuracy: 0.6909\n",
            "Epoch 2/5\n",
            "160/160 [==============================] - 142s 891ms/step - loss: 0.7001 - accuracy: 0.7489 - val_loss: 0.7359 - val_accuracy: 0.7316\n",
            "Epoch 3/5\n",
            "160/160 [==============================] - 143s 891ms/step - loss: 0.5481 - accuracy: 0.8086 - val_loss: 0.7623 - val_accuracy: 0.7320\n",
            "Epoch 4/5\n",
            "160/160 [==============================] - 143s 891ms/step - loss: 0.4566 - accuracy: 0.8389 - val_loss: 0.7798 - val_accuracy: 0.7367\n",
            "Epoch 5/5\n",
            "160/160 [==============================] - 143s 891ms/step - loss: 0.3850 - accuracy: 0.8649 - val_loss: 0.8254 - val_accuracy: 0.7261\n",
            "80/80 [==============================] - 10s 126ms/step - loss: 0.8254 - accuracy: 0.7261\n",
            "emb_dim: 128  hidden_dim: 256  drop: 0.1 ----RMSprop\n",
            "Epoch 1/5\n",
            "160/160 [==============================] - 148s 926ms/step - loss: 1.1902 - accuracy: 0.5144 - val_loss: 0.8588 - val_accuracy: 0.6882\n",
            "Epoch 2/5\n",
            "160/160 [==============================] - 148s 923ms/step - loss: 0.7191 - accuracy: 0.7425 - val_loss: 0.7466 - val_accuracy: 0.7261\n",
            "Epoch 3/5\n",
            "160/160 [==============================] - 149s 931ms/step - loss: 0.5659 - accuracy: 0.8021 - val_loss: 0.7540 - val_accuracy: 0.7273\n",
            "Epoch 4/5\n",
            "160/160 [==============================] - 149s 933ms/step - loss: 0.4765 - accuracy: 0.8320 - val_loss: 0.7751 - val_accuracy: 0.7379\n",
            "Epoch 5/5\n",
            "160/160 [==============================] - 149s 928ms/step - loss: 0.4064 - accuracy: 0.8548 - val_loss: 0.7998 - val_accuracy: 0.7336\n",
            "80/80 [==============================] - 10s 128ms/step - loss: 0.7999 - accuracy: 0.7336\n",
            "emb_dim: 128  hidden_dim: 256  drop: 0.2 ----RMSprop\n",
            "Epoch 1/5\n",
            "160/160 [==============================] - 148s 924ms/step - loss: 1.2304 - accuracy: 0.4934 - val_loss: 0.8732 - val_accuracy: 0.6768\n",
            "Epoch 2/5\n",
            "160/160 [==============================] - 147s 921ms/step - loss: 0.7462 - accuracy: 0.7339 - val_loss: 0.7594 - val_accuracy: 0.7183\n",
            "Epoch 3/5\n",
            "160/160 [==============================] - 147s 921ms/step - loss: 0.5947 - accuracy: 0.7920 - val_loss: 0.7520 - val_accuracy: 0.7238\n",
            "Epoch 4/5\n",
            "160/160 [==============================] - 147s 920ms/step - loss: 0.5029 - accuracy: 0.8226 - val_loss: 0.7583 - val_accuracy: 0.7398\n",
            "Epoch 5/5\n",
            "160/160 [==============================] - 147s 919ms/step - loss: 0.4330 - accuracy: 0.8465 - val_loss: 0.7794 - val_accuracy: 0.7308\n",
            "80/80 [==============================] - 10s 122ms/step - loss: 0.7793 - accuracy: 0.7308\n"
          ],
          "name": "stdout"
        }
      ]
    },
    {
      "cell_type": "markdown",
      "metadata": {
        "colab_type": "text",
        "id": "E1B9mXbO5y10"
      },
      "source": [
        "###Bi-LSTM "
      ]
    },
    {
      "cell_type": "markdown",
      "metadata": {
        "id": "VuOgCcbRalRA",
        "colab_type": "text"
      },
      "source": [
        "#### With 2 layers, doubling hidden_units in the second one\n",
        "\n",
        "No gain vs one-layer LSTM\n",
        "\n",
        "Tried also bi-LSTM with 5 layers, different emb_dim, hid_dim and dropout - no gain (even worse accuracy) - results not shown."
      ]
    },
    {
      "cell_type": "code",
      "metadata": {
        "id": "padoFM3LaBR6",
        "colab_type": "code",
        "colab": {
          "base_uri": "https://localhost:8080/",
          "height": 1000
        },
        "outputId": "75d3c22b-6b88-4fbf-c3ad-ce88bcf620f3"
      },
      "source": [
        "embed = [128]\n",
        "hidden = [64,128,256]\n",
        "drop = [0, 0.1, 0.2]\n",
        "# optim = ['adam','RMSprop']\n",
        "for i in embed:\n",
        "  for j in hidden:\n",
        "    for k in drop:\n",
        "      # for l in optim:\n",
        "      # print('emb_dim: ',i,' hidden_dim: ',j, ' drop: ',k, ' optim: ',l)\n",
        "      print('emb_dim:',i,' hidden_dim:',j, ' drop:',k,'----RMSprop')\n",
        "      np.random.seed(42)\n",
        "      random.seed(12345)\n",
        "      session_conf = tf.compat.v1.ConfigProto(intra_op_parallelism_threads=1,\n",
        "                                    inter_op_parallelism_threads=1)\n",
        "      tf.compat.v1.set_random_seed(1234) \n",
        "\n",
        "      model = Sequential() \n",
        "      model.add(Embedding(dict_len + 1, output_dim=i)) \n",
        "      model.add(Bidirectional(LSTM(j, dropout=k, recurrent_dropout=0.1, return_sequences=True)))\n",
        "      model.add(Bidirectional(LSTM(j*2, dropout=k, recurrent_dropout=0.1))) \n",
        "      model.add(Dense(5, activation=\"softmax\"))  \n",
        "      model.compile(loss='categorical_crossentropy', optimizer='RMSprop', metrics=['accuracy'])\n",
        "      # Train the model\n",
        "      model.fit(X_train, Y_train, validation_data = (X_test, Y_test), batch_size=64, epochs=5) \n",
        "      model.evaluate(X_test, Y_test)"
      ],
      "execution_count": null,
      "outputs": [
        {
          "output_type": "stream",
          "text": [
            "emb_dim: 128  hidden_dim: 64  drop: 0 ----RMSprop\n",
            "Epoch 1/5\n",
            "160/160 [==============================] - 36s 228ms/step - loss: 1.0897 - accuracy: 0.5615 - val_loss: 0.8242 - val_accuracy: 0.7027\n",
            "Epoch 2/5\n",
            "160/160 [==============================] - 36s 224ms/step - loss: 0.6882 - accuracy: 0.7567 - val_loss: 0.7650 - val_accuracy: 0.7269\n",
            "Epoch 3/5\n",
            "160/160 [==============================] - 36s 224ms/step - loss: 0.5561 - accuracy: 0.8067 - val_loss: 0.7366 - val_accuracy: 0.7375\n",
            "Epoch 4/5\n",
            "160/160 [==============================] - 35s 221ms/step - loss: 0.4653 - accuracy: 0.8377 - val_loss: 0.7847 - val_accuracy: 0.7402\n",
            "Epoch 5/5\n",
            "160/160 [==============================] - 35s 221ms/step - loss: 0.3940 - accuracy: 0.8632 - val_loss: 0.8228 - val_accuracy: 0.7277\n",
            "80/80 [==============================] - 2s 23ms/step - loss: 0.8228 - accuracy: 0.7277\n",
            "emb_dim: 128  hidden_dim: 64  drop: 0.1 ----RMSprop\n",
            "Epoch 1/5\n",
            "160/160 [==============================] - 42s 262ms/step - loss: 1.1065 - accuracy: 0.5522 - val_loss: 0.8085 - val_accuracy: 0.7054\n",
            "Epoch 2/5\n",
            "160/160 [==============================] - 41s 258ms/step - loss: 0.6953 - accuracy: 0.7519 - val_loss: 0.7627 - val_accuracy: 0.7257\n",
            "Epoch 3/5\n",
            "160/160 [==============================] - 41s 256ms/step - loss: 0.5608 - accuracy: 0.8035 - val_loss: 0.7376 - val_accuracy: 0.7351\n",
            "Epoch 4/5\n",
            "160/160 [==============================] - 41s 257ms/step - loss: 0.4715 - accuracy: 0.8375 - val_loss: 0.7880 - val_accuracy: 0.7324\n",
            "Epoch 5/5\n",
            "160/160 [==============================] - 41s 256ms/step - loss: 0.4006 - accuracy: 0.8614 - val_loss: 0.8100 - val_accuracy: 0.7273\n",
            "80/80 [==============================] - 2s 22ms/step - loss: 0.8100 - accuracy: 0.7273\n",
            "emb_dim: 128  hidden_dim: 64  drop: 0.2 ----RMSprop\n",
            "Epoch 1/5\n",
            "160/160 [==============================] - 42s 263ms/step - loss: 1.1067 - accuracy: 0.5549 - val_loss: 0.8088 - val_accuracy: 0.7038\n",
            "Epoch 2/5\n",
            "160/160 [==============================] - 41s 257ms/step - loss: 0.7098 - accuracy: 0.7471 - val_loss: 0.7754 - val_accuracy: 0.7144\n",
            "Epoch 3/5\n",
            "160/160 [==============================] - 41s 255ms/step - loss: 0.5743 - accuracy: 0.8011 - val_loss: 0.7430 - val_accuracy: 0.7363\n",
            "Epoch 4/5\n",
            "160/160 [==============================] - 41s 256ms/step - loss: 0.4873 - accuracy: 0.8302 - val_loss: 0.7751 - val_accuracy: 0.7383\n",
            "Epoch 5/5\n",
            "160/160 [==============================] - 41s 258ms/step - loss: 0.4176 - accuracy: 0.8542 - val_loss: 0.8059 - val_accuracy: 0.7242\n",
            "80/80 [==============================] - 2s 23ms/step - loss: 0.8059 - accuracy: 0.7242\n",
            "emb_dim: 128  hidden_dim: 128  drop: 0 ----RMSprop\n",
            "Epoch 1/5\n",
            "160/160 [==============================] - 107s 669ms/step - loss: 1.1326 - accuracy: 0.5448 - val_loss: 0.8260 - val_accuracy: 0.7042\n",
            "Epoch 2/5\n",
            "160/160 [==============================] - 107s 667ms/step - loss: 0.6964 - accuracy: 0.7535 - val_loss: 0.7785 - val_accuracy: 0.7148\n",
            "Epoch 3/5\n",
            "160/160 [==============================] - 107s 667ms/step - loss: 0.5566 - accuracy: 0.8057 - val_loss: 0.7553 - val_accuracy: 0.7363\n",
            "Epoch 4/5\n",
            "160/160 [==============================] - 106s 660ms/step - loss: 0.4616 - accuracy: 0.8396 - val_loss: 0.7900 - val_accuracy: 0.7363\n",
            "Epoch 5/5\n",
            "160/160 [==============================] - 106s 662ms/step - loss: 0.3914 - accuracy: 0.8625 - val_loss: 0.8321 - val_accuracy: 0.7195\n",
            "80/80 [==============================] - 5s 67ms/step - loss: 0.8321 - accuracy: 0.7195\n",
            "emb_dim: 128  hidden_dim: 128  drop: 0.1 ----RMSprop\n",
            "Epoch 1/5\n",
            "160/160 [==============================] - 117s 730ms/step - loss: 1.1048 - accuracy: 0.5494 - val_loss: 0.8240 - val_accuracy: 0.6980\n",
            "Epoch 2/5\n",
            "160/160 [==============================] - 117s 733ms/step - loss: 0.6962 - accuracy: 0.7544 - val_loss: 0.7603 - val_accuracy: 0.7218\n",
            "Epoch 3/5\n",
            "160/160 [==============================] - 117s 730ms/step - loss: 0.5571 - accuracy: 0.8050 - val_loss: 0.7623 - val_accuracy: 0.7238\n",
            "Epoch 4/5\n",
            "160/160 [==============================] - 118s 735ms/step - loss: 0.4676 - accuracy: 0.8377 - val_loss: 0.8043 - val_accuracy: 0.7300\n",
            "Epoch 5/5\n",
            "160/160 [==============================] - 118s 736ms/step - loss: 0.4011 - accuracy: 0.8603 - val_loss: 0.8355 - val_accuracy: 0.7207\n",
            "80/80 [==============================] - 5s 68ms/step - loss: 0.8356 - accuracy: 0.7207\n",
            "emb_dim: 128  hidden_dim: 128  drop: 0.2 ----RMSprop\n",
            "Epoch 1/5\n",
            "160/160 [==============================] - 117s 733ms/step - loss: 1.1571 - accuracy: 0.5248 - val_loss: 0.8524 - val_accuracy: 0.6905\n",
            "Epoch 2/5\n",
            "160/160 [==============================] - 116s 726ms/step - loss: 0.7201 - accuracy: 0.7475 - val_loss: 0.7720 - val_accuracy: 0.7167\n",
            "Epoch 3/5\n",
            "160/160 [==============================] - 117s 730ms/step - loss: 0.5757 - accuracy: 0.7997 - val_loss: 0.7547 - val_accuracy: 0.7210\n",
            "Epoch 4/5\n",
            "160/160 [==============================] - 117s 730ms/step - loss: 0.4860 - accuracy: 0.8315 - val_loss: 0.7792 - val_accuracy: 0.7351\n",
            "Epoch 5/5\n",
            "160/160 [==============================] - 117s 731ms/step - loss: 0.4172 - accuracy: 0.8525 - val_loss: 0.8225 - val_accuracy: 0.7121\n",
            "80/80 [==============================] - 5s 68ms/step - loss: 0.8226 - accuracy: 0.7121\n",
            "emb_dim: 128  hidden_dim: 256  drop: 0 ----RMSprop\n",
            "Epoch 1/5\n",
            "160/160 [==============================] - 345s 2s/step - loss: 1.2195 - accuracy: 0.5067 - val_loss: 0.8496 - val_accuracy: 0.6874\n",
            "Epoch 2/5\n",
            "160/160 [==============================] - 337s 2s/step - loss: 0.7235 - accuracy: 0.7420 - val_loss: 0.7783 - val_accuracy: 0.7230\n",
            "Epoch 3/5\n",
            "160/160 [==============================] - 326s 2s/step - loss: 0.5676 - accuracy: 0.8036 - val_loss: 0.7529 - val_accuracy: 0.7293\n",
            "Epoch 4/5\n",
            "160/160 [==============================] - 330s 2s/step - loss: 0.4653 - accuracy: 0.8385 - val_loss: 0.7954 - val_accuracy: 0.7281\n",
            "Epoch 5/5\n",
            "160/160 [==============================] - 339s 2s/step - loss: 0.3882 - accuracy: 0.8634 - val_loss: 0.8155 - val_accuracy: 0.7210\n",
            "80/80 [==============================] - 23s 285ms/step - loss: 0.8156 - accuracy: 0.7210\n",
            "emb_dim: 128  hidden_dim: 256  drop: 0.1 ----RMSprop\n",
            "Epoch 1/5\n",
            "160/160 [==============================] - 342s 2s/step - loss: 1.1982 - accuracy: 0.5063 - val_loss: 0.8592 - val_accuracy: 0.6831\n",
            "Epoch 2/5\n",
            "160/160 [==============================] - 337s 2s/step - loss: 0.7314 - accuracy: 0.7342 - val_loss: 0.7870 - val_accuracy: 0.7128\n",
            "Epoch 3/5\n",
            "160/160 [==============================] - 338s 2s/step - loss: 0.5758 - accuracy: 0.8009 - val_loss: 0.7658 - val_accuracy: 0.7167\n",
            "Epoch 4/5\n",
            "160/160 [==============================] - 340s 2s/step - loss: 0.4761 - accuracy: 0.8358 - val_loss: 0.8019 - val_accuracy: 0.7230\n",
            "Epoch 5/5\n",
            "160/160 [==============================] - 339s 2s/step - loss: 0.4000 - accuracy: 0.8607 - val_loss: 0.8261 - val_accuracy: 0.7140\n",
            "80/80 [==============================] - 22s 278ms/step - loss: 0.8261 - accuracy: 0.7140\n",
            "emb_dim: 128  hidden_dim: 256  drop: 0.2 ----RMSprop\n",
            "Epoch 1/5\n",
            "160/160 [==============================] - 338s 2s/step - loss: 1.2124 - accuracy: 0.5033 - val_loss: 0.8421 - val_accuracy: 0.6882\n",
            "Epoch 2/5\n",
            "160/160 [==============================] - 336s 2s/step - loss: 0.7324 - accuracy: 0.7379 - val_loss: 0.7718 - val_accuracy: 0.7187\n",
            "Epoch 3/5\n",
            "160/160 [==============================] - 336s 2s/step - loss: 0.5804 - accuracy: 0.7977 - val_loss: 0.7425 - val_accuracy: 0.7277\n",
            "Epoch 4/5\n",
            "160/160 [==============================] - 335s 2s/step - loss: 0.4823 - accuracy: 0.8303 - val_loss: 0.7928 - val_accuracy: 0.7293\n",
            "Epoch 5/5\n",
            "160/160 [==============================] - 335s 2s/step - loss: 0.4070 - accuracy: 0.8583 - val_loss: 0.8052 - val_accuracy: 0.7250\n",
            "80/80 [==============================] - 22s 271ms/step - loss: 0.8051 - accuracy: 0.7250\n"
          ],
          "name": "stdout"
        }
      ]
    },
    {
      "cell_type": "markdown",
      "metadata": {
        "id": "5W_z0Vm1LoM9",
        "colab_type": "text"
      },
      "source": [
        "## GRU model"
      ]
    },
    {
      "cell_type": "code",
      "metadata": {
        "id": "5c2iyZAEICRF",
        "colab_type": "code",
        "colab": {
          "base_uri": "https://localhost:8080/",
          "height": 1000
        },
        "outputId": "ba09e994-ffb3-4510-e879-6e259113fd63"
      },
      "source": [
        "embed = [32,64,128]\n",
        "hidden = [64,128,256]\n",
        "drop = [0, 0.1, 0.2, 0.3]\n",
        "for i in embed:\n",
        "  for j in hidden:\n",
        "    for k in drop:\n",
        "      print('emb_dim:',i,' hidden_dim:',j, ' drop:',k,'----RMSprop')\n",
        "      np.random.seed(42)\n",
        "      random.seed(12345)\n",
        "      session_conf = tf.compat.v1.ConfigProto(intra_op_parallelism_threads=1,\n",
        "                                    inter_op_parallelism_threads=1)\n",
        "      tf.compat.v1.set_random_seed(1234) \n",
        "\n",
        "      model = Sequential() \n",
        "      model.add(Embedding(dict_len + 1, output_dim=i)) \n",
        "      model.add(GRU(j, dropout=k)) \n",
        "      model.add(Dense(5, activation=\"softmax\"))  \n",
        "      model.compile(loss='categorical_crossentropy', optimizer='RMSprop', metrics=['accuracy'])\n",
        "      # Train the model\n",
        "      model.fit(X_train, Y_train, validation_data = (X_test, Y_test), batch_size=64, epochs=7) \n",
        "      model.evaluate(X_test, Y_test)"
      ],
      "execution_count": null,
      "outputs": [
        {
          "output_type": "stream",
          "text": [
            "emb_dim: 32  hidden_dim: 64  drop: 0 ----RMSprop\n",
            "Epoch 1/7\n",
            "160/160 [==============================] - 3s 19ms/step - loss: 1.3809 - accuracy: 0.4405 - val_loss: 1.0540 - val_accuracy: 0.6146\n",
            "Epoch 2/7\n",
            "160/160 [==============================] - 3s 17ms/step - loss: 0.8531 - accuracy: 0.6901 - val_loss: 0.8065 - val_accuracy: 0.6937\n",
            "Epoch 3/7\n",
            "160/160 [==============================] - 3s 16ms/step - loss: 0.6603 - accuracy: 0.7632 - val_loss: 0.7495 - val_accuracy: 0.7207\n",
            "Epoch 4/7\n",
            "160/160 [==============================] - 3s 17ms/step - loss: 0.5663 - accuracy: 0.8021 - val_loss: 0.7385 - val_accuracy: 0.7320\n",
            "Epoch 5/7\n",
            "160/160 [==============================] - 3s 16ms/step - loss: 0.5013 - accuracy: 0.8250 - val_loss: 0.7604 - val_accuracy: 0.7277\n",
            "Epoch 6/7\n",
            "160/160 [==============================] - 3s 16ms/step - loss: 0.4506 - accuracy: 0.8453 - val_loss: 0.7725 - val_accuracy: 0.7312\n",
            "Epoch 7/7\n",
            "160/160 [==============================] - 3s 17ms/step - loss: 0.4077 - accuracy: 0.8606 - val_loss: 0.8103 - val_accuracy: 0.7246\n",
            "80/80 [==============================] - 0s 3ms/step - loss: 0.8104 - accuracy: 0.7246\n",
            "emb_dim: 32  hidden_dim: 64  drop: 0.1 ----RMSprop\n",
            "Epoch 1/7\n",
            "160/160 [==============================] - 3s 19ms/step - loss: 1.3977 - accuracy: 0.4256 - val_loss: 1.1032 - val_accuracy: 0.5978\n",
            "Epoch 2/7\n",
            "160/160 [==============================] - 3s 17ms/step - loss: 0.8892 - accuracy: 0.6799 - val_loss: 0.8192 - val_accuracy: 0.6921\n",
            "Epoch 3/7\n",
            "160/160 [==============================] - 3s 17ms/step - loss: 0.6840 - accuracy: 0.7534 - val_loss: 0.7520 - val_accuracy: 0.7191\n",
            "Epoch 4/7\n",
            "160/160 [==============================] - 3s 18ms/step - loss: 0.5899 - accuracy: 0.7916 - val_loss: 0.7357 - val_accuracy: 0.7328\n",
            "Epoch 5/7\n",
            "160/160 [==============================] - 3s 17ms/step - loss: 0.5246 - accuracy: 0.8169 - val_loss: 0.7456 - val_accuracy: 0.7304\n",
            "Epoch 6/7\n",
            "160/160 [==============================] - 3s 17ms/step - loss: 0.4780 - accuracy: 0.8354 - val_loss: 0.7638 - val_accuracy: 0.7328\n",
            "Epoch 7/7\n",
            "160/160 [==============================] - 3s 17ms/step - loss: 0.4355 - accuracy: 0.8473 - val_loss: 0.8048 - val_accuracy: 0.7222\n",
            "80/80 [==============================] - 0s 3ms/step - loss: 0.8049 - accuracy: 0.7222\n",
            "emb_dim: 32  hidden_dim: 64  drop: 0.2 ----RMSprop\n",
            "Epoch 1/7\n",
            "160/160 [==============================] - 3s 19ms/step - loss: 1.4061 - accuracy: 0.4164 - val_loss: 1.1155 - val_accuracy: 0.5814\n",
            "Epoch 2/7\n",
            "160/160 [==============================] - 3s 17ms/step - loss: 0.9015 - accuracy: 0.6667 - val_loss: 0.8250 - val_accuracy: 0.6890\n",
            "Epoch 3/7\n",
            "160/160 [==============================] - 3s 18ms/step - loss: 0.7078 - accuracy: 0.7449 - val_loss: 0.7579 - val_accuracy: 0.7179\n",
            "Epoch 4/7\n",
            "160/160 [==============================] - 3s 17ms/step - loss: 0.6175 - accuracy: 0.7796 - val_loss: 0.7422 - val_accuracy: 0.7293\n",
            "Epoch 5/7\n",
            "160/160 [==============================] - 3s 18ms/step - loss: 0.5542 - accuracy: 0.8047 - val_loss: 0.7409 - val_accuracy: 0.7336\n",
            "Epoch 6/7\n",
            "160/160 [==============================] - 3s 18ms/step - loss: 0.5095 - accuracy: 0.8231 - val_loss: 0.7642 - val_accuracy: 0.7324\n",
            "Epoch 7/7\n",
            "160/160 [==============================] - 3s 18ms/step - loss: 0.4673 - accuracy: 0.8382 - val_loss: 0.7933 - val_accuracy: 0.7269\n",
            "80/80 [==============================] - 0s 3ms/step - loss: 0.7934 - accuracy: 0.7269\n",
            "emb_dim: 32  hidden_dim: 64  drop: 0.3 ----RMSprop\n",
            "Epoch 1/7\n",
            "160/160 [==============================] - 3s 20ms/step - loss: 1.4338 - accuracy: 0.4021 - val_loss: 1.1686 - val_accuracy: 0.5458\n",
            "Epoch 2/7\n",
            "160/160 [==============================] - 3s 16ms/step - loss: 0.9452 - accuracy: 0.6548 - val_loss: 0.8467 - val_accuracy: 0.6858\n",
            "Epoch 3/7\n",
            "160/160 [==============================] - 3s 17ms/step - loss: 0.7407 - accuracy: 0.7340 - val_loss: 0.7715 - val_accuracy: 0.7152\n",
            "Epoch 4/7\n",
            "160/160 [==============================] - 3s 18ms/step - loss: 0.6519 - accuracy: 0.7689 - val_loss: 0.7420 - val_accuracy: 0.7273\n",
            "Epoch 5/7\n",
            "160/160 [==============================] - 3s 18ms/step - loss: 0.5882 - accuracy: 0.7919 - val_loss: 0.7389 - val_accuracy: 0.7312\n",
            "Epoch 6/7\n",
            "160/160 [==============================] - 3s 18ms/step - loss: 0.5451 - accuracy: 0.8089 - val_loss: 0.7663 - val_accuracy: 0.7269\n",
            "Epoch 7/7\n",
            "160/160 [==============================] - 3s 18ms/step - loss: 0.5049 - accuracy: 0.8238 - val_loss: 0.7828 - val_accuracy: 0.7300\n",
            "80/80 [==============================] - 0s 3ms/step - loss: 0.7829 - accuracy: 0.7300\n",
            "emb_dim: 32  hidden_dim: 128  drop: 0 ----RMSprop\n",
            "Epoch 1/7\n",
            "160/160 [==============================] - 6s 37ms/step - loss: 1.3033 - accuracy: 0.4770 - val_loss: 0.9533 - val_accuracy: 0.6416\n",
            "Epoch 2/7\n",
            "160/160 [==============================] - 6s 35ms/step - loss: 0.7858 - accuracy: 0.7204 - val_loss: 0.7860 - val_accuracy: 0.7132\n",
            "Epoch 3/7\n",
            "160/160 [==============================] - 6s 35ms/step - loss: 0.6302 - accuracy: 0.7765 - val_loss: 0.7518 - val_accuracy: 0.7304\n",
            "Epoch 4/7\n",
            "160/160 [==============================] - 6s 35ms/step - loss: 0.5407 - accuracy: 0.8107 - val_loss: 0.7549 - val_accuracy: 0.7410\n",
            "Epoch 5/7\n",
            "160/160 [==============================] - 6s 35ms/step - loss: 0.4799 - accuracy: 0.8331 - val_loss: 0.7676 - val_accuracy: 0.7402\n",
            "Epoch 6/7\n",
            "160/160 [==============================] - 6s 35ms/step - loss: 0.4305 - accuracy: 0.8490 - val_loss: 0.7790 - val_accuracy: 0.7316\n",
            "Epoch 7/7\n",
            "160/160 [==============================] - 6s 35ms/step - loss: 0.3872 - accuracy: 0.8669 - val_loss: 0.8305 - val_accuracy: 0.7285\n",
            "80/80 [==============================] - 0s 6ms/step - loss: 0.8306 - accuracy: 0.7285\n",
            "emb_dim: 32  hidden_dim: 128  drop: 0.1 ----RMSprop\n",
            "Epoch 1/7\n",
            "160/160 [==============================] - 6s 37ms/step - loss: 1.3180 - accuracy: 0.4651 - val_loss: 0.9679 - val_accuracy: 0.6307\n",
            "Epoch 2/7\n",
            "160/160 [==============================] - 6s 35ms/step - loss: 0.8160 - accuracy: 0.7089 - val_loss: 0.7929 - val_accuracy: 0.7144\n",
            "Epoch 3/7\n",
            "160/160 [==============================] - 6s 36ms/step - loss: 0.6557 - accuracy: 0.7687 - val_loss: 0.7566 - val_accuracy: 0.7254\n",
            "Epoch 4/7\n",
            "160/160 [==============================] - 6s 35ms/step - loss: 0.5660 - accuracy: 0.8017 - val_loss: 0.7539 - val_accuracy: 0.7406\n",
            "Epoch 5/7\n",
            "160/160 [==============================] - 6s 36ms/step - loss: 0.5054 - accuracy: 0.8249 - val_loss: 0.7573 - val_accuracy: 0.7402\n",
            "Epoch 6/7\n",
            "160/160 [==============================] - 6s 36ms/step - loss: 0.4598 - accuracy: 0.8414 - val_loss: 0.7753 - val_accuracy: 0.7340\n",
            "Epoch 7/7\n",
            "160/160 [==============================] - 6s 36ms/step - loss: 0.4201 - accuracy: 0.8541 - val_loss: 0.7988 - val_accuracy: 0.7344\n",
            "80/80 [==============================] - 0s 5ms/step - loss: 0.7988 - accuracy: 0.7344\n",
            "emb_dim: 32  hidden_dim: 128  drop: 0.2 ----RMSprop\n",
            "Epoch 1/7\n",
            "160/160 [==============================] - 6s 38ms/step - loss: 1.3310 - accuracy: 0.4576 - val_loss: 0.9866 - val_accuracy: 0.6283\n",
            "Epoch 2/7\n",
            "160/160 [==============================] - 6s 35ms/step - loss: 0.8258 - accuracy: 0.7045 - val_loss: 0.7987 - val_accuracy: 0.7066\n",
            "Epoch 3/7\n",
            "160/160 [==============================] - 6s 35ms/step - loss: 0.6722 - accuracy: 0.7610 - val_loss: 0.7640 - val_accuracy: 0.7238\n",
            "Epoch 4/7\n",
            "160/160 [==============================] - 6s 35ms/step - loss: 0.5863 - accuracy: 0.7943 - val_loss: 0.7507 - val_accuracy: 0.7394\n",
            "Epoch 5/7\n",
            "160/160 [==============================] - 6s 36ms/step - loss: 0.5286 - accuracy: 0.8154 - val_loss: 0.7501 - val_accuracy: 0.7394\n",
            "Epoch 6/7\n",
            "160/160 [==============================] - 6s 36ms/step - loss: 0.4840 - accuracy: 0.8339 - val_loss: 0.7662 - val_accuracy: 0.7347\n",
            "Epoch 7/7\n",
            "160/160 [==============================] - 6s 35ms/step - loss: 0.4466 - accuracy: 0.8452 - val_loss: 0.7823 - val_accuracy: 0.7316\n",
            "80/80 [==============================] - 0s 5ms/step - loss: 0.7823 - accuracy: 0.7316\n",
            "emb_dim: 32  hidden_dim: 128  drop: 0.3 ----RMSprop\n",
            "Epoch 1/7\n",
            "160/160 [==============================] - 6s 37ms/step - loss: 1.3597 - accuracy: 0.4427 - val_loss: 1.0305 - val_accuracy: 0.6099\n",
            "Epoch 2/7\n",
            "160/160 [==============================] - 6s 35ms/step - loss: 0.8631 - accuracy: 0.6844 - val_loss: 0.8080 - val_accuracy: 0.7019\n",
            "Epoch 3/7\n",
            "160/160 [==============================] - 6s 36ms/step - loss: 0.7054 - accuracy: 0.7461 - val_loss: 0.7864 - val_accuracy: 0.7183\n",
            "Epoch 4/7\n",
            "160/160 [==============================] - 6s 36ms/step - loss: 0.6210 - accuracy: 0.7839 - val_loss: 0.7551 - val_accuracy: 0.7367\n",
            "Epoch 5/7\n",
            "160/160 [==============================] - 6s 36ms/step - loss: 0.5647 - accuracy: 0.8028 - val_loss: 0.7436 - val_accuracy: 0.7355\n",
            "Epoch 6/7\n",
            "160/160 [==============================] - 6s 36ms/step - loss: 0.5211 - accuracy: 0.8170 - val_loss: 0.7694 - val_accuracy: 0.7289\n",
            "Epoch 7/7\n",
            "160/160 [==============================] - 6s 36ms/step - loss: 0.4858 - accuracy: 0.8301 - val_loss: 0.7655 - val_accuracy: 0.7363\n",
            "80/80 [==============================] - 0s 5ms/step - loss: 0.7654 - accuracy: 0.7363\n",
            "emb_dim: 32  hidden_dim: 256  drop: 0 ----RMSprop\n",
            "Epoch 1/7\n",
            "160/160 [==============================] - 14s 85ms/step - loss: 1.2659 - accuracy: 0.4850 - val_loss: 0.9156 - val_accuracy: 0.6608\n",
            "Epoch 2/7\n",
            "160/160 [==============================] - 13s 83ms/step - loss: 0.7858 - accuracy: 0.7198 - val_loss: 0.7948 - val_accuracy: 0.7031\n",
            "Epoch 3/7\n",
            "160/160 [==============================] - 13s 83ms/step - loss: 0.6375 - accuracy: 0.7777 - val_loss: 0.7714 - val_accuracy: 0.7269\n",
            "Epoch 4/7\n",
            "160/160 [==============================] - 13s 83ms/step - loss: 0.5487 - accuracy: 0.8069 - val_loss: 0.7519 - val_accuracy: 0.7379\n",
            "Epoch 5/7\n",
            "160/160 [==============================] - 13s 83ms/step - loss: 0.4821 - accuracy: 0.8306 - val_loss: 0.7735 - val_accuracy: 0.7332\n",
            "Epoch 6/7\n",
            "160/160 [==============================] - 13s 84ms/step - loss: 0.4314 - accuracy: 0.8514 - val_loss: 0.7925 - val_accuracy: 0.7308\n",
            "Epoch 7/7\n",
            "160/160 [==============================] - 13s 82ms/step - loss: 0.3845 - accuracy: 0.8690 - val_loss: 0.8393 - val_accuracy: 0.7308\n",
            "80/80 [==============================] - 1s 16ms/step - loss: 0.8391 - accuracy: 0.7308\n",
            "emb_dim: 32  hidden_dim: 256  drop: 0.1 ----RMSprop\n",
            "Epoch 1/7\n",
            "160/160 [==============================] - 14s 85ms/step - loss: 1.2830 - accuracy: 0.4728 - val_loss: 0.9288 - val_accuracy: 0.6534\n",
            "Epoch 2/7\n",
            "160/160 [==============================] - 13s 83ms/step - loss: 0.8039 - accuracy: 0.7104 - val_loss: 0.7989 - val_accuracy: 0.7015\n",
            "Epoch 3/7\n",
            "160/160 [==============================] - 14s 85ms/step - loss: 0.6573 - accuracy: 0.7678 - val_loss: 0.7618 - val_accuracy: 0.7273\n",
            "Epoch 4/7\n",
            "160/160 [==============================] - 13s 84ms/step - loss: 0.5708 - accuracy: 0.7993 - val_loss: 0.7451 - val_accuracy: 0.7383\n",
            "Epoch 5/7\n",
            "160/160 [==============================] - 13s 83ms/step - loss: 0.5029 - accuracy: 0.8222 - val_loss: 0.7688 - val_accuracy: 0.7297\n",
            "Epoch 6/7\n",
            "160/160 [==============================] - 13s 83ms/step - loss: 0.4556 - accuracy: 0.8414 - val_loss: 0.7830 - val_accuracy: 0.7293\n",
            "Epoch 7/7\n",
            "160/160 [==============================] - 13s 84ms/step - loss: 0.4173 - accuracy: 0.8549 - val_loss: 0.8163 - val_accuracy: 0.7273\n",
            "80/80 [==============================] - 1s 16ms/step - loss: 0.8162 - accuracy: 0.7273\n",
            "emb_dim: 32  hidden_dim: 256  drop: 0.2 ----RMSprop\n",
            "Epoch 1/7\n",
            "160/160 [==============================] - 14s 86ms/step - loss: 1.2950 - accuracy: 0.4631 - val_loss: 0.9758 - val_accuracy: 0.6428\n",
            "Epoch 2/7\n",
            "160/160 [==============================] - 13s 84ms/step - loss: 0.8287 - accuracy: 0.6987 - val_loss: 0.8002 - val_accuracy: 0.7019\n",
            "Epoch 3/7\n",
            "160/160 [==============================] - 14s 87ms/step - loss: 0.6894 - accuracy: 0.7548 - val_loss: 0.7683 - val_accuracy: 0.7179\n",
            "Epoch 4/7\n",
            "160/160 [==============================] - 13s 82ms/step - loss: 0.6038 - accuracy: 0.7869 - val_loss: 0.7571 - val_accuracy: 0.7285\n",
            "Epoch 5/7\n",
            "160/160 [==============================] - 13s 82ms/step - loss: 0.5369 - accuracy: 0.8121 - val_loss: 0.7657 - val_accuracy: 0.7238\n",
            "Epoch 6/7\n",
            "160/160 [==============================] - 13s 83ms/step - loss: 0.4919 - accuracy: 0.8303 - val_loss: 0.7673 - val_accuracy: 0.7316\n",
            "Epoch 7/7\n",
            "160/160 [==============================] - 13s 83ms/step - loss: 0.4560 - accuracy: 0.8419 - val_loss: 0.7889 - val_accuracy: 0.7324\n",
            "80/80 [==============================] - 1s 15ms/step - loss: 0.7888 - accuracy: 0.7324\n",
            "emb_dim: 32  hidden_dim: 256  drop: 0.3 ----RMSprop\n",
            "Epoch 1/7\n",
            "160/160 [==============================] - 13s 84ms/step - loss: 1.3193 - accuracy: 0.4522 - val_loss: 0.9710 - val_accuracy: 0.6346\n",
            "Epoch 2/7\n",
            "160/160 [==============================] - 13s 82ms/step - loss: 0.8585 - accuracy: 0.6854 - val_loss: 0.8090 - val_accuracy: 0.6921\n",
            "Epoch 3/7\n",
            "160/160 [==============================] - 13s 82ms/step - loss: 0.7208 - accuracy: 0.7425 - val_loss: 0.7710 - val_accuracy: 0.7195\n",
            "Epoch 4/7\n",
            "160/160 [==============================] - 13s 82ms/step - loss: 0.6353 - accuracy: 0.7735 - val_loss: 0.7481 - val_accuracy: 0.7316\n",
            "Epoch 5/7\n",
            "160/160 [==============================] - 13s 82ms/step - loss: 0.5737 - accuracy: 0.8004 - val_loss: 0.7632 - val_accuracy: 0.7238\n",
            "Epoch 6/7\n",
            "160/160 [==============================] - 13s 82ms/step - loss: 0.5271 - accuracy: 0.8142 - val_loss: 0.7868 - val_accuracy: 0.7250\n",
            "Epoch 7/7\n",
            "160/160 [==============================] - 13s 83ms/step - loss: 0.4965 - accuracy: 0.8264 - val_loss: 0.7610 - val_accuracy: 0.7324\n",
            "80/80 [==============================] - 1s 16ms/step - loss: 0.7610 - accuracy: 0.7324\n",
            "emb_dim: 64  hidden_dim: 64  drop: 0 ----RMSprop\n",
            "Epoch 1/7\n",
            "160/160 [==============================] - 3s 22ms/step - loss: 1.2590 - accuracy: 0.5032 - val_loss: 0.9033 - val_accuracy: 0.6596\n",
            "Epoch 2/7\n",
            "160/160 [==============================] - 3s 20ms/step - loss: 0.7491 - accuracy: 0.7294 - val_loss: 0.7727 - val_accuracy: 0.7132\n",
            "Epoch 3/7\n",
            "160/160 [==============================] - 3s 20ms/step - loss: 0.6032 - accuracy: 0.7870 - val_loss: 0.7561 - val_accuracy: 0.7242\n",
            "Epoch 4/7\n",
            "160/160 [==============================] - 3s 21ms/step - loss: 0.5203 - accuracy: 0.8188 - val_loss: 0.7522 - val_accuracy: 0.7367\n",
            "Epoch 5/7\n",
            "160/160 [==============================] - 3s 20ms/step - loss: 0.4590 - accuracy: 0.8402 - val_loss: 0.7747 - val_accuracy: 0.7277\n",
            "Epoch 6/7\n",
            "160/160 [==============================] - 3s 20ms/step - loss: 0.4102 - accuracy: 0.8613 - val_loss: 0.8105 - val_accuracy: 0.7148\n",
            "Epoch 7/7\n",
            "160/160 [==============================] - 3s 21ms/step - loss: 0.3692 - accuracy: 0.8733 - val_loss: 0.8451 - val_accuracy: 0.7199\n",
            "80/80 [==============================] - 0s 3ms/step - loss: 0.8452 - accuracy: 0.7199\n",
            "emb_dim: 64  hidden_dim: 64  drop: 0.1 ----RMSprop\n",
            "Epoch 1/7\n",
            "160/160 [==============================] - 4s 23ms/step - loss: 1.2810 - accuracy: 0.4926 - val_loss: 0.9223 - val_accuracy: 0.6545\n",
            "Epoch 2/7\n",
            "160/160 [==============================] - 3s 21ms/step - loss: 0.7661 - accuracy: 0.7205 - val_loss: 0.7751 - val_accuracy: 0.7101\n",
            "Epoch 3/7\n",
            "160/160 [==============================] - 3s 21ms/step - loss: 0.6192 - accuracy: 0.7823 - val_loss: 0.7592 - val_accuracy: 0.7222\n",
            "Epoch 4/7\n",
            "160/160 [==============================] - 3s 21ms/step - loss: 0.5381 - accuracy: 0.8116 - val_loss: 0.7508 - val_accuracy: 0.7336\n",
            "Epoch 5/7\n",
            "160/160 [==============================] - 3s 22ms/step - loss: 0.4808 - accuracy: 0.8348 - val_loss: 0.7586 - val_accuracy: 0.7351\n",
            "Epoch 6/7\n",
            "160/160 [==============================] - 3s 22ms/step - loss: 0.4322 - accuracy: 0.8516 - val_loss: 0.7885 - val_accuracy: 0.7230\n",
            "Epoch 7/7\n",
            "160/160 [==============================] - 3s 21ms/step - loss: 0.3899 - accuracy: 0.8672 - val_loss: 0.8174 - val_accuracy: 0.7265\n",
            "80/80 [==============================] - 0s 4ms/step - loss: 0.8175 - accuracy: 0.7265\n",
            "emb_dim: 64  hidden_dim: 64  drop: 0.2 ----RMSprop\n",
            "Epoch 1/7\n",
            "160/160 [==============================] - 4s 24ms/step - loss: 1.3009 - accuracy: 0.4781 - val_loss: 0.9425 - val_accuracy: 0.6432\n",
            "Epoch 2/7\n",
            "160/160 [==============================] - 3s 21ms/step - loss: 0.7891 - accuracy: 0.7118 - val_loss: 0.7830 - val_accuracy: 0.7074\n",
            "Epoch 3/7\n",
            "160/160 [==============================] - 3s 21ms/step - loss: 0.6407 - accuracy: 0.7735 - val_loss: 0.7699 - val_accuracy: 0.7167\n",
            "Epoch 4/7\n",
            "160/160 [==============================] - 3s 21ms/step - loss: 0.5605 - accuracy: 0.8043 - val_loss: 0.7502 - val_accuracy: 0.7359\n",
            "Epoch 5/7\n",
            "160/160 [==============================] - 3s 21ms/step - loss: 0.5051 - accuracy: 0.8229 - val_loss: 0.7530 - val_accuracy: 0.7355\n",
            "Epoch 6/7\n",
            "160/160 [==============================] - 3s 21ms/step - loss: 0.4568 - accuracy: 0.8440 - val_loss: 0.7772 - val_accuracy: 0.7261\n",
            "Epoch 7/7\n",
            "160/160 [==============================] - 3s 21ms/step - loss: 0.4190 - accuracy: 0.8551 - val_loss: 0.8055 - val_accuracy: 0.7281\n",
            "80/80 [==============================] - 0s 3ms/step - loss: 0.8055 - accuracy: 0.7281\n",
            "emb_dim: 64  hidden_dim: 64  drop: 0.3 ----RMSprop\n",
            "Epoch 1/7\n",
            "160/160 [==============================] - 4s 23ms/step - loss: 1.3223 - accuracy: 0.4690 - val_loss: 0.9660 - val_accuracy: 0.6389\n",
            "Epoch 2/7\n",
            "160/160 [==============================] - 3s 21ms/step - loss: 0.8171 - accuracy: 0.7002 - val_loss: 0.7951 - val_accuracy: 0.6991\n",
            "Epoch 3/7\n",
            "160/160 [==============================] - 3s 21ms/step - loss: 0.6649 - accuracy: 0.7652 - val_loss: 0.7761 - val_accuracy: 0.7136\n",
            "Epoch 4/7\n",
            "160/160 [==============================] - 3s 21ms/step - loss: 0.5841 - accuracy: 0.7982 - val_loss: 0.7496 - val_accuracy: 0.7328\n",
            "Epoch 5/7\n",
            "160/160 [==============================] - 3s 21ms/step - loss: 0.5328 - accuracy: 0.8147 - val_loss: 0.7487 - val_accuracy: 0.7351\n",
            "Epoch 6/7\n",
            "160/160 [==============================] - 3s 21ms/step - loss: 0.4895 - accuracy: 0.8303 - val_loss: 0.7640 - val_accuracy: 0.7289\n",
            "Epoch 7/7\n",
            "160/160 [==============================] - 3s 21ms/step - loss: 0.4514 - accuracy: 0.8466 - val_loss: 0.7854 - val_accuracy: 0.7332\n",
            "80/80 [==============================] - 0s 3ms/step - loss: 0.7854 - accuracy: 0.7332\n",
            "emb_dim: 64  hidden_dim: 128  drop: 0 ----RMSprop\n",
            "Epoch 1/7\n",
            "160/160 [==============================] - 6s 40ms/step - loss: 1.1940 - accuracy: 0.5276 - val_loss: 0.8624 - val_accuracy: 0.6831\n",
            "Epoch 2/7\n",
            "160/160 [==============================] - 6s 38ms/step - loss: 0.7290 - accuracy: 0.7396 - val_loss: 0.7678 - val_accuracy: 0.7218\n",
            "Epoch 3/7\n",
            "160/160 [==============================] - 6s 39ms/step - loss: 0.5980 - accuracy: 0.7896 - val_loss: 0.7560 - val_accuracy: 0.7257\n",
            "Epoch 4/7\n",
            "160/160 [==============================] - 6s 38ms/step - loss: 0.5164 - accuracy: 0.8205 - val_loss: 0.7495 - val_accuracy: 0.7351\n",
            "Epoch 5/7\n",
            "160/160 [==============================] - 6s 38ms/step - loss: 0.4521 - accuracy: 0.8423 - val_loss: 0.7761 - val_accuracy: 0.7273\n",
            "Epoch 6/7\n",
            "160/160 [==============================] - 6s 39ms/step - loss: 0.4016 - accuracy: 0.8629 - val_loss: 0.8059 - val_accuracy: 0.7187\n",
            "Epoch 7/7\n",
            "160/160 [==============================] - 6s 40ms/step - loss: 0.3569 - accuracy: 0.8776 - val_loss: 0.8377 - val_accuracy: 0.7183\n",
            "80/80 [==============================] - 0s 6ms/step - loss: 0.8377 - accuracy: 0.7183\n",
            "emb_dim: 64  hidden_dim: 128  drop: 0.1 ----RMSprop\n",
            "Epoch 1/7\n",
            "160/160 [==============================] - 7s 42ms/step - loss: 1.2116 - accuracy: 0.5197 - val_loss: 0.8712 - val_accuracy: 0.6811\n",
            "Epoch 2/7\n",
            "160/160 [==============================] - 6s 39ms/step - loss: 0.7479 - accuracy: 0.7348 - val_loss: 0.7730 - val_accuracy: 0.7242\n",
            "Epoch 3/7\n",
            "160/160 [==============================] - 6s 39ms/step - loss: 0.6150 - accuracy: 0.7817 - val_loss: 0.7526 - val_accuracy: 0.7261\n",
            "Epoch 4/7\n",
            "160/160 [==============================] - 6s 39ms/step - loss: 0.5322 - accuracy: 0.8145 - val_loss: 0.7427 - val_accuracy: 0.7367\n",
            "Epoch 5/7\n",
            "160/160 [==============================] - 6s 39ms/step - loss: 0.4713 - accuracy: 0.8345 - val_loss: 0.7652 - val_accuracy: 0.7304\n",
            "Epoch 6/7\n",
            "160/160 [==============================] - 6s 40ms/step - loss: 0.4214 - accuracy: 0.8587 - val_loss: 0.7871 - val_accuracy: 0.7250\n",
            "Epoch 7/7\n",
            "160/160 [==============================] - 6s 39ms/step - loss: 0.3796 - accuracy: 0.8696 - val_loss: 0.8110 - val_accuracy: 0.7234\n",
            "80/80 [==============================] - 0s 6ms/step - loss: 0.8110 - accuracy: 0.7234\n",
            "emb_dim: 64  hidden_dim: 128  drop: 0.2 ----RMSprop\n",
            "Epoch 1/7\n",
            "160/160 [==============================] - 7s 42ms/step - loss: 1.2287 - accuracy: 0.5116 - val_loss: 0.8823 - val_accuracy: 0.6753\n",
            "Epoch 2/7\n",
            "160/160 [==============================] - 7s 41ms/step - loss: 0.7650 - accuracy: 0.7257 - val_loss: 0.7782 - val_accuracy: 0.7230\n",
            "Epoch 3/7\n",
            "160/160 [==============================] - 6s 40ms/step - loss: 0.6329 - accuracy: 0.7753 - val_loss: 0.7503 - val_accuracy: 0.7293\n",
            "Epoch 4/7\n",
            "160/160 [==============================] - 7s 41ms/step - loss: 0.5524 - accuracy: 0.8064 - val_loss: 0.7362 - val_accuracy: 0.7355\n",
            "Epoch 5/7\n",
            "160/160 [==============================] - 7s 41ms/step - loss: 0.4940 - accuracy: 0.8252 - val_loss: 0.7548 - val_accuracy: 0.7281\n",
            "Epoch 6/7\n",
            "160/160 [==============================] - 6s 40ms/step - loss: 0.4454 - accuracy: 0.8474 - val_loss: 0.7676 - val_accuracy: 0.7308\n",
            "Epoch 7/7\n",
            "160/160 [==============================] - 6s 40ms/step - loss: 0.4074 - accuracy: 0.8579 - val_loss: 0.7904 - val_accuracy: 0.7340\n",
            "80/80 [==============================] - 0s 6ms/step - loss: 0.7904 - accuracy: 0.7340\n",
            "emb_dim: 64  hidden_dim: 128  drop: 0.3 ----RMSprop\n",
            "Epoch 1/7\n",
            "160/160 [==============================] - 7s 43ms/step - loss: 1.2489 - accuracy: 0.5037 - val_loss: 0.8974 - val_accuracy: 0.6667\n",
            "Epoch 2/7\n",
            "160/160 [==============================] - 6s 40ms/step - loss: 0.7881 - accuracy: 0.7152 - val_loss: 0.7893 - val_accuracy: 0.7171\n",
            "Epoch 3/7\n",
            "160/160 [==============================] - 6s 40ms/step - loss: 0.6573 - accuracy: 0.7664 - val_loss: 0.7586 - val_accuracy: 0.7254\n",
            "Epoch 4/7\n",
            "160/160 [==============================] - 6s 40ms/step - loss: 0.5768 - accuracy: 0.7946 - val_loss: 0.7343 - val_accuracy: 0.7336\n",
            "Epoch 5/7\n",
            "160/160 [==============================] - 6s 41ms/step - loss: 0.5168 - accuracy: 0.8170 - val_loss: 0.7523 - val_accuracy: 0.7304\n",
            "Epoch 6/7\n",
            "160/160 [==============================] - 6s 40ms/step - loss: 0.4757 - accuracy: 0.8366 - val_loss: 0.7539 - val_accuracy: 0.7390\n",
            "Epoch 7/7\n",
            "160/160 [==============================] - 6s 40ms/step - loss: 0.4406 - accuracy: 0.8475 - val_loss: 0.7711 - val_accuracy: 0.7359\n",
            "80/80 [==============================] - 0s 6ms/step - loss: 0.7711 - accuracy: 0.7359\n",
            "emb_dim: 64  hidden_dim: 256  drop: 0 ----RMSprop\n",
            "Epoch 1/7\n",
            "160/160 [==============================] - 15s 92ms/step - loss: 1.1686 - accuracy: 0.5393 - val_loss: 0.8547 - val_accuracy: 0.6819\n",
            "Epoch 2/7\n",
            "160/160 [==============================] - 14s 89ms/step - loss: 0.7267 - accuracy: 0.7420 - val_loss: 0.7639 - val_accuracy: 0.7222\n",
            "Epoch 3/7\n",
            "160/160 [==============================] - 14s 90ms/step - loss: 0.5901 - accuracy: 0.7953 - val_loss: 0.7536 - val_accuracy: 0.7300\n",
            "Epoch 4/7\n",
            "160/160 [==============================] - 14s 89ms/step - loss: 0.5078 - accuracy: 0.8210 - val_loss: 0.7514 - val_accuracy: 0.7371\n",
            "Epoch 5/7\n",
            "160/160 [==============================] - 15s 92ms/step - loss: 0.4425 - accuracy: 0.8436 - val_loss: 0.7795 - val_accuracy: 0.7328\n",
            "Epoch 6/7\n",
            "160/160 [==============================] - 14s 90ms/step - loss: 0.3914 - accuracy: 0.8639 - val_loss: 0.8179 - val_accuracy: 0.7297\n",
            "Epoch 7/7\n",
            "160/160 [==============================] - 15s 91ms/step - loss: 0.3471 - accuracy: 0.8802 - val_loss: 0.8574 - val_accuracy: 0.7304\n",
            "80/80 [==============================] - 1s 17ms/step - loss: 0.8573 - accuracy: 0.7304\n",
            "emb_dim: 64  hidden_dim: 256  drop: 0.1 ----RMSprop\n",
            "Epoch 1/7\n",
            "160/160 [==============================] - 15s 91ms/step - loss: 1.1819 - accuracy: 0.5305 - val_loss: 0.8626 - val_accuracy: 0.6776\n",
            "Epoch 2/7\n",
            "160/160 [==============================] - 14s 89ms/step - loss: 0.7441 - accuracy: 0.7334 - val_loss: 0.7680 - val_accuracy: 0.7218\n",
            "Epoch 3/7\n",
            "160/160 [==============================] - 14s 90ms/step - loss: 0.6076 - accuracy: 0.7875 - val_loss: 0.7563 - val_accuracy: 0.7257\n",
            "Epoch 4/7\n",
            "160/160 [==============================] - 14s 89ms/step - loss: 0.5247 - accuracy: 0.8149 - val_loss: 0.7457 - val_accuracy: 0.7418\n",
            "Epoch 5/7\n",
            "160/160 [==============================] - 14s 89ms/step - loss: 0.4623 - accuracy: 0.8389 - val_loss: 0.7738 - val_accuracy: 0.7308\n",
            "Epoch 6/7\n",
            "160/160 [==============================] - 14s 90ms/step - loss: 0.4152 - accuracy: 0.8552 - val_loss: 0.8051 - val_accuracy: 0.7336\n",
            "Epoch 7/7\n",
            "160/160 [==============================] - 15s 91ms/step - loss: 0.3731 - accuracy: 0.8688 - val_loss: 0.8300 - val_accuracy: 0.7320\n",
            "80/80 [==============================] - 1s 16ms/step - loss: 0.8300 - accuracy: 0.7320\n",
            "emb_dim: 64  hidden_dim: 256  drop: 0.2 ----RMSprop\n",
            "Epoch 1/7\n",
            "160/160 [==============================] - 15s 94ms/step - loss: 1.2043 - accuracy: 0.5201 - val_loss: 0.8704 - val_accuracy: 0.6768\n",
            "Epoch 2/7\n",
            "160/160 [==============================] - 14s 90ms/step - loss: 0.7619 - accuracy: 0.7248 - val_loss: 0.7794 - val_accuracy: 0.7148\n",
            "Epoch 3/7\n",
            "160/160 [==============================] - 14s 90ms/step - loss: 0.6269 - accuracy: 0.7807 - val_loss: 0.7542 - val_accuracy: 0.7238\n",
            "Epoch 4/7\n",
            "160/160 [==============================] - 15s 91ms/step - loss: 0.5477 - accuracy: 0.8065 - val_loss: 0.7387 - val_accuracy: 0.7402\n",
            "Epoch 5/7\n",
            "160/160 [==============================] - 14s 90ms/step - loss: 0.4866 - accuracy: 0.8317 - val_loss: 0.7615 - val_accuracy: 0.7304\n",
            "Epoch 6/7\n",
            "160/160 [==============================] - 14s 90ms/step - loss: 0.4406 - accuracy: 0.8437 - val_loss: 0.7877 - val_accuracy: 0.7277\n",
            "Epoch 7/7\n",
            "160/160 [==============================] - 15s 92ms/step - loss: 0.4023 - accuracy: 0.8584 - val_loss: 0.8044 - val_accuracy: 0.7371\n",
            "80/80 [==============================] - 1s 17ms/step - loss: 0.8044 - accuracy: 0.7371\n",
            "emb_dim: 64  hidden_dim: 256  drop: 0.3 ----RMSprop\n",
            "Epoch 1/7\n",
            "160/160 [==============================] - 15s 94ms/step - loss: 1.2254 - accuracy: 0.5074 - val_loss: 0.8836 - val_accuracy: 0.6792\n",
            "Epoch 2/7\n",
            "160/160 [==============================] - 14s 90ms/step - loss: 0.7800 - accuracy: 0.7201 - val_loss: 0.7859 - val_accuracy: 0.7121\n",
            "Epoch 3/7\n",
            "160/160 [==============================] - 14s 91ms/step - loss: 0.6465 - accuracy: 0.7734 - val_loss: 0.7551 - val_accuracy: 0.7246\n",
            "Epoch 4/7\n",
            "160/160 [==============================] - 14s 91ms/step - loss: 0.5676 - accuracy: 0.7974 - val_loss: 0.7367 - val_accuracy: 0.7390\n",
            "Epoch 5/7\n",
            "160/160 [==============================] - 14s 90ms/step - loss: 0.5080 - accuracy: 0.8225 - val_loss: 0.7536 - val_accuracy: 0.7398\n",
            "Epoch 6/7\n",
            "160/160 [==============================] - 15s 91ms/step - loss: 0.4684 - accuracy: 0.8362 - val_loss: 0.7601 - val_accuracy: 0.7359\n",
            "Epoch 7/7\n",
            "160/160 [==============================] - 15s 92ms/step - loss: 0.4316 - accuracy: 0.8499 - val_loss: 0.7820 - val_accuracy: 0.7398\n",
            "80/80 [==============================] - 1s 16ms/step - loss: 0.7820 - accuracy: 0.7398\n",
            "emb_dim: 128  hidden_dim: 64  drop: 0 ----RMSprop\n",
            "Epoch 1/7\n",
            "160/160 [==============================] - 4s 28ms/step - loss: 1.1642 - accuracy: 0.5550 - val_loss: 0.8388 - val_accuracy: 0.6800\n",
            "Epoch 2/7\n",
            "160/160 [==============================] - 4s 26ms/step - loss: 0.6829 - accuracy: 0.7561 - val_loss: 0.7422 - val_accuracy: 0.7285\n",
            "Epoch 3/7\n",
            "160/160 [==============================] - 4s 26ms/step - loss: 0.5480 - accuracy: 0.8067 - val_loss: 0.7570 - val_accuracy: 0.7308\n",
            "Epoch 4/7\n",
            "160/160 [==============================] - 4s 26ms/step - loss: 0.4641 - accuracy: 0.8373 - val_loss: 0.7463 - val_accuracy: 0.7367\n",
            "Epoch 5/7\n",
            "160/160 [==============================] - 4s 26ms/step - loss: 0.4023 - accuracy: 0.8612 - val_loss: 0.7928 - val_accuracy: 0.7269\n",
            "Epoch 6/7\n",
            "160/160 [==============================] - 4s 25ms/step - loss: 0.3507 - accuracy: 0.8807 - val_loss: 0.8393 - val_accuracy: 0.7132\n",
            "Epoch 7/7\n",
            "160/160 [==============================] - 4s 26ms/step - loss: 0.3088 - accuracy: 0.8944 - val_loss: 0.8653 - val_accuracy: 0.7136\n",
            "80/80 [==============================] - 0s 4ms/step - loss: 0.8652 - accuracy: 0.7136\n",
            "emb_dim: 128  hidden_dim: 64  drop: 0.1 ----RMSprop\n",
            "Epoch 1/7\n",
            "160/160 [==============================] - 5s 31ms/step - loss: 1.1860 - accuracy: 0.5465 - val_loss: 0.8514 - val_accuracy: 0.6757\n",
            "Epoch 2/7\n",
            "160/160 [==============================] - 5s 33ms/step - loss: 0.7000 - accuracy: 0.7488 - val_loss: 0.7438 - val_accuracy: 0.7261\n",
            "Epoch 3/7\n",
            "160/160 [==============================] - 5s 30ms/step - loss: 0.5640 - accuracy: 0.8014 - val_loss: 0.7576 - val_accuracy: 0.7304\n",
            "Epoch 4/7\n",
            "160/160 [==============================] - 5s 29ms/step - loss: 0.4818 - accuracy: 0.8305 - val_loss: 0.7430 - val_accuracy: 0.7387\n",
            "Epoch 5/7\n",
            "160/160 [==============================] - 5s 28ms/step - loss: 0.4221 - accuracy: 0.8541 - val_loss: 0.7798 - val_accuracy: 0.7300\n",
            "Epoch 6/7\n",
            "160/160 [==============================] - 5s 28ms/step - loss: 0.3719 - accuracy: 0.8739 - val_loss: 0.8203 - val_accuracy: 0.7195\n",
            "Epoch 7/7\n",
            "160/160 [==============================] - 5s 28ms/step - loss: 0.3300 - accuracy: 0.8866 - val_loss: 0.8463 - val_accuracy: 0.7183\n",
            "80/80 [==============================] - 0s 4ms/step - loss: 0.8461 - accuracy: 0.7183\n",
            "emb_dim: 128  hidden_dim: 64  drop: 0.2 ----RMSprop\n",
            "Epoch 1/7\n",
            "160/160 [==============================] - 5s 31ms/step - loss: 1.2091 - accuracy: 0.5377 - val_loss: 0.8672 - val_accuracy: 0.6706\n",
            "Epoch 2/7\n",
            "160/160 [==============================] - 5s 28ms/step - loss: 0.7179 - accuracy: 0.7433 - val_loss: 0.7512 - val_accuracy: 0.7214\n",
            "Epoch 3/7\n",
            "160/160 [==============================] - 5s 30ms/step - loss: 0.5819 - accuracy: 0.7948 - val_loss: 0.7629 - val_accuracy: 0.7308\n",
            "Epoch 4/7\n",
            "160/160 [==============================] - 5s 28ms/step - loss: 0.5033 - accuracy: 0.8263 - val_loss: 0.7411 - val_accuracy: 0.7390\n",
            "Epoch 5/7\n",
            "160/160 [==============================] - 4s 28ms/step - loss: 0.4456 - accuracy: 0.8443 - val_loss: 0.7710 - val_accuracy: 0.7297\n",
            "Epoch 6/7\n",
            "160/160 [==============================] - 5s 28ms/step - loss: 0.3954 - accuracy: 0.8639 - val_loss: 0.8035 - val_accuracy: 0.7210\n",
            "Epoch 7/7\n",
            "160/160 [==============================] - 5s 28ms/step - loss: 0.3578 - accuracy: 0.8753 - val_loss: 0.8237 - val_accuracy: 0.7195\n",
            "80/80 [==============================] - 0s 4ms/step - loss: 0.8236 - accuracy: 0.7195\n",
            "emb_dim: 128  hidden_dim: 64  drop: 0.3 ----RMSprop\n",
            "Epoch 1/7\n",
            "160/160 [==============================] - 5s 30ms/step - loss: 1.2315 - accuracy: 0.5252 - val_loss: 0.8827 - val_accuracy: 0.6608\n",
            "Epoch 2/7\n",
            "160/160 [==============================] - 4s 28ms/step - loss: 0.7406 - accuracy: 0.7338 - val_loss: 0.7576 - val_accuracy: 0.7199\n",
            "Epoch 3/7\n",
            "160/160 [==============================] - 4s 27ms/step - loss: 0.6046 - accuracy: 0.7871 - val_loss: 0.7658 - val_accuracy: 0.7265\n",
            "Epoch 4/7\n",
            "160/160 [==============================] - 5s 28ms/step - loss: 0.5261 - accuracy: 0.8184 - val_loss: 0.7389 - val_accuracy: 0.7375\n",
            "Epoch 5/7\n",
            "160/160 [==============================] - 4s 28ms/step - loss: 0.4698 - accuracy: 0.8367 - val_loss: 0.7616 - val_accuracy: 0.7344\n",
            "Epoch 6/7\n",
            "160/160 [==============================] - 5s 29ms/step - loss: 0.4223 - accuracy: 0.8519 - val_loss: 0.7899 - val_accuracy: 0.7257\n",
            "Epoch 7/7\n",
            "160/160 [==============================] - 5s 28ms/step - loss: 0.3860 - accuracy: 0.8647 - val_loss: 0.7998 - val_accuracy: 0.7242\n",
            "80/80 [==============================] - 0s 4ms/step - loss: 0.7997 - accuracy: 0.7242\n",
            "emb_dim: 128  hidden_dim: 128  drop: 0 ----RMSprop\n",
            "Epoch 1/7\n",
            "160/160 [==============================] - 8s 52ms/step - loss: 1.1122 - accuracy: 0.5725 - val_loss: 0.8132 - val_accuracy: 0.7046\n",
            "Epoch 2/7\n",
            "160/160 [==============================] - 8s 50ms/step - loss: 0.6734 - accuracy: 0.7630 - val_loss: 0.7353 - val_accuracy: 0.7328\n",
            "Epoch 3/7\n",
            "160/160 [==============================] - 8s 50ms/step - loss: 0.5415 - accuracy: 0.8111 - val_loss: 0.7446 - val_accuracy: 0.7367\n",
            "Epoch 4/7\n",
            "160/160 [==============================] - 8s 49ms/step - loss: 0.4570 - accuracy: 0.8400 - val_loss: 0.7492 - val_accuracy: 0.7387\n",
            "Epoch 5/7\n",
            "160/160 [==============================] - 8s 50ms/step - loss: 0.3960 - accuracy: 0.8625 - val_loss: 0.8058 - val_accuracy: 0.7269\n",
            "Epoch 6/7\n",
            "160/160 [==============================] - 8s 50ms/step - loss: 0.3457 - accuracy: 0.8784 - val_loss: 0.8340 - val_accuracy: 0.7238\n",
            "Epoch 7/7\n",
            "160/160 [==============================] - 8s 50ms/step - loss: 0.3033 - accuracy: 0.8946 - val_loss: 0.8765 - val_accuracy: 0.7152\n",
            "80/80 [==============================] - 1s 6ms/step - loss: 0.8765 - accuracy: 0.7152\n",
            "emb_dim: 128  hidden_dim: 128  drop: 0.1 ----RMSprop\n",
            "Epoch 1/7\n",
            "160/160 [==============================] - 9s 55ms/step - loss: 1.1289 - accuracy: 0.5634 - val_loss: 0.8287 - val_accuracy: 0.7038\n",
            "Epoch 2/7\n",
            "160/160 [==============================] - 8s 53ms/step - loss: 0.6899 - accuracy: 0.7544 - val_loss: 0.7389 - val_accuracy: 0.7328\n",
            "Epoch 3/7\n",
            "160/160 [==============================] - 8s 52ms/step - loss: 0.5596 - accuracy: 0.8048 - val_loss: 0.7420 - val_accuracy: 0.7398\n",
            "Epoch 4/7\n",
            "160/160 [==============================] - 8s 52ms/step - loss: 0.4765 - accuracy: 0.8340 - val_loss: 0.7421 - val_accuracy: 0.7422\n",
            "Epoch 5/7\n",
            "160/160 [==============================] - 8s 52ms/step - loss: 0.4151 - accuracy: 0.8548 - val_loss: 0.7907 - val_accuracy: 0.7328\n",
            "Epoch 6/7\n",
            "160/160 [==============================] - 9s 54ms/step - loss: 0.3675 - accuracy: 0.8714 - val_loss: 0.8130 - val_accuracy: 0.7238\n",
            "Epoch 7/7\n",
            "160/160 [==============================] - 8s 52ms/step - loss: 0.3255 - accuracy: 0.8856 - val_loss: 0.8435 - val_accuracy: 0.7257\n",
            "80/80 [==============================] - 1s 7ms/step - loss: 0.8434 - accuracy: 0.7257\n",
            "emb_dim: 128  hidden_dim: 128  drop: 0.2 ----RMSprop\n",
            "Epoch 1/7\n",
            "160/160 [==============================] - 9s 56ms/step - loss: 1.1452 - accuracy: 0.5563 - val_loss: 0.8419 - val_accuracy: 0.7027\n",
            "Epoch 2/7\n",
            "160/160 [==============================] - 8s 53ms/step - loss: 0.7031 - accuracy: 0.7501 - val_loss: 0.7439 - val_accuracy: 0.7285\n",
            "Epoch 3/7\n",
            "160/160 [==============================] - 8s 52ms/step - loss: 0.5744 - accuracy: 0.7990 - val_loss: 0.7440 - val_accuracy: 0.7398\n",
            "Epoch 4/7\n",
            "160/160 [==============================] - 8s 52ms/step - loss: 0.4943 - accuracy: 0.8265 - val_loss: 0.7394 - val_accuracy: 0.7410\n",
            "Epoch 5/7\n",
            "160/160 [==============================] - 8s 52ms/step - loss: 0.4371 - accuracy: 0.8456 - val_loss: 0.7801 - val_accuracy: 0.7308\n",
            "Epoch 6/7\n",
            "160/160 [==============================] - 8s 53ms/step - loss: 0.3899 - accuracy: 0.8643 - val_loss: 0.7956 - val_accuracy: 0.7277\n",
            "Epoch 7/7\n",
            "160/160 [==============================] - 8s 52ms/step - loss: 0.3524 - accuracy: 0.8753 - val_loss: 0.8275 - val_accuracy: 0.7308\n",
            "80/80 [==============================] - 1s 7ms/step - loss: 0.8274 - accuracy: 0.7308\n",
            "emb_dim: 128  hidden_dim: 128  drop: 0.3 ----RMSprop\n",
            "Epoch 1/7\n",
            "160/160 [==============================] - 9s 55ms/step - loss: 1.1648 - accuracy: 0.5460 - val_loss: 0.8545 - val_accuracy: 0.6937\n",
            "Epoch 2/7\n",
            "160/160 [==============================] - 8s 52ms/step - loss: 0.7220 - accuracy: 0.7427 - val_loss: 0.7487 - val_accuracy: 0.7285\n",
            "Epoch 3/7\n",
            "160/160 [==============================] - 8s 53ms/step - loss: 0.5971 - accuracy: 0.7905 - val_loss: 0.7539 - val_accuracy: 0.7316\n",
            "Epoch 4/7\n",
            "160/160 [==============================] - 8s 53ms/step - loss: 0.5213 - accuracy: 0.8175 - val_loss: 0.7371 - val_accuracy: 0.7410\n",
            "Epoch 5/7\n",
            "160/160 [==============================] - 8s 52ms/step - loss: 0.4641 - accuracy: 0.8352 - val_loss: 0.7671 - val_accuracy: 0.7371\n",
            "Epoch 6/7\n",
            "160/160 [==============================] - 8s 52ms/step - loss: 0.4192 - accuracy: 0.8523 - val_loss: 0.7771 - val_accuracy: 0.7355\n",
            "Epoch 7/7\n",
            "160/160 [==============================] - 8s 52ms/step - loss: 0.3820 - accuracy: 0.8665 - val_loss: 0.7961 - val_accuracy: 0.7340\n",
            "80/80 [==============================] - 1s 7ms/step - loss: 0.7960 - accuracy: 0.7340\n",
            "emb_dim: 128  hidden_dim: 256  drop: 0 ----RMSprop\n",
            "Epoch 1/7\n",
            "160/160 [==============================] - 17s 104ms/step - loss: 1.1422 - accuracy: 0.5721 - val_loss: 0.8421 - val_accuracy: 0.6768\n",
            "Epoch 2/7\n",
            "160/160 [==============================] - 16s 102ms/step - loss: 0.6991 - accuracy: 0.7538 - val_loss: 0.7472 - val_accuracy: 0.7336\n",
            "Epoch 3/7\n",
            "160/160 [==============================] - 16s 102ms/step - loss: 0.5643 - accuracy: 0.8027 - val_loss: 0.7473 - val_accuracy: 0.7375\n",
            "Epoch 4/7\n",
            "160/160 [==============================] - 16s 100ms/step - loss: 0.4765 - accuracy: 0.8343 - val_loss: 0.7452 - val_accuracy: 0.7449\n",
            "Epoch 5/7\n",
            "160/160 [==============================] - 16s 100ms/step - loss: 0.4099 - accuracy: 0.8559 - val_loss: 0.7948 - val_accuracy: 0.7293\n",
            "Epoch 6/7\n",
            "160/160 [==============================] - 16s 101ms/step - loss: 0.3541 - accuracy: 0.8767 - val_loss: 0.8241 - val_accuracy: 0.7261\n",
            "Epoch 7/7\n",
            "160/160 [==============================] - 17s 104ms/step - loss: 0.3031 - accuracy: 0.8947 - val_loss: 0.8871 - val_accuracy: 0.7203\n",
            "80/80 [==============================] - 2s 19ms/step - loss: 0.8870 - accuracy: 0.7203\n",
            "emb_dim: 128  hidden_dim: 256  drop: 0.1 ----RMSprop\n",
            "Epoch 1/7\n",
            "160/160 [==============================] - 17s 104ms/step - loss: 1.1242 - accuracy: 0.5647 - val_loss: 0.8242 - val_accuracy: 0.6874\n",
            "Epoch 2/7\n",
            "160/160 [==============================] - 16s 100ms/step - loss: 0.7049 - accuracy: 0.7478 - val_loss: 0.7443 - val_accuracy: 0.7336\n",
            "Epoch 3/7\n",
            "160/160 [==============================] - 16s 102ms/step - loss: 0.5731 - accuracy: 0.8015 - val_loss: 0.7462 - val_accuracy: 0.7379\n",
            "Epoch 4/7\n",
            "160/160 [==============================] - 16s 101ms/step - loss: 0.4885 - accuracy: 0.8298 - val_loss: 0.7436 - val_accuracy: 0.7441\n",
            "Epoch 5/7\n",
            "160/160 [==============================] - 17s 109ms/step - loss: 0.4239 - accuracy: 0.8501 - val_loss: 0.7860 - val_accuracy: 0.7312\n",
            "Epoch 6/7\n",
            "160/160 [==============================] - 16s 102ms/step - loss: 0.3702 - accuracy: 0.8719 - val_loss: 0.8176 - val_accuracy: 0.7304\n",
            "Epoch 7/7\n",
            "160/160 [==============================] - 16s 101ms/step - loss: 0.3229 - accuracy: 0.8882 - val_loss: 0.8610 - val_accuracy: 0.7257\n",
            "80/80 [==============================] - 2s 20ms/step - loss: 0.8609 - accuracy: 0.7257\n",
            "emb_dim: 128  hidden_dim: 256  drop: 0.2 ----RMSprop\n",
            "Epoch 1/7\n",
            "160/160 [==============================] - 17s 105ms/step - loss: 1.1281 - accuracy: 0.5644 - val_loss: 0.8403 - val_accuracy: 0.6862\n",
            "Epoch 2/7\n",
            "160/160 [==============================] - 16s 103ms/step - loss: 0.7170 - accuracy: 0.7456 - val_loss: 0.7498 - val_accuracy: 0.7281\n",
            "Epoch 3/7\n",
            "160/160 [==============================] - 17s 104ms/step - loss: 0.5866 - accuracy: 0.7955 - val_loss: 0.7528 - val_accuracy: 0.7355\n",
            "Epoch 4/7\n",
            "160/160 [==============================] - 17s 104ms/step - loss: 0.5048 - accuracy: 0.8248 - val_loss: 0.7415 - val_accuracy: 0.7445\n",
            "Epoch 5/7\n",
            "160/160 [==============================] - 16s 103ms/step - loss: 0.4442 - accuracy: 0.8411 - val_loss: 0.7750 - val_accuracy: 0.7340\n",
            "Epoch 6/7\n",
            "160/160 [==============================] - 17s 103ms/step - loss: 0.3911 - accuracy: 0.8658 - val_loss: 0.7984 - val_accuracy: 0.7300\n",
            "Epoch 7/7\n",
            "160/160 [==============================] - 17s 104ms/step - loss: 0.3477 - accuracy: 0.8781 - val_loss: 0.8341 - val_accuracy: 0.7324\n",
            "80/80 [==============================] - 2s 20ms/step - loss: 0.8339 - accuracy: 0.7324\n",
            "emb_dim: 128  hidden_dim: 256  drop: 0.3 ----RMSprop\n",
            "Epoch 1/7\n",
            "160/160 [==============================] - 17s 107ms/step - loss: 1.1402 - accuracy: 0.5562 - val_loss: 0.8320 - val_accuracy: 0.6815\n",
            "Epoch 2/7\n",
            "160/160 [==============================] - 17s 103ms/step - loss: 0.7347 - accuracy: 0.7366 - val_loss: 0.7519 - val_accuracy: 0.7210\n",
            "Epoch 3/7\n",
            "160/160 [==============================] - 16s 103ms/step - loss: 0.6058 - accuracy: 0.7881 - val_loss: 0.7487 - val_accuracy: 0.7355\n",
            "Epoch 4/7\n",
            "160/160 [==============================] - 17s 104ms/step - loss: 0.5297 - accuracy: 0.8127 - val_loss: 0.7372 - val_accuracy: 0.7449\n",
            "Epoch 5/7\n",
            "160/160 [==============================] - 17s 103ms/step - loss: 0.4680 - accuracy: 0.8318 - val_loss: 0.7600 - val_accuracy: 0.7367\n",
            "Epoch 6/7\n",
            "160/160 [==============================] - 16s 102ms/step - loss: 0.4218 - accuracy: 0.8524 - val_loss: 0.7837 - val_accuracy: 0.7367\n",
            "Epoch 7/7\n",
            "160/160 [==============================] - 17s 103ms/step - loss: 0.3782 - accuracy: 0.8683 - val_loss: 0.8126 - val_accuracy: 0.7308\n",
            "80/80 [==============================] - 2s 20ms/step - loss: 0.8125 - accuracy: 0.7308\n"
          ],
          "name": "stdout"
        }
      ]
    },
    {
      "cell_type": "code",
      "metadata": {
        "id": "NG1BIwzVnBTt",
        "colab_type": "code",
        "colab": {
          "base_uri": "https://localhost:8080/",
          "height": 183
        },
        "outputId": "6a25f5a2-70e1-4401-b97a-8202136f10ef"
      },
      "source": [
        "# best simple GRU, learnt embeddings\n",
        "np.random.seed(42)\n",
        "random.seed(12345)\n",
        "session_conf = tf.compat.v1.ConfigProto(intra_op_parallelism_threads=1,\n",
        "                              inter_op_parallelism_threads=1)\n",
        "tf.compat.v1.set_random_seed(1234) \n",
        "model = Sequential() \n",
        "model.add(Embedding(dict_len + 1, output_dim=128, name=\"Embedding\"))  \n",
        "model.add(GRU(256, dropout=0.3, name=\"GRU\")) \n",
        "model.add(Dense(5, activation=\"softmax\"))  \n",
        "model.compile(loss='categorical_crossentropy', optimizer='RMSprop', metrics=['accuracy'])\n",
        "# Train the model\n",
        "model.fit(X_train, Y_train, validation_data = (X_test, Y_test), batch_size=64, epochs=4) \n",
        "model.evaluate(X_test, Y_test)"
      ],
      "execution_count": null,
      "outputs": [
        {
          "output_type": "stream",
          "text": [
            "Epoch 1/4\n",
            "160/160 [==============================] - 17s 104ms/step - loss: 1.1402 - accuracy: 0.5562 - val_loss: 0.8320 - val_accuracy: 0.6815\n",
            "Epoch 2/4\n",
            "160/160 [==============================] - 17s 103ms/step - loss: 0.7347 - accuracy: 0.7366 - val_loss: 0.7519 - val_accuracy: 0.7210\n",
            "Epoch 3/4\n",
            "160/160 [==============================] - 16s 103ms/step - loss: 0.6058 - accuracy: 0.7881 - val_loss: 0.7487 - val_accuracy: 0.7355\n",
            "Epoch 4/4\n",
            "160/160 [==============================] - 16s 103ms/step - loss: 0.5297 - accuracy: 0.8127 - val_loss: 0.7372 - val_accuracy: 0.7449\n",
            "80/80 [==============================] - 1s 19ms/step - loss: 0.7370 - accuracy: 0.7449\n"
          ],
          "name": "stdout"
        },
        {
          "output_type": "execute_result",
          "data": {
            "text/plain": [
              "[0.7370414137840271, 0.7449139356613159]"
            ]
          },
          "metadata": {
            "tags": []
          },
          "execution_count": 54
        }
      ]
    },
    {
      "cell_type": "code",
      "metadata": {
        "colab_type": "code",
        "id": "AI9EGOix0-wp",
        "colab": {
          "base_uri": "https://localhost:8080/",
          "height": 100
        },
        "outputId": "2dbe48cb-f64f-4da9-a54a-4c338713e956"
      },
      "source": [
        "# GRU(256)\n",
        "Y_test_pred = model.predict_classes(X_test)\n",
        "Y_test_df = pd.DataFrame(Y_test)\n",
        "Y_test_categ = Y_test_df.idxmax(axis=1)\n",
        "confusion_matrix(Y_test_categ,Y_test_pred)"
      ],
      "execution_count": null,
      "outputs": [
        {
          "output_type": "execute_result",
          "data": {
            "text/plain": [
              "array([[403,  91,  58,  14,  22],\n",
              "       [ 77, 459,  25,  22,   5],\n",
              "       [ 56,  26, 400,  38,  40],\n",
              "       [ 13,  29,  44, 402,  14],\n",
              "       [ 33,   2,  32,  11, 240]])"
            ]
          },
          "metadata": {
            "tags": []
          },
          "execution_count": 55
        }
      ]
    },
    {
      "cell_type": "code",
      "metadata": {
        "colab_type": "code",
        "id": "YOXbsb_q1QVF",
        "colab": {
          "base_uri": "https://localhost:8080/",
          "height": 100
        },
        "outputId": "c7ad16c3-a478-4fcf-f6f9-35444c7c3a39"
      },
      "source": [
        "# LSTM-128 RMSprop\n",
        "Y_test_pred = model2.predict_classes(X_test)\n",
        "Y_test_df = pd.DataFrame(Y_test)\n",
        "Y_test_categ = Y_test_df.idxmax(axis=1)\n",
        "confusion_matrix(Y_test_categ,Y_test_pred)"
      ],
      "execution_count": null,
      "outputs": [
        {
          "output_type": "execute_result",
          "data": {
            "text/plain": [
              "array([[374, 104,  67,  18,  25],\n",
              "       [ 70, 466,  20,  27,   5],\n",
              "       [ 47,  25, 405,  42,  41],\n",
              "       [  9,  28,  40, 410,  15],\n",
              "       [ 25,   1,  34,  11, 247]])"
            ]
          },
          "metadata": {
            "tags": []
          },
          "execution_count": 52
        }
      ]
    },
    {
      "cell_type": "markdown",
      "metadata": {
        "id": "xsJAeGR2b_T2",
        "colab_type": "text"
      },
      "source": [
        "## Models with and without GloVe\n",
        "\n",
        "Overall, accuracy with GloVe is smaller than without (keeping everything else constant and allowing GloVe embeddings to train)"
      ]
    },
    {
      "cell_type": "markdown",
      "metadata": {
        "id": "qkNtcy-2OgI1",
        "colab_type": "text"
      },
      "source": [
        "#### Getting GloVe data and matching it to our text.\n",
        "\n",
        "Due to technical difficulties, the file was uploaded manually from the local drive"
      ]
    },
    {
      "cell_type": "code",
      "metadata": {
        "id": "gJzWG2tIg71k",
        "colab_type": "code",
        "colab": {
          "base_uri": "https://localhost:8080/",
          "height": 50
        },
        "outputId": "bad05d10-d0ce-4f8b-c0e4-ab6e3b37c2b6"
      },
      "source": [
        "# From https://blog.keras.io/using-pre-trained-word-embeddings-in-a-keras-model.html \n",
        "embeddings_index = {}\n",
        "f = open('glove.6B.100d.txt')\n",
        "# f = open(os.path.join(GLOVE_DIR, 'glove.6B.100d.txt'))\n",
        "for line in f:\n",
        "    values = line.split()\n",
        "    word = values[0]\n",
        "    coefs = np.asarray(values[1:], dtype='float32')\n",
        "    embeddings_index[word] = coefs\n",
        "f.close()\n",
        "\n",
        "print('Found %s word vectors.' % len(embeddings_index))"
      ],
      "execution_count": null,
      "outputs": [
        {
          "output_type": "stream",
          "text": [
            "ERROR! Session/line number was not unique in database. History logging moved to new session 65\n",
            "Found 400000 word vectors.\n"
          ],
          "name": "stdout"
        }
      ]
    },
    {
      "cell_type": "code",
      "metadata": {
        "id": "ZgM5bakyd4Mw",
        "colab_type": "code",
        "colab": {
          "base_uri": "https://localhost:8080/",
          "height": 532
        },
        "outputId": "5f6cd9d0-b372-4a36-a769-94999466b47c"
      },
      "source": [
        "# Filter GloVE vectors to specific task \n",
        "def filter_glove(vocabulary_dict, glove_dict, wordvec_dim=100): \n",
        "  # Create a matrix to store the vectors \n",
        "  # 0 in vocabulary is reserved for padding    \n",
        "  embedding_matrix = np.zeros((len(vocabulary_dict) + 1, wordvec_dim)) \n",
        "  for word, i in vocabulary_dict.items():\n",
        "    embedding_vector = glove_dict.get(word) \n",
        "    if embedding_vector is not None:             \n",
        "      # words not found in the glove_dict will be all-zeros.             \n",
        "      embedding_matrix[i] = embedding_vector\n",
        "\n",
        "  return embedding_matrix\n",
        "\n",
        "emb_mat = filter_glove(vocabulary_dict=word_index, glove_dict=embeddings_index)\n",
        "print(emb_mat[:10])\n",
        "plt.plot(emb_mat.sum(axis=1))\n",
        "plt.show()\n",
        "plt.hist(emb_mat.sum(axis=1))\n",
        "plt.show()\n",
        "(emb_mat.sum(axis=1)==0).sum()"
      ],
      "execution_count": null,
      "outputs": [
        {
          "output_type": "display_data",
          "data": {
            "image/png": "[encoded data removed]",
            "text/plain": [
              "<Figure size 432x288 with 1 Axes>"
            ]
          },
          "metadata": {
            "tags": []
          }
        },
        {
          "output_type": "display_data",
          "data": {
            "image/png": "[encoded data removed]",
            "text/plain": [
              "<Figure size 432x288 with 1 Axes>"
            ]
          },
          "metadata": {
            "tags": []
          }
        },
        {
          "output_type": "execute_result",
          "data": {
            "text/plain": [
              "1432"
            ]
          },
          "metadata": {
            "tags": []
          },
          "execution_count": 121
        }
      ]
    },
    {
      "cell_type": "markdown",
      "metadata": {
        "id": "EcRYW3dnPglW",
        "colab_type": "text"
      },
      "source": [
        "#### Trying multi-layer models with different components\n",
        "\n",
        "With GloVe, somewhat better accuracy, but does not beat simple models above.\n",
        "\n",
        "Smaller model (64 hidden units everywhere, 4 epochs) - 0.7269\n",
        "\n",
        "Larger model (128 hidden units everywhere, 4 epochs) - 0.7300\n",
        "\n",
        "With Glove, smaller (64 hu everywhere, 9 epochs) - 0.7363\n",
        "\n",
        "With Glove, larger (128 hu everywhere, 11 epochs) - 0.7320 \n"
      ]
    },
    {
      "cell_type": "code",
      "metadata": {
        "id": "ihNpZP_nY2S0",
        "colab_type": "code",
        "colab": {
          "base_uri": "https://localhost:8080/",
          "height": 383
        },
        "outputId": "59f1c5c0-ef6f-400a-aecd-9f8b503dd1e1"
      },
      "source": [
        "np.random.seed(42)\n",
        "random.seed(12345)\n",
        "session_conf = tf.compat.v1.ConfigProto(intra_op_parallelism_threads=1,\n",
        "                              inter_op_parallelism_threads=1)\n",
        "tf.compat.v1.set_random_seed(1234) \n",
        "model = Sequential() \n",
        "model.add(Embedding(dict_len + 1, output_dim=128)) \n",
        "model.add(Dense(128, activation='relu', name=\"Dense1\")) \n",
        "model.add(Dropout(rate=0.25)) \n",
        "model.add(LSTM(64, return_sequences=True, dropout=0.15, name=\"LSTM\")) \n",
        "model.add(GRU(64, return_sequences=False, dropout=0.15, name=\"GRU\")) \n",
        "model.add(Dense(64, name=\"Dense2\")) \n",
        "model.add(Dropout(rate=0.25)) \n",
        "model.add(Dense(32, name=\"Dense3\")) \n",
        "model.add(Dense(5, activation=\"softmax\"))  \n",
        "model.compile(loss='categorical_crossentropy', optimizer='RMSprop', metrics=['accuracy'])\n",
        "# Train the model\n",
        "model.fit(X_train, Y_train, validation_data = (X_test, Y_test), batch_size=64, epochs=10) \n",
        "model.evaluate(X_test, Y_test)"
      ],
      "execution_count": null,
      "outputs": [
        {
          "output_type": "stream",
          "text": [
            "Epoch 1/10\n",
            "160/160 [==============================] - 9s 57ms/step - loss: 1.2399 - accuracy: 0.4771 - val_loss: 0.9397 - val_accuracy: 0.6416\n",
            "Epoch 2/10\n",
            "160/160 [==============================] - 9s 53ms/step - loss: 0.7857 - accuracy: 0.7154 - val_loss: 0.7758 - val_accuracy: 0.7250\n",
            "Epoch 3/10\n",
            "160/160 [==============================] - 8s 52ms/step - loss: 0.6039 - accuracy: 0.7896 - val_loss: 0.7769 - val_accuracy: 0.7218\n",
            "Epoch 4/10\n",
            "160/160 [==============================] - 8s 51ms/step - loss: 0.5088 - accuracy: 0.8217 - val_loss: 0.7927 - val_accuracy: 0.7269\n",
            "Epoch 5/10\n",
            "160/160 [==============================] - 8s 53ms/step - loss: 0.4314 - accuracy: 0.8519 - val_loss: 0.8006 - val_accuracy: 0.7230\n",
            "Epoch 6/10\n",
            "160/160 [==============================] - 8s 52ms/step - loss: 0.3755 - accuracy: 0.8725 - val_loss: 0.8606 - val_accuracy: 0.7136\n",
            "Epoch 7/10\n",
            "160/160 [==============================] - 8s 51ms/step - loss: 0.3348 - accuracy: 0.8850 - val_loss: 0.9206 - val_accuracy: 0.7097\n",
            "Epoch 8/10\n",
            "160/160 [==============================] - 8s 53ms/step - loss: 0.2981 - accuracy: 0.8965 - val_loss: 1.0497 - val_accuracy: 0.6984\n",
            "Epoch 9/10\n",
            "160/160 [==============================] - 8s 52ms/step - loss: 0.2664 - accuracy: 0.9084 - val_loss: 1.0032 - val_accuracy: 0.7062\n",
            "Epoch 10/10\n",
            "160/160 [==============================] - 8s 52ms/step - loss: 0.2520 - accuracy: 0.9172 - val_loss: 1.0635 - val_accuracy: 0.6933\n",
            "80/80 [==============================] - 1s 8ms/step - loss: 1.0634 - accuracy: 0.6933\n"
          ],
          "name": "stdout"
        },
        {
          "output_type": "execute_result",
          "data": {
            "text/plain": [
              "[1.0634212493896484, 0.693270742893219]"
            ]
          },
          "metadata": {
            "tags": []
          },
          "execution_count": 29
        }
      ]
    },
    {
      "cell_type": "code",
      "metadata": {
        "id": "_anCEnB_bmMw",
        "colab_type": "code",
        "colab": {
          "base_uri": "https://localhost:8080/",
          "height": 383
        },
        "outputId": "4b095e31-f9bf-4f25-cbdb-33f8541ae7d2"
      },
      "source": [
        "np.random.seed(42)\n",
        "random.seed(12345)\n",
        "session_conf = tf.compat.v1.ConfigProto(intra_op_parallelism_threads=1,\n",
        "                              inter_op_parallelism_threads=1)\n",
        "tf.compat.v1.set_random_seed(1234) \n",
        "model = Sequential() \n",
        "model.add(Embedding(dict_len + 1, output_dim=128)) \n",
        "model.add(Dense(128, activation='relu', name=\"Dense1\")) \n",
        "model.add(Dropout(rate=0.25)) \n",
        "model.add(LSTM(128, return_sequences=True, dropout=0.15, name=\"LSTM\")) \n",
        "model.add(GRU(128, return_sequences=False, dropout=0.15, name=\"GRU\")) \n",
        "model.add(Dense(64, name=\"Dense2\")) \n",
        "model.add(Dropout(rate=0.25)) \n",
        "model.add(Dense(32, name=\"Dense3\")) \n",
        "model.add(Dense(5, activation=\"softmax\"))  \n",
        "model.compile(loss='categorical_crossentropy', optimizer='RMSprop', metrics=['accuracy'])\n",
        "# Train the model\n",
        "model.fit(X_train, Y_train, validation_data = (X_test, Y_test), batch_size=64, epochs=10) \n",
        "model.evaluate(X_test, Y_test)"
      ],
      "execution_count": null,
      "outputs": [
        {
          "output_type": "stream",
          "text": [
            "Epoch 1/10\n",
            "160/160 [==============================] - 18s 112ms/step - loss: 1.1814 - accuracy: 0.5187 - val_loss: 0.8764 - val_accuracy: 0.6909\n",
            "Epoch 2/10\n",
            "160/160 [==============================] - 17s 109ms/step - loss: 0.7437 - accuracy: 0.7366 - val_loss: 0.7643 - val_accuracy: 0.7187\n",
            "Epoch 3/10\n",
            "160/160 [==============================] - 17s 109ms/step - loss: 0.5937 - accuracy: 0.7962 - val_loss: 0.7642 - val_accuracy: 0.7210\n",
            "Epoch 4/10\n",
            "160/160 [==============================] - 17s 107ms/step - loss: 0.5015 - accuracy: 0.8265 - val_loss: 0.8001 - val_accuracy: 0.7300\n",
            "Epoch 5/10\n",
            "160/160 [==============================] - 18s 110ms/step - loss: 0.4300 - accuracy: 0.8500 - val_loss: 0.8042 - val_accuracy: 0.7261\n",
            "Epoch 6/10\n",
            "160/160 [==============================] - 17s 108ms/step - loss: 0.3736 - accuracy: 0.8682 - val_loss: 0.8351 - val_accuracy: 0.7210\n",
            "Epoch 7/10\n",
            "160/160 [==============================] - 18s 110ms/step - loss: 0.3293 - accuracy: 0.8858 - val_loss: 0.9160 - val_accuracy: 0.7164\n",
            "Epoch 8/10\n",
            "160/160 [==============================] - 18s 110ms/step - loss: 0.3004 - accuracy: 0.8991 - val_loss: 1.0306 - val_accuracy: 0.6980\n",
            "Epoch 9/10\n",
            "160/160 [==============================] - 17s 109ms/step - loss: 0.2675 - accuracy: 0.9112 - val_loss: 1.0087 - val_accuracy: 0.7031\n",
            "Epoch 10/10\n",
            "160/160 [==============================] - 18s 109ms/step - loss: 0.2465 - accuracy: 0.9186 - val_loss: 1.0573 - val_accuracy: 0.6894\n",
            "80/80 [==============================] - 1s 14ms/step - loss: 1.0571 - accuracy: 0.6894\n"
          ],
          "name": "stdout"
        },
        {
          "output_type": "execute_result",
          "data": {
            "text/plain": [
              "[1.057132601737976, 0.6893583536148071]"
            ]
          },
          "metadata": {
            "tags": []
          },
          "execution_count": 30
        }
      ]
    },
    {
      "cell_type": "code",
      "metadata": {
        "id": "89NxM_chbSTq",
        "colab_type": "code",
        "colab": {
          "base_uri": "https://localhost:8080/",
          "height": 717
        },
        "outputId": "c7729f0d-07f1-4539-8a2d-126a5479f693"
      },
      "source": [
        "# from DataCamp example, using pre-trained gloVe embeddings\n",
        "np.random.seed(42)\n",
        "random.seed(12345)\n",
        "session_conf = tf.compat.v1.ConfigProto(intra_op_parallelism_threads=1,\n",
        "                              inter_op_parallelism_threads=1)\n",
        "tf.compat.v1.set_random_seed(1234) \n",
        "model = Sequential() \n",
        "model.add(Embedding(dict_len + 1, output_dim=100, trainable=True,                       \n",
        "                    embeddings_initializer=Constant(emb_mat),                       \n",
        "                    input_length=20, name=\"Embedding\"))  \n",
        "model.add(Dense(128, activation='relu', name=\"Dense1\")) \n",
        "model.add(Dropout(rate=0.25)) \n",
        "model.add(LSTM(64, return_sequences=True, dropout=0.15, name=\"LSTM\")) \n",
        "model.add(GRU(64, return_sequences=False, dropout=0.15, name=\"GRU\")) \n",
        "model.add(Dense(64, name=\"Dense2\")) \n",
        "model.add(Dropout(rate=0.25)) \n",
        "model.add(Dense(32, name=\"Dense3\")) \n",
        "model.add(Dense(5, activation=\"softmax\"))  \n",
        "model.compile(loss='categorical_crossentropy', optimizer='RMSprop', metrics=['accuracy'])\n",
        "# Train the model\n",
        "model.fit(X_train, Y_train, validation_data = (X_test, Y_test), batch_size=64, epochs=20) \n",
        "model.evaluate(X_test, Y_test)"
      ],
      "execution_count": null,
      "outputs": [
        {
          "output_type": "stream",
          "text": [
            "Epoch 1/20\n",
            "160/160 [==============================] - 8s 52ms/step - loss: 1.2301 - accuracy: 0.4977 - val_loss: 0.9351 - val_accuracy: 0.6408\n",
            "Epoch 2/20\n",
            "160/160 [==============================] - 8s 48ms/step - loss: 0.9486 - accuracy: 0.6433 - val_loss: 0.8585 - val_accuracy: 0.6729\n",
            "Epoch 3/20\n",
            "160/160 [==============================] - 8s 48ms/step - loss: 0.8423 - accuracy: 0.6876 - val_loss: 0.7844 - val_accuracy: 0.7074\n",
            "Epoch 4/20\n",
            "160/160 [==============================] - 8s 48ms/step - loss: 0.7644 - accuracy: 0.7189 - val_loss: 0.7624 - val_accuracy: 0.7160\n",
            "Epoch 5/20\n",
            "160/160 [==============================] - 8s 49ms/step - loss: 0.7044 - accuracy: 0.7452 - val_loss: 0.7536 - val_accuracy: 0.7113\n",
            "Epoch 6/20\n",
            "160/160 [==============================] - 8s 49ms/step - loss: 0.6542 - accuracy: 0.7622 - val_loss: 0.7394 - val_accuracy: 0.7289\n",
            "Epoch 7/20\n",
            "160/160 [==============================] - 8s 48ms/step - loss: 0.6081 - accuracy: 0.7829 - val_loss: 0.7714 - val_accuracy: 0.7214\n",
            "Epoch 8/20\n",
            "160/160 [==============================] - 8s 49ms/step - loss: 0.5773 - accuracy: 0.7936 - val_loss: 0.7494 - val_accuracy: 0.7300\n",
            "Epoch 9/20\n",
            "160/160 [==============================] - 8s 50ms/step - loss: 0.5433 - accuracy: 0.8074 - val_loss: 0.7338 - val_accuracy: 0.7363\n",
            "Epoch 10/20\n",
            "160/160 [==============================] - 8s 51ms/step - loss: 0.5093 - accuracy: 0.8193 - val_loss: 0.7571 - val_accuracy: 0.7289\n",
            "Epoch 11/20\n",
            "160/160 [==============================] - 8s 50ms/step - loss: 0.4769 - accuracy: 0.8278 - val_loss: 0.7562 - val_accuracy: 0.7355\n",
            "Epoch 12/20\n",
            "160/160 [==============================] - 8s 51ms/step - loss: 0.4415 - accuracy: 0.8436 - val_loss: 0.8507 - val_accuracy: 0.7175\n",
            "Epoch 13/20\n",
            "160/160 [==============================] - 8s 50ms/step - loss: 0.4249 - accuracy: 0.8496 - val_loss: 0.8198 - val_accuracy: 0.7285\n",
            "Epoch 14/20\n",
            "160/160 [==============================] - 8s 50ms/step - loss: 0.3906 - accuracy: 0.8616 - val_loss: 0.8705 - val_accuracy: 0.7269\n",
            "Epoch 15/20\n",
            "160/160 [==============================] - 8s 50ms/step - loss: 0.3677 - accuracy: 0.8716 - val_loss: 0.8710 - val_accuracy: 0.7242\n",
            "Epoch 16/20\n",
            "160/160 [==============================] - 8s 50ms/step - loss: 0.3494 - accuracy: 0.8784 - val_loss: 0.8978 - val_accuracy: 0.7164\n",
            "Epoch 17/20\n",
            "160/160 [==============================] - 8s 50ms/step - loss: 0.3313 - accuracy: 0.8853 - val_loss: 0.8746 - val_accuracy: 0.7234\n",
            "Epoch 18/20\n",
            "160/160 [==============================] - 8s 49ms/step - loss: 0.3114 - accuracy: 0.8903 - val_loss: 0.9238 - val_accuracy: 0.7191\n",
            "Epoch 19/20\n",
            "160/160 [==============================] - 8s 49ms/step - loss: 0.2891 - accuracy: 0.9004 - val_loss: 0.9649 - val_accuracy: 0.7148\n",
            "Epoch 20/20\n",
            "160/160 [==============================] - 8s 50ms/step - loss: 0.2784 - accuracy: 0.9016 - val_loss: 0.9917 - val_accuracy: 0.7140\n",
            "80/80 [==============================] - 1s 8ms/step - loss: 0.9913 - accuracy: 0.7140\n"
          ],
          "name": "stdout"
        },
        {
          "output_type": "execute_result",
          "data": {
            "text/plain": [
              "[0.9912737607955933, 0.714006245136261]"
            ]
          },
          "metadata": {
            "tags": []
          },
          "execution_count": 114
        }
      ]
    },
    {
      "cell_type": "code",
      "metadata": {
        "id": "UM2xBwVr41tG",
        "colab_type": "code",
        "colab": {
          "base_uri": "https://localhost:8080/",
          "height": 717
        },
        "outputId": "b1c61b76-6553-420a-bffb-6144aeb7f4d0"
      },
      "source": [
        "# from DataCamp example, using pre-trained gloVe embeddings\n",
        "np.random.seed(42)\n",
        "random.seed(12345)\n",
        "session_conf = tf.compat.v1.ConfigProto(intra_op_parallelism_threads=1,\n",
        "                              inter_op_parallelism_threads=1)\n",
        "tf.compat.v1.set_random_seed(1234) \n",
        "model = Sequential() \n",
        "model.add(Embedding(dict_len + 1, output_dim=100, trainable=True,                       \n",
        "                    embeddings_initializer=Constant(emb_mat),                       \n",
        "                    input_length=20, name=\"Embedding\"))  \n",
        "model.add(Dense(128, activation='relu', name=\"Dense1\")) \n",
        "model.add(Dropout(rate=0.25)) \n",
        "model.add(LSTM(128, return_sequences=True, dropout=0.15, name=\"LSTM\")) \n",
        "model.add(GRU(128, return_sequences=False, dropout=0.15, name=\"GRU\")) \n",
        "model.add(Dense(128, name=\"Dense2\")) \n",
        "model.add(Dropout(rate=0.25)) \n",
        "model.add(Dense(32, name=\"Dense3\")) \n",
        "model.add(Dense(5, activation=\"softmax\"))  \n",
        "model.compile(loss='categorical_crossentropy', optimizer='RMSprop', metrics=['accuracy'])\n",
        "# Train the model\n",
        "model.fit(X_train, Y_train, validation_data = (X_test, Y_test), batch_size=64, epochs=20) \n",
        "model.evaluate(X_test, Y_test)"
      ],
      "execution_count": null,
      "outputs": [
        {
          "output_type": "stream",
          "text": [
            "Epoch 1/20\n",
            "160/160 [==============================] - 17s 107ms/step - loss: 1.2195 - accuracy: 0.5045 - val_loss: 0.9517 - val_accuracy: 0.6405\n",
            "Epoch 2/20\n",
            "160/160 [==============================] - 16s 99ms/step - loss: 0.9421 - accuracy: 0.6448 - val_loss: 0.8833 - val_accuracy: 0.6604\n",
            "Epoch 3/20\n",
            "160/160 [==============================] - 15s 96ms/step - loss: 0.8357 - accuracy: 0.6953 - val_loss: 0.7923 - val_accuracy: 0.7031\n",
            "Epoch 4/20\n",
            "160/160 [==============================] - 16s 97ms/step - loss: 0.7544 - accuracy: 0.7211 - val_loss: 0.7680 - val_accuracy: 0.7113\n",
            "Epoch 5/20\n",
            "160/160 [==============================] - 15s 96ms/step - loss: 0.6988 - accuracy: 0.7422 - val_loss: 0.7669 - val_accuracy: 0.7128\n",
            "Epoch 6/20\n",
            "160/160 [==============================] - 15s 96ms/step - loss: 0.6478 - accuracy: 0.7670 - val_loss: 0.7463 - val_accuracy: 0.7293\n",
            "Epoch 7/20\n",
            "160/160 [==============================] - 15s 96ms/step - loss: 0.6013 - accuracy: 0.7810 - val_loss: 0.8149 - val_accuracy: 0.7007\n",
            "Epoch 8/20\n",
            "160/160 [==============================] - 15s 94ms/step - loss: 0.5657 - accuracy: 0.7956 - val_loss: 0.7873 - val_accuracy: 0.7230\n",
            "Epoch 9/20\n",
            "160/160 [==============================] - 15s 92ms/step - loss: 0.5320 - accuracy: 0.8108 - val_loss: 0.7638 - val_accuracy: 0.7265\n",
            "Epoch 10/20\n",
            "160/160 [==============================] - 15s 94ms/step - loss: 0.4943 - accuracy: 0.8231 - val_loss: 0.7639 - val_accuracy: 0.7293\n",
            "Epoch 11/20\n",
            "160/160 [==============================] - 15s 92ms/step - loss: 0.4632 - accuracy: 0.8362 - val_loss: 0.7986 - val_accuracy: 0.7320\n",
            "Epoch 12/20\n",
            "160/160 [==============================] - 15s 93ms/step - loss: 0.4321 - accuracy: 0.8428 - val_loss: 0.8935 - val_accuracy: 0.7054\n",
            "Epoch 13/20\n",
            "160/160 [==============================] - 15s 92ms/step - loss: 0.3983 - accuracy: 0.8585 - val_loss: 0.8716 - val_accuracy: 0.7164\n",
            "Epoch 14/20\n",
            "160/160 [==============================] - 15s 93ms/step - loss: 0.3791 - accuracy: 0.8647 - val_loss: 0.8692 - val_accuracy: 0.7254\n",
            "Epoch 15/20\n",
            "160/160 [==============================] - 15s 93ms/step - loss: 0.3486 - accuracy: 0.8793 - val_loss: 0.9290 - val_accuracy: 0.7199\n",
            "Epoch 16/20\n",
            "160/160 [==============================] - 16s 102ms/step - loss: 0.3273 - accuracy: 0.8859 - val_loss: 0.9422 - val_accuracy: 0.7148\n",
            "Epoch 17/20\n",
            "160/160 [==============================] - 15s 92ms/step - loss: 0.3039 - accuracy: 0.8927 - val_loss: 0.9343 - val_accuracy: 0.7085\n",
            "Epoch 18/20\n",
            "160/160 [==============================] - 15s 94ms/step - loss: 0.2855 - accuracy: 0.8958 - val_loss: 0.9967 - val_accuracy: 0.7089\n",
            "Epoch 19/20\n",
            "160/160 [==============================] - 15s 91ms/step - loss: 0.2649 - accuracy: 0.9045 - val_loss: 1.0660 - val_accuracy: 0.7019\n",
            "Epoch 20/20\n",
            "160/160 [==============================] - 15s 94ms/step - loss: 0.2522 - accuracy: 0.9098 - val_loss: 1.0540 - val_accuracy: 0.7171\n",
            "80/80 [==============================] - 1s 11ms/step - loss: 1.0538 - accuracy: 0.7171\n"
          ],
          "name": "stdout"
        },
        {
          "output_type": "execute_result",
          "data": {
            "text/plain": [
              "[1.0538235902786255, 0.7171361446380615]"
            ]
          },
          "metadata": {
            "tags": []
          },
          "execution_count": 123
        }
      ]
    },
    {
      "cell_type": "markdown",
      "metadata": {
        "id": "k6b9mzn2Rf8u",
        "colab_type": "text"
      },
      "source": [
        "#### Best simple LSTM (emb.dim changed from 128 to 100)\n",
        "\n",
        "with GloVe, results are worse and the model converges longer.\n",
        "\n",
        "No GloVe, RMSprop = 0.7437, 4 epoch\n",
        "\n",
        "No GloVe, Adam = 0.7387, 2 epoch\n",
        "\n",
        "GloVe, RMSprop = 0.7371, 11 epoch\n",
        "\n",
        "GloVe, Adam = 0.7359, 8 epoch"
      ]
    },
    {
      "cell_type": "code",
      "metadata": {
        "id": "usFo40fsNZ8D",
        "colab_type": "code",
        "colab": {
          "base_uri": "https://localhost:8080/",
          "height": 383
        },
        "outputId": "4349e3b2-feeb-40e5-ae13-b3b4670b3e6d"
      },
      "source": [
        "# best simple LSTM - RMSprop\n",
        "np.random.seed(42)\n",
        "random.seed(12345)\n",
        "session_conf = tf.compat.v1.ConfigProto(intra_op_parallelism_threads=1,\n",
        "                              inter_op_parallelism_threads=1)\n",
        "tf.compat.v1.set_random_seed(1234) \n",
        "model = Sequential() \n",
        "model.add(Embedding(dict_len + 1, output_dim=100, name=\"Embedding\"))  \n",
        "model.add(LSTM(128, dropout=0.2, name=\"LSTM\")) \n",
        "model.add(Dense(5, activation=\"softmax\"))  \n",
        "model.compile(loss='categorical_crossentropy', optimizer='RMSprop', metrics=['accuracy'])\n",
        "# Train the model\n",
        "model.fit(X_train, Y_train, validation_data = (X_test, Y_test), batch_size=64, epochs=10) \n",
        "model.evaluate(X_test, Y_test)"
      ],
      "execution_count": null,
      "outputs": [
        {
          "output_type": "stream",
          "text": [
            "Epoch 1/10\n",
            "160/160 [==============================] - 10s 60ms/step - loss: 1.2520 - accuracy: 0.5018 - val_loss: 0.9268 - val_accuracy: 0.6628\n",
            "Epoch 2/10\n",
            "160/160 [==============================] - 9s 57ms/step - loss: 0.7785 - accuracy: 0.7230 - val_loss: 0.7708 - val_accuracy: 0.7140\n",
            "Epoch 3/10\n",
            "160/160 [==============================] - 9s 58ms/step - loss: 0.6255 - accuracy: 0.7802 - val_loss: 0.7451 - val_accuracy: 0.7383\n",
            "Epoch 4/10\n",
            "160/160 [==============================] - 9s 58ms/step - loss: 0.5406 - accuracy: 0.8105 - val_loss: 0.7363 - val_accuracy: 0.7437\n",
            "Epoch 5/10\n",
            "160/160 [==============================] - 9s 57ms/step - loss: 0.4800 - accuracy: 0.8313 - val_loss: 0.7340 - val_accuracy: 0.7430\n",
            "Epoch 6/10\n",
            "160/160 [==============================] - 9s 57ms/step - loss: 0.4314 - accuracy: 0.8508 - val_loss: 0.7621 - val_accuracy: 0.7336\n",
            "Epoch 7/10\n",
            "160/160 [==============================] - 9s 57ms/step - loss: 0.3910 - accuracy: 0.8641 - val_loss: 0.7969 - val_accuracy: 0.7312\n",
            "Epoch 8/10\n",
            "160/160 [==============================] - 9s 57ms/step - loss: 0.3556 - accuracy: 0.8751 - val_loss: 0.8115 - val_accuracy: 0.7324\n",
            "Epoch 9/10\n",
            "160/160 [==============================] - 9s 57ms/step - loss: 0.3226 - accuracy: 0.8868 - val_loss: 0.8127 - val_accuracy: 0.7203\n",
            "Epoch 10/10\n",
            "160/160 [==============================] - 9s 57ms/step - loss: 0.2974 - accuracy: 0.8969 - val_loss: 0.8795 - val_accuracy: 0.7140\n",
            "80/80 [==============================] - 1s 8ms/step - loss: 0.8795 - accuracy: 0.7140\n"
          ],
          "name": "stdout"
        },
        {
          "output_type": "execute_result",
          "data": {
            "text/plain": [
              "[0.8794649839401245, 0.714006245136261]"
            ]
          },
          "metadata": {
            "tags": []
          },
          "execution_count": 28
        }
      ]
    },
    {
      "cell_type": "code",
      "metadata": {
        "id": "kusg_yciFIcE",
        "colab_type": "code",
        "colab": {
          "base_uri": "https://localhost:8080/",
          "height": 717
        },
        "outputId": "8dacfeba-974e-4866-8850-311b52c60ae7"
      },
      "source": [
        "# best simple LSTM, using pre-trained gloVe embeddings - RMSprop\n",
        "np.random.seed(42)\n",
        "random.seed(12345)\n",
        "session_conf = tf.compat.v1.ConfigProto(intra_op_parallelism_threads=1,\n",
        "                              inter_op_parallelism_threads=1)\n",
        "tf.compat.v1.set_random_seed(1234) \n",
        "model = Sequential() \n",
        "model.add(Embedding(dict_len + 1, output_dim=100, trainable=True,                       \n",
        "                    embeddings_initializer=Constant(emb_mat),                       \n",
        "                    input_length=20, name=\"Embedding\"))  \n",
        "model.add(LSTM(128, dropout=0.2, name=\"LSTM\")) \n",
        "model.add(Dense(5, activation=\"softmax\"))  \n",
        "model.compile(loss='categorical_crossentropy', optimizer='RMSprop', metrics=['accuracy'])\n",
        "# Train the model\n",
        "model.fit(X_train, Y_train, validation_data = (X_test, Y_test), batch_size=64, epochs=20) \n",
        "model.evaluate(X_test, Y_test)"
      ],
      "execution_count": null,
      "outputs": [
        {
          "output_type": "stream",
          "text": [
            "Epoch 1/20\n",
            "160/160 [==============================] - 8s 53ms/step - loss: 1.1676 - accuracy: 0.5338 - val_loss: 0.9576 - val_accuracy: 0.6412\n",
            "Epoch 2/20\n",
            "160/160 [==============================] - 8s 50ms/step - loss: 0.9285 - accuracy: 0.6498 - val_loss: 0.8785 - val_accuracy: 0.6729\n",
            "Epoch 3/20\n",
            "160/160 [==============================] - 8s 51ms/step - loss: 0.8227 - accuracy: 0.6894 - val_loss: 0.8080 - val_accuracy: 0.6952\n",
            "Epoch 4/20\n",
            "160/160 [==============================] - 8s 50ms/step - loss: 0.7499 - accuracy: 0.7180 - val_loss: 0.7703 - val_accuracy: 0.7121\n",
            "Epoch 5/20\n",
            "160/160 [==============================] - 8s 49ms/step - loss: 0.6889 - accuracy: 0.7418 - val_loss: 0.7500 - val_accuracy: 0.7199\n",
            "Epoch 6/20\n",
            "160/160 [==============================] - 8s 49ms/step - loss: 0.6421 - accuracy: 0.7611 - val_loss: 0.7392 - val_accuracy: 0.7218\n",
            "Epoch 7/20\n",
            "160/160 [==============================] - 8s 49ms/step - loss: 0.5968 - accuracy: 0.7786 - val_loss: 0.7649 - val_accuracy: 0.7242\n",
            "Epoch 8/20\n",
            "160/160 [==============================] - 8s 50ms/step - loss: 0.5550 - accuracy: 0.8016 - val_loss: 0.7528 - val_accuracy: 0.7324\n",
            "Epoch 9/20\n",
            "160/160 [==============================] - 8s 50ms/step - loss: 0.5162 - accuracy: 0.8117 - val_loss: 0.7345 - val_accuracy: 0.7336\n",
            "Epoch 10/20\n",
            "160/160 [==============================] - 8s 49ms/step - loss: 0.4820 - accuracy: 0.8250 - val_loss: 0.7535 - val_accuracy: 0.7336\n",
            "Epoch 11/20\n",
            "160/160 [==============================] - 8s 49ms/step - loss: 0.4392 - accuracy: 0.8453 - val_loss: 0.7723 - val_accuracy: 0.7371\n",
            "Epoch 12/20\n",
            "160/160 [==============================] - 8s 49ms/step - loss: 0.4072 - accuracy: 0.8519 - val_loss: 0.7881 - val_accuracy: 0.7359\n",
            "Epoch 13/20\n",
            "160/160 [==============================] - 8s 49ms/step - loss: 0.3703 - accuracy: 0.8658 - val_loss: 0.8131 - val_accuracy: 0.7316\n",
            "Epoch 14/20\n",
            "160/160 [==============================] - 8s 52ms/step - loss: 0.3491 - accuracy: 0.8740 - val_loss: 0.8229 - val_accuracy: 0.7293\n",
            "Epoch 15/20\n",
            "160/160 [==============================] - 8s 50ms/step - loss: 0.3122 - accuracy: 0.8885 - val_loss: 0.8439 - val_accuracy: 0.7355\n",
            "Epoch 16/20\n",
            "160/160 [==============================] - 8s 49ms/step - loss: 0.2895 - accuracy: 0.8968 - val_loss: 0.8677 - val_accuracy: 0.7312\n",
            "Epoch 17/20\n",
            "160/160 [==============================] - 8s 48ms/step - loss: 0.2624 - accuracy: 0.9073 - val_loss: 0.8841 - val_accuracy: 0.7222\n",
            "Epoch 18/20\n",
            "160/160 [==============================] - 8s 49ms/step - loss: 0.2433 - accuracy: 0.9142 - val_loss: 0.9354 - val_accuracy: 0.7203\n",
            "Epoch 19/20\n",
            "160/160 [==============================] - 8s 48ms/step - loss: 0.2143 - accuracy: 0.9272 - val_loss: 0.9321 - val_accuracy: 0.7230\n",
            "Epoch 20/20\n",
            "160/160 [==============================] - 8s 48ms/step - loss: 0.1938 - accuracy: 0.9332 - val_loss: 0.9933 - val_accuracy: 0.7230\n",
            "80/80 [==============================] - 1s 6ms/step - loss: 0.9929 - accuracy: 0.7230\n"
          ],
          "name": "stdout"
        },
        {
          "output_type": "execute_result",
          "data": {
            "text/plain": [
              "[0.9929080009460449, 0.7230046987533569]"
            ]
          },
          "metadata": {
            "tags": []
          },
          "execution_count": 125
        }
      ]
    },
    {
      "cell_type": "markdown",
      "metadata": {
        "id": "XrrhQHUSNdrs",
        "colab_type": "text"
      },
      "source": [
        "#### Best simple GRU (128 emb.dim changed to 100, GRU 256 + drop 0.3)\n",
        "\n",
        "No GloVe = 0.7394, 4 epoch\n",
        "\n",
        "No GloVe, with emb=128 (above) = 0.7449, 4 epoch\n",
        "\n",
        "GloVe = 0.7324, 9 epoch"
      ]
    },
    {
      "cell_type": "code",
      "metadata": {
        "id": "y-l_VpsyTnna",
        "colab_type": "code",
        "colab": {
          "base_uri": "https://localhost:8080/",
          "height": 383
        },
        "outputId": "e8be5225-65db-476d-f8a3-2b567f94727a"
      },
      "source": [
        "# best simple GRU, no GloVe\n",
        "np.random.seed(42)\n",
        "random.seed(12345)\n",
        "session_conf = tf.compat.v1.ConfigProto(intra_op_parallelism_threads=1,\n",
        "                              inter_op_parallelism_threads=1)\n",
        "tf.compat.v1.set_random_seed(1234) \n",
        "model = Sequential() \n",
        "model.add(Embedding(dict_len + 1, output_dim=100, name=\"Embedding\"))  \n",
        "model.add(GRU(256, dropout=0.3, name=\"GRU\")) \n",
        "model.add(Dense(5, activation=\"softmax\"))  \n",
        "model.compile(loss='categorical_crossentropy', optimizer='RMSprop', metrics=['accuracy'])\n",
        "# Train the model\n",
        "model.fit(X_train, Y_train, validation_data = (X_test, Y_test), batch_size=64, epochs=10) \n",
        "model.evaluate(X_test, Y_test)"
      ],
      "execution_count": null,
      "outputs": [
        {
          "output_type": "stream",
          "text": [
            "Epoch 1/10\n",
            "160/160 [==============================] - 16s 99ms/step - loss: 1.1915 - accuracy: 0.5300 - val_loss: 0.8594 - val_accuracy: 0.6858\n",
            "Epoch 2/10\n",
            "160/160 [==============================] - 15s 97ms/step - loss: 0.7509 - accuracy: 0.7357 - val_loss: 0.7548 - val_accuracy: 0.7238\n",
            "Epoch 3/10\n",
            "160/160 [==============================] - 16s 97ms/step - loss: 0.6149 - accuracy: 0.7855 - val_loss: 0.7388 - val_accuracy: 0.7371\n",
            "Epoch 4/10\n",
            "160/160 [==============================] - 15s 96ms/step - loss: 0.5363 - accuracy: 0.8123 - val_loss: 0.7342 - val_accuracy: 0.7394\n",
            "Epoch 5/10\n",
            "160/160 [==============================] - 16s 98ms/step - loss: 0.4830 - accuracy: 0.8277 - val_loss: 0.7527 - val_accuracy: 0.7344\n",
            "Epoch 6/10\n",
            "160/160 [==============================] - 16s 97ms/step - loss: 0.4335 - accuracy: 0.8462 - val_loss: 0.7761 - val_accuracy: 0.7312\n",
            "Epoch 7/10\n",
            "160/160 [==============================] - 16s 97ms/step - loss: 0.3904 - accuracy: 0.8654 - val_loss: 0.8043 - val_accuracy: 0.7367\n",
            "Epoch 8/10\n",
            "160/160 [==============================] - 16s 98ms/step - loss: 0.3519 - accuracy: 0.8750 - val_loss: 0.9046 - val_accuracy: 0.7191\n",
            "Epoch 9/10\n",
            "160/160 [==============================] - 15s 96ms/step - loss: 0.3175 - accuracy: 0.8880 - val_loss: 0.8650 - val_accuracy: 0.7281\n",
            "Epoch 10/10\n",
            "160/160 [==============================] - 16s 98ms/step - loss: 0.2864 - accuracy: 0.9012 - val_loss: 0.9318 - val_accuracy: 0.7191\n",
            "80/80 [==============================] - 1s 16ms/step - loss: 0.9317 - accuracy: 0.7191\n"
          ],
          "name": "stdout"
        },
        {
          "output_type": "execute_result",
          "data": {
            "text/plain": [
              "[0.9317275285720825, 0.7190923094749451]"
            ]
          },
          "metadata": {
            "tags": []
          },
          "execution_count": 34
        }
      ]
    },
    {
      "cell_type": "code",
      "metadata": {
        "id": "ZaV1nluyDPKp",
        "colab_type": "code",
        "colab": {
          "base_uri": "https://localhost:8080/",
          "height": 717
        },
        "outputId": "157dc9ca-775a-4f9d-f502-21b477659896"
      },
      "source": [
        "# best simple GRU using pre-trained gloVe embeddings\n",
        "np.random.seed(42)\n",
        "random.seed(12345)\n",
        "session_conf = tf.compat.v1.ConfigProto(intra_op_parallelism_threads=1,\n",
        "                              inter_op_parallelism_threads=1)\n",
        "tf.compat.v1.set_random_seed(1234) \n",
        "model = Sequential() \n",
        "model.add(Embedding(dict_len + 1, output_dim=100, trainable=True,                       \n",
        "                    embeddings_initializer=Constant(emb_mat),                       \n",
        "                    input_length=20, name=\"Embedding\"))  \n",
        "model.add(GRU(256, dropout=0.3, name=\"GRU\")) \n",
        "model.add(Dense(5, activation=\"softmax\"))  \n",
        "model.compile(loss='categorical_crossentropy', optimizer='RMSprop', metrics=['accuracy'])\n",
        "# Train the model\n",
        "model.fit(X_train, Y_train, validation_data = (X_test, Y_test), batch_size=64, epochs=20) \n",
        "model.evaluate(X_test, Y_test)"
      ],
      "execution_count": null,
      "outputs": [
        {
          "output_type": "stream",
          "text": [
            "Epoch 1/20\n",
            "160/160 [==============================] - 15s 91ms/step - loss: 1.1713 - accuracy: 0.5296 - val_loss: 0.9622 - val_accuracy: 0.6381\n",
            "Epoch 2/20\n",
            "160/160 [==============================] - 14s 88ms/step - loss: 0.9504 - accuracy: 0.6393 - val_loss: 0.8777 - val_accuracy: 0.6694\n",
            "Epoch 3/20\n",
            "160/160 [==============================] - 14s 89ms/step - loss: 0.8484 - accuracy: 0.6835 - val_loss: 0.7997 - val_accuracy: 0.6972\n",
            "Epoch 4/20\n",
            "160/160 [==============================] - 14s 88ms/step - loss: 0.7782 - accuracy: 0.7095 - val_loss: 0.7715 - val_accuracy: 0.7124\n",
            "Epoch 5/20\n",
            "160/160 [==============================] - 14s 88ms/step - loss: 0.7236 - accuracy: 0.7327 - val_loss: 0.7525 - val_accuracy: 0.7167\n",
            "Epoch 6/20\n",
            "160/160 [==============================] - 14s 88ms/step - loss: 0.6719 - accuracy: 0.7536 - val_loss: 0.7382 - val_accuracy: 0.7199\n",
            "Epoch 7/20\n",
            "160/160 [==============================] - 14s 88ms/step - loss: 0.6301 - accuracy: 0.7680 - val_loss: 0.7714 - val_accuracy: 0.7128\n",
            "Epoch 8/20\n",
            "160/160 [==============================] - 14s 87ms/step - loss: 0.5854 - accuracy: 0.7842 - val_loss: 0.7495 - val_accuracy: 0.7250\n",
            "Epoch 9/20\n",
            "160/160 [==============================] - 14s 88ms/step - loss: 0.5428 - accuracy: 0.7979 - val_loss: 0.7361 - val_accuracy: 0.7324\n",
            "Epoch 10/20\n",
            "160/160 [==============================] - 14s 89ms/step - loss: 0.5061 - accuracy: 0.8115 - val_loss: 0.7406 - val_accuracy: 0.7304\n",
            "Epoch 11/20\n",
            "160/160 [==============================] - 14s 89ms/step - loss: 0.4653 - accuracy: 0.8300 - val_loss: 0.7690 - val_accuracy: 0.7234\n",
            "Epoch 12/20\n",
            "160/160 [==============================] - 14s 90ms/step - loss: 0.4258 - accuracy: 0.8432 - val_loss: 0.7943 - val_accuracy: 0.7234\n",
            "Epoch 13/20\n",
            "160/160 [==============================] - 14s 90ms/step - loss: 0.3891 - accuracy: 0.8626 - val_loss: 0.8255 - val_accuracy: 0.7257\n",
            "Epoch 14/20\n",
            "160/160 [==============================] - 15s 91ms/step - loss: 0.3497 - accuracy: 0.8679 - val_loss: 0.8049 - val_accuracy: 0.7281\n",
            "Epoch 15/20\n",
            "160/160 [==============================] - 14s 90ms/step - loss: 0.3132 - accuracy: 0.8877 - val_loss: 0.8440 - val_accuracy: 0.7285\n",
            "Epoch 16/20\n",
            "160/160 [==============================] - 15s 92ms/step - loss: 0.2782 - accuracy: 0.8999 - val_loss: 0.8828 - val_accuracy: 0.7250\n",
            "Epoch 17/20\n",
            "160/160 [==============================] - 15s 94ms/step - loss: 0.2522 - accuracy: 0.9107 - val_loss: 0.9007 - val_accuracy: 0.7203\n",
            "Epoch 18/20\n",
            "160/160 [==============================] - 15s 92ms/step - loss: 0.2158 - accuracy: 0.9245 - val_loss: 0.9617 - val_accuracy: 0.7234\n",
            "Epoch 19/20\n",
            "160/160 [==============================] - 15s 92ms/step - loss: 0.1925 - accuracy: 0.9305 - val_loss: 0.9958 - val_accuracy: 0.7230\n",
            "Epoch 20/20\n",
            "160/160 [==============================] - 15s 91ms/step - loss: 0.1663 - accuracy: 0.9396 - val_loss: 1.0771 - val_accuracy: 0.7214\n",
            "80/80 [==============================] - 1s 15ms/step - loss: 1.0766 - accuracy: 0.7214\n"
          ],
          "name": "stdout"
        },
        {
          "output_type": "execute_result",
          "data": {
            "text/plain": [
              "[1.0766452550888062, 0.721439778804779]"
            ]
          },
          "metadata": {
            "tags": []
          },
          "execution_count": 124
        }
      ]
    },
    {
      "cell_type": "markdown",
      "metadata": {
        "id": "tA2BslOxPJpj",
        "colab_type": "text"
      },
      "source": [
        "## CNN"
      ]
    },
    {
      "cell_type": "code",
      "metadata": {
        "id": "8QnbA3JRVwAp",
        "colab_type": "code",
        "colab": {
          "base_uri": "https://localhost:8080/",
          "height": 217
        },
        "outputId": "ab292393-9f20-4b2c-8e61-034578face4b"
      },
      "source": [
        "# model from keras site, adapted, 250 hu, emb=128\n",
        "np.random.seed(42)\n",
        "random.seed(12345)\n",
        "session_conf = tf.compat.v1.ConfigProto(intra_op_parallelism_threads=1,\n",
        "                              inter_op_parallelism_threads=1)\n",
        "tf.compat.v1.set_random_seed(1234) \n",
        "\n",
        "kernel_size = 3\n",
        "\n",
        "model = Sequential()\n",
        "model.add(Embedding(dict_len + 1, output_dim=128,\n",
        "                    input_length=20))\n",
        "model.add(Dropout(0.2))\n",
        "model.add(Conv1D(250,\n",
        "                 kernel_size,\n",
        "#  \"valid\" means \"no padding\". \"same\" results in padding the input such that the output has the same length as the original input.\n",
        "                 padding='valid', # 0.4 points worse with same \n",
        "                 activation='relu',\n",
        "                 strides=1))\n",
        "model.add(GlobalMaxPooling1D())\n",
        "model.add(Dense(250))\n",
        "model.add(Dropout(0.2))\n",
        "model.add(Activation('relu'))\n",
        "model.add(Dense(5, activation=\"softmax\"))  \n",
        "model.compile(loss='categorical_crossentropy', optimizer='RMSprop', metrics=['accuracy'])\n",
        "model.fit(X_train, Y_train, validation_data = (X_test, Y_test), batch_size=64, epochs=5) \n",
        "model.evaluate(X_test, Y_test)"
      ],
      "execution_count": null,
      "outputs": [
        {
          "output_type": "stream",
          "text": [
            "Epoch 1/5\n",
            "160/160 [==============================] - 5s 30ms/step - loss: 1.1967 - accuracy: 0.5187 - val_loss: 0.8391 - val_accuracy: 0.6941\n",
            "Epoch 2/5\n",
            "160/160 [==============================] - 5s 29ms/step - loss: 0.7109 - accuracy: 0.7476 - val_loss: 0.7417 - val_accuracy: 0.7328\n",
            "Epoch 3/5\n",
            "160/160 [==============================] - 5s 29ms/step - loss: 0.5511 - accuracy: 0.8059 - val_loss: 0.7363 - val_accuracy: 0.7430\n",
            "Epoch 4/5\n",
            "160/160 [==============================] - 5s 29ms/step - loss: 0.4425 - accuracy: 0.8440 - val_loss: 0.7624 - val_accuracy: 0.7367\n",
            "Epoch 5/5\n",
            "160/160 [==============================] - 5s 29ms/step - loss: 0.3418 - accuracy: 0.8839 - val_loss: 0.7912 - val_accuracy: 0.7316\n",
            "80/80 [==============================] - 0s 4ms/step - loss: 0.7911 - accuracy: 0.7316\n"
          ],
          "name": "stdout"
        },
        {
          "output_type": "execute_result",
          "data": {
            "text/plain": [
              "[0.7911454439163208, 0.7316119074821472]"
            ]
          },
          "metadata": {
            "tags": []
          },
          "execution_count": 35
        }
      ]
    },
    {
      "cell_type": "code",
      "metadata": {
        "id": "l4gNUfodbip2",
        "colab_type": "code",
        "colab": {
          "base_uri": "https://localhost:8080/",
          "height": 217
        },
        "outputId": "78577f09-9d28-421a-ecaf-38f848c789fc"
      },
      "source": [
        "# model from keras site, adapted, 250 hu, emb=100\n",
        "np.random.seed(42)\n",
        "random.seed(12345)\n",
        "session_conf = tf.compat.v1.ConfigProto(intra_op_parallelism_threads=1,\n",
        "                              inter_op_parallelism_threads=1)\n",
        "tf.compat.v1.set_random_seed(1234) \n",
        "\n",
        "kernel_size = 3\n",
        "\n",
        "model = Sequential()\n",
        "model.add(Embedding(dict_len + 1, output_dim=100,\n",
        "                    input_length=20))\n",
        "model.add(Dropout(0.2))\n",
        "model.add(Conv1D(250,\n",
        "                 kernel_size,\n",
        "#  \"valid\" means \"no padding\". \"same\" results in padding the input such that the output has the same length as the original input.\n",
        "                 padding='valid', # 0.3p lowers with \"same\"\n",
        "                 activation='relu',\n",
        "                 strides=1))\n",
        "model.add(GlobalMaxPooling1D())\n",
        "model.add(Dense(250))\n",
        "model.add(Dropout(0.2)) # 0.27 lower w/o dropout here\n",
        "model.add(Activation('relu'))\n",
        "model.add(Dense(5, activation=\"softmax\"))  \n",
        "model.compile(loss='categorical_crossentropy', optimizer='RMSprop', metrics=['accuracy'])\n",
        "model.fit(X_train, Y_train, validation_data = (X_test, Y_test), batch_size=64, epochs=5) \n",
        "model.evaluate(X_test, Y_test)"
      ],
      "execution_count": null,
      "outputs": [
        {
          "output_type": "stream",
          "text": [
            "Epoch 1/5\n",
            "160/160 [==============================] - 4s 25ms/step - loss: 1.2176 - accuracy: 0.5091 - val_loss: 0.8525 - val_accuracy: 0.6905\n",
            "Epoch 2/5\n",
            "160/160 [==============================] - 4s 24ms/step - loss: 0.7304 - accuracy: 0.7412 - val_loss: 0.7384 - val_accuracy: 0.7371\n",
            "Epoch 3/5\n",
            "160/160 [==============================] - 4s 24ms/step - loss: 0.5752 - accuracy: 0.7997 - val_loss: 0.7333 - val_accuracy: 0.7453\n",
            "Epoch 4/5\n",
            "160/160 [==============================] - 4s 24ms/step - loss: 0.4668 - accuracy: 0.8391 - val_loss: 0.7450 - val_accuracy: 0.7457\n",
            "Epoch 5/5\n",
            "160/160 [==============================] - 4s 24ms/step - loss: 0.3756 - accuracy: 0.8695 - val_loss: 0.7806 - val_accuracy: 0.7359\n",
            "80/80 [==============================] - 0s 3ms/step - loss: 0.7805 - accuracy: 0.7359\n"
          ],
          "name": "stdout"
        },
        {
          "output_type": "execute_result",
          "data": {
            "text/plain": [
              "[0.7805317640304565, 0.73591548204422]"
            ]
          },
          "metadata": {
            "tags": []
          },
          "execution_count": 47
        }
      ]
    },
    {
      "cell_type": "code",
      "metadata": {
        "id": "fF7jPzICcQpF",
        "colab_type": "code",
        "colab": {
          "base_uri": "https://localhost:8080/",
          "height": 217
        },
        "outputId": "3d84f95b-d723-41df-e8a8-df11a7a3a515"
      },
      "source": [
        "# model from keras site, adapted, 250 hu, emb=100\n",
        "np.random.seed(42)\n",
        "random.seed(12345)\n",
        "session_conf = tf.compat.v1.ConfigProto(intra_op_parallelism_threads=1,\n",
        "                              inter_op_parallelism_threads=1)\n",
        "tf.compat.v1.set_random_seed(1234) \n",
        "\n",
        "kernel_size = 3\n",
        "\n",
        "model = Sequential()\n",
        "model.add(Embedding(dict_len + 1, output_dim=100,\n",
        "                    input_length=20))\n",
        "model.add(Dropout(0.2))\n",
        "model.add(Conv1D(250,\n",
        "                 kernel_size,\n",
        "#  \"valid\" means \"no padding\". \"same\" results in padding the input such that the output has the same length as the original input.\n",
        "                 padding='same', # changed padding here; 0.78p better with \"same\"\n",
        "                 activation='relu',\n",
        "                 strides=1))\n",
        "model.add(GlobalMaxPooling1D())\n",
        "model.add(Dense(250))\n",
        "# model.add(Dropout(0.2)) # REMOVED DROPOUT HERE\n",
        "model.add(Activation('relu'))\n",
        "model.add(Dense(5, activation=\"softmax\"))  \n",
        "model.compile(loss='categorical_crossentropy', optimizer='RMSprop', metrics=['accuracy'])\n",
        "model.fit(X_train, Y_train, validation_data = (X_test, Y_test), batch_size=64, epochs=5) \n",
        "model.evaluate(X_test, Y_test)"
      ],
      "execution_count": null,
      "outputs": [
        {
          "output_type": "stream",
          "text": [
            "Epoch 1/5\n",
            "160/160 [==============================] - 4s 26ms/step - loss: 1.1768 - accuracy: 0.5307 - val_loss: 0.8257 - val_accuracy: 0.6972\n",
            "Epoch 2/5\n",
            "160/160 [==============================] - 4s 25ms/step - loss: 0.7040 - accuracy: 0.7529 - val_loss: 0.7279 - val_accuracy: 0.7453\n",
            "Epoch 3/5\n",
            "160/160 [==============================] - 4s 25ms/step - loss: 0.5464 - accuracy: 0.8091 - val_loss: 0.7269 - val_accuracy: 0.7508\n",
            "Epoch 4/5\n",
            "160/160 [==============================] - 4s 25ms/step - loss: 0.4457 - accuracy: 0.8450 - val_loss: 0.7442 - val_accuracy: 0.7418\n",
            "Epoch 5/5\n",
            "160/160 [==============================] - 4s 25ms/step - loss: 0.3551 - accuracy: 0.8751 - val_loss: 0.7814 - val_accuracy: 0.7449\n",
            "80/80 [==============================] - 0s 3ms/step - loss: 0.7814 - accuracy: 0.7449\n"
          ],
          "name": "stdout"
        },
        {
          "output_type": "execute_result",
          "data": {
            "text/plain": [
              "[0.7813548445701599, 0.7449139356613159]"
            ]
          },
          "metadata": {
            "tags": []
          },
          "execution_count": 49
        }
      ]
    },
    {
      "cell_type": "code",
      "metadata": {
        "id": "Y9prxt1FvFdo",
        "colab_type": "code",
        "colab": {
          "base_uri": "https://localhost:8080/",
          "height": 217
        },
        "outputId": "3d98c662-6514-458e-9675-7a20ba57efea"
      },
      "source": [
        "# model from keras site, adapted, 250 hu, emb=100\n",
        "np.random.seed(42)\n",
        "random.seed(12345)\n",
        "session_conf = tf.compat.v1.ConfigProto(intra_op_parallelism_threads=1,\n",
        "                              inter_op_parallelism_threads=1)\n",
        "tf.compat.v1.set_random_seed(1234) \n",
        "\n",
        "kernel_size = 3\n",
        "\n",
        "model = Sequential()\n",
        "model.add(Embedding(dict_len + 1, output_dim=100,\n",
        "                    input_length=20))\n",
        "model.add(Dropout(0.2))\n",
        "model.add(Conv1D(250,\n",
        "                 kernel_size,\n",
        "#  \"valid\" means \"no padding\". \"same\" results in padding the input such that the output has the same length as the original input.\n",
        "                 padding='same', # changed padding here; 0.78p better with \"same\"\n",
        "                 activation='relu',\n",
        "                 strides=1))\n",
        "model.add(GlobalMaxPooling1D())\n",
        "model.add(Dense(250))\n",
        "model.add(Dropout(0.2)) \n",
        "model.add(Activation('relu'))\n",
        "model.add(Dense(5, activation=\"softmax\"))  \n",
        "model.compile(loss='categorical_crossentropy', optimizer='RMSprop', metrics=['accuracy'])\n",
        "model.fit(X_train, Y_train, validation_data = (X_test, Y_test), batch_size=64, epochs=5) \n",
        "model.evaluate(X_test, Y_test)"
      ],
      "execution_count": null,
      "outputs": [
        {
          "output_type": "stream",
          "text": [
            "Epoch 1/5\n",
            "160/160 [==============================] - 5s 28ms/step - loss: 1.2028 - accuracy: 0.5157 - val_loss: 0.8483 - val_accuracy: 0.6851\n",
            "Epoch 2/5\n",
            "160/160 [==============================] - 4s 28ms/step - loss: 0.7261 - accuracy: 0.7469 - val_loss: 0.7382 - val_accuracy: 0.7390\n",
            "Epoch 3/5\n",
            "160/160 [==============================] - 4s 28ms/step - loss: 0.5726 - accuracy: 0.8004 - val_loss: 0.7364 - val_accuracy: 0.7426\n",
            "Epoch 4/5\n",
            "160/160 [==============================] - 4s 28ms/step - loss: 0.4690 - accuracy: 0.8383 - val_loss: 0.7500 - val_accuracy: 0.7414\n",
            "Epoch 5/5\n",
            "160/160 [==============================] - 4s 28ms/step - loss: 0.3778 - accuracy: 0.8681 - val_loss: 0.7862 - val_accuracy: 0.7402\n",
            "80/80 [==============================] - 0s 4ms/step - loss: 0.7862 - accuracy: 0.7402\n"
          ],
          "name": "stdout"
        },
        {
          "output_type": "execute_result",
          "data": {
            "text/plain": [
              "[0.7861568331718445, 0.7402191162109375]"
            ]
          },
          "metadata": {
            "tags": []
          },
          "execution_count": 179
        }
      ]
    },
    {
      "cell_type": "code",
      "metadata": {
        "id": "6df8H6uEAB0H",
        "colab_type": "code",
        "colab": {
          "base_uri": "https://localhost:8080/",
          "height": 383
        },
        "outputId": "6ab277c9-43d1-4862-e88a-14dc4eefce7d"
      },
      "source": [
        "# with pretrained GloVe embeddings, worse.\n",
        "# with trainable = False, even worse: max valid.acc = 0.682   \n",
        "np.random.seed(42)\n",
        "random.seed(12345)\n",
        "session_conf = tf.compat.v1.ConfigProto(intra_op_parallelism_threads=1,\n",
        "                              inter_op_parallelism_threads=1)\n",
        "tf.compat.v1.set_random_seed(1234) \n",
        "\n",
        "kernel_size = 3\n",
        "\n",
        "model = Sequential()\n",
        "model.add(Embedding(dict_len + 1, output_dim=100, trainable=True,                    \n",
        "                    embeddings_initializer=Constant(emb_mat),                       \n",
        "                    input_length=20, name=\"Embedding\"))  \n",
        "model.add(Dropout(0.2))\n",
        "model.add(Conv1D(250,\n",
        "                 kernel_size,\n",
        "                 padding='valid',\n",
        "                 activation='relu',\n",
        "                 strides=1))\n",
        "model.add(GlobalMaxPooling1D())\n",
        "model.add(Dense(250))\n",
        "model.add(Dropout(0.2))\n",
        "model.add(Activation('relu'))\n",
        "model.add(Dense(5, activation=\"softmax\"))  \n",
        "model.compile(loss='categorical_crossentropy', optimizer='RMSprop', metrics=['accuracy'])\n",
        "model.fit(X_train, Y_train, validation_data = (X_test, Y_test), batch_size=64, epochs=10) \n",
        "model.evaluate(X_test, Y_test)"
      ],
      "execution_count": null,
      "outputs": [
        {
          "output_type": "stream",
          "text": [
            "Epoch 1/10\n",
            "160/160 [==============================] - 3s 19ms/step - loss: 1.2436 - accuracy: 0.4873 - val_loss: 0.9376 - val_accuracy: 0.6534\n",
            "Epoch 2/10\n",
            "160/160 [==============================] - 3s 19ms/step - loss: 0.9269 - accuracy: 0.6476 - val_loss: 0.8627 - val_accuracy: 0.6729\n",
            "Epoch 3/10\n",
            "160/160 [==============================] - 3s 19ms/step - loss: 0.8033 - accuracy: 0.7015 - val_loss: 0.7889 - val_accuracy: 0.7015\n",
            "Epoch 4/10\n",
            "160/160 [==============================] - 3s 18ms/step - loss: 0.7027 - accuracy: 0.7374 - val_loss: 0.7651 - val_accuracy: 0.7152\n",
            "Epoch 5/10\n",
            "160/160 [==============================] - 3s 19ms/step - loss: 0.6251 - accuracy: 0.7672 - val_loss: 0.7628 - val_accuracy: 0.7203\n",
            "Epoch 6/10\n",
            "160/160 [==============================] - 3s 19ms/step - loss: 0.5453 - accuracy: 0.8001 - val_loss: 0.7796 - val_accuracy: 0.7171\n",
            "Epoch 7/10\n",
            "160/160 [==============================] - 3s 19ms/step - loss: 0.4765 - accuracy: 0.8244 - val_loss: 0.8984 - val_accuracy: 0.6843\n",
            "Epoch 8/10\n",
            "160/160 [==============================] - 3s 19ms/step - loss: 0.4182 - accuracy: 0.8455 - val_loss: 0.8848 - val_accuracy: 0.6897\n",
            "Epoch 9/10\n",
            "160/160 [==============================] - 3s 19ms/step - loss: 0.3790 - accuracy: 0.8633 - val_loss: 0.8611 - val_accuracy: 0.7074\n",
            "Epoch 10/10\n",
            "160/160 [==============================] - 3s 18ms/step - loss: 0.3271 - accuracy: 0.8797 - val_loss: 0.8884 - val_accuracy: 0.7058\n",
            "80/80 [==============================] - 0s 3ms/step - loss: 0.8881 - accuracy: 0.7058\n"
          ],
          "name": "stdout"
        },
        {
          "output_type": "execute_result",
          "data": {
            "text/plain": [
              "[0.8881068229675293, 0.7057902812957764]"
            ]
          },
          "metadata": {
            "tags": []
          },
          "execution_count": 179
        }
      ]
    },
    {
      "cell_type": "code",
      "metadata": {
        "id": "pfdBXyWXDQmu",
        "colab_type": "code",
        "colab": {
          "base_uri": "https://localhost:8080/",
          "height": 383
        },
        "outputId": "e6d2d1e0-6543-48dd-b0f4-f5fa7b0d762b"
      },
      "source": [
        "np.random.seed(42)\n",
        "random.seed(12345)\n",
        "session_conf = tf.compat.v1.ConfigProto(intra_op_parallelism_threads=1,\n",
        "                              inter_op_parallelism_threads=1)\n",
        "tf.compat.v1.set_random_seed(1234) \n",
        "\n",
        "model = Sequential()\n",
        "model.add(Embedding(dict_len + 1, output_dim=128,\n",
        "                    input_length=20))\n",
        "model.add(Dropout(0.2))\n",
        "model.add(Conv1D(50, 3,\n",
        "#  \"valid\" means \"no padding\". \"same\" results in padding the input such that the output has the same length as the original input.\n",
        "                 padding='same', # 0.4 points better with same\n",
        "                 activation='relu',\n",
        "                 strides=1))\n",
        "model.add(Conv1D(100, 4,\n",
        "#  \"valid\" means \"no padding\". \"same\" results in padding the input such that the output has the same length as the original input.\n",
        "                 padding='same', # 0.4 points better with same\n",
        "                 activation='relu',\n",
        "                 strides=1))\n",
        "model.add(Conv1D(150, 5,\n",
        "#  \"valid\" means \"no padding\". \"same\" results in padding the input such that the output has the same length as the original input.\n",
        "                 padding='same', # 0.4 points better with same\n",
        "                 activation='relu',\n",
        "                 strides=1))\n",
        "model.add(MaxPooling1D(pool_size=5))\n",
        "model.add(LSTM(150))\n",
        "model.add(Dense(250))\n",
        "# model.add(Dropout(0.2))\n",
        "model.add(Activation('relu'))\n",
        "model.add(Dense(5, activation=\"softmax\"))  \n",
        "model.compile(loss='categorical_crossentropy', optimizer='RMSprop', metrics=['accuracy'])\n",
        "model.fit(X_train, Y_train, validation_data = (X_test, Y_test), batch_size=64, epochs=10) \n",
        "model.evaluate(X_test, Y_test)"
      ],
      "execution_count": null,
      "outputs": [
        {
          "output_type": "stream",
          "text": [
            "Epoch 1/10\n",
            "160/160 [==============================] - 9s 59ms/step - loss: 1.3419 - accuracy: 0.3714 - val_loss: 1.1514 - val_accuracy: 0.4734\n",
            "Epoch 2/10\n",
            "160/160 [==============================] - 9s 57ms/step - loss: 0.9957 - accuracy: 0.6026 - val_loss: 0.9340 - val_accuracy: 0.6448\n",
            "Epoch 3/10\n",
            "160/160 [==============================] - 9s 57ms/step - loss: 0.7298 - accuracy: 0.7375 - val_loss: 0.8080 - val_accuracy: 0.7062\n",
            "Epoch 4/10\n",
            "160/160 [==============================] - 9s 56ms/step - loss: 0.5823 - accuracy: 0.7983 - val_loss: 0.8014 - val_accuracy: 0.7250\n",
            "Epoch 5/10\n",
            "160/160 [==============================] - 9s 56ms/step - loss: 0.4777 - accuracy: 0.8352 - val_loss: 0.7892 - val_accuracy: 0.7226\n",
            "Epoch 6/10\n",
            "160/160 [==============================] - 9s 56ms/step - loss: 0.4000 - accuracy: 0.8618 - val_loss: 0.8077 - val_accuracy: 0.7261\n",
            "Epoch 7/10\n",
            "160/160 [==============================] - 9s 56ms/step - loss: 0.3383 - accuracy: 0.8856 - val_loss: 0.8721 - val_accuracy: 0.7152\n",
            "Epoch 8/10\n",
            "160/160 [==============================] - 9s 56ms/step - loss: 0.2819 - accuracy: 0.9050 - val_loss: 0.9466 - val_accuracy: 0.7222\n",
            "Epoch 9/10\n",
            "160/160 [==============================] - 9s 56ms/step - loss: 0.2301 - accuracy: 0.9217 - val_loss: 0.9947 - val_accuracy: 0.7152\n",
            "Epoch 10/10\n",
            "160/160 [==============================] - 9s 56ms/step - loss: 0.1858 - accuracy: 0.9378 - val_loss: 1.0959 - val_accuracy: 0.6937\n",
            "80/80 [==============================] - 1s 8ms/step - loss: 1.0959 - accuracy: 0.6937\n"
          ],
          "name": "stdout"
        },
        {
          "output_type": "execute_result",
          "data": {
            "text/plain": [
              "[1.0959151983261108, 0.6936619877815247]"
            ]
          },
          "metadata": {
            "tags": []
          },
          "execution_count": 78
        }
      ]
    },
    {
      "cell_type": "markdown",
      "metadata": {
        "id": "kY975i3gAagP",
        "colab_type": "text"
      },
      "source": [
        "### Best CNN model so far"
      ]
    },
    {
      "cell_type": "code",
      "metadata": {
        "id": "uCF2fjhunaoF",
        "colab_type": "code",
        "colab": {
          "base_uri": "https://localhost:8080/",
          "height": 583
        },
        "outputId": "2b4ddeb8-029e-4ef7-ea35-3c31f1690df3"
      },
      "source": [
        "np.random.seed(42)\n",
        "random.seed(12345)\n",
        "session_conf = tf.compat.v1.ConfigProto(intra_op_parallelism_threads=1,\n",
        "                              inter_op_parallelism_threads=1)\n",
        "tf.compat.v1.set_random_seed(1234) \n",
        "\n",
        "kernel_size = 3\n",
        "\n",
        "model = Sequential()\n",
        "model.add(Embedding(dict_len + 1, output_dim=100,\n",
        "                    input_length=20))\n",
        "model.add(Dropout(0.2))\n",
        "model.add(Conv1D(500,\n",
        "                 kernel_size,\n",
        "#  \"valid\" means \"no padding\". \"same\" results in padding the input such that the output has the same length as the original input.\n",
        "                 padding='same', # changed padding here; 0.78p better with \"same\"\n",
        "                 activation='relu',\n",
        "                 strides=1))\n",
        "model.add(GlobalMaxPooling1D())\n",
        "model.add(Dense(250))\n",
        "# model.add(Dropout(0.2)) # REMOVED DROPOUT HERE\n",
        "model.add(Activation('relu'))\n",
        "model.add(Dense(5, activation=\"softmax\"))  \n",
        "model.compile(loss='categorical_crossentropy', optimizer='RMSprop', metrics=['accuracy'])\n",
        "model.summary()\n",
        "history = model.fit(X_train, Y_train, validation_data = (X_test, Y_test), batch_size=64, epochs=5) \n",
        "model.evaluate(X_test, Y_test)"
      ],
      "execution_count": null,
      "outputs": [
        {
          "output_type": "stream",
          "text": [
            "Model: \"sequential_57\"\n",
            "_________________________________________________________________\n",
            "Layer (type)                 Output Shape              Param #   \n",
            "=================================================================\n",
            "embedding_57 (Embedding)     (None, 20, 100)           932200    \n",
            "_________________________________________________________________\n",
            "dropout_56 (Dropout)         (None, 20, 100)           0         \n",
            "_________________________________________________________________\n",
            "conv1d_56 (Conv1D)           (None, 20, 500)           150500    \n",
            "_________________________________________________________________\n",
            "global_max_pooling1d_56 (Glo (None, 500)               0         \n",
            "_________________________________________________________________\n",
            "dense_57 (Dense)             (None, 250)               125250    \n",
            "_________________________________________________________________\n",
            "activation_8 (Activation)    (None, 250)               0         \n",
            "_________________________________________________________________\n",
            "dense_58 (Dense)             (None, 5)                 1255      \n",
            "=================================================================\n",
            "Total params: 1,209,205\n",
            "Trainable params: 1,209,205\n",
            "Non-trainable params: 0\n",
            "_________________________________________________________________\n",
            "Epoch 1/5\n",
            "160/160 [==============================] - 8s 52ms/step - loss: 1.1335 - accuracy: 0.5475 - val_loss: 0.7956 - val_accuracy: 0.7132\n",
            "Epoch 2/5\n",
            "160/160 [==============================] - 8s 51ms/step - loss: 0.6920 - accuracy: 0.7550 - val_loss: 0.7236 - val_accuracy: 0.7484\n",
            "Epoch 3/5\n",
            "160/160 [==============================] - 8s 52ms/step - loss: 0.5359 - accuracy: 0.8139 - val_loss: 0.7199 - val_accuracy: 0.7508\n",
            "Epoch 4/5\n",
            "160/160 [==============================] - 8s 53ms/step - loss: 0.4377 - accuracy: 0.8472 - val_loss: 0.7378 - val_accuracy: 0.7551\n",
            "Epoch 5/5\n",
            "160/160 [==============================] - 9s 54ms/step - loss: 0.3446 - accuracy: 0.8817 - val_loss: 0.7765 - val_accuracy: 0.7445\n",
            "80/80 [==============================] - 0s 5ms/step - loss: 0.7764 - accuracy: 0.7445\n"
          ],
          "name": "stdout"
        },
        {
          "output_type": "execute_result",
          "data": {
            "text/plain": [
              "[0.7764409780502319, 0.7445226907730103]"
            ]
          },
          "metadata": {
            "tags": []
          },
          "execution_count": 58
        }
      ]
    },
    {
      "cell_type": "code",
      "metadata": {
        "id": "q2xOoKPegMn7",
        "colab_type": "code",
        "colab": {
          "base_uri": "https://localhost:8080/",
          "height": 33
        },
        "outputId": "e9d421b7-13c1-49b4-f60f-70cd7a40eca5"
      },
      "source": [
        "max(history.history[\"val_accuracy\"]) # extract mav val_accuracy from the trained model."
      ],
      "execution_count": null,
      "outputs": [
        {
          "output_type": "execute_result",
          "data": {
            "text/plain": [
              "0.7550860643386841"
            ]
          },
          "metadata": {
            "tags": []
          },
          "execution_count": 27
        }
      ]
    },
    {
      "cell_type": "markdown",
      "metadata": {
        "id": "BaqndbsUAnLv",
        "colab_type": "text"
      },
      "source": [
        "#### Predict on test set for kaggle\n"
      ]
    },
    {
      "cell_type": "code",
      "metadata": {
        "id": "7bhNjEPQgHx8",
        "colab_type": "code",
        "colab": {
          "base_uri": "https://localhost:8080/",
          "height": 183
        },
        "outputId": "842ed5d6-3c0a-4417-9e31-9369a16303a7"
      },
      "source": [
        "# the same, but trained for 4 epochs only to achieve max accuracy\n",
        "# model from keras site, adapted, 500 hu, emb=100\n",
        "np.random.seed(42)\n",
        "random.seed(12345)\n",
        "session_conf = tf.compat.v1.ConfigProto(intra_op_parallelism_threads=1,\n",
        "                              inter_op_parallelism_threads=1)\n",
        "tf.compat.v1.set_random_seed(1234) \n",
        "\n",
        "kernel_size = 3\n",
        "\n",
        "model3 = Sequential()\n",
        "model3.add(Embedding(dict_len + 1, output_dim=100,\n",
        "                    input_length=20))\n",
        "model3.add(Dropout(0.2))\n",
        "model3.add(Conv1D(500,\n",
        "                 kernel_size,\n",
        "#  \"valid\" means \"no padding\". \"same\" results in padding the input such that the output has the same length as the original input.\n",
        "                 padding='same', # changed padding here; 0.78p better with \"same\"\n",
        "                 activation='relu',\n",
        "                 strides=1))\n",
        "model3.add(GlobalMaxPooling1D())\n",
        "model3.add(Dense(250))\n",
        "model3.add(Activation('relu'))\n",
        "model3.add(Dense(5, activation=\"softmax\"))  \n",
        "model3.compile(loss='categorical_crossentropy', optimizer='RMSprop', metrics=['accuracy'])\n",
        "model3.fit(X_train, Y_train, validation_data = (X_test, Y_test), batch_size=64, epochs=4) \n",
        "model3.evaluate(X_test, Y_test)"
      ],
      "execution_count": null,
      "outputs": [
        {
          "output_type": "stream",
          "text": [
            "Epoch 1/4\n",
            "160/160 [==============================] - 10s 64ms/step - loss: 1.1335 - accuracy: 0.5475 - val_loss: 0.7956 - val_accuracy: 0.7132\n",
            "Epoch 2/4\n",
            "160/160 [==============================] - 10s 64ms/step - loss: 0.6920 - accuracy: 0.7550 - val_loss: 0.7236 - val_accuracy: 0.7484\n",
            "Epoch 3/4\n",
            "160/160 [==============================] - 10s 65ms/step - loss: 0.5359 - accuracy: 0.8139 - val_loss: 0.7199 - val_accuracy: 0.7508\n",
            "Epoch 4/4\n",
            "160/160 [==============================] - 10s 65ms/step - loss: 0.4377 - accuracy: 0.8472 - val_loss: 0.7378 - val_accuracy: 0.7551\n",
            "80/80 [==============================] - 0s 6ms/step - loss: 0.7377 - accuracy: 0.7551\n"
          ],
          "name": "stdout"
        },
        {
          "output_type": "execute_result",
          "data": {
            "text/plain": [
              "[0.7377182841300964, 0.7550860643386841]"
            ]
          },
          "metadata": {
            "tags": []
          },
          "execution_count": 56
        }
      ]
    },
    {
      "cell_type": "code",
      "metadata": {
        "colab_type": "code",
        "id": "hhjpySOu3E9J",
        "colab": {
          "base_uri": "https://localhost:8080/",
          "height": 100
        },
        "outputId": "e46b06f3-568c-40d1-ff92-589fe681de8a"
      },
      "source": [
        "# Best CNN \n",
        "Y_test_pred = model3.predict_classes(X_test)\n",
        "Y_test_df = pd.DataFrame(Y_test)\n",
        "Y_test_categ = Y_test_df.idxmax(axis=1)\n",
        "confusion_matrix(Y_test_categ,Y_test_pred)"
      ],
      "execution_count": null,
      "outputs": [
        {
          "output_type": "execute_result",
          "data": {
            "text/plain": [
              "array([[413,  90,  40,  13,  32],\n",
              "       [ 90, 454,  18,  21,   5],\n",
              "       [ 65,  18, 398,  38,  41],\n",
              "       [ 12,  27,  31, 415,  17],\n",
              "       [ 30,   3,  24,  11, 250]])"
            ]
          },
          "metadata": {
            "tags": []
          },
          "execution_count": 57
        }
      ]
    },
    {
      "cell_type": "code",
      "metadata": {
        "colab_type": "code",
        "id": "ktjjsV_D28JI",
        "colab": {
          "base_uri": "https://localhost:8080/",
          "height": 100
        },
        "outputId": "2dbe48cb-f64f-4da9-a54a-4c338713e956"
      },
      "source": [
        "# GRU(256)\n",
        "Y_test_pred = model.predict_classes(X_test)\n",
        "Y_test_df = pd.DataFrame(Y_test)\n",
        "Y_test_categ = Y_test_df.idxmax(axis=1)\n",
        "confusion_matrix(Y_test_categ,Y_test_pred)"
      ],
      "execution_count": null,
      "outputs": [
        {
          "output_type": "execute_result",
          "data": {
            "text/plain": [
              "array([[403,  91,  58,  14,  22],\n",
              "       [ 77, 459,  25,  22,   5],\n",
              "       [ 56,  26, 400,  38,  40],\n",
              "       [ 13,  29,  44, 402,  14],\n",
              "       [ 33,   2,  32,  11, 240]])"
            ]
          },
          "metadata": {
            "tags": []
          },
          "execution_count": 55
        }
      ]
    },
    {
      "cell_type": "code",
      "metadata": {
        "colab_type": "code",
        "id": "f5VKHFj24zCw",
        "colab": {
          "base_uri": "https://localhost:8080/",
          "height": 100
        },
        "outputId": "c7ad16c3-a478-4fcf-f6f9-35444c7c3a39"
      },
      "source": [
        "# LSTM-128 RMSprop\n",
        "Y_test_pred = model2.predict_classes(X_test)\n",
        "Y_test_df = pd.DataFrame(Y_test)\n",
        "Y_test_categ = Y_test_df.idxmax(axis=1)\n",
        "confusion_matrix(Y_test_categ,Y_test_pred)"
      ],
      "execution_count": null,
      "outputs": [
        {
          "output_type": "execute_result",
          "data": {
            "text/plain": [
              "array([[374, 104,  67,  18,  25],\n",
              "       [ 70, 466,  20,  27,   5],\n",
              "       [ 47,  25, 405,  42,  41],\n",
              "       [  9,  28,  40, 410,  15],\n",
              "       [ 25,   1,  34,  11, 247]])"
            ]
          },
          "metadata": {
            "tags": []
          },
          "execution_count": 52
        }
      ]
    },
    {
      "cell_type": "code",
      "metadata": {
        "id": "7JVJQCSWgRFi",
        "colab_type": "code",
        "colab": {
          "base_uri": "https://localhost:8080/",
          "height": 350
        },
        "outputId": "86373bc0-6619-4dcf-880b-d07f894c67af"
      },
      "source": [
        "Y_new3 = model3.predict_classes(X_new)\n",
        "# show the inputs and predicted outputs\n",
        "print(X_new[:5])\n",
        "for i in range(5):\n",
        "\tprint(\"X=%s, Predicted=%s\" % (X_new[i], Y_new3[i]))"
      ],
      "execution_count": null,
      "outputs": [
        {
          "output_type": "stream",
          "text": [
            "[[   0    0    0    0    0    0    0    0    0    0    0    0    3  482\n",
            "     8   32   15    1  117   66]\n",
            " [   0    0    0    0    0    0    0    0    0    0    0 1591  130  758\n",
            "    20   66    1 1407  295  307]\n",
            " [   0    0    0    0    0    0   95    4  120    2   35   21  693 2005\n",
            "  6187    1   24    2  463  166]\n",
            " [   0    0    0    0    0    0    0    0    0    0    0    0  378  229\n",
            "   793    1   47  278  399   14]\n",
            " [   0    0    0    0    0    0    0    0    0    0    0    0    0    0\n",
            "     0    0   47  202  302  519]]\n",
            "X=[  0   0   0   0   0   0   0   0   0   0   0   0   3 482   8  32  15   1\n",
            " 117  66], Predicted=1\n",
            "X=[   0    0    0    0    0    0    0    0    0    0    0 1591  130  758\n",
            "   20   66    1 1407  295  307], Predicted=1\n",
            "X=[   0    0    0    0    0    0   95    4  120    2   35   21  693 2005\n",
            " 6187    1   24    2  463  166], Predicted=0\n",
            "X=[  0   0   0   0   0   0   0   0   0   0   0   0 378 229 793   1  47 278\n",
            " 399  14], Predicted=2\n",
            "X=[  0   0   0   0   0   0   0   0   0   0   0   0   0   0   0   0  47 202\n",
            " 302 519], Predicted=2\n"
          ],
          "name": "stdout"
        }
      ]
    },
    {
      "cell_type": "code",
      "metadata": {
        "id": "sTmNkFUlgwyt",
        "colab_type": "code",
        "colab": {}
      },
      "source": [
        "test3 = pd.DataFrame(list(zip(test['id'], Y_new3)), \n",
        "               columns = ['id', 'label'])\n",
        "test3\n",
        "test3.to_csv('test3.csv',index=False)"
      ],
      "execution_count": null,
      "outputs": []
    },
    {
      "cell_type": "markdown",
      "metadata": {
        "colab_type": "text",
        "id": "EJaAMJUIzOL3"
      },
      "source": [
        "### Custom models with different filter sizes"
      ]
    },
    {
      "cell_type": "code",
      "metadata": {
        "id": "Ng_swncW77nL",
        "colab_type": "code",
        "colab": {
          "base_uri": "https://localhost:8080/",
          "height": 583
        },
        "outputId": "8d4f67a1-e5d6-4997-a50c-e08b8062c193"
      },
      "source": [
        "# try the best simple model for a benchmark with a new seed\n",
        "\n",
        "np.random.seed(5)\n",
        "random.seed(5)\n",
        "session_conf = tf.compat.v1.ConfigProto(intra_op_parallelism_threads=1,\n",
        "                              inter_op_parallelism_threads=1)\n",
        "tf.compat.v1.set_random_seed(5) \n",
        "\n",
        "kernel_size = 3\n",
        "\n",
        "model = Sequential()\n",
        "model.add(Embedding(dict_len + 1, output_dim=100,\n",
        "                    input_length=20))\n",
        "model.add(Dropout(0.2))\n",
        "model.add(Conv1D(500,\n",
        "                 kernel_size,\n",
        "#  \"valid\" means \"no padding\". \"same\" results in padding the input such that the output has the same length as the original input.\n",
        "                 padding='same', # changed padding here; 0.78p better with \"same\"\n",
        "                 activation='relu',\n",
        "                 strides=1))\n",
        "model.add(GlobalMaxPooling1D())\n",
        "model.add(Dense(250))\n",
        "# model.add(Dropout(0.2)) # REMOVED DROPOUT HERE\n",
        "model.add(Activation('relu'))\n",
        "model.add(Dense(5, activation=\"softmax\"))  \n",
        "model.compile(loss='categorical_crossentropy', optimizer='RMSprop', metrics=['accuracy'])\n",
        "model.summary()\n",
        "history = model.fit(X_train, Y_train, validation_data = (X_test, Y_test), batch_size=64, epochs=5) \n",
        "model.evaluate(X_test, Y_test)"
      ],
      "execution_count": null,
      "outputs": [
        {
          "output_type": "stream",
          "text": [
            "Model: \"sequential_13\"\n",
            "_________________________________________________________________\n",
            "Layer (type)                 Output Shape              Param #   \n",
            "=================================================================\n",
            "embedding_131 (Embedding)    (None, 20, 100)           932200    \n",
            "_________________________________________________________________\n",
            "dropout_121 (Dropout)        (None, 20, 100)           0         \n",
            "_________________________________________________________________\n",
            "conv1d_120 (Conv1D)          (None, 20, 500)           150500    \n",
            "_________________________________________________________________\n",
            "global_max_pooling1d_114 (Gl (None, 500)               0         \n",
            "_________________________________________________________________\n",
            "dense_142 (Dense)            (None, 250)               125250    \n",
            "_________________________________________________________________\n",
            "activation_9 (Activation)    (None, 250)               0         \n",
            "_________________________________________________________________\n",
            "dense_143 (Dense)            (None, 5)                 1255      \n",
            "=================================================================\n",
            "Total params: 1,209,205\n",
            "Trainable params: 1,209,205\n",
            "Non-trainable params: 0\n",
            "_________________________________________________________________\n",
            "Epoch 1/5\n",
            "160/160 [==============================] - 10s 65ms/step - loss: 1.1528 - accuracy: 0.5422 - val_loss: 0.8278 - val_accuracy: 0.7023\n",
            "Epoch 2/5\n",
            "160/160 [==============================] - 11s 67ms/step - loss: 0.6961 - accuracy: 0.7471 - val_loss: 0.7481 - val_accuracy: 0.7332\n",
            "Epoch 3/5\n",
            "160/160 [==============================] - 11s 66ms/step - loss: 0.5460 - accuracy: 0.8094 - val_loss: 0.7455 - val_accuracy: 0.7351\n",
            "Epoch 4/5\n",
            "160/160 [==============================] - 10s 65ms/step - loss: 0.4398 - accuracy: 0.8500 - val_loss: 0.7658 - val_accuracy: 0.7402\n",
            "Epoch 5/5\n",
            "160/160 [==============================] - 10s 65ms/step - loss: 0.3451 - accuracy: 0.8828 - val_loss: 0.8262 - val_accuracy: 0.7246\n",
            "80/80 [==============================] - 0s 6ms/step - loss: 0.8260 - accuracy: 0.7246\n"
          ],
          "name": "stdout"
        },
        {
          "output_type": "execute_result",
          "data": {
            "text/plain": [
              "[0.8260191679000854, 0.7245696187019348]"
            ]
          },
          "metadata": {
            "tags": []
          },
          "execution_count": 186
        }
      ]
    },
    {
      "cell_type": "code",
      "metadata": {
        "colab_type": "code",
        "id": "d5xMc67GzOL5",
        "colab": {
          "base_uri": "https://localhost:8080/",
          "height": 1000
        },
        "outputId": "ca67b7bb-5692-431a-9ea3-ec4ea885ea09"
      },
      "source": [
        "def custom_CNN(input_length=20,input_length2=12,vocab_size=dict_len+1,emb_dim = 100):\n",
        "  # define CNN layer\n",
        "  inputs1 = Input(shape=(input_length,))\n",
        "  emb1 = Embedding(vocab_size, emb_dim)(inputs1)\n",
        "  conv1 = Conv1D(filters=500, kernel_size=2, padding='same', activation='relu', strides=1)(emb1)\n",
        "  drop1 = Dropout(0.5)(conv1)\n",
        "  # pool1 = GlobalMaxPooling1D()(drop1)\n",
        "  pool1 = MaxPooling1D(pool_size=2)(drop1)\n",
        "  flat1 = Flatten()(pool1)\n",
        "\n",
        "  inputs2 = Input(shape=(input_length,))\n",
        "  emb2 = Embedding(vocab_size, emb_dim)(inputs2)\n",
        "  conv2 = Conv1D(filters=500, kernel_size=3, padding='same', activation='relu', strides=1)(emb2)\n",
        "  drop2 = Dropout(0.5)(conv2)\n",
        "  # pool2 = GlobalMaxPooling1D()(drop2)\n",
        "  pool2 = MaxPooling1D(pool_size=2)(drop2)\n",
        "  flat2 = Flatten()(pool2)\n",
        "\n",
        "  inputs3 = Input(shape=(input_length,))\n",
        "  emb3 = Embedding(vocab_size, emb_dim)(inputs3)\n",
        "  conv3 = Conv1D(filters=500, kernel_size=4, padding='same', activation='relu', strides=1)(emb3)\n",
        "  drop3 = Dropout(0.5)(conv3)\n",
        "  # pool3 = GlobalMaxPooling1D()(drop3)\n",
        "  pool3 = MaxPooling1D(pool_size=2)(drop3)\n",
        "  flat3 = Flatten()(pool3)\n",
        "\n",
        "  # merge CNN output with reference stats\n",
        "  merged = concatenate([flat1, flat2, flat3])\n",
        "\n",
        "  dense1 = Dense(500, activation='relu')(merged)\n",
        "  outputs = Dense(5, activation=\"softmax\")(dense1)\n",
        "  model = Model(inputs=[inputs1, inputs2, inputs3], outputs=outputs)\n",
        "  model.compile(loss='categorical_crossentropy', optimizer='RMSprop', metrics=['accuracy'])\n",
        "  print(model.summary())\n",
        "  # plot_model(model, show_shapes=True, to_file='multichannel.png')\n",
        "  return model\n",
        "\n",
        "np.random.seed(5)\n",
        "random.seed(5)\n",
        "session_conf = tf.compat.v1.ConfigProto(intra_op_parallelism_threads=1,\n",
        "                              inter_op_parallelism_threads=1)\n",
        "tf.compat.v1.set_random_seed(5)\n",
        "\n",
        "# define model\n",
        "model = custom_CNN(input_length=20, input_length2=12, vocab_size=dict_len+1,emb_dim = 100)\n",
        "model.fit(x=[X_train,X_train,X_train], y=Y_train, validation_data = ([X_test,X_test,X_test], Y_test), batch_size=64, epochs=5) \n",
        "# save the model\n",
        "# model.save('model.h5')"
      ],
      "execution_count": null,
      "outputs": [
        {
          "output_type": "stream",
          "text": [
            "Model: \"model_36\"\n",
            "__________________________________________________________________________________________________\n",
            "Layer (type)                    Output Shape         Param #     Connected to                     \n",
            "==================================================================================================\n",
            "input_97 (InputLayer)           [(None, 20)]         0                                            \n",
            "__________________________________________________________________________________________________\n",
            "input_98 (InputLayer)           [(None, 20)]         0                                            \n",
            "__________________________________________________________________________________________________\n",
            "input_99 (InputLayer)           [(None, 20)]         0                                            \n",
            "__________________________________________________________________________________________________\n",
            "embedding_62 (Embedding)        (None, 20, 100)      932200      input_97[0][0]                   \n",
            "__________________________________________________________________________________________________\n",
            "embedding_63 (Embedding)        (None, 20, 100)      932200      input_98[0][0]                   \n",
            "__________________________________________________________________________________________________\n",
            "embedding_64 (Embedding)        (None, 20, 100)      932200      input_99[0][0]                   \n",
            "__________________________________________________________________________________________________\n",
            "conv1d_51 (Conv1D)              (None, 20, 500)      100500      embedding_62[0][0]               \n",
            "__________________________________________________________________________________________________\n",
            "conv1d_52 (Conv1D)              (None, 20, 500)      150500      embedding_63[0][0]               \n",
            "__________________________________________________________________________________________________\n",
            "conv1d_53 (Conv1D)              (None, 20, 500)      200500      embedding_64[0][0]               \n",
            "__________________________________________________________________________________________________\n",
            "dropout_52 (Dropout)            (None, 20, 500)      0           conv1d_51[0][0]                  \n",
            "__________________________________________________________________________________________________\n",
            "dropout_53 (Dropout)            (None, 20, 500)      0           conv1d_52[0][0]                  \n",
            "__________________________________________________________________________________________________\n",
            "dropout_54 (Dropout)            (None, 20, 500)      0           conv1d_53[0][0]                  \n",
            "__________________________________________________________________________________________________\n",
            "max_pooling1d (MaxPooling1D)    (None, 10, 500)      0           dropout_52[0][0]                 \n",
            "__________________________________________________________________________________________________\n",
            "max_pooling1d_1 (MaxPooling1D)  (None, 10, 500)      0           dropout_53[0][0]                 \n",
            "__________________________________________________________________________________________________\n",
            "max_pooling1d_2 (MaxPooling1D)  (None, 10, 500)      0           dropout_54[0][0]                 \n",
            "__________________________________________________________________________________________________\n",
            "flatten_49 (Flatten)            (None, 5000)         0           max_pooling1d[0][0]              \n",
            "__________________________________________________________________________________________________\n",
            "flatten_50 (Flatten)            (None, 5000)         0           max_pooling1d_1[0][0]            \n",
            "__________________________________________________________________________________________________\n",
            "flatten_51 (Flatten)            (None, 5000)         0           max_pooling1d_2[0][0]            \n",
            "__________________________________________________________________________________________________\n",
            "tf_op_layer_concat_38 (TensorFl [(None, 15000)]      0           flatten_49[0][0]                 \n",
            "                                                                 flatten_50[0][0]                 \n",
            "                                                                 flatten_51[0][0]                 \n",
            "__________________________________________________________________________________________________\n",
            "dense_96 (Dense)                (None, 500)          7500500     tf_op_layer_concat_38[0][0]      \n",
            "__________________________________________________________________________________________________\n",
            "dense_97 (Dense)                (None, 5)            2505        dense_96[0][0]                   \n",
            "==================================================================================================\n",
            "Total params: 10,751,105\n",
            "Trainable params: 10,751,105\n",
            "Non-trainable params: 0\n",
            "__________________________________________________________________________________________________\n",
            "None\n",
            "Epoch 1/5\n",
            "160/160 [==============================] - 43s 272ms/step - loss: 1.1038 - accuracy: 0.5597 - val_loss: 0.8078 - val_accuracy: 0.7105\n",
            "Epoch 2/5\n",
            "160/160 [==============================] - 44s 272ms/step - loss: 0.6131 - accuracy: 0.7849 - val_loss: 0.7723 - val_accuracy: 0.7152\n",
            "Epoch 3/5\n",
            "160/160 [==============================] - 43s 268ms/step - loss: 0.4092 - accuracy: 0.8606 - val_loss: 0.7858 - val_accuracy: 0.7179\n",
            "Epoch 4/5\n",
            "160/160 [==============================] - 43s 270ms/step - loss: 0.2416 - accuracy: 0.9200 - val_loss: 0.9304 - val_accuracy: 0.6995\n",
            "Epoch 5/5\n",
            "160/160 [==============================] - 43s 270ms/step - loss: 0.1284 - accuracy: 0.9590 - val_loss: 1.1386 - val_accuracy: 0.6819\n"
          ],
          "name": "stdout"
        },
        {
          "output_type": "execute_result",
          "data": {
            "text/plain": [
              "<tensorflow.python.keras.callbacks.History at 0x7f818f256f28>"
            ]
          },
          "metadata": {
            "tags": []
          },
          "execution_count": 180
        }
      ]
    },
    {
      "cell_type": "code",
      "metadata": {
        "id": "rjTFWWcY162B",
        "colab_type": "code",
        "colab": {
          "base_uri": "https://localhost:8080/",
          "height": 1000
        },
        "outputId": "63abb535-f4e4-4051-dd1a-f80ca47e933d"
      },
      "source": [
        "def custom_CNN(input_length=20,input_length2=12,vocab_size=dict_len+1,emb_dim = 100):\n",
        "  # define CNN layer\n",
        "  inputs1 = Input(shape=(input_length,))\n",
        "  emb1 = Embedding(vocab_size, emb_dim)(inputs1)\n",
        "  conv1 = Conv1D(filters=500, kernel_size=4, padding='same', activation='relu', strides=1)(emb1)\n",
        "  drop1 = Dropout(0.3)(conv1)\n",
        "  # pool1 = GlobalMaxPooling1D()(drop1)\n",
        "  pool1 = MaxPooling1D(pool_size=2)(drop1)\n",
        "  flat1 = Flatten()(pool1)\n",
        "\n",
        "  inputs2 = Input(shape=(input_length,))\n",
        "  emb2 = Embedding(vocab_size, emb_dim)(inputs2)\n",
        "  conv2 = Conv1D(filters=500, kernel_size=6, padding='same', activation='relu', strides=1)(emb2)\n",
        "  drop2 = Dropout(0.3)(conv2)\n",
        "  # pool2 = GlobalMaxPooling1D()(drop2)\n",
        "  pool2 = MaxPooling1D(pool_size=2)(drop2)\n",
        "  flat2 = Flatten()(pool2)\n",
        "\n",
        "  inputs3 = Input(shape=(input_length,))\n",
        "  emb3 = Embedding(vocab_size, emb_dim)(inputs3)\n",
        "  conv3 = Conv1D(filters=500, kernel_size=8, padding='same', activation='relu', strides=1)(emb3)\n",
        "  drop3 = Dropout(0.3)(conv3)\n",
        "  # pool3 = GlobalMaxPooling1D()(drop3)\n",
        "  pool3 = MaxPooling1D(pool_size=2)(drop3)\n",
        "  flat3 = Flatten()(pool3)\n",
        "\n",
        "  # merge CNN output with reference stats\n",
        "  merged = concatenate([flat1, flat2, flat3])\n",
        "\n",
        "  dense1 = Dense(500, activation='relu')(merged)\n",
        "  outputs = Dense(5, activation=\"softmax\")(dense1)\n",
        "  model = Model(inputs=[inputs1, inputs2, inputs3], outputs=outputs)\n",
        "  model.compile(loss='categorical_crossentropy', optimizer='RMSprop', metrics=['accuracy'])\n",
        "  print(model.summary())\n",
        "  # plot_model(model, show_shapes=True, to_file='multichannel.png')\n",
        "  return model\n",
        "\n",
        "np.random.seed(5)\n",
        "random.seed(5)\n",
        "session_conf = tf.compat.v1.ConfigProto(intra_op_parallelism_threads=1,\n",
        "                              inter_op_parallelism_threads=1)\n",
        "tf.compat.v1.set_random_seed(5)\n",
        "\n",
        "# define model\n",
        "model = custom_CNN(input_length=20, input_length2=12, vocab_size=dict_len+1,emb_dim = 100)\n",
        "model.fit(x=[X_train,X_train,X_train], y=Y_train, validation_data = ([X_test,X_test,X_test], Y_test), batch_size=64, epochs=5) \n",
        "# save the model\n",
        "# model.save('model.h5')"
      ],
      "execution_count": null,
      "outputs": [
        {
          "output_type": "stream",
          "text": [
            "Model: \"model_37\"\n",
            "__________________________________________________________________________________________________\n",
            "Layer (type)                    Output Shape         Param #     Connected to                     \n",
            "==================================================================================================\n",
            "input_100 (InputLayer)          [(None, 20)]         0                                            \n",
            "__________________________________________________________________________________________________\n",
            "input_101 (InputLayer)          [(None, 20)]         0                                            \n",
            "__________________________________________________________________________________________________\n",
            "input_102 (InputLayer)          [(None, 20)]         0                                            \n",
            "__________________________________________________________________________________________________\n",
            "embedding_65 (Embedding)        (None, 20, 100)      932200      input_100[0][0]                  \n",
            "__________________________________________________________________________________________________\n",
            "embedding_66 (Embedding)        (None, 20, 100)      932200      input_101[0][0]                  \n",
            "__________________________________________________________________________________________________\n",
            "embedding_67 (Embedding)        (None, 20, 100)      932200      input_102[0][0]                  \n",
            "__________________________________________________________________________________________________\n",
            "conv1d_54 (Conv1D)              (None, 20, 500)      200500      embedding_65[0][0]               \n",
            "__________________________________________________________________________________________________\n",
            "conv1d_55 (Conv1D)              (None, 20, 500)      300500      embedding_66[0][0]               \n",
            "__________________________________________________________________________________________________\n",
            "conv1d_56 (Conv1D)              (None, 20, 500)      400500      embedding_67[0][0]               \n",
            "__________________________________________________________________________________________________\n",
            "dropout_55 (Dropout)            (None, 20, 500)      0           conv1d_54[0][0]                  \n",
            "__________________________________________________________________________________________________\n",
            "dropout_56 (Dropout)            (None, 20, 500)      0           conv1d_55[0][0]                  \n",
            "__________________________________________________________________________________________________\n",
            "dropout_57 (Dropout)            (None, 20, 500)      0           conv1d_56[0][0]                  \n",
            "__________________________________________________________________________________________________\n",
            "max_pooling1d_3 (MaxPooling1D)  (None, 10, 500)      0           dropout_55[0][0]                 \n",
            "__________________________________________________________________________________________________\n",
            "max_pooling1d_4 (MaxPooling1D)  (None, 10, 500)      0           dropout_56[0][0]                 \n",
            "__________________________________________________________________________________________________\n",
            "max_pooling1d_5 (MaxPooling1D)  (None, 10, 500)      0           dropout_57[0][0]                 \n",
            "__________________________________________________________________________________________________\n",
            "flatten_52 (Flatten)            (None, 5000)         0           max_pooling1d_3[0][0]            \n",
            "__________________________________________________________________________________________________\n",
            "flatten_53 (Flatten)            (None, 5000)         0           max_pooling1d_4[0][0]            \n",
            "__________________________________________________________________________________________________\n",
            "flatten_54 (Flatten)            (None, 5000)         0           max_pooling1d_5[0][0]            \n",
            "__________________________________________________________________________________________________\n",
            "tf_op_layer_concat_39 (TensorFl [(None, 15000)]      0           flatten_52[0][0]                 \n",
            "                                                                 flatten_53[0][0]                 \n",
            "                                                                 flatten_54[0][0]                 \n",
            "__________________________________________________________________________________________________\n",
            "dense_98 (Dense)                (None, 500)          7500500     tf_op_layer_concat_39[0][0]      \n",
            "__________________________________________________________________________________________________\n",
            "dense_99 (Dense)                (None, 5)            2505        dense_98[0][0]                   \n",
            "==================================================================================================\n",
            "Total params: 11,201,105\n",
            "Trainable params: 11,201,105\n",
            "Non-trainable params: 0\n",
            "__________________________________________________________________________________________________\n",
            "None\n",
            "Epoch 1/5\n",
            "160/160 [==============================] - 63s 392ms/step - loss: 1.0949 - accuracy: 0.5608 - val_loss: 0.8033 - val_accuracy: 0.7097\n",
            "Epoch 2/5\n",
            "160/160 [==============================] - 63s 394ms/step - loss: 0.5963 - accuracy: 0.7924 - val_loss: 0.7791 - val_accuracy: 0.7167\n",
            "Epoch 3/5\n",
            "160/160 [==============================] - 63s 397ms/step - loss: 0.3688 - accuracy: 0.8748 - val_loss: 0.8073 - val_accuracy: 0.7128\n",
            "Epoch 4/5\n",
            "160/160 [==============================] - 63s 394ms/step - loss: 0.1820 - accuracy: 0.9409 - val_loss: 1.0523 - val_accuracy: 0.6909\n",
            "Epoch 5/5\n",
            "160/160 [==============================] - 63s 394ms/step - loss: 0.0780 - accuracy: 0.9752 - val_loss: 1.4483 - val_accuracy: 0.6764\n"
          ],
          "name": "stdout"
        },
        {
          "output_type": "execute_result",
          "data": {
            "text/plain": [
              "<tensorflow.python.keras.callbacks.History at 0x7f818ef07668>"
            ]
          },
          "metadata": {
            "tags": []
          },
          "execution_count": 181
        }
      ]
    },
    {
      "cell_type": "code",
      "metadata": {
        "id": "SatApdMc3LYi",
        "colab_type": "code",
        "colab": {
          "base_uri": "https://localhost:8080/",
          "height": 1000
        },
        "outputId": "a23911ef-3ec4-4da6-fe4c-a66cefec1416"
      },
      "source": [
        "# Imitating article CNN for sentense classification:\n",
        "# filters: 100\n",
        "# kernel size: 3,4,5\n",
        "# dropout = 0.5\n",
        "# MaxOverTime pooling\n",
        "\n",
        "def custom_CNN(input_length=20,input_length2=12,vocab_size=dict_len+1,emb_dim = 100):\n",
        "  # define CNN layer\n",
        "  inputs1 = Input(shape=(input_length,))\n",
        "  emb1 = Embedding(vocab_size, emb_dim)(inputs1)\n",
        "  conv1 = Conv1D(filters=100, kernel_size=3, padding='same', activation='relu', strides=1)(emb1)\n",
        "  drop1 = Dropout(0.5)(conv1)\n",
        "  pool1 = GlobalMaxPooling1D()(drop1) # MaxOverTime\n",
        "  # pool1 = MaxPooling1D(pool_size=2)(drop1)\n",
        "  flat1 = Flatten()(pool1)\n",
        "\n",
        "  inputs2 = Input(shape=(input_length,))\n",
        "  emb2 = Embedding(vocab_size, emb_dim)(inputs2)\n",
        "  conv2 = Conv1D(filters=100, kernel_size=4, padding='same', activation='relu', strides=1)(emb2)\n",
        "  drop2 = Dropout(0.5)(conv2)\n",
        "  pool2 = GlobalMaxPooling1D()(drop2)\n",
        "  # pool2 = MaxPooling1D(pool_size=2)(drop2)\n",
        "  flat2 = Flatten()(pool2)\n",
        "\n",
        "  inputs3 = Input(shape=(input_length,))\n",
        "  emb3 = Embedding(vocab_size, emb_dim)(inputs3)\n",
        "  conv3 = Conv1D(filters=100, kernel_size=5, padding='same', activation='relu', strides=1)(emb3)\n",
        "  drop3 = Dropout(0.5)(conv3)\n",
        "  pool3 = GlobalMaxPooling1D()(drop3)\n",
        "  # pool3 = MaxPooling1D(pool_size=2)(drop3)\n",
        "  flat3 = Flatten()(pool3)\n",
        "\n",
        "  # merge CNN output with reference stats\n",
        "  merged = concatenate([flat1, flat2, flat3])\n",
        "\n",
        "  dense1 = Dense(500, activation='relu')(merged)\n",
        "  outputs = Dense(5, activation=\"softmax\")(dense1)\n",
        "  model = Model(inputs=[inputs1, inputs2, inputs3], outputs=outputs)\n",
        "  model.compile(loss='categorical_crossentropy', optimizer='RMSprop', metrics=['accuracy'])\n",
        "  print(model.summary())\n",
        "  # plot_model(model, show_shapes=True, to_file='multichannel.png')\n",
        "  return model\n",
        "\n",
        "np.random.seed(5)\n",
        "random.seed(5)\n",
        "session_conf = tf.compat.v1.ConfigProto(intra_op_parallelism_threads=1,\n",
        "                              inter_op_parallelism_threads=1)\n",
        "tf.compat.v1.set_random_seed(5)\n",
        "\n",
        "# define model\n",
        "model = custom_CNN(input_length=20, input_length2=12, vocab_size=dict_len+1,emb_dim = 100)\n",
        "model.fit(x=[X_train,X_train,X_train], y=Y_train, validation_data = ([X_test,X_test,X_test], Y_test), batch_size=64, epochs=5) \n",
        "# save the model\n",
        "# model.save('model.h5')"
      ],
      "execution_count": null,
      "outputs": [
        {
          "output_type": "stream",
          "text": [
            "Model: \"model_39\"\n",
            "__________________________________________________________________________________________________\n",
            "Layer (type)                    Output Shape         Param #     Connected to                     \n",
            "==================================================================================================\n",
            "input_106 (InputLayer)          [(None, 20)]         0                                            \n",
            "__________________________________________________________________________________________________\n",
            "input_107 (InputLayer)          [(None, 20)]         0                                            \n",
            "__________________________________________________________________________________________________\n",
            "input_108 (InputLayer)          [(None, 20)]         0                                            \n",
            "__________________________________________________________________________________________________\n",
            "embedding_71 (Embedding)        (None, 20, 100)      932200      input_106[0][0]                  \n",
            "__________________________________________________________________________________________________\n",
            "embedding_72 (Embedding)        (None, 20, 100)      932200      input_107[0][0]                  \n",
            "__________________________________________________________________________________________________\n",
            "embedding_73 (Embedding)        (None, 20, 100)      932200      input_108[0][0]                  \n",
            "__________________________________________________________________________________________________\n",
            "conv1d_60 (Conv1D)              (None, 20, 100)      30100       embedding_71[0][0]               \n",
            "__________________________________________________________________________________________________\n",
            "conv1d_61 (Conv1D)              (None, 20, 100)      40100       embedding_72[0][0]               \n",
            "__________________________________________________________________________________________________\n",
            "conv1d_62 (Conv1D)              (None, 20, 100)      50100       embedding_73[0][0]               \n",
            "__________________________________________________________________________________________________\n",
            "dropout_61 (Dropout)            (None, 20, 100)      0           conv1d_60[0][0]                  \n",
            "__________________________________________________________________________________________________\n",
            "dropout_62 (Dropout)            (None, 20, 100)      0           conv1d_61[0][0]                  \n",
            "__________________________________________________________________________________________________\n",
            "dropout_63 (Dropout)            (None, 20, 100)      0           conv1d_62[0][0]                  \n",
            "__________________________________________________________________________________________________\n",
            "global_max_pooling1d_54 (Global (None, 100)          0           dropout_61[0][0]                 \n",
            "__________________________________________________________________________________________________\n",
            "global_max_pooling1d_55 (Global (None, 100)          0           dropout_62[0][0]                 \n",
            "__________________________________________________________________________________________________\n",
            "global_max_pooling1d_56 (Global (None, 100)          0           dropout_63[0][0]                 \n",
            "__________________________________________________________________________________________________\n",
            "flatten_58 (Flatten)            (None, 100)          0           global_max_pooling1d_54[0][0]    \n",
            "__________________________________________________________________________________________________\n",
            "flatten_59 (Flatten)            (None, 100)          0           global_max_pooling1d_55[0][0]    \n",
            "__________________________________________________________________________________________________\n",
            "flatten_60 (Flatten)            (None, 100)          0           global_max_pooling1d_56[0][0]    \n",
            "__________________________________________________________________________________________________\n",
            "tf_op_layer_concat_41 (TensorFl [(None, 300)]        0           flatten_58[0][0]                 \n",
            "                                                                 flatten_59[0][0]                 \n",
            "                                                                 flatten_60[0][0]                 \n",
            "__________________________________________________________________________________________________\n",
            "dense_102 (Dense)               (None, 500)          150500      tf_op_layer_concat_41[0][0]      \n",
            "__________________________________________________________________________________________________\n",
            "dense_103 (Dense)               (None, 5)            2505        dense_102[0][0]                  \n",
            "==================================================================================================\n",
            "Total params: 3,069,905\n",
            "Trainable params: 3,069,905\n",
            "Non-trainable params: 0\n",
            "__________________________________________________________________________________________________\n",
            "None\n",
            "Epoch 1/5\n",
            "160/160 [==============================] - 9s 56ms/step - loss: 1.1100 - accuracy: 0.5593 - val_loss: 0.8752 - val_accuracy: 0.7117\n",
            "Epoch 2/5\n",
            "160/160 [==============================] - 9s 56ms/step - loss: 0.6282 - accuracy: 0.7778 - val_loss: 0.7798 - val_accuracy: 0.7183\n",
            "Epoch 3/5\n",
            "160/160 [==============================] - 9s 56ms/step - loss: 0.4556 - accuracy: 0.8426 - val_loss: 0.7289 - val_accuracy: 0.7347\n",
            "Epoch 4/5\n",
            "160/160 [==============================] - 9s 56ms/step - loss: 0.3320 - accuracy: 0.8862 - val_loss: 0.7311 - val_accuracy: 0.7390\n",
            "Epoch 5/5\n",
            "160/160 [==============================] - 9s 56ms/step - loss: 0.2315 - accuracy: 0.9234 - val_loss: 0.7941 - val_accuracy: 0.7171\n"
          ],
          "name": "stdout"
        },
        {
          "output_type": "execute_result",
          "data": {
            "text/plain": [
              "<tensorflow.python.keras.callbacks.History at 0x7f8190bb9d68>"
            ]
          },
          "metadata": {
            "tags": []
          },
          "execution_count": 183
        }
      ]
    },
    {
      "cell_type": "code",
      "metadata": {
        "id": "Dpcb35XU4x7w",
        "colab_type": "code",
        "colab": {
          "base_uri": "https://localhost:8080/",
          "height": 1000
        },
        "outputId": "198c8584-5a84-4780-e225-266b3b5b84b5"
      },
      "source": [
        "# kernel size: 3,4,5\n",
        "dropout = [0, 0.25, 0.35, 0.5]\n",
        "filters = [50, 100, 200, 300]\n",
        "# MaxOverTime pooling\n",
        "\n",
        "for i in filters:\n",
        "  for j in dropout:\n",
        "    print(\"Number of hidden units: \", i, \"dropout: \",j)\n",
        "\n",
        "    def custom_CNN(input_length=20,input_length2=12,vocab_size=dict_len+1,emb_dim = 100):\n",
        "      # define CNN layer\n",
        "      inputs1 = Input(shape=(input_length,))\n",
        "      emb1 = Embedding(vocab_size, emb_dim)(inputs1)\n",
        "      conv1 = Conv1D(filters=i, kernel_size=3, padding='same', activation='relu', strides=1)(emb1)\n",
        "      drop1 = Dropout(j)(conv1)\n",
        "      pool1 = GlobalMaxPooling1D()(drop1) # MaxOverTime\n",
        "      # pool1 = MaxPooling1D(pool_size=2)(drop1)\n",
        "      flat1 = Flatten()(pool1)\n",
        "\n",
        "      inputs2 = Input(shape=(input_length,))\n",
        "      emb2 = Embedding(vocab_size, emb_dim)(inputs2)\n",
        "      conv2 = Conv1D(filters=i, kernel_size=4, padding='same', activation='relu', strides=1)(emb2)\n",
        "      drop2 = Dropout(j)(conv2)\n",
        "      pool2 = GlobalMaxPooling1D()(drop2)\n",
        "      # pool2 = MaxPooling1D(pool_size=2)(drop2)\n",
        "      flat2 = Flatten()(pool2)\n",
        "\n",
        "      inputs3 = Input(shape=(input_length,))\n",
        "      emb3 = Embedding(vocab_size, emb_dim)(inputs3)\n",
        "      conv3 = Conv1D(filters=i, kernel_size=5, padding='same', activation='relu', strides=1)(emb3)\n",
        "      drop3 = Dropout(j)(conv3)\n",
        "      pool3 = GlobalMaxPooling1D()(drop3)\n",
        "      # pool3 = MaxPooling1D(pool_size=2)(drop3)\n",
        "      flat3 = Flatten()(pool3)\n",
        "\n",
        "      # merge CNN output with reference stats\n",
        "      merged = concatenate([flat1, flat2, flat3])\n",
        "\n",
        "      dense1 = Dense(500, activation='relu')(merged)\n",
        "      outputs = Dense(5, activation=\"softmax\")(dense1)\n",
        "      model = Model(inputs=[inputs1, inputs2, inputs3], outputs=outputs)\n",
        "      model.compile(loss='categorical_crossentropy', optimizer='RMSprop', metrics=['accuracy'])\n",
        "      # print(model.summary())\n",
        "      # plot_model(model, show_shapes=True, to_file='multichannel.png')\n",
        "      return model\n",
        "\n",
        "    np.random.seed(5)\n",
        "    random.seed(5)\n",
        "    session_conf = tf.compat.v1.ConfigProto(intra_op_parallelism_threads=1,\n",
        "                                  inter_op_parallelism_threads=1)\n",
        "    tf.compat.v1.set_random_seed(5)\n",
        "\n",
        "    # define model\n",
        "    model = custom_CNN(input_length=20, input_length2=12, vocab_size=dict_len+1,emb_dim = 100)\n",
        "    model.fit(x=[X_train,X_train,X_train], y=Y_train, validation_data = ([X_test,X_test,X_test], Y_test), batch_size=64, epochs=5) \n",
        "    # save the model\n",
        "    # model.save('model.h5')"
      ],
      "execution_count": null,
      "outputs": [
        {
          "output_type": "stream",
          "text": [
            "Number of hidden units:  50 dropout:  0\n",
            "Epoch 1/5\n",
            "160/160 [==============================] - 7s 42ms/step - loss: 1.1334 - accuracy: 0.5552 - val_loss: 0.8149 - val_accuracy: 0.7066\n",
            "Epoch 2/5\n",
            "160/160 [==============================] - 7s 41ms/step - loss: 0.5854 - accuracy: 0.7982 - val_loss: 0.7577 - val_accuracy: 0.7351\n",
            "Epoch 3/5\n",
            "160/160 [==============================] - 7s 41ms/step - loss: 0.3422 - accuracy: 0.8863 - val_loss: 0.7922 - val_accuracy: 0.7285\n",
            "Epoch 4/5\n",
            "160/160 [==============================] - 6s 41ms/step - loss: 0.1646 - accuracy: 0.9513 - val_loss: 0.8979 - val_accuracy: 0.7257\n",
            "Epoch 5/5\n",
            "160/160 [==============================] - 6s 41ms/step - loss: 0.0613 - accuracy: 0.9844 - val_loss: 1.0848 - val_accuracy: 0.7148\n",
            "Number of hidden units:  50 dropout:  0.25\n",
            "Epoch 1/5\n",
            "160/160 [==============================] - 7s 43ms/step - loss: 1.1381 - accuracy: 0.5543 - val_loss: 0.8370 - val_accuracy: 0.7105\n",
            "Epoch 2/5\n",
            "160/160 [==============================] - 7s 42ms/step - loss: 0.6105 - accuracy: 0.7856 - val_loss: 0.7442 - val_accuracy: 0.7300\n",
            "Epoch 3/5\n",
            "160/160 [==============================] - 7s 42ms/step - loss: 0.4042 - accuracy: 0.8608 - val_loss: 0.7333 - val_accuracy: 0.7312\n",
            "Epoch 4/5\n",
            "160/160 [==============================] - 7s 42ms/step - loss: 0.2524 - accuracy: 0.9148 - val_loss: 0.7853 - val_accuracy: 0.7324\n",
            "Epoch 5/5\n",
            "160/160 [==============================] - 7s 43ms/step - loss: 0.1464 - accuracy: 0.9562 - val_loss: 0.8781 - val_accuracy: 0.7187\n",
            "Number of hidden units:  50 dropout:  0.35\n",
            "Epoch 1/5\n",
            "160/160 [==============================] - 7s 41ms/step - loss: 1.1432 - accuracy: 0.5502 - val_loss: 0.8649 - val_accuracy: 0.7081\n",
            "Epoch 2/5\n",
            "160/160 [==============================] - 6s 40ms/step - loss: 0.6255 - accuracy: 0.7811 - val_loss: 0.7570 - val_accuracy: 0.7281\n",
            "Epoch 3/5\n",
            "160/160 [==============================] - 6s 39ms/step - loss: 0.4332 - accuracy: 0.8501 - val_loss: 0.7278 - val_accuracy: 0.7328\n",
            "Epoch 4/5\n",
            "160/160 [==============================] - 6s 40ms/step - loss: 0.2938 - accuracy: 0.8979 - val_loss: 0.7625 - val_accuracy: 0.7285\n",
            "Epoch 5/5\n",
            "160/160 [==============================] - 6s 40ms/step - loss: 0.1919 - accuracy: 0.9372 - val_loss: 0.8215 - val_accuracy: 0.7269\n",
            "Number of hidden units:  50 dropout:  0.5\n",
            "Epoch 1/5\n",
            "160/160 [==============================] - 7s 42ms/step - loss: 1.1484 - accuracy: 0.5468 - val_loss: 0.9051 - val_accuracy: 0.7074\n",
            "Epoch 2/5\n",
            "160/160 [==============================] - 7s 43ms/step - loss: 0.6489 - accuracy: 0.7732 - val_loss: 0.7801 - val_accuracy: 0.7316\n",
            "Epoch 3/5\n",
            "160/160 [==============================] - 7s 41ms/step - loss: 0.4726 - accuracy: 0.8348 - val_loss: 0.7321 - val_accuracy: 0.7387\n",
            "Epoch 4/5\n",
            "160/160 [==============================] - 7s 41ms/step - loss: 0.3549 - accuracy: 0.8750 - val_loss: 0.7300 - val_accuracy: 0.7332\n",
            "Epoch 5/5\n",
            "160/160 [==============================] - 6s 41ms/step - loss: 0.2580 - accuracy: 0.9124 - val_loss: 0.7630 - val_accuracy: 0.7250\n",
            "Number of hidden units:  100 dropout:  0\n",
            "Epoch 1/5\n",
            "160/160 [==============================] - 9s 56ms/step - loss: 1.1069 - accuracy: 0.5673 - val_loss: 0.7912 - val_accuracy: 0.7179\n",
            "Epoch 2/5\n",
            "160/160 [==============================] - 9s 56ms/step - loss: 0.5767 - accuracy: 0.7980 - val_loss: 0.7528 - val_accuracy: 0.7308\n",
            "Epoch 3/5\n",
            "160/160 [==============================] - 9s 56ms/step - loss: 0.3454 - accuracy: 0.8837 - val_loss: 0.7925 - val_accuracy: 0.7242\n",
            "Epoch 4/5\n",
            "160/160 [==============================] - 9s 56ms/step - loss: 0.1692 - accuracy: 0.9481 - val_loss: 0.8917 - val_accuracy: 0.7242\n",
            "Epoch 5/5\n",
            "160/160 [==============================] - 9s 56ms/step - loss: 0.0605 - accuracy: 0.9831 - val_loss: 1.0775 - val_accuracy: 0.7210\n",
            "Number of hidden units:  100 dropout:  0.25\n",
            "Epoch 1/5\n",
            "160/160 [==============================] - 9s 56ms/step - loss: 1.1034 - accuracy: 0.5666 - val_loss: 0.8186 - val_accuracy: 0.7152\n",
            "Epoch 2/5\n",
            "160/160 [==============================] - 9s 55ms/step - loss: 0.5979 - accuracy: 0.7898 - val_loss: 0.7514 - val_accuracy: 0.7261\n",
            "Epoch 3/5\n",
            "160/160 [==============================] - 9s 55ms/step - loss: 0.4003 - accuracy: 0.8632 - val_loss: 0.7378 - val_accuracy: 0.7320\n",
            "Epoch 4/5\n",
            "160/160 [==============================] - 9s 56ms/step - loss: 0.2503 - accuracy: 0.9169 - val_loss: 0.8016 - val_accuracy: 0.7175\n",
            "Epoch 5/5\n",
            "160/160 [==============================] - 9s 56ms/step - loss: 0.1397 - accuracy: 0.9572 - val_loss: 0.8906 - val_accuracy: 0.7207\n",
            "Number of hidden units:  100 dropout:  0.35\n",
            "Epoch 1/5\n",
            "160/160 [==============================] - 9s 57ms/step - loss: 1.1036 - accuracy: 0.5652 - val_loss: 0.8350 - val_accuracy: 0.7089\n",
            "Epoch 2/5\n",
            "160/160 [==============================] - 9s 55ms/step - loss: 0.6060 - accuracy: 0.7850 - val_loss: 0.7558 - val_accuracy: 0.7226\n",
            "Epoch 3/5\n",
            "160/160 [==============================] - 9s 56ms/step - loss: 0.4197 - accuracy: 0.8560 - val_loss: 0.7306 - val_accuracy: 0.7332\n",
            "Epoch 4/5\n",
            "160/160 [==============================] - 9s 55ms/step - loss: 0.2840 - accuracy: 0.9034 - val_loss: 0.7658 - val_accuracy: 0.7297\n",
            "Epoch 5/5\n",
            "160/160 [==============================] - 9s 56ms/step - loss: 0.1744 - accuracy: 0.9442 - val_loss: 0.8317 - val_accuracy: 0.7281\n",
            "Number of hidden units:  100 dropout:  0.5\n",
            "Epoch 1/5\n",
            "160/160 [==============================] - 9s 56ms/step - loss: 1.1100 - accuracy: 0.5593 - val_loss: 0.8752 - val_accuracy: 0.7117\n",
            "Epoch 2/5\n",
            "160/160 [==============================] - 9s 55ms/step - loss: 0.6282 - accuracy: 0.7778 - val_loss: 0.7798 - val_accuracy: 0.7183\n",
            "Epoch 3/5\n",
            "160/160 [==============================] - 9s 56ms/step - loss: 0.4556 - accuracy: 0.8426 - val_loss: 0.7289 - val_accuracy: 0.7347\n",
            "Epoch 4/5\n",
            "160/160 [==============================] - 9s 55ms/step - loss: 0.3320 - accuracy: 0.8862 - val_loss: 0.7311 - val_accuracy: 0.7390\n",
            "Epoch 5/5\n",
            "160/160 [==============================] - 9s 56ms/step - loss: 0.2315 - accuracy: 0.9234 - val_loss: 0.7941 - val_accuracy: 0.7171\n",
            "Number of hidden units:  200 dropout:  0\n",
            "Epoch 1/5\n",
            "160/160 [==============================] - 13s 79ms/step - loss: 1.0786 - accuracy: 0.5792 - val_loss: 0.7790 - val_accuracy: 0.7195\n",
            "Epoch 2/5\n",
            "160/160 [==============================] - 12s 78ms/step - loss: 0.5749 - accuracy: 0.8002 - val_loss: 0.7567 - val_accuracy: 0.7265\n",
            "Epoch 3/5\n",
            "160/160 [==============================] - 13s 78ms/step - loss: 0.3524 - accuracy: 0.8790 - val_loss: 0.7936 - val_accuracy: 0.7293\n",
            "Epoch 4/5\n",
            "160/160 [==============================] - 13s 79ms/step - loss: 0.1783 - accuracy: 0.9440 - val_loss: 0.9128 - val_accuracy: 0.7265\n",
            "Epoch 5/5\n",
            "160/160 [==============================] - 13s 79ms/step - loss: 0.0698 - accuracy: 0.9809 - val_loss: 1.0985 - val_accuracy: 0.7164\n",
            "Number of hidden units:  200 dropout:  0.25\n",
            "Epoch 1/5\n",
            "160/160 [==============================] - 13s 82ms/step - loss: 1.0769 - accuracy: 0.5723 - val_loss: 0.8037 - val_accuracy: 0.7179\n",
            "Epoch 2/5\n",
            "160/160 [==============================] - 13s 79ms/step - loss: 0.5903 - accuracy: 0.7937 - val_loss: 0.7547 - val_accuracy: 0.7195\n",
            "Epoch 3/5\n",
            "160/160 [==============================] - 13s 80ms/step - loss: 0.3976 - accuracy: 0.8616 - val_loss: 0.7364 - val_accuracy: 0.7410\n",
            "Epoch 4/5\n",
            "160/160 [==============================] - 13s 79ms/step - loss: 0.2490 - accuracy: 0.9184 - val_loss: 0.8028 - val_accuracy: 0.7281\n",
            "Epoch 5/5\n",
            "160/160 [==============================] - 13s 79ms/step - loss: 0.1352 - accuracy: 0.9582 - val_loss: 0.9031 - val_accuracy: 0.7203\n",
            "Number of hidden units:  200 dropout:  0.35\n",
            "Epoch 1/5\n",
            "160/160 [==============================] - 13s 79ms/step - loss: 1.0753 - accuracy: 0.5752 - val_loss: 0.8228 - val_accuracy: 0.7207\n",
            "Epoch 2/5\n",
            "160/160 [==============================] - 13s 79ms/step - loss: 0.5976 - accuracy: 0.7897 - val_loss: 0.7548 - val_accuracy: 0.7207\n",
            "Epoch 3/5\n",
            "160/160 [==============================] - 13s 80ms/step - loss: 0.4139 - accuracy: 0.8551 - val_loss: 0.7308 - val_accuracy: 0.7355\n",
            "Epoch 4/5\n",
            "160/160 [==============================] - 13s 79ms/step - loss: 0.2774 - accuracy: 0.9058 - val_loss: 0.7711 - val_accuracy: 0.7289\n",
            "Epoch 5/5\n",
            "160/160 [==============================] - 13s 79ms/step - loss: 0.1650 - accuracy: 0.9479 - val_loss: 0.8575 - val_accuracy: 0.7187\n",
            "Number of hidden units:  200 dropout:  0.5\n",
            "Epoch 1/5\n",
            "160/160 [==============================] - 13s 81ms/step - loss: 1.0796 - accuracy: 0.5733 - val_loss: 0.8628 - val_accuracy: 0.7117\n",
            "Epoch 2/5\n",
            "160/160 [==============================] - 13s 79ms/step - loss: 0.6110 - accuracy: 0.7861 - val_loss: 0.7741 - val_accuracy: 0.7238\n",
            "Epoch 3/5\n",
            "160/160 [==============================] - 13s 80ms/step - loss: 0.4396 - accuracy: 0.8472 - val_loss: 0.7225 - val_accuracy: 0.7293\n",
            "Epoch 4/5\n",
            "160/160 [==============================] - 13s 80ms/step - loss: 0.3122 - accuracy: 0.8919 - val_loss: 0.7475 - val_accuracy: 0.7265\n",
            "Epoch 5/5\n",
            "160/160 [==============================] - 13s 80ms/step - loss: 0.2080 - accuracy: 0.9318 - val_loss: 0.8217 - val_accuracy: 0.7167\n",
            "Number of hidden units:  300 dropout:  0\n",
            "Epoch 1/5\n",
            "160/160 [==============================] - 22s 136ms/step - loss: 1.0647 - accuracy: 0.5803 - val_loss: 0.7747 - val_accuracy: 0.7250\n",
            "Epoch 2/5\n",
            "160/160 [==============================] - 21s 134ms/step - loss: 0.5761 - accuracy: 0.8000 - val_loss: 0.7616 - val_accuracy: 0.7207\n",
            "Epoch 3/5\n",
            "160/160 [==============================] - 21s 134ms/step - loss: 0.3648 - accuracy: 0.8731 - val_loss: 0.7895 - val_accuracy: 0.7265\n",
            "Epoch 4/5\n",
            "160/160 [==============================] - 21s 134ms/step - loss: 0.1938 - accuracy: 0.9387 - val_loss: 0.9139 - val_accuracy: 0.7226\n",
            "Epoch 5/5\n",
            "160/160 [==============================] - 21s 134ms/step - loss: 0.0815 - accuracy: 0.9764 - val_loss: 1.0806 - val_accuracy: 0.7195\n",
            "Number of hidden units:  300 dropout:  0.25\n",
            "Epoch 1/5\n",
            "160/160 [==============================] - 22s 136ms/step - loss: 1.0575 - accuracy: 0.5801 - val_loss: 0.7983 - val_accuracy: 0.7226\n",
            "Epoch 2/5\n",
            "160/160 [==============================] - 22s 137ms/step - loss: 0.5913 - accuracy: 0.7934 - val_loss: 0.7559 - val_accuracy: 0.7195\n",
            "Epoch 3/5\n",
            "160/160 [==============================] - 22s 137ms/step - loss: 0.4052 - accuracy: 0.8601 - val_loss: 0.7346 - val_accuracy: 0.7363\n",
            "Epoch 4/5\n",
            "160/160 [==============================] - 22s 134ms/step - loss: 0.2562 - accuracy: 0.9119 - val_loss: 0.8173 - val_accuracy: 0.7191\n",
            "Epoch 5/5\n",
            "160/160 [==============================] - 22s 136ms/step - loss: 0.1387 - accuracy: 0.9570 - val_loss: 0.9201 - val_accuracy: 0.7160\n",
            "Number of hidden units:  300 dropout:  0.35\n",
            "Epoch 1/5\n",
            "160/160 [==============================] - 22s 136ms/step - loss: 1.0629 - accuracy: 0.5790 - val_loss: 0.8167 - val_accuracy: 0.7218\n",
            "Epoch 2/5\n",
            "160/160 [==============================] - 22s 135ms/step - loss: 0.6003 - accuracy: 0.7901 - val_loss: 0.7596 - val_accuracy: 0.7179\n",
            "Epoch 3/5\n",
            "160/160 [==============================] - 22s 136ms/step - loss: 0.4215 - accuracy: 0.8536 - val_loss: 0.7238 - val_accuracy: 0.7344\n",
            "Epoch 4/5\n",
            "160/160 [==============================] - 22s 138ms/step - loss: 0.2801 - accuracy: 0.9040 - val_loss: 0.7867 - val_accuracy: 0.7183\n",
            "Epoch 5/5\n",
            "160/160 [==============================] - 22s 136ms/step - loss: 0.1658 - accuracy: 0.9467 - val_loss: 0.8705 - val_accuracy: 0.7124\n",
            "Number of hidden units:  300 dropout:  0.5\n",
            "Epoch 1/5\n",
            "160/160 [==============================] - 22s 136ms/step - loss: 1.0690 - accuracy: 0.5772 - val_loss: 0.8609 - val_accuracy: 0.7187\n",
            "Epoch 2/5\n",
            "160/160 [==============================] - 22s 136ms/step - loss: 0.6082 - accuracy: 0.7833 - val_loss: 0.7716 - val_accuracy: 0.7152\n",
            "Epoch 3/5\n",
            "160/160 [==============================] - 22s 136ms/step - loss: 0.4411 - accuracy: 0.8448 - val_loss: 0.7229 - val_accuracy: 0.7340\n",
            "Epoch 4/5\n",
            "160/160 [==============================] - 22s 136ms/step - loss: 0.3141 - accuracy: 0.8905 - val_loss: 0.7541 - val_accuracy: 0.7254\n",
            "Epoch 5/5\n",
            "160/160 [==============================] - 22s 137ms/step - loss: 0.2094 - accuracy: 0.9336 - val_loss: 0.8225 - val_accuracy: 0.7183\n"
          ],
          "name": "stdout"
        }
      ]
    },
    {
      "cell_type": "code",
      "metadata": {
        "id": "KCmub42Y7xXG",
        "colab_type": "code",
        "colab": {
          "base_uri": "https://localhost:8080/",
          "height": 1000
        },
        "outputId": "3da4cb42-45a5-4606-f7f7-ec972819c5c8"
      },
      "source": [
        "# kernel size: 3,4,5\n",
        "# removed padding = \"same\"\n",
        "dropout = [0, 0.25, 0.35, 0.5]\n",
        "filters = [50, 100, 200, 300]\n",
        "# MaxOverTime pooling\n",
        "\n",
        "for i in filters:\n",
        "  for j in dropout:\n",
        "    print(\"Number of hidden units: \", i, \"dropout: \",j)\n",
        "\n",
        "    def custom_CNN(input_length=20,input_length2=12,vocab_size=dict_len+1,emb_dim = 100):\n",
        "      # define CNN layer\n",
        "      inputs1 = Input(shape=(input_length,))\n",
        "      emb1 = Embedding(vocab_size, emb_dim)(inputs1)\n",
        "      conv1 = Conv1D(filters=i, kernel_size=3, activation='relu', strides=1)(emb1) # removed padding='same', \n",
        "      drop1 = Dropout(j)(conv1)\n",
        "      pool1 = GlobalMaxPooling1D()(drop1) # MaxOverTime\n",
        "      # pool1 = MaxPooling1D(pool_size=2)(drop1)\n",
        "      flat1 = Flatten()(pool1)\n",
        "\n",
        "      inputs2 = Input(shape=(input_length,))\n",
        "      emb2 = Embedding(vocab_size, emb_dim)(inputs2)\n",
        "      conv2 = Conv1D(filters=i, kernel_size=4, activation='relu', strides=1)(emb2) # removed padding='same', \n",
        "      drop2 = Dropout(j)(conv2)\n",
        "      pool2 = GlobalMaxPooling1D()(drop2)\n",
        "      # pool2 = MaxPooling1D(pool_size=2)(drop2)\n",
        "      flat2 = Flatten()(pool2)\n",
        "\n",
        "      inputs3 = Input(shape=(input_length,))\n",
        "      emb3 = Embedding(vocab_size, emb_dim)(inputs3)\n",
        "      conv3 = Conv1D(filters=i, kernel_size=5, activation='relu', strides=1)(emb3) # removed padding='same', \n",
        "      drop3 = Dropout(j)(conv3)\n",
        "      pool3 = GlobalMaxPooling1D()(drop3)\n",
        "      # pool3 = MaxPooling1D(pool_size=2)(drop3)\n",
        "      flat3 = Flatten()(pool3)\n",
        "\n",
        "      # merge CNN output with reference stats\n",
        "      merged = concatenate([flat1, flat2, flat3])\n",
        "\n",
        "      dense1 = Dense(500, activation='relu')(merged)\n",
        "      outputs = Dense(5, activation=\"softmax\")(dense1)\n",
        "      model = Model(inputs=[inputs1, inputs2, inputs3], outputs=outputs)\n",
        "      model.compile(loss='categorical_crossentropy', optimizer='RMSprop', metrics=['accuracy'])\n",
        "      # print(model.summary())\n",
        "      # plot_model(model, show_shapes=True, to_file='multichannel.png')\n",
        "      return model\n",
        "\n",
        "    np.random.seed(5)\n",
        "    random.seed(5)\n",
        "    session_conf = tf.compat.v1.ConfigProto(intra_op_parallelism_threads=1,\n",
        "                                  inter_op_parallelism_threads=1)\n",
        "    tf.compat.v1.set_random_seed(5)\n",
        "\n",
        "    # define model\n",
        "    model = custom_CNN(input_length=20, input_length2=12, vocab_size=dict_len+1,emb_dim = 100)\n",
        "    model.fit(x=[X_train,X_train,X_train], y=Y_train, validation_data = ([X_test,X_test,X_test], Y_test), batch_size=64, epochs=5) \n",
        "    # save the model\n",
        "    # model.save('model.h5')"
      ],
      "execution_count": null,
      "outputs": [
        {
          "output_type": "stream",
          "text": [
            "Number of hidden units:  50 dropout:  0\n",
            "Epoch 1/5\n",
            "160/160 [==============================] - 6s 38ms/step - loss: 1.1480 - accuracy: 0.5474 - val_loss: 0.8246 - val_accuracy: 0.7023\n",
            "Epoch 2/5\n",
            "160/160 [==============================] - 6s 38ms/step - loss: 0.5914 - accuracy: 0.7934 - val_loss: 0.7591 - val_accuracy: 0.7261\n",
            "Epoch 3/5\n",
            "160/160 [==============================] - 6s 37ms/step - loss: 0.3412 - accuracy: 0.8858 - val_loss: 0.7892 - val_accuracy: 0.7222\n",
            "Epoch 4/5\n",
            "160/160 [==============================] - 6s 37ms/step - loss: 0.1599 - accuracy: 0.9521 - val_loss: 0.9036 - val_accuracy: 0.7257\n",
            "Epoch 5/5\n",
            "160/160 [==============================] - 6s 37ms/step - loss: 0.0597 - accuracy: 0.9848 - val_loss: 1.0869 - val_accuracy: 0.7105\n",
            "Number of hidden units:  50 dropout:  0.25\n",
            "Epoch 1/5\n",
            "160/160 [==============================] - 6s 38ms/step - loss: 1.1609 - accuracy: 0.5361 - val_loss: 0.8568 - val_accuracy: 0.7031\n",
            "Epoch 2/5\n",
            "160/160 [==============================] - 6s 38ms/step - loss: 0.6323 - accuracy: 0.7746 - val_loss: 0.7588 - val_accuracy: 0.7234\n",
            "Epoch 3/5\n",
            "160/160 [==============================] - 6s 38ms/step - loss: 0.4217 - accuracy: 0.8552 - val_loss: 0.7385 - val_accuracy: 0.7320\n",
            "Epoch 4/5\n",
            "160/160 [==============================] - 6s 38ms/step - loss: 0.2591 - accuracy: 0.9128 - val_loss: 0.7972 - val_accuracy: 0.7254\n",
            "Epoch 5/5\n",
            "160/160 [==============================] - 6s 38ms/step - loss: 0.1444 - accuracy: 0.9545 - val_loss: 0.8880 - val_accuracy: 0.7222\n",
            "Number of hidden units:  50 dropout:  0.35\n",
            "Epoch 1/5\n",
            "160/160 [==============================] - 6s 38ms/step - loss: 1.1649 - accuracy: 0.5343 - val_loss: 0.8739 - val_accuracy: 0.7027\n",
            "Epoch 2/5\n",
            "160/160 [==============================] - 6s 38ms/step - loss: 0.6449 - accuracy: 0.7695 - val_loss: 0.7713 - val_accuracy: 0.7175\n",
            "Epoch 3/5\n",
            "160/160 [==============================] - 6s 38ms/step - loss: 0.4508 - accuracy: 0.8446 - val_loss: 0.7276 - val_accuracy: 0.7402\n",
            "Epoch 4/5\n",
            "160/160 [==============================] - 6s 38ms/step - loss: 0.3035 - accuracy: 0.8967 - val_loss: 0.7670 - val_accuracy: 0.7312\n",
            "Epoch 5/5\n",
            "160/160 [==============================] - 6s 37ms/step - loss: 0.1918 - accuracy: 0.9380 - val_loss: 0.8388 - val_accuracy: 0.7203\n",
            "Number of hidden units:  50 dropout:  0.5\n",
            "Epoch 1/5\n",
            "160/160 [==============================] - 6s 38ms/step - loss: 1.1816 - accuracy: 0.5217 - val_loss: 0.9159 - val_accuracy: 0.7058\n",
            "Epoch 2/5\n",
            "160/160 [==============================] - 6s 38ms/step - loss: 0.6786 - accuracy: 0.7576 - val_loss: 0.7912 - val_accuracy: 0.7113\n",
            "Epoch 3/5\n",
            "160/160 [==============================] - 6s 38ms/step - loss: 0.4980 - accuracy: 0.8257 - val_loss: 0.7342 - val_accuracy: 0.7363\n",
            "Epoch 4/5\n",
            "160/160 [==============================] - 6s 37ms/step - loss: 0.3677 - accuracy: 0.8744 - val_loss: 0.7352 - val_accuracy: 0.7285\n",
            "Epoch 5/5\n",
            "160/160 [==============================] - 6s 37ms/step - loss: 0.2639 - accuracy: 0.9128 - val_loss: 0.7716 - val_accuracy: 0.7218\n",
            "Number of hidden units:  100 dropout:  0\n",
            "Epoch 1/5\n",
            "160/160 [==============================] - 8s 50ms/step - loss: 1.1155 - accuracy: 0.5642 - val_loss: 0.7950 - val_accuracy: 0.7171\n",
            "Epoch 2/5\n",
            "160/160 [==============================] - 8s 49ms/step - loss: 0.5784 - accuracy: 0.7973 - val_loss: 0.7589 - val_accuracy: 0.7234\n",
            "Epoch 3/5\n",
            "160/160 [==============================] - 8s 49ms/step - loss: 0.3391 - accuracy: 0.8866 - val_loss: 0.8029 - val_accuracy: 0.7187\n",
            "Epoch 4/5\n",
            "160/160 [==============================] - 8s 49ms/step - loss: 0.1577 - accuracy: 0.9523 - val_loss: 0.9003 - val_accuracy: 0.7242\n",
            "Epoch 5/5\n",
            "160/160 [==============================] - 8s 48ms/step - loss: 0.0554 - accuracy: 0.9853 - val_loss: 1.1164 - val_accuracy: 0.7171\n",
            "Number of hidden units:  100 dropout:  0.25\n",
            "Epoch 1/5\n",
            "160/160 [==============================] - 8s 49ms/step - loss: 1.1177 - accuracy: 0.5591 - val_loss: 0.8217 - val_accuracy: 0.7105\n",
            "Epoch 2/5\n",
            "160/160 [==============================] - 8s 47ms/step - loss: 0.6053 - accuracy: 0.7864 - val_loss: 0.7554 - val_accuracy: 0.7214\n",
            "Epoch 3/5\n",
            "160/160 [==============================] - 8s 47ms/step - loss: 0.3962 - accuracy: 0.8636 - val_loss: 0.7605 - val_accuracy: 0.7226\n",
            "Epoch 4/5\n",
            "160/160 [==============================] - 8s 48ms/step - loss: 0.2331 - accuracy: 0.9248 - val_loss: 0.8057 - val_accuracy: 0.7164\n",
            "Epoch 5/5\n",
            "160/160 [==============================] - 8s 47ms/step - loss: 0.1210 - accuracy: 0.9628 - val_loss: 0.9346 - val_accuracy: 0.7105\n",
            "Number of hidden units:  100 dropout:  0.35\n",
            "Epoch 1/5\n",
            "160/160 [==============================] - 8s 48ms/step - loss: 1.1224 - accuracy: 0.5571 - val_loss: 0.8381 - val_accuracy: 0.7074\n",
            "Epoch 2/5\n",
            "160/160 [==============================] - 8s 48ms/step - loss: 0.6203 - accuracy: 0.7811 - val_loss: 0.7571 - val_accuracy: 0.7238\n",
            "Epoch 3/5\n",
            "160/160 [==============================] - 9s 54ms/step - loss: 0.4236 - accuracy: 0.8539 - val_loss: 0.7463 - val_accuracy: 0.7226\n",
            "Epoch 4/5\n",
            "160/160 [==============================] - 8s 50ms/step - loss: 0.2719 - accuracy: 0.9083 - val_loss: 0.7721 - val_accuracy: 0.7210\n",
            "Epoch 5/5\n",
            "160/160 [==============================] - 8s 51ms/step - loss: 0.1635 - accuracy: 0.9482 - val_loss: 0.8670 - val_accuracy: 0.7191\n",
            "Number of hidden units:  100 dropout:  0.5\n",
            "Epoch 1/5\n",
            "160/160 [==============================] - 8s 51ms/step - loss: 1.1410 - accuracy: 0.5472 - val_loss: 0.8768 - val_accuracy: 0.7066\n",
            "Epoch 2/5\n",
            "160/160 [==============================] - 8s 50ms/step - loss: 0.6429 - accuracy: 0.7693 - val_loss: 0.7721 - val_accuracy: 0.7242\n",
            "Epoch 3/5\n",
            "160/160 [==============================] - 8s 53ms/step - loss: 0.4623 - accuracy: 0.8388 - val_loss: 0.7365 - val_accuracy: 0.7285\n",
            "Epoch 4/5\n",
            "160/160 [==============================] - 8s 52ms/step - loss: 0.3265 - accuracy: 0.8878 - val_loss: 0.7500 - val_accuracy: 0.7297\n",
            "Epoch 5/5\n",
            "160/160 [==============================] - 8s 52ms/step - loss: 0.2263 - accuracy: 0.9244 - val_loss: 0.8619 - val_accuracy: 0.7066\n",
            "Number of hidden units:  200 dropout:  0\n",
            "Epoch 1/5\n",
            "160/160 [==============================] - 12s 74ms/step - loss: 1.0849 - accuracy: 0.5730 - val_loss: 0.7878 - val_accuracy: 0.7160\n",
            "Epoch 2/5\n",
            "160/160 [==============================] - 12s 73ms/step - loss: 0.5759 - accuracy: 0.7991 - val_loss: 0.7703 - val_accuracy: 0.7210\n",
            "Epoch 3/5\n",
            "160/160 [==============================] - 12s 72ms/step - loss: 0.3428 - accuracy: 0.8843 - val_loss: 0.8215 - val_accuracy: 0.7191\n",
            "Epoch 4/5\n",
            "160/160 [==============================] - 12s 72ms/step - loss: 0.1615 - accuracy: 0.9518 - val_loss: 0.9458 - val_accuracy: 0.7222\n",
            "Epoch 5/5\n",
            "160/160 [==============================] - 12s 73ms/step - loss: 0.0598 - accuracy: 0.9828 - val_loss: 1.2090 - val_accuracy: 0.7066\n",
            "Number of hidden units:  200 dropout:  0.25\n",
            "Epoch 1/5\n",
            "160/160 [==============================] - 12s 74ms/step - loss: 1.0917 - accuracy: 0.5643 - val_loss: 0.8079 - val_accuracy: 0.7203\n",
            "Epoch 2/5\n",
            "160/160 [==============================] - 12s 73ms/step - loss: 0.6012 - accuracy: 0.7869 - val_loss: 0.7555 - val_accuracy: 0.7230\n",
            "Epoch 3/5\n",
            "160/160 [==============================] - 12s 73ms/step - loss: 0.3968 - accuracy: 0.8603 - val_loss: 0.7514 - val_accuracy: 0.7304\n",
            "Epoch 4/5\n",
            "160/160 [==============================] - 12s 73ms/step - loss: 0.2346 - accuracy: 0.9228 - val_loss: 0.8350 - val_accuracy: 0.7175\n",
            "Epoch 5/5\n",
            "160/160 [==============================] - 12s 74ms/step - loss: 0.1198 - accuracy: 0.9639 - val_loss: 0.9863 - val_accuracy: 0.7132\n",
            "Number of hidden units:  200 dropout:  0.35\n",
            "Epoch 1/5\n",
            "160/160 [==============================] - 12s 74ms/step - loss: 1.0961 - accuracy: 0.5643 - val_loss: 0.8294 - val_accuracy: 0.7160\n",
            "Epoch 2/5\n",
            "160/160 [==============================] - 12s 73ms/step - loss: 0.6108 - accuracy: 0.7817 - val_loss: 0.7603 - val_accuracy: 0.7183\n",
            "Epoch 3/5\n",
            "160/160 [==============================] - 12s 73ms/step - loss: 0.4135 - accuracy: 0.8562 - val_loss: 0.7366 - val_accuracy: 0.7254\n",
            "Epoch 4/5\n",
            "160/160 [==============================] - 12s 72ms/step - loss: 0.2547 - accuracy: 0.9146 - val_loss: 0.8222 - val_accuracy: 0.7164\n",
            "Epoch 5/5\n",
            "160/160 [==============================] - 12s 73ms/step - loss: 0.1421 - accuracy: 0.9550 - val_loss: 0.9153 - val_accuracy: 0.7128\n",
            "Number of hidden units:  200 dropout:  0.5\n",
            "Epoch 1/5\n",
            "160/160 [==============================] - 12s 74ms/step - loss: 1.1111 - accuracy: 0.5536 - val_loss: 0.8674 - val_accuracy: 0.7124\n",
            "Epoch 2/5\n",
            "160/160 [==============================] - 12s 73ms/step - loss: 0.6295 - accuracy: 0.7782 - val_loss: 0.7813 - val_accuracy: 0.7183\n",
            "Epoch 3/5\n",
            "160/160 [==============================] - 12s 73ms/step - loss: 0.4457 - accuracy: 0.8452 - val_loss: 0.7317 - val_accuracy: 0.7312\n",
            "Epoch 4/5\n",
            "160/160 [==============================] - 12s 73ms/step - loss: 0.3020 - accuracy: 0.8964 - val_loss: 0.7713 - val_accuracy: 0.7187\n",
            "Epoch 5/5\n",
            "160/160 [==============================] - 12s 74ms/step - loss: 0.1918 - accuracy: 0.9363 - val_loss: 0.8746 - val_accuracy: 0.7117\n",
            "Number of hidden units:  300 dropout:  0\n",
            "Epoch 1/5\n",
            "160/160 [==============================] - 21s 129ms/step - loss: 1.0734 - accuracy: 0.5768 - val_loss: 0.7820 - val_accuracy: 0.7164\n",
            "Epoch 2/5\n",
            "160/160 [==============================] - 20s 127ms/step - loss: 0.5801 - accuracy: 0.7969 - val_loss: 0.7649 - val_accuracy: 0.7226\n",
            "Epoch 3/5\n",
            "160/160 [==============================] - 21s 129ms/step - loss: 0.3555 - accuracy: 0.8792 - val_loss: 0.7973 - val_accuracy: 0.7265\n",
            "Epoch 4/5\n",
            "160/160 [==============================] - 20s 128ms/step - loss: 0.1708 - accuracy: 0.9486 - val_loss: 0.9753 - val_accuracy: 0.7128\n",
            "Epoch 5/5\n",
            "160/160 [==============================] - 21s 131ms/step - loss: 0.0657 - accuracy: 0.9809 - val_loss: 1.2147 - val_accuracy: 0.7081\n",
            "Number of hidden units:  300 dropout:  0.25\n",
            "Epoch 1/5\n",
            "160/160 [==============================] - 21s 128ms/step - loss: 1.0811 - accuracy: 0.5687 - val_loss: 0.8081 - val_accuracy: 0.7199\n",
            "Epoch 2/5\n",
            "160/160 [==============================] - 20s 128ms/step - loss: 0.6004 - accuracy: 0.7888 - val_loss: 0.7516 - val_accuracy: 0.7214\n",
            "Epoch 3/5\n",
            "160/160 [==============================] - 21s 129ms/step - loss: 0.3979 - accuracy: 0.8661 - val_loss: 0.7412 - val_accuracy: 0.7297\n",
            "Epoch 4/5\n",
            "160/160 [==============================] - 21s 129ms/step - loss: 0.2300 - accuracy: 0.9246 - val_loss: 0.8348 - val_accuracy: 0.7167\n",
            "Epoch 5/5\n",
            "160/160 [==============================] - 20s 127ms/step - loss: 0.1126 - accuracy: 0.9663 - val_loss: 0.9997 - val_accuracy: 0.7089\n",
            "Number of hidden units:  300 dropout:  0.35\n",
            "Epoch 1/5\n",
            "160/160 [==============================] - 21s 129ms/step - loss: 1.0884 - accuracy: 0.5659 - val_loss: 0.8264 - val_accuracy: 0.7140\n",
            "Epoch 2/5\n",
            "160/160 [==============================] - 21s 128ms/step - loss: 0.6087 - accuracy: 0.7832 - val_loss: 0.7580 - val_accuracy: 0.7148\n",
            "Epoch 3/5\n",
            "160/160 [==============================] - 20s 128ms/step - loss: 0.4160 - accuracy: 0.8556 - val_loss: 0.7413 - val_accuracy: 0.7308\n",
            "Epoch 4/5\n",
            "160/160 [==============================] - 21s 129ms/step - loss: 0.2546 - accuracy: 0.9130 - val_loss: 0.8017 - val_accuracy: 0.7152\n",
            "Epoch 5/5\n",
            "160/160 [==============================] - 21s 129ms/step - loss: 0.1350 - accuracy: 0.9574 - val_loss: 0.9651 - val_accuracy: 0.7066\n",
            "Number of hidden units:  300 dropout:  0.5\n",
            "Epoch 1/5\n",
            "160/160 [==============================] - 21s 128ms/step - loss: 1.0993 - accuracy: 0.5616 - val_loss: 0.8608 - val_accuracy: 0.7160\n",
            "Epoch 2/5\n",
            "160/160 [==============================] - 20s 128ms/step - loss: 0.6233 - accuracy: 0.7788 - val_loss: 0.7780 - val_accuracy: 0.7140\n",
            "Epoch 3/5\n",
            "160/160 [==============================] - 21s 130ms/step - loss: 0.4458 - accuracy: 0.8439 - val_loss: 0.7282 - val_accuracy: 0.7340\n",
            "Epoch 4/5\n",
            "160/160 [==============================] - 20s 128ms/step - loss: 0.3025 - accuracy: 0.8980 - val_loss: 0.7617 - val_accuracy: 0.7285\n",
            "Epoch 5/5\n",
            "160/160 [==============================] - 20s 128ms/step - loss: 0.1847 - accuracy: 0.9416 - val_loss: 0.8423 - val_accuracy: 0.7214\n"
          ],
          "name": "stdout"
        }
      ]
    },
    {
      "cell_type": "code",
      "metadata": {
        "id": "c0PsF4z24Vbg",
        "colab_type": "code",
        "colab": {
          "base_uri": "https://localhost:8080/",
          "height": 1000
        },
        "outputId": "70d386be-1cfe-4b7b-a106-e47ea1a11744"
      },
      "source": [
        "# This one no good!\n",
        "# kernel size: 4,6,8 - CHANGED\n",
        "# Increased stride in layers with wider kernels to 1-2-3\n",
        "# MaxOverTime pooling\n",
        "\n",
        "dropout = [0, 0.25, 0.35, 0.5]\n",
        "filters = [50, 100, 200, 300]\n",
        "# MaxOverTime pooling\n",
        "\n",
        "for i in filters:\n",
        "  for j in dropout:\n",
        "    print(\"Number of hidden units: \", i, \"dropout: \",j)\n",
        "\n",
        "    def custom_CNN(input_length=20,input_length2=12,vocab_size=dict_len+1,emb_dim = 100):\n",
        "      # define CNN layer\n",
        "      inputs1 = Input(shape=(input_length,))\n",
        "      emb1 = Embedding(vocab_size, emb_dim)(inputs1)\n",
        "      conv1 = Conv1D(filters=i, kernel_size=4, padding='same', activation='relu', strides=1)(emb1)\n",
        "      drop1 = Dropout(j)(conv1)\n",
        "      pool1 = GlobalMaxPooling1D()(drop1) # MaxOverTime\n",
        "      # pool1 = MaxPooling1D(pool_size=2)(drop1)\n",
        "      flat1 = Flatten()(pool1)\n",
        "\n",
        "      inputs2 = Input(shape=(input_length,))\n",
        "      emb2 = Embedding(vocab_size, emb_dim)(inputs2)\n",
        "      conv2 = Conv1D(filters=i, kernel_size=6, padding='same', activation='relu', strides=2)(emb2)\n",
        "      drop2 = Dropout(j)(conv2)\n",
        "      pool2 = GlobalMaxPooling1D()(drop2)\n",
        "      # pool2 = MaxPooling1D(pool_size=2)(drop2)\n",
        "      flat2 = Flatten()(pool2)\n",
        "\n",
        "      inputs3 = Input(shape=(input_length,))\n",
        "      emb3 = Embedding(vocab_size, emb_dim)(inputs3)\n",
        "      conv3 = Conv1D(filters=i, kernel_size=8, padding='same', activation='relu', strides=3)(emb3)\n",
        "      drop3 = Dropout(j)(conv3)\n",
        "      pool3 = GlobalMaxPooling1D()(drop3)\n",
        "      # pool3 = MaxPooling1D(pool_size=2)(drop3)\n",
        "      flat3 = Flatten()(pool3)\n",
        "\n",
        "      # merge CNN output with reference stats\n",
        "      merged = concatenate([flat1, flat2, flat3])\n",
        "\n",
        "      dense1 = Dense(500, activation='relu')(merged)\n",
        "      outputs = Dense(5, activation=\"softmax\")(dense1)\n",
        "      model = Model(inputs=[inputs1, inputs2, inputs3], outputs=outputs)\n",
        "      model.compile(loss='categorical_crossentropy', optimizer='RMSprop', metrics=['accuracy'])\n",
        "      # print(model.summary())\n",
        "      # plot_model(model, show_shapes=True, to_file='multichannel.png')\n",
        "      return model\n",
        "\n",
        "    np.random.seed(5)\n",
        "    random.seed(5)\n",
        "    session_conf = tf.compat.v1.ConfigProto(intra_op_parallelism_threads=1,\n",
        "                                  inter_op_parallelism_threads=1)\n",
        "    tf.compat.v1.set_random_seed(5)\n",
        "\n",
        "    # define model\n",
        "    model = custom_CNN(input_length=20, input_length2=12, vocab_size=dict_len+1,emb_dim = 100)\n",
        "    model.fit(x=[X_train,X_train,X_train], y=Y_train, validation_data = ([X_test,X_test,X_test], Y_test), batch_size=64, epochs=5) \n",
        "    # save the model\n",
        "    # model.save('model.h5')"
      ],
      "execution_count": null,
      "outputs": [
        {
          "output_type": "stream",
          "text": [
            "Number of hidden units:  50 dropout:  0\n",
            "Epoch 1/5\n",
            "160/160 [==============================] - 6s 37ms/step - loss: 1.1470 - accuracy: 0.5436 - val_loss: 0.8073 - val_accuracy: 0.7128\n",
            "Epoch 2/5\n",
            "160/160 [==============================] - 6s 37ms/step - loss: 0.5631 - accuracy: 0.8037 - val_loss: 0.7626 - val_accuracy: 0.7312\n",
            "Epoch 3/5\n",
            "160/160 [==============================] - 6s 36ms/step - loss: 0.2927 - accuracy: 0.9044 - val_loss: 0.8308 - val_accuracy: 0.7167\n",
            "Epoch 4/5\n",
            "160/160 [==============================] - 6s 36ms/step - loss: 0.1130 - accuracy: 0.9686 - val_loss: 1.0286 - val_accuracy: 0.6999\n",
            "Epoch 5/5\n",
            "160/160 [==============================] - 6s 36ms/step - loss: 0.0328 - accuracy: 0.9922 - val_loss: 1.2906 - val_accuracy: 0.6929\n",
            "Number of hidden units:  50 dropout:  0.25\n",
            "Epoch 1/5\n",
            "160/160 [==============================] - 6s 37ms/step - loss: 1.1553 - accuracy: 0.5382 - val_loss: 0.8373 - val_accuracy: 0.7050\n",
            "Epoch 2/5\n",
            "160/160 [==============================] - 6s 36ms/step - loss: 0.6013 - accuracy: 0.7861 - val_loss: 0.7554 - val_accuracy: 0.7273\n",
            "Epoch 3/5\n",
            "160/160 [==============================] - 6s 36ms/step - loss: 0.3607 - accuracy: 0.8763 - val_loss: 0.7667 - val_accuracy: 0.7254\n",
            "Epoch 4/5\n",
            "160/160 [==============================] - 6s 37ms/step - loss: 0.1954 - accuracy: 0.9358 - val_loss: 0.9246 - val_accuracy: 0.6925\n",
            "Epoch 5/5\n",
            "160/160 [==============================] - 6s 37ms/step - loss: 0.0939 - accuracy: 0.9721 - val_loss: 1.0291 - val_accuracy: 0.6944\n",
            "Number of hidden units:  50 dropout:  0.35\n",
            "Epoch 1/5\n",
            "160/160 [==============================] - 6s 37ms/step - loss: 1.1626 - accuracy: 0.5362 - val_loss: 0.8514 - val_accuracy: 0.7070\n",
            "Epoch 2/5\n",
            "160/160 [==============================] - 6s 36ms/step - loss: 0.6112 - accuracy: 0.7863 - val_loss: 0.7551 - val_accuracy: 0.7336\n",
            "Epoch 3/5\n",
            "160/160 [==============================] - 6s 36ms/step - loss: 0.3847 - accuracy: 0.8680 - val_loss: 0.7438 - val_accuracy: 0.7308\n",
            "Epoch 4/5\n",
            "160/160 [==============================] - 6s 37ms/step - loss: 0.2238 - accuracy: 0.9266 - val_loss: 0.8512 - val_accuracy: 0.7081\n",
            "Epoch 5/5\n",
            "160/160 [==============================] - 6s 36ms/step - loss: 0.1186 - accuracy: 0.9634 - val_loss: 0.9595 - val_accuracy: 0.6905\n",
            "Number of hidden units:  50 dropout:  0.5\n",
            "Epoch 1/5\n",
            "160/160 [==============================] - 6s 37ms/step - loss: 1.1836 - accuracy: 0.5233 - val_loss: 0.9041 - val_accuracy: 0.7027\n",
            "Epoch 2/5\n",
            "160/160 [==============================] - 6s 36ms/step - loss: 0.6376 - accuracy: 0.7755 - val_loss: 0.7718 - val_accuracy: 0.7324\n",
            "Epoch 3/5\n",
            "160/160 [==============================] - 6s 36ms/step - loss: 0.4251 - accuracy: 0.8506 - val_loss: 0.7431 - val_accuracy: 0.7332\n",
            "Epoch 4/5\n",
            "160/160 [==============================] - 6s 36ms/step - loss: 0.2788 - accuracy: 0.9041 - val_loss: 0.7964 - val_accuracy: 0.7132\n",
            "Epoch 5/5\n",
            "160/160 [==============================] - 6s 36ms/step - loss: 0.1665 - accuracy: 0.9459 - val_loss: 0.8854 - val_accuracy: 0.7050\n",
            "Number of hidden units:  100 dropout:  0\n",
            "Epoch 1/5\n",
            "160/160 [==============================] - 8s 48ms/step - loss: 1.1216 - accuracy: 0.5539 - val_loss: 0.7971 - val_accuracy: 0.7109\n",
            "Epoch 2/5\n",
            "160/160 [==============================] - 8s 47ms/step - loss: 0.5513 - accuracy: 0.8073 - val_loss: 0.7569 - val_accuracy: 0.7300\n",
            "Epoch 3/5\n",
            "160/160 [==============================] - 8s 47ms/step - loss: 0.2808 - accuracy: 0.9112 - val_loss: 0.8338 - val_accuracy: 0.7293\n",
            "Epoch 4/5\n",
            "160/160 [==============================] - 8s 47ms/step - loss: 0.1008 - accuracy: 0.9708 - val_loss: 1.0498 - val_accuracy: 0.7058\n",
            "Epoch 5/5\n",
            "160/160 [==============================] - 7s 46ms/step - loss: 0.0288 - accuracy: 0.9913 - val_loss: 1.3275 - val_accuracy: 0.6948\n",
            "Number of hidden units:  100 dropout:  0.25\n",
            "Epoch 1/5\n",
            "160/160 [==============================] - 8s 48ms/step - loss: 1.1257 - accuracy: 0.5530 - val_loss: 0.8203 - val_accuracy: 0.7097\n",
            "Epoch 2/5\n",
            "160/160 [==============================] - 8s 48ms/step - loss: 0.5756 - accuracy: 0.7976 - val_loss: 0.7575 - val_accuracy: 0.7246\n",
            "Epoch 3/5\n",
            "160/160 [==============================] - 7s 47ms/step - loss: 0.3330 - accuracy: 0.8893 - val_loss: 0.7871 - val_accuracy: 0.7207\n",
            "Epoch 4/5\n",
            "160/160 [==============================] - 8s 48ms/step - loss: 0.1557 - accuracy: 0.9493 - val_loss: 0.9680 - val_accuracy: 0.6929\n",
            "Epoch 5/5\n",
            "160/160 [==============================] - 7s 47ms/step - loss: 0.0645 - accuracy: 0.9795 - val_loss: 1.1845 - val_accuracy: 0.6823\n",
            "Number of hidden units:  100 dropout:  0.35\n",
            "Epoch 1/5\n",
            "160/160 [==============================] - 8s 48ms/step - loss: 1.1309 - accuracy: 0.5484 - val_loss: 0.8388 - val_accuracy: 0.7093\n",
            "Epoch 2/5\n",
            "160/160 [==============================] - 8s 47ms/step - loss: 0.5850 - accuracy: 0.7921 - val_loss: 0.7647 - val_accuracy: 0.7222\n",
            "Epoch 3/5\n",
            "160/160 [==============================] - 8s 47ms/step - loss: 0.3518 - accuracy: 0.8802 - val_loss: 0.7626 - val_accuracy: 0.7246\n",
            "Epoch 4/5\n",
            "160/160 [==============================] - 7s 47ms/step - loss: 0.1835 - accuracy: 0.9405 - val_loss: 0.9027 - val_accuracy: 0.6972\n",
            "Epoch 5/5\n",
            "160/160 [==============================] - 8s 47ms/step - loss: 0.0850 - accuracy: 0.9732 - val_loss: 1.0923 - val_accuracy: 0.6839\n",
            "Number of hidden units:  100 dropout:  0.5\n",
            "Epoch 1/5\n",
            "160/160 [==============================] - 8s 50ms/step - loss: 1.1451 - accuracy: 0.5409 - val_loss: 0.8785 - val_accuracy: 0.7089\n",
            "Epoch 2/5\n",
            "160/160 [==============================] - 8s 50ms/step - loss: 0.6117 - accuracy: 0.7850 - val_loss: 0.7780 - val_accuracy: 0.7250\n",
            "Epoch 3/5\n",
            "160/160 [==============================] - 8s 49ms/step - loss: 0.3952 - accuracy: 0.8667 - val_loss: 0.7453 - val_accuracy: 0.7312\n",
            "Epoch 4/5\n",
            "160/160 [==============================] - 8s 48ms/step - loss: 0.2334 - accuracy: 0.9218 - val_loss: 0.8275 - val_accuracy: 0.6995\n",
            "Epoch 5/5\n",
            "160/160 [==============================] - 8s 47ms/step - loss: 0.1272 - accuracy: 0.9591 - val_loss: 1.0022 - val_accuracy: 0.6780\n",
            "Number of hidden units:  200 dropout:  0\n",
            "Epoch 1/5\n",
            "160/160 [==============================] - 14s 88ms/step - loss: 1.0851 - accuracy: 0.5707 - val_loss: 0.7811 - val_accuracy: 0.7195\n",
            "Epoch 2/5\n",
            "160/160 [==============================] - 14s 87ms/step - loss: 0.5401 - accuracy: 0.8140 - val_loss: 0.7741 - val_accuracy: 0.7230\n",
            "Epoch 3/5\n",
            "160/160 [==============================] - 14s 87ms/step - loss: 0.2707 - accuracy: 0.9118 - val_loss: 0.8808 - val_accuracy: 0.7132\n",
            "Epoch 4/5\n",
            "160/160 [==============================] - 14s 87ms/step - loss: 0.0979 - accuracy: 0.9706 - val_loss: 1.0955 - val_accuracy: 0.6987\n",
            "Epoch 5/5\n",
            "160/160 [==============================] - 14s 87ms/step - loss: 0.0288 - accuracy: 0.9911 - val_loss: 1.4306 - val_accuracy: 0.7007\n",
            "Number of hidden units:  200 dropout:  0.25\n",
            "Epoch 1/5\n",
            "160/160 [==============================] - 14s 88ms/step - loss: 1.0877 - accuracy: 0.5706 - val_loss: 0.8025 - val_accuracy: 0.7210\n",
            "Epoch 2/5\n",
            "160/160 [==============================] - 14s 88ms/step - loss: 0.5623 - accuracy: 0.8040 - val_loss: 0.7631 - val_accuracy: 0.7214\n",
            "Epoch 3/5\n",
            "160/160 [==============================] - 14s 87ms/step - loss: 0.3148 - accuracy: 0.8936 - val_loss: 0.8020 - val_accuracy: 0.7265\n",
            "Epoch 4/5\n",
            "160/160 [==============================] - 14s 87ms/step - loss: 0.1407 - accuracy: 0.9548 - val_loss: 1.0046 - val_accuracy: 0.6901\n",
            "Epoch 5/5\n",
            "160/160 [==============================] - 14s 87ms/step - loss: 0.0565 - accuracy: 0.9824 - val_loss: 1.2693 - val_accuracy: 0.6776\n",
            "Number of hidden units:  200 dropout:  0.35\n",
            "Epoch 1/5\n",
            "160/160 [==============================] - 14s 87ms/step - loss: 1.0943 - accuracy: 0.5647 - val_loss: 0.8239 - val_accuracy: 0.7226\n",
            "Epoch 2/5\n",
            "160/160 [==============================] - 14s 87ms/step - loss: 0.5752 - accuracy: 0.8000 - val_loss: 0.7609 - val_accuracy: 0.7218\n",
            "Epoch 3/5\n",
            "160/160 [==============================] - 14s 86ms/step - loss: 0.3384 - accuracy: 0.8863 - val_loss: 0.7834 - val_accuracy: 0.7218\n",
            "Epoch 4/5\n",
            "160/160 [==============================] - 14s 87ms/step - loss: 0.1631 - accuracy: 0.9483 - val_loss: 0.9894 - val_accuracy: 0.6858\n",
            "Epoch 5/5\n",
            "160/160 [==============================] - 14s 87ms/step - loss: 0.0732 - accuracy: 0.9772 - val_loss: 1.1777 - val_accuracy: 0.6776\n",
            "Number of hidden units:  200 dropout:  0.5\n",
            "Epoch 1/5\n",
            "160/160 [==============================] - 14s 87ms/step - loss: 1.1027 - accuracy: 0.5584 - val_loss: 0.8549 - val_accuracy: 0.7187\n",
            "Epoch 2/5\n",
            "160/160 [==============================] - 14s 87ms/step - loss: 0.5981 - accuracy: 0.7900 - val_loss: 0.7778 - val_accuracy: 0.7144\n",
            "Epoch 3/5\n",
            "160/160 [==============================] - 14s 87ms/step - loss: 0.3731 - accuracy: 0.8726 - val_loss: 0.7495 - val_accuracy: 0.7242\n",
            "Epoch 4/5\n",
            "160/160 [==============================] - 14s 86ms/step - loss: 0.2048 - accuracy: 0.9318 - val_loss: 0.8866 - val_accuracy: 0.6897\n",
            "Epoch 5/5\n",
            "160/160 [==============================] - 14s 89ms/step - loss: 0.1056 - accuracy: 0.9645 - val_loss: 1.0284 - val_accuracy: 0.6866\n",
            "Number of hidden units:  300 dropout:  0\n",
            "Epoch 1/5\n",
            "160/160 [==============================] - 24s 153ms/step - loss: 1.0701 - accuracy: 0.5761 - val_loss: 0.7815 - val_accuracy: 0.7261\n",
            "Epoch 2/5\n",
            "160/160 [==============================] - 24s 151ms/step - loss: 0.5390 - accuracy: 0.8136 - val_loss: 0.7789 - val_accuracy: 0.7261\n",
            "Epoch 3/5\n",
            "160/160 [==============================] - 24s 151ms/step - loss: 0.2682 - accuracy: 0.9137 - val_loss: 0.9152 - val_accuracy: 0.7144\n",
            "Epoch 4/5\n",
            "160/160 [==============================] - 24s 152ms/step - loss: 0.0992 - accuracy: 0.9693 - val_loss: 1.1930 - val_accuracy: 0.6890\n",
            "Epoch 5/5\n",
            "160/160 [==============================] - 24s 152ms/step - loss: 0.0325 - accuracy: 0.9897 - val_loss: 1.5550 - val_accuracy: 0.6788\n",
            "Number of hidden units:  300 dropout:  0.25\n",
            "Epoch 1/5\n",
            "160/160 [==============================] - 25s 154ms/step - loss: 1.0736 - accuracy: 0.5724 - val_loss: 0.8053 - val_accuracy: 0.7210\n",
            "Epoch 2/5\n",
            "160/160 [==============================] - 24s 151ms/step - loss: 0.5557 - accuracy: 0.8047 - val_loss: 0.7684 - val_accuracy: 0.7250\n",
            "Epoch 3/5\n",
            "160/160 [==============================] - 24s 152ms/step - loss: 0.3096 - accuracy: 0.8961 - val_loss: 0.8445 - val_accuracy: 0.7156\n",
            "Epoch 4/5\n",
            "160/160 [==============================] - 24s 152ms/step - loss: 0.1401 - accuracy: 0.9549 - val_loss: 1.0613 - val_accuracy: 0.6823\n",
            "Epoch 5/5\n",
            "160/160 [==============================] - 24s 152ms/step - loss: 0.0547 - accuracy: 0.9827 - val_loss: 1.3280 - val_accuracy: 0.6772\n",
            "Number of hidden units:  300 dropout:  0.35\n",
            "Epoch 1/5\n",
            "160/160 [==============================] - 25s 155ms/step - loss: 1.0791 - accuracy: 0.5674 - val_loss: 0.8215 - val_accuracy: 0.7167\n",
            "Epoch 2/5\n",
            "160/160 [==============================] - 24s 152ms/step - loss: 0.5698 - accuracy: 0.7989 - val_loss: 0.7631 - val_accuracy: 0.7226\n",
            "Epoch 3/5\n",
            "160/160 [==============================] - 25s 153ms/step - loss: 0.3265 - accuracy: 0.8895 - val_loss: 0.8188 - val_accuracy: 0.7175\n",
            "Epoch 4/5\n",
            "160/160 [==============================] - 24s 152ms/step - loss: 0.1522 - accuracy: 0.9509 - val_loss: 0.9853 - val_accuracy: 0.6917\n",
            "Epoch 5/5\n",
            "160/160 [==============================] - 24s 152ms/step - loss: 0.0669 - accuracy: 0.9796 - val_loss: 1.2643 - val_accuracy: 0.6678\n",
            "Number of hidden units:  300 dropout:  0.5\n",
            "Epoch 1/5\n",
            "160/160 [==============================] - 24s 152ms/step - loss: 1.0873 - accuracy: 0.5662 - val_loss: 0.8581 - val_accuracy: 0.7128\n",
            "Epoch 2/5\n",
            "160/160 [==============================] - 24s 151ms/step - loss: 0.5869 - accuracy: 0.7936 - val_loss: 0.7814 - val_accuracy: 0.7136\n",
            "Epoch 3/5\n",
            "160/160 [==============================] - 24s 150ms/step - loss: 0.3583 - accuracy: 0.8773 - val_loss: 0.7914 - val_accuracy: 0.7136\n",
            "Epoch 4/5\n",
            "160/160 [==============================] - 24s 150ms/step - loss: 0.1872 - accuracy: 0.9373 - val_loss: 0.9175 - val_accuracy: 0.6913\n",
            "Epoch 5/5\n",
            "160/160 [==============================] - 24s 150ms/step - loss: 0.0911 - accuracy: 0.9694 - val_loss: 1.1210 - val_accuracy: 0.6729\n"
          ],
          "name": "stdout"
        }
      ]
    },
    {
      "cell_type": "markdown",
      "metadata": {
        "id": "FRFXm4NO7U5S",
        "colab_type": "text"
      },
      "source": [
        "## Using CV: results closer to Kaggle \n",
        "\n",
        "Summary:\n",
        "\n",
        "Best CNN, one layer (emb = 100, 500 hu in Conv1D, 250 in Dense) - **72.6% on Kaggle**\n",
        "\n",
        " * CV seed 10: 73.82% (+/- 1.49%)\n",
        " * CV seed 1234: 73.65% (+/- 1.13%)\n",
        "\n",
        " \n",
        " Best GRU: Emb=128, GRU=256 - **72.38% on Kaggle (with Word2Vec embeddings)**\n",
        " \n",
        " * dropout=0, CV seed 10: 73.14% (+/- 1.18%)\n",
        " * dropout=0.3, CV seed 10: 73.38% (+/- 1.26%)"
      ]
    },
    {
      "cell_type": "markdown",
      "metadata": {
        "id": "dM4vVrYG91uP",
        "colab_type": "text"
      },
      "source": [
        "### CNN"
      ]
    },
    {
      "cell_type": "code",
      "metadata": {
        "id": "9L_v0I2SWxab",
        "colab_type": "code",
        "colab": {
          "base_uri": "https://localhost:8080/",
          "height": 1000
        },
        "outputId": "d7c3ec14-86f2-480a-89fe-ba396c64c979"
      },
      "source": [
        "y = train[['label']]\n",
        "\n",
        "# adapted from https://machinelearningmastery.com/evaluate-performance-deep-learning-models-keras/\n",
        "\n",
        "# fix random seed for reproducibility\n",
        "seed = 10\n",
        "np.random.seed(seed)\n",
        "\n",
        "# define 10-fold cross validation split\n",
        "kfold = StratifiedKFold(n_splits=10, shuffle=True, random_state=seed)\n",
        "\n",
        "cvscores = []\n",
        "for train_, test_ in kfold.split(X, y):\n",
        "  Y = to_categorical(y)\n",
        "  # create model\n",
        "  np.random.seed(42)\n",
        "  random.seed(12345)\n",
        "  session_conf = tf.compat.v1.ConfigProto(intra_op_parallelism_threads=1,\n",
        "                                inter_op_parallelism_threads=1)\n",
        "  tf.compat.v1.set_random_seed(1234) \n",
        "\n",
        "  model = Sequential()\n",
        "  model.add(Embedding(dict_len + 1, output_dim=100,\n",
        "                      input_length=20))\n",
        "  model.add(Dropout(0.2))\n",
        "  model.add(Conv1D(500,3,\n",
        "                  padding='same', \n",
        "                  activation='relu',\n",
        "                  strides=1))\n",
        "  model.add(GlobalMaxPooling1D())\n",
        "  model.add(Dense(250))\n",
        "  # model.add(Dropout(0.2)) # REMOVED DROPOUT HERE\n",
        "  model.add(Activation('relu'))\n",
        "  model.add(Dense(5, activation=\"softmax\"))\n",
        "  model.compile(loss='categorical_crossentropy', optimizer='RMSprop', metrics=['accuracy'])\n",
        "  # save the best model\n",
        "  # filepath=\"accuracy-{epoch:02d}-{val_accuracy:.2f}.hdf5\"\n",
        "  filepath=\"weights.best.hdf5\"\n",
        "  checkpoint = ModelCheckpoint(filepath, monitor='val_accuracy', verbose=1,save_best_only=True, mode='auto', period=1)\n",
        "  callbacks_list = [checkpoint] \n",
        "  # earlystop = EarlyStopping(monitor='val_accuracy', verbose=1, patience=0)  # , patience=2 - how many epochs w/o improvement we allow\n",
        "  # Fit the model\n",
        "  model.fit(X[train_], Y[train_], validation_data = (X[test_], Y[test_]), epochs=7, batch_size=64,callbacks=callbacks_list,verbose=0)\n",
        "  # load the best model before evaluation, otherwise a model from the last epoch will be used.\n",
        "  model = load_model(\"weights.best.hdf5\")\n",
        "  scores = model.evaluate(X[test_], Y[test_], verbose=0)\n",
        "  print(\"%s: %.2f%%\" % (model.metrics_names[1], scores[1]*100))\n",
        "  cvscores.append(scores[1] * 100)\t\n"
      ],
      "execution_count": null,
      "outputs": [
        {
          "output_type": "stream",
          "text": [
            "WARNING:tensorflow:`period` argument is deprecated. Please use `save_freq` to specify the frequency in number of batches seen.\n",
            "\n",
            "Epoch 00001: val_accuracy improved from -inf to 0.70657, saving model to weights.best.hdf5\n",
            "\n",
            "Epoch 00002: val_accuracy improved from 0.70657 to 0.71049, saving model to weights.best.hdf5\n",
            "\n",
            "Epoch 00003: val_accuracy improved from 0.71049 to 0.72770, saving model to weights.best.hdf5\n",
            "\n",
            "Epoch 00004: val_accuracy did not improve from 0.72770\n",
            "\n",
            "Epoch 00005: val_accuracy improved from 0.72770 to 0.73161, saving model to weights.best.hdf5\n",
            "\n",
            "Epoch 00006: val_accuracy did not improve from 0.73161\n",
            "\n",
            "Epoch 00007: val_accuracy did not improve from 0.73161\n",
            "WARNING:tensorflow:Error in loading the saved optimizer state. As a result, your model is starting with a freshly initialized optimizer.\n",
            "accuracy: 73.16%\n",
            "WARNING:tensorflow:`period` argument is deprecated. Please use `save_freq` to specify the frequency in number of batches seen.\n",
            "\n",
            "Epoch 00001: val_accuracy improved from -inf to 0.68936, saving model to weights.best.hdf5\n",
            "\n",
            "Epoch 00002: val_accuracy improved from 0.68936 to 0.73005, saving model to weights.best.hdf5\n",
            "\n",
            "Epoch 00003: val_accuracy improved from 0.73005 to 0.73083, saving model to weights.best.hdf5\n",
            "\n",
            "Epoch 00004: val_accuracy improved from 0.73083 to 0.73474, saving model to weights.best.hdf5\n",
            "\n",
            "Epoch 00005: val_accuracy improved from 0.73474 to 0.73709, saving model to weights.best.hdf5\n",
            "\n",
            "Epoch 00006: val_accuracy did not improve from 0.73709\n",
            "\n",
            "Epoch 00007: val_accuracy did not improve from 0.73709\n",
            "WARNING:tensorflow:Error in loading the saved optimizer state. As a result, your model is starting with a freshly initialized optimizer.\n",
            "accuracy: 73.71%\n",
            "WARNING:tensorflow:`period` argument is deprecated. Please use `save_freq` to specify the frequency in number of batches seen.\n",
            "\n",
            "Epoch 00001: val_accuracy improved from -inf to 0.70892, saving model to weights.best.hdf5\n",
            "\n",
            "Epoch 00002: val_accuracy improved from 0.70892 to 0.73161, saving model to weights.best.hdf5\n",
            "\n",
            "Epoch 00003: val_accuracy improved from 0.73161 to 0.73787, saving model to weights.best.hdf5\n",
            "\n",
            "Epoch 00004: val_accuracy did not improve from 0.73787\n",
            "\n",
            "Epoch 00005: val_accuracy improved from 0.73787 to 0.73944, saving model to weights.best.hdf5\n",
            "\n",
            "Epoch 00006: val_accuracy did not improve from 0.73944\n",
            "\n",
            "Epoch 00007: val_accuracy did not improve from 0.73944\n",
            "WARNING:tensorflow:Error in loading the saved optimizer state. As a result, your model is starting with a freshly initialized optimizer.\n",
            "accuracy: 73.94%\n",
            "WARNING:tensorflow:`period` argument is deprecated. Please use `save_freq` to specify the frequency in number of batches seen.\n",
            "\n",
            "Epoch 00001: val_accuracy improved from -inf to 0.69484, saving model to weights.best.hdf5\n",
            "\n",
            "Epoch 00002: val_accuracy improved from 0.69484 to 0.71987, saving model to weights.best.hdf5\n",
            "\n",
            "Epoch 00003: val_accuracy improved from 0.71987 to 0.72926, saving model to weights.best.hdf5\n",
            "\n",
            "Epoch 00004: val_accuracy improved from 0.72926 to 0.73474, saving model to weights.best.hdf5\n",
            "\n",
            "Epoch 00005: val_accuracy did not improve from 0.73474\n",
            "\n",
            "Epoch 00006: val_accuracy did not improve from 0.73474\n",
            "\n",
            "Epoch 00007: val_accuracy did not improve from 0.73474\n",
            "WARNING:tensorflow:Error in loading the saved optimizer state. As a result, your model is starting with a freshly initialized optimizer.\n",
            "accuracy: 73.47%\n",
            "WARNING:tensorflow:`period` argument is deprecated. Please use `save_freq` to specify the frequency in number of batches seen.\n",
            "\n",
            "Epoch 00001: val_accuracy improved from -inf to 0.70501, saving model to weights.best.hdf5\n",
            "\n",
            "Epoch 00002: val_accuracy improved from 0.70501 to 0.72613, saving model to weights.best.hdf5\n",
            "\n",
            "Epoch 00003: val_accuracy did not improve from 0.72613\n",
            "\n",
            "Epoch 00004: val_accuracy improved from 0.72613 to 0.73239, saving model to weights.best.hdf5\n",
            "\n",
            "Epoch 00005: val_accuracy did not improve from 0.73239\n",
            "\n",
            "Epoch 00006: val_accuracy did not improve from 0.73239\n",
            "\n",
            "Epoch 00007: val_accuracy did not improve from 0.73239\n",
            "WARNING:tensorflow:Error in loading the saved optimizer state. As a result, your model is starting with a freshly initialized optimizer.\n",
            "accuracy: 73.24%\n",
            "WARNING:tensorflow:`period` argument is deprecated. Please use `save_freq` to specify the frequency in number of batches seen.\n",
            "\n",
            "Epoch 00001: val_accuracy improved from -inf to 0.71909, saving model to weights.best.hdf5\n",
            "\n",
            "Epoch 00002: val_accuracy improved from 0.71909 to 0.75117, saving model to weights.best.hdf5\n",
            "\n",
            "Epoch 00003: val_accuracy improved from 0.75117 to 0.76526, saving model to weights.best.hdf5\n",
            "\n",
            "Epoch 00004: val_accuracy improved from 0.76526 to 0.77387, saving model to weights.best.hdf5\n",
            "\n",
            "Epoch 00005: val_accuracy did not improve from 0.77387\n",
            "\n",
            "Epoch 00006: val_accuracy did not improve from 0.77387\n",
            "\n",
            "Epoch 00007: val_accuracy did not improve from 0.77387\n",
            "WARNING:tensorflow:Error in loading the saved optimizer state. As a result, your model is starting with a freshly initialized optimizer.\n",
            "accuracy: 77.39%\n",
            "WARNING:tensorflow:`period` argument is deprecated. Please use `save_freq` to specify the frequency in number of batches seen.\n",
            "\n",
            "Epoch 00001: val_accuracy improved from -inf to 0.70814, saving model to weights.best.hdf5\n",
            "\n",
            "Epoch 00002: val_accuracy improved from 0.70814 to 0.71987, saving model to weights.best.hdf5\n",
            "\n",
            "Epoch 00003: val_accuracy improved from 0.71987 to 0.73944, saving model to weights.best.hdf5\n",
            "\n",
            "Epoch 00004: val_accuracy did not improve from 0.73944\n",
            "\n",
            "Epoch 00005: val_accuracy did not improve from 0.73944\n",
            "\n",
            "Epoch 00006: val_accuracy did not improve from 0.73944\n",
            "\n",
            "Epoch 00007: val_accuracy did not improve from 0.73944\n",
            "WARNING:tensorflow:Error in loading the saved optimizer state. As a result, your model is starting with a freshly initialized optimizer.\n",
            "accuracy: 73.94%\n",
            "WARNING:tensorflow:`period` argument is deprecated. Please use `save_freq` to specify the frequency in number of batches seen.\n",
            "\n",
            "Epoch 00001: val_accuracy improved from -inf to 0.67684, saving model to weights.best.hdf5\n",
            "\n",
            "Epoch 00002: val_accuracy improved from 0.67684 to 0.71753, saving model to weights.best.hdf5\n",
            "\n",
            "Epoch 00003: val_accuracy improved from 0.71753 to 0.72222, saving model to weights.best.hdf5\n",
            "\n",
            "Epoch 00004: val_accuracy did not improve from 0.72222\n",
            "\n",
            "Epoch 00005: val_accuracy did not improve from 0.72222\n",
            "\n",
            "Epoch 00006: val_accuracy did not improve from 0.72222\n",
            "\n",
            "Epoch 00007: val_accuracy did not improve from 0.72222\n",
            "WARNING:tensorflow:Error in loading the saved optimizer state. As a result, your model is starting with a freshly initialized optimizer.\n",
            "accuracy: 72.22%\n",
            "WARNING:tensorflow:`period` argument is deprecated. Please use `save_freq` to specify the frequency in number of batches seen.\n",
            "\n",
            "Epoch 00001: val_accuracy improved from -inf to 0.70814, saving model to weights.best.hdf5\n",
            "\n",
            "Epoch 00002: val_accuracy improved from 0.70814 to 0.73239, saving model to weights.best.hdf5\n",
            "\n",
            "Epoch 00003: val_accuracy improved from 0.73239 to 0.75274, saving model to weights.best.hdf5\n",
            "\n",
            "Epoch 00004: val_accuracy did not improve from 0.75274\n",
            "\n",
            "Epoch 00005: val_accuracy did not improve from 0.75274\n",
            "\n",
            "Epoch 00006: val_accuracy did not improve from 0.75274\n",
            "\n",
            "Epoch 00007: val_accuracy did not improve from 0.75274\n",
            "WARNING:tensorflow:Error in loading the saved optimizer state. As a result, your model is starting with a freshly initialized optimizer.\n",
            "accuracy: 75.27%\n",
            "WARNING:tensorflow:`period` argument is deprecated. Please use `save_freq` to specify the frequency in number of batches seen.\n",
            "\n",
            "Epoch 00001: val_accuracy improved from -inf to 0.67502, saving model to weights.best.hdf5\n",
            "\n",
            "Epoch 00002: val_accuracy improved from 0.67502 to 0.71026, saving model to weights.best.hdf5\n",
            "\n",
            "Epoch 00003: val_accuracy improved from 0.71026 to 0.71339, saving model to weights.best.hdf5\n",
            "\n",
            "Epoch 00004: val_accuracy improved from 0.71339 to 0.71887, saving model to weights.best.hdf5\n",
            "\n",
            "Epoch 00005: val_accuracy did not improve from 0.71887\n",
            "\n",
            "Epoch 00006: val_accuracy did not improve from 0.71887\n",
            "\n",
            "Epoch 00007: val_accuracy did not improve from 0.71887\n",
            "WARNING:tensorflow:Error in loading the saved optimizer state. As a result, your model is starting with a freshly initialized optimizer.\n",
            "accuracy: 71.89%\n"
          ],
          "name": "stdout"
        }
      ]
    },
    {
      "cell_type": "code",
      "metadata": {
        "id": "YctHjyVcPIVP",
        "colab_type": "code",
        "colab": {
          "base_uri": "https://localhost:8080/",
          "height": 282
        },
        "outputId": "0395c8ff-c928-454a-a165-4d2a341cf185"
      },
      "source": [
        "print(\"%.2f%% (+/- %.2f%%)\" % (np.mean(cvscores), np.std(cvscores)))\n",
        "plt.plot(cvscores)\n",
        "plt.show()"
      ],
      "execution_count": null,
      "outputs": [
        {
          "output_type": "stream",
          "text": [
            "73.82% (+/- 1.49%)\n"
          ],
          "name": "stdout"
        },
        {
          "output_type": "display_data",
          "data": {
            "image/png": "[encoded data removed]",
            "text/plain": [
              "<Figure size 432x288 with 1 Axes>"
            ]
          },
          "metadata": {
            "tags": []
          }
        }
      ]
    },
    {
      "cell_type": "code",
      "metadata": {
        "id": "x81mXsNGjoeU",
        "colab_type": "code",
        "colab": {
          "base_uri": "https://localhost:8080/",
          "height": 1000
        },
        "outputId": "df5ee612-b3c1-48c7-906c-a425a55a82be"
      },
      "source": [
        "y = train[['label']]\n",
        "\n",
        "# adapted from https://machinelearningmastery.com/evaluate-performance-deep-learning-models-keras/\n",
        "\n",
        "# fix random seed for reproducibility\n",
        "seed = 1234\n",
        "np.random.seed(seed)\n",
        "\n",
        "# define 10-fold cross validation split\n",
        "kfold = StratifiedKFold(n_splits=10, shuffle=True, random_state=seed)\n",
        "\n",
        "cvscores = []\n",
        "for train_, test_ in kfold.split(X, y):\n",
        "  Y = to_categorical(y)\n",
        "  # create model\n",
        "  np.random.seed(42)\n",
        "  random.seed(12345)\n",
        "  session_conf = tf.compat.v1.ConfigProto(intra_op_parallelism_threads=1,\n",
        "                                inter_op_parallelism_threads=1)\n",
        "  tf.compat.v1.set_random_seed(1234) \n",
        "\n",
        "  model = Sequential()\n",
        "  model.add(Embedding(dict_len + 1, output_dim=100,\n",
        "                      input_length=20))\n",
        "  model.add(Dropout(0.2))\n",
        "  model.add(Conv1D(500,3,\n",
        "                  padding='same', \n",
        "                  activation='relu',\n",
        "                  strides=1))\n",
        "  model.add(GlobalMaxPooling1D())\n",
        "  model.add(Dense(250))\n",
        "  # model.add(Dropout(0.2)) # REMOVED DROPOUT HERE\n",
        "  model.add(Activation('relu'))\n",
        "  model.add(Dense(5, activation=\"softmax\"))\n",
        "  model.compile(loss='categorical_crossentropy', optimizer='RMSprop', metrics=['accuracy'])\n",
        "  # save the best model\n",
        "  # filepath=\"accuracy-{epoch:02d}-{val_accuracy:.2f}.hdf5\"\n",
        "  filepath=\"weights.best.hdf5\"\n",
        "  checkpoint = ModelCheckpoint(filepath, monitor='val_accuracy', verbose=1,save_best_only=True, mode='auto', period=1)\n",
        "  callbacks_list = [checkpoint] \n",
        "  # earlystop = EarlyStopping(monitor='val_accuracy', verbose=1, patience=0)  # , patience=2 - how many epochs w/o improvement we allow\n",
        "  # Fit the model\n",
        "  model.fit(X[train_], Y[train_], validation_data = (X[test_], Y[test_]), epochs=7, batch_size=64,callbacks=callbacks_list,verbose=0)\n",
        "  # load the best model before evaluation, otherwise a model from the last epoch will be used.\n",
        "  model = load_model(\"weights.best.hdf5\")\n",
        "  scores = model.evaluate(X[test_], Y[test_], verbose=0)\n",
        "  print(\"%s: %.2f%%\" % (model.metrics_names[1], scores[1]*100))\n",
        "  cvscores.append(scores[1] * 100)"
      ],
      "execution_count": null,
      "outputs": [
        {
          "output_type": "stream",
          "text": [
            "WARNING:tensorflow:`period` argument is deprecated. Please use `save_freq` to specify the frequency in number of batches seen.\n",
            "\n",
            "Epoch 00001: val_accuracy improved from -inf to 0.69797, saving model to weights.best.hdf5\n",
            "\n",
            "Epoch 00002: val_accuracy improved from 0.69797 to 0.72222, saving model to weights.best.hdf5\n",
            "\n",
            "Epoch 00003: val_accuracy improved from 0.72222 to 0.73318, saving model to weights.best.hdf5\n",
            "\n",
            "Epoch 00004: val_accuracy improved from 0.73318 to 0.74022, saving model to weights.best.hdf5\n",
            "\n",
            "Epoch 00005: val_accuracy did not improve from 0.74022\n",
            "\n",
            "Epoch 00006: val_accuracy did not improve from 0.74022\n",
            "\n",
            "Epoch 00007: val_accuracy did not improve from 0.74022\n",
            "WARNING:tensorflow:Error in loading the saved optimizer state. As a result, your model is starting with a freshly initialized optimizer.\n",
            "accuracy: 74.02%\n",
            "WARNING:tensorflow:`period` argument is deprecated. Please use `save_freq` to specify the frequency in number of batches seen.\n",
            "\n",
            "Epoch 00001: val_accuracy improved from -inf to 0.69484, saving model to weights.best.hdf5\n",
            "\n",
            "Epoch 00002: val_accuracy improved from 0.69484 to 0.72457, saving model to weights.best.hdf5\n",
            "\n",
            "Epoch 00003: val_accuracy improved from 0.72457 to 0.73083, saving model to weights.best.hdf5\n",
            "\n",
            "Epoch 00004: val_accuracy did not improve from 0.73083\n",
            "\n",
            "Epoch 00005: val_accuracy did not improve from 0.73083\n",
            "\n",
            "Epoch 00006: val_accuracy did not improve from 0.73083\n",
            "\n",
            "Epoch 00007: val_accuracy did not improve from 0.73083\n",
            "WARNING:tensorflow:Error in loading the saved optimizer state. As a result, your model is starting with a freshly initialized optimizer.\n",
            "accuracy: 73.08%\n",
            "WARNING:tensorflow:`period` argument is deprecated. Please use `save_freq` to specify the frequency in number of batches seen.\n",
            "\n",
            "Epoch 00001: val_accuracy improved from -inf to 0.69249, saving model to weights.best.hdf5\n",
            "\n",
            "Epoch 00002: val_accuracy improved from 0.69249 to 0.74726, saving model to weights.best.hdf5\n",
            "\n",
            "Epoch 00003: val_accuracy did not improve from 0.74726\n",
            "\n",
            "Epoch 00004: val_accuracy did not improve from 0.74726\n",
            "\n",
            "Epoch 00005: val_accuracy did not improve from 0.74726\n",
            "\n",
            "Epoch 00006: val_accuracy did not improve from 0.74726\n",
            "\n",
            "Epoch 00007: val_accuracy did not improve from 0.74726\n",
            "WARNING:tensorflow:Error in loading the saved optimizer state. As a result, your model is starting with a freshly initialized optimizer.\n",
            "accuracy: 74.73%\n",
            "WARNING:tensorflow:`period` argument is deprecated. Please use `save_freq` to specify the frequency in number of batches seen.\n",
            "\n",
            "Epoch 00001: val_accuracy improved from -inf to 0.70501, saving model to weights.best.hdf5\n",
            "\n",
            "Epoch 00002: val_accuracy improved from 0.70501 to 0.72144, saving model to weights.best.hdf5\n",
            "\n",
            "Epoch 00003: val_accuracy improved from 0.72144 to 0.72926, saving model to weights.best.hdf5\n",
            "\n",
            "Epoch 00004: val_accuracy did not improve from 0.72926\n",
            "\n",
            "Epoch 00005: val_accuracy did not improve from 0.72926\n",
            "\n",
            "Epoch 00006: val_accuracy did not improve from 0.72926\n",
            "\n",
            "Epoch 00007: val_accuracy did not improve from 0.72926\n",
            "WARNING:tensorflow:Error in loading the saved optimizer state. As a result, your model is starting with a freshly initialized optimizer.\n",
            "accuracy: 72.93%\n",
            "WARNING:tensorflow:`period` argument is deprecated. Please use `save_freq` to specify the frequency in number of batches seen.\n",
            "\n",
            "Epoch 00001: val_accuracy improved from -inf to 0.68936, saving model to weights.best.hdf5\n",
            "\n",
            "Epoch 00002: val_accuracy improved from 0.68936 to 0.69562, saving model to weights.best.hdf5\n",
            "\n",
            "Epoch 00003: val_accuracy improved from 0.69562 to 0.72144, saving model to weights.best.hdf5\n",
            "\n",
            "Epoch 00004: val_accuracy did not improve from 0.72144\n",
            "\n",
            "Epoch 00005: val_accuracy did not improve from 0.72144\n",
            "\n",
            "Epoch 00006: val_accuracy did not improve from 0.72144\n",
            "\n",
            "Epoch 00007: val_accuracy did not improve from 0.72144\n",
            "WARNING:tensorflow:Error in loading the saved optimizer state. As a result, your model is starting with a freshly initialized optimizer.\n",
            "accuracy: 72.14%\n",
            "WARNING:tensorflow:`period` argument is deprecated. Please use `save_freq` to specify the frequency in number of batches seen.\n",
            "\n",
            "Epoch 00001: val_accuracy improved from -inf to 0.71127, saving model to weights.best.hdf5\n",
            "\n",
            "Epoch 00002: val_accuracy improved from 0.71127 to 0.74335, saving model to weights.best.hdf5\n",
            "\n",
            "Epoch 00003: val_accuracy did not improve from 0.74335\n",
            "\n",
            "Epoch 00004: val_accuracy improved from 0.74335 to 0.75587, saving model to weights.best.hdf5\n",
            "\n",
            "Epoch 00005: val_accuracy improved from 0.75587 to 0.75822, saving model to weights.best.hdf5\n",
            "\n",
            "Epoch 00006: val_accuracy did not improve from 0.75822\n",
            "\n",
            "Epoch 00007: val_accuracy did not improve from 0.75822\n",
            "WARNING:tensorflow:Error in loading the saved optimizer state. As a result, your model is starting with a freshly initialized optimizer.\n",
            "accuracy: 75.82%\n",
            "WARNING:tensorflow:`period` argument is deprecated. Please use `save_freq` to specify the frequency in number of batches seen.\n",
            "\n",
            "Epoch 00001: val_accuracy improved from -inf to 0.68153, saving model to weights.best.hdf5\n",
            "\n",
            "Epoch 00002: val_accuracy improved from 0.68153 to 0.71205, saving model to weights.best.hdf5\n",
            "\n",
            "Epoch 00003: val_accuracy improved from 0.71205 to 0.73552, saving model to weights.best.hdf5\n",
            "\n",
            "Epoch 00004: val_accuracy did not improve from 0.73552\n",
            "\n",
            "Epoch 00005: val_accuracy did not improve from 0.73552\n",
            "\n",
            "Epoch 00006: val_accuracy did not improve from 0.73552\n",
            "\n",
            "Epoch 00007: val_accuracy did not improve from 0.73552\n",
            "WARNING:tensorflow:Error in loading the saved optimizer state. As a result, your model is starting with a freshly initialized optimizer.\n",
            "accuracy: 73.55%\n",
            "WARNING:tensorflow:`period` argument is deprecated. Please use `save_freq` to specify the frequency in number of batches seen.\n",
            "\n",
            "Epoch 00001: val_accuracy improved from -inf to 0.69875, saving model to weights.best.hdf5\n",
            "\n",
            "Epoch 00002: val_accuracy improved from 0.69875 to 0.71909, saving model to weights.best.hdf5\n",
            "\n",
            "Epoch 00003: val_accuracy improved from 0.71909 to 0.73083, saving model to weights.best.hdf5\n",
            "\n",
            "Epoch 00004: val_accuracy improved from 0.73083 to 0.73787, saving model to weights.best.hdf5\n",
            "\n",
            "Epoch 00005: val_accuracy improved from 0.73787 to 0.74257, saving model to weights.best.hdf5\n",
            "\n",
            "Epoch 00006: val_accuracy did not improve from 0.74257\n",
            "\n",
            "Epoch 00007: val_accuracy did not improve from 0.74257\n",
            "WARNING:tensorflow:Error in loading the saved optimizer state. As a result, your model is starting with a freshly initialized optimizer.\n",
            "accuracy: 74.26%\n",
            "WARNING:tensorflow:`period` argument is deprecated. Please use `save_freq` to specify the frequency in number of batches seen.\n",
            "\n",
            "Epoch 00001: val_accuracy improved from -inf to 0.70266, saving model to weights.best.hdf5\n",
            "\n",
            "Epoch 00002: val_accuracy improved from 0.70266 to 0.71909, saving model to weights.best.hdf5\n",
            "\n",
            "Epoch 00003: val_accuracy did not improve from 0.71909\n",
            "\n",
            "Epoch 00004: val_accuracy did not improve from 0.71909\n",
            "\n",
            "Epoch 00005: val_accuracy did not improve from 0.71909\n",
            "\n",
            "Epoch 00006: val_accuracy did not improve from 0.71909\n",
            "\n",
            "Epoch 00007: val_accuracy did not improve from 0.71909\n",
            "WARNING:tensorflow:Error in loading the saved optimizer state. As a result, your model is starting with a freshly initialized optimizer.\n",
            "accuracy: 71.91%\n",
            "WARNING:tensorflow:`period` argument is deprecated. Please use `save_freq` to specify the frequency in number of batches seen.\n",
            "\n",
            "Epoch 00001: val_accuracy improved from -inf to 0.71104, saving model to weights.best.hdf5\n",
            "\n",
            "Epoch 00002: val_accuracy improved from 0.71104 to 0.73923, saving model to weights.best.hdf5\n",
            "\n",
            "Epoch 00003: val_accuracy did not improve from 0.73923\n",
            "\n",
            "Epoch 00004: val_accuracy improved from 0.73923 to 0.74080, saving model to weights.best.hdf5\n",
            "\n",
            "Epoch 00005: val_accuracy did not improve from 0.74080\n",
            "\n",
            "Epoch 00006: val_accuracy did not improve from 0.74080\n",
            "\n",
            "Epoch 00007: val_accuracy did not improve from 0.74080\n",
            "WARNING:tensorflow:Error in loading the saved optimizer state. As a result, your model is starting with a freshly initialized optimizer.\n",
            "accuracy: 74.08%\n"
          ],
          "name": "stdout"
        }
      ]
    },
    {
      "cell_type": "code",
      "metadata": {
        "id": "WxMIPbYRnpJU",
        "colab_type": "code",
        "colab": {
          "base_uri": "https://localhost:8080/",
          "height": 285
        },
        "outputId": "af5b062e-b489-43ee-84ed-98df717dc969"
      },
      "source": [
        "print(\"%.2f%% (+/- %.2f%%)\" % (np.mean(cvscores), np.std(cvscores)))\n",
        "plt.plot(cvscores)\n",
        "plt.show()"
      ],
      "execution_count": null,
      "outputs": [
        {
          "output_type": "stream",
          "text": [
            "73.65% (+/- 1.13%)\n"
          ],
          "name": "stdout"
        },
        {
          "output_type": "display_data",
          "data": {
            "image/png": "[encoded data removed]",
            "text/plain": [
              "<Figure size 432x288 with 1 Axes>"
            ]
          },
          "metadata": {
            "tags": []
          }
        }
      ]
    },
    {
      "cell_type": "code",
      "metadata": {
        "id": "NAW2lrLSG2Dy",
        "colab_type": "code",
        "colab": {
          "base_uri": "https://localhost:8080/",
          "height": 1000
        },
        "outputId": "e2c6ac82-9389-4644-e5fb-f386106a247f"
      },
      "source": [
        "y = train[['label']]\n",
        "\n",
        "# adapted from https://machinelearningmastery.com/evaluate-performance-deep-learning-models-keras/\n",
        "\n",
        "# fix random seed for reproducibility\n",
        "seed = 10\n",
        "np.random.seed(seed)\n",
        "\n",
        "# define 10-fold cross validation split\n",
        "kfold = StratifiedKFold(n_splits=10, shuffle=True, random_state=seed)\n",
        "\n",
        "cvscores = []\n",
        "for train_, test_ in kfold.split(X, y):\n",
        "  Y = to_categorical(y)\n",
        "  # create model\n",
        "  np.random.seed(42)\n",
        "  random.seed(12345)\n",
        "  session_conf = tf.compat.v1.ConfigProto(intra_op_parallelism_threads=1,\n",
        "                                inter_op_parallelism_threads=1)\n",
        "  tf.compat.v1.set_random_seed(1234) \n",
        "\n",
        "  model = Sequential()\n",
        "  model.add(Embedding(dict_len + 1, output_dim=128,\n",
        "                      input_length=20))\n",
        "  model.add(Dropout(0.2))\n",
        "  model.add(Conv1D(50, 3,\n",
        "  #  \"valid\" means \"no padding\". \"same\" results in padding the input such that the output has the same length as the original input.\n",
        "                  padding='same', # 0.4 points better with same\n",
        "                  activation='relu',\n",
        "                  strides=1))\n",
        "  model.add(Conv1D(100, 4,\n",
        "                  padding='same',\n",
        "                  activation='relu',\n",
        "                  strides=1))\n",
        "  model.add(GlobalMaxPooling1D())\n",
        "  model.add(Dense(250))\n",
        "  # model.add(Dropout(0.2)) # REMOVED DROPOUT HERE\n",
        "  model.add(Activation('relu'))\n",
        "  model.add(Dense(5, activation=\"softmax\"))\n",
        "  model.compile(loss='categorical_crossentropy', optimizer='RMSprop', metrics=['accuracy'])\n",
        "  # save the best model\n",
        "  # filepath=\"accuracy-{epoch:02d}-{val_accuracy:.2f}.hdf5\"\n",
        "  filepath=\"weights.best.hdf5\"\n",
        "  checkpoint = ModelCheckpoint(filepath, monitor='val_accuracy', verbose=1,save_best_only=True, mode='auto', period=1)\n",
        "  callbacks_list = [checkpoint] \n",
        "  # earlystop = EarlyStopping(monitor='val_accuracy', verbose=1, patience=0)  # , patience=2 - how many epochs w/o improvement we allow\n",
        "  # Fit the model\n",
        "  model.fit(X[train_], Y[train_], validation_data = (X[test_], Y[test_]), epochs=7, batch_size=64,callbacks=callbacks_list,verbose=0)\n",
        "  # load the best model before evaluation, otherwise a model from the last epoch will be used.\n",
        "  model = load_model(\"weights.best.hdf5\")\n",
        "  scores = model.evaluate(X[test_], Y[test_], verbose=0)\n",
        "  print(\"%s: %.2f%%\" % (model.metrics_names[1], scores[1]*100))\n",
        "  cvscores.append(scores[1] * 100)"
      ],
      "execution_count": null,
      "outputs": [
        {
          "output_type": "stream",
          "text": [
            "\n",
            "Epoch 00001: val_accuracy improved from -inf to 0.67136, saving model to weights.best.hdf5\n",
            "\n",
            "Epoch 00002: val_accuracy improved from 0.67136 to 0.68388, saving model to weights.best.hdf5\n",
            "\n",
            "Epoch 00003: val_accuracy improved from 0.68388 to 0.73005, saving model to weights.best.hdf5\n",
            "\n",
            "Epoch 00004: val_accuracy improved from 0.73005 to 0.74648, saving model to weights.best.hdf5\n",
            "\n",
            "Epoch 00005: val_accuracy did not improve from 0.74648\n",
            "\n",
            "Epoch 00006: val_accuracy did not improve from 0.74648\n",
            "\n",
            "Epoch 00007: val_accuracy did not improve from 0.74648\n",
            "accuracy: 74.65%\n",
            "\n",
            "Epoch 00001: val_accuracy improved from -inf to 0.59937, saving model to weights.best.hdf5\n",
            "\n",
            "Epoch 00002: val_accuracy improved from 0.59937 to 0.70501, saving model to weights.best.hdf5\n",
            "\n",
            "Epoch 00003: val_accuracy improved from 0.70501 to 0.72457, saving model to weights.best.hdf5\n",
            "\n",
            "Epoch 00004: val_accuracy did not improve from 0.72457\n",
            "\n",
            "Epoch 00005: val_accuracy did not improve from 0.72457\n",
            "\n",
            "Epoch 00006: val_accuracy did not improve from 0.72457\n",
            "\n",
            "Epoch 00007: val_accuracy did not improve from 0.72457\n",
            "accuracy: 72.46%\n",
            "\n",
            "Epoch 00001: val_accuracy improved from -inf to 0.70266, saving model to weights.best.hdf5\n",
            "\n",
            "Epoch 00002: val_accuracy improved from 0.70266 to 0.70501, saving model to weights.best.hdf5\n",
            "\n",
            "Epoch 00003: val_accuracy improved from 0.70501 to 0.72926, saving model to weights.best.hdf5\n",
            "\n",
            "Epoch 00004: val_accuracy improved from 0.72926 to 0.73631, saving model to weights.best.hdf5\n",
            "\n",
            "Epoch 00005: val_accuracy improved from 0.73631 to 0.75039, saving model to weights.best.hdf5\n",
            "\n",
            "Epoch 00006: val_accuracy did not improve from 0.75039\n",
            "\n",
            "Epoch 00007: val_accuracy did not improve from 0.75039\n",
            "accuracy: 75.04%\n",
            "\n",
            "Epoch 00001: val_accuracy improved from -inf to 0.64554, saving model to weights.best.hdf5\n",
            "\n",
            "Epoch 00002: val_accuracy improved from 0.64554 to 0.71674, saving model to weights.best.hdf5\n",
            "\n",
            "Epoch 00003: val_accuracy improved from 0.71674 to 0.73005, saving model to weights.best.hdf5\n",
            "\n",
            "Epoch 00004: val_accuracy did not improve from 0.73005\n",
            "\n",
            "Epoch 00005: val_accuracy did not improve from 0.73005\n",
            "\n",
            "Epoch 00006: val_accuracy did not improve from 0.73005\n",
            "\n",
            "Epoch 00007: val_accuracy did not improve from 0.73005\n",
            "accuracy: 73.00%\n",
            "\n",
            "Epoch 00001: val_accuracy improved from -inf to 0.68153, saving model to weights.best.hdf5\n",
            "\n",
            "Epoch 00002: val_accuracy improved from 0.68153 to 0.70657, saving model to weights.best.hdf5\n",
            "\n",
            "Epoch 00003: val_accuracy improved from 0.70657 to 0.71518, saving model to weights.best.hdf5\n",
            "\n",
            "Epoch 00004: val_accuracy did not improve from 0.71518\n",
            "\n",
            "Epoch 00005: val_accuracy did not improve from 0.71518\n",
            "\n",
            "Epoch 00006: val_accuracy did not improve from 0.71518\n",
            "\n",
            "Epoch 00007: val_accuracy did not improve from 0.71518\n",
            "accuracy: 71.52%\n",
            "\n",
            "Epoch 00001: val_accuracy improved from -inf to 0.65493, saving model to weights.best.hdf5\n",
            "\n",
            "Epoch 00002: val_accuracy improved from 0.65493 to 0.72770, saving model to weights.best.hdf5\n",
            "\n",
            "Epoch 00003: val_accuracy improved from 0.72770 to 0.72848, saving model to weights.best.hdf5\n",
            "\n",
            "Epoch 00004: val_accuracy improved from 0.72848 to 0.75117, saving model to weights.best.hdf5\n",
            "\n",
            "Epoch 00005: val_accuracy did not improve from 0.75117\n",
            "\n",
            "Epoch 00006: val_accuracy did not improve from 0.75117\n",
            "\n",
            "Epoch 00007: val_accuracy did not improve from 0.75117\n",
            "accuracy: 75.12%\n",
            "\n",
            "Epoch 00001: val_accuracy improved from -inf to 0.67293, saving model to weights.best.hdf5\n",
            "\n",
            "Epoch 00002: val_accuracy improved from 0.67293 to 0.71049, saving model to weights.best.hdf5\n",
            "\n",
            "Epoch 00003: val_accuracy improved from 0.71049 to 0.73239, saving model to weights.best.hdf5\n",
            "\n",
            "Epoch 00004: val_accuracy did not improve from 0.73239\n",
            "\n",
            "Epoch 00005: val_accuracy did not improve from 0.73239\n",
            "\n",
            "Epoch 00006: val_accuracy did not improve from 0.73239\n",
            "\n",
            "Epoch 00007: val_accuracy did not improve from 0.73239\n",
            "accuracy: 73.24%\n",
            "\n",
            "Epoch 00001: val_accuracy improved from -inf to 0.61659, saving model to weights.best.hdf5\n",
            "\n",
            "Epoch 00002: val_accuracy improved from 0.61659 to 0.70579, saving model to weights.best.hdf5\n",
            "\n",
            "Epoch 00003: val_accuracy improved from 0.70579 to 0.71362, saving model to weights.best.hdf5\n",
            "\n",
            "Epoch 00004: val_accuracy did not improve from 0.71362\n",
            "\n",
            "Epoch 00005: val_accuracy did not improve from 0.71362\n",
            "\n",
            "Epoch 00006: val_accuracy did not improve from 0.71362\n",
            "\n",
            "Epoch 00007: val_accuracy did not improve from 0.71362\n",
            "accuracy: 71.36%\n",
            "\n",
            "Epoch 00002: val_accuracy improved from 0.66588 to 0.71283, saving model to weights.best.hdf5\n",
            "\n",
            "Epoch 00003: val_accuracy improved from 0.71283 to 0.73787, saving model to weights.best.hdf5\n",
            "\n",
            "Epoch 00004: val_accuracy improved from 0.73787 to 0.74570, saving model to weights.best.hdf5\n",
            "\n",
            "Epoch 00005: val_accuracy did not improve from 0.74570\n",
            "\n",
            "Epoch 00006: val_accuracy did not improve from 0.74570\n",
            "\n",
            "Epoch 00007: val_accuracy did not improve from 0.74570\n",
            "accuracy: 74.57%\n",
            "\n",
            "Epoch 00001: val_accuracy improved from -inf to 0.61942, saving model to weights.best.hdf5\n",
            "\n",
            "Epoch 00002: val_accuracy improved from 0.61942 to 0.69851, saving model to weights.best.hdf5\n",
            "\n",
            "Epoch 00003: val_accuracy did not improve from 0.69851\n",
            "\n",
            "Epoch 00004: val_accuracy improved from 0.69851 to 0.71026, saving model to weights.best.hdf5\n",
            "\n",
            "Epoch 00005: val_accuracy did not improve from 0.71026\n",
            "\n",
            "Epoch 00006: val_accuracy did not improve from 0.71026\n",
            "\n",
            "Epoch 00007: val_accuracy did not improve from 0.71026\n",
            "accuracy: 71.03%\n"
          ],
          "name": "stdout"
        }
      ]
    },
    {
      "cell_type": "code",
      "metadata": {
        "id": "Dv7BKDjjHvl9",
        "colab_type": "code",
        "colab": {
          "base_uri": "https://localhost:8080/",
          "height": 282
        },
        "outputId": "3e1eb2ca-53ee-4595-9234-012c7cbe7c7a"
      },
      "source": [
        "print(\"%.2f%% (+/- %.2f%%)\" % (np.mean(cvscores), np.std(cvscores)))\n",
        "plt.plot(cvscores)\n",
        "plt.show()"
      ],
      "execution_count": null,
      "outputs": [
        {
          "output_type": "stream",
          "text": [
            "73.20% (+/- 1.50%)\n"
          ],
          "name": "stdout"
        },
        {
          "output_type": "display_data",
          "data": {
            "image/png": "[encoded data removed]",
            "text/plain": [
              "<Figure size 432x288 with 1 Axes>"
            ]
          },
          "metadata": {
            "tags": []
          }
        }
      ]
    },
    {
      "cell_type": "code",
      "metadata": {
        "id": "XvuLblQbVgG6",
        "colab_type": "code",
        "colab": {
          "base_uri": "https://localhost:8080/",
          "height": 1000
        },
        "outputId": "4902060b-0a99-4ae6-f807-c6db4526c223"
      },
      "source": [
        "y = train[['label']]\n",
        "\n",
        "# adapted from https://machinelearningmastery.com/evaluate-performance-deep-learning-models-keras/\n",
        "\n",
        "# fix random seed for reproducibility\n",
        "seed = 10\n",
        "np.random.seed(seed)\n",
        "\n",
        "# define 10-fold cross validation split\n",
        "kfold = StratifiedKFold(n_splits=10, shuffle=True, random_state=seed)\n",
        "\n",
        "cvscores = []\n",
        "for train_, test_ in kfold.split(X, y):\n",
        "  Y = to_categorical(y)\n",
        "  # create model\n",
        "  np.random.seed(42)\n",
        "  random.seed(12345)\n",
        "  session_conf = tf.compat.v1.ConfigProto(intra_op_parallelism_threads=1,\n",
        "                                inter_op_parallelism_threads=1)\n",
        "  tf.compat.v1.set_random_seed(1234) \n",
        "\n",
        "  model = Sequential()\n",
        "  model.add(Embedding(dict_len + 1, output_dim=128,\n",
        "                      input_length=20))\n",
        "  model.add(Dropout(0.2))\n",
        "  model.add(Conv1D(50, 3,\n",
        "  #  \"valid\" means \"no padding\". \"same\" results in padding the input such that the output has the same length as the original input.\n",
        "                  padding='same', # 0.4 points better with same\n",
        "                  activation='relu',\n",
        "                  strides=1))\n",
        "  model.add(Conv1D(100, 4,\n",
        "                  padding='same',\n",
        "                  activation='relu',\n",
        "                  strides=1))\n",
        "  model.add(GlobalMaxPooling1D())\n",
        "  model.add(Dense(250))\n",
        "  # model.add(Dropout(0.2)) # REMOVED DROPOUT HERE\n",
        "  model.add(Activation('relu'))\n",
        "  model.add(Dense(5, activation=\"softmax\"))\n",
        "  model.compile(loss='categorical_crossentropy', optimizer='RMSprop', metrics=['accuracy'])\n",
        "  # save the best model\n",
        "  # filepath=\"accuracy-{epoch:02d}-{val_accuracy:.2f}.hdf5\"\n",
        "  filepath=\"weights.best.hdf5\"\n",
        "  checkpoint = ModelCheckpoint(filepath, monitor='val_accuracy', verbose=1,save_best_only=True, mode='auto', period=1)\n",
        "  earlystop = EarlyStopping(monitor='val_accuracy', verbose=1, patience=0)  # , patience=2 - how many epochs w/o improvement we allow\n",
        "  # Fit the model\n",
        "  model.fit(X[train_], Y[train_], validation_data = (X[test_], Y[test_]), epochs=7, batch_size=64,callbacks=[earlystop, checkpoint],verbose=0)\n",
        "  # load the best model before evaluation, otherwise a model from the last epoch will be used.\n",
        "  model = load_model(\"weights.best.hdf5\")\n",
        "  scores = model.evaluate(X[test_], Y[test_], verbose=0)\n",
        "  print(\"%s: %.2f%%\" % (model.metrics_names[1], scores[1]*100))\n",
        "  cvscores.append(scores[1] * 100)"
      ],
      "execution_count": null,
      "outputs": [
        {
          "output_type": "stream",
          "text": [
            "\n",
            "Epoch 00001: val_accuracy improved from -inf to 0.67136, saving model to weights.best.hdf5\n",
            "\n",
            "Epoch 00002: val_accuracy improved from 0.67136 to 0.68388, saving model to weights.best.hdf5\n",
            "\n",
            "Epoch 00003: val_accuracy improved from 0.68388 to 0.73005, saving model to weights.best.hdf5\n",
            "\n",
            "Epoch 00004: val_accuracy improved from 0.73005 to 0.74648, saving model to weights.best.hdf5\n",
            "\n",
            "Epoch 00005: val_accuracy did not improve from 0.74648\n",
            "Epoch 00005: early stopping\n",
            "accuracy: 74.65%\n",
            "\n",
            "Epoch 00001: val_accuracy improved from -inf to 0.59937, saving model to weights.best.hdf5\n",
            "\n",
            "Epoch 00002: val_accuracy improved from 0.59937 to 0.70501, saving model to weights.best.hdf5\n",
            "\n",
            "Epoch 00003: val_accuracy improved from 0.70501 to 0.72457, saving model to weights.best.hdf5\n",
            "\n",
            "Epoch 00004: val_accuracy did not improve from 0.72457\n",
            "Epoch 00004: early stopping\n",
            "accuracy: 72.46%\n",
            "\n",
            "Epoch 00001: val_accuracy improved from -inf to 0.70266, saving model to weights.best.hdf5\n",
            "\n",
            "Epoch 00002: val_accuracy improved from 0.70266 to 0.70501, saving model to weights.best.hdf5\n",
            "\n",
            "Epoch 00003: val_accuracy improved from 0.70501 to 0.72926, saving model to weights.best.hdf5\n",
            "\n",
            "Epoch 00004: val_accuracy improved from 0.72926 to 0.73631, saving model to weights.best.hdf5\n",
            "\n",
            "Epoch 00005: val_accuracy improved from 0.73631 to 0.75039, saving model to weights.best.hdf5\n",
            "\n",
            "Epoch 00006: val_accuracy did not improve from 0.75039\n",
            "Epoch 00006: early stopping\n",
            "accuracy: 75.04%\n",
            "\n",
            "Epoch 00001: val_accuracy improved from -inf to 0.64554, saving model to weights.best.hdf5\n",
            "\n",
            "Epoch 00002: val_accuracy improved from 0.64554 to 0.71674, saving model to weights.best.hdf5\n",
            "\n",
            "Epoch 00003: val_accuracy improved from 0.71674 to 0.73005, saving model to weights.best.hdf5\n",
            "\n",
            "Epoch 00004: val_accuracy did not improve from 0.73005\n",
            "Epoch 00004: early stopping\n",
            "accuracy: 73.00%\n",
            "\n",
            "Epoch 00001: val_accuracy improved from -inf to 0.68153, saving model to weights.best.hdf5\n",
            "\n",
            "Epoch 00002: val_accuracy improved from 0.68153 to 0.70657, saving model to weights.best.hdf5\n",
            "\n",
            "Epoch 00003: val_accuracy improved from 0.70657 to 0.71518, saving model to weights.best.hdf5\n",
            "\n",
            "Epoch 00004: val_accuracy did not improve from 0.71518\n",
            "Epoch 00004: early stopping\n",
            "accuracy: 71.52%\n",
            "\n",
            "Epoch 00001: val_accuracy improved from -inf to 0.65493, saving model to weights.best.hdf5\n",
            "\n",
            "Epoch 00002: val_accuracy improved from 0.65493 to 0.72770, saving model to weights.best.hdf5\n",
            "\n",
            "Epoch 00003: val_accuracy improved from 0.72770 to 0.72848, saving model to weights.best.hdf5\n",
            "\n",
            "Epoch 00004: val_accuracy improved from 0.72848 to 0.75117, saving model to weights.best.hdf5\n",
            "\n",
            "Epoch 00005: val_accuracy did not improve from 0.75117\n",
            "Epoch 00005: early stopping\n",
            "accuracy: 75.12%\n",
            "\n",
            "Epoch 00001: val_accuracy improved from -inf to 0.67293, saving model to weights.best.hdf5\n",
            "\n",
            "Epoch 00002: val_accuracy improved from 0.67293 to 0.71049, saving model to weights.best.hdf5\n",
            "\n",
            "Epoch 00003: val_accuracy improved from 0.71049 to 0.73239, saving model to weights.best.hdf5\n",
            "\n",
            "Epoch 00004: val_accuracy did not improve from 0.73239\n",
            "Epoch 00004: early stopping\n",
            "accuracy: 73.24%\n",
            "\n",
            "Epoch 00001: val_accuracy improved from -inf to 0.61659, saving model to weights.best.hdf5\n",
            "\n",
            "Epoch 00002: val_accuracy improved from 0.61659 to 0.70579, saving model to weights.best.hdf5\n",
            "\n",
            "Epoch 00003: val_accuracy improved from 0.70579 to 0.71362, saving model to weights.best.hdf5\n",
            "\n",
            "Epoch 00004: val_accuracy did not improve from 0.71362\n",
            "Epoch 00004: early stopping\n",
            "accuracy: 71.36%\n",
            "\n",
            "Epoch 00001: val_accuracy improved from -inf to 0.66588, saving model to weights.best.hdf5\n",
            "\n",
            "Epoch 00002: val_accuracy improved from 0.66588 to 0.71283, saving model to weights.best.hdf5\n",
            "\n",
            "Epoch 00003: val_accuracy improved from 0.71283 to 0.73787, saving model to weights.best.hdf5\n",
            "\n",
            "Epoch 00004: val_accuracy improved from 0.73787 to 0.74570, saving model to weights.best.hdf5\n",
            "\n",
            "Epoch 00005: val_accuracy did not improve from 0.74570\n",
            "Epoch 00005: early stopping\n",
            "accuracy: 74.57%\n",
            "\n",
            "Epoch 00001: val_accuracy improved from -inf to 0.61942, saving model to weights.best.hdf5\n",
            "\n",
            "Epoch 00002: val_accuracy improved from 0.61942 to 0.69851, saving model to weights.best.hdf5\n",
            "\n",
            "Epoch 00003: val_accuracy did not improve from 0.69851\n",
            "Epoch 00003: early stopping\n",
            "accuracy: 69.85%\n"
          ],
          "name": "stdout"
        }
      ]
    },
    {
      "cell_type": "code",
      "metadata": {
        "id": "OTVwFTBheA_i",
        "colab_type": "code",
        "colab": {
          "base_uri": "https://localhost:8080/",
          "height": 282
        },
        "outputId": "43786e4a-9089-4fea-b934-60373e1514f3"
      },
      "source": [
        "print(\"%.2f%% (+/- %.2f%%)\" % (np.mean(cvscores), np.std(cvscores)))\n",
        "plt.plot(cvscores)\n",
        "plt.show()"
      ],
      "execution_count": null,
      "outputs": [
        {
          "output_type": "stream",
          "text": [
            "73.08% (+/- 1.70%)\n"
          ],
          "name": "stdout"
        },
        {
          "output_type": "display_data",
          "data": {
            "image/png": "[encoded data removed]",
            "text/plain": [
              "<Figure size 432x288 with 1 Axes>"
            ]
          },
          "metadata": {
            "tags": []
          }
        }
      ]
    },
    {
      "cell_type": "markdown",
      "metadata": {
        "id": "vuUbhV2aq7KB",
        "colab_type": "text"
      },
      "source": [
        "### GRU\n",
        "\n",
        "Emb=128, GRU=256, drop=0 or drop=0.3\n"
      ]
    },
    {
      "cell_type": "code",
      "metadata": {
        "colab_type": "code",
        "id": "2JzyV2LEkQ9A",
        "colab": {
          "base_uri": "https://localhost:8080/",
          "height": 1000
        },
        "outputId": "ef769171-8e41-4991-9419-844f9d0c87c3"
      },
      "source": [
        "y = train[['label']]\n",
        "\n",
        "# adapted from https://machinelearningmastery.com/evaluate-performance-deep-learning-models-keras/\n",
        "\n",
        "# fix random seed for reproducibility\n",
        "seed = 10\n",
        "np.random.seed(seed)\n",
        "\n",
        "# define 10-fold cross validation split\n",
        "kfold = StratifiedKFold(n_splits=10, shuffle=True, random_state=seed)\n",
        "\n",
        "cvscores = []\n",
        "for train_, test_ in kfold.split(X, y):\n",
        "  Y = to_categorical(y)\n",
        "  # create model\n",
        "  np.random.seed(42)\n",
        "  random.seed(12345)\n",
        "  session_conf = tf.compat.v1.ConfigProto(intra_op_parallelism_threads=1,\n",
        "                                inter_op_parallelism_threads=1)\n",
        "  tf.compat.v1.set_random_seed(1234) \n",
        "\n",
        "  model = Sequential()\n",
        "  model.add(Embedding(dict_len + 1, output_dim=128)) \n",
        "  model.add(GRU(256, dropout=0)) \n",
        "  model.add(Dense(5, activation=\"softmax\"))  \n",
        "  model.compile(loss='categorical_crossentropy', optimizer='RMSprop', metrics=['accuracy'])\n",
        "  # save the best model\n",
        "  # filepath=\"accuracy-{epoch:02d}-{val_accuracy:.2f}.hdf5\"\n",
        "  filepath=\"weights.best.hdf5\"\n",
        "  checkpoint = ModelCheckpoint(filepath, monitor='val_accuracy', verbose=1,save_best_only=True, mode='auto', period=1)\n",
        "  callbacks_list = [checkpoint] \n",
        "  # earlystop = EarlyStopping(monitor='val_accuracy', verbose=1, patience=0)  # , patience=2 - how many epochs w/o improvement we allow\n",
        "  # Fit the model\n",
        "  model.fit(X[train_], Y[train_], validation_data = (X[test_], Y[test_]), epochs=7, batch_size=64,callbacks=callbacks_list,verbose=0)\n",
        "  # load the best model before evaluation, otherwise a model from the last epoch will be used.\n",
        "  model = load_model(\"weights.best.hdf5\")\n",
        "  scores = model.evaluate(X[test_], Y[test_], verbose=0)\n",
        "  print(\"%s: %.2f%%\" % (model.metrics_names[1], scores[1]*100))\n",
        "  cvscores.append(scores[1] * 100)"
      ],
      "execution_count": null,
      "outputs": [
        {
          "output_type": "stream",
          "text": [
            "ERROR! Session/line number was not unique in database. History logging moved to new session 60\n",
            "\n",
            "Epoch 00001: val_accuracy improved from -inf to 0.69014, saving model to weights.best.hdf5\n",
            "\n",
            "Epoch 00002: val_accuracy improved from 0.69014 to 0.71831, saving model to weights.best.hdf5\n",
            "\n",
            "Epoch 00003: val_accuracy improved from 0.71831 to 0.72144, saving model to weights.best.hdf5\n",
            "\n",
            "Epoch 00004: val_accuracy improved from 0.72144 to 0.73239, saving model to weights.best.hdf5\n",
            "\n",
            "Epoch 00005: val_accuracy improved from 0.73239 to 0.73474, saving model to weights.best.hdf5\n",
            "\n",
            "Epoch 00006: val_accuracy did not improve from 0.73474\n",
            "\n",
            "Epoch 00007: val_accuracy did not improve from 0.73474\n",
            "accuracy: 73.47%\n",
            "\n",
            "Epoch 00001: val_accuracy improved from -inf to 0.70736, saving model to weights.best.hdf5\n",
            "\n",
            "Epoch 00002: val_accuracy improved from 0.70736 to 0.72222, saving model to weights.best.hdf5\n",
            "\n",
            "Epoch 00003: val_accuracy did not improve from 0.72222\n",
            "\n",
            "Epoch 00004: val_accuracy improved from 0.72222 to 0.73396, saving model to weights.best.hdf5\n",
            "\n",
            "Epoch 00005: val_accuracy did not improve from 0.73396\n",
            "\n",
            "Epoch 00006: val_accuracy did not improve from 0.73396\n",
            "\n",
            "Epoch 00007: val_accuracy did not improve from 0.73396\n",
            "accuracy: 73.40%\n",
            "\n",
            "Epoch 00001: val_accuracy improved from -inf to 0.69797, saving model to weights.best.hdf5\n",
            "\n",
            "Epoch 00002: val_accuracy improved from 0.69797 to 0.70266, saving model to weights.best.hdf5\n",
            "\n",
            "Epoch 00003: val_accuracy improved from 0.70266 to 0.73161, saving model to weights.best.hdf5\n",
            "\n",
            "Epoch 00004: val_accuracy improved from 0.73161 to 0.74491, saving model to weights.best.hdf5\n",
            "\n",
            "Epoch 00005: val_accuracy improved from 0.74491 to 0.74883, saving model to weights.best.hdf5\n",
            "\n",
            "Epoch 00006: val_accuracy did not improve from 0.74883\n",
            "\n",
            "Epoch 00007: val_accuracy did not improve from 0.74883\n",
            "accuracy: 74.88%\n",
            "\n",
            "Epoch 00001: val_accuracy improved from -inf to 0.67762, saving model to weights.best.hdf5\n",
            "\n",
            "Epoch 00002: val_accuracy improved from 0.67762 to 0.71831, saving model to weights.best.hdf5\n",
            "\n",
            "Epoch 00003: val_accuracy improved from 0.71831 to 0.72613, saving model to weights.best.hdf5\n",
            "\n",
            "Epoch 00004: val_accuracy did not improve from 0.72613\n",
            "\n",
            "Epoch 00005: val_accuracy did not improve from 0.72613\n",
            "\n",
            "Epoch 00006: val_accuracy did not improve from 0.72613\n",
            "\n",
            "Epoch 00007: val_accuracy did not improve from 0.72613\n",
            "accuracy: 72.61%\n",
            "\n",
            "Epoch 00001: val_accuracy improved from -inf to 0.68779, saving model to weights.best.hdf5\n",
            "\n",
            "Epoch 00002: val_accuracy improved from 0.68779 to 0.70423, saving model to weights.best.hdf5\n",
            "\n",
            "Epoch 00003: val_accuracy improved from 0.70423 to 0.71049, saving model to weights.best.hdf5\n",
            "\n",
            "Epoch 00004: val_accuracy improved from 0.71049 to 0.72066, saving model to weights.best.hdf5\n",
            "\n",
            "Epoch 00005: val_accuracy did not improve from 0.72066\n",
            "\n",
            "Epoch 00006: val_accuracy did not improve from 0.72066\n",
            "\n",
            "Epoch 00007: val_accuracy did not improve from 0.72066\n",
            "accuracy: 72.07%\n",
            "\n",
            "Epoch 00001: val_accuracy improved from -inf to 0.68858, saving model to weights.best.hdf5\n",
            "\n",
            "Epoch 00002: val_accuracy improved from 0.68858 to 0.73944, saving model to weights.best.hdf5\n",
            "\n",
            "Epoch 00003: val_accuracy improved from 0.73944 to 0.74883, saving model to weights.best.hdf5\n",
            "\n",
            "Epoch 00004: val_accuracy did not improve from 0.74883\n",
            "\n",
            "Epoch 00005: val_accuracy did not improve from 0.74883\n",
            "\n",
            "Epoch 00006: val_accuracy did not improve from 0.74883\n",
            "\n",
            "Epoch 00007: val_accuracy did not improve from 0.74883\n",
            "accuracy: 74.88%\n",
            "\n",
            "Epoch 00001: val_accuracy improved from -inf to 0.70188, saving model to weights.best.hdf5\n",
            "\n",
            "Epoch 00002: val_accuracy improved from 0.70188 to 0.72066, saving model to weights.best.hdf5\n",
            "\n",
            "Epoch 00003: val_accuracy improved from 0.72066 to 0.72770, saving model to weights.best.hdf5\n",
            "\n",
            "Epoch 00004: val_accuracy did not improve from 0.72770\n",
            "\n",
            "Epoch 00005: val_accuracy did not improve from 0.72770\n",
            "\n",
            "Epoch 00006: val_accuracy did not improve from 0.72770\n",
            "\n",
            "Epoch 00007: val_accuracy did not improve from 0.72770\n",
            "accuracy: 72.77%\n",
            "\n",
            "Epoch 00001: val_accuracy improved from -inf to 0.68701, saving model to weights.best.hdf5\n",
            "\n",
            "Epoch 00002: val_accuracy improved from 0.68701 to 0.71127, saving model to weights.best.hdf5\n",
            "\n",
            "Epoch 00003: val_accuracy did not improve from 0.71127\n",
            "\n",
            "Epoch 00004: val_accuracy did not improve from 0.71127\n",
            "\n",
            "Epoch 00005: val_accuracy did not improve from 0.71127\n",
            "\n",
            "Epoch 00006: val_accuracy did not improve from 0.71127\n",
            "\n",
            "Epoch 00007: val_accuracy did not improve from 0.71127\n",
            "accuracy: 71.13%\n",
            "\n",
            "Epoch 00001: val_accuracy improved from -inf to 0.71909, saving model to weights.best.hdf5\n",
            "\n",
            "Epoch 00002: val_accuracy improved from 0.71909 to 0.73239, saving model to weights.best.hdf5\n",
            "\n",
            "Epoch 00003: val_accuracy improved from 0.73239 to 0.73318, saving model to weights.best.hdf5\n",
            "\n",
            "Epoch 00004: val_accuracy improved from 0.73318 to 0.74100, saving model to weights.best.hdf5\n",
            "\n",
            "Epoch 00005: val_accuracy did not improve from 0.74100\n",
            "\n",
            "Epoch 00006: val_accuracy did not improve from 0.74100\n",
            "\n",
            "Epoch 00007: val_accuracy did not improve from 0.74100\n",
            "accuracy: 74.10%\n",
            "\n",
            "Epoch 00001: val_accuracy improved from -inf to 0.66719, saving model to weights.best.hdf5\n",
            "\n",
            "Epoch 00002: val_accuracy improved from 0.66719 to 0.70164, saving model to weights.best.hdf5\n",
            "\n",
            "Epoch 00003: val_accuracy improved from 0.70164 to 0.70399, saving model to weights.best.hdf5\n",
            "\n",
            "Epoch 00004: val_accuracy improved from 0.70399 to 0.72044, saving model to weights.best.hdf5\n",
            "\n",
            "Epoch 00005: val_accuracy did not improve from 0.72044\n",
            "\n",
            "Epoch 00006: val_accuracy did not improve from 0.72044\n",
            "\n",
            "Epoch 00007: val_accuracy did not improve from 0.72044\n",
            "accuracy: 72.04%\n"
          ],
          "name": "stdout"
        }
      ]
    },
    {
      "cell_type": "code",
      "metadata": {
        "id": "1CWFAzyxpdrv",
        "colab_type": "code",
        "colab": {
          "base_uri": "https://localhost:8080/",
          "height": 282
        },
        "outputId": "28407d54-3736-4224-81ed-5306cae2997d"
      },
      "source": [
        "print(\"%.2f%% (+/- %.2f%%)\" % (np.mean(cvscores), np.std(cvscores)))\n",
        "plt.plot(cvscores)\n",
        "plt.show()"
      ],
      "execution_count": null,
      "outputs": [
        {
          "output_type": "stream",
          "text": [
            "73.14% (+/- 1.18%)\n"
          ],
          "name": "stdout"
        },
        {
          "output_type": "display_data",
          "data": {
            "image/png": "[encoded data removed]",
            "text/plain": [
              "<Figure size 432x288 with 1 Axes>"
            ]
          },
          "metadata": {
            "tags": []
          }
        }
      ]
    },
    {
      "cell_type": "code",
      "metadata": {
        "id": "sbT4LuW7lByP",
        "colab_type": "code",
        "colab": {
          "base_uri": "https://localhost:8080/",
          "height": 1000
        },
        "outputId": "d33211a1-632e-4142-e83c-30a612373a8e"
      },
      "source": [
        "# DROPOUT increased from 0 to 0.3\n",
        "y = train[['label']]\n",
        "\n",
        "# adapted from https://machinelearningmastery.com/evaluate-performance-deep-learning-models-keras/\n",
        "\n",
        "# fix random seed for reproducibility\n",
        "seed = 10\n",
        "np.random.seed(seed)\n",
        "\n",
        "# define 10-fold cross validation split\n",
        "kfold = StratifiedKFold(n_splits=10, shuffle=True, random_state=seed)\n",
        "\n",
        "cvscores = []\n",
        "for train_, test_ in kfold.split(X, y):\n",
        "  Y = to_categorical(y)\n",
        "  # create model\n",
        "  np.random.seed(42)\n",
        "  random.seed(12345)\n",
        "  session_conf = tf.compat.v1.ConfigProto(intra_op_parallelism_threads=1,\n",
        "                                inter_op_parallelism_threads=1)\n",
        "  tf.compat.v1.set_random_seed(1234) \n",
        "\n",
        "  model = Sequential()\n",
        "  model.add(Embedding(dict_len + 1, output_dim=128)) \n",
        "  model.add(GRU(256, dropout=0.3)) \n",
        "  model.add(Dense(5, activation=\"softmax\"))  \n",
        "  model.compile(loss='categorical_crossentropy', optimizer='RMSprop', metrics=['accuracy'])\n",
        "  # save the best model\n",
        "  # filepath=\"accuracy-{epoch:02d}-{val_accuracy:.2f}.hdf5\"\n",
        "  filepath=\"weights.best.hdf5\"\n",
        "  checkpoint = ModelCheckpoint(filepath, monitor='val_accuracy', verbose=1,save_best_only=True, mode='auto', period=1)\n",
        "  callbacks_list = [checkpoint] \n",
        "  # earlystop = EarlyStopping(monitor='val_accuracy', verbose=1, patience=0)  # , patience=2 - how many epochs w/o improvement we allow\n",
        "  # Fit the model\n",
        "  model.fit(X[train_], Y[train_], validation_data = (X[test_], Y[test_]), epochs=7, batch_size=64,callbacks=callbacks_list,verbose=0)\n",
        "  # load the best model before evaluation, otherwise a model from the last epoch will be used.\n",
        "  model = load_model(\"weights.best.hdf5\")\n",
        "  scores = model.evaluate(X[test_], Y[test_], verbose=0)\n",
        "  print(\"%s: %.2f%%\" % (model.metrics_names[1], scores[1]*100))\n",
        "  cvscores.append(scores[1] * 100)\t"
      ],
      "execution_count": null,
      "outputs": [
        {
          "output_type": "stream",
          "text": [
            "WARNING:tensorflow:`period` argument is deprecated. Please use `save_freq` to specify the frequency in number of batches seen.\n",
            "\n",
            "Epoch 00002: val_accuracy improved from 0.68701 to 0.70266, saving model to weights.best.hdf5\n",
            "\n",
            "Epoch 00003: val_accuracy improved from 0.70266 to 0.72222, saving model to weights.best.hdf5\n",
            "\n",
            "Epoch 00004: val_accuracy improved from 0.72222 to 0.74257, saving model to weights.best.hdf5\n",
            "\n",
            "Epoch 00005: val_accuracy improved from 0.74257 to 0.74883, saving model to weights.best.hdf5\n",
            "\n",
            "Epoch 00006: val_accuracy did not improve from 0.74883\n",
            "\n",
            "Epoch 00007: val_accuracy did not improve from 0.74883\n",
            "WARNING:tensorflow:Error in loading the saved optimizer state. As a result, your model is starting with a freshly initialized optimizer.\n",
            "accuracy: 74.88%\n",
            "WARNING:tensorflow:`period` argument is deprecated. Please use `save_freq` to specify the frequency in number of batches seen.\n",
            "\n",
            "Epoch 00001: val_accuracy improved from -inf to 0.69405, saving model to weights.best.hdf5\n",
            "\n",
            "Epoch 00002: val_accuracy improved from 0.69405 to 0.71283, saving model to weights.best.hdf5\n",
            "\n",
            "Epoch 00003: val_accuracy improved from 0.71283 to 0.71596, saving model to weights.best.hdf5\n",
            "\n",
            "Epoch 00004: val_accuracy improved from 0.71596 to 0.73083, saving model to weights.best.hdf5\n",
            "\n",
            "Epoch 00005: val_accuracy did not improve from 0.73083\n",
            "\n",
            "Epoch 00006: val_accuracy did not improve from 0.73083\n",
            "\n",
            "Epoch 00007: val_accuracy did not improve from 0.73083\n",
            "WARNING:tensorflow:Error in loading the saved optimizer state. As a result, your model is starting with a freshly initialized optimizer.\n",
            "accuracy: 73.08%\n",
            "WARNING:tensorflow:`period` argument is deprecated. Please use `save_freq` to specify the frequency in number of batches seen.\n",
            "\n",
            "Epoch 00001: val_accuracy improved from -inf to 0.68388, saving model to weights.best.hdf5\n",
            "\n",
            "Epoch 00002: val_accuracy improved from 0.68388 to 0.71283, saving model to weights.best.hdf5\n",
            "\n",
            "Epoch 00003: val_accuracy improved from 0.71283 to 0.73552, saving model to weights.best.hdf5\n",
            "\n",
            "Epoch 00004: val_accuracy did not improve from 0.73552\n",
            "\n",
            "Epoch 00005: val_accuracy improved from 0.73552 to 0.73944, saving model to weights.best.hdf5\n",
            "\n",
            "Epoch 00006: val_accuracy improved from 0.73944 to 0.74178, saving model to weights.best.hdf5\n",
            "\n",
            "Epoch 00007: val_accuracy did not improve from 0.74178\n",
            "WARNING:tensorflow:Error in loading the saved optimizer state. As a result, your model is starting with a freshly initialized optimizer.\n",
            "accuracy: 74.18%\n",
            "WARNING:tensorflow:`period` argument is deprecated. Please use `save_freq` to specify the frequency in number of batches seen.\n",
            "\n",
            "Epoch 00001: val_accuracy improved from -inf to 0.68779, saving model to weights.best.hdf5\n",
            "\n",
            "Epoch 00002: val_accuracy improved from 0.68779 to 0.71831, saving model to weights.best.hdf5\n",
            "\n",
            "Epoch 00003: val_accuracy improved from 0.71831 to 0.72770, saving model to weights.best.hdf5\n",
            "\n",
            "Epoch 00004: val_accuracy improved from 0.72770 to 0.73239, saving model to weights.best.hdf5\n",
            "\n",
            "Epoch 00005: val_accuracy did not improve from 0.73239\n",
            "\n",
            "Epoch 00006: val_accuracy did not improve from 0.73239\n",
            "\n",
            "Epoch 00007: val_accuracy did not improve from 0.73239\n",
            "WARNING:tensorflow:Error in loading the saved optimizer state. As a result, your model is starting with a freshly initialized optimizer.\n",
            "accuracy: 73.24%\n",
            "WARNING:tensorflow:`period` argument is deprecated. Please use `save_freq` to specify the frequency in number of batches seen.\n",
            "\n",
            "Epoch 00001: val_accuracy improved from -inf to 0.68466, saving model to weights.best.hdf5\n",
            "\n",
            "Epoch 00002: val_accuracy improved from 0.68466 to 0.70579, saving model to weights.best.hdf5\n",
            "\n",
            "Epoch 00003: val_accuracy improved from 0.70579 to 0.71283, saving model to weights.best.hdf5\n",
            "\n",
            "Epoch 00004: val_accuracy improved from 0.71283 to 0.72066, saving model to weights.best.hdf5\n",
            "\n",
            "Epoch 00005: val_accuracy did not improve from 0.72066\n",
            "\n",
            "Epoch 00006: val_accuracy did not improve from 0.72066\n",
            "\n",
            "Epoch 00007: val_accuracy did not improve from 0.72066\n",
            "WARNING:tensorflow:Error in loading the saved optimizer state. As a result, your model is starting with a freshly initialized optimizer.\n",
            "accuracy: 72.07%\n",
            "WARNING:tensorflow:`period` argument is deprecated. Please use `save_freq` to specify the frequency in number of batches seen.\n",
            "\n",
            "Epoch 00001: val_accuracy improved from -inf to 0.67919, saving model to weights.best.hdf5\n",
            "\n",
            "Epoch 00002: val_accuracy improved from 0.67919 to 0.73944, saving model to weights.best.hdf5\n",
            "\n",
            "Epoch 00003: val_accuracy improved from 0.73944 to 0.74022, saving model to weights.best.hdf5\n",
            "\n",
            "Epoch 00004: val_accuracy improved from 0.74022 to 0.74413, saving model to weights.best.hdf5\n",
            "\n",
            "Epoch 00005: val_accuracy improved from 0.74413 to 0.75430, saving model to weights.best.hdf5\n",
            "\n",
            "Epoch 00006: val_accuracy did not improve from 0.75430\n",
            "\n",
            "Epoch 00007: val_accuracy did not improve from 0.75430\n",
            "WARNING:tensorflow:Error in loading the saved optimizer state. As a result, your model is starting with a freshly initialized optimizer.\n",
            "accuracy: 75.43%\n",
            "WARNING:tensorflow:`period` argument is deprecated. Please use `save_freq` to specify the frequency in number of batches seen.\n",
            "\n",
            "Epoch 00001: val_accuracy improved from -inf to 0.68779, saving model to weights.best.hdf5\n",
            "\n",
            "Epoch 00002: val_accuracy improved from 0.68779 to 0.71753, saving model to weights.best.hdf5\n",
            "\n",
            "Epoch 00003: val_accuracy improved from 0.71753 to 0.72379, saving model to weights.best.hdf5\n",
            "\n",
            "Epoch 00004: val_accuracy did not improve from 0.72379\n",
            "\n",
            "Epoch 00005: val_accuracy did not improve from 0.72379\n",
            "\n",
            "Epoch 00006: val_accuracy did not improve from 0.72379\n",
            "\n",
            "Epoch 00007: val_accuracy improved from 0.72379 to 0.72692, saving model to weights.best.hdf5\n",
            "WARNING:tensorflow:Error in loading the saved optimizer state. As a result, your model is starting with a freshly initialized optimizer.\n",
            "accuracy: 72.69%\n",
            "WARNING:tensorflow:`period` argument is deprecated. Please use `save_freq` to specify the frequency in number of batches seen.\n",
            "\n",
            "Epoch 00001: val_accuracy improved from -inf to 0.65962, saving model to weights.best.hdf5\n",
            "\n",
            "Epoch 00002: val_accuracy improved from 0.65962 to 0.69953, saving model to weights.best.hdf5\n",
            "\n",
            "Epoch 00003: val_accuracy improved from 0.69953 to 0.70736, saving model to weights.best.hdf5\n",
            "\n",
            "Epoch 00004: val_accuracy improved from 0.70736 to 0.71596, saving model to weights.best.hdf5\n",
            "\n",
            "Epoch 00005: val_accuracy did not improve from 0.71596\n",
            "\n",
            "Epoch 00006: val_accuracy did not improve from 0.71596\n",
            "\n",
            "Epoch 00007: val_accuracy did not improve from 0.71596\n",
            "WARNING:tensorflow:Error in loading the saved optimizer state. As a result, your model is starting with a freshly initialized optimizer.\n",
            "accuracy: 71.60%\n",
            "WARNING:tensorflow:`period` argument is deprecated. Please use `save_freq` to specify the frequency in number of batches seen.\n",
            "\n",
            "Epoch 00001: val_accuracy improved from -inf to 0.69797, saving model to weights.best.hdf5\n",
            "\n",
            "Epoch 00002: val_accuracy improved from 0.69797 to 0.72770, saving model to weights.best.hdf5\n",
            "\n",
            "Epoch 00003: val_accuracy improved from 0.72770 to 0.73787, saving model to weights.best.hdf5\n",
            "\n",
            "Epoch 00004: val_accuracy improved from 0.73787 to 0.74570, saving model to weights.best.hdf5\n",
            "\n",
            "Epoch 00005: val_accuracy did not improve from 0.74570\n",
            "\n",
            "Epoch 00006: val_accuracy did not improve from 0.74570\n",
            "\n",
            "Epoch 00007: val_accuracy did not improve from 0.74570\n",
            "WARNING:tensorflow:Error in loading the saved optimizer state. As a result, your model is starting with a freshly initialized optimizer.\n",
            "accuracy: 74.57%\n",
            "WARNING:tensorflow:`period` argument is deprecated. Please use `save_freq` to specify the frequency in number of batches seen.\n",
            "\n",
            "Epoch 00001: val_accuracy improved from -inf to 0.67110, saving model to weights.best.hdf5\n",
            "\n",
            "Epoch 00002: val_accuracy improved from 0.67110 to 0.68442, saving model to weights.best.hdf5\n",
            "\n",
            "Epoch 00003: val_accuracy improved from 0.68442 to 0.69616, saving model to weights.best.hdf5\n",
            "\n",
            "Epoch 00004: val_accuracy improved from 0.69616 to 0.71261, saving model to weights.best.hdf5\n",
            "\n",
            "Epoch 00005: val_accuracy improved from 0.71261 to 0.71652, saving model to weights.best.hdf5\n",
            "\n",
            "Epoch 00006: val_accuracy improved from 0.71652 to 0.72044, saving model to weights.best.hdf5\n",
            "\n",
            "Epoch 00007: val_accuracy did not improve from 0.72044\n",
            "WARNING:tensorflow:Error in loading the saved optimizer state. As a result, your model is starting with a freshly initialized optimizer.\n",
            "accuracy: 72.04%\n"
          ],
          "name": "stdout"
        }
      ]
    },
    {
      "cell_type": "code",
      "metadata": {
        "id": "oPIj5LVjpjaw",
        "colab_type": "code",
        "colab": {
          "base_uri": "https://localhost:8080/",
          "height": 282
        },
        "outputId": "772d6c82-a545-450e-dc64-4175173f6636"
      },
      "source": [
        "print(\"%.2f%% (+/- %.2f%%)\" % (np.mean(cvscores), np.std(cvscores)))\n",
        "plt.plot(cvscores)\n",
        "plt.show()"
      ],
      "execution_count": null,
      "outputs": [
        {
          "output_type": "stream",
          "text": [
            "73.38% (+/- 1.26%)\n"
          ],
          "name": "stdout"
        },
        {
          "output_type": "display_data",
          "data": {
            "image/png": "[encoded data removed]",
            "text/plain": [
              "<Figure size 432x288 with 1 Axes>"
            ]
          },
          "metadata": {
            "tags": []
          }
        }
      ]
    },
    {
      "cell_type": "markdown",
      "metadata": {
        "id": "_0d_RZCLwtvt",
        "colab_type": "text"
      },
      "source": [
        "## Using Word2Vec by Google\n",
        "\n",
        "Incrementally better with Word2Vec in LSTM and CNN\n",
        "\n",
        "LSTM emb=300, 128 hu, dropout = 0.2:\n",
        "\n",
        " * no pre-trained emb: 0.7410\n",
        " * with Word2Vec: 0.7423\n",
        "\n",
        "CNN emb = 300, 500 hum 250 in Dense\n",
        "\n",
        " * no pre-trained emb: 0.7426\n",
        " * with Word2Vec:0.7453\n",
        "\n",
        "GRU emb=300, 256 hu in GRU, dropout = 0.3: 0.7410/0.7406\n",
        "\n",
        "GRU emb=300, 128 hu in GRU, dropout = 0.3: 0.7422/0.7422\n",
        "\n",
        "GRU emb=300, 128 hu in GRU, dropout = 0.2: 0.7426/0.7430\n"
      ]
    },
    {
      "cell_type": "markdown",
      "metadata": {
        "id": "LxKhsvEzJSbK",
        "colab_type": "text"
      },
      "source": [
        "#### Splitting data again: making dictionary only on the train set (minus validation)"
      ]
    },
    {
      "cell_type": "code",
      "metadata": {
        "id": "9U-mkUw1Cm5R",
        "colab_type": "code",
        "colab": {}
      },
      "source": [
        "title_train, title_test, Y_train, Y_test = train_test_split(\n",
        "    train.title, Y, test_size=0.2, random_state=1234, shuffle=False)"
      ],
      "execution_count": null,
      "outputs": []
    },
    {
      "cell_type": "code",
      "metadata": {
        "id": "pdzYBwaTDrGv",
        "colab_type": "code",
        "colab": {
          "base_uri": "https://localhost:8080/",
          "height": 200
        },
        "outputId": "40741a57-9e4a-470f-f014-0dd960aedf96"
      },
      "source": [
        "title_train[:10]"
      ],
      "execution_count": null,
      "outputs": [
        {
          "output_type": "execute_result",
          "data": {
            "text/plain": [
              "0    interactive visual exploration of neighbor bas...\n",
              "1    relational division four algorithms and their ...\n",
              "2    simplifying xml schema effortless handling of ...\n",
              "3    funbase a function based information managemen...\n",
              "4    inverted matrix efficient discovery of frequen...\n",
              "5    computational aspects of covering in dominance...\n",
              "6    feaspar   a feature structure parser learning ...\n",
              "7    assessing the scenic route measuring the value...\n",
              "8    webanywhere enabling a screen reading interfac...\n",
              "9    non standard semantics for the method of tempo...\n",
              "Name: title, dtype: object"
            ]
          },
          "metadata": {
            "tags": []
          },
          "execution_count": 192
        }
      ]
    },
    {
      "cell_type": "code",
      "metadata": {
        "id": "Ol4tkV4GDWa6",
        "colab_type": "code",
        "colab": {
          "base_uri": "https://localhost:8080/",
          "height": 367
        },
        "outputId": "6061848d-7463-4f0d-9b2b-ce569d6b8b4c"
      },
      "source": [
        "# tokenize train data\n",
        "NUM_WORDS = 10000 # keep top 10000 words in a dictionary, can be changed later\n",
        "tokenizer = Tokenizer(num_words=NUM_WORDS)\n",
        "tokenizer.fit_on_texts(title_train)\n",
        "X_train = tokenizer.texts_to_sequences(title_train)\n",
        "X_train = pad_sequences(X_train, maxlen=20)\n",
        "X_train[:10]"
      ],
      "execution_count": null,
      "outputs": [
        {
          "output_type": "execute_result",
          "data": {
            "text/plain": [
              "array([[   0,    0,    0,    0,    0,    0,    0,    0,    0,    0,  157,\n",
              "         255,  406,    2,  847,    9,  123,    5,    8,  191],\n",
              "       [   0,    0,    0,    0,    0,    0,    0,    0,    0,    0,    0,\n",
              "           0,    0,   46, 2062, 1460,   64,    4,  421,   56],\n",
              "       [   0,    0,    0,    0,    0,    0,    0,    0,    0,    0,    0,\n",
              "        2434,   62,  225, 4073,  574,    2, 1796, 1629,  624],\n",
              "       [   0,    0,    0,    0,    0,    0,    0,    0,    0,    0,    0,\n",
              "           0,    0, 4074,    3,  279,    9,   17,   50,   16],\n",
              "       [   0,    0,    0,    0,  916,  515,   30,  210,    2,  407, 1119,\n",
              "           5,   44,  516,    5,    6,  116,    2,  157,   34],\n",
              "       [   0,    0,    0,    0,    0,    0,    0,    0,    0,    0,    0,\n",
              "           0,    0,  265,  575,    2, 2063,    5, 1461,  182],\n",
              "       [   0,    0,    0,    0,    0,    0,    0,    0,    0,    0, 4075,\n",
              "           3,  126,   66,  376,   14,    7, 1337,  394,   27],\n",
              "       [   0,    0,    0,    0,    0,    0,    0,  802,    6, 4076, 1462,\n",
              "         517,    6,  214,    2,   24, 2985,    5,   15,  917],\n",
              "       [   0,    0,    0,    0,    0,    0,    0,    0, 4077, 1630,    3,\n",
              "        4078, 1219,  296,    1,    6,   15,   11, 2064,   49],\n",
              "       [   0,    0,    0,    0,    0,    0,    0,    0,    0,    0,    0,\n",
              "         124,  918,  103,    1,    6,   74,    2,   71, 1631]],\n",
              "      dtype=int32)"
            ]
          },
          "metadata": {
            "tags": []
          },
          "execution_count": 193
        }
      ]
    },
    {
      "cell_type": "code",
      "metadata": {
        "id": "y54GmwhQEPCA",
        "colab_type": "code",
        "colab": {
          "base_uri": "https://localhost:8080/",
          "height": 200
        },
        "outputId": "1d20080e-a579-476d-8f6e-e94b08d081a9"
      },
      "source": [
        "title_test[:10]"
      ],
      "execution_count": null,
      "outputs": [
        {
          "output_type": "execute_result",
          "data": {
            "text/plain": [
              "10223    modeling chinese documents with topical word c...\n",
              "10224    software engineering for distributed applicati...\n",
              "10225    bin completion algorithms for multicontainer p...\n",
              "10226    using relational operators to structure long t...\n",
              "10227    partially synchronized dec mdps in dynamic mec...\n",
              "10228     disambiguating and interpreting verb definitions\n",
              "10229    user software engineering and the design of in...\n",
              "10230    a generation model to unify topic relevance an...\n",
              "10231                 contracting in the days of ebusiness\n",
              "10232                comparing hybrid peer to peer systems\n",
              "Name: title, dtype: object"
            ]
          },
          "metadata": {
            "tags": []
          },
          "execution_count": 194
        }
      ]
    },
    {
      "cell_type": "code",
      "metadata": {
        "id": "W8QaU-yeEApT",
        "colab_type": "code",
        "colab": {
          "base_uri": "https://localhost:8080/",
          "height": 367
        },
        "outputId": "87cece60-e3e9-4932-cc88-c2b085db3061"
      },
      "source": [
        "# tokenize test data\n",
        "X_test = tokenizer.texts_to_sequences(title_test)\n",
        "X_test = pad_sequences(X_test, maxlen=20)\n",
        "X_test[:10]"
      ],
      "execution_count": null,
      "outputs": [
        {
          "output_type": "execute_result",
          "data": {
            "text/plain": [
              "array([[   0,    0,    0,    0,    0,    0,    0,    0,    0,    0,    0,\n",
              "           0,   78,  268,  146,   10, 1346,  100, 1854,   32],\n",
              "       [   0,    0,    0,    0,    0,    0,    0,    0,    0,    0,    0,\n",
              "           0,   28,   65,    1,   40,   70,    6,   38,  261],\n",
              "       [   0,    0,    0,    0,    0,    0,    0,    0,    0,    0,    0,\n",
              "           0, 2918, 1862,   64,    1, 2654,    4, 2063,  176],\n",
              "       [   0,    0,    0,    0,    0,    0,    0,    0,    0,    0,    0,\n",
              "           0,   12,   46, 1003,    7,   66,  948,  290,  127],\n",
              "       [   0,    0,    0,    0,    0,    0,    0,    0,    0,    0,    0,\n",
              "           0,  818, 1604, 7853,  996,    5,   54,  478,   38],\n",
              "       [   0,    0,    0,    0,    0,    0,    0,    0,    0,    0,    0,\n",
              "           0,    0,    0,    0, 5814,    4, 2431, 1118, 1194],\n",
              "       [   0,    0,    0,    0,    0,    0,    0,    0,    0,    0,    0,\n",
              "          79,   28,   65,    4,    6,   38,    2,  157,   19],\n",
              "       [   0,    0,    0,    0,    0,    0,    3,   72,   21,    7, 5721,\n",
              "         186,  151,    4,  520,    9,  789,    1,  929,   22],\n",
              "       [   0,    0,    0,    0,    0,    0,    0,    0,    0,    0,    0,\n",
              "           0,    0,    0,    0,    0,    5,    6, 4334,    2],\n",
              "       [   0,    0,    0,    0,    0,    0,    0,    0,    0,    0,    0,\n",
              "           0,    0,    0,  757,  297,  197,    7,  197,   19]],\n",
              "      dtype=int32)"
            ]
          },
          "metadata": {
            "tags": []
          },
          "execution_count": 195
        }
      ]
    },
    {
      "cell_type": "code",
      "metadata": {
        "id": "jiemsF3AFH_f",
        "colab_type": "code",
        "colab": {
          "base_uri": "https://localhost:8080/",
          "height": 200
        },
        "outputId": "bc317bc4-cc53-4c07-d439-285ddf21ab41"
      },
      "source": [
        "test.title[:10]"
      ],
      "execution_count": null,
      "outputs": [
        {
          "output_type": "execute_result",
          "data": {
            "text/plain": [
              "0    autodomainmine a graphical data mining system ...\n",
              "1    anipqo almost non intrusive parametric query o...\n",
              "2    selection and ranking of text from highly impe...\n",
              "3    conditional random fields for multi agent rein...\n",
              "4                 multi dimensional description logics\n",
              "5    fast on line index construction by geometric p...\n",
              "6                                reasoning about rings\n",
              "7    transductive regression piloted by inter manif...\n",
              "8    a fast and usually linear algorithm for global...\n",
              "9    conditional constraint satisfaction logical fo...\n",
              "Name: title, dtype: object"
            ]
          },
          "metadata": {
            "tags": []
          },
          "execution_count": 196
        }
      ]
    },
    {
      "cell_type": "code",
      "metadata": {
        "id": "agQ8C0pC2v6L",
        "colab_type": "code",
        "colab": {
          "base_uri": "https://localhost:8080/",
          "height": 367
        },
        "outputId": "43a92ae0-31a2-4f59-caf2-7be310419a72"
      },
      "source": [
        "# tokenize new data for Kaggle upload\n",
        "X_new = tokenizer.texts_to_sequences(test.title)\n",
        "X_new = pad_sequences(X_new, maxlen=20)\n",
        "X_new[:10]"
      ],
      "execution_count": null,
      "outputs": [
        {
          "output_type": "execute_result",
          "data": {
            "text/plain": [
              "array([[   0,    0,    0,    0,    0,    0,    0,    0,    0,    0,    0,\n",
              "           0,    3,  456,    8,   34,   16,    1,  136,   63],\n",
              "       [   0,    0,    0,    0,    0,    0,    0,    0,    0,    0,    0,\n",
              "        1501,  124,  715,   20,   63,    1, 1304,  257,  298],\n",
              "       [   0,    0,    0,    0,    0,    0,   99,    4,  121,    2,   39,\n",
              "          23,  886, 1958, 5867,    1,   22,    2,  524,  175],\n",
              "       [   0,    0,    0,    0,    0,    0,    0,    0,    0,    0,    0,\n",
              "           0,  342,  234,  837,    1,   47,  247,  392,   14],\n",
              "       [   0,    0,    0,    0,    0,    0,    0,    0,    0,    0,    0,\n",
              "           0,    0,    0,    0,    0,   47,  195,  295,  559],\n",
              "       [   0,    0,    0,    0,    0,    0,    0,    0,    0,    0,    0,\n",
              "           0,  111,   11,  358,  285,  275,   33,  983,  539],\n",
              "       [   0,    0,    0,    0,    0,    0,    0,    0,    0,    0,    0,\n",
              "           0,    0,    0,    0,    0,    0,   67,  291, 8228],\n",
              "       [   0,    0,    0,    0,    0,    0,    0,    0,    0,    0,    0,\n",
              "           0,    0, 2157,  318, 4643,   33, 1233, 2043,  189],\n",
              "       [   0,    0,    0,    0,    0,    0,    0,    0,    0,    0,    3,\n",
              "         111,    4, 4086,  140,   57,    1,  305,  245,   25],\n",
              "       [   0,    0,    0,    0,    0,    0,    0,    0,    0,    0,    0,\n",
              "           0,    0,  342,  149,  683,  360, 1259,    4,  193]],\n",
              "      dtype=int32)"
            ]
          },
          "metadata": {
            "tags": []
          },
          "execution_count": 197
        }
      ]
    },
    {
      "cell_type": "code",
      "metadata": {
        "id": "cPdJONGm16mj",
        "colab_type": "code",
        "colab": {
          "base_uri": "https://localhost:8080/",
          "height": 33
        },
        "outputId": "e5efd5d8-92cb-41a5-8d1d-3d49389f9bab"
      },
      "source": [
        "# find a number of unique tokens\n",
        "word2index = tokenizer.word_index # create a dictionary\n",
        "print('Found %s unique tokens.' % len(word2index))"
      ],
      "execution_count": null,
      "outputs": [
        {
          "output_type": "stream",
          "text": [
            "Found 8357 unique tokens.\n"
          ],
          "name": "stdout"
        }
      ]
    },
    {
      "cell_type": "code",
      "metadata": {
        "id": "NJI6rOP63oLh",
        "colab_type": "code",
        "colab": {}
      },
      "source": [
        "word2index.items() # explore our dictionary"
      ],
      "execution_count": null,
      "outputs": []
    },
    {
      "cell_type": "code",
      "metadata": {
        "id": "TY4q9YOqEKL9",
        "colab_type": "code",
        "colab": {}
      },
      "source": [
        "dict_len2 = len(word2index)"
      ],
      "execution_count": null,
      "outputs": []
    },
    {
      "cell_type": "markdown",
      "metadata": {
        "id": "uzJRiadPJemu",
        "colab_type": "text"
      },
      "source": [
        "#### Getting pre-trained Word2Vec by Google\n",
        "\n"
      ]
    },
    {
      "cell_type": "code",
      "metadata": {
        "id": "2Jis-OXaAC1d",
        "colab_type": "code",
        "colab": {
          "base_uri": "https://localhost:8080/",
          "height": 87
        },
        "outputId": "d1b6d1b5-5667-4063-c2df-67e0aafb6eff"
      },
      "source": [
        "import gensim.downloader as api\n",
        "\n",
        "wv = api.load('word2vec-google-news-300')\n",
        "\n",
        "vec_king = wv['king']"
      ],
      "execution_count": null,
      "outputs": [
        {
          "output_type": "stream",
          "text": [
            "[==================================================] 100.0% 1662.8/1662.8MB downloaded\n"
          ],
          "name": "stdout"
        },
        {
          "output_type": "stream",
          "text": [
            "/usr/local/lib/python3.6/dist-packages/smart_open/smart_open_lib.py:410: UserWarning: This function is deprecated, use smart_open.open instead. See the migration notes for details: https://github.com/RaRe-Technologies/smart_open/blob/master/README.rst#migrating-to-the-new-open-function\n",
            "  'See the migration notes for details: %s' % _MIGRATION_NOTES_URL\n"
          ],
          "name": "stderr"
        }
      ]
    },
    {
      "cell_type": "code",
      "metadata": {
        "id": "Dl7XVSCfDjGs",
        "colab_type": "code",
        "colab": {
          "base_uri": "https://localhost:8080/",
          "height": 1000
        },
        "outputId": "1a877543-cb92-4dd6-f2b6-b86eb5b5bc41"
      },
      "source": [
        "wv['king']"
      ],
      "execution_count": null,
      "outputs": [
        {
          "output_type": "execute_result",
          "data": {
            "text/plain": [
              "array([ 1.25976562e-01,  2.97851562e-02,  8.60595703e-03,  1.39648438e-01,\n",
              "       -2.56347656e-02, -3.61328125e-02,  1.11816406e-01, -1.98242188e-01,\n",
              "        5.12695312e-02,  3.63281250e-01, -2.42187500e-01, -3.02734375e-01,\n",
              "       -1.77734375e-01, -2.49023438e-02, -1.67968750e-01, -1.69921875e-01,\n",
              "        3.46679688e-02,  5.21850586e-03,  4.63867188e-02,  1.28906250e-01,\n",
              "        1.36718750e-01,  1.12792969e-01,  5.95703125e-02,  1.36718750e-01,\n",
              "        1.01074219e-01, -1.76757812e-01, -2.51953125e-01,  5.98144531e-02,\n",
              "        3.41796875e-01, -3.11279297e-02,  1.04492188e-01,  6.17675781e-02,\n",
              "        1.24511719e-01,  4.00390625e-01, -3.22265625e-01,  8.39843750e-02,\n",
              "        3.90625000e-02,  5.85937500e-03,  7.03125000e-02,  1.72851562e-01,\n",
              "        1.38671875e-01, -2.31445312e-01,  2.83203125e-01,  1.42578125e-01,\n",
              "        3.41796875e-01, -2.39257812e-02, -1.09863281e-01,  3.32031250e-02,\n",
              "       -5.46875000e-02,  1.53198242e-02, -1.62109375e-01,  1.58203125e-01,\n",
              "       -2.59765625e-01,  2.01416016e-02, -1.63085938e-01,  1.35803223e-03,\n",
              "       -1.44531250e-01, -5.68847656e-02,  4.29687500e-02, -2.46582031e-02,\n",
              "        1.85546875e-01,  4.47265625e-01,  9.58251953e-03,  1.31835938e-01,\n",
              "        9.86328125e-02, -1.85546875e-01, -1.00097656e-01, -1.33789062e-01,\n",
              "       -1.25000000e-01,  2.83203125e-01,  1.23046875e-01,  5.32226562e-02,\n",
              "       -1.77734375e-01,  8.59375000e-02, -2.18505859e-02,  2.05078125e-02,\n",
              "       -1.39648438e-01,  2.51464844e-02,  1.38671875e-01, -1.05468750e-01,\n",
              "        1.38671875e-01,  8.88671875e-02, -7.51953125e-02, -2.13623047e-02,\n",
              "        1.72851562e-01,  4.63867188e-02, -2.65625000e-01,  8.91113281e-03,\n",
              "        1.49414062e-01,  3.78417969e-02,  2.38281250e-01, -1.24511719e-01,\n",
              "       -2.17773438e-01, -1.81640625e-01,  2.97851562e-02,  5.71289062e-02,\n",
              "       -2.89306641e-02,  1.24511719e-02,  9.66796875e-02, -2.31445312e-01,\n",
              "        5.81054688e-02,  6.68945312e-02,  7.08007812e-02, -3.08593750e-01,\n",
              "       -2.14843750e-01,  1.45507812e-01, -4.27734375e-01, -9.39941406e-03,\n",
              "        1.54296875e-01, -7.66601562e-02,  2.89062500e-01,  2.77343750e-01,\n",
              "       -4.86373901e-04, -1.36718750e-01,  3.24218750e-01, -2.46093750e-01,\n",
              "       -3.03649902e-03, -2.11914062e-01,  1.25000000e-01,  2.69531250e-01,\n",
              "        2.04101562e-01,  8.25195312e-02, -2.01171875e-01, -1.60156250e-01,\n",
              "       -3.78417969e-02, -1.20117188e-01,  1.15234375e-01, -4.10156250e-02,\n",
              "       -3.95507812e-02, -8.98437500e-02,  6.34765625e-03,  2.03125000e-01,\n",
              "        1.86523438e-01,  2.73437500e-01,  6.29882812e-02,  1.41601562e-01,\n",
              "       -9.81445312e-02,  1.38671875e-01,  1.82617188e-01,  1.73828125e-01,\n",
              "        1.73828125e-01, -2.37304688e-01,  1.78710938e-01,  6.34765625e-02,\n",
              "        2.36328125e-01, -2.08984375e-01,  8.74023438e-02, -1.66015625e-01,\n",
              "       -7.91015625e-02,  2.43164062e-01, -8.88671875e-02,  1.26953125e-01,\n",
              "       -2.16796875e-01, -1.73828125e-01, -3.59375000e-01, -8.25195312e-02,\n",
              "       -6.49414062e-02,  5.07812500e-02,  1.35742188e-01, -7.47070312e-02,\n",
              "       -1.64062500e-01,  1.15356445e-02,  4.45312500e-01, -2.15820312e-01,\n",
              "       -1.11328125e-01, -1.92382812e-01,  1.70898438e-01, -1.25000000e-01,\n",
              "        2.65502930e-03,  1.92382812e-01, -1.74804688e-01,  1.39648438e-01,\n",
              "        2.92968750e-01,  1.13281250e-01,  5.95703125e-02, -6.39648438e-02,\n",
              "        9.96093750e-02, -2.72216797e-02,  1.96533203e-02,  4.27246094e-02,\n",
              "       -2.46093750e-01,  6.39648438e-02, -2.25585938e-01, -1.68945312e-01,\n",
              "        2.89916992e-03,  8.20312500e-02,  3.41796875e-01,  4.32128906e-02,\n",
              "        1.32812500e-01,  1.42578125e-01,  7.61718750e-02,  5.98144531e-02,\n",
              "       -1.19140625e-01,  2.74658203e-03, -6.29882812e-02, -2.72216797e-02,\n",
              "       -4.82177734e-03, -8.20312500e-02, -2.49023438e-02, -4.00390625e-01,\n",
              "       -1.06933594e-01,  4.24804688e-02,  7.76367188e-02, -1.16699219e-01,\n",
              "        7.37304688e-02, -9.22851562e-02,  1.07910156e-01,  1.58203125e-01,\n",
              "        4.24804688e-02,  1.26953125e-01,  3.61328125e-02,  2.67578125e-01,\n",
              "       -1.01074219e-01, -3.02734375e-01, -5.76171875e-02,  5.05371094e-02,\n",
              "        5.26428223e-04, -2.07031250e-01, -1.38671875e-01, -8.97216797e-03,\n",
              "       -2.78320312e-02, -1.41601562e-01,  2.07031250e-01, -1.58203125e-01,\n",
              "        1.27929688e-01,  1.49414062e-01, -2.24609375e-02, -8.44726562e-02,\n",
              "        1.22558594e-01,  2.15820312e-01, -2.13867188e-01, -3.12500000e-01,\n",
              "       -3.73046875e-01,  4.08935547e-03,  1.07421875e-01,  1.06933594e-01,\n",
              "        7.32421875e-02,  8.97216797e-03, -3.88183594e-02, -1.29882812e-01,\n",
              "        1.49414062e-01, -2.14843750e-01, -1.83868408e-03,  9.91210938e-02,\n",
              "        1.57226562e-01, -1.14257812e-01, -2.05078125e-01,  9.91210938e-02,\n",
              "        3.69140625e-01, -1.97265625e-01,  3.54003906e-02,  1.09375000e-01,\n",
              "        1.31835938e-01,  1.66992188e-01,  2.35351562e-01,  1.04980469e-01,\n",
              "       -4.96093750e-01, -1.64062500e-01, -1.56250000e-01, -5.22460938e-02,\n",
              "        1.03027344e-01,  2.43164062e-01, -1.88476562e-01,  5.07812500e-02,\n",
              "       -9.37500000e-02, -6.68945312e-02,  2.27050781e-02,  7.61718750e-02,\n",
              "        2.89062500e-01,  3.10546875e-01, -5.37109375e-02,  2.28515625e-01,\n",
              "        2.51464844e-02,  6.78710938e-02, -1.21093750e-01, -2.15820312e-01,\n",
              "       -2.73437500e-01, -3.07617188e-02, -3.37890625e-01,  1.53320312e-01,\n",
              "        2.33398438e-01, -2.08007812e-01,  3.73046875e-01,  8.20312500e-02,\n",
              "        2.51953125e-01, -7.61718750e-02, -4.66308594e-02, -2.23388672e-02,\n",
              "        2.99072266e-02, -5.93261719e-02, -4.66918945e-03, -2.44140625e-01,\n",
              "       -2.09960938e-01, -2.87109375e-01, -4.54101562e-02, -1.77734375e-01,\n",
              "       -2.79296875e-01, -8.59375000e-02,  9.13085938e-02,  2.51953125e-01],\n",
              "      dtype=float32)"
            ]
          },
          "metadata": {
            "tags": []
          },
          "execution_count": 190
        }
      ]
    },
    {
      "cell_type": "code",
      "metadata": {
        "id": "PGbZ2JBNMvBf",
        "colab_type": "code",
        "colab": {}
      },
      "source": [
        "# CREATING EMBEDDINGS MATRIX FOR OUR WORDS\n",
        "# code adapted from https://www.kaggle.com/marijakekic/cnn-in-keras-with-pretrained-word2vec-weights\n",
        "import gensim\n",
        "from gensim.models import Word2Vec\n",
        "from gensim.utils import simple_preprocess\n",
        "\n",
        "from gensim.models.keyedvectors import KeyedVectors\n",
        "# does not work...\n",
        "# word_vectors = KeyedVectors.load_word2vec_format('../GoogleNews-vectors-negative300.bin', binary=True)\n",
        "\n",
        "EMBEDDING_DIM=300\n",
        "vocabulary_size=min(len(word2index)+1,NUM_WORDS)\n",
        "embedding_matrix = np.zeros((vocabulary_size, EMBEDDING_DIM))\n",
        "for word, i in word2index.items():\n",
        "    if i>=NUM_WORDS:\n",
        "        continue\n",
        "    try:\n",
        "        embedding_vector = wv[word]\n",
        "        # embedding_vector = word_vectors[word]\n",
        "        embedding_matrix[i] = embedding_vector\n",
        "    except KeyError:\n",
        "        embedding_matrix[i]=np.random.normal(0,np.sqrt(0.25),EMBEDDING_DIM)\n",
        "\n",
        "# del(word_vectors)"
      ],
      "execution_count": null,
      "outputs": []
    },
    {
      "cell_type": "markdown",
      "metadata": {
        "id": "FLJApcv5L2qE",
        "colab_type": "text"
      },
      "source": [
        "#### LSTM (basic best) with and without Word2Vec"
      ]
    },
    {
      "cell_type": "code",
      "metadata": {
        "id": "G1o0rqaGGzOV",
        "colab_type": "code",
        "colab": {
          "base_uri": "https://localhost:8080/",
          "height": 383
        },
        "outputId": "d8280715-64f7-44a3-c004-831e17b1c8b2"
      },
      "source": [
        "# baseline - best simple LSTM w. emb=300 - RMSprop\n",
        "np.random.seed(42)\n",
        "random.seed(12345)\n",
        "session_conf = tf.compat.v1.ConfigProto(intra_op_parallelism_threads=1,\n",
        "                              inter_op_parallelism_threads=1)\n",
        "tf.compat.v1.set_random_seed(1234) \n",
        "model = Sequential() \n",
        "model.add(Embedding(dict_len + 1, output_dim=300, name=\"Embedding\"))  \n",
        "model.add(LSTM(128, dropout=0.2, name=\"LSTM\")) \n",
        "model.add(Dense(5, activation=\"softmax\"))  \n",
        "model.compile(loss='categorical_crossentropy', optimizer='RMSprop', metrics=['accuracy'])\n",
        "# Train the model\n",
        "model.fit(X_train, Y_train, validation_data = (X_test, Y_test), batch_size=64, epochs=10) \n",
        "model.evaluate(X_test, Y_test)"
      ],
      "execution_count": null,
      "outputs": [
        {
          "output_type": "stream",
          "text": [
            "Epoch 1/10\n",
            "160/160 [==============================] - 16s 98ms/step - loss: 1.0967 - accuracy: 0.5830 - val_loss: 0.8057 - val_accuracy: 0.7015\n",
            "Epoch 2/10\n",
            "160/160 [==============================] - 15s 95ms/step - loss: 0.6697 - accuracy: 0.7676 - val_loss: 0.7342 - val_accuracy: 0.7340\n",
            "Epoch 3/10\n",
            "160/160 [==============================] - 15s 95ms/step - loss: 0.5369 - accuracy: 0.8117 - val_loss: 0.7527 - val_accuracy: 0.7371\n",
            "Epoch 4/10\n",
            "160/160 [==============================] - 15s 96ms/step - loss: 0.4542 - accuracy: 0.8417 - val_loss: 0.7460 - val_accuracy: 0.7410\n",
            "Epoch 5/10\n",
            "160/160 [==============================] - 15s 96ms/step - loss: 0.3921 - accuracy: 0.8617 - val_loss: 0.8003 - val_accuracy: 0.7277\n",
            "Epoch 6/10\n",
            "160/160 [==============================] - 15s 95ms/step - loss: 0.3411 - accuracy: 0.8796 - val_loss: 0.8289 - val_accuracy: 0.7297\n",
            "Epoch 7/10\n",
            "160/160 [==============================] - 15s 96ms/step - loss: 0.2951 - accuracy: 0.8977 - val_loss: 0.8808 - val_accuracy: 0.7187\n",
            "Epoch 8/10\n",
            "160/160 [==============================] - 15s 95ms/step - loss: 0.2574 - accuracy: 0.9104 - val_loss: 0.9616 - val_accuracy: 0.7081\n",
            "Epoch 9/10\n",
            "160/160 [==============================] - 15s 97ms/step - loss: 0.2260 - accuracy: 0.9234 - val_loss: 0.9813 - val_accuracy: 0.7113\n",
            "Epoch 10/10\n",
            "160/160 [==============================] - 15s 96ms/step - loss: 0.1987 - accuracy: 0.9336 - val_loss: 1.0784 - val_accuracy: 0.6968\n",
            "80/80 [==============================] - 1s 14ms/step - loss: 1.0784 - accuracy: 0.6968\n"
          ],
          "name": "stdout"
        },
        {
          "output_type": "execute_result",
          "data": {
            "text/plain": [
              "[1.0784363746643066, 0.6967918872833252]"
            ]
          },
          "metadata": {
            "tags": []
          },
          "execution_count": 71
        }
      ]
    },
    {
      "cell_type": "code",
      "metadata": {
        "id": "AEMMvBzFQ5tr",
        "colab_type": "code",
        "colab": {
          "base_uri": "https://localhost:8080/",
          "height": 383
        },
        "outputId": "43d8962c-4d89-4046-e613-3d1fc9814bd5"
      },
      "source": [
        "# best simple LSTM, using pre-trained Word2Vec embeddings - RMSprop\n",
        "np.random.seed(42)\n",
        "random.seed(12345)\n",
        "session_conf = tf.compat.v1.ConfigProto(intra_op_parallelism_threads=1,\n",
        "                              inter_op_parallelism_threads=1)\n",
        "tf.compat.v1.set_random_seed(1234) \n",
        "model = Sequential() \n",
        "model.add(Embedding(dict_len2 + 1, output_dim=EMBEDDING_DIM, trainable=True,                       \n",
        "                    embeddings_initializer=Constant(embedding_matrix),                       \n",
        "                    input_length=20, name=\"Embedding\"))  \n",
        "model.add(LSTM(128, dropout=0.2, name=\"LSTM\")) \n",
        "model.add(Dense(5, activation=\"softmax\"))  \n",
        "model.compile(loss='categorical_crossentropy', optimizer='RMSprop', metrics=['accuracy'])\n",
        "# Train the model\n",
        "model.fit(X_train, Y_train, validation_data = (X_test, Y_test), batch_size=64, epochs=10) \n",
        "model.evaluate(X_test, Y_test)"
      ],
      "execution_count": null,
      "outputs": [
        {
          "output_type": "stream",
          "text": [
            "Epoch 1/10\n",
            "160/160 [==============================] - 14s 90ms/step - loss: 1.0486 - accuracy: 0.6013 - val_loss: 0.8237 - val_accuracy: 0.6960\n",
            "Epoch 2/10\n",
            "160/160 [==============================] - 14s 88ms/step - loss: 0.7376 - accuracy: 0.7293 - val_loss: 0.7490 - val_accuracy: 0.7293\n",
            "Epoch 3/10\n",
            "160/160 [==============================] - 14s 86ms/step - loss: 0.6151 - accuracy: 0.7780 - val_loss: 0.7438 - val_accuracy: 0.7351\n",
            "Epoch 4/10\n",
            "160/160 [==============================] - 14s 87ms/step - loss: 0.5218 - accuracy: 0.8126 - val_loss: 0.7313 - val_accuracy: 0.7375\n",
            "Epoch 5/10\n",
            "160/160 [==============================] - 14s 87ms/step - loss: 0.4575 - accuracy: 0.8353 - val_loss: 0.7482 - val_accuracy: 0.7426\n",
            "Epoch 6/10\n",
            "160/160 [==============================] - 14s 87ms/step - loss: 0.3917 - accuracy: 0.8614 - val_loss: 0.7847 - val_accuracy: 0.7347\n",
            "Epoch 7/10\n",
            "160/160 [==============================] - 14s 87ms/step - loss: 0.3387 - accuracy: 0.8807 - val_loss: 0.8329 - val_accuracy: 0.7304\n",
            "Epoch 8/10\n",
            "160/160 [==============================] - 14s 87ms/step - loss: 0.2935 - accuracy: 0.8939 - val_loss: 0.8787 - val_accuracy: 0.7191\n",
            "Epoch 9/10\n",
            "160/160 [==============================] - 14s 86ms/step - loss: 0.2518 - accuracy: 0.9110 - val_loss: 0.9194 - val_accuracy: 0.7132\n",
            "Epoch 10/10\n",
            "160/160 [==============================] - 14s 87ms/step - loss: 0.2116 - accuracy: 0.9271 - val_loss: 0.9966 - val_accuracy: 0.7109\n",
            "80/80 [==============================] - 1s 13ms/step - loss: 0.9965 - accuracy: 0.7109\n"
          ],
          "name": "stdout"
        },
        {
          "output_type": "execute_result",
          "data": {
            "text/plain": [
              "[0.9965320825576782, 0.7108763456344604]"
            ]
          },
          "metadata": {
            "tags": []
          },
          "execution_count": 128
        }
      ]
    },
    {
      "cell_type": "code",
      "metadata": {
        "id": "nyqIe5t7HT8_",
        "colab_type": "code",
        "colab": {
          "base_uri": "https://localhost:8080/",
          "height": 283
        },
        "outputId": "f20d6771-177a-4c38-bc49-0eb137d76cd5"
      },
      "source": [
        "# CHANGED ONLY ONE PART VS THE PREVIOUS CHUNK - significant difference\n",
        "\n",
        "# best simple LSTM, using pre-trained Word2Vec embeddings - RMSprop\n",
        "np.random.seed(42)\n",
        "random.seed(12345)\n",
        "session_conf = tf.compat.v1.ConfigProto(intra_op_parallelism_threads=1,\n",
        "                              inter_op_parallelism_threads=1)\n",
        "tf.compat.v1.set_random_seed(1234) \n",
        "model = Sequential() \n",
        "model.add(Embedding(dict_len2 + 1, output_dim=EMBEDDING_DIM, trainable=True,                       \n",
        "                    weights=[embedding_matrix],  # CHANGED THIS PART                     \n",
        "                    input_length=20, name=\"Embedding\"))  \n",
        "model.add(LSTM(128, dropout=0.2, name=\"LSTM\")) \n",
        "model.add(Dense(5, activation=\"softmax\"))  \n",
        "model.compile(loss='categorical_crossentropy', optimizer='RMSprop', metrics=['accuracy'])\n",
        "# Train the model\n",
        "model.fit(X_train, Y_train, validation_data = (X_test, Y_test), batch_size=64, epochs=7) \n",
        "model.evaluate(X_test, Y_test)"
      ],
      "execution_count": null,
      "outputs": [
        {
          "output_type": "stream",
          "text": [
            "Epoch 1/7\n",
            "160/160 [==============================] - 15s 96ms/step - loss: 1.0465 - accuracy: 0.5950 - val_loss: 0.8219 - val_accuracy: 0.6956\n",
            "Epoch 2/7\n",
            "160/160 [==============================] - 15s 93ms/step - loss: 0.7396 - accuracy: 0.7288 - val_loss: 0.7504 - val_accuracy: 0.7234\n",
            "Epoch 3/7\n",
            "160/160 [==============================] - 15s 93ms/step - loss: 0.6190 - accuracy: 0.7781 - val_loss: 0.7368 - val_accuracy: 0.7289\n",
            "Epoch 4/7\n",
            "160/160 [==============================] - 15s 93ms/step - loss: 0.5259 - accuracy: 0.8114 - val_loss: 0.7313 - val_accuracy: 0.7363\n",
            "Epoch 5/7\n",
            "160/160 [==============================] - 15s 92ms/step - loss: 0.4612 - accuracy: 0.8368 - val_loss: 0.7470 - val_accuracy: 0.7347\n",
            "Epoch 6/7\n",
            "160/160 [==============================] - 15s 93ms/step - loss: 0.3945 - accuracy: 0.8581 - val_loss: 0.7873 - val_accuracy: 0.7332\n",
            "Epoch 7/7\n",
            "160/160 [==============================] - 15s 92ms/step - loss: 0.3437 - accuracy: 0.8788 - val_loss: 0.8209 - val_accuracy: 0.7320\n",
            "80/80 [==============================] - 1s 14ms/step - loss: 0.8208 - accuracy: 0.7320\n"
          ],
          "name": "stdout"
        },
        {
          "output_type": "execute_result",
          "data": {
            "text/plain": [
              "[0.8207780718803406, 0.7320031523704529]"
            ]
          },
          "metadata": {
            "tags": []
          },
          "execution_count": 72
        }
      ]
    },
    {
      "cell_type": "markdown",
      "metadata": {
        "id": "rBZ1WjvVMPvu",
        "colab_type": "text"
      },
      "source": [
        "#### GRU basic best\n",
        "\n",
        "I change here emb_dim from 128 to 300, GRU hu from 256 to 128 due to the following:\n",
        "\n",
        " * emb_dim = 300, GRU hu = 256, drop = 0.3: 0.7410 \n",
        " * emb_dim = 300, GRU hu = 128, drop = 0.3: 0.7422 \n",
        " * emb_dim = 300, GRU hu = 128, drop = 0.2: 0.7426 \n",
        "\n",
        "All this is lower than 0.7430 with emb=100 (no pretraining)"
      ]
    },
    {
      "cell_type": "code",
      "metadata": {
        "id": "Jr_5FQb6SdUI",
        "colab_type": "code",
        "colab": {
          "base_uri": "https://localhost:8080/",
          "height": 217
        },
        "outputId": "96962bd5-2f91-4110-a9d8-038393f6df0e"
      },
      "source": [
        "# Run best baseline GRU w. emb=100 on newly tokenized data: drop of accuracy from 0.7449 to 0.7430\n",
        "np.random.seed(42)\n",
        "random.seed(12345)\n",
        "session_conf = tf.compat.v1.ConfigProto(intra_op_parallelism_threads=1,\n",
        "                              inter_op_parallelism_threads=1)\n",
        "tf.compat.v1.set_random_seed(1234) \n",
        "model = Sequential() \n",
        "model.add(Embedding(dict_len + 1, output_dim=100, name=\"Embedding\"))  \n",
        "model.add(GRU(256, dropout=0.3, name=\"LSTM\")) \n",
        "model.add(Dense(5, activation=\"softmax\"))  \n",
        "model.compile(loss='categorical_crossentropy', optimizer='RMSprop', metrics=['accuracy'])\n",
        "# Train the model\n",
        "model.fit(X_train, Y_train, validation_data = (X_test, Y_test), batch_size=64, epochs=5) \n",
        "model.evaluate(X_test, Y_test)"
      ],
      "execution_count": null,
      "outputs": [
        {
          "output_type": "stream",
          "text": [
            "Epoch 1/5\n",
            "160/160 [==============================] - 16s 99ms/step - loss: 1.1863 - accuracy: 0.5316 - val_loss: 0.8695 - val_accuracy: 0.6905\n",
            "Epoch 2/5\n",
            "160/160 [==============================] - 15s 96ms/step - loss: 0.7586 - accuracy: 0.7294 - val_loss: 0.7654 - val_accuracy: 0.7199\n",
            "Epoch 3/5\n",
            "160/160 [==============================] - 15s 97ms/step - loss: 0.6168 - accuracy: 0.7840 - val_loss: 0.7456 - val_accuracy: 0.7316\n",
            "Epoch 4/5\n",
            "160/160 [==============================] - 16s 98ms/step - loss: 0.5373 - accuracy: 0.8148 - val_loss: 0.7366 - val_accuracy: 0.7430\n",
            "Epoch 5/5\n",
            "160/160 [==============================] - 16s 97ms/step - loss: 0.4784 - accuracy: 0.8316 - val_loss: 0.7856 - val_accuracy: 0.7250\n",
            "80/80 [==============================] - 1s 15ms/step - loss: 0.7854 - accuracy: 0.7250\n"
          ],
          "name": "stdout"
        },
        {
          "output_type": "execute_result",
          "data": {
            "text/plain": [
              "[0.7854050993919373, 0.7249608635902405]"
            ]
          },
          "metadata": {
            "tags": []
          },
          "execution_count": 137
        }
      ]
    },
    {
      "cell_type": "markdown",
      "metadata": {
        "id": "QR2ewat0TloM",
        "colab_type": "text"
      },
      "source": [
        "**GRU=256, drop=0.3**"
      ]
    },
    {
      "cell_type": "code",
      "metadata": {
        "id": "XOCPTEX4NAva",
        "colab_type": "code",
        "colab": {
          "base_uri": "https://localhost:8080/",
          "height": 383
        },
        "outputId": "d7a1c7f8-d197-40ff-81be-b5e47d635f8f"
      },
      "source": [
        "# baseline - best simple GRU w. emb=300 - RMSprop\n",
        "np.random.seed(42)\n",
        "random.seed(12345)\n",
        "session_conf = tf.compat.v1.ConfigProto(intra_op_parallelism_threads=1,\n",
        "                              inter_op_parallelism_threads=1)\n",
        "tf.compat.v1.set_random_seed(1234) \n",
        "model = Sequential() \n",
        "model.add(Embedding(dict_len + 1, output_dim=300, name=\"Embedding\"))  \n",
        "model.add(GRU(256, dropout=0.3, name=\"LSTM\")) \n",
        "model.add(Dense(5, activation=\"softmax\"))  \n",
        "model.compile(loss='categorical_crossentropy', optimizer='RMSprop', metrics=['accuracy'])\n",
        "# Train the model\n",
        "model.fit(X_train, Y_train, validation_data = (X_test, Y_test), batch_size=64, epochs=10) \n",
        "model.evaluate(X_test, Y_test)"
      ],
      "execution_count": null,
      "outputs": [
        {
          "output_type": "stream",
          "text": [
            "Epoch 1/10\n",
            "160/160 [==============================] - 21s 134ms/step - loss: 1.0683 - accuracy: 0.5916 - val_loss: 0.8032 - val_accuracy: 0.7034\n",
            "Epoch 2/10\n",
            "160/160 [==============================] - 21s 133ms/step - loss: 0.6779 - accuracy: 0.7590 - val_loss: 0.7384 - val_accuracy: 0.7340\n",
            "Epoch 3/10\n",
            "160/160 [==============================] - 21s 132ms/step - loss: 0.5512 - accuracy: 0.8056 - val_loss: 0.7482 - val_accuracy: 0.7351\n",
            "Epoch 4/10\n",
            "160/160 [==============================] - 21s 132ms/step - loss: 0.4667 - accuracy: 0.8352 - val_loss: 0.7587 - val_accuracy: 0.7410\n",
            "Epoch 5/10\n",
            "160/160 [==============================] - 21s 134ms/step - loss: 0.4074 - accuracy: 0.8577 - val_loss: 0.8055 - val_accuracy: 0.7273\n",
            "Epoch 6/10\n",
            "160/160 [==============================] - 21s 134ms/step - loss: 0.3488 - accuracy: 0.8789 - val_loss: 0.8520 - val_accuracy: 0.7250\n",
            "Epoch 7/10\n",
            "160/160 [==============================] - 21s 133ms/step - loss: 0.2990 - accuracy: 0.8951 - val_loss: 0.8922 - val_accuracy: 0.7214\n",
            "Epoch 8/10\n",
            "160/160 [==============================] - 21s 133ms/step - loss: 0.2565 - accuracy: 0.9119 - val_loss: 0.9837 - val_accuracy: 0.7097\n",
            "Epoch 9/10\n",
            "160/160 [==============================] - 21s 133ms/step - loss: 0.2171 - accuracy: 0.9237 - val_loss: 1.0355 - val_accuracy: 0.7027\n",
            "Epoch 10/10\n",
            "160/160 [==============================] - 21s 133ms/step - loss: 0.1821 - accuracy: 0.9376 - val_loss: 1.1173 - val_accuracy: 0.6937\n",
            "80/80 [==============================] - 2s 20ms/step - loss: 1.1175 - accuracy: 0.6937\n"
          ],
          "name": "stdout"
        },
        {
          "output_type": "execute_result",
          "data": {
            "text/plain": [
              "[1.117499589920044, 0.6936619877815247]"
            ]
          },
          "metadata": {
            "tags": []
          },
          "execution_count": 130
        }
      ]
    },
    {
      "cell_type": "code",
      "metadata": {
        "id": "ezKC6kuTQKJ9",
        "colab_type": "code",
        "colab": {
          "base_uri": "https://localhost:8080/",
          "height": 383
        },
        "outputId": "9015e291-027e-4cc9-8330-4dcfcae2cfeb"
      },
      "source": [
        "# simple GRU, using pre-trained Word2Vec embeddings - RMSprop\n",
        "np.random.seed(42)\n",
        "random.seed(12345)\n",
        "session_conf = tf.compat.v1.ConfigProto(intra_op_parallelism_threads=1,\n",
        "                              inter_op_parallelism_threads=1)\n",
        "tf.compat.v1.set_random_seed(1234) \n",
        "model = Sequential() \n",
        "model.add(Embedding(dict_len2 + 1, output_dim=EMBEDDING_DIM, trainable=True,                       \n",
        "                    embeddings_initializer=Constant(embedding_matrix),                       \n",
        "                    input_length=20, name=\"Embedding\"))  \n",
        "model.add(GRU(256, dropout=0.3, name=\"LSTM\")) \n",
        "model.add(Dense(5, activation=\"softmax\"))  \n",
        "model.compile(loss='categorical_crossentropy', optimizer='RMSprop', metrics=['accuracy'])\n",
        "# Train the model\n",
        "model.fit(X_train, Y_train, validation_data = (X_test, Y_test), batch_size=64, epochs=10) \n",
        "model.evaluate(X_test, Y_test)"
      ],
      "execution_count": null,
      "outputs": [
        {
          "output_type": "stream",
          "text": [
            "Epoch 1/10\n",
            "160/160 [==============================] - 21s 133ms/step - loss: 1.0648 - accuracy: 0.5819 - val_loss: 0.8338 - val_accuracy: 0.6874\n",
            "Epoch 2/10\n",
            "160/160 [==============================] - 21s 131ms/step - loss: 0.7765 - accuracy: 0.7139 - val_loss: 0.7661 - val_accuracy: 0.7218\n",
            "Epoch 3/10\n",
            "160/160 [==============================] - 21s 131ms/step - loss: 0.6589 - accuracy: 0.7579 - val_loss: 0.7350 - val_accuracy: 0.7308\n",
            "Epoch 4/10\n",
            "160/160 [==============================] - 21s 132ms/step - loss: 0.5658 - accuracy: 0.7929 - val_loss: 0.7199 - val_accuracy: 0.7406\n",
            "Epoch 5/10\n",
            "160/160 [==============================] - 21s 131ms/step - loss: 0.4999 - accuracy: 0.8211 - val_loss: 0.7407 - val_accuracy: 0.7383\n",
            "Epoch 6/10\n",
            "160/160 [==============================] - 21s 132ms/step - loss: 0.4431 - accuracy: 0.8383 - val_loss: 0.7600 - val_accuracy: 0.7390\n",
            "Epoch 7/10\n",
            "160/160 [==============================] - 21s 132ms/step - loss: 0.3868 - accuracy: 0.8606 - val_loss: 0.8061 - val_accuracy: 0.7304\n",
            "Epoch 8/10\n",
            "160/160 [==============================] - 21s 131ms/step - loss: 0.3364 - accuracy: 0.8788 - val_loss: 0.8846 - val_accuracy: 0.7218\n",
            "Epoch 9/10\n",
            "160/160 [==============================] - 21s 132ms/step - loss: 0.2895 - accuracy: 0.8952 - val_loss: 0.8596 - val_accuracy: 0.7332\n",
            "Epoch 10/10\n",
            "160/160 [==============================] - 21s 133ms/step - loss: 0.2509 - accuracy: 0.9073 - val_loss: 0.9276 - val_accuracy: 0.7183\n",
            "80/80 [==============================] - 2s 21ms/step - loss: 0.9273 - accuracy: 0.7183\n"
          ],
          "name": "stdout"
        },
        {
          "output_type": "execute_result",
          "data": {
            "text/plain": [
              "[0.9272509813308716, 0.7183098793029785]"
            ]
          },
          "metadata": {
            "tags": []
          },
          "execution_count": 134
        }
      ]
    },
    {
      "cell_type": "markdown",
      "metadata": {
        "id": "8tgcW_mpQzUm",
        "colab_type": "text"
      },
      "source": [
        "**GRU=128, drop=0.3**"
      ]
    },
    {
      "cell_type": "code",
      "metadata": {
        "id": "QsrIpUt8MO09",
        "colab_type": "code",
        "colab": {
          "base_uri": "https://localhost:8080/",
          "height": 383
        },
        "outputId": "d447bf22-6139-449a-8482-9790c69636a3"
      },
      "source": [
        "# baseline - best simple GRU w. emb=300 - RMSprop\n",
        "np.random.seed(42)\n",
        "random.seed(12345)\n",
        "session_conf = tf.compat.v1.ConfigProto(intra_op_parallelism_threads=1,\n",
        "                              inter_op_parallelism_threads=1)\n",
        "tf.compat.v1.set_random_seed(1234) \n",
        "model = Sequential() \n",
        "model.add(Embedding(dict_len + 1, output_dim=300, name=\"Embedding\"))  \n",
        "model.add(GRU(128, dropout=0.3, name=\"LSTM\")) \n",
        "model.add(Dense(5, activation=\"softmax\"))  \n",
        "model.compile(loss='categorical_crossentropy', optimizer='RMSprop', metrics=['accuracy'])\n",
        "# Train the model\n",
        "model.fit(X_train, Y_train, validation_data = (X_test, Y_test), batch_size=64, epochs=10) \n",
        "model.evaluate(X_test, Y_test)"
      ],
      "execution_count": null,
      "outputs": [
        {
          "output_type": "stream",
          "text": [
            "Epoch 1/10\n",
            "160/160 [==============================] - 12s 78ms/step - loss: 1.0762 - accuracy: 0.5867 - val_loss: 0.7934 - val_accuracy: 0.7015\n",
            "Epoch 2/10\n",
            "160/160 [==============================] - 12s 75ms/step - loss: 0.6784 - accuracy: 0.7609 - val_loss: 0.7396 - val_accuracy: 0.7324\n",
            "Epoch 3/10\n",
            "160/160 [==============================] - 12s 76ms/step - loss: 0.5529 - accuracy: 0.8071 - val_loss: 0.7474 - val_accuracy: 0.7422\n",
            "Epoch 4/10\n",
            "160/160 [==============================] - 12s 76ms/step - loss: 0.4713 - accuracy: 0.8329 - val_loss: 0.7424 - val_accuracy: 0.7375\n",
            "Epoch 5/10\n",
            "160/160 [==============================] - 12s 76ms/step - loss: 0.4128 - accuracy: 0.8544 - val_loss: 0.7915 - val_accuracy: 0.7308\n",
            "Epoch 6/10\n",
            "160/160 [==============================] - 12s 77ms/step - loss: 0.3586 - accuracy: 0.8746 - val_loss: 0.8302 - val_accuracy: 0.7238\n",
            "Epoch 7/10\n",
            "160/160 [==============================] - 12s 76ms/step - loss: 0.3145 - accuracy: 0.8915 - val_loss: 0.8705 - val_accuracy: 0.7207\n",
            "Epoch 8/10\n",
            "160/160 [==============================] - 12s 76ms/step - loss: 0.2796 - accuracy: 0.9045 - val_loss: 0.9192 - val_accuracy: 0.7105\n",
            "Epoch 9/10\n",
            "160/160 [==============================] - 12s 76ms/step - loss: 0.2421 - accuracy: 0.9183 - val_loss: 0.9555 - val_accuracy: 0.7148\n",
            "Epoch 10/10\n",
            "160/160 [==============================] - 12s 76ms/step - loss: 0.2121 - accuracy: 0.9289 - val_loss: 1.0462 - val_accuracy: 0.6956\n",
            "80/80 [==============================] - 1s 8ms/step - loss: 1.0461 - accuracy: 0.6956\n"
          ],
          "name": "stdout"
        },
        {
          "output_type": "execute_result",
          "data": {
            "text/plain": [
              "[1.0460939407348633, 0.6956181526184082]"
            ]
          },
          "metadata": {
            "tags": []
          },
          "execution_count": 129
        }
      ]
    },
    {
      "cell_type": "code",
      "metadata": {
        "id": "ChFftNumPGtg",
        "colab_type": "code",
        "colab": {
          "base_uri": "https://localhost:8080/",
          "height": 383
        },
        "outputId": "276e8cc0-ccb6-427a-ff66-d670d94905ee"
      },
      "source": [
        "# simple GRU, using pre-trained Word2Vec embeddings - RMSprop\n",
        "np.random.seed(42)\n",
        "random.seed(12345)\n",
        "session_conf = tf.compat.v1.ConfigProto(intra_op_parallelism_threads=1,\n",
        "                              inter_op_parallelism_threads=1)\n",
        "tf.compat.v1.set_random_seed(1234) \n",
        "model = Sequential() \n",
        "model.add(Embedding(dict_len2 + 1, output_dim=EMBEDDING_DIM, trainable=True,                       \n",
        "                    embeddings_initializer=Constant(embedding_matrix),                       \n",
        "                    input_length=20, name=\"Embedding\"))  \n",
        "model.add(GRU(128, dropout=0.3, name=\"LSTM\")) \n",
        "model.add(Dense(5, activation=\"softmax\"))  \n",
        "model.compile(loss='categorical_crossentropy', optimizer='RMSprop', metrics=['accuracy'])\n",
        "# Train the model\n",
        "model.fit(X_train, Y_train, validation_data = (X_test, Y_test), batch_size=64, epochs=10) \n",
        "model.evaluate(X_test, Y_test)"
      ],
      "execution_count": null,
      "outputs": [
        {
          "output_type": "stream",
          "text": [
            "Epoch 1/10\n",
            "160/160 [==============================] - 12s 77ms/step - loss: 1.0894 - accuracy: 0.5699 - val_loss: 0.8298 - val_accuracy: 0.6897\n",
            "Epoch 2/10\n",
            "160/160 [==============================] - 12s 74ms/step - loss: 0.7708 - accuracy: 0.7157 - val_loss: 0.7583 - val_accuracy: 0.7210\n",
            "Epoch 3/10\n",
            "160/160 [==============================] - 12s 74ms/step - loss: 0.6564 - accuracy: 0.7587 - val_loss: 0.7344 - val_accuracy: 0.7328\n",
            "Epoch 4/10\n",
            "160/160 [==============================] - 12s 74ms/step - loss: 0.5698 - accuracy: 0.7940 - val_loss: 0.7201 - val_accuracy: 0.7418\n",
            "Epoch 5/10\n",
            "160/160 [==============================] - 12s 74ms/step - loss: 0.5084 - accuracy: 0.8172 - val_loss: 0.7259 - val_accuracy: 0.7422\n",
            "Epoch 6/10\n",
            "160/160 [==============================] - 12s 74ms/step - loss: 0.4586 - accuracy: 0.8347 - val_loss: 0.7506 - val_accuracy: 0.7344\n",
            "Epoch 7/10\n",
            "160/160 [==============================] - 12s 74ms/step - loss: 0.4098 - accuracy: 0.8501 - val_loss: 0.7717 - val_accuracy: 0.7398\n",
            "Epoch 8/10\n",
            "160/160 [==============================] - 12s 73ms/step - loss: 0.3647 - accuracy: 0.8686 - val_loss: 0.8252 - val_accuracy: 0.7324\n",
            "Epoch 9/10\n",
            "160/160 [==============================] - 12s 74ms/step - loss: 0.3261 - accuracy: 0.8842 - val_loss: 0.8068 - val_accuracy: 0.7379\n",
            "Epoch 10/10\n",
            "160/160 [==============================] - 12s 74ms/step - loss: 0.2931 - accuracy: 0.8969 - val_loss: 0.8715 - val_accuracy: 0.7183\n",
            "80/80 [==============================] - 1s 8ms/step - loss: 0.8713 - accuracy: 0.7183\n"
          ],
          "name": "stdout"
        },
        {
          "output_type": "execute_result",
          "data": {
            "text/plain": [
              "[0.8712825775146484, 0.7183098793029785]"
            ]
          },
          "metadata": {
            "tags": []
          },
          "execution_count": 133
        }
      ]
    },
    {
      "cell_type": "markdown",
      "metadata": {
        "id": "G3WEB0MAQkQs",
        "colab_type": "text"
      },
      "source": [
        "**GRU=128, drop=0.2**"
      ]
    },
    {
      "cell_type": "code",
      "metadata": {
        "id": "JIzsEnvsNwlN",
        "colab_type": "code",
        "colab": {
          "base_uri": "https://localhost:8080/",
          "height": 383
        },
        "outputId": "2188de79-0a12-4e60-943a-5f3b2e5de89d"
      },
      "source": [
        "# baseline - best simple GRU w. emb=300 - RMSprop\n",
        "np.random.seed(42)\n",
        "random.seed(12345)\n",
        "session_conf = tf.compat.v1.ConfigProto(intra_op_parallelism_threads=1,\n",
        "                              inter_op_parallelism_threads=1)\n",
        "tf.compat.v1.set_random_seed(1234) \n",
        "model = Sequential() \n",
        "model.add(Embedding(dict_len + 1, output_dim=300, name=\"Embedding\"))  \n",
        "model.add(GRU(128, dropout=0.2, name=\"LSTM\")) \n",
        "model.add(Dense(5, activation=\"softmax\"))  \n",
        "model.compile(loss='categorical_crossentropy', optimizer='RMSprop', metrics=['accuracy'])\n",
        "# Train the model\n",
        "model.fit(X_train, Y_train, validation_data = (X_test, Y_test), batch_size=64, epochs=10) \n",
        "model.evaluate(X_test, Y_test)"
      ],
      "execution_count": null,
      "outputs": [
        {
          "output_type": "stream",
          "text": [
            "Epoch 1/10\n",
            "160/160 [==============================] - 12s 77ms/step - loss: 1.0598 - accuracy: 0.5961 - val_loss: 0.7870 - val_accuracy: 0.7062\n",
            "Epoch 2/10\n",
            "160/160 [==============================] - 12s 74ms/step - loss: 0.6616 - accuracy: 0.7650 - val_loss: 0.7369 - val_accuracy: 0.7316\n",
            "Epoch 3/10\n",
            "160/160 [==============================] - 12s 75ms/step - loss: 0.5332 - accuracy: 0.8139 - val_loss: 0.7538 - val_accuracy: 0.7426\n",
            "Epoch 4/10\n",
            "160/160 [==============================] - 12s 74ms/step - loss: 0.4488 - accuracy: 0.8412 - val_loss: 0.7520 - val_accuracy: 0.7359\n",
            "Epoch 5/10\n",
            "160/160 [==============================] - 12s 75ms/step - loss: 0.3872 - accuracy: 0.8638 - val_loss: 0.8086 - val_accuracy: 0.7261\n",
            "Epoch 6/10\n",
            "160/160 [==============================] - 12s 74ms/step - loss: 0.3306 - accuracy: 0.8846 - val_loss: 0.8538 - val_accuracy: 0.7207\n",
            "Epoch 7/10\n",
            "160/160 [==============================] - 12s 74ms/step - loss: 0.2867 - accuracy: 0.9021 - val_loss: 0.9065 - val_accuracy: 0.7128\n",
            "Epoch 8/10\n",
            "160/160 [==============================] - 12s 75ms/step - loss: 0.2510 - accuracy: 0.9133 - val_loss: 0.9650 - val_accuracy: 0.7101\n",
            "Epoch 9/10\n",
            "160/160 [==============================] - 12s 75ms/step - loss: 0.2157 - accuracy: 0.9276 - val_loss: 1.0112 - val_accuracy: 0.7007\n",
            "Epoch 10/10\n",
            "160/160 [==============================] - 12s 76ms/step - loss: 0.1847 - accuracy: 0.9382 - val_loss: 1.1219 - val_accuracy: 0.6937\n",
            "80/80 [==============================] - 1s 7ms/step - loss: 1.1219 - accuracy: 0.6937\n"
          ],
          "name": "stdout"
        },
        {
          "output_type": "execute_result",
          "data": {
            "text/plain": [
              "[1.121912956237793, 0.6936619877815247]"
            ]
          },
          "metadata": {
            "tags": []
          },
          "execution_count": 131
        }
      ]
    },
    {
      "cell_type": "code",
      "metadata": {
        "id": "phdKV8_UM8ZM",
        "colab_type": "code",
        "colab": {
          "base_uri": "https://localhost:8080/",
          "height": 383
        },
        "outputId": "fa12f0ce-1a79-4395-b374-19996521a2d9"
      },
      "source": [
        "# simple GRU, using pre-trained Word2Vec embeddings - RMSprop\n",
        "np.random.seed(42)\n",
        "random.seed(12345)\n",
        "session_conf = tf.compat.v1.ConfigProto(intra_op_parallelism_threads=1,\n",
        "                              inter_op_parallelism_threads=1)\n",
        "tf.compat.v1.set_random_seed(1234) \n",
        "model = Sequential() \n",
        "model.add(Embedding(dict_len2 + 1, output_dim=EMBEDDING_DIM, trainable=True,                       \n",
        "                    embeddings_initializer=Constant(embedding_matrix),                       \n",
        "                    input_length=20, name=\"Embedding\"))  \n",
        "model.add(GRU(128, dropout=0.2, name=\"LSTM\")) \n",
        "model.add(Dense(5, activation=\"softmax\"))  \n",
        "model.compile(loss='categorical_crossentropy', optimizer='RMSprop', metrics=['accuracy'])\n",
        "# Train the model\n",
        "model.fit(X_train, Y_train, validation_data = (X_test, Y_test), batch_size=64, epochs=10) \n",
        "model.evaluate(X_test, Y_test)"
      ],
      "execution_count": null,
      "outputs": [
        {
          "output_type": "stream",
          "text": [
            "Epoch 1/10\n",
            "160/160 [==============================] - 12s 76ms/step - loss: 1.0654 - accuracy: 0.5834 - val_loss: 0.8182 - val_accuracy: 0.6937\n",
            "Epoch 2/10\n",
            "160/160 [==============================] - 12s 73ms/step - loss: 0.7418 - accuracy: 0.7277 - val_loss: 0.7535 - val_accuracy: 0.7273\n",
            "Epoch 3/10\n",
            "160/160 [==============================] - 12s 74ms/step - loss: 0.6226 - accuracy: 0.7751 - val_loss: 0.7376 - val_accuracy: 0.7300\n",
            "Epoch 4/10\n",
            "160/160 [==============================] - 12s 74ms/step - loss: 0.5324 - accuracy: 0.8085 - val_loss: 0.7248 - val_accuracy: 0.7430\n",
            "Epoch 5/10\n",
            "160/160 [==============================] - 12s 73ms/step - loss: 0.4651 - accuracy: 0.8336 - val_loss: 0.7401 - val_accuracy: 0.7375\n",
            "Epoch 6/10\n",
            "160/160 [==============================] - 12s 73ms/step - loss: 0.4140 - accuracy: 0.8492 - val_loss: 0.7689 - val_accuracy: 0.7304\n",
            "Epoch 7/10\n",
            "160/160 [==============================] - 12s 73ms/step - loss: 0.3619 - accuracy: 0.8690 - val_loss: 0.8089 - val_accuracy: 0.7308\n",
            "Epoch 8/10\n",
            "160/160 [==============================] - 12s 74ms/step - loss: 0.3122 - accuracy: 0.8896 - val_loss: 0.8888 - val_accuracy: 0.7210\n",
            "Epoch 9/10\n",
            "160/160 [==============================] - 12s 76ms/step - loss: 0.2681 - accuracy: 0.9045 - val_loss: 0.8836 - val_accuracy: 0.7222\n",
            "Epoch 10/10\n",
            "160/160 [==============================] - 12s 73ms/step - loss: 0.2315 - accuracy: 0.9203 - val_loss: 0.9598 - val_accuracy: 0.7097\n",
            "80/80 [==============================] - 1s 7ms/step - loss: 0.9596 - accuracy: 0.7097\n"
          ],
          "name": "stdout"
        },
        {
          "output_type": "execute_result",
          "data": {
            "text/plain": [
              "[0.9595659375190735, 0.7097026705741882]"
            ]
          },
          "metadata": {
            "tags": []
          },
          "execution_count": 132
        }
      ]
    },
    {
      "cell_type": "code",
      "metadata": {
        "id": "qDgqaPBpp19F",
        "colab_type": "code",
        "colab": {
          "base_uri": "https://localhost:8080/",
          "height": 217
        },
        "outputId": "4a18d265-46e6-4d78-d984-b325ed138247"
      },
      "source": [
        "# simple GRU, using pre-trained Word2Vec embeddings - RMSprop\n",
        "np.random.seed(42)\n",
        "random.seed(12345)\n",
        "session_conf = tf.compat.v1.ConfigProto(intra_op_parallelism_threads=1,\n",
        "                              inter_op_parallelism_threads=1)\n",
        "tf.compat.v1.set_random_seed(1234) \n",
        "model = Sequential() \n",
        "model.add(Embedding(dict_len2 + 1, output_dim=EMBEDDING_DIM, trainable=True,                       \n",
        "                    embeddings_initializer=Constant(embedding_matrix),                       \n",
        "                    input_length=20, name=\"Embedding\"))  \n",
        "model.add(GRU(128, dropout=0.2)) \n",
        "model.add(Dense(5, activation=\"softmax\"))  \n",
        "model.compile(loss='categorical_crossentropy', optimizer='RMSprop', metrics=['accuracy'])\n",
        "# Train the model\n",
        "model.fit(X_train, Y_train, validation_data = (X_test, Y_test), batch_size=64, epochs=5) \n",
        "model.evaluate(X_test, Y_test)"
      ],
      "execution_count": null,
      "outputs": [
        {
          "output_type": "stream",
          "text": [
            "Epoch 1/5\n",
            "160/160 [==============================] - 13s 81ms/step - loss: 1.0661 - accuracy: 0.5812 - val_loss: 0.8174 - val_accuracy: 0.6952\n",
            "Epoch 2/5\n",
            "160/160 [==============================] - 13s 78ms/step - loss: 0.7398 - accuracy: 0.7268 - val_loss: 0.7568 - val_accuracy: 0.7199\n",
            "Epoch 3/5\n",
            "160/160 [==============================] - 13s 79ms/step - loss: 0.6198 - accuracy: 0.7732 - val_loss: 0.7331 - val_accuracy: 0.7304\n",
            "Epoch 4/5\n",
            "160/160 [==============================] - 13s 80ms/step - loss: 0.5291 - accuracy: 0.8095 - val_loss: 0.7238 - val_accuracy: 0.7406\n",
            "Epoch 5/5\n",
            "160/160 [==============================] - 13s 80ms/step - loss: 0.4648 - accuracy: 0.8333 - val_loss: 0.7408 - val_accuracy: 0.7359\n",
            "80/80 [==============================] - 1s 9ms/step - loss: 0.7406 - accuracy: 0.7359\n"
          ],
          "name": "stdout"
        },
        {
          "output_type": "execute_result",
          "data": {
            "text/plain": [
              "[0.7406185865402222, 0.73591548204422]"
            ]
          },
          "metadata": {
            "tags": []
          },
          "execution_count": 52
        }
      ]
    },
    {
      "cell_type": "markdown",
      "metadata": {
        "id": "XyTXA9WoAUFF",
        "colab_type": "text"
      },
      "source": [
        "##### Predict on new dataset for kaggle (4th upload)"
      ]
    },
    {
      "cell_type": "code",
      "metadata": {
        "id": "mObFCUXOsDa9",
        "colab_type": "code",
        "colab": {
          "base_uri": "https://localhost:8080/",
          "height": 183
        },
        "outputId": "4f0dcfa4-4454-4ee3-fcc8-b0db06175154"
      },
      "source": [
        "# simple GRU, using pre-trained Word2Vec embeddings - RMSprop\n",
        "np.random.seed(42)\n",
        "random.seed(12345)\n",
        "session_conf = tf.compat.v1.ConfigProto(intra_op_parallelism_threads=1,\n",
        "                              inter_op_parallelism_threads=1)\n",
        "tf.compat.v1.set_random_seed(1234) \n",
        "model = Sequential() \n",
        "model.add(Embedding(dict_len2 + 1, output_dim=EMBEDDING_DIM, trainable=True,                       \n",
        "                    embeddings_initializer=Constant(embedding_matrix),                       \n",
        "                    input_length=20, name=\"Embedding\"))  \n",
        "model.add(Bidirectional(GRU(128, dropout=0.2))) \n",
        "# model.add(GRU(128, dropout=0.2)) \n",
        "model.add(Dense(5, activation=\"softmax\"))  \n",
        "model.compile(loss='categorical_crossentropy', optimizer='RMSprop', metrics=['accuracy'])\n",
        "# Train the model\n",
        "model.fit(X_train, Y_train, validation_data = (X_test, Y_test), batch_size=64, epochs=4) \n",
        "model.evaluate(X_test, Y_test)"
      ],
      "execution_count": null,
      "outputs": [
        {
          "output_type": "stream",
          "text": [
            "Epoch 1/4\n",
            "160/160 [==============================] - 22s 139ms/step - loss: 1.0723 - accuracy: 0.5817 - val_loss: 0.8123 - val_accuracy: 0.6952\n",
            "Epoch 2/4\n",
            "160/160 [==============================] - 22s 137ms/step - loss: 0.7436 - accuracy: 0.7284 - val_loss: 0.7482 - val_accuracy: 0.7191\n",
            "Epoch 3/4\n",
            "160/160 [==============================] - 22s 137ms/step - loss: 0.6197 - accuracy: 0.7732 - val_loss: 0.7540 - val_accuracy: 0.7265\n",
            "Epoch 4/4\n",
            "160/160 [==============================] - 22s 137ms/step - loss: 0.5381 - accuracy: 0.8050 - val_loss: 0.7160 - val_accuracy: 0.7441\n",
            "80/80 [==============================] - 1s 14ms/step - loss: 0.7159 - accuracy: 0.7441\n"
          ],
          "name": "stdout"
        },
        {
          "output_type": "execute_result",
          "data": {
            "text/plain": [
              "[0.7159335613250732, 0.7441314458847046]"
            ]
          },
          "metadata": {
            "tags": []
          },
          "execution_count": 54
        }
      ]
    },
    {
      "cell_type": "code",
      "metadata": {
        "id": "iRZnOZXTXA0N",
        "colab_type": "code",
        "colab": {
          "base_uri": "https://localhost:8080/",
          "height": 350
        },
        "outputId": "e6e00bf1-0c3e-4b36-f656-39e5796fc3b3"
      },
      "source": [
        "Y_new4 = model.predict_classes(X_new)\n",
        "# show the inputs and predicted outputs\n",
        "print(X_new[:5])\n",
        "for i in range(5):\n",
        "\tprint(\"X=%s, Predicted=%s\" % (X_new[i], Y_new4[i]))"
      ],
      "execution_count": null,
      "outputs": [
        {
          "output_type": "stream",
          "text": [
            "[[   0    0    0    0    0    0    0    0    0    0    0    0    3  456\n",
            "     8   34   16    1  136   63]\n",
            " [   0    0    0    0    0    0    0    0    0    0    0 1501  124  715\n",
            "    20   63    1 1304  257  298]\n",
            " [   0    0    0    0    0    0   99    4  121    2   39   23  886 1958\n",
            "  5867    1   22    2  524  175]\n",
            " [   0    0    0    0    0    0    0    0    0    0    0    0  342  234\n",
            "   837    1   47  247  392   14]\n",
            " [   0    0    0    0    0    0    0    0    0    0    0    0    0    0\n",
            "     0    0   47  195  295  559]]\n",
            "X=[  0   0   0   0   0   0   0   0   0   0   0   0   3 456   8  34  16   1\n",
            " 136  63], Predicted=1\n",
            "X=[   0    0    0    0    0    0    0    0    0    0    0 1501  124  715\n",
            "   20   63    1 1304  257  298], Predicted=1\n",
            "X=[   0    0    0    0    0    0   99    4  121    2   39   23  886 1958\n",
            " 5867    1   22    2  524  175], Predicted=0\n",
            "X=[  0   0   0   0   0   0   0   0   0   0   0   0 342 234 837   1  47 247\n",
            " 392  14], Predicted=2\n",
            "X=[  0   0   0   0   0   0   0   0   0   0   0   0   0   0   0   0  47 195\n",
            " 295 559], Predicted=2\n"
          ],
          "name": "stdout"
        }
      ]
    },
    {
      "cell_type": "code",
      "metadata": {
        "id": "2onf9q0FXAi8",
        "colab_type": "code",
        "colab": {}
      },
      "source": [
        "test4 = pd.DataFrame(list(zip(test['id'], Y_new4)), \n",
        "               columns = ['id', 'label'])\n",
        "test4\n",
        "test4.to_csv('test4.csv',index=False)"
      ],
      "execution_count": null,
      "outputs": []
    },
    {
      "cell_type": "markdown",
      "metadata": {
        "id": "JBsiTwWsMF-Y",
        "colab_type": "text"
      },
      "source": [
        "#### CNN basic best (emb changed to 300)"
      ]
    },
    {
      "cell_type": "code",
      "metadata": {
        "id": "blFrvt2VMNLe",
        "colab_type": "code",
        "colab": {
          "base_uri": "https://localhost:8080/",
          "height": 383
        },
        "outputId": "5c2696a1-03b5-4694-ffd2-80cecd50c2be"
      },
      "source": [
        "# model from keras site, adapted, 500 hu, emb=100\n",
        "np.random.seed(42)\n",
        "random.seed(12345)\n",
        "session_conf = tf.compat.v1.ConfigProto(intra_op_parallelism_threads=1,\n",
        "                              inter_op_parallelism_threads=1)\n",
        "tf.compat.v1.set_random_seed(1234) \n",
        "\n",
        "kernel_size = 3\n",
        "\n",
        "model3 = Sequential()\n",
        "model3.add(Embedding(dict_len2 + 1, output_dim=EMBEDDING_DIM, trainable=True, \n",
        "                    input_length=20))  \n",
        "model3.add(Dropout(0.2))\n",
        "model3.add(Conv1D(500,\n",
        "                 kernel_size,\n",
        "#  \"valid\" means \"no padding\". \"same\" results in padding the input such that the output has the same length as the original input.\n",
        "                 padding='same', # changed padding here; 0.78p better with \"same\"\n",
        "                 activation='relu',\n",
        "                 strides=1))\n",
        "model3.add(GlobalMaxPooling1D())\n",
        "model3.add(Dense(250))\n",
        "model3.add(Activation('relu'))\n",
        "model3.add(Dense(5, activation=\"softmax\"))  \n",
        "model3.compile(loss='categorical_crossentropy', optimizer='RMSprop', metrics=['accuracy'])\n",
        "model3.fit(X_train, Y_train, validation_data = (X_test, Y_test), batch_size=64, epochs=10) \n",
        "model3.evaluate(X_test, Y_test)"
      ],
      "execution_count": null,
      "outputs": [
        {
          "output_type": "stream",
          "text": [
            "Epoch 1/10\n",
            "160/160 [==============================] - 24s 153ms/step - loss: 1.0458 - accuracy: 0.5910 - val_loss: 0.7552 - val_accuracy: 0.7304\n",
            "Epoch 2/10\n",
            "160/160 [==============================] - 24s 153ms/step - loss: 0.6162 - accuracy: 0.7839 - val_loss: 0.7242 - val_accuracy: 0.7426\n",
            "Epoch 3/10\n",
            "160/160 [==============================] - 24s 151ms/step - loss: 0.4379 - accuracy: 0.8521 - val_loss: 0.7508 - val_accuracy: 0.7414\n",
            "Epoch 4/10\n",
            "160/160 [==============================] - 24s 151ms/step - loss: 0.3027 - accuracy: 0.8966 - val_loss: 0.8293 - val_accuracy: 0.7375\n",
            "Epoch 5/10\n",
            "160/160 [==============================] - 24s 150ms/step - loss: 0.1913 - accuracy: 0.9366 - val_loss: 0.9311 - val_accuracy: 0.7308\n",
            "Epoch 6/10\n",
            "160/160 [==============================] - 24s 151ms/step - loss: 0.1083 - accuracy: 0.9667 - val_loss: 1.1119 - val_accuracy: 0.7124\n",
            "Epoch 7/10\n",
            "160/160 [==============================] - 24s 152ms/step - loss: 0.0628 - accuracy: 0.9805 - val_loss: 1.3304 - val_accuracy: 0.7081\n",
            "Epoch 8/10\n",
            "160/160 [==============================] - 24s 152ms/step - loss: 0.0322 - accuracy: 0.9899 - val_loss: 1.3886 - val_accuracy: 0.7140\n",
            "Epoch 9/10\n",
            "160/160 [==============================] - 24s 151ms/step - loss: 0.0204 - accuracy: 0.9946 - val_loss: 1.9703 - val_accuracy: 0.6768\n",
            "Epoch 10/10\n",
            "160/160 [==============================] - 24s 151ms/step - loss: 0.0153 - accuracy: 0.9955 - val_loss: 1.7416 - val_accuracy: 0.7160\n",
            "80/80 [==============================] - 1s 13ms/step - loss: 1.7417 - accuracy: 0.7160\n"
          ],
          "name": "stdout"
        },
        {
          "output_type": "execute_result",
          "data": {
            "text/plain": [
              "[1.7417304515838623, 0.7159624695777893]"
            ]
          },
          "metadata": {
            "tags": []
          },
          "execution_count": 78
        }
      ]
    },
    {
      "cell_type": "code",
      "metadata": {
        "id": "dwQFoNi24Sil",
        "colab_type": "code",
        "colab": {
          "base_uri": "https://localhost:8080/",
          "height": 383
        },
        "outputId": "a1f24fb1-2169-4fa0-b0b7-7eeb06c6f4ee"
      },
      "source": [
        "# model from keras site, adapted, 500 hu, emb=100\n",
        "np.random.seed(42)\n",
        "random.seed(12345)\n",
        "session_conf = tf.compat.v1.ConfigProto(intra_op_parallelism_threads=1,\n",
        "                              inter_op_parallelism_threads=1)\n",
        "tf.compat.v1.set_random_seed(1234) \n",
        "\n",
        "kernel_size = 3\n",
        "\n",
        "model3 = Sequential()\n",
        "model3.add(Embedding(dict_len2 + 1, output_dim=EMBEDDING_DIM, trainable=True,                       \n",
        "                    embeddings_initializer=Constant(embedding_matrix),                       \n",
        "                    input_length=20))  \n",
        "model3.add(Dropout(0.2))\n",
        "model3.add(Conv1D(500,\n",
        "                 kernel_size,\n",
        "#  \"valid\" means \"no padding\". \"same\" results in padding the input such that the output has the same length as the original input.\n",
        "                 padding='same', # changed padding here; 0.78p better with \"same\"\n",
        "                 activation='relu',\n",
        "                 strides=1))\n",
        "model3.add(GlobalMaxPooling1D())\n",
        "model3.add(Dense(250))\n",
        "model3.add(Activation('relu'))\n",
        "model3.add(Dense(5, activation=\"softmax\"))  \n",
        "model3.compile(loss='categorical_crossentropy', optimizer='RMSprop', metrics=['accuracy'])\n",
        "model3.fit(X_train, Y_train, validation_data = (X_test, Y_test), batch_size=64, epochs=10) \n",
        "model3.evaluate(X_test, Y_test)"
      ],
      "execution_count": null,
      "outputs": [
        {
          "output_type": "stream",
          "text": [
            "Epoch 1/10\n",
            "160/160 [==============================] - 24s 152ms/step - loss: 1.1759 - accuracy: 0.5317 - val_loss: 0.8371 - val_accuracy: 0.6890\n",
            "Epoch 2/10\n",
            "160/160 [==============================] - 24s 151ms/step - loss: 0.7418 - accuracy: 0.7261 - val_loss: 0.7711 - val_accuracy: 0.7148\n",
            "Epoch 3/10\n",
            "160/160 [==============================] - 25s 153ms/step - loss: 0.5665 - accuracy: 0.7898 - val_loss: 0.7286 - val_accuracy: 0.7359\n",
            "Epoch 4/10\n",
            "160/160 [==============================] - 24s 152ms/step - loss: 0.4238 - accuracy: 0.8460 - val_loss: 0.7371 - val_accuracy: 0.7453\n",
            "Epoch 5/10\n",
            "160/160 [==============================] - 24s 151ms/step - loss: 0.3141 - accuracy: 0.8876 - val_loss: 0.8540 - val_accuracy: 0.7148\n",
            "Epoch 6/10\n",
            "160/160 [==============================] - 24s 152ms/step - loss: 0.2303 - accuracy: 0.9181 - val_loss: 0.8795 - val_accuracy: 0.7269\n",
            "Epoch 7/10\n",
            "160/160 [==============================] - 24s 152ms/step - loss: 0.1584 - accuracy: 0.9441 - val_loss: 1.1493 - val_accuracy: 0.7031\n",
            "Epoch 8/10\n",
            "160/160 [==============================] - 24s 152ms/step - loss: 0.1147 - accuracy: 0.9584 - val_loss: 1.3391 - val_accuracy: 0.6964\n",
            "Epoch 9/10\n",
            "160/160 [==============================] - 24s 153ms/step - loss: 0.0872 - accuracy: 0.9709 - val_loss: 1.3041 - val_accuracy: 0.7105\n",
            "Epoch 10/10\n",
            "160/160 [==============================] - 24s 151ms/step - loss: 0.0680 - accuracy: 0.9760 - val_loss: 1.3330 - val_accuracy: 0.7195\n",
            "80/80 [==============================] - 1s 13ms/step - loss: 1.3328 - accuracy: 0.7195\n"
          ],
          "name": "stdout"
        },
        {
          "output_type": "execute_result",
          "data": {
            "text/plain": [
              "[1.3327656984329224, 0.7194835543632507]"
            ]
          },
          "metadata": {
            "tags": []
          },
          "execution_count": 77
        }
      ]
    },
    {
      "cell_type": "code",
      "metadata": {
        "id": "qBGkAvnBtv4L",
        "colab_type": "code",
        "colab": {
          "base_uri": "https://localhost:8080/",
          "height": 217
        },
        "outputId": "eb78baf7-11a9-49f1-cb4a-56ba50965e1c"
      },
      "source": [
        "# model from keras site, adapted, 500 hu, emb=100\n",
        "np.random.seed(42)\n",
        "random.seed(12345)\n",
        "session_conf = tf.compat.v1.ConfigProto(intra_op_parallelism_threads=1,\n",
        "                              inter_op_parallelism_threads=1)\n",
        "tf.compat.v1.set_random_seed(1234) \n",
        "\n",
        "kernel_size = 3\n",
        "\n",
        "model3 = Sequential()\n",
        "model3.add(Embedding(dict_len2 + 1, output_dim=EMBEDDING_DIM, trainable=True,                       \n",
        "                    embeddings_initializer=Constant(embedding_matrix),                       \n",
        "                    input_length=20))  \n",
        "model3.add(Dropout(0.2))\n",
        "model3.add(Conv1D(500,\n",
        "                 kernel_size,\n",
        "#  \"valid\" means \"no padding\". \"same\" results in padding the input such that the output has the same length as the original input.\n",
        "                 padding='same', # changed padding here; 0.78p better with \"same\"\n",
        "                 activation='relu',\n",
        "                 strides=1))\n",
        "model3.add(GlobalMaxPooling1D())\n",
        "model3.add(Dense(250))\n",
        "model3.add(Activation('relu'))\n",
        "model3.add(Dense(5, activation=\"softmax\"))  \n",
        "model3.compile(loss='categorical_crossentropy', optimizer='RMSprop', metrics=['accuracy'])\n",
        "model3.fit(X_train, Y_train, validation_data = (X_test, Y_test), batch_size=64, epochs=5) \n",
        "model3.evaluate(X_test, Y_test)"
      ],
      "execution_count": null,
      "outputs": [
        {
          "output_type": "stream",
          "text": [
            "Epoch 1/5\n",
            "160/160 [==============================] - 24s 147ms/step - loss: 1.1648 - accuracy: 0.5368 - val_loss: 0.8386 - val_accuracy: 0.6835\n",
            "Epoch 2/5\n",
            "160/160 [==============================] - 23s 147ms/step - loss: 0.7420 - accuracy: 0.7268 - val_loss: 0.7685 - val_accuracy: 0.7160\n",
            "Epoch 3/5\n",
            "160/160 [==============================] - 24s 147ms/step - loss: 0.5606 - accuracy: 0.7908 - val_loss: 0.7398 - val_accuracy: 0.7300\n",
            "Epoch 4/5\n",
            "160/160 [==============================] - 24s 148ms/step - loss: 0.4256 - accuracy: 0.8492 - val_loss: 0.7534 - val_accuracy: 0.7363\n",
            "Epoch 5/5\n",
            "160/160 [==============================] - 26s 165ms/step - loss: 0.3150 - accuracy: 0.8872 - val_loss: 0.8194 - val_accuracy: 0.7269\n",
            "80/80 [==============================] - 1s 13ms/step - loss: 0.8194 - accuracy: 0.7269\n"
          ],
          "name": "stdout"
        },
        {
          "output_type": "execute_result",
          "data": {
            "text/plain": [
              "[0.8193970918655396, 0.726917028427124]"
            ]
          },
          "metadata": {
            "tags": []
          },
          "execution_count": 68
        }
      ]
    },
    {
      "cell_type": "code",
      "metadata": {
        "id": "E_okCZqgojIA",
        "colab_type": "code",
        "colab": {}
      },
      "source": [
        "y = train[['label']]\n",
        "\n",
        "# adapted from https://machinelearningmastery.com/evaluate-performance-deep-learning-models-keras/\n",
        "\n",
        "# fix random seed for reproducibility\n",
        "seed = 10\n",
        "np.random.seed(seed)\n",
        "\n",
        "# define 10-fold cross validation split\n",
        "kfold = StratifiedKFold(n_splits=10, shuffle=True, random_state=seed)\n",
        "\n",
        "cvscores = []\n",
        "for train_, test_ in kfold.split(X, y):\n",
        "  Y = to_categorical(y)\n",
        "  # create model\n",
        "  np.random.seed(42)\n",
        "  random.seed(12345)\n",
        "  session_conf = tf.compat.v1.ConfigProto(intra_op_parallelism_threads=1,\n",
        "                                inter_op_parallelism_threads=1)\n",
        "  tf.compat.v1.set_random_seed(1234) \n",
        "\n",
        "  model = Sequential()\n",
        "  model.add(Embedding(dict_len2 + 1, output_dim=EMBEDDING_DIM, trainable=True,                       \n",
        "                    embeddings_initializer=Constant(embedding_matrix),                       \n",
        "                    input_length=20)) \n",
        "  model.add(Dropout(0.2))\n",
        "  model.add(Conv1D(500,3,\n",
        "                  padding='same', \n",
        "                  activation='relu',\n",
        "                  strides=1))\n",
        "  model.add(GlobalMaxPooling1D())\n",
        "  model.add(Dense(250))\n",
        "  # model.add(Dropout(0.2)) # REMOVED DROPOUT HERE\n",
        "  model.add(Activation('relu'))\n",
        "  model.add(Dense(5, activation=\"softmax\"))\n",
        "  model.compile(loss='categorical_crossentropy', optimizer='RMSprop', metrics=['accuracy'])\n",
        "  # save the best model\n",
        "  # filepath=\"accuracy-{epoch:02d}-{val_accuracy:.2f}.hdf5\"\n",
        "  filepath=\"weights.best.hdf5\"\n",
        "  checkpoint = ModelCheckpoint(filepath, monitor='val_accuracy', verbose=1,save_best_only=True, mode='auto', period=1)\n",
        "  callbacks_list = [checkpoint] \n",
        "  # earlystop = EarlyStopping(monitor='val_accuracy', verbose=1, patience=0)  # , patience=2 - how many epochs w/o improvement we allow\n",
        "  # Fit the model\n",
        "  model.fit(X[train_], Y[train_], validation_data = (X[test_], Y[test_]), epochs=7, batch_size=64,callbacks=callbacks_list,verbose=0)\n",
        "  # load the best model before evaluation, otherwise a model from the last epoch will be used.\n",
        "  model = load_model(\"weights.best.hdf5\")\n",
        "  scores = model.evaluate(X[test_], Y[test_], verbose=0)\n",
        "  print(\"%s: %.2f%%\" % (model.metrics_names[1], scores[1]*100))\n",
        "  cvscores.append(scores[1] * 100)\t"
      ],
      "execution_count": null,
      "outputs": []
    },
    {
      "cell_type": "markdown",
      "metadata": {
        "id": "M8dEr81AJtZ3",
        "colab_type": "text"
      },
      "source": [
        "#### CNN from paper"
      ]
    },
    {
      "cell_type": "code",
      "metadata": {
        "id": "vnFdDSELI1dz",
        "colab_type": "code",
        "colab": {
          "base_uri": "https://localhost:8080/",
          "height": 1000
        },
        "outputId": "434328cf-1b3b-4c8a-a422-bc8e7418a792"
      },
      "source": [
        "# NOTHING BETTER\n",
        "# kernel size: 3,4,5\n",
        "dropout = [0, 0.25, 0.35, 0.5]\n",
        "filters = [50, 100, 200, 300]\n",
        "# MaxOverTime pooling\n",
        "from keras import regularizers\n",
        "\n",
        "\n",
        "for i in filters:\n",
        "  for j in dropout:\n",
        "    print(\"Number of hidden units: \", i, \"dropout: \",j)\n",
        "\n",
        "    def custom_CNN(input_length=20,vocab_size=dict_len2+1,emb_dim = 300):\n",
        "      # define CNN layer\n",
        "      inputs1 = Input(shape=(input_length,))\n",
        "      emb1 = Embedding(vocab_size, emb_dim, trainable=True,                       \n",
        "                    embeddings_initializer=Constant(embedding_matrix))(inputs1)\n",
        "      # Embedding(dict_len2 + 1, output_dim=EMBEDDING_DIM, trainable=True,                       \n",
        "      #               embeddings_initializer=Constant(embedding_matrix),                       \n",
        "      #               input_length=20)) \n",
        "      conv1 = Conv1D(filters=i, kernel_size=3, padding='same', activation='relu', strides=1)(emb1)\n",
        "      drop1 = Dropout(j)(conv1)\n",
        "      pool1 = GlobalMaxPooling1D()(drop1) # MaxOverTime\n",
        "      # pool1 = GlobalMaxPooling1D()(conv1)\n",
        "      # pool1 = MaxPooling1D(pool_size=2)(drop1)\n",
        "      flat1 = Flatten()(pool1)\n",
        "\n",
        "      inputs2 = Input(shape=(input_length,))\n",
        "      emb2 = Embedding(vocab_size, emb_dim, trainable=True,                       \n",
        "                    embeddings_initializer=Constant(embedding_matrix))(inputs2)\n",
        "      conv2 = Conv1D(filters=i, kernel_size=4, padding='same', activation='relu', strides=1)(emb2)\n",
        "      drop2 = Dropout(j)(conv2)\n",
        "      pool2 = GlobalMaxPooling1D()(drop2)\n",
        "      # pool2 = GlobalMaxPooling1D()(conv2)\n",
        "      # pool2 = MaxPooling1D(pool_size=2)(drop2)\n",
        "      flat2 = Flatten()(pool2)\n",
        "\n",
        "      inputs3 = Input(shape=(input_length,))\n",
        "      emb3 = Embedding(vocab_size, emb_dim, trainable=True,                       \n",
        "                    embeddings_initializer=Constant(embedding_matrix))(inputs3)\n",
        "      conv3 = Conv1D(filters=i, kernel_size=5, padding='same', activation='relu', strides=1)(emb3)\n",
        "      drop3 = Dropout(j)(conv3)\n",
        "      pool3 = GlobalMaxPooling1D()(drop3)\n",
        "      # pool3 = GlobalMaxPooling1D()(conv3)\n",
        "      # pool3 = MaxPooling1D(pool_size=2)(drop3)\n",
        "      flat3 = Flatten()(pool3)\n",
        "\n",
        "      # merge CNN output with reference stats\n",
        "      merged = concatenate([flat1, flat2, flat3])\n",
        "\n",
        "      dense1 = Dense(500, activation='relu',kernel_regularizer=regularizers.l2(0.01),activity_regularizer=regularizers.l1(0.01))(merged) #\n",
        "\n",
        "      outputs = Dense(5, activation=\"softmax\")(dense1)\n",
        "      model = Model(inputs=[inputs1, inputs2, inputs3], outputs=outputs)\n",
        "      model.compile(loss='categorical_crossentropy', optimizer='RMSprop', metrics=['accuracy'])\n",
        "      # print(model.summary())\n",
        "      # plot_model(model, show_shapes=True, to_file='multichannel.png')\n",
        "      return model\n",
        "\n",
        "    np.random.seed(5)\n",
        "    random.seed(5)\n",
        "    session_conf = tf.compat.v1.ConfigProto(intra_op_parallelism_threads=1,\n",
        "                                  inter_op_parallelism_threads=1)\n",
        "    tf.compat.v1.set_random_seed(5)\n",
        "\n",
        "    # define model\n",
        "    model = custom_CNN(input_length=20, vocab_size=dict_len2+1,emb_dim = 300)\n",
        "    model.fit(x=[X_train,X_train,X_train], y=Y_train, validation_data = ([X_test,X_test,X_test], Y_test), batch_size=64, epochs=10) \n",
        "    # save the model\n",
        "    # model.save('model.h5')"
      ],
      "execution_count": null,
      "outputs": [
        {
          "output_type": "stream",
          "text": [
            "Number of hidden units:  50 dropout:  0\n",
            "Epoch 1/10\n",
            "160/160 [==============================] - 15s 96ms/step - loss: 1.8652 - accuracy: 0.5079 - val_loss: 1.1116 - val_accuracy: 0.6984\n",
            "Epoch 2/10\n",
            "160/160 [==============================] - 15s 95ms/step - loss: 0.9333 - accuracy: 0.7470 - val_loss: 0.9634 - val_accuracy: 0.7187\n",
            "Epoch 3/10\n",
            "160/160 [==============================] - 15s 94ms/step - loss: 0.6746 - accuracy: 0.8366 - val_loss: 0.9325 - val_accuracy: 0.7261\n",
            "Epoch 4/10\n",
            "160/160 [==============================] - 15s 92ms/step - loss: 0.4871 - accuracy: 0.9021 - val_loss: 0.9335 - val_accuracy: 0.7340\n",
            "Epoch 5/10\n",
            "160/160 [==============================] - 15s 94ms/step - loss: 0.3494 - accuracy: 0.9465 - val_loss: 0.9447 - val_accuracy: 0.7222\n",
            "Epoch 6/10\n",
            "160/160 [==============================] - 15s 93ms/step - loss: 0.2560 - accuracy: 0.9720 - val_loss: 0.9537 - val_accuracy: 0.7273\n",
            "Epoch 7/10\n",
            "160/160 [==============================] - 15s 94ms/step - loss: 0.1945 - accuracy: 0.9851 - val_loss: 0.9956 - val_accuracy: 0.7066\n",
            "Epoch 8/10\n",
            "160/160 [==============================] - 15s 93ms/step - loss: 0.1505 - accuracy: 0.9919 - val_loss: 1.0160 - val_accuracy: 0.7128\n",
            "Epoch 9/10\n",
            "160/160 [==============================] - 15s 94ms/step - loss: 0.1265 - accuracy: 0.9933 - val_loss: 1.0172 - val_accuracy: 0.7191\n",
            "Epoch 10/10\n",
            "160/160 [==============================] - 15s 92ms/step - loss: 0.1061 - accuracy: 0.9956 - val_loss: 1.0226 - val_accuracy: 0.7207\n",
            "Number of hidden units:  50 dropout:  0.25\n",
            "Epoch 1/10\n",
            "160/160 [==============================] - 15s 96ms/step - loss: 1.9235 - accuracy: 0.5023 - val_loss: 1.1660 - val_accuracy: 0.6870\n",
            "Epoch 2/10\n",
            "160/160 [==============================] - 15s 94ms/step - loss: 0.9850 - accuracy: 0.7241 - val_loss: 0.9847 - val_accuracy: 0.7038\n",
            "Epoch 3/10\n",
            "160/160 [==============================] - 14s 90ms/step - loss: 0.7544 - accuracy: 0.8095 - val_loss: 0.9177 - val_accuracy: 0.7191\n",
            "Epoch 4/10\n",
            "160/160 [==============================] - 15s 91ms/step - loss: 0.5967 - accuracy: 0.8576 - val_loss: 0.8775 - val_accuracy: 0.7347\n",
            "Epoch 5/10\n",
            "160/160 [==============================] - 15s 91ms/step - loss: 0.4715 - accuracy: 0.8984 - val_loss: 0.9037 - val_accuracy: 0.7183\n",
            "Epoch 6/10\n",
            "160/160 [==============================] - 14s 90ms/step - loss: 0.3681 - accuracy: 0.9336 - val_loss: 0.8894 - val_accuracy: 0.7332\n",
            "Epoch 7/10\n",
            "160/160 [==============================] - 14s 90ms/step - loss: 0.2954 - accuracy: 0.9536 - val_loss: 0.9079 - val_accuracy: 0.7230\n",
            "Epoch 8/10\n",
            "160/160 [==============================] - 15s 91ms/step - loss: 0.2370 - accuracy: 0.9678 - val_loss: 0.9144 - val_accuracy: 0.7332\n",
            "Epoch 9/10\n",
            "160/160 [==============================] - 16s 99ms/step - loss: 0.2042 - accuracy: 0.9761 - val_loss: 0.9604 - val_accuracy: 0.7199\n",
            "Epoch 10/10\n",
            "160/160 [==============================] - 15s 92ms/step - loss: 0.1722 - accuracy: 0.9800 - val_loss: 1.0605 - val_accuracy: 0.6964\n",
            "Number of hidden units:  50 dropout:  0.35\n",
            "Epoch 1/10\n",
            "160/160 [==============================] - 15s 93ms/step - loss: 1.9478 - accuracy: 0.4893 - val_loss: 1.1913 - val_accuracy: 0.6839\n",
            "Epoch 2/10\n",
            "160/160 [==============================] - 15s 92ms/step - loss: 1.0035 - accuracy: 0.7173 - val_loss: 1.0092 - val_accuracy: 0.7011\n",
            "Epoch 3/10\n",
            "160/160 [==============================] - 15s 93ms/step - loss: 0.7860 - accuracy: 0.7917 - val_loss: 0.9333 - val_accuracy: 0.7136\n",
            "Epoch 4/10\n",
            "160/160 [==============================] - 15s 91ms/step - loss: 0.6418 - accuracy: 0.8388 - val_loss: 0.8689 - val_accuracy: 0.7402\n",
            "Epoch 5/10\n",
            "160/160 [==============================] - 15s 92ms/step - loss: 0.5196 - accuracy: 0.8760 - val_loss: 0.8700 - val_accuracy: 0.7281\n",
            "Epoch 6/10\n",
            "160/160 [==============================] - 15s 91ms/step - loss: 0.4232 - accuracy: 0.9120 - val_loss: 0.8598 - val_accuracy: 0.7363\n",
            "Epoch 7/10\n",
            "160/160 [==============================] - 15s 91ms/step - loss: 0.3530 - accuracy: 0.9333 - val_loss: 0.8777 - val_accuracy: 0.7257\n",
            "Epoch 8/10\n",
            "160/160 [==============================] - 14s 90ms/step - loss: 0.2903 - accuracy: 0.9502 - val_loss: 0.9093 - val_accuracy: 0.7210\n",
            "Epoch 9/10\n",
            "160/160 [==============================] - 14s 90ms/step - loss: 0.2433 - accuracy: 0.9631 - val_loss: 0.9119 - val_accuracy: 0.7187\n",
            "Epoch 10/10\n",
            "160/160 [==============================] - 15s 91ms/step - loss: 0.2121 - accuracy: 0.9713 - val_loss: 1.0052 - val_accuracy: 0.6909\n",
            "Number of hidden units:  50 dropout:  0.5\n",
            "Epoch 1/10\n",
            "160/160 [==============================] - 15s 93ms/step - loss: 2.0008 - accuracy: 0.4882 - val_loss: 1.2573 - val_accuracy: 0.6741\n",
            "Epoch 2/10\n",
            "160/160 [==============================] - 15s 92ms/step - loss: 1.0361 - accuracy: 0.7009 - val_loss: 1.0481 - val_accuracy: 0.7117\n",
            "Epoch 3/10\n",
            "160/160 [==============================] - 14s 90ms/step - loss: 0.8294 - accuracy: 0.7755 - val_loss: 0.9694 - val_accuracy: 0.7234\n",
            "Epoch 4/10\n",
            "160/160 [==============================] - 15s 92ms/step - loss: 0.6996 - accuracy: 0.8146 - val_loss: 0.8835 - val_accuracy: 0.7324\n",
            "Epoch 5/10\n",
            "160/160 [==============================] - 15s 93ms/step - loss: 0.5879 - accuracy: 0.8515 - val_loss: 0.8885 - val_accuracy: 0.7246\n",
            "Epoch 6/10\n",
            "160/160 [==============================] - 15s 92ms/step - loss: 0.5066 - accuracy: 0.8778 - val_loss: 0.8518 - val_accuracy: 0.7297\n",
            "Epoch 7/10\n",
            "160/160 [==============================] - 15s 92ms/step - loss: 0.4363 - accuracy: 0.9009 - val_loss: 0.8542 - val_accuracy: 0.7320\n",
            "Epoch 8/10\n",
            "160/160 [==============================] - 15s 91ms/step - loss: 0.3782 - accuracy: 0.9205 - val_loss: 0.8606 - val_accuracy: 0.7320\n",
            "Epoch 9/10\n",
            "160/160 [==============================] - 14s 90ms/step - loss: 0.3216 - accuracy: 0.9385 - val_loss: 0.8612 - val_accuracy: 0.7285\n",
            "Epoch 10/10\n",
            "160/160 [==============================] - 14s 91ms/step - loss: 0.2875 - accuracy: 0.9474 - val_loss: 0.8952 - val_accuracy: 0.7105\n",
            "Number of hidden units:  100 dropout:  0\n",
            "Epoch 1/10\n",
            "160/160 [==============================] - 25s 153ms/step - loss: 2.1082 - accuracy: 0.5072 - val_loss: 1.1207 - val_accuracy: 0.6948\n",
            "Epoch 2/10\n",
            "160/160 [==============================] - 24s 153ms/step - loss: 0.9430 - accuracy: 0.7459 - val_loss: 0.9624 - val_accuracy: 0.7128\n",
            "Epoch 3/10\n",
            "160/160 [==============================] - 24s 153ms/step - loss: 0.6878 - accuracy: 0.8357 - val_loss: 0.9323 - val_accuracy: 0.7195\n",
            "Epoch 4/10\n",
            "160/160 [==============================] - 24s 153ms/step - loss: 0.5034 - accuracy: 0.8995 - val_loss: 0.9063 - val_accuracy: 0.7332\n",
            "Epoch 5/10\n",
            "160/160 [==============================] - 24s 152ms/step - loss: 0.3660 - accuracy: 0.9420 - val_loss: 0.9493 - val_accuracy: 0.7203\n",
            "Epoch 6/10\n",
            "160/160 [==============================] - 24s 153ms/step - loss: 0.2704 - accuracy: 0.9680 - val_loss: 0.9547 - val_accuracy: 0.7238\n",
            "Epoch 7/10\n",
            "160/160 [==============================] - 24s 152ms/step - loss: 0.2041 - accuracy: 0.9830 - val_loss: 0.9887 - val_accuracy: 0.7046\n",
            "Epoch 8/10\n",
            "160/160 [==============================] - 24s 151ms/step - loss: 0.1611 - accuracy: 0.9899 - val_loss: 0.9751 - val_accuracy: 0.7207\n",
            "Epoch 9/10\n",
            "160/160 [==============================] - 24s 152ms/step - loss: 0.1358 - accuracy: 0.9913 - val_loss: 0.9736 - val_accuracy: 0.7269\n",
            "Epoch 10/10\n",
            "160/160 [==============================] - 24s 153ms/step - loss: 0.1093 - accuracy: 0.9971 - val_loss: 0.9924 - val_accuracy: 0.7191\n",
            "Number of hidden units:  100 dropout:  0.25\n",
            "Epoch 1/10\n",
            "160/160 [==============================] - 25s 153ms/step - loss: 2.1816 - accuracy: 0.5024 - val_loss: 1.1663 - val_accuracy: 0.6890\n",
            "Epoch 2/10\n",
            "160/160 [==============================] - 24s 150ms/step - loss: 0.9839 - accuracy: 0.7257 - val_loss: 0.9924 - val_accuracy: 0.7066\n",
            "Epoch 3/10\n",
            "160/160 [==============================] - 24s 150ms/step - loss: 0.7543 - accuracy: 0.8063 - val_loss: 0.9516 - val_accuracy: 0.7074\n",
            "Epoch 4/10\n",
            "160/160 [==============================] - 24s 150ms/step - loss: 0.5979 - accuracy: 0.8599 - val_loss: 0.8783 - val_accuracy: 0.7355\n",
            "Epoch 5/10\n",
            "160/160 [==============================] - 24s 153ms/step - loss: 0.4656 - accuracy: 0.9034 - val_loss: 0.8841 - val_accuracy: 0.7320\n",
            "Epoch 6/10\n",
            "160/160 [==============================] - 24s 151ms/step - loss: 0.3601 - accuracy: 0.9383 - val_loss: 0.9015 - val_accuracy: 0.7332\n",
            "Epoch 7/10\n",
            "160/160 [==============================] - 24s 150ms/step - loss: 0.2917 - accuracy: 0.9544 - val_loss: 0.9525 - val_accuracy: 0.7050\n",
            "Epoch 8/10\n",
            "160/160 [==============================] - 24s 151ms/step - loss: 0.2305 - accuracy: 0.9729 - val_loss: 0.9346 - val_accuracy: 0.7257\n",
            "Epoch 9/10\n",
            "160/160 [==============================] - 24s 150ms/step - loss: 0.1927 - accuracy: 0.9798 - val_loss: 0.9391 - val_accuracy: 0.7207\n",
            "Epoch 10/10\n",
            "160/160 [==============================] - 24s 151ms/step - loss: 0.1625 - accuracy: 0.9870 - val_loss: 1.0801 - val_accuracy: 0.6874\n",
            "Number of hidden units:  100 dropout:  0.35\n",
            "Epoch 1/10\n",
            "160/160 [==============================] - 24s 152ms/step - loss: 2.2407 - accuracy: 0.4970 - val_loss: 1.2056 - val_accuracy: 0.6882\n",
            "Epoch 2/10\n",
            "160/160 [==============================] - 24s 150ms/step - loss: 1.0073 - accuracy: 0.7185 - val_loss: 0.9974 - val_accuracy: 0.7136\n",
            "Epoch 3/10\n",
            "160/160 [==============================] - 24s 150ms/step - loss: 0.7839 - accuracy: 0.7960 - val_loss: 0.9569 - val_accuracy: 0.7019\n",
            "Epoch 4/10\n",
            "160/160 [==============================] - 24s 150ms/step - loss: 0.6357 - accuracy: 0.8423 - val_loss: 0.8698 - val_accuracy: 0.7433\n",
            "Epoch 5/10\n",
            "160/160 [==============================] - 24s 149ms/step - loss: 0.5126 - accuracy: 0.8817 - val_loss: 0.8684 - val_accuracy: 0.7254\n",
            "Epoch 6/10\n",
            "160/160 [==============================] - 24s 150ms/step - loss: 0.4103 - accuracy: 0.9173 - val_loss: 0.8730 - val_accuracy: 0.7316\n",
            "Epoch 7/10\n",
            "160/160 [==============================] - 24s 149ms/step - loss: 0.3408 - accuracy: 0.9393 - val_loss: 0.8870 - val_accuracy: 0.7199\n",
            "Epoch 8/10\n",
            "160/160 [==============================] - 24s 151ms/step - loss: 0.2751 - accuracy: 0.9575 - val_loss: 0.9017 - val_accuracy: 0.7312\n",
            "Epoch 9/10\n",
            "160/160 [==============================] - 24s 149ms/step - loss: 0.2280 - accuracy: 0.9704 - val_loss: 0.9308 - val_accuracy: 0.7156\n",
            "Epoch 10/10\n",
            "160/160 [==============================] - 24s 148ms/step - loss: 0.1966 - accuracy: 0.9769 - val_loss: 1.1006 - val_accuracy: 0.6639\n",
            "Number of hidden units:  100 dropout:  0.5\n",
            "Epoch 1/10\n",
            "160/160 [==============================] - 24s 152ms/step - loss: 2.3304 - accuracy: 0.4783 - val_loss: 1.2670 - val_accuracy: 0.6745\n",
            "Epoch 2/10\n",
            "160/160 [==============================] - 24s 149ms/step - loss: 1.0413 - accuracy: 0.7043 - val_loss: 1.0500 - val_accuracy: 0.7081\n",
            "Epoch 3/10\n",
            "160/160 [==============================] - 24s 150ms/step - loss: 0.8248 - accuracy: 0.7765 - val_loss: 0.9669 - val_accuracy: 0.7207\n",
            "Epoch 4/10\n",
            "160/160 [==============================] - 24s 149ms/step - loss: 0.6906 - accuracy: 0.8191 - val_loss: 0.8966 - val_accuracy: 0.7359\n",
            "Epoch 5/10\n",
            "160/160 [==============================] - 24s 149ms/step - loss: 0.5774 - accuracy: 0.8562 - val_loss: 0.8670 - val_accuracy: 0.7328\n",
            "Epoch 6/10\n",
            "160/160 [==============================] - 24s 149ms/step - loss: 0.4917 - accuracy: 0.8846 - val_loss: 0.8437 - val_accuracy: 0.7344\n",
            "Epoch 7/10\n",
            "160/160 [==============================] - 24s 148ms/step - loss: 0.4164 - accuracy: 0.9108 - val_loss: 0.8637 - val_accuracy: 0.7340\n",
            "Epoch 8/10\n",
            "160/160 [==============================] - 24s 149ms/step - loss: 0.3543 - accuracy: 0.9297 - val_loss: 0.8460 - val_accuracy: 0.7402\n",
            "Epoch 9/10\n",
            "160/160 [==============================] - 24s 149ms/step - loss: 0.3062 - accuracy: 0.9450 - val_loss: 0.8834 - val_accuracy: 0.7175\n",
            "Epoch 10/10\n",
            "160/160 [==============================] - 24s 148ms/step - loss: 0.2596 - accuracy: 0.9577 - val_loss: 0.9370 - val_accuracy: 0.7003\n",
            "Number of hidden units:  200 dropout:  0\n",
            "Epoch 1/10\n",
            "160/160 [==============================] - 39s 247ms/step - loss: 2.3260 - accuracy: 0.4896 - val_loss: 1.1143 - val_accuracy: 0.6944\n",
            "Epoch 2/10\n",
            "160/160 [==============================] - 39s 244ms/step - loss: 0.9445 - accuracy: 0.7451 - val_loss: 0.9595 - val_accuracy: 0.7152\n",
            "Epoch 3/10\n",
            "160/160 [==============================] - 39s 244ms/step - loss: 0.6948 - accuracy: 0.8333 - val_loss: 0.9029 - val_accuracy: 0.7191\n",
            "Epoch 4/10\n",
            "160/160 [==============================] - 40s 252ms/step - loss: 0.5178 - accuracy: 0.8925 - val_loss: 0.9034 - val_accuracy: 0.7344\n",
            "Epoch 5/10\n",
            "160/160 [==============================] - 38s 239ms/step - loss: 0.3786 - accuracy: 0.9378 - val_loss: 0.9778 - val_accuracy: 0.7148\n",
            "Epoch 6/10\n",
            "160/160 [==============================] - 41s 257ms/step - loss: 0.2843 - accuracy: 0.9655 - val_loss: 0.9329 - val_accuracy: 0.7277\n",
            "Epoch 7/10\n",
            "160/160 [==============================] - 39s 244ms/step - loss: 0.2171 - accuracy: 0.9810 - val_loss: 0.9568 - val_accuracy: 0.7285\n",
            "Epoch 8/10\n",
            "160/160 [==============================] - 39s 245ms/step - loss: 0.1706 - accuracy: 0.9892 - val_loss: 1.0325 - val_accuracy: 0.7261\n",
            "Epoch 9/10\n",
            "160/160 [==============================] - 39s 245ms/step - loss: 0.1450 - accuracy: 0.9905 - val_loss: 0.9687 - val_accuracy: 0.7285\n",
            "Epoch 10/10\n",
            "160/160 [==============================] - 39s 243ms/step - loss: 0.1195 - accuracy: 0.9948 - val_loss: 1.0402 - val_accuracy: 0.7074\n",
            "Number of hidden units:  200 dropout:  0.25\n",
            "Epoch 1/10\n",
            "160/160 [==============================] - 39s 244ms/step - loss: 2.4176 - accuracy: 0.4798 - val_loss: 1.1631 - val_accuracy: 0.6894\n",
            "Epoch 2/10\n",
            "160/160 [==============================] - 39s 244ms/step - loss: 0.9847 - accuracy: 0.7285 - val_loss: 0.9811 - val_accuracy: 0.7077\n",
            "Epoch 3/10\n",
            "160/160 [==============================] - 39s 245ms/step - loss: 0.7537 - accuracy: 0.8080 - val_loss: 0.9044 - val_accuracy: 0.7254\n",
            "Epoch 4/10\n",
            "160/160 [==============================] - 39s 244ms/step - loss: 0.5959 - accuracy: 0.8596 - val_loss: 0.8706 - val_accuracy: 0.7410\n",
            "Epoch 5/10\n",
            "160/160 [==============================] - 39s 244ms/step - loss: 0.4684 - accuracy: 0.9019 - val_loss: 0.8881 - val_accuracy: 0.7316\n",
            "Epoch 6/10\n",
            "160/160 [==============================] - 39s 243ms/step - loss: 0.3668 - accuracy: 0.9365 - val_loss: 0.8843 - val_accuracy: 0.7371\n",
            "Epoch 7/10\n",
            "160/160 [==============================] - 39s 243ms/step - loss: 0.2916 - accuracy: 0.9583 - val_loss: 0.9250 - val_accuracy: 0.7187\n",
            "Epoch 8/10\n",
            "160/160 [==============================] - 39s 243ms/step - loss: 0.2325 - accuracy: 0.9731 - val_loss: 0.9344 - val_accuracy: 0.7285\n",
            "Epoch 9/10\n",
            "160/160 [==============================] - 39s 244ms/step - loss: 0.1929 - accuracy: 0.9811 - val_loss: 1.0039 - val_accuracy: 0.7117\n",
            "Epoch 10/10\n",
            "160/160 [==============================] - 39s 245ms/step - loss: 0.1632 - accuracy: 0.9865 - val_loss: 1.0410 - val_accuracy: 0.6980\n",
            "Number of hidden units:  200 dropout:  0.35\n",
            "Epoch 1/10\n",
            "160/160 [==============================] - 39s 245ms/step - loss: 2.4846 - accuracy: 0.4738 - val_loss: 1.2086 - val_accuracy: 0.6866\n",
            "Epoch 2/10\n",
            "160/160 [==============================] - 39s 244ms/step - loss: 1.0055 - accuracy: 0.7189 - val_loss: 0.9961 - val_accuracy: 0.7183\n",
            "Epoch 3/10\n",
            "160/160 [==============================] - 39s 244ms/step - loss: 0.7790 - accuracy: 0.7997 - val_loss: 0.9129 - val_accuracy: 0.7254\n",
            "Epoch 4/10\n",
            "160/160 [==============================] - 39s 245ms/step - loss: 0.6297 - accuracy: 0.8490 - val_loss: 0.8756 - val_accuracy: 0.7414\n",
            "Epoch 5/10\n",
            "160/160 [==============================] - 39s 244ms/step - loss: 0.5038 - accuracy: 0.8861 - val_loss: 0.8653 - val_accuracy: 0.7293\n",
            "Epoch 6/10\n",
            "160/160 [==============================] - 39s 245ms/step - loss: 0.4070 - accuracy: 0.9208 - val_loss: 0.8672 - val_accuracy: 0.7308\n",
            "Epoch 7/10\n",
            "160/160 [==============================] - 39s 245ms/step - loss: 0.3256 - accuracy: 0.9473 - val_loss: 0.9589 - val_accuracy: 0.6976\n",
            "Epoch 8/10\n",
            "160/160 [==============================] - 39s 245ms/step - loss: 0.2622 - accuracy: 0.9662 - val_loss: 0.9101 - val_accuracy: 0.7304\n",
            "Epoch 9/10\n",
            "160/160 [==============================] - 39s 245ms/step - loss: 0.2195 - accuracy: 0.9747 - val_loss: 0.9446 - val_accuracy: 0.7167\n",
            "Epoch 10/10\n",
            "160/160 [==============================] - 39s 246ms/step - loss: 0.1814 - accuracy: 0.9832 - val_loss: 1.1919 - val_accuracy: 0.6577\n",
            "Number of hidden units:  200 dropout:  0.5\n",
            "Epoch 1/10\n",
            "160/160 [==============================] - 40s 247ms/step - loss: 2.5843 - accuracy: 0.4741 - val_loss: 1.2782 - val_accuracy: 0.6678\n",
            "Epoch 2/10\n",
            "160/160 [==============================] - 40s 247ms/step - loss: 1.0431 - accuracy: 0.7071 - val_loss: 1.0365 - val_accuracy: 0.7187\n",
            "Epoch 3/10\n",
            "160/160 [==============================] - 39s 246ms/step - loss: 0.8202 - accuracy: 0.7818 - val_loss: 0.9565 - val_accuracy: 0.7171\n",
            "Epoch 4/10\n",
            "160/160 [==============================] - 39s 246ms/step - loss: 0.6812 - accuracy: 0.8263 - val_loss: 0.9008 - val_accuracy: 0.7355\n",
            "Epoch 5/10\n",
            "160/160 [==============================] - 39s 244ms/step - loss: 0.5649 - accuracy: 0.8660 - val_loss: 0.8698 - val_accuracy: 0.7383\n",
            "Epoch 6/10\n",
            "160/160 [==============================] - 39s 245ms/step - loss: 0.4712 - accuracy: 0.8955 - val_loss: 0.8682 - val_accuracy: 0.7312\n",
            "Epoch 7/10\n",
            "160/160 [==============================] - 39s 244ms/step - loss: 0.3947 - accuracy: 0.9215 - val_loss: 0.8900 - val_accuracy: 0.7230\n",
            "Epoch 8/10\n",
            "160/160 [==============================] - 39s 243ms/step - loss: 0.3360 - accuracy: 0.9368 - val_loss: 0.9433 - val_accuracy: 0.7136\n",
            "Epoch 9/10\n",
            "160/160 [==============================] - 39s 243ms/step - loss: 0.2795 - accuracy: 0.9557 - val_loss: 0.9289 - val_accuracy: 0.7171\n",
            "Epoch 10/10\n",
            "160/160 [==============================] - 39s 246ms/step - loss: 0.2379 - accuracy: 0.9668 - val_loss: 0.9765 - val_accuracy: 0.6991\n",
            "Number of hidden units:  300 dropout:  0\n",
            "Epoch 1/10\n",
            "160/160 [==============================] - 56s 352ms/step - loss: 2.4571 - accuracy: 0.5060 - val_loss: 1.1174 - val_accuracy: 0.6909\n",
            "Epoch 2/10\n",
            "160/160 [==============================] - 54s 334ms/step - loss: 0.9443 - accuracy: 0.7448 - val_loss: 0.9553 - val_accuracy: 0.7183\n",
            "Epoch 3/10\n",
            "160/160 [==============================] - 53s 334ms/step - loss: 0.6995 - accuracy: 0.8307 - val_loss: 0.9261 - val_accuracy: 0.7148\n",
            "Epoch 4/10\n",
            "160/160 [==============================] - 53s 334ms/step - loss: 0.5242 - accuracy: 0.8916 - val_loss: 0.9061 - val_accuracy: 0.7449\n",
            "Epoch 5/10\n",
            "160/160 [==============================] - 53s 334ms/step - loss: 0.3866 - accuracy: 0.9356 - val_loss: 0.9403 - val_accuracy: 0.7297\n",
            "Epoch 6/10\n",
            "160/160 [==============================] - 54s 338ms/step - loss: 0.2917 - accuracy: 0.9628 - val_loss: 0.9786 - val_accuracy: 0.7269\n",
            "Epoch 7/10\n",
            "160/160 [==============================] - 53s 333ms/step - loss: 0.2208 - accuracy: 0.9816 - val_loss: 1.0266 - val_accuracy: 0.7023\n",
            "Epoch 8/10\n",
            "160/160 [==============================] - 53s 334ms/step - loss: 0.1770 - accuracy: 0.9859 - val_loss: 1.0033 - val_accuracy: 0.7304\n",
            "Epoch 9/10\n",
            "160/160 [==============================] - 54s 335ms/step - loss: 0.1446 - accuracy: 0.9928 - val_loss: 1.0048 - val_accuracy: 0.7261\n",
            "Epoch 10/10\n",
            "160/160 [==============================] - 53s 334ms/step - loss: 0.1275 - accuracy: 0.9929 - val_loss: 1.0367 - val_accuracy: 0.7250\n",
            "Number of hidden units:  300 dropout:  0.25\n",
            "Epoch 1/10\n",
            "160/160 [==============================] - 54s 339ms/step - loss: 2.5864 - accuracy: 0.4915 - val_loss: 1.1570 - val_accuracy: 0.6862\n",
            "Epoch 2/10\n",
            "160/160 [==============================] - 58s 362ms/step - loss: 0.9807 - accuracy: 0.7300 - val_loss: 0.9732 - val_accuracy: 0.7148\n",
            "Epoch 3/10\n",
            "160/160 [==============================] - 55s 341ms/step - loss: 0.7503 - accuracy: 0.8091 - val_loss: 0.9225 - val_accuracy: 0.7175\n",
            "Epoch 4/10\n",
            "160/160 [==============================] - 55s 342ms/step - loss: 0.5936 - accuracy: 0.8638 - val_loss: 0.8745 - val_accuracy: 0.7430\n",
            "Epoch 5/10\n",
            "160/160 [==============================] - 54s 340ms/step - loss: 0.4633 - accuracy: 0.9044 - val_loss: 0.8904 - val_accuracy: 0.7273\n",
            "Epoch 6/10\n",
            "160/160 [==============================] - 54s 338ms/step - loss: 0.3667 - accuracy: 0.9352 - val_loss: 0.8926 - val_accuracy: 0.7379\n",
            "Epoch 7/10\n",
            "160/160 [==============================] - 55s 343ms/step - loss: 0.2906 - accuracy: 0.9586 - val_loss: 0.9232 - val_accuracy: 0.7222\n",
            "Epoch 8/10\n",
            "160/160 [==============================] - 54s 339ms/step - loss: 0.2320 - accuracy: 0.9731 - val_loss: 0.9468 - val_accuracy: 0.7293\n",
            "Epoch 9/10\n",
            "160/160 [==============================] - 55s 342ms/step - loss: 0.1923 - accuracy: 0.9812 - val_loss: 0.9514 - val_accuracy: 0.7269\n",
            "Epoch 10/10\n",
            "160/160 [==============================] - 54s 336ms/step - loss: 0.1595 - accuracy: 0.9881 - val_loss: 1.0048 - val_accuracy: 0.7156\n",
            "Number of hidden units:  300 dropout:  0.35\n",
            "Epoch 1/10\n",
            "160/160 [==============================] - 54s 338ms/step - loss: 2.6531 - accuracy: 0.4816 - val_loss: 1.1842 - val_accuracy: 0.6917\n",
            "Epoch 2/10\n",
            "160/160 [==============================] - 54s 337ms/step - loss: 1.0069 - accuracy: 0.7196 - val_loss: 0.9804 - val_accuracy: 0.7171\n",
            "Epoch 3/10\n",
            "160/160 [==============================] - 55s 341ms/step - loss: 0.7834 - accuracy: 0.7962 - val_loss: 0.9378 - val_accuracy: 0.7179\n",
            "Epoch 4/10\n",
            "160/160 [==============================] - 56s 349ms/step - loss: 0.6347 - accuracy: 0.8454 - val_loss: 0.8808 - val_accuracy: 0.7383\n",
            "Epoch 5/10\n",
            "160/160 [==============================] - 57s 356ms/step - loss: 0.5106 - accuracy: 0.8868 - val_loss: 0.8843 - val_accuracy: 0.7230\n",
            "Epoch 6/10\n",
            "160/160 [==============================] - 55s 346ms/step - loss: 0.4098 - accuracy: 0.9196 - val_loss: 0.8835 - val_accuracy: 0.7316\n",
            "Epoch 7/10\n",
            "160/160 [==============================] - 56s 351ms/step - loss: 0.3324 - accuracy: 0.9439 - val_loss: 0.9323 - val_accuracy: 0.7132\n",
            "Epoch 8/10\n",
            "160/160 [==============================] - 54s 340ms/step - loss: 0.2736 - accuracy: 0.9603 - val_loss: 0.9431 - val_accuracy: 0.7179\n",
            "Epoch 9/10\n",
            "160/160 [==============================] - 54s 339ms/step - loss: 0.2222 - accuracy: 0.9744 - val_loss: 0.9453 - val_accuracy: 0.7238\n",
            "Epoch 10/10\n",
            "160/160 [==============================] - 54s 340ms/step - loss: 0.1897 - accuracy: 0.9786 - val_loss: 0.9936 - val_accuracy: 0.7066\n",
            "Number of hidden units:  300 dropout:  0.5\n",
            "Epoch 1/10\n",
            "160/160 [==============================] - 54s 340ms/step - loss: 2.7785 - accuracy: 0.4803 - val_loss: 1.2765 - val_accuracy: 0.6667\n",
            "Epoch 2/10\n",
            "160/160 [==============================] - 54s 338ms/step - loss: 1.0352 - accuracy: 0.7108 - val_loss: 1.0335 - val_accuracy: 0.7081\n",
            "Epoch 3/10\n",
            "160/160 [==============================] - 54s 339ms/step - loss: 0.8159 - accuracy: 0.7863 - val_loss: 0.9685 - val_accuracy: 0.7156\n",
            "Epoch 4/10\n",
            "160/160 [==============================] - 55s 341ms/step - loss: 0.6806 - accuracy: 0.8260 - val_loss: 0.9033 - val_accuracy: 0.7347\n",
            "Epoch 5/10\n",
            "160/160 [==============================] - 54s 340ms/step - loss: 0.5636 - accuracy: 0.8676 - val_loss: 0.8830 - val_accuracy: 0.7285\n",
            "Epoch 6/10\n",
            "160/160 [==============================] - 55s 342ms/step - loss: 0.4685 - accuracy: 0.8968 - val_loss: 0.9163 - val_accuracy: 0.7105\n",
            "Epoch 7/10\n",
            "160/160 [==============================] - 55s 342ms/step - loss: 0.3944 - accuracy: 0.9231 - val_loss: 0.8938 - val_accuracy: 0.7187\n",
            "Epoch 8/10\n",
            "160/160 [==============================] - 55s 342ms/step - loss: 0.3261 - accuracy: 0.9441 - val_loss: 0.9031 - val_accuracy: 0.7312\n",
            "Epoch 9/10\n",
            "160/160 [==============================] - 55s 341ms/step - loss: 0.2761 - accuracy: 0.9569 - val_loss: 0.9392 - val_accuracy: 0.7070\n",
            "Epoch 10/10\n",
            "160/160 [==============================] - 55s 342ms/step - loss: 0.2374 - accuracy: 0.9664 - val_loss: 0.9884 - val_accuracy: 0.7031\n"
          ],
          "name": "stdout"
        }
      ]
    },
    {
      "cell_type": "markdown",
      "metadata": {
        "id": "UniYXldR6o9S",
        "colab_type": "text"
      },
      "source": [
        "# 4. Using own titles + incoming/outgoing references"
      ]
    },
    {
      "cell_type": "markdown",
      "metadata": {
        "id": "DsTH-Q4o76_S",
        "colab_type": "text"
      },
      "source": [
        "### Upload and pre-process a new data file created externally\n",
        "\n",
        "*  ref_to concatenates titles of all references pointing towards a given article\n",
        "*  ref_from concatenates titles of all references to which a given article refers"
      ]
    },
    {
      "cell_type": "code",
      "metadata": {
        "id": "5PJTOY1A7_2T",
        "colab_type": "code",
        "colab": {
          "base_uri": "https://localhost:8080/",
          "height": 197
        },
        "outputId": "60c5f9ad-95d6-4505-a079-82020125cce8"
      },
      "source": [
        "cross_ref.head()"
      ],
      "execution_count": null,
      "outputs": [
        {
          "output_type": "execute_result",
          "data": {
            "text/html": [
              "<div>\n",
              "<style scoped>\n",
              "    .dataframe tbody tr th:only-of-type {\n",
              "        vertical-align: middle;\n",
              "    }\n",
              "\n",
              "    .dataframe tbody tr th {\n",
              "        vertical-align: top;\n",
              "    }\n",
              "\n",
              "    .dataframe thead th {\n",
              "        text-align: right;\n",
              "    }\n",
              "</style>\n",
              "<table border=\"1\" class=\"dataframe\">\n",
              "  <thead>\n",
              "    <tr style=\"text-align: right;\">\n",
              "      <th></th>\n",
              "      <th>Unnamed: 0</th>\n",
              "      <th>id</th>\n",
              "      <th>label</th>\n",
              "      <th>ref_to</th>\n",
              "      <th>ref_from</th>\n",
              "    </tr>\n",
              "  </thead>\n",
              "  <tbody>\n",
              "    <tr>\n",
              "      <th>0</th>\n",
              "      <td>1</td>\n",
              "      <td>0</td>\n",
              "      <td>1.0</td>\n",
              "      <td>a framework for clustering evolving data strea...</td>\n",
              "      <td>NaN</td>\n",
              "    </tr>\n",
              "    <tr>\n",
              "      <th>1</th>\n",
              "      <td>2</td>\n",
              "      <td>3</td>\n",
              "      <td>1.0</td>\n",
              "      <td>implementation techniques for main memory data...</td>\n",
              "      <td>providing better support for a class of decisi...</td>\n",
              "    </tr>\n",
              "    <tr>\n",
              "      <th>2</th>\n",
              "      <td>3</td>\n",
              "      <td>6</td>\n",
              "      <td>1.0</td>\n",
              "      <td>statix making xml count answering xml queries ...</td>\n",
              "      <td>NaN</td>\n",
              "    </tr>\n",
              "    <tr>\n",
              "      <th>3</th>\n",
              "      <td>4</td>\n",
              "      <td>8</td>\n",
              "      <td>0.0</td>\n",
              "      <td>temporal databases   status and research direc...</td>\n",
              "      <td>NaN</td>\n",
              "    </tr>\n",
              "    <tr>\n",
              "      <th>4</th>\n",
              "      <td>5</td>\n",
              "      <td>9</td>\n",
              "      <td>0.0</td>\n",
              "      <td>dynamic itemset counting and implication rules...</td>\n",
              "      <td>pattern lattice traversal by selective jumps</td>\n",
              "    </tr>\n",
              "  </tbody>\n",
              "</table>\n",
              "</div>"
            ],
            "text/plain": [
              "   Unnamed: 0  ...                                           ref_from\n",
              "0           1  ...                                                NaN\n",
              "1           2  ...  providing better support for a class of decisi...\n",
              "2           3  ...                                                NaN\n",
              "3           4  ...                                                NaN\n",
              "4           5  ...       pattern lattice traversal by selective jumps\n",
              "\n",
              "[5 rows x 5 columns]"
            ]
          },
          "metadata": {
            "tags": []
          },
          "execution_count": 25
        }
      ]
    },
    {
      "cell_type": "code",
      "metadata": {
        "id": "032W2aiSKS03",
        "colab_type": "code",
        "colab": {}
      },
      "source": [
        "cross_ref2 = cross_ref.fillna(\"noref\")"
      ],
      "execution_count": null,
      "outputs": []
    },
    {
      "cell_type": "code",
      "metadata": {
        "id": "ivQiNumS93aq",
        "colab_type": "code",
        "colab": {
          "base_uri": "https://localhost:8080/",
          "height": 514
        },
        "outputId": "c8884fc9-883a-4de9-cfc0-a952b1ceea22"
      },
      "source": [
        "train3 = train.join(cross_ref2.set_index('id'), how = 'left', on=\"id\", rsuffix=\"cross\")\n",
        "train3.head(10)"
      ],
      "execution_count": null,
      "outputs": [
        {
          "output_type": "execute_result",
          "data": {
            "text/html": [
              "<div>\n",
              "<style scoped>\n",
              "    .dataframe tbody tr th:only-of-type {\n",
              "        vertical-align: middle;\n",
              "    }\n",
              "\n",
              "    .dataframe tbody tr th {\n",
              "        vertical-align: top;\n",
              "    }\n",
              "\n",
              "    .dataframe thead th {\n",
              "        text-align: right;\n",
              "    }\n",
              "</style>\n",
              "<table border=\"1\" class=\"dataframe\">\n",
              "  <thead>\n",
              "    <tr style=\"text-align: right;\">\n",
              "      <th></th>\n",
              "      <th>id</th>\n",
              "      <th>label</th>\n",
              "      <th>title</th>\n",
              "      <th>Unnamed: 0</th>\n",
              "      <th>labelcross</th>\n",
              "      <th>ref_to</th>\n",
              "      <th>ref_from</th>\n",
              "    </tr>\n",
              "  </thead>\n",
              "  <tbody>\n",
              "    <tr>\n",
              "      <th>0</th>\n",
              "      <td>0</td>\n",
              "      <td>1</td>\n",
              "      <td>interactive visual exploration of neighbor bas...</td>\n",
              "      <td>1</td>\n",
              "      <td>1</td>\n",
              "      <td>a framework for clustering evolving data strea...</td>\n",
              "      <td>noref</td>\n",
              "    </tr>\n",
              "    <tr>\n",
              "      <th>1</th>\n",
              "      <td>3</td>\n",
              "      <td>1</td>\n",
              "      <td>relational division four algorithms and their ...</td>\n",
              "      <td>2</td>\n",
              "      <td>1</td>\n",
              "      <td>implementation techniques for main memory data...</td>\n",
              "      <td>providing better support for a class of decisi...</td>\n",
              "    </tr>\n",
              "    <tr>\n",
              "      <th>2</th>\n",
              "      <td>6</td>\n",
              "      <td>1</td>\n",
              "      <td>simplifying xml schema effortless handling of ...</td>\n",
              "      <td>3</td>\n",
              "      <td>1</td>\n",
              "      <td>statix making xml count answering xml queries ...</td>\n",
              "      <td>noref</td>\n",
              "    </tr>\n",
              "    <tr>\n",
              "      <th>3</th>\n",
              "      <td>8</td>\n",
              "      <td>0</td>\n",
              "      <td>funbase a function based information managemen...</td>\n",
              "      <td>4</td>\n",
              "      <td>0</td>\n",
              "      <td>temporal databases   status and research direc...</td>\n",
              "      <td>noref</td>\n",
              "    </tr>\n",
              "    <tr>\n",
              "      <th>4</th>\n",
              "      <td>9</td>\n",
              "      <td>0</td>\n",
              "      <td>inverted matrix efficient discovery of frequen...</td>\n",
              "      <td>5</td>\n",
              "      <td>0</td>\n",
              "      <td>dynamic itemset counting and implication rules...</td>\n",
              "      <td>pattern lattice traversal by selective jumps</td>\n",
              "    </tr>\n",
              "    <tr>\n",
              "      <th>5</th>\n",
              "      <td>11</td>\n",
              "      <td>2</td>\n",
              "      <td>computational aspects of covering in dominance...</td>\n",
              "      <td>6</td>\n",
              "      <td>2</td>\n",
              "      <td>noref</td>\n",
              "      <td>noref</td>\n",
              "    </tr>\n",
              "    <tr>\n",
              "      <th>6</th>\n",
              "      <td>13</td>\n",
              "      <td>4</td>\n",
              "      <td>feaspar   a feature structure parser learning ...</td>\n",
              "      <td>7</td>\n",
              "      <td>4</td>\n",
              "      <td>gemini a natural language system for spoken la...</td>\n",
              "      <td>noref</td>\n",
              "    </tr>\n",
              "    <tr>\n",
              "      <th>7</th>\n",
              "      <td>18</td>\n",
              "      <td>0</td>\n",
              "      <td>assessing the scenic route measuring the value...</td>\n",
              "      <td>8</td>\n",
              "      <td>0</td>\n",
              "      <td>noref</td>\n",
              "      <td>noref</td>\n",
              "    </tr>\n",
              "    <tr>\n",
              "      <th>8</th>\n",
              "      <td>20</td>\n",
              "      <td>0</td>\n",
              "      <td>webanywhere enabling a screen reading interfac...</td>\n",
              "      <td>9</td>\n",
              "      <td>0</td>\n",
              "      <td>knowing the users every move user activity tra...</td>\n",
              "      <td>noref</td>\n",
              "    </tr>\n",
              "    <tr>\n",
              "      <th>9</th>\n",
              "      <td>24</td>\n",
              "      <td>2</td>\n",
              "      <td>non standard semantics for the method of tempo...</td>\n",
              "      <td>10</td>\n",
              "      <td>2</td>\n",
              "      <td>towards an implementation of database manageme...</td>\n",
              "      <td>generalized events in temporal databases</td>\n",
              "    </tr>\n",
              "  </tbody>\n",
              "</table>\n",
              "</div>"
            ],
            "text/plain": [
              "   id  ...                                           ref_from\n",
              "0   0  ...                                              noref\n",
              "1   3  ...  providing better support for a class of decisi...\n",
              "2   6  ...                                              noref\n",
              "3   8  ...                                              noref\n",
              "4   9  ...       pattern lattice traversal by selective jumps\n",
              "5  11  ...                                              noref\n",
              "6  13  ...                                              noref\n",
              "7  18  ...                                              noref\n",
              "8  20  ...                                              noref\n",
              "9  24  ...           generalized events in temporal databases\n",
              "\n",
              "[10 rows x 7 columns]"
            ]
          },
          "metadata": {
            "tags": []
          },
          "execution_count": 26
        }
      ]
    },
    {
      "cell_type": "code",
      "metadata": {
        "id": "C0WdemAVZSYv",
        "colab_type": "code",
        "colab": {}
      },
      "source": [
        "train3[\"merged\"] = train3[\"title\"] +\" \"+ train3[\"ref_to\"] +\" \"+ train3[\"ref_from\"]"
      ],
      "execution_count": null,
      "outputs": []
    },
    {
      "cell_type": "code",
      "metadata": {
        "id": "tow9Blfg-OC9",
        "colab_type": "code",
        "colab": {
          "base_uri": "https://localhost:8080/",
          "height": 531
        },
        "outputId": "1d4ef547-96a3-4cb1-f292-8197dafdacbe"
      },
      "source": [
        "train3.head(10)"
      ],
      "execution_count": null,
      "outputs": [
        {
          "output_type": "execute_result",
          "data": {
            "text/html": [
              "<div>\n",
              "<style scoped>\n",
              "    .dataframe tbody tr th:only-of-type {\n",
              "        vertical-align: middle;\n",
              "    }\n",
              "\n",
              "    .dataframe tbody tr th {\n",
              "        vertical-align: top;\n",
              "    }\n",
              "\n",
              "    .dataframe thead th {\n",
              "        text-align: right;\n",
              "    }\n",
              "</style>\n",
              "<table border=\"1\" class=\"dataframe\">\n",
              "  <thead>\n",
              "    <tr style=\"text-align: right;\">\n",
              "      <th></th>\n",
              "      <th>id</th>\n",
              "      <th>label</th>\n",
              "      <th>title</th>\n",
              "      <th>Unnamed: 0</th>\n",
              "      <th>labelcross</th>\n",
              "      <th>ref_to</th>\n",
              "      <th>ref_from</th>\n",
              "      <th>merged</th>\n",
              "    </tr>\n",
              "  </thead>\n",
              "  <tbody>\n",
              "    <tr>\n",
              "      <th>0</th>\n",
              "      <td>0</td>\n",
              "      <td>1</td>\n",
              "      <td>interactive visual exploration of neighbor bas...</td>\n",
              "      <td>1</td>\n",
              "      <td>1</td>\n",
              "      <td>a framework for clustering evolving data strea...</td>\n",
              "      <td>noref</td>\n",
              "      <td>interactive visual exploration of neighbor bas...</td>\n",
              "    </tr>\n",
              "    <tr>\n",
              "      <th>1</th>\n",
              "      <td>3</td>\n",
              "      <td>1</td>\n",
              "      <td>relational division four algorithms and their ...</td>\n",
              "      <td>2</td>\n",
              "      <td>1</td>\n",
              "      <td>implementation techniques for main memory data...</td>\n",
              "      <td>providing better support for a class of decisi...</td>\n",
              "      <td>relational division four algorithms and their ...</td>\n",
              "    </tr>\n",
              "    <tr>\n",
              "      <th>2</th>\n",
              "      <td>6</td>\n",
              "      <td>1</td>\n",
              "      <td>simplifying xml schema effortless handling of ...</td>\n",
              "      <td>3</td>\n",
              "      <td>1</td>\n",
              "      <td>statix making xml count answering xml queries ...</td>\n",
              "      <td>noref</td>\n",
              "      <td>simplifying xml schema effortless handling of ...</td>\n",
              "    </tr>\n",
              "    <tr>\n",
              "      <th>3</th>\n",
              "      <td>8</td>\n",
              "      <td>0</td>\n",
              "      <td>funbase a function based information managemen...</td>\n",
              "      <td>4</td>\n",
              "      <td>0</td>\n",
              "      <td>temporal databases   status and research direc...</td>\n",
              "      <td>noref</td>\n",
              "      <td>funbase a function based information managemen...</td>\n",
              "    </tr>\n",
              "    <tr>\n",
              "      <th>4</th>\n",
              "      <td>9</td>\n",
              "      <td>0</td>\n",
              "      <td>inverted matrix efficient discovery of frequen...</td>\n",
              "      <td>5</td>\n",
              "      <td>0</td>\n",
              "      <td>dynamic itemset counting and implication rules...</td>\n",
              "      <td>pattern lattice traversal by selective jumps</td>\n",
              "      <td>inverted matrix efficient discovery of frequen...</td>\n",
              "    </tr>\n",
              "    <tr>\n",
              "      <th>5</th>\n",
              "      <td>11</td>\n",
              "      <td>2</td>\n",
              "      <td>computational aspects of covering in dominance...</td>\n",
              "      <td>6</td>\n",
              "      <td>2</td>\n",
              "      <td>noref</td>\n",
              "      <td>noref</td>\n",
              "      <td>computational aspects of covering in dominance...</td>\n",
              "    </tr>\n",
              "    <tr>\n",
              "      <th>6</th>\n",
              "      <td>13</td>\n",
              "      <td>4</td>\n",
              "      <td>feaspar   a feature structure parser learning ...</td>\n",
              "      <td>7</td>\n",
              "      <td>4</td>\n",
              "      <td>gemini a natural language system for spoken la...</td>\n",
              "      <td>noref</td>\n",
              "      <td>feaspar   a feature structure parser learning ...</td>\n",
              "    </tr>\n",
              "    <tr>\n",
              "      <th>7</th>\n",
              "      <td>18</td>\n",
              "      <td>0</td>\n",
              "      <td>assessing the scenic route measuring the value...</td>\n",
              "      <td>8</td>\n",
              "      <td>0</td>\n",
              "      <td>noref</td>\n",
              "      <td>noref</td>\n",
              "      <td>assessing the scenic route measuring the value...</td>\n",
              "    </tr>\n",
              "    <tr>\n",
              "      <th>8</th>\n",
              "      <td>20</td>\n",
              "      <td>0</td>\n",
              "      <td>webanywhere enabling a screen reading interfac...</td>\n",
              "      <td>9</td>\n",
              "      <td>0</td>\n",
              "      <td>knowing the users every move user activity tra...</td>\n",
              "      <td>noref</td>\n",
              "      <td>webanywhere enabling a screen reading interfac...</td>\n",
              "    </tr>\n",
              "    <tr>\n",
              "      <th>9</th>\n",
              "      <td>24</td>\n",
              "      <td>2</td>\n",
              "      <td>non standard semantics for the method of tempo...</td>\n",
              "      <td>10</td>\n",
              "      <td>2</td>\n",
              "      <td>towards an implementation of database manageme...</td>\n",
              "      <td>generalized events in temporal databases</td>\n",
              "      <td>non standard semantics for the method of tempo...</td>\n",
              "    </tr>\n",
              "  </tbody>\n",
              "</table>\n",
              "</div>"
            ],
            "text/plain": [
              "   id  ...                                             merged\n",
              "0   0  ...  interactive visual exploration of neighbor bas...\n",
              "1   3  ...  relational division four algorithms and their ...\n",
              "2   6  ...  simplifying xml schema effortless handling of ...\n",
              "3   8  ...  funbase a function based information managemen...\n",
              "4   9  ...  inverted matrix efficient discovery of frequen...\n",
              "5  11  ...  computational aspects of covering in dominance...\n",
              "6  13  ...  feaspar   a feature structure parser learning ...\n",
              "7  18  ...  assessing the scenic route measuring the value...\n",
              "8  20  ...  webanywhere enabling a screen reading interfac...\n",
              "9  24  ...  non standard semantics for the method of tempo...\n",
              "\n",
              "[10 rows x 8 columns]"
            ]
          },
          "metadata": {
            "tags": []
          },
          "execution_count": 28
        }
      ]
    },
    {
      "cell_type": "code",
      "metadata": {
        "id": "S-oiWvV__k9J",
        "colab_type": "code",
        "colab": {}
      },
      "source": [
        "test3 = test.join(cross_ref2.set_index('id'), how = 'left', on=\"id\", rsuffix=\"cross\")"
      ],
      "execution_count": null,
      "outputs": []
    },
    {
      "cell_type": "code",
      "metadata": {
        "id": "5CZa-1uWVp08",
        "colab_type": "code",
        "colab": {
          "base_uri": "https://localhost:8080/",
          "height": 523
        },
        "outputId": "6ba65114-ab08-46d6-fac9-5546de5e9ffc"
      },
      "source": [
        "test3"
      ],
      "execution_count": null,
      "outputs": [
        {
          "output_type": "execute_result",
          "data": {
            "text/html": [
              "<div>\n",
              "<style scoped>\n",
              "    .dataframe tbody tr th:only-of-type {\n",
              "        vertical-align: middle;\n",
              "    }\n",
              "\n",
              "    .dataframe tbody tr th {\n",
              "        vertical-align: top;\n",
              "    }\n",
              "\n",
              "    .dataframe thead th {\n",
              "        text-align: right;\n",
              "    }\n",
              "</style>\n",
              "<table border=\"1\" class=\"dataframe\">\n",
              "  <thead>\n",
              "    <tr style=\"text-align: right;\">\n",
              "      <th></th>\n",
              "      <th>id</th>\n",
              "      <th>title</th>\n",
              "      <th>Unnamed: 0</th>\n",
              "      <th>label</th>\n",
              "      <th>ref_to</th>\n",
              "      <th>ref_from</th>\n",
              "    </tr>\n",
              "  </thead>\n",
              "  <tbody>\n",
              "    <tr>\n",
              "      <th>0</th>\n",
              "      <td>1</td>\n",
              "      <td>autodomainmine a graphical data mining system ...</td>\n",
              "      <td>12780</td>\n",
              "      <td>noref</td>\n",
              "      <td>what is the nearest neighbor in high dimension...</td>\n",
              "      <td>noref</td>\n",
              "    </tr>\n",
              "    <tr>\n",
              "      <th>1</th>\n",
              "      <td>2</td>\n",
              "      <td>anipqo almost non intrusive parametric query o...</td>\n",
              "      <td>12781</td>\n",
              "      <td>noref</td>\n",
              "      <td>parametric query optimization optimization of ...</td>\n",
              "      <td>on the production of anorexic plan diagrams</td>\n",
              "    </tr>\n",
              "    <tr>\n",
              "      <th>2</th>\n",
              "      <td>4</td>\n",
              "      <td>selection and ranking of text from highly impe...</td>\n",
              "      <td>12782</td>\n",
              "      <td>noref</td>\n",
              "      <td>noref</td>\n",
              "      <td>noref</td>\n",
              "    </tr>\n",
              "    <tr>\n",
              "      <th>3</th>\n",
              "      <td>5</td>\n",
              "      <td>conditional random fields for multi agent rein...</td>\n",
              "      <td>12783</td>\n",
              "      <td>noref</td>\n",
              "      <td>sequential optimality and coordination in mult...</td>\n",
              "      <td>noref</td>\n",
              "    </tr>\n",
              "    <tr>\n",
              "      <th>4</th>\n",
              "      <td>7</td>\n",
              "      <td>multi dimensional description logics</td>\n",
              "      <td>12784</td>\n",
              "      <td>noref</td>\n",
              "      <td>noref</td>\n",
              "      <td>noref</td>\n",
              "    </tr>\n",
              "    <tr>\n",
              "      <th>...</th>\n",
              "      <td>...</td>\n",
              "      <td>...</td>\n",
              "      <td>...</td>\n",
              "      <td>...</td>\n",
              "      <td>...</td>\n",
              "      <td>...</td>\n",
              "    </tr>\n",
              "    <tr>\n",
              "      <th>12777</th>\n",
              "      <td>25553</td>\n",
              "      <td>currency based updates to distributed material...</td>\n",
              "      <td>25557</td>\n",
              "      <td>noref</td>\n",
              "      <td>database snapshots maintenance of views implem...</td>\n",
              "      <td>relaxed currency and consistency how to say go...</td>\n",
              "    </tr>\n",
              "    <tr>\n",
              "      <th>12778</th>\n",
              "      <td>25556</td>\n",
              "      <td>dynamic typing in a statically typed language</td>\n",
              "      <td>25558</td>\n",
              "      <td>noref</td>\n",
              "      <td>quasi static typing an ideal model for recursi...</td>\n",
              "      <td>quasi static typing semantics for communicatio...</td>\n",
              "    </tr>\n",
              "    <tr>\n",
              "      <th>12779</th>\n",
              "      <td>25558</td>\n",
              "      <td>learning sparse metrics via linear programming</td>\n",
              "      <td>25559</td>\n",
              "      <td>noref</td>\n",
              "      <td>fastmap a fast algorithm for indexing data min...</td>\n",
              "      <td>privacy preserving cox regression for survival...</td>\n",
              "    </tr>\n",
              "    <tr>\n",
              "      <th>12780</th>\n",
              "      <td>25559</td>\n",
              "      <td>computer assisted reasoning with mizar</td>\n",
              "      <td>25560</td>\n",
              "      <td>noref</td>\n",
              "      <td>noref</td>\n",
              "      <td>noref</td>\n",
              "    </tr>\n",
              "    <tr>\n",
              "      <th>12781</th>\n",
              "      <td>25560</td>\n",
              "      <td>characterization of a large web site populatio...</td>\n",
              "      <td>25561</td>\n",
              "      <td>noref</td>\n",
              "      <td>gigascope a stream database for network applic...</td>\n",
              "      <td>analysis of multimedia workloads with implicat...</td>\n",
              "    </tr>\n",
              "  </tbody>\n",
              "</table>\n",
              "<p>12782 rows × 6 columns</p>\n",
              "</div>"
            ],
            "text/plain": [
              "          id  ...                                           ref_from\n",
              "0          1  ...                                              noref\n",
              "1          2  ...        on the production of anorexic plan diagrams\n",
              "2          4  ...                                              noref\n",
              "3          5  ...                                              noref\n",
              "4          7  ...                                              noref\n",
              "...      ...  ...                                                ...\n",
              "12777  25553  ...  relaxed currency and consistency how to say go...\n",
              "12778  25556  ...  quasi static typing semantics for communicatio...\n",
              "12779  25558  ...  privacy preserving cox regression for survival...\n",
              "12780  25559  ...                                              noref\n",
              "12781  25560  ...  analysis of multimedia workloads with implicat...\n",
              "\n",
              "[12782 rows x 6 columns]"
            ]
          },
          "metadata": {
            "tags": []
          },
          "execution_count": 30
        }
      ]
    },
    {
      "cell_type": "code",
      "metadata": {
        "id": "fhRD7UBhVdFG",
        "colab_type": "code",
        "colab": {}
      },
      "source": [
        "test3[\"merged\"] = test3[\"title\"] +\" \"+ test3[\"ref_to\"] +\" \"+ test3[\"ref_from\"]"
      ],
      "execution_count": null,
      "outputs": []
    },
    {
      "cell_type": "code",
      "metadata": {
        "id": "SLfMDW2iFoxZ",
        "colab_type": "code",
        "colab": {
          "base_uri": "https://localhost:8080/",
          "height": 531
        },
        "outputId": "a484c8dd-1a5e-45e5-fd51-2f04bea4d62f"
      },
      "source": [
        "test3.head(10)"
      ],
      "execution_count": null,
      "outputs": [
        {
          "output_type": "execute_result",
          "data": {
            "text/html": [
              "<div>\n",
              "<style scoped>\n",
              "    .dataframe tbody tr th:only-of-type {\n",
              "        vertical-align: middle;\n",
              "    }\n",
              "\n",
              "    .dataframe tbody tr th {\n",
              "        vertical-align: top;\n",
              "    }\n",
              "\n",
              "    .dataframe thead th {\n",
              "        text-align: right;\n",
              "    }\n",
              "</style>\n",
              "<table border=\"1\" class=\"dataframe\">\n",
              "  <thead>\n",
              "    <tr style=\"text-align: right;\">\n",
              "      <th></th>\n",
              "      <th>id</th>\n",
              "      <th>title</th>\n",
              "      <th>Unnamed: 0</th>\n",
              "      <th>label</th>\n",
              "      <th>ref_to</th>\n",
              "      <th>ref_from</th>\n",
              "      <th>merged</th>\n",
              "    </tr>\n",
              "  </thead>\n",
              "  <tbody>\n",
              "    <tr>\n",
              "      <th>0</th>\n",
              "      <td>1</td>\n",
              "      <td>autodomainmine a graphical data mining system ...</td>\n",
              "      <td>12780</td>\n",
              "      <td>noref</td>\n",
              "      <td>what is the nearest neighbor in high dimension...</td>\n",
              "      <td>noref</td>\n",
              "      <td>autodomainmine a graphical data mining system ...</td>\n",
              "    </tr>\n",
              "    <tr>\n",
              "      <th>1</th>\n",
              "      <td>2</td>\n",
              "      <td>anipqo almost non intrusive parametric query o...</td>\n",
              "      <td>12781</td>\n",
              "      <td>noref</td>\n",
              "      <td>parametric query optimization optimization of ...</td>\n",
              "      <td>on the production of anorexic plan diagrams</td>\n",
              "      <td>anipqo almost non intrusive parametric query o...</td>\n",
              "    </tr>\n",
              "    <tr>\n",
              "      <th>2</th>\n",
              "      <td>4</td>\n",
              "      <td>selection and ranking of text from highly impe...</td>\n",
              "      <td>12782</td>\n",
              "      <td>noref</td>\n",
              "      <td>noref</td>\n",
              "      <td>noref</td>\n",
              "      <td>selection and ranking of text from highly impe...</td>\n",
              "    </tr>\n",
              "    <tr>\n",
              "      <th>3</th>\n",
              "      <td>5</td>\n",
              "      <td>conditional random fields for multi agent rein...</td>\n",
              "      <td>12783</td>\n",
              "      <td>noref</td>\n",
              "      <td>sequential optimality and coordination in mult...</td>\n",
              "      <td>noref</td>\n",
              "      <td>conditional random fields for multi agent rein...</td>\n",
              "    </tr>\n",
              "    <tr>\n",
              "      <th>4</th>\n",
              "      <td>7</td>\n",
              "      <td>multi dimensional description logics</td>\n",
              "      <td>12784</td>\n",
              "      <td>noref</td>\n",
              "      <td>noref</td>\n",
              "      <td>noref</td>\n",
              "      <td>multi dimensional description logics noref noref</td>\n",
              "    </tr>\n",
              "    <tr>\n",
              "      <th>5</th>\n",
              "      <td>10</td>\n",
              "      <td>fast on line index construction by geometric p...</td>\n",
              "      <td>12785</td>\n",
              "      <td>noref</td>\n",
              "      <td>the performance of three database storage stru...</td>\n",
              "      <td>low cost management of inverted files for onli...</td>\n",
              "      <td>fast on line index construction by geometric p...</td>\n",
              "    </tr>\n",
              "    <tr>\n",
              "      <th>6</th>\n",
              "      <td>12</td>\n",
              "      <td>reasoning about rings</td>\n",
              "      <td>12786</td>\n",
              "      <td>noref</td>\n",
              "      <td>abstract interpretation a unified lattice mode...</td>\n",
              "      <td>automatic verification of parameterized linear...</td>\n",
              "      <td>reasoning about rings abstract interpretation ...</td>\n",
              "    </tr>\n",
              "    <tr>\n",
              "      <th>7</th>\n",
              "      <td>14</td>\n",
              "      <td>transductive regression piloted by inter manif...</td>\n",
              "      <td>12787</td>\n",
              "      <td>noref</td>\n",
              "      <td>efficient co regularised least squares regress...</td>\n",
              "      <td>noref</td>\n",
              "      <td>transductive regression piloted by inter manif...</td>\n",
              "    </tr>\n",
              "    <tr>\n",
              "      <th>8</th>\n",
              "      <td>15</td>\n",
              "      <td>a fast and usually linear algorithm for global...</td>\n",
              "      <td>12788</td>\n",
              "      <td>noref</td>\n",
              "      <td>a unified approach to global program optimizat...</td>\n",
              "      <td>the program structure tree computing control r...</td>\n",
              "      <td>a fast and usually linear algorithm for global...</td>\n",
              "    </tr>\n",
              "    <tr>\n",
              "      <th>9</th>\n",
              "      <td>16</td>\n",
              "      <td>conditional constraint satisfaction logical fo...</td>\n",
              "      <td>12789</td>\n",
              "      <td>noref</td>\n",
              "      <td>noref</td>\n",
              "      <td>noref</td>\n",
              "      <td>conditional constraint satisfaction logical fo...</td>\n",
              "    </tr>\n",
              "  </tbody>\n",
              "</table>\n",
              "</div>"
            ],
            "text/plain": [
              "   id  ...                                             merged\n",
              "0   1  ...  autodomainmine a graphical data mining system ...\n",
              "1   2  ...  anipqo almost non intrusive parametric query o...\n",
              "2   4  ...  selection and ranking of text from highly impe...\n",
              "3   5  ...  conditional random fields for multi agent rein...\n",
              "4   7  ...   multi dimensional description logics noref noref\n",
              "5  10  ...  fast on line index construction by geometric p...\n",
              "6  12  ...  reasoning about rings abstract interpretation ...\n",
              "7  14  ...  transductive regression piloted by inter manif...\n",
              "8  15  ...  a fast and usually linear algorithm for global...\n",
              "9  16  ...  conditional constraint satisfaction logical fo...\n",
              "\n",
              "[10 rows x 7 columns]"
            ]
          },
          "metadata": {
            "tags": []
          },
          "execution_count": 32
        }
      ]
    },
    {
      "cell_type": "code",
      "metadata": {
        "colab_type": "code",
        "id": "_x8MMvk8Hlmt",
        "colab": {}
      },
      "source": [
        "# tokenize train data on the whole TEXT (train+test) to see the max sent_len\n",
        "tokenizer = Tokenizer(filters='!\"#$%&()*+,-./:;<=>?@[\\\\]^_`{|}~\\t\\n')\n",
        "tokenizer.fit_on_texts(text.title)\n",
        "t = tokenizer.texts_to_sequences(text.title)\n",
        "print(text.title[:10])\n",
        "print(t[:10])\n",
        "print(len(max(t, key=len)))\n",
        "word_index = tokenizer.word_index\n",
        "print('Found %s unique tokens.' % len(word_index))\n",
        "dict_len3 = len(word_index)\n",
        "sent_len = []\n",
        "for i in t:\n",
        "  sent_len.append(len(i))\n",
        "plt.hist(sent_len,bins=28)\n",
        "plt.show()"
      ],
      "execution_count": null,
      "outputs": []
    },
    {
      "cell_type": "code",
      "metadata": {
        "id": "c5pV6n1VIyX-",
        "colab_type": "code",
        "colab": {}
      },
      "source": [
        "ref_to = tokenizer.texts_to_sequences(cross_ref2.ref_to)\n",
        "ref_from = tokenizer.texts_to_sequences(cross_ref2.ref_from)\n",
        "merged = tokenizer.texts_to_sequences(train3.merged)"
      ],
      "execution_count": null,
      "outputs": []
    },
    {
      "cell_type": "code",
      "metadata": {
        "id": "rSe-7MEtcgXE",
        "colab_type": "code",
        "colab": {
          "base_uri": "https://localhost:8080/",
          "height": 87
        },
        "outputId": "29adf30b-3d12-4db2-b956-42b720753921"
      },
      "source": [
        "print(ref_to[:10])\n",
        "print(ref_from[:10])\n",
        "print(merged[:10])"
      ],
      "execution_count": null,
      "outputs": [
        {
          "output_type": "stream",
          "text": [
            "[[3, 59, 1, 55, 827, 8, 176, 35, 3695, 484, 1003, 1321, 5165, 161, 5, 8, 176], [142, 118, 1, 836, 119, 18, 19, 4360, 3, 90, 57, 1329, 18, 63, 617, 102, 4, 49, 596, 559, 988, 634, 9, 180, 58], [7090, 422, 56, 2207, 193, 56, 40, 10, 302, 8, 359, 210, 9, 326, 2, 261, 1166, 4, 750, 1075, 1, 40, 10, 143, 8, 176, 152, 37, 2250, 5, 3, 195, 2, 980, 476, 12, 3058, 4, 937, 10117, 475, 56, 146, 5, 49, 29, 14, 818, 980, 476, 1, 6, 130, 2, 704, 24, 56, 8, 6, 56, 15, 3, 154, 72, 888, 56, 210, 1160, 24, 56, 8, 12690, 3, 16, 1, 888, 4, 1548, 56, 704, 130, 2, 2340, 4674, 24, 56, 8], [74, 29, 1474, 4, 228, 1381], [53, 2233, 937, 4, 3721, 108, 1, 1092, 3324, 8, 230, 70, 8, 35, 1, 272, 108, 35, 484, 133, 416, 2229, 69, 35, 484, 1456, 319, 33, 3370, 975, 11, 160, 634, 9, 54, 1, 35, 272, 108, 35, 272, 108, 181, 319, 2, 1626, 5, 45, 29, 110, 58, 1, 35, 272, 108, 5, 45, 29], [], [6450, 3, 107, 26, 16, 1, 433, 26, 215], [], [3520, 6, 452, 3088, 3135, 77, 761, 447, 1, 1938, 1354, 48, 4, 770, 325], [86, 11, 142, 2, 18, 46, 19, 12, 74, 83]]\n",
            "[[], [1081, 651, 83, 1, 3, 195, 2, 165, 83, 40, 53, 23, 48, 517, 3438, 2, 663, 5, 6, 6095, 23, 43, 16], [], [], [185, 1200, 1866, 33, 1027, 6103], [], [], [], [], [226, 782, 5, 74, 29]]\n",
            "[[123, 239, 421, 2, 766, 9, 133, 5, 8, 176, 3, 59, 1, 55, 827, 8, 176, 35, 3695, 484, 1003, 1321, 5165, 161, 5, 8, 176], [49, 2612, 1299, 58, 4, 428, 57, 142, 118, 1, 836, 119, 18, 19, 4360, 3, 90, 57, 1329, 18, 63, 617, 102, 4, 49, 596, 559, 988, 634, 9, 180, 58, 1081, 651, 83, 1, 3, 195, 2, 165, 83, 40, 53, 23, 48, 517, 3438, 2, 663, 5, 6, 6095, 23, 43, 16], [2432, 56, 210, 6588, 530, 2, 2142, 980, 476, 7090, 422, 56, 2207, 193, 56, 40, 10, 302, 8, 359, 210, 9, 326, 2, 261, 1166, 4, 750, 1075, 1, 40, 10, 143, 8, 176, 152, 37, 2250, 5, 3, 195, 2, 980, 476, 12, 3058, 4, 937, 10117, 475, 56, 146, 5, 49, 29, 14, 818, 980, 476, 1, 6, 130, 2, 704, 24, 56, 8, 6, 56, 15, 3, 154, 72, 888, 56, 210, 1160, 24, 56, 8, 12690, 3, 16, 1, 888, 4, 1548, 56, 704, 130, 2, 2340, 4674, 24, 56, 8], [6589, 3, 346, 9, 17, 46, 16, 74, 29, 1474, 4, 228, 1381], [924, 568, 30, 156, 2, 484, 1626, 5, 45, 662, 5, 6, 106, 2, 123, 35, 53, 2233, 937, 4, 3721, 108, 1, 1092, 3324, 8, 230, 70, 8, 35, 1, 272, 108, 35, 484, 133, 416, 2229, 69, 35, 484, 1456, 319, 33, 3370, 975, 11, 160, 634, 9, 54, 1, 35, 272, 108, 35, 272, 108, 181, 319, 2, 1626, 5, 45, 29, 110, 58, 1, 35, 272, 108, 5, 45, 29, 185, 1200, 1866, 33, 1027, 6103], [266, 825, 2, 1897, 5, 1898, 192], [6590, 3, 127, 65, 375, 14, 7, 1300, 433, 26, 6450, 3, 107, 26, 16, 1, 433, 26, 215], [908, 6, 6592, 2143, 579, 6, 282, 2, 21, 3143, 5, 15, 767], [6593, 1030, 3, 6594, 1127, 283, 1, 6, 15, 10, 2615, 50, 3520, 6, 452, 3088, 3135, 77, 761, 447, 1, 1938, 1354, 48, 4, 770, 325], [114, 1207, 93, 1, 6, 67, 2, 74, 1627, 86, 11, 142, 2, 18, 46, 19, 12, 74, 83, 226, 782, 5, 74, 29]]\n"
          ],
          "name": "stdout"
        }
      ]
    },
    {
      "cell_type": "code",
      "metadata": {
        "id": "nRFb_raUdjZ3",
        "colab_type": "code",
        "colab": {
          "base_uri": "https://localhost:8080/",
          "height": 200
        },
        "outputId": "6405a921-547a-44cc-cfe7-ec1807410402"
      },
      "source": [
        "cross_ref2.ref_to[:10]"
      ],
      "execution_count": null,
      "outputs": [
        {
          "output_type": "execute_result",
          "data": {
            "text/plain": [
              "0    a framework for clustering evolving data strea...\n",
              "1    implementation techniques for main memory data...\n",
              "2    statix making xml count answering xml queries ...\n",
              "3    temporal databases   status and research direc...\n",
              "4    dynamic itemset counting and implication rules...\n",
              "5                                                noref\n",
              "6    gemini a natural language system for spoken la...\n",
              "7                                                noref\n",
              "8    knowing the users every move user activity tra...\n",
              "9    towards an implementation of database manageme...\n",
              "Name: ref_to, dtype: object"
            ]
          },
          "metadata": {
            "tags": []
          },
          "execution_count": 109
        }
      ]
    },
    {
      "cell_type": "code",
      "metadata": {
        "id": "XdxF8D9Uf9fT",
        "colab_type": "code",
        "colab": {
          "base_uri": "https://localhost:8080/",
          "height": 200
        },
        "outputId": "6622ce1a-67d7-4a3e-99a7-59b88d7bb9f5"
      },
      "source": [
        "cross_ref2.ref_from[:10]"
      ],
      "execution_count": null,
      "outputs": [
        {
          "output_type": "execute_result",
          "data": {
            "text/plain": [
              "0                                                noref\n",
              "1    providing better support for a class of decisi...\n",
              "2                                                noref\n",
              "3                                                noref\n",
              "4         pattern lattice traversal by selective jumps\n",
              "5                                                noref\n",
              "6                                                noref\n",
              "7                                                noref\n",
              "8                                                noref\n",
              "9             generalized events in temporal databases\n",
              "Name: ref_from, dtype: object"
            ]
          },
          "metadata": {
            "tags": []
          },
          "execution_count": 110
        }
      ]
    },
    {
      "cell_type": "code",
      "metadata": {
        "id": "PFjJsvcPJPhu",
        "colab_type": "code",
        "colab": {
          "base_uri": "https://localhost:8080/",
          "height": 282
        },
        "outputId": "623174d4-2278-4156-9b8f-39e0e389736d"
      },
      "source": [
        "print(len(max(ref_to, key=len)))\n",
        "sent_len_to = []\n",
        "for i in ref_to:\n",
        "  sent_len_to.append(len(i))\n",
        "\n",
        "plt.hist(sent_len_to,bins=28)\n",
        "plt.show()"
      ],
      "execution_count": null,
      "outputs": [
        {
          "output_type": "stream",
          "text": [
            "371\n"
          ],
          "name": "stdout"
        },
        {
          "output_type": "display_data",
          "data": {
            "image/png": "[encoded data removed]",
            "text/plain": [
              "<Figure size 432x288 with 1 Axes>"
            ]
          },
          "metadata": {
            "tags": []
          }
        }
      ]
    },
    {
      "cell_type": "code",
      "metadata": {
        "id": "7bgTQab1M1fA",
        "colab_type": "code",
        "colab": {
          "base_uri": "https://localhost:8080/",
          "height": 282
        },
        "outputId": "fea844af-a487-4e32-f767-b829e7e5f156"
      },
      "source": [
        "print(len(max(ref_from, key=len)))\n",
        "sent_len_from = []\n",
        "for i in ref_from:\n",
        "  sent_len_from.append(len(i))\n",
        "\n",
        "plt.hist(sent_len_from,bins=100)\n",
        "plt.show()"
      ],
      "execution_count": null,
      "outputs": [
        {
          "output_type": "stream",
          "text": [
            "2477\n"
          ],
          "name": "stdout"
        },
        {
          "output_type": "display_data",
          "data": {
            "image/png": "[encoded data removed]",
            "text/plain": [
              "<Figure size 432x288 with 1 Axes>"
            ]
          },
          "metadata": {
            "tags": []
          }
        }
      ]
    },
    {
      "cell_type": "code",
      "metadata": {
        "id": "MGMkknRejsFq",
        "colab_type": "code",
        "colab": {
          "base_uri": "https://localhost:8080/",
          "height": 282
        },
        "outputId": "bb18801e-fc05-40f3-afd1-d80311de0b75"
      },
      "source": [
        "print(len(max(merged, key=len)))\n",
        "sent_len_merged = []\n",
        "for i in merged:\n",
        "  sent_len_merged.append(len(i))\n",
        "\n",
        "plt.hist(sent_len_merged,bins=100)\n",
        "plt.show()"
      ],
      "execution_count": null,
      "outputs": [
        {
          "output_type": "stream",
          "text": [
            "2340\n"
          ],
          "name": "stdout"
        },
        {
          "output_type": "display_data",
          "data": {
            "image/png": "[encoded data removed]",
            "text/plain": [
              "<Figure size 432x288 with 1 Axes>"
            ]
          },
          "metadata": {
            "tags": []
          }
        }
      ]
    },
    {
      "cell_type": "code",
      "metadata": {
        "id": "qRzpvZH6_Wg1",
        "colab_type": "code",
        "colab": {}
      },
      "source": [
        "# tokenize train data (on the whole set of labeled data)\n",
        "X = tokenizer.texts_to_sequences(train.title)\n",
        "X = pad_sequences(X, maxlen=20)\n",
        "\n",
        "X_to = tokenizer.texts_to_sequences(train3.ref_to)\n",
        "X_to = pad_sequences(X_to, maxlen=100)\n",
        "\n",
        "X_from = tokenizer.texts_to_sequences(train3.ref_from)\n",
        "X_from = pad_sequences(X_from, maxlen=100)\n",
        "\n",
        "X_merged = tokenizer.texts_to_sequences(train3.merged)\n",
        "X_merged = pad_sequences(X_merged, maxlen=200)"
      ],
      "execution_count": null,
      "outputs": []
    },
    {
      "cell_type": "code",
      "metadata": {
        "id": "_AQaDYz-WUGT",
        "colab_type": "code",
        "colab": {}
      },
      "source": [
        "# TOKENIZE TEST SET\n",
        "\n",
        "X_new = tokenizer.texts_to_sequences(test3.title)\n",
        "X_new = pad_sequences(X_new, maxlen=20)\n",
        "\n",
        "X_new_to = tokenizer.texts_to_sequences(test3.ref_to)\n",
        "X_new_to = pad_sequences(X_new_to, maxlen=100)\n",
        "\n",
        "X_new_from = tokenizer.texts_to_sequences(test3.ref_from)\n",
        "X_new_from = pad_sequences(X_new_from, maxlen=100)\n",
        "\n",
        "X_new_merged = tokenizer.texts_to_sequences(test3.merged)\n",
        "X_new_merged = pad_sequences(X_new_merged, maxlen=200)"
      ],
      "execution_count": null,
      "outputs": []
    },
    {
      "cell_type": "code",
      "metadata": {
        "id": "ZpN4TczxPaz7",
        "colab_type": "code",
        "colab": {
          "base_uri": "https://localhost:8080/",
          "height": 367
        },
        "outputId": "35c58445-98b0-4f16-bcdb-12d9732f5988"
      },
      "source": [
        "X[:10]"
      ],
      "execution_count": null,
      "outputs": [
        {
          "output_type": "execute_result",
          "data": {
            "text/plain": [
              "array([[   0,    0,    0,    0,    0,    0,    0,    0,    0,    0,  123,\n",
              "         239,  421,    2,  766,    9,  133,    5,    8,  176],\n",
              "       [   0,    0,    0,    0,    0,    0,    0,    0,    0,    0,    0,\n",
              "           0,    0,   49, 2612, 1299,   58,    4,  428,   57],\n",
              "       [   0,    0,    0,    0,    0,    0,    0,    0,    0,    0,    0,\n",
              "        2432,   56,  210, 6588,  530,    2, 2142,  980,  476],\n",
              "       [   0,    0,    0,    0,    0,    0,    0,    0,    0,    0,    0,\n",
              "           0,    0, 6589,    3,  346,    9,   17,   46,   16],\n",
              "       [   0,    0,    0,    0,  924,  568,   30,  156,    2,  484, 1626,\n",
              "           5,   45,  662,    5,    6,  106,    2,  123,   35],\n",
              "       [   0,    0,    0,    0,    0,    0,    0,    0,    0,    0,    0,\n",
              "           0,    0,  266,  825,    2, 1897,    5, 1898,  192],\n",
              "       [   0,    0,    0,    0,    0,    0,    0,    0,    0,    0, 6590,\n",
              "           3,  127,   65,  375,   14,    7, 1300,  433,   26],\n",
              "       [   0,    0,    0,    0,    0,    0,    0,  908,    6, 6592, 2143,\n",
              "         579,    6,  282,    2,   21, 3143,    5,   15,  767],\n",
              "       [   0,    0,    0,    0,    0,    0,    0,    0, 6593, 1030,    3,\n",
              "        6594, 1127,  283,    1,    6,   15,   10, 2615,   50],\n",
              "       [   0,    0,    0,    0,    0,    0,    0,    0,    0,    0,    0,\n",
              "         114, 1207,   93,    1,    6,   67,    2,   74, 1627]],\n",
              "      dtype=int32)"
            ]
          },
          "metadata": {
            "tags": []
          },
          "execution_count": 116
        }
      ]
    },
    {
      "cell_type": "code",
      "metadata": {
        "id": "8OWcwp6HhUa9",
        "colab_type": "code",
        "colab": {
          "base_uri": "https://localhost:8080/",
          "height": 100
        },
        "outputId": "449f4200-d0cf-4ef6-ca85-ed423adf4988"
      },
      "source": [
        "X_to[1]"
      ],
      "execution_count": null,
      "outputs": [
        {
          "output_type": "execute_result",
          "data": {
            "text/plain": [
              "array([   0,    0,    0,    0,    0,    0,    0,    0,    0,    0,    0,\n",
              "          0,    0,    0,    0,    0,    0,    0,    0,    0,    0,    0,\n",
              "          0,    0,    0,  142,  118,    1,  836,  119,   18,   19, 4360,\n",
              "          3,   90,   57, 1329,   18,   63,  617,  102,    4,   49,  596,\n",
              "        559,  988,  634,    9,  180,   58], dtype=int32)"
            ]
          },
          "metadata": {
            "tags": []
          },
          "execution_count": 117
        }
      ]
    },
    {
      "cell_type": "code",
      "metadata": {
        "id": "xn_aFPDIhcxg",
        "colab_type": "code",
        "colab": {
          "base_uri": "https://localhost:8080/",
          "height": 100
        },
        "outputId": "f76c92af-7db0-4d76-9dfd-a730c550b0e8"
      },
      "source": [
        "X_from[1]"
      ],
      "execution_count": null,
      "outputs": [
        {
          "output_type": "execute_result",
          "data": {
            "text/plain": [
              "array([   0,    0,    0,    0,    0,    0,    0,    0,    0,    0,    0,\n",
              "          0,    0,    0,    0,    0,    0,    0,    0,    0,    0,    0,\n",
              "          0,    0,    0,    0,    0, 1081,  651,   83,    1,    3,  195,\n",
              "          2,  165,   83,   40,   53,   23,   48,  517, 3438,    2,  663,\n",
              "          5,    6, 6095,   23,   43,   16], dtype=int32)"
            ]
          },
          "metadata": {
            "tags": []
          },
          "execution_count": 118
        }
      ]
    },
    {
      "cell_type": "code",
      "metadata": {
        "id": "V1ws3paUl4Op",
        "colab_type": "code",
        "colab": {
          "base_uri": "https://localhost:8080/",
          "height": 333
        },
        "outputId": "5eaaee7d-6c18-4d16-8faa-82a25daf4118"
      },
      "source": [
        "X_merged[1]"
      ],
      "execution_count": null,
      "outputs": [
        {
          "output_type": "execute_result",
          "data": {
            "text/plain": [
              "array([   0,    0,    0,    0,    0,    0,    0,    0,    0,    0,    0,\n",
              "          0,    0,    0,    0,    0,    0,    0,    0,    0,    0,    0,\n",
              "          0,    0,    0,    0,    0,    0,    0,    0,    0,    0,    0,\n",
              "          0,    0,    0,    0,    0,    0,    0,    0,    0,    0,    0,\n",
              "          0,    0,    0,    0,    0,    0,    0,    0,    0,    0,    0,\n",
              "          0,    0,    0,    0,    0,    0,    0,    0,    0,    0,    0,\n",
              "          0,    0,    0,    0,    0,    0,    0,    0,    0,    0,    0,\n",
              "          0,    0,    0,    0,    0,    0,    0,    0,    0,    0,    0,\n",
              "          0,    0,    0,    0,    0,    0,    0,    0,    0,    0,    0,\n",
              "          0,    0,    0,    0,    0,    0,    0,    0,    0,    0,    0,\n",
              "          0,    0,    0,    0,    0,    0,    0,    0,    0,    0,    0,\n",
              "          0,    0,    0,    0,    0,    0,    0,    0,    0,    0,    0,\n",
              "          0,    0,    0,    0,    0,    0,    0,    0,    0,    0,    0,\n",
              "          0,    0,   49, 2612, 1299,   58,    4,  428,   57,  142,  118,\n",
              "          1,  836,  119,   18,   19, 4360,    3,   90,   57, 1329,   18,\n",
              "         63,  617,  102,    4,   49,  596,  559,  988,  634,    9,  180,\n",
              "         58, 1081,  651,   83,    1,    3,  195,    2,  165,   83,   40,\n",
              "         53,   23,   48,  517, 3438,    2,  663,    5,    6, 6095,   23,\n",
              "         43,   16], dtype=int32)"
            ]
          },
          "metadata": {
            "tags": []
          },
          "execution_count": 119
        }
      ]
    },
    {
      "cell_type": "code",
      "metadata": {
        "colab_type": "code",
        "id": "GIS1GRPNPqcv",
        "colab": {}
      },
      "source": [
        "# MAKE A SECOND DATA SPLIT\n",
        "X_train_, X_test_, Y_train_, Y_test_ = train_test_split(X, Y, test_size=0.2, random_state=245, shuffle=True)\n",
        "X_to_train_, X_to_test_, X_from_train_, X_from_test_ = train_test_split(X_to,X_from, test_size=0.2, random_state=245, shuffle=True)\n",
        "X_merged_train_, X_merged_test_ = train_test_split(X_merged, test_size=0.2, random_state=245, shuffle=True)\n",
        "X_train2_, X_test2_ = train_test_split(np.array(train2), test_size=0.2, random_state=245, shuffle=True)"
      ],
      "execution_count": null,
      "outputs": []
    },
    {
      "cell_type": "code",
      "metadata": {
        "id": "AN7PoNecGqvp",
        "colab_type": "code",
        "colab": {
          "base_uri": "https://localhost:8080/",
          "height": 433
        },
        "outputId": "58baacd0-1a5c-48af-86e5-a7dbf208d3e2"
      },
      "source": [
        "X_to_train_[:5]"
      ],
      "execution_count": null,
      "outputs": [
        {
          "output_type": "execute_result",
          "data": {
            "text/plain": [
              "array([[   0,    0,    0,    0,    0,    0,    0,    0,    0,    0,    0,\n",
              "           0,    0,    0,    0,    0,    0,    0,    0,    0,    0,    0,\n",
              "           0,    0,    0,    0,    0,    0,    0,    0,    0,    0,    0,\n",
              "           0,    0,    0,    0,    0,    0,    0,    0,    0,    0,    0,\n",
              "           0,    0,    0,    0,    0,    0],\n",
              "       [   0,    0,    0,    0,    0,    0,    0,    0,    0,    0,    0,\n",
              "           0,    0,    0,    0,    0,    0,    0,    0,    0,    0,    0,\n",
              "           0,    0,    0,    0,    0,    0,    0,    0,    0,    0,    0,\n",
              "           0,    0,   11,  172,   27,   20,    9,   10, 1798,   60,   24,\n",
              "         143,  146,    7,  516,   23, 1962],\n",
              "       [ 699,   35,  484,  161,    5,    3, 3142,   34, 1686,   51,   12,\n",
              "        1686, 2576,    4, 2181, 2576,  237,    3,  716, 2032,    2,   34,\n",
              "         378,  102,   52,   71,    2,   34, 1686,  329,  919, 2513,  586,\n",
              "         237,    1,   34,   51,  863,    6,  307, 2446,    5,   34,  378,\n",
              "         311,  152, 1279,    5,  152,   37],\n",
              "       [   0,    0,    0,    0,    0,    0,    0,    0,    0,    0,    0,\n",
              "           0,    0,    0,    0,    0,    0,    0,    0,    0,    0,    0,\n",
              "           0,    0,    0,    0,    0,    0,    0,    0,    0,    0,    0,\n",
              "           0,    0,    0,    0,    0,    0,    0,    0,    0,    0,    0,\n",
              "           0,    0,    0,    0,    0,    0],\n",
              "       [   0,    0,    0,    0,    0,    0,    0,    0,    0,    0,    0,\n",
              "           0,    0,    0,    0,    0,    0,    0,    0,    0,    0,    0,\n",
              "           0,    0,    0,    0,    0,    0,    0,    0,    0,    0,    0,\n",
              "           0,    0,    0,    0,    0,    0,    0,    0,    0,    0,    0,\n",
              "           0,    0,    0,    0,    0,    0]], dtype=int32)"
            ]
          },
          "metadata": {
            "tags": []
          },
          "execution_count": 83
        }
      ]
    },
    {
      "cell_type": "markdown",
      "metadata": {
        "id": "C40fgCMoQLaU",
        "colab_type": "text"
      },
      "source": [
        "### Training models + summary\n",
        "\n",
        "\"Merged\" means titles were merged in the following order: \"title\" + \"ref_to\" + \"ref_from\".\n",
        "\n",
        "3 separate embeddings means that \"title\" + \"ref_to\" + \"ref_from\" were inputed as three diff. embeddings (in diferent layers).\n",
        "\n",
        "3 concatenated embeddings means that \"title\" + \"ref_to\" + \"ref_from\" were concatenated (all with their paddings) before feeding to a model.\n",
        "\n",
        " in/out ref max size means per type of reference (eg. 50 per ref_to, 50 per ref_from). \n",
        "\n",
        "\n",
        "| Titles and in/out   refs  | Model                                    | Max input1 length                            | Max input2 length               | Loss   | Accuracy | Epoch |\n",
        "|---------------------------|------------------------------------------|----------------------------------------------|---------------------------------|--------|----------|-------|\n",
        "|                           |                                          | title size or merged title+ref size + references | in/out ref max size (*2) |        |          |       |\n",
        "| Merged                    | CNN(emb=100,hu=500,k=3,dense=250)        | 20                                           |  --                             | 0.6269 | 0.7883   | 3     |\n",
        "| Merged                    | CNN(emb=100,hu=500,k=3,dense=250)        | 50                                           |  --                             | 0.5589 | 0.8009   | 3     |\n",
        "| Merged                    | CNN(emb=100,hu=500,k=3,dense=250)        | 50                                           |  --                             | 0.56   | 0.8009   | 2     |\n",
        "| Merged                    | CNN(emb=100,hu=500,k=3,dense=250)        | 100                                          |  --                             | 0.54   | 0.802    | 2     |\n",
        "| Merged                    | CNN(emb=100,hu=500,k=3,dense=250)        | 200                                          |  --                             | **0.5304** | 0.8016   | 2     |\n",
        "|                           |                                          |                                              |                                 |        |          |       |\n",
        "| Merged                    | LSTM(emb=128,hu=128)                     | 50                                           |  --                             | 0.5494 | 0.8044   | 4     |\n",
        "| Merged                    | LSTM(emb=128,hu=128)                     | 100                                          |  --                             | 0.5704 | 0.7989   | 3     |\n",
        "| Merged                    | LSTM(emb=128,hu=128)                     | 200                                          |  --                             | **0.5435** | **0.8114**   | 4     |\n",
        "|                           |                                          |                                              |                                 |        |          |       |\n",
        "| Merged                    | CNN(emb=100, ks=3,4,5, hu=100,dense=500) | 50                                           |  --                             | 0.5426 | 0.8059   | 2     |\n",
        "| Merged                    | CNN(emb=100, ks=3,4,5, hu=100,dense=500) | 100                                          |  --                             |        |          |       |\n",
        "| Merged                    | CNN(emb=100, ks=3,4,5, hu=100,dense=500) | 200                                          |  --                             | 0.5441 | 0.8009   | 2     |\n",
        "|                           |                                          |                                              |                                 |        |          |       |\n",
        "| 3 separate embeddings     | CNN(emb=100,k=3,hu=100,dense=500)        | 20                                           | 50                              | 0.5524 | 0.7985   | 3     |\n",
        "| 3 separate embeddings     | CNN(emb=100,k=3,hu=100,dense=500)        | 20                                           | 100                             | 0.5519 | 0.8024   | 3     |\n",
        "|                           |                                          |                                              |                                 |        |          |       |\n",
        "| 3 concatenated embeddings | CNN(emb=100,k=3,hu=500,dense=250)        | 20                                           | 100                             | 0.5387 | 0.802    | 2     |\n",
        "| 3 concatenated embeddings | CNN(emb=100,k=3,hu=500,dense=250)        | 20                                           | 100                             | 0.5487 | 0.8056   | 3     |\n",
        "|                           |                                          |                                              |                                 |        |          |       |\n",
        "| 3 concatenated embeddings | CNN(emb=100, ks=3,4,5, hu=100,dense=500) | 20                                           | 50                              | 0.5815 | 0.8087   | 2     |\n",
        "| 3 concatenated embeddings | CNN(emb=100, ks=3,4,5, hu=100,dense=500) | 20                                           | 100                             | 0.5494 | 0.8083   | 3     |\n",
        "| 3 concatenated embeddings | CNN(emb=100, ks=4,6,8, hu=100,dense=500) | 20                                           | 50                              | **0.5402** | **0.8071**   | 4     |\n",
        "| 3 concatenated embeddings | CNN(emb=100, ks=4,6,8, hu=100,dense=500) | 20                                           | 100                             | **0.5351** | **0.8075**   | 3     |\n",
        "|                           |                                          |                                              |                                 |        |          |       |\n",
        "| 3 concatenated embeddings | LSTM(emb=128,hu=128), RMSprop lr=0.01    | 20                                           | 50                              | 0.5632 | 0.8052   | 3     |\n",
        "| 3 concatenated embeddings | LSTM(emb=128,hu=128), RMSprop lr=0.01    | 20                                           | 100                             | 0.596  | 0.7903   | 4     |"
      ]
    },
    {
      "cell_type": "markdown",
      "metadata": {
        "id": "xLJCnp7GpnHQ",
        "colab_type": "text"
      },
      "source": [
        "#### With only MERGED titles/refs"
      ]
    },
    {
      "cell_type": "markdown",
      "metadata": {
        "id": "CiDMzaebuFP0",
        "colab_type": "text"
      },
      "source": [
        "##### CNN"
      ]
    },
    {
      "cell_type": "code",
      "metadata": {
        "id": "-zUyrhVImT63",
        "colab_type": "code",
        "colab": {
          "base_uri": "https://localhost:8080/",
          "height": 600
        },
        "outputId": "1f01f851-ac5f-4f0e-b0a6-e9ae1bd1645f"
      },
      "source": [
        "# with input_length=20\n",
        "\n",
        "np.random.seed(42)\n",
        "random.seed(12345)\n",
        "session_conf = tf.compat.v1.ConfigProto(intra_op_parallelism_threads=1,\n",
        "                              inter_op_parallelism_threads=1)\n",
        "tf.compat.v1.set_random_seed(1234) \n",
        "\n",
        "kernel_size = 3\n",
        "\n",
        "model = Sequential()\n",
        "model.add(Embedding(dict_len3 + 1, output_dim=100,\n",
        "                    input_length=20))\n",
        "model.add(Dropout(0.2))\n",
        "model.add(Conv1D(500,\n",
        "                 kernel_size,\n",
        "#  \"valid\" means \"no padding\". \"same\" results in padding the input such that the output has the same length as the original input.\n",
        "                 padding='same', # changed padding here; 0.78p better with \"same\"\n",
        "                 activation='relu',\n",
        "                 strides=1))\n",
        "model.add(GlobalMaxPooling1D())\n",
        "model.add(Dense(250))\n",
        "# model.add(Dropout(0.2)) # REMOVED DROPOUT HERE\n",
        "model.add(Activation('relu'))\n",
        "model.add(Dense(5, activation=\"softmax\"))  \n",
        "model.compile(loss='categorical_crossentropy', optimizer='RMSprop', metrics=['accuracy'])\n",
        "model.summary()\n",
        "history = model.fit(X_merged_train_, Y_train_, validation_data = (X_merged_test_, Y_test_), batch_size=64, epochs=5) \n",
        "model.evaluate(X_test, Y_test)"
      ],
      "execution_count": null,
      "outputs": [
        {
          "output_type": "stream",
          "text": [
            "Model: \"sequential_4\"\n",
            "_________________________________________________________________\n",
            "Layer (type)                 Output Shape              Param #   \n",
            "=================================================================\n",
            "embedding_5 (Embedding)      (None, 20, 100)           1327400   \n",
            "_________________________________________________________________\n",
            "dropout_5 (Dropout)          (None, 20, 100)           0         \n",
            "_________________________________________________________________\n",
            "conv1d_5 (Conv1D)            (None, 20, 500)           150500    \n",
            "_________________________________________________________________\n",
            "global_max_pooling1d_5 (Glob (None, 500)               0         \n",
            "_________________________________________________________________\n",
            "dense_10 (Dense)             (None, 250)               125250    \n",
            "_________________________________________________________________\n",
            "activation_11 (Activation)   (None, 250)               0         \n",
            "_________________________________________________________________\n",
            "dense_11 (Dense)             (None, 5)                 1255      \n",
            "=================================================================\n",
            "Total params: 1,604,405\n",
            "Trainable params: 1,604,405\n",
            "Non-trainable params: 0\n",
            "_________________________________________________________________\n",
            "Train on 10223 samples, validate on 2556 samples\n",
            "Epoch 1/5\n",
            "10223/10223 [==============================] - 11s 1ms/sample - loss: 0.9428 - accuracy: 0.6483 - val_loss: 0.6760 - val_accuracy: 0.7586\n",
            "Epoch 2/5\n",
            "10223/10223 [==============================] - 11s 1ms/sample - loss: 0.5465 - accuracy: 0.8035 - val_loss: 0.6269 - val_accuracy: 0.7703\n",
            "Epoch 3/5\n",
            "10223/10223 [==============================] - 10s 1ms/sample - loss: 0.4329 - accuracy: 0.8455 - val_loss: 0.6113 - val_accuracy: 0.7883\n",
            "Epoch 4/5\n",
            "10223/10223 [==============================] - 11s 1ms/sample - loss: 0.3506 - accuracy: 0.8753 - val_loss: 0.6790 - val_accuracy: 0.7633\n",
            "Epoch 5/5\n",
            "10223/10223 [==============================] - 11s 1ms/sample - loss: 0.2905 - accuracy: 0.8998 - val_loss: 0.6581 - val_accuracy: 0.7848\n",
            "2556/2556 [==============================] - 0s 178us/sample - loss: 3.1249 - accuracy: 0.2520\n"
          ],
          "name": "stdout"
        },
        {
          "output_type": "execute_result",
          "data": {
            "text/plain": [
              "[3.1248556922112645, 0.2519562]"
            ]
          },
          "metadata": {
            "tags": []
          },
          "execution_count": 129
        }
      ]
    },
    {
      "cell_type": "code",
      "metadata": {
        "id": "YTV2LHMkpkm6",
        "colab_type": "code",
        "colab": {
          "base_uri": "https://localhost:8080/",
          "height": 567
        },
        "outputId": "77dbb66b-ea86-4b9a-9a52-7c217be4ae9d"
      },
      "source": [
        "# with input_length=50\n",
        "\n",
        "np.random.seed(42)\n",
        "random.seed(12345)\n",
        "session_conf = tf.compat.v1.ConfigProto(intra_op_parallelism_threads=1,\n",
        "                              inter_op_parallelism_threads=1)\n",
        "tf.compat.v1.set_random_seed(1234) \n",
        "\n",
        "kernel_size = 3\n",
        "\n",
        "model = Sequential()\n",
        "model.add(Embedding(dict_len3 + 1, output_dim=100,\n",
        "                    input_length=50))\n",
        "model.add(Dropout(0.2))\n",
        "model.add(Conv1D(500,\n",
        "                 kernel_size,\n",
        "#  \"valid\" means \"no padding\". \"same\" results in padding the input such that the output has the same length as the original input.\n",
        "                 padding='same', # changed padding here; 0.78p better with \"same\"\n",
        "                 activation='relu',\n",
        "                 strides=1))\n",
        "model.add(GlobalMaxPooling1D())\n",
        "model.add(Dense(250))\n",
        "# model.add(Dropout(0.2)) # REMOVED DROPOUT HERE\n",
        "model.add(Activation('relu'))\n",
        "model.add(Dense(5, activation=\"softmax\"))  \n",
        "model.compile(loss='categorical_crossentropy', optimizer='RMSprop', metrics=['accuracy'])\n",
        "model.summary()\n",
        "history = model.fit(X_merged_train_, Y_train_, validation_data = (X_merged_test_, Y_test_), batch_size=64, epochs=5) "
      ],
      "execution_count": null,
      "outputs": [
        {
          "output_type": "stream",
          "text": [
            "Model: \"sequential_7\"\n",
            "_________________________________________________________________\n",
            "Layer (type)                 Output Shape              Param #   \n",
            "=================================================================\n",
            "embedding_10 (Embedding)     (None, 50, 100)           1327400   \n",
            "_________________________________________________________________\n",
            "dropout_10 (Dropout)         (None, 50, 100)           0         \n",
            "_________________________________________________________________\n",
            "conv1d_10 (Conv1D)           (None, 50, 500)           150500    \n",
            "_________________________________________________________________\n",
            "global_max_pooling1d_10 (Glo (None, 500)               0         \n",
            "_________________________________________________________________\n",
            "dense_20 (Dense)             (None, 250)               125250    \n",
            "_________________________________________________________________\n",
            "activation_14 (Activation)   (None, 250)               0         \n",
            "_________________________________________________________________\n",
            "dense_21 (Dense)             (None, 5)                 1255      \n",
            "=================================================================\n",
            "Total params: 1,604,405\n",
            "Trainable params: 1,604,405\n",
            "Non-trainable params: 0\n",
            "_________________________________________________________________\n",
            "Train on 10223 samples, validate on 2556 samples\n",
            "Epoch 1/5\n",
            "10223/10223 [==============================] - 19s 2ms/sample - loss: 0.9104 - accuracy: 0.6542 - val_loss: 0.6262 - val_accuracy: 0.7656\n",
            "Epoch 2/5\n",
            "10223/10223 [==============================] - 19s 2ms/sample - loss: 0.5071 - accuracy: 0.8156 - val_loss: 0.5921 - val_accuracy: 0.7907\n",
            "Epoch 3/5\n",
            "10223/10223 [==============================] - 19s 2ms/sample - loss: 0.4003 - accuracy: 0.8575 - val_loss: 0.5589 - val_accuracy: 0.8009\n",
            "Epoch 4/5\n",
            "10223/10223 [==============================] - 19s 2ms/sample - loss: 0.3260 - accuracy: 0.8887 - val_loss: 0.6348 - val_accuracy: 0.7790\n",
            "Epoch 5/5\n",
            "10223/10223 [==============================] - 19s 2ms/sample - loss: 0.2596 - accuracy: 0.9093 - val_loss: 0.6166 - val_accuracy: 0.8009\n"
          ],
          "name": "stdout"
        }
      ]
    },
    {
      "cell_type": "code",
      "metadata": {
        "colab_type": "code",
        "id": "p5IPXZor6ecZ",
        "colab": {
          "base_uri": "https://localhost:8080/",
          "height": 200
        },
        "outputId": "7fc0831a-d0a4-4973-9ae8-552a9643d579"
      },
      "source": [
        "# with input_length=50, compatible seed with other models below\n",
        "\n",
        "np.random.seed(5)\n",
        "random.seed(5)\n",
        "session_conf = tf.compat.v1.ConfigProto(intra_op_parallelism_threads=1,\n",
        "                              inter_op_parallelism_threads=1)\n",
        "tf.compat.v1.set_random_seed(5) \n",
        "\n",
        "kernel_size = 3\n",
        "\n",
        "model = Sequential()\n",
        "model.add(Embedding(dict_len3 + 1, output_dim=100,input_length=50))\n",
        "model.add(Dropout(0.2))\n",
        "model.add(Conv1D(500,\n",
        "                 kernel_size,\n",
        "#  \"valid\" means \"no padding\". \"same\" results in padding the input such that the output has the same length as the original input.\n",
        "                 padding='same', # changed padding here; 0.78p better with \"same\"\n",
        "                 activation='relu',\n",
        "                 strides=1))\n",
        "model.add(GlobalMaxPooling1D())\n",
        "model.add(Dense(250))\n",
        "# model.add(Dropout(0.2)) # REMOVED DROPOUT HERE\n",
        "model.add(Activation('relu'))\n",
        "model.add(Dense(5, activation=\"softmax\"))  \n",
        "model.compile(loss='categorical_crossentropy', optimizer='RMSprop', metrics=['accuracy'])\n",
        "# model.summary()\n",
        "history = model.fit(X_merged_train_, Y_train_, validation_data = (X_merged_test_, Y_test_), batch_size=64, epochs=5) "
      ],
      "execution_count": null,
      "outputs": [
        {
          "output_type": "stream",
          "text": [
            "Train on 10223 samples, validate on 2556 samples\n",
            "Epoch 1/5\n",
            "10223/10223 [==============================] - 19s 2ms/sample - loss: 0.9057 - accuracy: 0.6540 - val_loss: 0.6246 - val_accuracy: 0.7825\n",
            "Epoch 2/5\n",
            "10223/10223 [==============================] - 18s 2ms/sample - loss: 0.5097 - accuracy: 0.8180 - val_loss: 0.5600 - val_accuracy: 0.8009\n",
            "Epoch 3/5\n",
            "10223/10223 [==============================] - 18s 2ms/sample - loss: 0.4058 - accuracy: 0.8532 - val_loss: 0.5852 - val_accuracy: 0.7872\n",
            "Epoch 4/5\n",
            "10223/10223 [==============================] - 18s 2ms/sample - loss: 0.3322 - accuracy: 0.8834 - val_loss: 0.5718 - val_accuracy: 0.7938\n",
            "Epoch 5/5\n",
            "10223/10223 [==============================] - 18s 2ms/sample - loss: 0.2677 - accuracy: 0.9079 - val_loss: 0.6291 - val_accuracy: 0.7844\n"
          ],
          "name": "stdout"
        }
      ]
    },
    {
      "cell_type": "code",
      "metadata": {
        "id": "q4qyaVOy-eZO",
        "colab_type": "code",
        "colab": {
          "base_uri": "https://localhost:8080/",
          "height": 200
        },
        "outputId": "8fb4e6fe-568b-45b8-c3eb-33640ec781bd"
      },
      "source": [
        "# with input_length=100, compatible seed with other models below\n",
        "\n",
        "np.random.seed(5)\n",
        "random.seed(5)\n",
        "session_conf = tf.compat.v1.ConfigProto(intra_op_parallelism_threads=1,\n",
        "                              inter_op_parallelism_threads=1)\n",
        "tf.compat.v1.set_random_seed(5) \n",
        "\n",
        "kernel_size = 3\n",
        "\n",
        "model = Sequential()\n",
        "model.add(Embedding(dict_len3 + 1, output_dim=100,input_length=100))\n",
        "model.add(Dropout(0.2))\n",
        "model.add(Conv1D(500,\n",
        "                 kernel_size,\n",
        "#  \"valid\" means \"no padding\". \"same\" results in padding the input such that the output has the same length as the original input.\n",
        "                 padding='same', # changed padding here; 0.78p better with \"same\"\n",
        "                 activation='relu',\n",
        "                 strides=1))\n",
        "model.add(GlobalMaxPooling1D())\n",
        "model.add(Dense(250))\n",
        "# model.add(Dropout(0.2)) # REMOVED DROPOUT HERE\n",
        "model.add(Activation('relu'))\n",
        "model.add(Dense(5, activation=\"softmax\"))  \n",
        "model.compile(loss='categorical_crossentropy', optimizer='RMSprop', metrics=['accuracy'])\n",
        "# model.summary()\n",
        "history = model.fit(X_merged_train_, Y_train_, validation_data = (X_merged_test_, Y_test_), batch_size=64, epochs=5) "
      ],
      "execution_count": null,
      "outputs": [
        {
          "output_type": "stream",
          "text": [
            "Train on 10223 samples, validate on 2556 samples\n",
            "Epoch 1/5\n",
            "10223/10223 [==============================] - 30s 3ms/sample - loss: 0.8891 - accuracy: 0.6665 - val_loss: 0.6107 - val_accuracy: 0.7840\n",
            "Epoch 2/5\n",
            "10223/10223 [==============================] - 29s 3ms/sample - loss: 0.4963 - accuracy: 0.8226 - val_loss: 0.5400 - val_accuracy: 0.8020\n",
            "Epoch 3/5\n",
            "10223/10223 [==============================] - 29s 3ms/sample - loss: 0.3934 - accuracy: 0.8587 - val_loss: 0.5555 - val_accuracy: 0.7969\n",
            "Epoch 4/5\n",
            "10223/10223 [==============================] - 29s 3ms/sample - loss: 0.3268 - accuracy: 0.8856 - val_loss: 0.5519 - val_accuracy: 0.7958\n",
            "Epoch 5/5\n",
            "10223/10223 [==============================] - 29s 3ms/sample - loss: 0.2644 - accuracy: 0.9104 - val_loss: 0.5987 - val_accuracy: 0.7887\n"
          ],
          "name": "stdout"
        }
      ]
    },
    {
      "cell_type": "code",
      "metadata": {
        "id": "YUqUZNUumuEj",
        "colab_type": "code",
        "colab": {
          "base_uri": "https://localhost:8080/",
          "height": 200
        },
        "outputId": "63f1ecef-0fc5-4ed6-b14a-53552157e8e0"
      },
      "source": [
        "# with input_length=200, compatible seed with other models below\n",
        "\n",
        "np.random.seed(5)\n",
        "random.seed(5)\n",
        "session_conf = tf.compat.v1.ConfigProto(intra_op_parallelism_threads=1,\n",
        "                              inter_op_parallelism_threads=1)\n",
        "tf.compat.v1.set_random_seed(5) \n",
        "\n",
        "kernel_size = 3\n",
        "\n",
        "model = Sequential()\n",
        "model.add(Embedding(dict_len3 + 1, output_dim=100,input_length=200))\n",
        "model.add(Dropout(0.2))\n",
        "model.add(Conv1D(500,\n",
        "                 kernel_size,\n",
        "#  \"valid\" means \"no padding\". \"same\" results in padding the input such that the output has the same length as the original input.\n",
        "                 padding='same', # changed padding here; 0.78p better with \"same\"\n",
        "                 activation='relu',\n",
        "                 strides=1))\n",
        "model.add(GlobalMaxPooling1D())\n",
        "model.add(Dense(250))\n",
        "# model.add(Dropout(0.2)) # REMOVED DROPOUT HERE\n",
        "model.add(Activation('relu'))\n",
        "model.add(Dense(5, activation=\"softmax\"))  \n",
        "model.compile(loss='categorical_crossentropy', optimizer='RMSprop', metrics=['accuracy'])\n",
        "# model.summary()\n",
        "history = model.fit(X_merged_train_, Y_train_, validation_data = (X_merged_test_, Y_test_), batch_size=64, epochs=5) "
      ],
      "execution_count": null,
      "outputs": [
        {
          "output_type": "stream",
          "text": [
            "Train on 10223 samples, validate on 2556 samples\n",
            "Epoch 1/5\n",
            "10223/10223 [==============================] - 53s 5ms/sample - loss: 0.8956 - accuracy: 0.6660 - val_loss: 0.6186 - val_accuracy: 0.7813\n",
            "Epoch 2/5\n",
            "10223/10223 [==============================] - 52s 5ms/sample - loss: 0.4962 - accuracy: 0.8231 - val_loss: 0.5304 - val_accuracy: 0.8016\n",
            "Epoch 3/5\n",
            "10223/10223 [==============================] - 53s 5ms/sample - loss: 0.3924 - accuracy: 0.8587 - val_loss: 0.5562 - val_accuracy: 0.7981\n",
            "Epoch 4/5\n",
            "10223/10223 [==============================] - 54s 5ms/sample - loss: 0.3222 - accuracy: 0.8866 - val_loss: 0.5579 - val_accuracy: 0.7989\n",
            "Epoch 5/5\n",
            "10223/10223 [==============================] - 54s 5ms/sample - loss: 0.2626 - accuracy: 0.9078 - val_loss: 0.5904 - val_accuracy: 0.7962\n"
          ],
          "name": "stdout"
        }
      ]
    },
    {
      "cell_type": "markdown",
      "metadata": {
        "id": "uTcupetaoqXo",
        "colab_type": "text"
      },
      "source": [
        "##### CNN from paper"
      ]
    },
    {
      "cell_type": "code",
      "metadata": {
        "id": "jUxuz7Mttr52",
        "colab_type": "code",
        "colab": {
          "base_uri": "https://localhost:8080/",
          "height": 200
        },
        "outputId": "db9aabe3-fc08-47bf-d299-07167b133576"
      },
      "source": [
        "# input length = 50\n",
        "\n",
        "def custom_CNN(input_length=50,vocab_size=dict_len3+1,emb_dim = 100):\n",
        "  # define CNN layer\n",
        "  inputs1 = Input(shape=(input_length,))\n",
        "  emb1 = Embedding(vocab_size, emb_dim)(inputs1)\n",
        "  conv1 = Conv1D(filters=100, kernel_size=3, padding='same', activation='relu', strides=1)(emb1)\n",
        "  drop1 = Dropout(0.5)(conv1)\n",
        "  pool1 = MaxPooling1D(pool_size=2)(drop1)\n",
        "  flat1 = Flatten()(pool1)\n",
        "\n",
        "  inputs2 = Input(shape=(input_length,))\n",
        "  emb2 = Embedding(vocab_size, emb_dim)(inputs2)\n",
        "  conv2 = Conv1D(filters=100, kernel_size=4, padding='same', activation='relu', strides=1)(emb2)\n",
        "  drop2 = Dropout(0.5)(conv2)\n",
        "  pool2 = MaxPooling1D(pool_size=2)(drop2)\n",
        "  flat2 = Flatten()(pool2)\n",
        "\n",
        "  inputs3 = Input(shape=(input_length,))\n",
        "  emb3 = Embedding(vocab_size, emb_dim)(inputs3)\n",
        "  conv3 = Conv1D(filters=100, kernel_size=5, padding='same', activation='relu', strides=1)(emb3)\n",
        "  drop3 = Dropout(0.5)(conv3)\n",
        "  pool3 = MaxPooling1D(pool_size=2)(drop3)\n",
        "  flat3 = Flatten()(pool3)\n",
        "\n",
        "  # merge CNN output with reference stats\n",
        "  merged = concatenate([flat1, flat2, flat3])\n",
        "\n",
        "  dense1 = Dense(500, activation='relu')(merged)\n",
        "  outputs = Dense(5, activation=\"softmax\")(dense1)\n",
        "  model = Model(inputs=[inputs1, inputs2, inputs3], outputs=outputs)\n",
        "  model.compile(loss='categorical_crossentropy', optimizer='RMSprop', metrics=['accuracy'])\n",
        "  # print(model.summary())\n",
        "  # plot_model(model, show_shapes=True, to_file='multichannel.png')\n",
        "  return model\n",
        "\n",
        "np.random.seed(5)\n",
        "random.seed(5)\n",
        "session_conf = tf.compat.v1.ConfigProto(intra_op_parallelism_threads=1,\n",
        "                              inter_op_parallelism_threads=1)\n",
        "tf.compat.v1.set_random_seed(5)\n",
        "\n",
        "model = custom_CNN(input_length=50, vocab_size=dict_len3+1,emb_dim = 100)\n",
        "history = model.fit(x=[X_merged_train_,X_merged_train_,X_merged_train_], y=Y_train_, \n",
        "                    validation_data = ([X_merged_test_,X_merged_test_,X_merged_test_], Y_test_), batch_size=64, epochs=5) \n",
        "# save the model\n",
        "# model.save('model.h5')"
      ],
      "execution_count": null,
      "outputs": [
        {
          "output_type": "stream",
          "text": [
            "Train on 10223 samples, validate on 2556 samples\n",
            "Epoch 1/5\n",
            "10223/10223 [==============================] - 26s 3ms/sample - loss: 0.8278 - accuracy: 0.6861 - val_loss: 0.5671 - val_accuracy: 0.8059\n",
            "Epoch 2/5\n",
            "10223/10223 [==============================] - 25s 2ms/sample - loss: 0.4121 - accuracy: 0.8539 - val_loss: 0.5426 - val_accuracy: 0.8059\n",
            "Epoch 3/5\n",
            "10223/10223 [==============================] - 24s 2ms/sample - loss: 0.2517 - accuracy: 0.9103 - val_loss: 0.5958 - val_accuracy: 0.7950\n",
            "Epoch 4/5\n",
            "10223/10223 [==============================] - 23s 2ms/sample - loss: 0.1169 - accuracy: 0.9610 - val_loss: 0.7285 - val_accuracy: 0.7762\n",
            "Epoch 5/5\n",
            "10223/10223 [==============================] - 23s 2ms/sample - loss: 0.0476 - accuracy: 0.9855 - val_loss: 0.8951 - val_accuracy: 0.7833\n"
          ],
          "name": "stdout"
        }
      ]
    },
    {
      "cell_type": "code",
      "metadata": {
        "id": "fXgtwDQ0uusW",
        "colab_type": "code",
        "colab": {
          "base_uri": "https://localhost:8080/",
          "height": 200
        },
        "outputId": "270aff00-0d49-47ea-c7d8-81dfc8fc342a"
      },
      "source": [
        "# input length = 100\n",
        "\n",
        "def custom_CNN(input_length=100,vocab_size=dict_len3+1,emb_dim = 100):\n",
        "  # define CNN layer\n",
        "  inputs1 = Input(shape=(input_length,))\n",
        "  emb1 = Embedding(vocab_size, emb_dim)(inputs1)\n",
        "  conv1 = Conv1D(filters=100, kernel_size=3, padding='same', activation='relu', strides=1)(emb1)\n",
        "  drop1 = Dropout(0.5)(conv1)\n",
        "  pool1 = MaxPooling1D(pool_size=2)(drop1)\n",
        "  flat1 = Flatten()(pool1)\n",
        "\n",
        "  inputs2 = Input(shape=(input_length,))\n",
        "  emb2 = Embedding(vocab_size, emb_dim)(inputs2)\n",
        "  conv2 = Conv1D(filters=100, kernel_size=4, padding='same', activation='relu', strides=1)(emb2)\n",
        "  drop2 = Dropout(0.5)(conv2)\n",
        "  pool2 = MaxPooling1D(pool_size=2)(drop2)\n",
        "  flat2 = Flatten()(pool2)\n",
        "\n",
        "  inputs3 = Input(shape=(input_length,))\n",
        "  emb3 = Embedding(vocab_size, emb_dim)(inputs3)\n",
        "  conv3 = Conv1D(filters=100, kernel_size=5, padding='same', activation='relu', strides=1)(emb3)\n",
        "  drop3 = Dropout(0.5)(conv3)\n",
        "  pool3 = MaxPooling1D(pool_size=2)(drop3)\n",
        "  flat3 = Flatten()(pool3)\n",
        "\n",
        "  # merge CNN output with reference stats\n",
        "  merged = concatenate([flat1, flat2, flat3])\n",
        "\n",
        "  dense1 = Dense(500, activation='relu')(merged)\n",
        "  outputs = Dense(5, activation=\"softmax\")(dense1)\n",
        "  model = Model(inputs=[inputs1, inputs2, inputs3], outputs=outputs)\n",
        "  model.compile(loss='categorical_crossentropy', optimizer='RMSprop', metrics=['accuracy'])\n",
        "  # print(model.summary())\n",
        "  # plot_model(model, show_shapes=True, to_file='multichannel.png')\n",
        "  return model\n",
        "\n",
        "np.random.seed(5)\n",
        "random.seed(5)\n",
        "session_conf = tf.compat.v1.ConfigProto(intra_op_parallelism_threads=1,\n",
        "                              inter_op_parallelism_threads=1)\n",
        "tf.compat.v1.set_random_seed(5)\n",
        "\n",
        "model = custom_CNN(input_length=100, vocab_size=dict_len3+1,emb_dim = 100)\n",
        "history = model.fit(x=[X_merged_train_,X_merged_train_,X_merged_train_], y=Y_train_, \n",
        "                    validation_data = ([X_merged_test_,X_merged_test_,X_merged_test_], Y_test_), batch_size=64, epochs=5) \n",
        "# save the model\n",
        "# model.save('model.h5')"
      ],
      "execution_count": null,
      "outputs": [
        {
          "output_type": "stream",
          "text": [
            "Train on 10223 samples, validate on 2556 samples\n",
            "Epoch 1/5\n",
            "10223/10223 [==============================] - 44s 4ms/sample - loss: 0.8429 - accuracy: 0.6908 - val_loss: 0.5740 - val_accuracy: 0.8036\n",
            "Epoch 2/5\n",
            "10223/10223 [==============================] - 43s 4ms/sample - loss: 0.4068 - accuracy: 0.8554 - val_loss: 0.5339 - val_accuracy: 0.8056\n",
            "Epoch 3/5\n",
            "10223/10223 [==============================] - 43s 4ms/sample - loss: 0.2452 - accuracy: 0.9130 - val_loss: 0.6049 - val_accuracy: 0.7915\n",
            "Epoch 4/5\n",
            "10223/10223 [==============================] - 43s 4ms/sample - loss: 0.1163 - accuracy: 0.9597 - val_loss: 0.7270 - val_accuracy: 0.7852\n",
            "Epoch 5/5\n",
            "10223/10223 [==============================] - 42s 4ms/sample - loss: 0.0487 - accuracy: 0.9855 - val_loss: 0.9034 - val_accuracy: 0.7817\n"
          ],
          "name": "stdout"
        }
      ]
    },
    {
      "cell_type": "code",
      "metadata": {
        "colab_type": "code",
        "id": "VP-BXEaWoouP",
        "colab": {
          "base_uri": "https://localhost:8080/",
          "height": 200
        },
        "outputId": "f99a977d-c9e8-4302-d1cf-32ac11bb9f2a"
      },
      "source": [
        "# input length = 200\n",
        "\n",
        "def custom_CNN(input_length=200,vocab_size=dict_len3+1,emb_dim = 100):\n",
        "  # define CNN layer\n",
        "  inputs1 = Input(shape=(input_length,))\n",
        "  emb1 = Embedding(vocab_size, emb_dim)(inputs1)\n",
        "  conv1 = Conv1D(filters=100, kernel_size=3, padding='same', activation='relu', strides=1)(emb1)\n",
        "  drop1 = Dropout(0.5)(conv1)\n",
        "  pool1 = MaxPooling1D(pool_size=2)(drop1)\n",
        "  flat1 = Flatten()(pool1)\n",
        "\n",
        "  inputs2 = Input(shape=(input_length,))\n",
        "  emb2 = Embedding(vocab_size, emb_dim)(inputs2)\n",
        "  conv2 = Conv1D(filters=100, kernel_size=4, padding='same', activation='relu', strides=1)(emb2)\n",
        "  drop2 = Dropout(0.5)(conv2)\n",
        "  pool2 = MaxPooling1D(pool_size=2)(drop2)\n",
        "  flat2 = Flatten()(pool2)\n",
        "\n",
        "  inputs3 = Input(shape=(input_length,))\n",
        "  emb3 = Embedding(vocab_size, emb_dim)(inputs3)\n",
        "  conv3 = Conv1D(filters=100, kernel_size=5, padding='same', activation='relu', strides=1)(emb3)\n",
        "  drop3 = Dropout(0.5)(conv3)\n",
        "  pool3 = MaxPooling1D(pool_size=2)(drop3)\n",
        "  flat3 = Flatten()(pool3)\n",
        "\n",
        "  # merge CNN output with reference stats\n",
        "  merged = concatenate([flat1, flat2, flat3])\n",
        "\n",
        "  dense1 = Dense(500, activation='relu')(merged)\n",
        "  outputs = Dense(5, activation=\"softmax\")(dense1)\n",
        "  model = Model(inputs=[inputs1, inputs2, inputs3], outputs=outputs)\n",
        "  model.compile(loss='categorical_crossentropy', optimizer='RMSprop', metrics=['accuracy'])\n",
        "  # print(model.summary())\n",
        "  # plot_model(model, show_shapes=True, to_file='multichannel.png')\n",
        "  return model\n",
        "\n",
        "np.random.seed(5)\n",
        "random.seed(5)\n",
        "session_conf = tf.compat.v1.ConfigProto(intra_op_parallelism_threads=1,\n",
        "                              inter_op_parallelism_threads=1)\n",
        "tf.compat.v1.set_random_seed(5)\n",
        "\n",
        "model = custom_CNN(input_length=200, vocab_size=dict_len3+1,emb_dim = 100)\n",
        "history = model.fit(x=[X_merged_train_,X_merged_train_,X_merged_train_], y=Y_train_, \n",
        "                    validation_data = ([X_merged_test_,X_merged_test_,X_merged_test_], Y_test_), batch_size=64, epochs=5) \n",
        "# save the model\n",
        "# model.save('model.h5')"
      ],
      "execution_count": null,
      "outputs": [
        {
          "output_type": "stream",
          "text": [
            "Train on 10223 samples, validate on 2556 samples\n",
            "Epoch 1/5\n",
            "10223/10223 [==============================] - 91s 9ms/sample - loss: 0.8777 - accuracy: 0.6860 - val_loss: 0.5883 - val_accuracy: 0.7966\n",
            "Epoch 2/5\n",
            "10223/10223 [==============================] - 89s 9ms/sample - loss: 0.4118 - accuracy: 0.8543 - val_loss: 0.5441 - val_accuracy: 0.8009\n",
            "Epoch 3/5\n",
            "10223/10223 [==============================] - 89s 9ms/sample - loss: 0.2574 - accuracy: 0.9094 - val_loss: 0.6205 - val_accuracy: 0.7903\n",
            "Epoch 4/5\n",
            "10223/10223 [==============================] - 90s 9ms/sample - loss: 0.1272 - accuracy: 0.9544 - val_loss: 0.7325 - val_accuracy: 0.7860\n",
            "Epoch 5/5\n",
            "10223/10223 [==============================] - 89s 9ms/sample - loss: 0.0535 - accuracy: 0.9848 - val_loss: 0.9590 - val_accuracy: 0.7766\n"
          ],
          "name": "stdout"
        }
      ]
    },
    {
      "cell_type": "markdown",
      "metadata": {
        "id": "gUL_sdTo9vkm",
        "colab_type": "text"
      },
      "source": [
        "##### LSTM"
      ]
    },
    {
      "cell_type": "code",
      "metadata": {
        "id": "iD99DNUX9yF1",
        "colab_type": "code",
        "colab": {
          "base_uri": "https://localhost:8080/",
          "height": 200
        },
        "outputId": "e1a6bbae-e522-489c-f768-75ad2de16fd0"
      },
      "source": [
        "# with input_length=50\n",
        "\n",
        "np.random.seed(5)\n",
        "random.seed(5)\n",
        "session_conf = tf.compat.v1.ConfigProto(intra_op_parallelism_threads=1,\n",
        "                              inter_op_parallelism_threads=1)\n",
        "tf.compat.v1.set_random_seed(5) \n",
        "model = Sequential() \n",
        "model.add(Embedding(dict_len3 + 1, 128, input_length=50)) # adding trainable=True does not change thre result, trainable by default?\n",
        "model.add(LSTM(128, dropout=0.2)) \n",
        "model.add(Dense(5, activation=\"softmax\"))  \n",
        "model.compile(loss='categorical_crossentropy', optimizer='RMSprop', metrics=['accuracy'])\n",
        "history = model.fit(X_merged_train_, Y_train_, validation_data = (X_merged_test_, Y_test_), batch_size=64, epochs=5) "
      ],
      "execution_count": null,
      "outputs": [
        {
          "output_type": "stream",
          "text": [
            "Train on 10223 samples, validate on 2556 samples\n",
            "Epoch 1/5\n",
            "10223/10223 [==============================] - 25s 2ms/sample - loss: 0.9646 - accuracy: 0.6368 - val_loss: 0.6451 - val_accuracy: 0.7739\n",
            "Epoch 2/5\n",
            "10223/10223 [==============================] - 23s 2ms/sample - loss: 0.5355 - accuracy: 0.8144 - val_loss: 0.5962 - val_accuracy: 0.7793\n",
            "Epoch 3/5\n",
            "10223/10223 [==============================] - 24s 2ms/sample - loss: 0.4409 - accuracy: 0.8485 - val_loss: 0.5673 - val_accuracy: 0.7977\n",
            "Epoch 4/5\n",
            "10223/10223 [==============================] - 23s 2ms/sample - loss: 0.3812 - accuracy: 0.8692 - val_loss: 0.5493 - val_accuracy: 0.8044\n",
            "Epoch 5/5\n",
            "10223/10223 [==============================] - 23s 2ms/sample - loss: 0.3376 - accuracy: 0.8833 - val_loss: 0.5908 - val_accuracy: 0.7770\n"
          ],
          "name": "stdout"
        }
      ]
    },
    {
      "cell_type": "code",
      "metadata": {
        "id": "3x-HbRRj-wou",
        "colab_type": "code",
        "colab": {
          "base_uri": "https://localhost:8080/",
          "height": 200
        },
        "outputId": "fda26404-9f0a-42f7-eee5-83b24e8b05a8"
      },
      "source": [
        "# with input_length=100\n",
        "\n",
        "np.random.seed(5)\n",
        "random.seed(5)\n",
        "session_conf = tf.compat.v1.ConfigProto(intra_op_parallelism_threads=1,\n",
        "                              inter_op_parallelism_threads=1)\n",
        "tf.compat.v1.set_random_seed(5) \n",
        "model = Sequential() \n",
        "model.add(Embedding(dict_len3 + 1, 128, input_length=100)) # adding trainable=True does not change thre result, trainable by default?\n",
        "model.add(LSTM(128, dropout=0.2)) \n",
        "model.add(Dense(5, activation=\"softmax\"))  \n",
        "model.compile(loss='categorical_crossentropy', optimizer='RMSprop', metrics=['accuracy'])\n",
        "history = model.fit(X_merged_train_, Y_train_, validation_data = (X_merged_test_, Y_test_), batch_size=64, epochs=5) "
      ],
      "execution_count": null,
      "outputs": [
        {
          "output_type": "stream",
          "text": [
            "Train on 10223 samples, validate on 2556 samples\n",
            "Epoch 1/5\n",
            "10223/10223 [==============================] - 46s 4ms/sample - loss: 0.9743 - accuracy: 0.6359 - val_loss: 0.6593 - val_accuracy: 0.7625\n",
            "Epoch 2/5\n",
            "10223/10223 [==============================] - 44s 4ms/sample - loss: 0.5334 - accuracy: 0.8164 - val_loss: 0.5756 - val_accuracy: 0.7891\n",
            "Epoch 3/5\n",
            "10223/10223 [==============================] - 45s 4ms/sample - loss: 0.4395 - accuracy: 0.8508 - val_loss: 0.5704 - val_accuracy: 0.7989\n",
            "Epoch 4/5\n",
            "10223/10223 [==============================] - 45s 4ms/sample - loss: 0.3811 - accuracy: 0.8706 - val_loss: 0.5720 - val_accuracy: 0.7934\n",
            "Epoch 5/5\n",
            "10223/10223 [==============================] - 45s 4ms/sample - loss: 0.3379 - accuracy: 0.8837 - val_loss: 0.5809 - val_accuracy: 0.7860\n"
          ],
          "name": "stdout"
        }
      ]
    },
    {
      "cell_type": "code",
      "metadata": {
        "id": "rrUq6S54nVHn",
        "colab_type": "code",
        "colab": {
          "base_uri": "https://localhost:8080/",
          "height": 167
        },
        "outputId": "99f98980-d7a0-4ce6-8915-79f5d2c2cd82"
      },
      "source": [
        "# with input_length=200\n",
        "\n",
        "np.random.seed(5)\n",
        "random.seed(5)\n",
        "session_conf = tf.compat.v1.ConfigProto(intra_op_parallelism_threads=1,\n",
        "                              inter_op_parallelism_threads=1)\n",
        "tf.compat.v1.set_random_seed(5) \n",
        "model = Sequential() \n",
        "model.add(Embedding(dict_len3 + 1, 128, input_length=200)) # adding trainable=True does not change thre result, trainable by default?\n",
        "model.add(LSTM(128, dropout=0.2)) \n",
        "model.add(Dense(5, activation=\"softmax\"))  \n",
        "model.compile(loss='categorical_crossentropy', optimizer='RMSprop', metrics=['accuracy'])\n",
        "history = model.fit(X_merged_train_, Y_train_, validation_data = (X_merged_test_, Y_test_), batch_size=64, epochs=4) "
      ],
      "execution_count": null,
      "outputs": [
        {
          "output_type": "stream",
          "text": [
            "Train on 10223 samples, validate on 2556 samples\n",
            "Epoch 1/4\n",
            "10223/10223 [==============================] - 91s 9ms/sample - loss: 0.9704 - accuracy: 0.6357 - val_loss: 0.6615 - val_accuracy: 0.7578\n",
            "Epoch 2/4\n",
            "10223/10223 [==============================] - 89s 9ms/sample - loss: 0.5343 - accuracy: 0.8153 - val_loss: 0.5484 - val_accuracy: 0.7938\n",
            "Epoch 3/4\n",
            "10223/10223 [==============================] - 89s 9ms/sample - loss: 0.4407 - accuracy: 0.8498 - val_loss: 0.5654 - val_accuracy: 0.7993\n",
            "Epoch 4/4\n",
            "10223/10223 [==============================] - 89s 9ms/sample - loss: 0.3814 - accuracy: 0.8671 - val_loss: 0.5435 - val_accuracy: 0.8114\n"
          ],
          "name": "stdout"
        }
      ]
    },
    {
      "cell_type": "code",
      "metadata": {
        "id": "IccjKeJDUiSU",
        "colab_type": "code",
        "colab": {}
      },
      "source": [
        "# X_new = tokenizer.texts_to_sequences(train.title)\n",
        "# X_new = pad_sequences(X_new, maxlen=20)\n",
        "\n",
        "# X_new_to = tokenizer.texts_to_sequences(train3.ref_to)\n",
        "# X_new_to = pad_sequences(X_new_to, maxlen=100)\n",
        "\n",
        "# X_new_from = tokenizer.texts_to_sequences(train3.ref_from)\n",
        "# X_new_from = pad_sequences(X_new_from, maxlen=100)\n",
        "\n",
        "# X_new_merged = tokenizer.texts_to_sequences(train3.merged)\n",
        "# X_new_merged = pad_sequences(X_new_merged, maxlen=200)"
      ],
      "execution_count": null,
      "outputs": []
    },
    {
      "cell_type": "markdown",
      "metadata": {
        "id": "tPjLmQ60WkwC",
        "colab_type": "text"
      },
      "source": [
        "##### Predict on test set for kaggle (10th upload)"
      ]
    },
    {
      "cell_type": "code",
      "metadata": {
        "colab_type": "code",
        "id": "KtHjnROMUKQN",
        "colab": {}
      },
      "source": [
        "Y_new10 = model.predict(x=X_new_merged)"
      ],
      "execution_count": null,
      "outputs": []
    },
    {
      "cell_type": "code",
      "metadata": {
        "colab_type": "code",
        "id": "O-GT9_eSUKQb",
        "colab": {
          "base_uri": "https://localhost:8080/",
          "height": 117
        },
        "outputId": "1b9f033c-1459-4b83-a0d0-306bfed03ad4"
      },
      "source": [
        "Y_new10[:3] # results before softmax are shown"
      ],
      "execution_count": null,
      "outputs": [
        {
          "output_type": "execute_result",
          "data": {
            "text/plain": [
              "array([[8.8813621e-01, 3.4839161e-02, 1.7492132e-02, 3.0435205e-03,\n",
              "        5.6489006e-02],\n",
              "       [8.5078202e-02, 1.2647440e-02, 8.9278609e-01, 6.2744338e-03,\n",
              "        3.2138061e-03],\n",
              "       [8.9990628e-01, 8.4698750e-03, 3.7087988e-02, 4.6848823e-04,\n",
              "        5.4067414e-02]], dtype=float32)"
            ]
          },
          "metadata": {
            "tags": []
          },
          "execution_count": 53
        }
      ]
    },
    {
      "cell_type": "code",
      "metadata": {
        "colab_type": "code",
        "id": "slNlTpzGUKQg",
        "colab": {}
      },
      "source": [
        "# pick the label with max score.\n",
        "flat_predictions = np.argmax(Y_new10, axis=1).flatten()"
      ],
      "execution_count": null,
      "outputs": []
    },
    {
      "cell_type": "code",
      "metadata": {
        "colab_type": "code",
        "id": "YLwDX4NLUKQm",
        "colab": {
          "base_uri": "https://localhost:8080/",
          "height": 33
        },
        "outputId": "63b29c49-8429-4706-aed5-d077eb815de7"
      },
      "source": [
        "flat_predictions"
      ],
      "execution_count": null,
      "outputs": [
        {
          "output_type": "execute_result",
          "data": {
            "text/plain": [
              "array([0, 2, 0, ..., 0, 2, 0])"
            ]
          },
          "metadata": {
            "tags": []
          },
          "execution_count": 55
        }
      ]
    },
    {
      "cell_type": "code",
      "metadata": {
        "colab_type": "code",
        "id": "9sz-1-wsUKQr",
        "colab": {}
      },
      "source": [
        "test10 = pd.DataFrame(list(zip(test['id'], flat_predictions)), \n",
        "               columns = ['id', 'label'])\n",
        "test10\n",
        "test10.to_csv('test10.csv',index=False)"
      ],
      "execution_count": null,
      "outputs": []
    },
    {
      "cell_type": "markdown",
      "metadata": {
        "id": "iMggRYvlq-5X",
        "colab_type": "text"
      },
      "source": [
        "#### With separate embeddings for titles and in/out references"
      ]
    },
    {
      "cell_type": "markdown",
      "metadata": {
        "id": "pR-2H_5Wvfel",
        "colab_type": "text"
      },
      "source": [
        "##### CNN 3 diff embeddings, kernel = 3, filters = 100"
      ]
    },
    {
      "cell_type": "code",
      "metadata": {
        "colab_type": "code",
        "id": "tdt8GOjITzbQ",
        "colab": {
          "base_uri": "https://localhost:8080/",
          "height": 217
        },
        "outputId": "d3d3020d-f5fe-41b4-d850-9fdf45a50061"
      },
      "source": [
        "# with input_length2=50\n",
        "\n",
        "def custom_model(input_length=20, input_length2=50, vocab_size=13274, emb_dim = 100):\n",
        "  # define CNN layer\n",
        "  inputs1 = Input(shape=(input_length,))\n",
        "  emb1 = Embedding(vocab_size, emb_dim)(inputs1)\n",
        "  conv1 = Conv1D(filters=100, kernel_size=3, padding='same', activation='relu', strides=1)(emb1)\n",
        "  drop1 = Dropout(0.5)(conv1)\n",
        "  pool1 = GlobalMaxPooling1D()(drop1) # MaxOverTime\n",
        "  # pool1 = MaxPooling1D(pool_size=2)(drop1)\n",
        "  flat1 = Flatten()(pool1)\n",
        "\n",
        "  inputs2 = Input(shape=(input_length2,))\n",
        "  emb2 = Embedding(vocab_size, emb_dim)(inputs2)\n",
        "  conv2 = Conv1D(filters=100, kernel_size=3, padding='same', activation='relu', strides=1)(emb2)\n",
        "  drop2 = Dropout(0.5)(conv2)\n",
        "  pool2 = GlobalMaxPooling1D()(drop2)\n",
        "  # pool2 = MaxPooling1D(pool_size=2)(drop2)\n",
        "  flat2 = Flatten()(pool2)\n",
        "\n",
        "  inputs3 = Input(shape=(input_length2,))\n",
        "  emb3 = Embedding(vocab_size, emb_dim)(inputs3)\n",
        "  conv3 = Conv1D(filters=100, kernel_size=3, padding='same', activation='relu', strides=1)(emb3)\n",
        "  drop3 = Dropout(0.5)(conv3)\n",
        "  pool3 = GlobalMaxPooling1D()(drop3)\n",
        "  # pool3 = MaxPooling1D(pool_size=2)(drop3)\n",
        "  flat3 = Flatten()(pool3)\n",
        "\n",
        "  # inputs4 = Input(shape=(input_length2,))\n",
        "\n",
        "  # merge CNN output with reference stats\n",
        "  # merged = concatenate([flat1, flat2, flat3, inputs4])\n",
        "  merged = concatenate([flat1, flat2, flat3])\n",
        "\n",
        "  dense1 = Dense(500, activation='relu')(merged)\n",
        "  outputs = Dense(5, activation=\"softmax\")(dense1)\n",
        "  model = Model(inputs=[inputs1, inputs2, inputs3], outputs=outputs) # , inputs4\n",
        "  model.compile(loss='categorical_crossentropy', optimizer='RMSprop', metrics=['accuracy'])\n",
        "  # print(model.summary())\n",
        "  # plot_model(model, show_shapes=True, to_file='multichannel.png')\n",
        "  return model\n",
        "\n",
        "np.random.seed(5)\n",
        "random.seed(5)\n",
        "session_conf = tf.compat.v1.ConfigProto(intra_op_parallelism_threads=1,\n",
        "                              inter_op_parallelism_threads=1)\n",
        "tf.compat.v1.set_random_seed(5)\n",
        "\n",
        "model = custom_model(input_length=20, input_length2=50, vocab_size=13274, emb_dim = 100)\n",
        "model.fit(x=[X_train_,X_to_train_,X_from_train_], y=Y_train_, validation_data = ([X_test_,X_to_test_,X_from_test_], Y_test_), batch_size=64, epochs=5) \n",
        "# save the model\n",
        "# model.save('model.h5')"
      ],
      "execution_count": null,
      "outputs": [
        {
          "output_type": "stream",
          "text": [
            "Train on 10223 samples, validate on 2556 samples\n",
            "Epoch 1/5\n",
            "10223/10223 [==============================] - 13s 1ms/sample - loss: 0.9312 - accuracy: 0.6447 - val_loss: 0.6852 - val_accuracy: 0.7723\n",
            "Epoch 2/5\n",
            "10223/10223 [==============================] - 12s 1ms/sample - loss: 0.4599 - accuracy: 0.8395 - val_loss: 0.5899 - val_accuracy: 0.7856\n",
            "Epoch 3/5\n",
            "10223/10223 [==============================] - 12s 1ms/sample - loss: 0.3224 - accuracy: 0.8849 - val_loss: 0.5524 - val_accuracy: 0.7985\n",
            "Epoch 4/5\n",
            "10223/10223 [==============================] - 12s 1ms/sample - loss: 0.2278 - accuracy: 0.9227 - val_loss: 0.5534 - val_accuracy: 0.7930\n",
            "Epoch 5/5\n",
            "10223/10223 [==============================] - 12s 1ms/sample - loss: 0.1532 - accuracy: 0.9498 - val_loss: 0.5866 - val_accuracy: 0.7879\n"
          ],
          "name": "stdout"
        },
        {
          "output_type": "execute_result",
          "data": {
            "text/plain": [
              "<tensorflow.python.keras.callbacks.History at 0x7fe477e2f128>"
            ]
          },
          "metadata": {
            "tags": []
          },
          "execution_count": 145
        }
      ]
    },
    {
      "cell_type": "code",
      "metadata": {
        "id": "AdMz038Ux-Wu",
        "colab_type": "code",
        "colab": {
          "base_uri": "https://localhost:8080/",
          "height": 217
        },
        "outputId": "02feeb0e-ba13-4911-86d0-f5efc50737bc"
      },
      "source": [
        "# with input_length2=100\n",
        "\n",
        "def custom_model(input_length=20, input_length2=100, vocab_size=13274, emb_dim = 100):\n",
        "  # define CNN layer\n",
        "  inputs1 = Input(shape=(input_length,))\n",
        "  emb1 = Embedding(vocab_size, emb_dim)(inputs1)\n",
        "  conv1 = Conv1D(filters=100, kernel_size=3, padding='same', activation='relu', strides=1)(emb1)\n",
        "  drop1 = Dropout(0.5)(conv1)\n",
        "  pool1 = GlobalMaxPooling1D()(drop1) # MaxOverTime\n",
        "  # pool1 = MaxPooling1D(pool_size=2)(drop1)\n",
        "  flat1 = Flatten()(pool1)\n",
        "\n",
        "  inputs2 = Input(shape=(input_length2,))\n",
        "  emb2 = Embedding(vocab_size, emb_dim)(inputs2)\n",
        "  conv2 = Conv1D(filters=100, kernel_size=3, padding='same', activation='relu', strides=1)(emb2)\n",
        "  drop2 = Dropout(0.5)(conv2)\n",
        "  pool2 = GlobalMaxPooling1D()(drop2)\n",
        "  # pool2 = MaxPooling1D(pool_size=2)(drop2)\n",
        "  flat2 = Flatten()(pool2)\n",
        "\n",
        "  inputs3 = Input(shape=(input_length2,))\n",
        "  emb3 = Embedding(vocab_size, emb_dim)(inputs3)\n",
        "  conv3 = Conv1D(filters=100, kernel_size=3, padding='same', activation='relu', strides=1)(emb3)\n",
        "  drop3 = Dropout(0.5)(conv3)\n",
        "  pool3 = GlobalMaxPooling1D()(drop3)\n",
        "  # pool3 = MaxPooling1D(pool_size=2)(drop3)\n",
        "  flat3 = Flatten()(pool3)\n",
        "\n",
        "  # inputs4 = Input(shape=(input_length2,))\n",
        "\n",
        "  # merge CNN output with reference stats\n",
        "  # merged = concatenate([flat1, flat2, flat3, inputs4])\n",
        "  merged = concatenate([flat1, flat2, flat3])\n",
        "\n",
        "  dense1 = Dense(500, activation='relu')(merged)\n",
        "  outputs = Dense(5, activation=\"softmax\")(dense1)\n",
        "  model = Model(inputs=[inputs1, inputs2, inputs3], outputs=outputs) # , inputs4\n",
        "  model.compile(loss='categorical_crossentropy', optimizer='RMSprop', metrics=['accuracy'])\n",
        "  # print(model.summary())\n",
        "  # plot_model(model, show_shapes=True, to_file='multichannel.png')\n",
        "  return model\n",
        "\n",
        "np.random.seed(5)\n",
        "random.seed(5)\n",
        "session_conf = tf.compat.v1.ConfigProto(intra_op_parallelism_threads=1,\n",
        "                              inter_op_parallelism_threads=1)\n",
        "tf.compat.v1.set_random_seed(5)\n",
        "\n",
        "model = custom_model(input_length=20, input_length2=100, vocab_size=13274, emb_dim = 100)\n",
        "model.fit(x=[X_train_,X_to_train_,X_from_train_], y=Y_train_, validation_data = ([X_test_,X_to_test_,X_from_test_], Y_test_), batch_size=64, epochs=5) \n",
        "# save the model\n",
        "# model.save('model.h5')"
      ],
      "execution_count": null,
      "outputs": [
        {
          "output_type": "stream",
          "text": [
            "Train on 10223 samples, validate on 2556 samples\n",
            "Epoch 1/5\n",
            "10223/10223 [==============================] - 20s 2ms/sample - loss: 0.9292 - accuracy: 0.6424 - val_loss: 0.6792 - val_accuracy: 0.7778\n",
            "Epoch 2/5\n",
            "10223/10223 [==============================] - 19s 2ms/sample - loss: 0.4591 - accuracy: 0.8376 - val_loss: 0.5857 - val_accuracy: 0.7907\n",
            "Epoch 3/5\n",
            "10223/10223 [==============================] - 19s 2ms/sample - loss: 0.3231 - accuracy: 0.8853 - val_loss: 0.5519 - val_accuracy: 0.8024\n",
            "Epoch 4/5\n",
            "10223/10223 [==============================] - 19s 2ms/sample - loss: 0.2321 - accuracy: 0.9202 - val_loss: 0.5557 - val_accuracy: 0.7919\n",
            "Epoch 5/5\n",
            "10223/10223 [==============================] - 19s 2ms/sample - loss: 0.1586 - accuracy: 0.9467 - val_loss: 0.5718 - val_accuracy: 0.7911\n"
          ],
          "name": "stdout"
        },
        {
          "output_type": "execute_result",
          "data": {
            "text/plain": [
              "<tensorflow.python.keras.callbacks.History at 0x7fe474dcd940>"
            ]
          },
          "metadata": {
            "tags": []
          },
          "execution_count": 162
        }
      ]
    },
    {
      "cell_type": "markdown",
      "metadata": {
        "id": "R93_6iZvv7mS",
        "colab_type": "text"
      },
      "source": [
        "#### With concatenated embeddings for titles and in/out references"
      ]
    },
    {
      "cell_type": "markdown",
      "metadata": {
        "id": "74qLDzQiuOUR",
        "colab_type": "text"
      },
      "source": [
        "##### Simple CNN"
      ]
    },
    {
      "cell_type": "code",
      "metadata": {
        "colab_type": "code",
        "id": "8jh7gHz5UIh2",
        "colab": {
          "base_uri": "https://localhost:8080/",
          "height": 217
        },
        "outputId": "27811e8c-5f41-4b59-8d2d-aeaf8fd233af"
      },
      "source": [
        "# with input_length2=100\n",
        "\n",
        "def custom_model(input_length=20, input_length2=100, vocab_size=13274, emb_dim = 100):\n",
        "  # define CNN layer\n",
        "  inputs1 = Input(shape=(input_length,))\n",
        "  inputs2 = Input(shape=(input_length2,))\n",
        "  inputs3 = Input(shape=(input_length2,))\n",
        "  merged = concatenate([inputs1, inputs2, inputs3])\n",
        "\n",
        "  emb1 = Embedding(vocab_size, emb_dim)(merged)\n",
        "  drop1 = Dropout(0.2)(emb1)\n",
        "  conv1 = Conv1D(filters=500, kernel_size=3, padding='same', activation='relu', strides=1)(drop1)\n",
        "  pool1 = GlobalMaxPooling1D()(conv1)\n",
        "  flat1 = Flatten()(pool1)\n",
        "\n",
        "  dense1 = Dense(250, activation='relu')(flat1)\n",
        "  outputs = Dense(5, activation=\"softmax\")(dense1)\n",
        "  model = Model(inputs=[inputs1, inputs2, inputs3], outputs=outputs)\n",
        "  # rmsprop = optimizers.RMSprop(lr=0.01)\n",
        "  model.compile(loss='categorical_crossentropy', optimizer='rmsprop', metrics=['accuracy'])\n",
        "  # print(model.summary())\n",
        "  # plot_model(model, show_shapes=True, to_file='multichannel.png')\n",
        "  return model\n",
        "\n",
        "np.random.seed(5)\n",
        "random.seed(5)\n",
        "session_conf = tf.compat.v1.ConfigProto(intra_op_parallelism_threads=1,\n",
        "                              inter_op_parallelism_threads=1)\n",
        "tf.compat.v1.set_random_seed(5)\n",
        "\n",
        "# define model\n",
        "model = custom_model(input_length=20, input_length2=100,vocab_size=13273+1,emb_dim = 100)\n",
        "model.fit(x=[X_train_,X_to_train_,X_from_train_], y=Y_train_, validation_data = ([X_test_,X_to_test_,X_from_test_], Y_test_), batch_size=64, epochs=5) \n",
        "# save the model\n",
        "# model.save('model.h5')"
      ],
      "execution_count": null,
      "outputs": [
        {
          "output_type": "stream",
          "text": [
            "Train on 10223 samples, validate on 2556 samples\n",
            "Epoch 1/5\n",
            "10223/10223 [==============================] - 58s 6ms/sample - loss: 0.8964 - accuracy: 0.6669 - val_loss: 0.6232 - val_accuracy: 0.7801\n",
            "Epoch 2/5\n",
            "10223/10223 [==============================] - 57s 6ms/sample - loss: 0.4992 - accuracy: 0.8208 - val_loss: 0.5387 - val_accuracy: 0.8020\n",
            "Epoch 3/5\n",
            "10223/10223 [==============================] - 57s 6ms/sample - loss: 0.4001 - accuracy: 0.8571 - val_loss: 0.5487 - val_accuracy: 0.8056\n",
            "Epoch 4/5\n",
            "10223/10223 [==============================] - 57s 6ms/sample - loss: 0.3319 - accuracy: 0.8837 - val_loss: 0.5653 - val_accuracy: 0.7942\n",
            "Epoch 5/5\n",
            "10223/10223 [==============================] - 57s 6ms/sample - loss: 0.2720 - accuracy: 0.9064 - val_loss: 0.6137 - val_accuracy: 0.7829\n"
          ],
          "name": "stdout"
        },
        {
          "output_type": "execute_result",
          "data": {
            "text/plain": [
              "<tensorflow.python.keras.callbacks.History at 0x7f0b6ede8fd0>"
            ]
          },
          "metadata": {
            "tags": []
          },
          "execution_count": 53
        }
      ]
    },
    {
      "cell_type": "markdown",
      "metadata": {
        "id": "ncUbj43I3s5D",
        "colab_type": "text"
      },
      "source": [
        "##### CNN with kernels=3,4,5 and 4,6,8, one concatenated embedding."
      ]
    },
    {
      "cell_type": "code",
      "metadata": {
        "id": "2I28LBJa30s6",
        "colab_type": "code",
        "colab": {
          "base_uri": "https://localhost:8080/",
          "height": 217
        },
        "outputId": "0928b9ed-d899-4c7e-fb44-43ef8d9d6d63"
      },
      "source": [
        "# with input_length2=50\n",
        "# kernels = 3,4,5\n",
        "\n",
        "def custom_model(input_length=20, input_length2=50, vocab_size=13274, emb_dim = 100):\n",
        "  # define CNN layer\n",
        "  inputs1 = Input(shape=(input_length,))\n",
        "  inputs2 = Input(shape=(input_length2,))\n",
        "  inputs3 = Input(shape=(input_length2,))\n",
        "  merged = concatenate([inputs1, inputs2, inputs3])\n",
        "\n",
        "  emb1 = Embedding(vocab_size, emb_dim)(merged)\n",
        "  conv1 = Conv1D(filters=100, kernel_size=3, padding='same', activation='relu', strides=1)(emb1)\n",
        "  drop1 = Dropout(0.5)(conv1)\n",
        "  pool1 = GlobalMaxPooling1D()(drop1) # MaxOverTime\n",
        "  # pool1 = MaxPooling1D(pool_size=2)(drop1)\n",
        "  flat1 = Flatten()(pool1)\n",
        "\n",
        "  emb2 = Embedding(vocab_size, emb_dim)(merged)\n",
        "  conv2 = Conv1D(filters=100, kernel_size=4, padding='same', activation='relu', strides=1)(emb2)\n",
        "  drop2 = Dropout(0.5)(conv2)\n",
        "  pool2 = GlobalMaxPooling1D()(drop2)\n",
        "  # pool2 = MaxPooling1D(pool_size=2)(drop2)\n",
        "  flat2 = Flatten()(pool2)\n",
        "\n",
        "  emb3 = Embedding(vocab_size, emb_dim)(merged)\n",
        "  conv3 = Conv1D(filters=100, kernel_size=5, padding='same', activation='relu', strides=1)(emb3)\n",
        "  drop3 = Dropout(0.5)(conv3)\n",
        "  pool3 = GlobalMaxPooling1D()(drop3)\n",
        "  # pool3 = MaxPooling1D(pool_size=2)(drop3)\n",
        "  flat3 = Flatten()(pool3)\n",
        "\n",
        "  # inputs4 = Input(shape=(input_length2,))\n",
        "\n",
        "  # merge CNN output with reference stats\n",
        "  # merged = concatenate([flat1, flat2, flat3, inputs4])\n",
        "  merged = concatenate([flat1, flat2, flat3])\n",
        "\n",
        "  dense1 = Dense(500, activation='relu')(merged)\n",
        "  outputs = Dense(5, activation=\"softmax\")(dense1)\n",
        "  model = Model(inputs=[inputs1, inputs2, inputs3], outputs=outputs) # , inputs4\n",
        "  model.compile(loss='categorical_crossentropy', optimizer='RMSprop', metrics=['accuracy'])\n",
        "  # print(model.summary())\n",
        "  # plot_model(model, show_shapes=True, to_file='multichannel.png')\n",
        "  return model\n",
        "\n",
        "np.random.seed(5)\n",
        "random.seed(5)\n",
        "session_conf = tf.compat.v1.ConfigProto(intra_op_parallelism_threads=1,\n",
        "                              inter_op_parallelism_threads=1)\n",
        "tf.compat.v1.set_random_seed(5)\n",
        "\n",
        "model = custom_model(input_length=20, input_length2=50, vocab_size=13274, emb_dim = 100)\n",
        "model.fit(x=[X_train_,X_to_train_,X_from_train_], y=Y_train_, validation_data = ([X_test_,X_to_test_,X_from_test_], Y_test_), batch_size=64, epochs=5) \n",
        "# save the model\n",
        "# model.save('model.h5')"
      ],
      "execution_count": null,
      "outputs": [
        {
          "output_type": "stream",
          "text": [
            "Train on 10223 samples, validate on 2556 samples\n",
            "Epoch 1/5\n",
            "10223/10223 [==============================] - 36s 3ms/sample - loss: 0.8285 - accuracy: 0.6928 - val_loss: 0.6628 - val_accuracy: 0.7962\n",
            "Epoch 2/5\n",
            "10223/10223 [==============================] - 34s 3ms/sample - loss: 0.4385 - accuracy: 0.8418 - val_loss: 0.5815 - val_accuracy: 0.8087\n",
            "Epoch 3/5\n",
            "10223/10223 [==============================] - 34s 3ms/sample - loss: 0.3254 - accuracy: 0.8831 - val_loss: 0.5563 - val_accuracy: 0.8052\n",
            "Epoch 4/5\n",
            "10223/10223 [==============================] - 34s 3ms/sample - loss: 0.2395 - accuracy: 0.9192 - val_loss: 0.5487 - val_accuracy: 0.8016\n",
            "Epoch 5/5\n",
            "10223/10223 [==============================] - 33s 3ms/sample - loss: 0.1728 - accuracy: 0.9401 - val_loss: 0.5854 - val_accuracy: 0.7856\n"
          ],
          "name": "stdout"
        },
        {
          "output_type": "execute_result",
          "data": {
            "text/plain": [
              "<tensorflow.python.keras.callbacks.History at 0x7fe4754bc208>"
            ]
          },
          "metadata": {
            "tags": []
          },
          "execution_count": 151
        }
      ]
    },
    {
      "cell_type": "code",
      "metadata": {
        "colab_type": "code",
        "id": "_Sil0aG15U7g",
        "colab": {
          "base_uri": "https://localhost:8080/",
          "height": 217
        },
        "outputId": "78a32233-2172-47ed-9c98-b5da8a369b00"
      },
      "source": [
        "# with input_length2=50\n",
        "# kernels = 4,6,8\n",
        "\n",
        "def custom_model(input_length=20, input_length2=50, vocab_size=13274, emb_dim = 100):\n",
        "  # define CNN layer\n",
        "  inputs1 = Input(shape=(input_length,))\n",
        "  inputs2 = Input(shape=(input_length2,))\n",
        "  inputs3 = Input(shape=(input_length2,))\n",
        "  merged = concatenate([inputs1, inputs2, inputs3])\n",
        "\n",
        "  emb1 = Embedding(vocab_size, emb_dim)(merged)\n",
        "  conv1 = Conv1D(filters=100, kernel_size=4, padding='same', activation='relu', strides=1)(emb1)\n",
        "  drop1 = Dropout(0.5)(conv1)\n",
        "  pool1 = GlobalMaxPooling1D()(drop1) # MaxOverTime\n",
        "  # pool1 = MaxPooling1D(pool_size=2)(drop1)\n",
        "  flat1 = Flatten()(pool1)\n",
        "\n",
        "  emb2 = Embedding(vocab_size, emb_dim)(merged)\n",
        "  conv2 = Conv1D(filters=100, kernel_size=6, padding='same', activation='relu', strides=1)(emb2)\n",
        "  drop2 = Dropout(0.5)(conv2)\n",
        "  pool2 = GlobalMaxPooling1D()(drop2)\n",
        "  # pool2 = MaxPooling1D(pool_size=2)(drop2)\n",
        "  flat2 = Flatten()(pool2)\n",
        "\n",
        "  emb3 = Embedding(vocab_size, emb_dim)(merged)\n",
        "  conv3 = Conv1D(filters=100, kernel_size=8, padding='same', activation='relu', strides=1)(emb3)\n",
        "  drop3 = Dropout(0.5)(conv3)\n",
        "  pool3 = GlobalMaxPooling1D()(drop3)\n",
        "  # pool3 = MaxPooling1D(pool_size=2)(drop3)\n",
        "  flat3 = Flatten()(pool3)\n",
        "\n",
        "  # inputs4 = Input(shape=(input_length2,))\n",
        "\n",
        "  # merge CNN output with reference stats\n",
        "  # merged = concatenate([flat1, flat2, flat3, inputs4])\n",
        "  merged = concatenate([flat1, flat2, flat3])\n",
        "\n",
        "  dense1 = Dense(500, activation='relu')(merged)\n",
        "  outputs = Dense(5, activation=\"softmax\")(dense1)\n",
        "  model = Model(inputs=[inputs1, inputs2, inputs3], outputs=outputs) # , inputs4\n",
        "  model.compile(loss='categorical_crossentropy', optimizer='RMSprop', metrics=['accuracy'])\n",
        "  # print(model.summary())\n",
        "  # plot_model(model, show_shapes=True, to_file='multichannel.png')\n",
        "  return model\n",
        "\n",
        "np.random.seed(5)\n",
        "random.seed(5)\n",
        "session_conf = tf.compat.v1.ConfigProto(intra_op_parallelism_threads=1,\n",
        "                              inter_op_parallelism_threads=1)\n",
        "tf.compat.v1.set_random_seed(5)\n",
        "\n",
        "model = custom_model(input_length=20, input_length2=50, vocab_size=13274, emb_dim = 100)\n",
        "model.fit(x=[X_train_,X_to_train_,X_from_train_], y=Y_train_, validation_data = ([X_test_,X_to_test_,X_from_test_], Y_test_), batch_size=64, epochs=5) \n",
        "# save the model\n",
        "# model.save('model.h5')"
      ],
      "execution_count": null,
      "outputs": [
        {
          "output_type": "stream",
          "text": [
            "Train on 10223 samples, validate on 2556 samples\n",
            "Epoch 1/5\n",
            "10223/10223 [==============================] - 49s 5ms/sample - loss: 0.8278 - accuracy: 0.6905 - val_loss: 0.6520 - val_accuracy: 0.8020\n",
            "Epoch 2/5\n",
            "10223/10223 [==============================] - 48s 5ms/sample - loss: 0.4276 - accuracy: 0.8481 - val_loss: 0.5850 - val_accuracy: 0.8052\n",
            "Epoch 3/5\n",
            "10223/10223 [==============================] - 48s 5ms/sample - loss: 0.3084 - accuracy: 0.8895 - val_loss: 0.5558 - val_accuracy: 0.8048\n",
            "Epoch 4/5\n",
            "10223/10223 [==============================] - 48s 5ms/sample - loss: 0.2155 - accuracy: 0.9251 - val_loss: 0.5402 - val_accuracy: 0.8071\n",
            "Epoch 5/5\n",
            "10223/10223 [==============================] - 49s 5ms/sample - loss: 0.1491 - accuracy: 0.9523 - val_loss: 0.5986 - val_accuracy: 0.7833\n"
          ],
          "name": "stdout"
        },
        {
          "output_type": "execute_result",
          "data": {
            "text/plain": [
              "<tensorflow.python.keras.callbacks.History at 0x7fe4751f2ef0>"
            ]
          },
          "metadata": {
            "tags": []
          },
          "execution_count": 152
        }
      ]
    },
    {
      "cell_type": "code",
      "metadata": {
        "colab_type": "code",
        "id": "XdhkSm8R7Mnj",
        "colab": {
          "base_uri": "https://localhost:8080/",
          "height": 217
        },
        "outputId": "979e91cf-7aa7-4907-da4a-d7cab777ae76"
      },
      "source": [
        "# with input_length2=100\n",
        "# kernels = 3,4,5\n",
        "\n",
        "def custom_model(input_length=20, input_length2=100, vocab_size=13274, emb_dim = 100):\n",
        "  # define CNN layer\n",
        "  inputs1 = Input(shape=(input_length,))\n",
        "  inputs2 = Input(shape=(input_length2,))\n",
        "  inputs3 = Input(shape=(input_length2,))\n",
        "  merged = concatenate([inputs1, inputs2, inputs3])\n",
        "\n",
        "  emb1 = Embedding(vocab_size, emb_dim)(merged)\n",
        "  conv1 = Conv1D(filters=100, kernel_size=3, padding='same', activation='relu', strides=1)(emb1)\n",
        "  drop1 = Dropout(0.5)(conv1)\n",
        "  pool1 = GlobalMaxPooling1D()(drop1) # MaxOverTime\n",
        "  # pool1 = MaxPooling1D(pool_size=2)(drop1)\n",
        "  flat1 = Flatten()(pool1)\n",
        "\n",
        "  emb2 = Embedding(vocab_size, emb_dim)(merged)\n",
        "  conv2 = Conv1D(filters=100, kernel_size=4, padding='same', activation='relu', strides=1)(emb2)\n",
        "  drop2 = Dropout(0.5)(conv2)\n",
        "  pool2 = GlobalMaxPooling1D()(drop2)\n",
        "  # pool2 = MaxPooling1D(pool_size=2)(drop2)\n",
        "  flat2 = Flatten()(pool2)\n",
        "\n",
        "  emb3 = Embedding(vocab_size, emb_dim)(merged)\n",
        "  conv3 = Conv1D(filters=100, kernel_size=5, padding='same', activation='relu', strides=1)(emb3)\n",
        "  drop3 = Dropout(0.5)(conv3)\n",
        "  pool3 = GlobalMaxPooling1D()(drop3)\n",
        "  # pool3 = MaxPooling1D(pool_size=2)(drop3)\n",
        "  flat3 = Flatten()(pool3)\n",
        "\n",
        "  # inputs4 = Input(shape=(input_length2,))\n",
        "\n",
        "  # merge CNN output with reference stats\n",
        "  # merged = concatenate([flat1, flat2, flat3, inputs4])\n",
        "  merged = concatenate([flat1, flat2, flat3])\n",
        "\n",
        "  dense1 = Dense(500, activation='relu')(merged)\n",
        "  outputs = Dense(5, activation=\"softmax\")(dense1)\n",
        "  model = Model(inputs=[inputs1, inputs2, inputs3], outputs=outputs) # , inputs4\n",
        "  model.compile(loss='categorical_crossentropy', optimizer='RMSprop', metrics=['accuracy'])\n",
        "  # print(model.summary())\n",
        "  # plot_model(model, show_shapes=True, to_file='multichannel.png')\n",
        "  return model\n",
        "\n",
        "np.random.seed(5)\n",
        "random.seed(5)\n",
        "session_conf = tf.compat.v1.ConfigProto(intra_op_parallelism_threads=1,\n",
        "                              inter_op_parallelism_threads=1)\n",
        "tf.compat.v1.set_random_seed(5)\n",
        "\n",
        "model = custom_model(input_length=20, input_length2=100, vocab_size=13274, emb_dim = 100)\n",
        "model.fit(x=[X_train_,X_to_train_,X_from_train_], y=Y_train_, validation_data = ([X_test_,X_to_test_,X_from_test_], Y_test_), batch_size=64, epochs=5) \n",
        "# save the model\n",
        "# model.save('model.h5')"
      ],
      "execution_count": null,
      "outputs": [
        {
          "output_type": "stream",
          "text": [
            "Train on 10223 samples, validate on 2556 samples\n",
            "Epoch 1/5\n",
            "10223/10223 [==============================] - 60s 6ms/sample - loss: 0.8250 - accuracy: 0.6939 - val_loss: 0.6545 - val_accuracy: 0.7938\n",
            "Epoch 2/5\n",
            "10223/10223 [==============================] - 59s 6ms/sample - loss: 0.4406 - accuracy: 0.8443 - val_loss: 0.5868 - val_accuracy: 0.7997\n",
            "Epoch 3/5\n",
            "10223/10223 [==============================] - 59s 6ms/sample - loss: 0.3247 - accuracy: 0.8862 - val_loss: 0.5493 - val_accuracy: 0.8083\n",
            "Epoch 4/5\n",
            "10223/10223 [==============================] - 59s 6ms/sample - loss: 0.2395 - accuracy: 0.9175 - val_loss: 0.5501 - val_accuracy: 0.7934\n",
            "Epoch 5/5\n",
            "10223/10223 [==============================] - 60s 6ms/sample - loss: 0.1683 - accuracy: 0.9396 - val_loss: 0.5480 - val_accuracy: 0.8005\n"
          ],
          "name": "stdout"
        },
        {
          "output_type": "execute_result",
          "data": {
            "text/plain": [
              "<tensorflow.python.keras.callbacks.History at 0x7fe473271d68>"
            ]
          },
          "metadata": {
            "tags": []
          },
          "execution_count": 163
        }
      ]
    },
    {
      "cell_type": "code",
      "metadata": {
        "colab_type": "code",
        "id": "3-5aHQEy7Mnu",
        "colab": {
          "base_uri": "https://localhost:8080/",
          "height": 150
        },
        "outputId": "d77c86df-1ad4-4b85-de95-c2360842bbfa"
      },
      "source": [
        "# with input_length2=100\n",
        "# kernels = 4,6,8\n",
        "\n",
        "def custom_model(input_length=20, input_length2=100, vocab_size=13274, emb_dim = 100):\n",
        "  # define CNN layer\n",
        "  inputs1 = Input(shape=(input_length,))\n",
        "  inputs2 = Input(shape=(input_length2,))\n",
        "  inputs3 = Input(shape=(input_length2,))\n",
        "  merged = concatenate([inputs1, inputs2, inputs3])\n",
        "\n",
        "  emb1 = Embedding(vocab_size, emb_dim)(merged)\n",
        "  conv1 = Conv1D(filters=100, kernel_size=4, padding='same', activation='relu', strides=1)(emb1)\n",
        "  drop1 = Dropout(0.5)(conv1)\n",
        "  pool1 = GlobalMaxPooling1D()(drop1) # MaxOverTime\n",
        "  # pool1 = MaxPooling1D(pool_size=2)(drop1)\n",
        "  flat1 = Flatten()(pool1)\n",
        "\n",
        "  emb2 = Embedding(vocab_size, emb_dim)(merged)\n",
        "  conv2 = Conv1D(filters=100, kernel_size=6, padding='same', activation='relu', strides=1)(emb2)\n",
        "  drop2 = Dropout(0.5)(conv2)\n",
        "  pool2 = GlobalMaxPooling1D()(drop2)\n",
        "  # pool2 = MaxPooling1D(pool_size=2)(drop2)\n",
        "  flat2 = Flatten()(pool2)\n",
        "\n",
        "  emb3 = Embedding(vocab_size, emb_dim)(merged)\n",
        "  conv3 = Conv1D(filters=100, kernel_size=8, padding='same', activation='relu', strides=1)(emb3)\n",
        "  drop3 = Dropout(0.5)(conv3)\n",
        "  pool3 = GlobalMaxPooling1D()(drop3)\n",
        "  # pool3 = MaxPooling1D(pool_size=2)(drop3)\n",
        "  flat3 = Flatten()(pool3)\n",
        "\n",
        "  # inputs4 = Input(shape=(input_length2,))\n",
        "\n",
        "  # merge CNN output with reference stats\n",
        "  # merged = concatenate([flat1, flat2, flat3, inputs4])\n",
        "  merged = concatenate([flat1, flat2, flat3])\n",
        "\n",
        "  dense1 = Dense(500, activation='relu')(merged)\n",
        "  outputs = Dense(5, activation=\"softmax\")(dense1)\n",
        "  model = Model(inputs=[inputs1, inputs2, inputs3], outputs=outputs) # , inputs4\n",
        "  model.compile(loss='categorical_crossentropy', optimizer='RMSprop', metrics=['accuracy'])\n",
        "  # print(model.summary())\n",
        "  # plot_model(model, show_shapes=True, to_file='multichannel.png')\n",
        "  return model\n",
        "\n",
        "np.random.seed(5)\n",
        "random.seed(5)\n",
        "session_conf = tf.compat.v1.ConfigProto(intra_op_parallelism_threads=1,\n",
        "                              inter_op_parallelism_threads=1)\n",
        "tf.compat.v1.set_random_seed(5)\n",
        "\n",
        "model = custom_model(input_length=20, input_length2=100, vocab_size=13274, emb_dim = 100)\n",
        "model.fit(x=[X_train_,X_to_train_,X_from_train_], y=Y_train_, validation_data = ([X_test_,X_to_test_,X_from_test_], Y_test_), batch_size=64, epochs=3) \n",
        "# save the model\n",
        "# model.save('model.h5')"
      ],
      "execution_count": null,
      "outputs": [
        {
          "output_type": "stream",
          "text": [
            "Train on 10223 samples, validate on 2556 samples\n",
            "Epoch 1/3\n",
            "10223/10223 [==============================] - 83s 8ms/sample - loss: 0.8238 - accuracy: 0.6932 - val_loss: 0.6508 - val_accuracy: 0.8024\n",
            "Epoch 2/3\n",
            "10223/10223 [==============================] - 82s 8ms/sample - loss: 0.4227 - accuracy: 0.8481 - val_loss: 0.5830 - val_accuracy: 0.8013\n",
            "Epoch 3/3\n",
            "10223/10223 [==============================] - 82s 8ms/sample - loss: 0.3017 - accuracy: 0.8917 - val_loss: 0.5351 - val_accuracy: 0.8075\n"
          ],
          "name": "stdout"
        },
        {
          "output_type": "execute_result",
          "data": {
            "text/plain": [
              "<tensorflow.python.keras.callbacks.History at 0x7fcc3c0d0438>"
            ]
          },
          "metadata": {
            "tags": []
          },
          "execution_count": 37
        }
      ]
    },
    {
      "cell_type": "markdown",
      "metadata": {
        "colab_type": "text",
        "id": "z_7SPscJVwqi"
      },
      "source": [
        "###### Predict on test set for kaggle (11th upload) - 81.77%"
      ]
    },
    {
      "cell_type": "code",
      "metadata": {
        "colab_type": "code",
        "id": "TSf0M7vcVwqm",
        "colab": {}
      },
      "source": [
        "Y_new11 = model.predict(x=[X_new, X_new_to, X_new_from])"
      ],
      "execution_count": null,
      "outputs": []
    },
    {
      "cell_type": "code",
      "metadata": {
        "colab_type": "code",
        "id": "VCBmDI7nVwqu",
        "colab": {
          "base_uri": "https://localhost:8080/",
          "height": 83
        },
        "outputId": "abd124bb-e1e3-4d25-fcda-95bcf65f90f7"
      },
      "source": [
        "Y_new11[:3] # results before softmax are shown"
      ],
      "execution_count": null,
      "outputs": [
        {
          "output_type": "execute_result",
          "data": {
            "text/plain": [
              "array([[0.7271129 , 0.17593327, 0.03700046, 0.03728134, 0.02267204],\n",
              "       [0.20437443, 0.06697048, 0.7124184 , 0.00811259, 0.00812415],\n",
              "       [0.82428205, 0.07986361, 0.07299255, 0.00736944, 0.01549236]],\n",
              "      dtype=float32)"
            ]
          },
          "metadata": {
            "tags": []
          },
          "execution_count": 40
        }
      ]
    },
    {
      "cell_type": "code",
      "metadata": {
        "colab_type": "code",
        "id": "no8d86D1Vwq1",
        "colab": {}
      },
      "source": [
        "# pick the label with max score.\n",
        "flat_predictions = np.argmax(Y_new11, axis=1).flatten()"
      ],
      "execution_count": null,
      "outputs": []
    },
    {
      "cell_type": "code",
      "metadata": {
        "colab_type": "code",
        "id": "2X7Ix3cTVwq6",
        "colab": {
          "base_uri": "https://localhost:8080/",
          "height": 33
        },
        "outputId": "8aa0565e-2a18-4194-a32a-eb16d1120e13"
      },
      "source": [
        "flat_predictions"
      ],
      "execution_count": null,
      "outputs": [
        {
          "output_type": "execute_result",
          "data": {
            "text/plain": [
              "array([0, 2, 0, ..., 0, 2, 0])"
            ]
          },
          "metadata": {
            "tags": []
          },
          "execution_count": 42
        }
      ]
    },
    {
      "cell_type": "code",
      "metadata": {
        "colab_type": "code",
        "id": "1MFaX-F3Vwq-",
        "colab": {}
      },
      "source": [
        "test11 = pd.DataFrame(list(zip(test['id'], flat_predictions)), \n",
        "               columns = ['id', 'label'])\n",
        "test11\n",
        "test11.to_csv('test11.csv',index=False)"
      ],
      "execution_count": null,
      "outputs": []
    },
    {
      "cell_type": "markdown",
      "metadata": {
        "id": "u1zccWrch_gw",
        "colab_type": "text"
      },
      "source": [
        "##### Run model on the whole training data set"
      ]
    },
    {
      "cell_type": "code",
      "metadata": {
        "colab_type": "code",
        "id": "rxdtFe-9iHv0",
        "colab": {
          "base_uri": "https://localhost:8080/",
          "height": 150
        },
        "outputId": "c767b86c-ff9a-41de-8808-7ede2e93c0e3"
      },
      "source": [
        "# with input_length2=100\n",
        "# kernels = 4,6,8\n",
        "\n",
        "def custom_model(input_length=20, input_length2=100, vocab_size=13274, emb_dim = 100):\n",
        "  # define CNN layer\n",
        "  inputs1 = Input(shape=(input_length,))\n",
        "  inputs2 = Input(shape=(input_length2,))\n",
        "  inputs3 = Input(shape=(input_length2,))\n",
        "  merged = concatenate([inputs1, inputs2, inputs3])\n",
        "\n",
        "  emb1 = Embedding(vocab_size, emb_dim)(merged)\n",
        "  conv1 = Conv1D(filters=100, kernel_size=4, padding='same', activation='relu', strides=1)(emb1)\n",
        "  drop1 = Dropout(0.5)(conv1)\n",
        "  pool1 = GlobalMaxPooling1D()(drop1) # MaxOverTime\n",
        "  # pool1 = MaxPooling1D(pool_size=2)(drop1)\n",
        "  flat1 = Flatten()(pool1)\n",
        "\n",
        "  emb2 = Embedding(vocab_size, emb_dim)(merged)\n",
        "  conv2 = Conv1D(filters=100, kernel_size=6, padding='same', activation='relu', strides=1)(emb2)\n",
        "  drop2 = Dropout(0.5)(conv2)\n",
        "  pool2 = GlobalMaxPooling1D()(drop2)\n",
        "  # pool2 = MaxPooling1D(pool_size=2)(drop2)\n",
        "  flat2 = Flatten()(pool2)\n",
        "\n",
        "  emb3 = Embedding(vocab_size, emb_dim)(merged)\n",
        "  conv3 = Conv1D(filters=100, kernel_size=8, padding='same', activation='relu', strides=1)(emb3)\n",
        "  drop3 = Dropout(0.5)(conv3)\n",
        "  pool3 = GlobalMaxPooling1D()(drop3)\n",
        "  # pool3 = MaxPooling1D(pool_size=2)(drop3)\n",
        "  flat3 = Flatten()(pool3)\n",
        "\n",
        "  # inputs4 = Input(shape=(input_length2,))\n",
        "\n",
        "  # merge CNN output with reference stats\n",
        "  # merged = concatenate([flat1, flat2, flat3, inputs4])\n",
        "  merged = concatenate([flat1, flat2, flat3])\n",
        "\n",
        "  dense1 = Dense(500, activation='relu')(merged)\n",
        "  outputs = Dense(5, activation=\"softmax\")(dense1)\n",
        "  model = Model(inputs=[inputs1, inputs2, inputs3], outputs=outputs) # , inputs4\n",
        "  model.compile(loss='categorical_crossentropy', optimizer='RMSprop', metrics=['accuracy'])\n",
        "  # print(model.summary())\n",
        "  # plot_model(model, show_shapes=True, to_file='multichannel.png')\n",
        "  return model\n",
        "\n",
        "np.random.seed(5)\n",
        "random.seed(5)\n",
        "session_conf = tf.compat.v1.ConfigProto(intra_op_parallelism_threads=1,\n",
        "                              inter_op_parallelism_threads=1)\n",
        "tf.compat.v1.set_random_seed(5)\n",
        "\n",
        "model = custom_model(input_length=20, input_length2=100, vocab_size=13274, emb_dim = 100)\n",
        "model.fit(x=[X,X_to,X_from], y=Y, batch_size=64, epochs=3) \n",
        "# save the model\n",
        "# model.save('model.h5')"
      ],
      "execution_count": null,
      "outputs": [
        {
          "output_type": "stream",
          "text": [
            "Train on 12779 samples\n",
            "Epoch 1/3\n",
            "12779/12779 [==============================] - 98s 8ms/sample - loss: 0.7745 - accuracy: 0.7097\n",
            "Epoch 2/3\n",
            "12779/12779 [==============================] - 97s 8ms/sample - loss: 0.4171 - accuracy: 0.8510\n",
            "Epoch 3/3\n",
            "12779/12779 [==============================] - 97s 8ms/sample - loss: 0.3121 - accuracy: 0.8891\n"
          ],
          "name": "stdout"
        },
        {
          "output_type": "execute_result",
          "data": {
            "text/plain": [
              "<tensorflow.python.keras.callbacks.History at 0x7fb33cd0b048>"
            ]
          },
          "metadata": {
            "tags": []
          },
          "execution_count": 36
        }
      ]
    },
    {
      "cell_type": "markdown",
      "metadata": {
        "colab_type": "text",
        "id": "sbGXe_ZYihcn"
      },
      "source": [
        "###### Predict on test set for kaggle (13th upload) - 82.1% on Kaggle.\n",
        "\n",
        "Using the whole training set for training. "
      ]
    },
    {
      "cell_type": "code",
      "metadata": {
        "colab_type": "code",
        "id": "LaOg-hsUihcr",
        "colab": {}
      },
      "source": [
        "Y_new13 = model.predict(x=[X_new, X_new_to, X_new_from])"
      ],
      "execution_count": null,
      "outputs": []
    },
    {
      "cell_type": "code",
      "metadata": {
        "colab_type": "code",
        "id": "usxy_GGAihcz",
        "colab": {
          "base_uri": "https://localhost:8080/",
          "height": 83
        },
        "outputId": "33931e56-3210-40df-b01b-e9b079c9aa18"
      },
      "source": [
        "Y_new13[:3] # results before softmax are shown"
      ],
      "execution_count": null,
      "outputs": [
        {
          "output_type": "execute_result",
          "data": {
            "text/plain": [
              "array([[0.7490175 , 0.20132141, 0.02974566, 0.01197721, 0.00793809],\n",
              "       [0.28935567, 0.2452781 , 0.44919783, 0.00643598, 0.00973232],\n",
              "       [0.8710673 , 0.06758085, 0.04683995, 0.00284915, 0.01166281]],\n",
              "      dtype=float32)"
            ]
          },
          "metadata": {
            "tags": []
          },
          "execution_count": 38
        }
      ]
    },
    {
      "cell_type": "code",
      "metadata": {
        "colab_type": "code",
        "id": "4tLMgaquihc4",
        "colab": {}
      },
      "source": [
        "# pick the label with max score.\n",
        "flat_predictions = np.argmax(Y_new13, axis=1).flatten()"
      ],
      "execution_count": null,
      "outputs": []
    },
    {
      "cell_type": "code",
      "metadata": {
        "colab_type": "code",
        "id": "FZiVZalAihc8",
        "colab": {
          "base_uri": "https://localhost:8080/",
          "height": 33
        },
        "outputId": "184e195e-b521-4b93-c34a-b149a939ac30"
      },
      "source": [
        "flat_predictions"
      ],
      "execution_count": null,
      "outputs": [
        {
          "output_type": "execute_result",
          "data": {
            "text/plain": [
              "array([0, 2, 0, ..., 0, 2, 0])"
            ]
          },
          "metadata": {
            "tags": []
          },
          "execution_count": 40
        }
      ]
    },
    {
      "cell_type": "code",
      "metadata": {
        "colab_type": "code",
        "id": "4rnsWxYmihdB",
        "colab": {}
      },
      "source": [
        "test13 = pd.DataFrame(list(zip(test['id'], flat_predictions)), \n",
        "               columns = ['id', 'label'])\n",
        "test13\n",
        "test13.to_csv('test13.csv',index=False)"
      ],
      "execution_count": null,
      "outputs": []
    },
    {
      "cell_type": "code",
      "metadata": {
        "colab_type": "code",
        "id": "1Vra8fiJqQhJ",
        "colab": {
          "base_uri": "https://localhost:8080/",
          "height": 217
        },
        "outputId": "f31fb527-e80a-4b17-9e73-d461fd3b325b"
      },
      "source": [
        "# with input_length2=100\n",
        "# kernels = 4,6,8\n",
        "# dropout = 0.2\n",
        "\n",
        "def custom_model(input_length=20, input_length2=100, vocab_size=13274, emb_dim = 100):\n",
        "  # define CNN layer\n",
        "  inputs1 = Input(shape=(input_length,))\n",
        "  inputs2 = Input(shape=(input_length2,))\n",
        "  inputs3 = Input(shape=(input_length2,))\n",
        "  merged = concatenate([inputs1, inputs2, inputs3])\n",
        "\n",
        "  emb1 = Embedding(vocab_size, emb_dim)(merged)\n",
        "  conv1 = Conv1D(filters=100, kernel_size=4, padding='same', activation='relu', strides=1)(emb1)\n",
        "  drop1 = Dropout(0.2)(conv1)\n",
        "  pool1 = GlobalMaxPooling1D()(drop1) # MaxOverTime\n",
        "  # pool1 = MaxPooling1D(pool_size=2)(drop1)\n",
        "  flat1 = Flatten()(pool1)\n",
        "\n",
        "  emb2 = Embedding(vocab_size, emb_dim)(merged)\n",
        "  conv2 = Conv1D(filters=100, kernel_size=6, padding='same', activation='relu', strides=1)(emb2)\n",
        "  drop2 = Dropout(0.2)(conv2)\n",
        "  pool2 = GlobalMaxPooling1D()(drop2)\n",
        "  # pool2 = MaxPooling1D(pool_size=2)(drop2)\n",
        "  flat2 = Flatten()(pool2)\n",
        "\n",
        "  emb3 = Embedding(vocab_size, emb_dim)(merged)\n",
        "  conv3 = Conv1D(filters=100, kernel_size=8, padding='same', activation='relu', strides=1)(emb3)\n",
        "  drop3 = Dropout(0.2)(conv3)\n",
        "  pool3 = GlobalMaxPooling1D()(drop3)\n",
        "  # pool3 = MaxPooling1D(pool_size=2)(drop3)\n",
        "  flat3 = Flatten()(pool3)\n",
        "\n",
        "  # inputs4 = Input(shape=(input_length2,))\n",
        "\n",
        "  # merge CNN output with reference stats\n",
        "  # merged = concatenate([flat1, flat2, flat3, inputs4])\n",
        "  merged = concatenate([flat1, flat2, flat3])\n",
        "\n",
        "  dense1 = Dense(500, activation='relu')(merged)\n",
        "  outputs = Dense(5, activation=\"softmax\")(dense1)\n",
        "  model = Model(inputs=[inputs1, inputs2, inputs3], outputs=outputs) # , inputs4\n",
        "  model.compile(loss='categorical_crossentropy', optimizer='RMSprop', metrics=['accuracy'])\n",
        "  # print(model.summary())\n",
        "  # plot_model(model, show_shapes=True, to_file='multichannel.png')\n",
        "  return model\n",
        "\n",
        "np.random.seed(5)\n",
        "random.seed(5)\n",
        "session_conf = tf.compat.v1.ConfigProto(intra_op_parallelism_threads=1,\n",
        "                              inter_op_parallelism_threads=1)\n",
        "tf.compat.v1.set_random_seed(5)\n",
        "\n",
        "model = custom_model(input_length=20, input_length2=100, vocab_size=13274, emb_dim = 100)\n",
        "model.fit(x=[X_train_,X_to_train_,X_from_train_], y=Y_train_, validation_data = ([X_test_,X_to_test_,X_from_test_], Y_test_), batch_size=64, epochs=5) \n",
        "# save the model\n",
        "# model.save('model.h5')"
      ],
      "execution_count": null,
      "outputs": [
        {
          "output_type": "stream",
          "text": [
            "Train on 10223 samples, validate on 2556 samples\n",
            "Epoch 1/5\n",
            "10223/10223 [==============================] - 83s 8ms/sample - loss: 0.8323 - accuracy: 0.6883 - val_loss: 0.5742 - val_accuracy: 0.8001\n",
            "Epoch 2/5\n",
            "10223/10223 [==============================] - 82s 8ms/sample - loss: 0.4077 - accuracy: 0.8543 - val_loss: 0.5367 - val_accuracy: 0.8009\n",
            "Epoch 3/5\n",
            "10223/10223 [==============================] - 82s 8ms/sample - loss: 0.2604 - accuracy: 0.9067 - val_loss: 0.5391 - val_accuracy: 0.8067\n",
            "Epoch 4/5\n",
            "10223/10223 [==============================] - 83s 8ms/sample - loss: 0.1516 - accuracy: 0.9488 - val_loss: 0.5800 - val_accuracy: 0.8024\n",
            "Epoch 5/5\n",
            "10223/10223 [==============================] - 82s 8ms/sample - loss: 0.0754 - accuracy: 0.9769 - val_loss: 0.7006 - val_accuracy: 0.7997\n"
          ],
          "name": "stdout"
        },
        {
          "output_type": "execute_result",
          "data": {
            "text/plain": [
              "<tensorflow.python.keras.callbacks.History at 0x7fb332e1f390>"
            ]
          },
          "metadata": {
            "tags": []
          },
          "execution_count": 43
        }
      ]
    },
    {
      "cell_type": "markdown",
      "metadata": {
        "id": "9sEtEutOuhXE",
        "colab_type": "text"
      },
      "source": [
        "##### LSTM\n",
        "\n",
        "Set RMSprop lr=0.01 otherwise convergence too slow"
      ]
    },
    {
      "cell_type": "code",
      "metadata": {
        "id": "pTbO2tRCTyRK",
        "colab_type": "code",
        "colab": {
          "base_uri": "https://localhost:8080/",
          "height": 633
        },
        "outputId": "a348e009-2985-47ff-9867-6b6a700e12be"
      },
      "source": [
        "# input_length2=50\n",
        "\n",
        "def custom_model(input_length=20, input_length2=50, vocab_size=13274, emb_dim = 128):\n",
        "  inputs1 = Input(shape=(input_length,))\n",
        "  inputs2 = Input(shape=(input_length2,))\n",
        "  inputs3 = Input(shape=(input_length2,))\n",
        "  merged = concatenate([inputs1, inputs2, inputs3])\n",
        "\n",
        "  emb1 = Embedding(vocab_size, emb_dim)(merged)\n",
        "  lstm = LSTM(128, dropout=0.2)(emb1)\n",
        "  outputs = Dense(5, activation=\"softmax\")(lstm)\n",
        "  model = Model(inputs=[inputs1, inputs2, inputs3], outputs=outputs)\n",
        "  rmsprop = optimizers.RMSprop(lr=0.01)\n",
        "  model.compile(loss='categorical_crossentropy', optimizer=rmsprop, metrics=['accuracy'])\n",
        "  print(model.summary())\n",
        "  return model\n",
        "\n",
        "np.random.seed(5)\n",
        "random.seed(5)\n",
        "session_conf = tf.compat.v1.ConfigProto(intra_op_parallelism_threads=1,\n",
        "                              inter_op_parallelism_threads=1)\n",
        "tf.compat.v1.set_random_seed(5)\n",
        "\n",
        "model = custom_model(input_length=20,input_length2=50,vocab_size=13273+1,emb_dim = 128)\n",
        "model.fit(x=[X_train_,X_to_train_,X_from_train_], y=Y_train_, validation_data = ([X_test_,X_to_test_,X_from_test_], Y_test_), batch_size=64, epochs=5) \n",
        "# save the model\n",
        "# model.save('model.h5')"
      ],
      "execution_count": null,
      "outputs": [
        {
          "output_type": "stream",
          "text": [
            "Model: \"model_4\"\n",
            "__________________________________________________________________________________________________\n",
            "Layer (type)                    Output Shape         Param #     Connected to                     \n",
            "==================================================================================================\n",
            "input_13 (InputLayer)           [(None, 20)]         0                                            \n",
            "__________________________________________________________________________________________________\n",
            "input_14 (InputLayer)           [(None, 50)]         0                                            \n",
            "__________________________________________________________________________________________________\n",
            "input_15 (InputLayer)           [(None, 50)]         0                                            \n",
            "__________________________________________________________________________________________________\n",
            "tf_op_layer_concat_4 (TensorFlo [(None, 120)]        0           input_13[0][0]                   \n",
            "                                                                 input_14[0][0]                   \n",
            "                                                                 input_15[0][0]                   \n",
            "__________________________________________________________________________________________________\n",
            "embedding_12 (Embedding)        (None, 120, 128)     1699072     tf_op_layer_concat_4[0][0]       \n",
            "__________________________________________________________________________________________________\n",
            "lstm (LSTM)                     (None, 128)          131584      embedding_12[0][0]               \n",
            "__________________________________________________________________________________________________\n",
            "dense_24 (Dense)                (None, 5)            645         lstm[0][0]                       \n",
            "==================================================================================================\n",
            "Total params: 1,831,301\n",
            "Trainable params: 1,831,301\n",
            "Non-trainable params: 0\n",
            "__________________________________________________________________________________________________\n",
            "None\n",
            "Train on 10223 samples, validate on 2556 samples\n",
            "Epoch 1/5\n",
            "10223/10223 [==============================] - 55s 5ms/sample - loss: 1.2891 - accuracy: 0.4868 - val_loss: 1.1271 - val_accuracy: 0.5481\n",
            "Epoch 2/5\n",
            "10223/10223 [==============================] - 52s 5ms/sample - loss: 0.9754 - accuracy: 0.6138 - val_loss: 0.6409 - val_accuracy: 0.7703\n",
            "Epoch 3/5\n",
            "10223/10223 [==============================] - 53s 5ms/sample - loss: 0.5055 - accuracy: 0.8239 - val_loss: 0.5632 - val_accuracy: 0.8052\n",
            "Epoch 4/5\n",
            "10223/10223 [==============================] - 53s 5ms/sample - loss: 0.3666 - accuracy: 0.8741 - val_loss: 0.5675 - val_accuracy: 0.8013\n",
            "Epoch 5/5\n",
            "10223/10223 [==============================] - 54s 5ms/sample - loss: 0.2713 - accuracy: 0.9081 - val_loss: 0.6217 - val_accuracy: 0.7911\n"
          ],
          "name": "stdout"
        },
        {
          "output_type": "execute_result",
          "data": {
            "text/plain": [
              "<tensorflow.python.keras.callbacks.History at 0x7fe474999780>"
            ]
          },
          "metadata": {
            "tags": []
          },
          "execution_count": 142
        }
      ]
    },
    {
      "cell_type": "code",
      "metadata": {
        "colab_type": "code",
        "id": "XwtmNoeDxoza",
        "colab": {
          "base_uri": "https://localhost:8080/",
          "height": 633
        },
        "outputId": "0717102b-3cc9-4049-f63e-e30e611cd13a"
      },
      "source": [
        "# input_length2=100\n",
        "\n",
        "def custom_model(input_length=20, input_length2=100, vocab_size=13274, emb_dim = 128):\n",
        "  inputs1 = Input(shape=(input_length,))\n",
        "  inputs2 = Input(shape=(input_length2,))\n",
        "  inputs3 = Input(shape=(input_length2,))\n",
        "  merged = concatenate([inputs1, inputs2, inputs3])\n",
        "\n",
        "  emb1 = Embedding(vocab_size, emb_dim)(merged)\n",
        "  lstm = LSTM(128, dropout=0.2)(emb1)\n",
        "  outputs = Dense(5, activation=\"softmax\")(lstm)\n",
        "  model = Model(inputs=[inputs1, inputs2, inputs3], outputs=outputs)\n",
        "  rmsprop = optimizers.RMSprop(lr=0.01)\n",
        "  model.compile(loss='categorical_crossentropy', optimizer=rmsprop, metrics=['accuracy'])\n",
        "  print(model.summary())\n",
        "  return model\n",
        "\n",
        "np.random.seed(5)\n",
        "random.seed(5)\n",
        "session_conf = tf.compat.v1.ConfigProto(intra_op_parallelism_threads=1,\n",
        "                              inter_op_parallelism_threads=1)\n",
        "tf.compat.v1.set_random_seed(5)\n",
        "\n",
        "model = custom_model(input_length=20,input_length2=100,vocab_size=13273+1,emb_dim = 128)\n",
        "model.fit(x=[X_train_,X_to_train_,X_from_train_], y=Y_train_, validation_data = ([X_test_,X_to_test_,X_from_test_], Y_test_), batch_size=64, epochs=5) \n",
        "# save the model\n",
        "# model.save('model.h5')"
      ],
      "execution_count": null,
      "outputs": [
        {
          "output_type": "stream",
          "text": [
            "Model: \"model_18\"\n",
            "__________________________________________________________________________________________________\n",
            "Layer (type)                    Output Shape         Param #     Connected to                     \n",
            "==================================================================================================\n",
            "input_62 (InputLayer)           [(None, 20)]         0                                            \n",
            "__________________________________________________________________________________________________\n",
            "input_63 (InputLayer)           [(None, 100)]        0                                            \n",
            "__________________________________________________________________________________________________\n",
            "input_64 (InputLayer)           [(None, 100)]        0                                            \n",
            "__________________________________________________________________________________________________\n",
            "tf_op_layer_concat_25 (TensorFl [(None, 220)]        0           input_62[0][0]                   \n",
            "                                                                 input_63[0][0]                   \n",
            "                                                                 input_64[0][0]                   \n",
            "__________________________________________________________________________________________________\n",
            "embedding_53 (Embedding)        (None, 220, 128)     1699072     tf_op_layer_concat_25[0][0]      \n",
            "__________________________________________________________________________________________________\n",
            "lstm_9 (LSTM)                   (None, 128)          131584      embedding_53[0][0]               \n",
            "__________________________________________________________________________________________________\n",
            "dense_58 (Dense)                (None, 5)            645         lstm_9[0][0]                     \n",
            "==================================================================================================\n",
            "Total params: 1,831,301\n",
            "Trainable params: 1,831,301\n",
            "Non-trainable params: 0\n",
            "__________________________________________________________________________________________________\n",
            "None\n",
            "Train on 10223 samples, validate on 2556 samples\n",
            "Epoch 1/5\n",
            "10223/10223 [==============================] - 95s 9ms/sample - loss: 1.4771 - accuracy: 0.3718 - val_loss: 1.2271 - val_accuracy: 0.5110\n",
            "Epoch 2/5\n",
            "10223/10223 [==============================] - 93s 9ms/sample - loss: 1.0790 - accuracy: 0.5671 - val_loss: 1.1313 - val_accuracy: 0.5450\n",
            "Epoch 3/5\n",
            "10223/10223 [==============================] - 93s 9ms/sample - loss: 0.9407 - accuracy: 0.6201 - val_loss: 0.9443 - val_accuracy: 0.5775\n",
            "Epoch 4/5\n",
            "10223/10223 [==============================] - 94s 9ms/sample - loss: 0.5393 - accuracy: 0.7987 - val_loss: 0.5960 - val_accuracy: 0.7903\n",
            "Epoch 5/5\n",
            "10223/10223 [==============================] - 93s 9ms/sample - loss: 0.3596 - accuracy: 0.8751 - val_loss: 0.6279 - val_accuracy: 0.7903\n"
          ],
          "name": "stdout"
        },
        {
          "output_type": "execute_result",
          "data": {
            "text/plain": [
              "<tensorflow.python.keras.callbacks.History at 0x7fe473a487b8>"
            ]
          },
          "metadata": {
            "tags": []
          },
          "execution_count": 165
        }
      ]
    },
    {
      "cell_type": "code",
      "metadata": {
        "id": "mTLYYPX90rDh",
        "colab_type": "code",
        "colab": {
          "base_uri": "https://localhost:8080/",
          "height": 667
        },
        "outputId": "a12b8cfc-dd4f-4c5d-900c-fdf89a291930"
      },
      "source": [
        "# input_length2=50, 2 hidden layers\n",
        "\n",
        "def custom_model(input_length=20, input_length2=50, vocab_size=13274, emb_dim = 128):\n",
        "  inputs1 = Input(shape=(input_length,))\n",
        "  inputs2 = Input(shape=(input_length2,))\n",
        "  inputs3 = Input(shape=(input_length2,))\n",
        "  merged = concatenate([inputs1, inputs2, inputs3])\n",
        "\n",
        "  emb1 = Embedding(vocab_size, emb_dim)(merged)\n",
        "  lstm = LSTM(128, dropout=0.2,return_sequences=True)(emb1)\n",
        "  lstm2 = LSTM(128, dropout=0.2)(lstm)\n",
        "  outputs = Dense(5, activation=\"softmax\")(lstm2)\n",
        "  model = Model(inputs=[inputs1, inputs2, inputs3], outputs=outputs)\n",
        "  rmsprop = optimizers.RMSprop(lr=0.01)\n",
        "  model.compile(loss='categorical_crossentropy', optimizer=rmsprop, metrics=['accuracy'])\n",
        "  print(model.summary())\n",
        "  return model\n",
        "\n",
        "np.random.seed(5)\n",
        "random.seed(5)\n",
        "session_conf = tf.compat.v1.ConfigProto(intra_op_parallelism_threads=1,\n",
        "                              inter_op_parallelism_threads=1)\n",
        "tf.compat.v1.set_random_seed(5)\n",
        "\n",
        "model = custom_model(input_length=20,input_length2=50,vocab_size=13273+1,emb_dim = 128)\n",
        "model.fit(x=[X_train_,X_to_train_,X_from_train_], y=Y_train_, validation_data = ([X_test_,X_to_test_,X_from_test_], Y_test_), batch_size=64, epochs=5) \n",
        "# save the model\n",
        "# model.save('model.h5')"
      ],
      "execution_count": null,
      "outputs": [
        {
          "output_type": "stream",
          "text": [
            "Model: \"model_9\"\n",
            "__________________________________________________________________________________________________\n",
            "Layer (type)                    Output Shape         Param #     Connected to                     \n",
            "==================================================================================================\n",
            "input_31 (InputLayer)           [(None, 20)]         0                                            \n",
            "__________________________________________________________________________________________________\n",
            "input_32 (InputLayer)           [(None, 50)]         0                                            \n",
            "__________________________________________________________________________________________________\n",
            "input_33 (InputLayer)           [(None, 50)]         0                                            \n",
            "__________________________________________________________________________________________________\n",
            "tf_op_layer_concat_10 (TensorFl [(None, 120)]        0           input_31[0][0]                   \n",
            "                                                                 input_32[0][0]                   \n",
            "                                                                 input_33[0][0]                   \n",
            "__________________________________________________________________________________________________\n",
            "embedding_24 (Embedding)        (None, 120, 128)     1699072     tf_op_layer_concat_10[0][0]      \n",
            "__________________________________________________________________________________________________\n",
            "lstm_4 (LSTM)                   (None, 120, 128)     131584      embedding_24[0][0]               \n",
            "__________________________________________________________________________________________________\n",
            "lstm_5 (LSTM)                   (None, 128)          131584      lstm_4[0][0]                     \n",
            "__________________________________________________________________________________________________\n",
            "dense_32 (Dense)                (None, 5)            645         lstm_5[0][0]                     \n",
            "==================================================================================================\n",
            "Total params: 1,962,885\n",
            "Trainable params: 1,962,885\n",
            "Non-trainable params: 0\n",
            "__________________________________________________________________________________________________\n",
            "None\n",
            "Train on 10223 samples, validate on 2556 samples\n",
            "Epoch 1/5\n",
            "10223/10223 [==============================] - 106s 10ms/sample - loss: 1.5889 - accuracy: 0.2693 - val_loss: 1.3288 - val_accuracy: 0.4296\n",
            "Epoch 2/5\n",
            "10223/10223 [==============================] - 104s 10ms/sample - loss: 1.1425 - accuracy: 0.5311 - val_loss: 0.9034 - val_accuracy: 0.6510\n",
            "Epoch 3/5\n",
            "10223/10223 [==============================] - 103s 10ms/sample - loss: 0.6703 - accuracy: 0.7564 - val_loss: 0.6468 - val_accuracy: 0.7688\n",
            "Epoch 4/5\n",
            "10223/10223 [==============================] - 103s 10ms/sample - loss: 0.5136 - accuracy: 0.8257 - val_loss: 0.7035 - val_accuracy: 0.7629\n",
            "Epoch 5/5\n",
            "10223/10223 [==============================] - 103s 10ms/sample - loss: 0.4252 - accuracy: 0.8562 - val_loss: 0.6036 - val_accuracy: 0.7864\n"
          ],
          "name": "stdout"
        },
        {
          "output_type": "execute_result",
          "data": {
            "text/plain": [
              "<tensorflow.python.keras.callbacks.History at 0x7fe476792748>"
            ]
          },
          "metadata": {
            "tags": []
          },
          "execution_count": 148
        }
      ]
    },
    {
      "cell_type": "markdown",
      "metadata": {
        "id": "TNQTgCGYxij4",
        "colab_type": "text"
      },
      "source": [
        "##### Bi-LSTM"
      ]
    },
    {
      "cell_type": "code",
      "metadata": {
        "id": "Sz0D_S6YwLx0",
        "colab_type": "code",
        "colab": {
          "base_uri": "https://localhost:8080/",
          "height": 633
        },
        "outputId": "26d41c4b-fdf8-41cd-d561-6cfb58dc11d1"
      },
      "source": [
        "# input_length2=50\n",
        "\n",
        "def custom_model(input_length=20, input_length2=50, vocab_size=13274, emb_dim = 128):\n",
        "  inputs1 = Input(shape=(input_length,))\n",
        "  inputs2 = Input(shape=(input_length2,))\n",
        "  inputs3 = Input(shape=(input_length2,))\n",
        "  merged = concatenate([inputs1, inputs2, inputs3])\n",
        "\n",
        "  emb1 = Embedding(vocab_size, emb_dim)(merged)\n",
        "  lstm = Bidirectional(LSTM(128, dropout=0.2))(emb1)\n",
        "  outputs = Dense(5, activation=\"softmax\")(lstm)\n",
        "  model = Model(inputs=[inputs1, inputs2, inputs3], outputs=outputs)\n",
        "  rmsprop = optimizers.RMSprop(lr=0.01)\n",
        "  model.compile(loss='categorical_crossentropy', optimizer=rmsprop, metrics=['accuracy'])\n",
        "  print(model.summary())\n",
        "  return model\n",
        "\n",
        "np.random.seed(5)\n",
        "random.seed(5)\n",
        "session_conf = tf.compat.v1.ConfigProto(intra_op_parallelism_threads=1,\n",
        "                              inter_op_parallelism_threads=1)\n",
        "tf.compat.v1.set_random_seed(5)\n",
        "\n",
        "model = custom_model(input_length=20,input_length2=50,vocab_size=13273+1,emb_dim = 128)\n",
        "model.fit(x=[X_train_,X_to_train_,X_from_train_], y=Y_train_, validation_data = ([X_test_,X_to_test_,X_from_test_], Y_test_), batch_size=64, epochs=5) \n",
        "# save the model\n",
        "# model.save('model.h5')"
      ],
      "execution_count": null,
      "outputs": [
        {
          "output_type": "stream",
          "text": [
            "Model: \"model_8\"\n",
            "__________________________________________________________________________________________________\n",
            "Layer (type)                    Output Shape         Param #     Connected to                     \n",
            "==================================================================================================\n",
            "input_25 (InputLayer)           [(None, 20)]         0                                            \n",
            "__________________________________________________________________________________________________\n",
            "input_26 (InputLayer)           [(None, 50)]         0                                            \n",
            "__________________________________________________________________________________________________\n",
            "input_27 (InputLayer)           [(None, 50)]         0                                            \n",
            "__________________________________________________________________________________________________\n",
            "tf_op_layer_concat_8 (TensorFlo [(None, 120)]        0           input_25[0][0]                   \n",
            "                                                                 input_26[0][0]                   \n",
            "                                                                 input_27[0][0]                   \n",
            "__________________________________________________________________________________________________\n",
            "embedding_22 (Embedding)        (None, 120, 128)     1699072     tf_op_layer_concat_8[0][0]       \n",
            "__________________________________________________________________________________________________\n",
            "bidirectional (Bidirectional)   (None, 256)          263168      embedding_22[0][0]               \n",
            "__________________________________________________________________________________________________\n",
            "dense_31 (Dense)                (None, 5)            1285        bidirectional[0][0]              \n",
            "==================================================================================================\n",
            "Total params: 1,963,525\n",
            "Trainable params: 1,963,525\n",
            "Non-trainable params: 0\n",
            "__________________________________________________________________________________________________\n",
            "None\n",
            "Train on 10223 samples, validate on 2556 samples\n",
            "Epoch 1/5\n",
            "10223/10223 [==============================] - 105s 10ms/sample - loss: 1.3186 - accuracy: 0.4697 - val_loss: 1.1504 - val_accuracy: 0.5469\n",
            "Epoch 2/5\n",
            "10223/10223 [==============================] - 102s 10ms/sample - loss: 0.6742 - accuracy: 0.7521 - val_loss: 0.5626 - val_accuracy: 0.7969\n",
            "Epoch 3/5\n",
            "10223/10223 [==============================] - 102s 10ms/sample - loss: 0.4230 - accuracy: 0.8569 - val_loss: 0.5942 - val_accuracy: 0.7969\n",
            "Epoch 4/5\n",
            "10223/10223 [==============================] - 101s 10ms/sample - loss: 0.3110 - accuracy: 0.8946 - val_loss: 0.6282 - val_accuracy: 0.7926\n",
            "Epoch 5/5\n",
            "10223/10223 [==============================] - 100s 10ms/sample - loss: 0.2282 - accuracy: 0.9253 - val_loss: 0.6200 - val_accuracy: 0.7958\n"
          ],
          "name": "stdout"
        },
        {
          "output_type": "execute_result",
          "data": {
            "text/plain": [
              "<tensorflow.python.keras.callbacks.History at 0x7fe478492f98>"
            ]
          },
          "metadata": {
            "tags": []
          },
          "execution_count": 146
        }
      ]
    }
  ]
}