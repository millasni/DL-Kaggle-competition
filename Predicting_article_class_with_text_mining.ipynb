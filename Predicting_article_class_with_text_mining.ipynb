{
  "nbformat": 4,
  "nbformat_minor": 0,
  "metadata": {
    "kernelspec": {
      "display_name": "Python 3",
      "language": "python",
      "name": "python3"
    },
    "language_info": {
      "codemirror_mode": {
        "name": "ipython",
        "version": 3
      },
      "file_extension": ".py",
      "mimetype": "text/x-python",
      "name": "python",
      "nbconvert_exporter": "python",
      "pygments_lexer": "ipython3",
      "version": "3.7.4"
    },
    "colab": {
      "name": "Predicting article class with text mining.ipynb",
      "provenance": [],
      "collapsed_sections": [],
      "toc_visible": true
    }
  },
  "cells": [
    {
      "cell_type": "markdown",
      "metadata": {
        "id": "HwPOYDjp5aEq",
        "colab_type": "text"
      },
      "source": [
        "## Introduction\n",
        "\n",
        "The task is to predict which category an article belongs to (there 5 categorories) given its title and the titles of its references / titles of articles referring to the article (a network of references).\n",
        "\n",
        "Here I use text mining techniques - stopword removals, tf-df matrices, bag-of-words (BoW) in combination with multinomial logistic regression, naive bayes, and multi-layer perceptron. \n",
        "\n",
        "Using tf-idf matrix of own titles+reference titles allows getting 82% accuracy with logistic regression and 82.6% accuracy with MLP (both numbers are accuracy obtained when predictions were uploaded to Kaggle)."
      ]
    },
    {
      "cell_type": "markdown",
      "metadata": {
        "id": "sr9Cs0Gk5aEs",
        "colab_type": "text"
      },
      "source": [
        "## Libraries installation and data prep\n"
      ]
    },
    {
      "cell_type": "code",
      "metadata": {
        "id": "jR-Jxfui5aEt",
        "colab_type": "code",
        "colab": {
          "base_uri": "https://localhost:8080/",
          "height": 50
        },
        "outputId": "da004c25-6d80-4f0d-da3c-4f0c2aa7c3cc"
      },
      "source": [
        "!pip install NLTK"
      ],
      "execution_count": null,
      "outputs": [
        {
          "output_type": "stream",
          "text": [
            "Requirement already satisfied: NLTK in /usr/local/lib/python3.6/dist-packages (3.2.5)\n",
            "Requirement already satisfied: six in /usr/local/lib/python3.6/dist-packages (from NLTK) (1.12.0)\n"
          ],
          "name": "stdout"
        }
      ]
    },
    {
      "cell_type": "code",
      "metadata": {
        "id": "ib1lmuB35aEw",
        "colab_type": "code",
        "colab": {
          "base_uri": "https://localhost:8080/",
          "height": 1000
        },
        "outputId": "3df191df-dc55-4f0c-d8cf-9d2fdda90748"
      },
      "source": [
        "import nltk\n",
        "nltk.download('all')"
      ],
      "execution_count": null,
      "outputs": [
        {
          "output_type": "stream",
          "text": [
            "[nltk_data] Downloading collection 'all'\n",
            "[nltk_data]    | \n",
            "[nltk_data]    | Downloading package abc to /root/nltk_data...\n",
            "[nltk_data]    |   Unzipping corpora/abc.zip.\n",
            "[nltk_data]    | Downloading package alpino to /root/nltk_data...\n",
            "[nltk_data]    |   Unzipping corpora/alpino.zip.\n",
            "[nltk_data]    | Downloading package biocreative_ppi to\n",
            "[nltk_data]    |     /root/nltk_data...\n",
            "[nltk_data]    |   Unzipping corpora/biocreative_ppi.zip.\n",
            "[nltk_data]    | Downloading package brown to /root/nltk_data...\n",
            "[nltk_data]    |   Unzipping corpora/brown.zip.\n",
            "[nltk_data]    | Downloading package brown_tei to /root/nltk_data...\n",
            "[nltk_data]    |   Unzipping corpora/brown_tei.zip.\n",
            "[nltk_data]    | Downloading package cess_cat to /root/nltk_data...\n",
            "[nltk_data]    |   Unzipping corpora/cess_cat.zip.\n",
            "[nltk_data]    | Downloading package cess_esp to /root/nltk_data...\n",
            "[nltk_data]    |   Unzipping corpora/cess_esp.zip.\n",
            "[nltk_data]    | Downloading package chat80 to /root/nltk_data...\n",
            "[nltk_data]    |   Unzipping corpora/chat80.zip.\n",
            "[nltk_data]    | Downloading package city_database to\n",
            "[nltk_data]    |     /root/nltk_data...\n",
            "[nltk_data]    |   Unzipping corpora/city_database.zip.\n",
            "[nltk_data]    | Downloading package cmudict to /root/nltk_data...\n",
            "[nltk_data]    |   Unzipping corpora/cmudict.zip.\n",
            "[nltk_data]    | Downloading package comparative_sentences to\n",
            "[nltk_data]    |     /root/nltk_data...\n",
            "[nltk_data]    |   Unzipping corpora/comparative_sentences.zip.\n",
            "[nltk_data]    | Downloading package comtrans to /root/nltk_data...\n",
            "[nltk_data]    | Downloading package conll2000 to /root/nltk_data...\n",
            "[nltk_data]    |   Unzipping corpora/conll2000.zip.\n",
            "[nltk_data]    | Downloading package conll2002 to /root/nltk_data...\n",
            "[nltk_data]    |   Unzipping corpora/conll2002.zip.\n",
            "[nltk_data]    | Downloading package conll2007 to /root/nltk_data...\n",
            "[nltk_data]    | Downloading package crubadan to /root/nltk_data...\n",
            "[nltk_data]    |   Unzipping corpora/crubadan.zip.\n",
            "[nltk_data]    | Downloading package dependency_treebank to\n",
            "[nltk_data]    |     /root/nltk_data...\n",
            "[nltk_data]    |   Unzipping corpora/dependency_treebank.zip.\n",
            "[nltk_data]    | Downloading package dolch to /root/nltk_data...\n",
            "[nltk_data]    |   Unzipping corpora/dolch.zip.\n",
            "[nltk_data]    | Downloading package europarl_raw to\n",
            "[nltk_data]    |     /root/nltk_data...\n",
            "[nltk_data]    |   Unzipping corpora/europarl_raw.zip.\n",
            "[nltk_data]    | Downloading package floresta to /root/nltk_data...\n",
            "[nltk_data]    |   Unzipping corpora/floresta.zip.\n",
            "[nltk_data]    | Downloading package framenet_v15 to\n",
            "[nltk_data]    |     /root/nltk_data...\n",
            "[nltk_data]    |   Unzipping corpora/framenet_v15.zip.\n",
            "[nltk_data]    | Downloading package framenet_v17 to\n",
            "[nltk_data]    |     /root/nltk_data...\n",
            "[nltk_data]    |   Unzipping corpora/framenet_v17.zip.\n",
            "[nltk_data]    | Downloading package gazetteers to /root/nltk_data...\n",
            "[nltk_data]    |   Unzipping corpora/gazetteers.zip.\n",
            "[nltk_data]    | Downloading package genesis to /root/nltk_data...\n",
            "[nltk_data]    |   Unzipping corpora/genesis.zip.\n",
            "[nltk_data]    | Downloading package gutenberg to /root/nltk_data...\n",
            "[nltk_data]    |   Unzipping corpora/gutenberg.zip.\n",
            "[nltk_data]    | Downloading package ieer to /root/nltk_data...\n",
            "[nltk_data]    |   Unzipping corpora/ieer.zip.\n",
            "[nltk_data]    | Downloading package inaugural to /root/nltk_data...\n",
            "[nltk_data]    |   Unzipping corpora/inaugural.zip.\n",
            "[nltk_data]    | Downloading package indian to /root/nltk_data...\n",
            "[nltk_data]    |   Unzipping corpora/indian.zip.\n",
            "[nltk_data]    | Downloading package jeita to /root/nltk_data...\n",
            "[nltk_data]    | Downloading package kimmo to /root/nltk_data...\n",
            "[nltk_data]    |   Unzipping corpora/kimmo.zip.\n",
            "[nltk_data]    | Downloading package knbc to /root/nltk_data...\n",
            "[nltk_data]    | Downloading package lin_thesaurus to\n",
            "[nltk_data]    |     /root/nltk_data...\n",
            "[nltk_data]    |   Unzipping corpora/lin_thesaurus.zip.\n",
            "[nltk_data]    | Downloading package mac_morpho to /root/nltk_data...\n",
            "[nltk_data]    |   Unzipping corpora/mac_morpho.zip.\n",
            "[nltk_data]    | Downloading package machado to /root/nltk_data...\n",
            "[nltk_data]    | Downloading package masc_tagged to /root/nltk_data...\n",
            "[nltk_data]    | Downloading package moses_sample to\n",
            "[nltk_data]    |     /root/nltk_data...\n",
            "[nltk_data]    |   Unzipping models/moses_sample.zip.\n",
            "[nltk_data]    | Downloading package movie_reviews to\n",
            "[nltk_data]    |     /root/nltk_data...\n",
            "[nltk_data]    |   Unzipping corpora/movie_reviews.zip.\n",
            "[nltk_data]    | Downloading package names to /root/nltk_data...\n",
            "[nltk_data]    |   Unzipping corpora/names.zip.\n",
            "[nltk_data]    | Downloading package nombank.1.0 to /root/nltk_data...\n",
            "[nltk_data]    | Downloading package nps_chat to /root/nltk_data...\n",
            "[nltk_data]    |   Unzipping corpora/nps_chat.zip.\n",
            "[nltk_data]    | Downloading package omw to /root/nltk_data...\n",
            "[nltk_data]    |   Unzipping corpora/omw.zip.\n",
            "[nltk_data]    | Downloading package opinion_lexicon to\n",
            "[nltk_data]    |     /root/nltk_data...\n",
            "[nltk_data]    |   Unzipping corpora/opinion_lexicon.zip.\n",
            "[nltk_data]    | Downloading package paradigms to /root/nltk_data...\n",
            "[nltk_data]    |   Unzipping corpora/paradigms.zip.\n",
            "[nltk_data]    | Downloading package pil to /root/nltk_data...\n",
            "[nltk_data]    |   Unzipping corpora/pil.zip.\n",
            "[nltk_data]    | Downloading package pl196x to /root/nltk_data...\n",
            "[nltk_data]    |   Unzipping corpora/pl196x.zip.\n",
            "[nltk_data]    | Downloading package ppattach to /root/nltk_data...\n",
            "[nltk_data]    |   Unzipping corpora/ppattach.zip.\n",
            "[nltk_data]    | Downloading package problem_reports to\n",
            "[nltk_data]    |     /root/nltk_data...\n",
            "[nltk_data]    |   Unzipping corpora/problem_reports.zip.\n",
            "[nltk_data]    | Downloading package propbank to /root/nltk_data...\n",
            "[nltk_data]    | Downloading package ptb to /root/nltk_data...\n",
            "[nltk_data]    |   Unzipping corpora/ptb.zip.\n",
            "[nltk_data]    | Downloading package product_reviews_1 to\n",
            "[nltk_data]    |     /root/nltk_data...\n",
            "[nltk_data]    |   Unzipping corpora/product_reviews_1.zip.\n",
            "[nltk_data]    | Downloading package product_reviews_2 to\n",
            "[nltk_data]    |     /root/nltk_data...\n",
            "[nltk_data]    |   Unzipping corpora/product_reviews_2.zip.\n",
            "[nltk_data]    | Downloading package pros_cons to /root/nltk_data...\n",
            "[nltk_data]    |   Unzipping corpora/pros_cons.zip.\n",
            "[nltk_data]    | Downloading package qc to /root/nltk_data...\n",
            "[nltk_data]    |   Unzipping corpora/qc.zip.\n",
            "[nltk_data]    | Downloading package reuters to /root/nltk_data...\n",
            "[nltk_data]    | Downloading package rte to /root/nltk_data...\n",
            "[nltk_data]    |   Unzipping corpora/rte.zip.\n",
            "[nltk_data]    | Downloading package semcor to /root/nltk_data...\n",
            "[nltk_data]    | Downloading package senseval to /root/nltk_data...\n",
            "[nltk_data]    |   Unzipping corpora/senseval.zip.\n",
            "[nltk_data]    | Downloading package sentiwordnet to\n",
            "[nltk_data]    |     /root/nltk_data...\n",
            "[nltk_data]    |   Unzipping corpora/sentiwordnet.zip.\n",
            "[nltk_data]    | Downloading package sentence_polarity to\n",
            "[nltk_data]    |     /root/nltk_data...\n",
            "[nltk_data]    |   Unzipping corpora/sentence_polarity.zip.\n",
            "[nltk_data]    | Downloading package shakespeare to /root/nltk_data...\n",
            "[nltk_data]    |   Unzipping corpora/shakespeare.zip.\n",
            "[nltk_data]    | Downloading package sinica_treebank to\n",
            "[nltk_data]    |     /root/nltk_data...\n",
            "[nltk_data]    |   Unzipping corpora/sinica_treebank.zip.\n",
            "[nltk_data]    | Downloading package smultron to /root/nltk_data...\n",
            "[nltk_data]    |   Unzipping corpora/smultron.zip.\n",
            "[nltk_data]    | Downloading package state_union to /root/nltk_data...\n",
            "[nltk_data]    |   Unzipping corpora/state_union.zip.\n",
            "[nltk_data]    | Downloading package stopwords to /root/nltk_data...\n",
            "[nltk_data]    |   Unzipping corpora/stopwords.zip.\n",
            "[nltk_data]    | Downloading package subjectivity to\n",
            "[nltk_data]    |     /root/nltk_data...\n",
            "[nltk_data]    |   Unzipping corpora/subjectivity.zip.\n",
            "[nltk_data]    | Downloading package swadesh to /root/nltk_data...\n",
            "[nltk_data]    |   Unzipping corpora/swadesh.zip.\n",
            "[nltk_data]    | Downloading package switchboard to /root/nltk_data...\n",
            "[nltk_data]    |   Unzipping corpora/switchboard.zip.\n",
            "[nltk_data]    | Downloading package timit to /root/nltk_data...\n",
            "[nltk_data]    |   Unzipping corpora/timit.zip.\n",
            "[nltk_data]    | Downloading package toolbox to /root/nltk_data...\n",
            "[nltk_data]    |   Unzipping corpora/toolbox.zip.\n",
            "[nltk_data]    | Downloading package treebank to /root/nltk_data...\n",
            "[nltk_data]    |   Unzipping corpora/treebank.zip.\n",
            "[nltk_data]    | Downloading package twitter_samples to\n",
            "[nltk_data]    |     /root/nltk_data...\n",
            "[nltk_data]    |   Unzipping corpora/twitter_samples.zip.\n",
            "[nltk_data]    | Downloading package udhr to /root/nltk_data...\n",
            "[nltk_data]    |   Unzipping corpora/udhr.zip.\n",
            "[nltk_data]    | Downloading package udhr2 to /root/nltk_data...\n",
            "[nltk_data]    |   Unzipping corpora/udhr2.zip.\n",
            "[nltk_data]    | Downloading package unicode_samples to\n",
            "[nltk_data]    |     /root/nltk_data...\n",
            "[nltk_data]    |   Unzipping corpora/unicode_samples.zip.\n",
            "[nltk_data]    | Downloading package universal_treebanks_v20 to\n",
            "[nltk_data]    |     /root/nltk_data...\n",
            "[nltk_data]    | Downloading package verbnet to /root/nltk_data...\n",
            "[nltk_data]    |   Unzipping corpora/verbnet.zip.\n",
            "[nltk_data]    | Downloading package verbnet3 to /root/nltk_data...\n",
            "[nltk_data]    |   Unzipping corpora/verbnet3.zip.\n",
            "[nltk_data]    | Downloading package webtext to /root/nltk_data...\n",
            "[nltk_data]    |   Unzipping corpora/webtext.zip.\n",
            "[nltk_data]    | Downloading package wordnet to /root/nltk_data...\n",
            "[nltk_data]    |   Unzipping corpora/wordnet.zip.\n",
            "[nltk_data]    | Downloading package wordnet_ic to /root/nltk_data...\n",
            "[nltk_data]    |   Unzipping corpora/wordnet_ic.zip.\n",
            "[nltk_data]    | Downloading package words to /root/nltk_data...\n",
            "[nltk_data]    |   Unzipping corpora/words.zip.\n",
            "[nltk_data]    | Downloading package ycoe to /root/nltk_data...\n",
            "[nltk_data]    |   Unzipping corpora/ycoe.zip.\n",
            "[nltk_data]    | Downloading package rslp to /root/nltk_data...\n",
            "[nltk_data]    |   Unzipping stemmers/rslp.zip.\n",
            "[nltk_data]    | Downloading package maxent_treebank_pos_tagger to\n",
            "[nltk_data]    |     /root/nltk_data...\n",
            "[nltk_data]    |   Unzipping taggers/maxent_treebank_pos_tagger.zip.\n",
            "[nltk_data]    | Downloading package universal_tagset to\n",
            "[nltk_data]    |     /root/nltk_data...\n",
            "[nltk_data]    |   Unzipping taggers/universal_tagset.zip.\n",
            "[nltk_data]    | Downloading package maxent_ne_chunker to\n",
            "[nltk_data]    |     /root/nltk_data...\n",
            "[nltk_data]    |   Unzipping chunkers/maxent_ne_chunker.zip.\n",
            "[nltk_data]    | Downloading package punkt to /root/nltk_data...\n",
            "[nltk_data]    |   Unzipping tokenizers/punkt.zip.\n",
            "[nltk_data]    | Downloading package book_grammars to\n",
            "[nltk_data]    |     /root/nltk_data...\n",
            "[nltk_data]    |   Unzipping grammars/book_grammars.zip.\n",
            "[nltk_data]    | Downloading package sample_grammars to\n",
            "[nltk_data]    |     /root/nltk_data...\n",
            "[nltk_data]    |   Unzipping grammars/sample_grammars.zip.\n",
            "[nltk_data]    | Downloading package spanish_grammars to\n",
            "[nltk_data]    |     /root/nltk_data...\n",
            "[nltk_data]    |   Unzipping grammars/spanish_grammars.zip.\n",
            "[nltk_data]    | Downloading package basque_grammars to\n",
            "[nltk_data]    |     /root/nltk_data...\n",
            "[nltk_data]    |   Unzipping grammars/basque_grammars.zip.\n",
            "[nltk_data]    | Downloading package large_grammars to\n",
            "[nltk_data]    |     /root/nltk_data...\n",
            "[nltk_data]    |   Unzipping grammars/large_grammars.zip.\n",
            "[nltk_data]    | Downloading package tagsets to /root/nltk_data...\n",
            "[nltk_data]    |   Unzipping help/tagsets.zip.\n",
            "[nltk_data]    | Downloading package snowball_data to\n",
            "[nltk_data]    |     /root/nltk_data...\n",
            "[nltk_data]    | Downloading package bllip_wsj_no_aux to\n",
            "[nltk_data]    |     /root/nltk_data...\n",
            "[nltk_data]    |   Unzipping models/bllip_wsj_no_aux.zip.\n",
            "[nltk_data]    | Downloading package word2vec_sample to\n",
            "[nltk_data]    |     /root/nltk_data...\n",
            "[nltk_data]    |   Unzipping models/word2vec_sample.zip.\n",
            "[nltk_data]    | Downloading package panlex_swadesh to\n",
            "[nltk_data]    |     /root/nltk_data...\n",
            "[nltk_data]    | Downloading package mte_teip5 to /root/nltk_data...\n",
            "[nltk_data]    |   Unzipping corpora/mte_teip5.zip.\n",
            "[nltk_data]    | Downloading package averaged_perceptron_tagger to\n",
            "[nltk_data]    |     /root/nltk_data...\n",
            "[nltk_data]    |   Unzipping taggers/averaged_perceptron_tagger.zip.\n",
            "[nltk_data]    | Downloading package averaged_perceptron_tagger_ru to\n",
            "[nltk_data]    |     /root/nltk_data...\n",
            "[nltk_data]    |   Unzipping\n",
            "[nltk_data]    |       taggers/averaged_perceptron_tagger_ru.zip.\n",
            "[nltk_data]    | Downloading package perluniprops to\n",
            "[nltk_data]    |     /root/nltk_data...\n",
            "[nltk_data]    |   Unzipping misc/perluniprops.zip.\n",
            "[nltk_data]    | Downloading package nonbreaking_prefixes to\n",
            "[nltk_data]    |     /root/nltk_data...\n",
            "[nltk_data]    |   Unzipping corpora/nonbreaking_prefixes.zip.\n",
            "[nltk_data]    | Downloading package vader_lexicon to\n",
            "[nltk_data]    |     /root/nltk_data...\n",
            "[nltk_data]    | Downloading package porter_test to /root/nltk_data...\n",
            "[nltk_data]    |   Unzipping stemmers/porter_test.zip.\n",
            "[nltk_data]    | Downloading package wmt15_eval to /root/nltk_data...\n",
            "[nltk_data]    |   Unzipping models/wmt15_eval.zip.\n",
            "[nltk_data]    | Downloading package mwa_ppdb to /root/nltk_data...\n",
            "[nltk_data]    |   Unzipping misc/mwa_ppdb.zip.\n",
            "[nltk_data]    | \n",
            "[nltk_data]  Done downloading collection all\n"
          ],
          "name": "stdout"
        },
        {
          "output_type": "execute_result",
          "data": {
            "text/plain": [
              "True"
            ]
          },
          "metadata": {
            "tags": []
          },
          "execution_count": 2
        }
      ]
    },
    {
      "cell_type": "code",
      "metadata": {
        "id": "7IZpAD5-5aGl",
        "colab_type": "code",
        "colab": {
          "base_uri": "https://localhost:8080/",
          "height": 70
        },
        "outputId": "7038f10d-4f19-4f93-a5d9-a8b30951d0f7"
      },
      "source": [
        "import os\n",
        "import pandas as pd\n",
        "import numpy as np\n",
        "from collections import defaultdict\n",
        "import collections\n",
        "from nltk import word_tokenize\n",
        "import matplotlib.pyplot as plt\n",
        "import seaborn as sns\n",
        "from sklearn.model_selection import train_test_split\n",
        "from sklearn.feature_extraction.text import TfidfVectorizer, CountVectorizer\n",
        "from sklearn.model_selection import train_test_split\n",
        "from sklearn.decomposition import TruncatedSVD          \n",
        "from sklearn.linear_model import LogisticRegression\n",
        "from sklearn.naive_bayes import MultinomialNB\n",
        "from sklearn.ensemble import RandomForestClassifier\n",
        "from sklearn.metrics import accuracy_score\n",
        "from sklearn.metrics import recall_score\n",
        "from sklearn.metrics import f1_score\n",
        "from sklearn.metrics import precision_score\n",
        "from sklearn.metrics import confusion_matrix\n",
        "from sklearn.model_selection import StratifiedKFold\n",
        "from nltk.stem.snowball import SnowballStemmer"
      ],
      "execution_count": null,
      "outputs": [
        {
          "output_type": "stream",
          "text": [
            "/usr/local/lib/python3.6/dist-packages/statsmodels/tools/_testing.py:19: FutureWarning: pandas.util.testing is deprecated. Use the functions in the public API at pandas.testing instead.\n",
            "  import pandas.util.testing as tm\n"
          ],
          "name": "stderr"
        }
      ]
    },
    {
      "cell_type": "code",
      "metadata": {
        "id": "5tDJp_JlMtJq",
        "colab_type": "code",
        "colab": {
          "base_uri": "https://localhost:8080/",
          "height": 117
        },
        "outputId": "72bbaed7-caac-4f8f-95c1-d396056079a0"
      },
      "source": [
        "# download the repo to get access to data\n",
        "!rm -rf DL-Kaggle-competition/\n",
        "!git clone https://github.com/millasni/DL-Kaggle-competition/"
      ],
      "execution_count": null,
      "outputs": [
        {
          "output_type": "stream",
          "text": [
            "Cloning into 'DL-Kaggle-competition'...\n",
            "remote: Enumerating objects: 16, done.\u001b[K\n",
            "remote: Counting objects: 100% (16/16), done.\u001b[K\n",
            "remote: Compressing objects: 100% (13/13), done.\u001b[K\n",
            "remote: Total 16 (delta 3), reused 14 (delta 1), pack-reused 0\u001b[K\n",
            "Unpacking objects: 100% (16/16), done.\n"
          ],
          "name": "stdout"
        }
      ]
    },
    {
      "cell_type": "code",
      "metadata": {
        "id": "UXiv3Bcumuc4",
        "colab_type": "code",
        "colab": {}
      },
      "source": [
        "train = pd.read_csv('DL-Kaggle-competition/train.csv') \n",
        "test = pd.read_csv('DL-Kaggle-competition/test.csv') \n",
        "text = pd.read_csv('DL-Kaggle-competition/text.csv') \n",
        "reference = pd.read_csv('DL-Kaggle-competition/reference.csv') \n",
        "reference_classes = pd.read_csv('DL-Kaggle-competition/ref_class_shares.csv') \n",
        "cross_ref = pd.read_csv('DL-Kaggle-competition/ref_in_out.csv') "
      ],
      "execution_count": null,
      "outputs": []
    },
    {
      "cell_type": "code",
      "metadata": {
        "id": "AwVjk2TxOG3j",
        "colab_type": "code",
        "colab": {
          "base_uri": "https://localhost:8080/",
          "height": 197
        },
        "outputId": "fcb1b44a-011c-457f-a4ae-28bebd3098a9"
      },
      "source": [
        "train = train.join(text, how='left', on='id',  lsuffix='', rsuffix='text')\n",
        "train.head()"
      ],
      "execution_count": null,
      "outputs": [
        {
          "output_type": "execute_result",
          "data": {
            "text/html": [
              "<div>\n",
              "<style scoped>\n",
              "    .dataframe tbody tr th:only-of-type {\n",
              "        vertical-align: middle;\n",
              "    }\n",
              "\n",
              "    .dataframe tbody tr th {\n",
              "        vertical-align: top;\n",
              "    }\n",
              "\n",
              "    .dataframe thead th {\n",
              "        text-align: right;\n",
              "    }\n",
              "</style>\n",
              "<table border=\"1\" class=\"dataframe\">\n",
              "  <thead>\n",
              "    <tr style=\"text-align: right;\">\n",
              "      <th></th>\n",
              "      <th>id</th>\n",
              "      <th>label</th>\n",
              "      <th>idtext</th>\n",
              "      <th>title</th>\n",
              "    </tr>\n",
              "  </thead>\n",
              "  <tbody>\n",
              "    <tr>\n",
              "      <th>0</th>\n",
              "      <td>0</td>\n",
              "      <td>1</td>\n",
              "      <td>0</td>\n",
              "      <td>interactive visual exploration of neighbor bas...</td>\n",
              "    </tr>\n",
              "    <tr>\n",
              "      <th>1</th>\n",
              "      <td>3</td>\n",
              "      <td>1</td>\n",
              "      <td>3</td>\n",
              "      <td>relational division four algorithms and their ...</td>\n",
              "    </tr>\n",
              "    <tr>\n",
              "      <th>2</th>\n",
              "      <td>6</td>\n",
              "      <td>1</td>\n",
              "      <td>6</td>\n",
              "      <td>simplifying xml schema effortless handling of ...</td>\n",
              "    </tr>\n",
              "    <tr>\n",
              "      <th>3</th>\n",
              "      <td>8</td>\n",
              "      <td>0</td>\n",
              "      <td>8</td>\n",
              "      <td>funbase a function based information managemen...</td>\n",
              "    </tr>\n",
              "    <tr>\n",
              "      <th>4</th>\n",
              "      <td>9</td>\n",
              "      <td>0</td>\n",
              "      <td>9</td>\n",
              "      <td>inverted matrix efficient discovery of frequen...</td>\n",
              "    </tr>\n",
              "  </tbody>\n",
              "</table>\n",
              "</div>"
            ],
            "text/plain": [
              "   id  label  idtext                                              title\n",
              "0   0      1       0  interactive visual exploration of neighbor bas...\n",
              "1   3      1       3  relational division four algorithms and their ...\n",
              "2   6      1       6  simplifying xml schema effortless handling of ...\n",
              "3   8      0       8  funbase a function based information managemen...\n",
              "4   9      0       9  inverted matrix efficient discovery of frequen..."
            ]
          },
          "metadata": {
            "tags": []
          },
          "execution_count": 6
        }
      ]
    },
    {
      "cell_type": "code",
      "metadata": {
        "id": "6M1z4BX4OIPm",
        "colab_type": "code",
        "colab": {
          "base_uri": "https://localhost:8080/",
          "height": 197
        },
        "outputId": "afcfe2f8-6ae1-4e24-a764-dc78e57eb833"
      },
      "source": [
        "test = test.join(text, how='left', on='id',  lsuffix='', rsuffix='text')\n",
        "test.head()"
      ],
      "execution_count": null,
      "outputs": [
        {
          "output_type": "execute_result",
          "data": {
            "text/html": [
              "<div>\n",
              "<style scoped>\n",
              "    .dataframe tbody tr th:only-of-type {\n",
              "        vertical-align: middle;\n",
              "    }\n",
              "\n",
              "    .dataframe tbody tr th {\n",
              "        vertical-align: top;\n",
              "    }\n",
              "\n",
              "    .dataframe thead th {\n",
              "        text-align: right;\n",
              "    }\n",
              "</style>\n",
              "<table border=\"1\" class=\"dataframe\">\n",
              "  <thead>\n",
              "    <tr style=\"text-align: right;\">\n",
              "      <th></th>\n",
              "      <th>id</th>\n",
              "      <th>idtext</th>\n",
              "      <th>title</th>\n",
              "    </tr>\n",
              "  </thead>\n",
              "  <tbody>\n",
              "    <tr>\n",
              "      <th>0</th>\n",
              "      <td>1</td>\n",
              "      <td>1</td>\n",
              "      <td>autodomainmine a graphical data mining system ...</td>\n",
              "    </tr>\n",
              "    <tr>\n",
              "      <th>1</th>\n",
              "      <td>2</td>\n",
              "      <td>2</td>\n",
              "      <td>anipqo almost non intrusive parametric query o...</td>\n",
              "    </tr>\n",
              "    <tr>\n",
              "      <th>2</th>\n",
              "      <td>4</td>\n",
              "      <td>4</td>\n",
              "      <td>selection and ranking of text from highly impe...</td>\n",
              "    </tr>\n",
              "    <tr>\n",
              "      <th>3</th>\n",
              "      <td>5</td>\n",
              "      <td>5</td>\n",
              "      <td>conditional random fields for multi agent rein...</td>\n",
              "    </tr>\n",
              "    <tr>\n",
              "      <th>4</th>\n",
              "      <td>7</td>\n",
              "      <td>7</td>\n",
              "      <td>multi dimensional description logics</td>\n",
              "    </tr>\n",
              "  </tbody>\n",
              "</table>\n",
              "</div>"
            ],
            "text/plain": [
              "   id  idtext                                              title\n",
              "0   1       1  autodomainmine a graphical data mining system ...\n",
              "1   2       2  anipqo almost non intrusive parametric query o...\n",
              "2   4       4  selection and ranking of text from highly impe...\n",
              "3   5       5  conditional random fields for multi agent rein...\n",
              "4   7       7               multi dimensional description logics"
            ]
          },
          "metadata": {
            "tags": []
          },
          "execution_count": 7
        }
      ]
    },
    {
      "cell_type": "code",
      "metadata": {
        "id": "_OME98SDM6Lc",
        "colab_type": "code",
        "colab": {
          "base_uri": "https://localhost:8080/",
          "height": 217
        },
        "outputId": "728f89fd-acf2-4b85-dec4-9e428e069a1a"
      },
      "source": [
        "# One hot encode our labels\n",
        "Y_dum = pd.get_dummies(train[\"label\"])\n",
        "Y_dum\n",
        "Y = train.label\n",
        "Y"
      ],
      "execution_count": null,
      "outputs": [
        {
          "output_type": "execute_result",
          "data": {
            "text/plain": [
              "0        1\n",
              "1        1\n",
              "2        1\n",
              "3        0\n",
              "4        0\n",
              "        ..\n",
              "12774    4\n",
              "12775    3\n",
              "12776    2\n",
              "12777    2\n",
              "12778    1\n",
              "Name: label, Length: 12779, dtype: int64"
            ]
          },
          "metadata": {
            "tags": []
          },
          "execution_count": 8
        }
      ]
    },
    {
      "cell_type": "code",
      "metadata": {
        "id": "u1WXRwIqNy9n",
        "colab_type": "code",
        "colab": {}
      },
      "source": [
        "X = list(train['title'])\n",
        "Y = np.array(list(train['label']))"
      ],
      "execution_count": null,
      "outputs": []
    },
    {
      "cell_type": "code",
      "metadata": {
        "id": "BI0SY2ZrPkbz",
        "colab_type": "code",
        "colab": {
          "base_uri": "https://localhost:8080/",
          "height": 70
        },
        "outputId": "2815ac32-9f02-4653-bfbc-db080ab4e8fe"
      },
      "source": [
        "# Filter stopwords \n",
        "from nltk.corpus import stopwords\n",
        "nltk_stop = stopwords.words('english')\n",
        "print(nltk_stop)\n",
        "print(len(nltk_stop))"
      ],
      "execution_count": null,
      "outputs": [
        {
          "output_type": "stream",
          "text": [
            "['i', 'me', 'my', 'myself', 'we', 'our', 'ours', 'ourselves', 'you', \"you're\", \"you've\", \"you'll\", \"you'd\", 'your', 'yours', 'yourself', 'yourselves', 'he', 'him', 'his', 'himself', 'she', \"she's\", 'her', 'hers', 'herself', 'it', \"it's\", 'its', 'itself', 'they', 'them', 'their', 'theirs', 'themselves', 'what', 'which', 'who', 'whom', 'this', 'that', \"that'll\", 'these', 'those', 'am', 'is', 'are', 'was', 'were', 'be', 'been', 'being', 'have', 'has', 'had', 'having', 'do', 'does', 'did', 'doing', 'a', 'an', 'the', 'and', 'but', 'if', 'or', 'because', 'as', 'until', 'while', 'of', 'at', 'by', 'for', 'with', 'about', 'against', 'between', 'into', 'through', 'during', 'before', 'after', 'above', 'below', 'to', 'from', 'up', 'down', 'in', 'out', 'on', 'off', 'over', 'under', 'again', 'further', 'then', 'once', 'here', 'there', 'when', 'where', 'why', 'how', 'all', 'any', 'both', 'each', 'few', 'more', 'most', 'other', 'some', 'such', 'no', 'nor', 'not', 'only', 'own', 'same', 'so', 'than', 'too', 'very', 's', 't', 'can', 'will', 'just', 'don', \"don't\", 'should', \"should've\", 'now', 'd', 'll', 'm', 'o', 're', 've', 'y', 'ain', 'aren', \"aren't\", 'couldn', \"couldn't\", 'didn', \"didn't\", 'doesn', \"doesn't\", 'hadn', \"hadn't\", 'hasn', \"hasn't\", 'haven', \"haven't\", 'isn', \"isn't\", 'ma', 'mightn', \"mightn't\", 'mustn', \"mustn't\", 'needn', \"needn't\", 'shan', \"shan't\", 'shouldn', \"shouldn't\", 'wasn', \"wasn't\", 'weren', \"weren't\", 'won', \"won't\", 'wouldn', \"wouldn't\"]\n",
            "179\n"
          ],
          "name": "stdout"
        }
      ]
    },
    {
      "cell_type": "code",
      "metadata": {
        "id": "B0CwP3P8QTC6",
        "colab_type": "code",
        "colab": {}
      },
      "source": [
        "nltk_stop = nltk_stop + [\"'d\", \"'ll\", \"'re\", \"'s\", \"'ve\", 'could', 'might', 'must', \"n't\", 'need', 'sha', 'wo', 'would']"
      ],
      "execution_count": null,
      "outputs": []
    },
    {
      "cell_type": "markdown",
      "metadata": {
        "id": "faLiep2HMXpe",
        "colab_type": "text"
      },
      "source": [
        "##USING ONLY ARTICLE TITLES (NO REFERENCE TITLES)"
      ]
    },
    {
      "cell_type": "markdown",
      "metadata": {
        "id": "izRENNpWXaVd",
        "colab_type": "text"
      },
      "source": [
        "## Only tokenization"
      ]
    },
    {
      "cell_type": "code",
      "metadata": {
        "id": "w6TcZZjcnHGm",
        "colab_type": "code",
        "colab": {}
      },
      "source": [
        "# Tokenize only\n",
        "def tokenize(text): \n",
        "    return [w.lower() for w in word_tokenize(str(text))]"
      ],
      "execution_count": null,
      "outputs": []
    },
    {
      "cell_type": "code",
      "metadata": {
        "colab_type": "code",
        "id": "3Z1NSU51O8Zx",
        "colab": {}
      },
      "source": [
        "Count_vec = CountVectorizer(tokenizer=tokenize, ngram_range=(1,1), min_df=2, stop_words=nltk_stop)                #Bag Of Words\n",
        "tfidf_vectorizer = TfidfVectorizer(tokenizer=tokenize, ngram_range=(1,1), min_df=2, stop_words=nltk_stop)         #TF IDF"
      ],
      "execution_count": null,
      "outputs": []
    },
    {
      "cell_type": "code",
      "metadata": {
        "colab_type": "code",
        "id": "6eXIMgROPK94",
        "colab": {}
      },
      "source": [
        "# transform text into BoW and TFIDF matrices\n",
        "BoW_matrix = Count_vec.fit_transform(X)   \n",
        "tfidf_matrix = tfidf_vectorizer.fit_transform(X)  "
      ],
      "execution_count": null,
      "outputs": []
    },
    {
      "cell_type": "code",
      "metadata": {
        "id": "7coAtn91QeCz",
        "colab_type": "code",
        "colab": {
          "base_uri": "https://localhost:8080/",
          "height": 50
        },
        "outputId": "87d01293-ab2b-4fa1-fc71-e7f43aa0450a"
      },
      "source": [
        "print(BoW_matrix.shape)\n",
        "print(tfidf_matrix.shape)"
      ],
      "execution_count": null,
      "outputs": [
        {
          "output_type": "stream",
          "text": [
            "(12779, 4483)\n",
            "(12779, 4483)\n"
          ],
          "name": "stdout"
        }
      ]
    },
    {
      "cell_type": "markdown",
      "metadata": {
        "colab_type": "text",
        "id": "FUmrcHYHSqZE"
      },
      "source": [
        "### Predicting"
      ]
    },
    {
      "cell_type": "code",
      "metadata": {
        "colab_type": "code",
        "id": "kP6zMp-OSqZI",
        "colab": {}
      },
      "source": [
        "X_BoW_train, X_BoW_test, Y_BoW_train, Y_BoW_test = train_test_split(BoW_matrix, Y, test_size=0.2, random_state = 1234)\n",
        "X_TFIDF_train, X_TFIDF_test, Y_TFIDF_train, Y_TFIDF_test = train_test_split(tfidf_matrix, Y, test_size=0.2, random_state = 1234)"
      ],
      "execution_count": null,
      "outputs": []
    },
    {
      "cell_type": "markdown",
      "metadata": {
        "id": "kvQJLrvOdGT8",
        "colab_type": "text"
      },
      "source": [
        "#### Multinomial Logistic Regression"
      ]
    },
    {
      "cell_type": "code",
      "metadata": {
        "colab_type": "code",
        "id": "DNYKTlNvSqZR",
        "colab": {
          "base_uri": "https://localhost:8080/",
          "height": 167
        },
        "outputId": "450e02d3-31e4-4279-b3be-f0ea49bac765"
      },
      "source": [
        "penalty = [0.00001,0.0001,0.001,0.01,0.1,1,2,5,10]\n",
        "for i in penalty:\n",
        "  clf_log = LogisticRegression(random_state=42, solver='lbfgs', max_iter =2000, multi_class='multinomial', C=i)\n",
        "  clf_log.fit(X_BoW_train, Y_BoW_train)\n",
        "  y_pred_log = clf_log.predict(X_BoW_test)\n",
        "  print('Penaly: ',i,'Model Accuracy: ', accuracy_score(Y_BoW_test, y_pred_log))"
      ],
      "execution_count": null,
      "outputs": [
        {
          "output_type": "stream",
          "text": [
            "Penaly:  1e-05 Model Accuracy:  0.316510172143975\n",
            "Penaly:  0.0001 Model Accuracy:  0.3673708920187793\n",
            "Penaly:  0.001 Model Accuracy:  0.5109546165884195\n",
            "Penaly:  0.01 Model Accuracy:  0.6181533646322379\n",
            "Penaly:  0.1 Model Accuracy:  0.7038341158059468\n",
            "Penaly:  1 Model Accuracy:  0.7053990610328639\n",
            "Penaly:  2 Model Accuracy:  0.6995305164319249\n",
            "Penaly:  5 Model Accuracy:  0.6838810641627543\n",
            "Penaly:  10 Model Accuracy:  0.6705790297339593\n"
          ],
          "name": "stdout"
        }
      ]
    },
    {
      "cell_type": "code",
      "metadata": {
        "colab_type": "code",
        "id": "TJATmScjSqZe",
        "colab": {
          "base_uri": "https://localhost:8080/",
          "height": 167
        },
        "outputId": "d2f24032-8859-4c69-b425-206b9d3d7164"
      },
      "source": [
        "penalty = [0.00001,0.0001,0.001,0.01,0.1,1,2,5,10]\n",
        "for i in penalty:\n",
        "  clf_log = LogisticRegression(random_state=42, solver='lbfgs', max_iter =2000, multi_class='multinomial',C=i)\n",
        "  clf_log.fit(X_TFIDF_train, Y_TFIDF_train)\n",
        "  y_pred_log = clf_log.predict(X_TFIDF_test)\n",
        "  print('Penaly: ',i,'Model Accuracy: ', accuracy_score(Y_TFIDF_test, y_pred_log))"
      ],
      "execution_count": null,
      "outputs": [
        {
          "output_type": "stream",
          "text": [
            "Penaly:  1e-05 Model Accuracy:  0.22652582159624413\n",
            "Penaly:  0.0001 Model Accuracy:  0.32355242566510173\n",
            "Penaly:  0.001 Model Accuracy:  0.3669796557120501\n",
            "Penaly:  0.01 Model Accuracy:  0.5469483568075117\n",
            "Penaly:  0.1 Model Accuracy:  0.6631455399061033\n",
            "Penaly:  1 Model Accuracy:  0.7245696400625978\n",
            "Penaly:  2 Model Accuracy:  0.7198748043818466\n",
            "Penaly:  5 Model Accuracy:  0.7097026604068858\n",
            "Penaly:  10 Model Accuracy:  0.6979655712050078\n"
          ],
          "name": "stdout"
        }
      ]
    },
    {
      "cell_type": "code",
      "metadata": {
        "id": "Qf2KGSZL8Nfj",
        "colab_type": "code",
        "colab": {
          "base_uri": "https://localhost:8080/",
          "height": 183
        },
        "outputId": "e32efa7e-a4f4-4bb2-9974-cd5750dfb48b"
      },
      "source": [
        "# fix random seed for reproducibility\n",
        "seed = 1234\n",
        "np.random.seed(seed)\n",
        "\n",
        "# define 10-fold cross validation split\n",
        "kfold = StratifiedKFold(n_splits=10, shuffle=True, random_state=seed)\n",
        "\n",
        "cvscores = []\n",
        "for train_, test_ in kfold.split(tfidf_matrix, Y):\n",
        "\n",
        "  clf_log = LogisticRegression(random_state=42, solver='lbfgs', max_iter =2000, multi_class='multinomial',C=1)\n",
        "  clf_log.fit(tfidf_matrix[train_], Y[train_])\n",
        "  y_pred_log = clf_log.predict(tfidf_matrix[test_])\n",
        "  print('Model Accuracy: ', accuracy_score(Y[test_], y_pred_log))\n",
        "  cvscores.append(accuracy_score(Y[test_], y_pred_log))"
      ],
      "execution_count": null,
      "outputs": [
        {
          "output_type": "stream",
          "text": [
            "Model Accuracy:  0.729264475743349\n",
            "Model Accuracy:  0.7214397496087637\n",
            "Model Accuracy:  0.7480438184663537\n",
            "Model Accuracy:  0.7112676056338029\n",
            "Model Accuracy:  0.7143974960876369\n",
            "Model Accuracy:  0.7394366197183099\n",
            "Model Accuracy:  0.7206572769953051\n",
            "Model Accuracy:  0.7230046948356808\n",
            "Model Accuracy:  0.7214397496087637\n",
            "Model Accuracy:  0.7439310884886453\n"
          ],
          "name": "stdout"
        }
      ]
    },
    {
      "cell_type": "code",
      "metadata": {
        "colab_type": "code",
        "id": "kdOi_C138SUQ",
        "colab": {
          "base_uri": "https://localhost:8080/",
          "height": 282
        },
        "outputId": "fda12361-95be-4cd4-a0a6-f2d9bad59d8f"
      },
      "source": [
        "print(\"%.3f%% (+/- %.3f%%)\" % (np.mean(cvscores), np.std(cvscores)))\n",
        "plt.plot(cvscores)\n",
        "plt.show()"
      ],
      "execution_count": null,
      "outputs": [
        {
          "output_type": "stream",
          "text": [
            "0.727% (+/- 0.012%)\n"
          ],
          "name": "stdout"
        },
        {
          "output_type": "display_data",
          "data": {
            "image/png": "[encoded data removed]",
            "text/plain": [
              "<Figure size 432x288 with 1 Axes>"
            ]
          },
          "metadata": {
            "tags": []
          }
        }
      ]
    },
    {
      "cell_type": "markdown",
      "metadata": {
        "id": "MlzXhG5niHa3",
        "colab_type": "text"
      },
      "source": [
        "##### --> Making predictions for Kaggle"
      ]
    },
    {
      "cell_type": "code",
      "metadata": {
        "id": "_BsZE1jnxLWp",
        "colab_type": "code",
        "colab": {}
      },
      "source": [
        "X_new = tfidf_vectorizer.transform(test.title)"
      ],
      "execution_count": null,
      "outputs": []
    },
    {
      "cell_type": "code",
      "metadata": {
        "id": "B9-CodDxxXFG",
        "colab_type": "code",
        "colab": {}
      },
      "source": [
        "Y_new5 = clf_log.predict(X_new)"
      ],
      "execution_count": null,
      "outputs": []
    },
    {
      "cell_type": "code",
      "metadata": {
        "id": "FicoXrnGxloj",
        "colab_type": "code",
        "colab": {}
      },
      "source": [
        "test5 = pd.DataFrame(list(zip(test['id'], Y_new5)), \n",
        "               columns = ['id', 'label'])\n",
        "test5\n",
        "test5.to_csv('test5.csv',index=False)"
      ],
      "execution_count": null,
      "outputs": []
    },
    {
      "cell_type": "markdown",
      "metadata": {
        "id": "cuKJ_JoDdLXz",
        "colab_type": "text"
      },
      "source": [
        "#### Naive Bayes"
      ]
    },
    {
      "cell_type": "code",
      "metadata": {
        "id": "m-P53Pb1U-8j",
        "colab_type": "code",
        "colab": {
          "base_uri": "https://localhost:8080/",
          "height": 117
        },
        "outputId": "3ed4c586-28d9-4ab8-d772-a9dd1938e153"
      },
      "source": [
        "mNB = MultinomialNB()\n",
        "mNB.fit(X_BoW_train, Y_BoW_train)\n",
        "y_pred_mNB = mNB.predict(X_BoW_test)\n",
        "print('Model Accuracy: ', accuracy_score(Y_BoW_test, y_pred_mNB))\n",
        "confusion_matrix(Y_BoW_test, y_pred_mNB)"
      ],
      "execution_count": null,
      "outputs": [
        {
          "output_type": "stream",
          "text": [
            "Model Accuracy:  0.72339593114241\n"
          ],
          "name": "stdout"
        },
        {
          "output_type": "execute_result",
          "data": {
            "text/plain": [
              "array([[381, 117,  52,  14,  31],\n",
              "       [ 80, 455,  21,  18,   5],\n",
              "       [ 66,  27, 399,  32,  37],\n",
              "       [ 18,  50,  38, 386,   9],\n",
              "       [ 36,   6,  41,   9, 228]])"
            ]
          },
          "metadata": {
            "tags": []
          },
          "execution_count": 28
        }
      ]
    },
    {
      "cell_type": "code",
      "metadata": {
        "id": "YL2WcclF88ZQ",
        "colab_type": "code",
        "colab": {
          "base_uri": "https://localhost:8080/",
          "height": 183
        },
        "outputId": "c682fd01-e5e8-4db3-d988-02f61440fd17"
      },
      "source": [
        "# fix random seed for reproducibility\n",
        "seed = 1234\n",
        "np.random.seed(seed)\n",
        "\n",
        "# define 10-fold cross validation split\n",
        "kfold = StratifiedKFold(n_splits=10, shuffle=True, random_state=seed)\n",
        "\n",
        "cvscores = []\n",
        "for train_, test_ in kfold.split(tfidf_matrix, Y):\n",
        "\n",
        "  mNB = MultinomialNB()\n",
        "  mNB.fit(tfidf_matrix[train_], Y[train_])\n",
        "  y_pred_mNB = mNB.predict(tfidf_matrix[test_])\n",
        "  print('Model Accuracy: ', accuracy_score(Y[test_], y_pred_mNB))\n",
        "  cvscores.append(accuracy_score(Y[test_], y_pred_mNB))"
      ],
      "execution_count": null,
      "outputs": [
        {
          "output_type": "stream",
          "text": [
            "Model Accuracy:  0.7151799687010955\n",
            "Model Accuracy:  0.7183098591549296\n",
            "Model Accuracy:  0.7339593114241002\n",
            "Model Accuracy:  0.7128325508607198\n",
            "Model Accuracy:  0.690923317683881\n",
            "Model Accuracy:  0.7417840375586855\n",
            "Model Accuracy:  0.7128325508607198\n",
            "Model Accuracy:  0.7198748043818466\n",
            "Model Accuracy:  0.7065727699530516\n",
            "Model Accuracy:  0.7541111981205951\n"
          ],
          "name": "stdout"
        }
      ]
    },
    {
      "cell_type": "code",
      "metadata": {
        "id": "mgdEebNa9Qak",
        "colab_type": "code",
        "colab": {
          "base_uri": "https://localhost:8080/",
          "height": 282
        },
        "outputId": "f4e2067f-dd9d-4397-b594-b28865a22743"
      },
      "source": [
        "print(\"%.3f%% (+/- %.3f%%)\" % (np.mean(cvscores), np.std(cvscores)))\n",
        "plt.plot(cvscores)\n",
        "plt.show()"
      ],
      "execution_count": null,
      "outputs": [
        {
          "output_type": "stream",
          "text": [
            "0.721% (+/- 0.017%)\n"
          ],
          "name": "stdout"
        },
        {
          "output_type": "display_data",
          "data": {
            "image/png": "[encoded data removed]",
            "text/plain": [
              "<Figure size 432x288 with 1 Axes>"
            ]
          },
          "metadata": {
            "tags": []
          }
        }
      ]
    },
    {
      "cell_type": "markdown",
      "metadata": {
        "id": "6w39cUzmXl5K",
        "colab_type": "text"
      },
      "source": [
        "## Tokenization and stemming"
      ]
    },
    {
      "cell_type": "code",
      "metadata": {
        "id": "XCnFcRsiOect",
        "colab_type": "code",
        "colab": {}
      },
      "source": [
        "# Tokenize and stem...\n",
        "from nltk.stem import PorterStemmer\n",
        "snow = SnowballStemmer(\"english\",ignore_stopwords=True)\n",
        "def tokenize(text): \n",
        "    return [snow.stem(w.lower()) for w in word_tokenize(str(text))]"
      ],
      "execution_count": null,
      "outputs": []
    },
    {
      "cell_type": "code",
      "metadata": {
        "colab_type": "code",
        "id": "PPl5Kl0-YBfg",
        "colab": {}
      },
      "source": [
        "Count_vec = CountVectorizer(tokenizer=tokenize, ngram_range=(1,1), min_df=2, stop_words=nltk_stop)                #Bag Of Words\n",
        "tfidf_vectorizer = TfidfVectorizer(tokenizer=tokenize, ngram_range=(1,1), min_df=2, stop_words=nltk_stop)         #TF IDF"
      ],
      "execution_count": null,
      "outputs": []
    },
    {
      "cell_type": "code",
      "metadata": {
        "colab_type": "code",
        "id": "2nAmyGvsYBfp",
        "colab": {}
      },
      "source": [
        "# transform text into BoW and TFIDF matrices\n",
        "BoW_matrix = Count_vec.fit_transform(X)   #modélisation par Bag of Words\n",
        "tfidf_matrix = tfidf_vectorizer.fit_transform(X)   #modélisation en TF-IDF"
      ],
      "execution_count": null,
      "outputs": []
    },
    {
      "cell_type": "code",
      "metadata": {
        "colab_type": "code",
        "id": "xDlkgqH-YBfu",
        "colab": {
          "base_uri": "https://localhost:8080/",
          "height": 50
        },
        "outputId": "5bb80d34-9e67-4cc4-d98e-86c946877abe"
      },
      "source": [
        "print(BoW_matrix.shape)\n",
        "print(tfidf_matrix.shape)\n",
        "\n",
        "# print(BoW_matrix)\n",
        "# print(tfidf_matrix)"
      ],
      "execution_count": null,
      "outputs": [
        {
          "output_type": "stream",
          "text": [
            "(12779, 3064)\n",
            "(12779, 3064)\n"
          ],
          "name": "stdout"
        }
      ]
    },
    {
      "cell_type": "markdown",
      "metadata": {
        "colab_type": "text",
        "id": "xfZPJIyPYBf0"
      },
      "source": [
        "\n",
        "\n",
        "### Predicting"
      ]
    },
    {
      "cell_type": "code",
      "metadata": {
        "colab_type": "code",
        "id": "OcJKIgIcYBf2",
        "colab": {}
      },
      "source": [
        "X_BoW_train, X_BoW_test, Y_BoW_train, Y_BoW_test = train_test_split(BoW_matrix, Y, test_size=0.2, random_state = 1234)\n",
        "X_TFIDF_train, X_TFIDF_test, Y_TFIDF_train, Y_TFIDF_test = train_test_split(tfidf_matrix, Y, test_size=0.2, random_state = 1234)"
      ],
      "execution_count": null,
      "outputs": []
    },
    {
      "cell_type": "markdown",
      "metadata": {
        "id": "lXUEgYCvdSOW",
        "colab_type": "text"
      },
      "source": [
        "#### Multinomial Logistic Regression"
      ]
    },
    {
      "cell_type": "code",
      "metadata": {
        "colab_type": "code",
        "id": "yAu8P6wzYBf7",
        "colab": {
          "base_uri": "https://localhost:8080/",
          "height": 167
        },
        "outputId": "292111b0-eebb-4cf9-c831-05bd1ee41121"
      },
      "source": [
        "penalty = [0.00001,0.0001,0.001,0.01,0.1,1,2,5,10]\n",
        "for i in penalty:\n",
        "  clf_log = LogisticRegression(random_state=42, solver='lbfgs', max_iter =2000, multi_class='multinomial', C=i)\n",
        "  clf_log.fit(X_BoW_train, Y_BoW_train)\n",
        "  y_pred_log = clf_log.predict(X_BoW_test)\n",
        "  print('Penaly: ',i,'Model Accuracy: ', accuracy_score(Y_BoW_test, y_pred_log))"
      ],
      "execution_count": null,
      "outputs": [
        {
          "output_type": "stream",
          "text": [
            "Penaly:  1e-05 Model Accuracy:  0.3368544600938967\n",
            "Penaly:  0.0001 Model Accuracy:  0.3732394366197183\n",
            "Penaly:  0.001 Model Accuracy:  0.5324726134585289\n",
            "Penaly:  0.01 Model Accuracy:  0.6349765258215962\n",
            "Penaly:  0.1 Model Accuracy:  0.7085289514866979\n",
            "Penaly:  1 Model Accuracy:  0.7057902973395931\n",
            "Penaly:  2 Model Accuracy:  0.7018779342723005\n",
            "Penaly:  5 Model Accuracy:  0.6913145539906104\n",
            "Penaly:  10 Model Accuracy:  0.6811424100156495\n"
          ],
          "name": "stdout"
        }
      ]
    },
    {
      "cell_type": "code",
      "metadata": {
        "colab_type": "code",
        "id": "1x50flOkYBgH",
        "colab": {
          "base_uri": "https://localhost:8080/",
          "height": 167
        },
        "outputId": "bf204aa9-f853-4e5f-8c7e-590111aa1ce8"
      },
      "source": [
        "penalty = [0.00001,0.0001,0.001,0.01,0.1,1,2,5,10]\n",
        "for i in penalty:\n",
        "  clf_log = LogisticRegression(random_state=42, solver='lbfgs', max_iter =2000, multi_class='multinomial',C=i)\n",
        "  clf_log.fit(X_TFIDF_train, Y_TFIDF_train)\n",
        "  y_pred_log = clf_log.predict(X_TFIDF_test)\n",
        "  print('Penaly: ',i,'Model Accuracy: ', accuracy_score(Y_TFIDF_test, y_pred_log))"
      ],
      "execution_count": null,
      "outputs": [
        {
          "output_type": "stream",
          "text": [
            "Penaly:  1e-05 Model Accuracy:  0.2269170579029734\n",
            "Penaly:  0.0001 Model Accuracy:  0.34820031298904536\n",
            "Penaly:  0.001 Model Accuracy:  0.3798904538341158\n",
            "Penaly:  0.01 Model Accuracy:  0.5755086071987481\n",
            "Penaly:  0.1 Model Accuracy:  0.676056338028169\n",
            "Penaly:  1 Model Accuracy:  0.7245696400625978\n",
            "Penaly:  2 Model Accuracy:  0.7194835680751174\n",
            "Penaly:  5 Model Accuracy:  0.706964006259781\n",
            "Penaly:  10 Model Accuracy:  0.6971830985915493\n"
          ],
          "name": "stdout"
        }
      ]
    },
    {
      "cell_type": "markdown",
      "metadata": {
        "id": "LKTsozpDdXPK",
        "colab_type": "text"
      },
      "source": [
        "#### Naive Bayes"
      ]
    },
    {
      "cell_type": "code",
      "metadata": {
        "colab_type": "code",
        "id": "LrV6FW8CYBgg",
        "colab": {
          "base_uri": "https://localhost:8080/",
          "height": 117
        },
        "outputId": "9b14c514-90f3-4d1a-f129-c3108df57a8d"
      },
      "source": [
        "mNB = MultinomialNB()\n",
        "mNB.fit(X_BoW_train, Y_BoW_train)\n",
        "y_pred_mNB = mNB.predict(X_BoW_test)\n",
        "print('Model Accuracy: ', accuracy_score(Y_BoW_test, y_pred_mNB))\n",
        "confusion_matrix(Y_BoW_test, y_pred_mNB)"
      ],
      "execution_count": null,
      "outputs": [
        {
          "output_type": "stream",
          "text": [
            "Model Accuracy:  0.7226134585289515\n"
          ],
          "name": "stdout"
        },
        {
          "output_type": "execute_result",
          "data": {
            "text/plain": [
              "array([[382, 120,  56,  10,  27],\n",
              "       [ 83, 443,  27,  23,   3],\n",
              "       [ 63,  24, 404,  35,  35],\n",
              "       [ 15,  52,  38, 386,  10],\n",
              "       [ 29,   9,  40,  10, 232]])"
            ]
          },
          "metadata": {
            "tags": []
          },
          "execution_count": 209
        }
      ]
    },
    {
      "cell_type": "markdown",
      "metadata": {
        "id": "AApf4sDAZWqD",
        "colab_type": "text"
      },
      "source": [
        "## Summary of accuracy \n",
        "\n",
        "Accuracy when using only titles of articles themselves\n",
        "\n",
        "| Model          | Matrix used | Stemming | Valid.accuracy |\n",
        "|----------------|-------------|----------|----------------|\n",
        "| Logistic       | BoW         | 0        | 0.7054         |\n",
        "| Logistic       | BoW         | 1        | 0.7058         |\n",
        "| Logistic       | TFIDF       | 0        | 0.7246         |\n",
        "| Logistic       | TFIDF       | 1        | 0.7246         |\n",
        "| Multinomial NB | BoW         | 0        | 0.7234         |\n",
        "| Multinomial NB | BoW         | 1        | 0.7226         |\n",
        "\n"
      ]
    },
    {
      "cell_type": "markdown",
      "metadata": {
        "id": "ZoyqMVVEPURz",
        "colab_type": "text"
      },
      "source": [
        "## USING ARTICLE TITLES + REFERENCE TITLES"
      ]
    },
    {
      "cell_type": "markdown",
      "metadata": {
        "id": "DsTH-Q4o76_S",
        "colab_type": "text"
      },
      "source": [
        "#### Data prep using one new data file including references\n",
        "\n",
        "The file contains **ref_to** - articles an article is citing and **ref_from** - articles citing this article "
      ]
    },
    {
      "cell_type": "code",
      "metadata": {
        "id": "5PJTOY1A7_2T",
        "colab_type": "code",
        "colab": {
          "base_uri": "https://localhost:8080/",
          "height": 197
        },
        "outputId": "bd4d4bb7-f14a-4bc4-c5e1-b931d8d97d41"
      },
      "source": [
        "cross_ref.head()"
      ],
      "execution_count": null,
      "outputs": [
        {
          "output_type": "execute_result",
          "data": {
            "text/html": [
              "<div>\n",
              "<style scoped>\n",
              "    .dataframe tbody tr th:only-of-type {\n",
              "        vertical-align: middle;\n",
              "    }\n",
              "\n",
              "    .dataframe tbody tr th {\n",
              "        vertical-align: top;\n",
              "    }\n",
              "\n",
              "    .dataframe thead th {\n",
              "        text-align: right;\n",
              "    }\n",
              "</style>\n",
              "<table border=\"1\" class=\"dataframe\">\n",
              "  <thead>\n",
              "    <tr style=\"text-align: right;\">\n",
              "      <th></th>\n",
              "      <th>Unnamed: 0</th>\n",
              "      <th>id</th>\n",
              "      <th>label</th>\n",
              "      <th>ref_to</th>\n",
              "      <th>ref_from</th>\n",
              "    </tr>\n",
              "  </thead>\n",
              "  <tbody>\n",
              "    <tr>\n",
              "      <th>0</th>\n",
              "      <td>1</td>\n",
              "      <td>0</td>\n",
              "      <td>1.0</td>\n",
              "      <td>a framework for clustering evolving data strea...</td>\n",
              "      <td>NaN</td>\n",
              "    </tr>\n",
              "    <tr>\n",
              "      <th>1</th>\n",
              "      <td>2</td>\n",
              "      <td>3</td>\n",
              "      <td>1.0</td>\n",
              "      <td>implementation techniques for main memory data...</td>\n",
              "      <td>providing better support for a class of decisi...</td>\n",
              "    </tr>\n",
              "    <tr>\n",
              "      <th>2</th>\n",
              "      <td>3</td>\n",
              "      <td>6</td>\n",
              "      <td>1.0</td>\n",
              "      <td>statix making xml count answering xml queries ...</td>\n",
              "      <td>NaN</td>\n",
              "    </tr>\n",
              "    <tr>\n",
              "      <th>3</th>\n",
              "      <td>4</td>\n",
              "      <td>8</td>\n",
              "      <td>0.0</td>\n",
              "      <td>temporal databases   status and research direc...</td>\n",
              "      <td>NaN</td>\n",
              "    </tr>\n",
              "    <tr>\n",
              "      <th>4</th>\n",
              "      <td>5</td>\n",
              "      <td>9</td>\n",
              "      <td>0.0</td>\n",
              "      <td>dynamic itemset counting and implication rules...</td>\n",
              "      <td>pattern lattice traversal by selective jumps</td>\n",
              "    </tr>\n",
              "  </tbody>\n",
              "</table>\n",
              "</div>"
            ],
            "text/plain": [
              "   Unnamed: 0  ...                                           ref_from\n",
              "0           1  ...                                                NaN\n",
              "1           2  ...  providing better support for a class of decisi...\n",
              "2           3  ...                                                NaN\n",
              "3           4  ...                                                NaN\n",
              "4           5  ...       pattern lattice traversal by selective jumps\n",
              "\n",
              "[5 rows x 5 columns]"
            ]
          },
          "metadata": {
            "tags": []
          },
          "execution_count": 12
        }
      ]
    },
    {
      "cell_type": "code",
      "metadata": {
        "id": "032W2aiSKS03",
        "colab_type": "code",
        "colab": {}
      },
      "source": [
        "cross_ref2 = cross_ref.fillna(\"0\")"
      ],
      "execution_count": null,
      "outputs": []
    },
    {
      "cell_type": "code",
      "metadata": {
        "id": "ivQiNumS93aq",
        "colab_type": "code",
        "colab": {}
      },
      "source": [
        "train3 = train.join(cross_ref2.set_index('id'), how = 'left', on=\"id\", rsuffix=\"cross\")\n"
      ],
      "execution_count": null,
      "outputs": []
    },
    {
      "cell_type": "code",
      "metadata": {
        "id": "C0WdemAVZSYv",
        "colab_type": "code",
        "colab": {}
      },
      "source": [
        "train3[\"merged\"] = train3[\"title\"] +\" \"+ train3[\"ref_to\"] +\" \"+ train3[\"ref_from\"]"
      ],
      "execution_count": null,
      "outputs": []
    },
    {
      "cell_type": "code",
      "metadata": {
        "id": "bHaAYrbgbYCG",
        "colab_type": "code",
        "colab": {
          "base_uri": "https://localhost:8080/",
          "height": 204
        },
        "outputId": "e3313054-2830-446a-fcd4-db02d0f38c51"
      },
      "source": [
        "train3[:3]"
      ],
      "execution_count": null,
      "outputs": [
        {
          "output_type": "execute_result",
          "data": {
            "text/html": [
              "<div>\n",
              "<style scoped>\n",
              "    .dataframe tbody tr th:only-of-type {\n",
              "        vertical-align: middle;\n",
              "    }\n",
              "\n",
              "    .dataframe tbody tr th {\n",
              "        vertical-align: top;\n",
              "    }\n",
              "\n",
              "    .dataframe thead th {\n",
              "        text-align: right;\n",
              "    }\n",
              "</style>\n",
              "<table border=\"1\" class=\"dataframe\">\n",
              "  <thead>\n",
              "    <tr style=\"text-align: right;\">\n",
              "      <th></th>\n",
              "      <th>id</th>\n",
              "      <th>label</th>\n",
              "      <th>idtext</th>\n",
              "      <th>title</th>\n",
              "      <th>Unnamed: 0</th>\n",
              "      <th>labelcross</th>\n",
              "      <th>ref_to</th>\n",
              "      <th>ref_from</th>\n",
              "      <th>merged</th>\n",
              "    </tr>\n",
              "  </thead>\n",
              "  <tbody>\n",
              "    <tr>\n",
              "      <th>0</th>\n",
              "      <td>0</td>\n",
              "      <td>1</td>\n",
              "      <td>0</td>\n",
              "      <td>interactive visual exploration of neighbor bas...</td>\n",
              "      <td>1</td>\n",
              "      <td>1</td>\n",
              "      <td>a framework for clustering evolving data strea...</td>\n",
              "      <td>0</td>\n",
              "      <td>interactive visual exploration of neighbor bas...</td>\n",
              "    </tr>\n",
              "    <tr>\n",
              "      <th>1</th>\n",
              "      <td>3</td>\n",
              "      <td>1</td>\n",
              "      <td>3</td>\n",
              "      <td>relational division four algorithms and their ...</td>\n",
              "      <td>2</td>\n",
              "      <td>1</td>\n",
              "      <td>implementation techniques for main memory data...</td>\n",
              "      <td>providing better support for a class of decisi...</td>\n",
              "      <td>relational division four algorithms and their ...</td>\n",
              "    </tr>\n",
              "    <tr>\n",
              "      <th>2</th>\n",
              "      <td>6</td>\n",
              "      <td>1</td>\n",
              "      <td>6</td>\n",
              "      <td>simplifying xml schema effortless handling of ...</td>\n",
              "      <td>3</td>\n",
              "      <td>1</td>\n",
              "      <td>statix making xml count answering xml queries ...</td>\n",
              "      <td>0</td>\n",
              "      <td>simplifying xml schema effortless handling of ...</td>\n",
              "    </tr>\n",
              "  </tbody>\n",
              "</table>\n",
              "</div>"
            ],
            "text/plain": [
              "   id  ...                                             merged\n",
              "0   0  ...  interactive visual exploration of neighbor bas...\n",
              "1   3  ...  relational division four algorithms and their ...\n",
              "2   6  ...  simplifying xml schema effortless handling of ...\n",
              "\n",
              "[3 rows x 9 columns]"
            ]
          },
          "metadata": {
            "tags": []
          },
          "execution_count": 28
        }
      ]
    },
    {
      "cell_type": "code",
      "metadata": {
        "id": "S-oiWvV__k9J",
        "colab_type": "code",
        "colab": {}
      },
      "source": [
        "test3 = test.join(cross_ref2.set_index('id'), how = 'left', on=\"id\", rsuffix=\"cross\")"
      ],
      "execution_count": null,
      "outputs": []
    },
    {
      "cell_type": "code",
      "metadata": {
        "id": "fhRD7UBhVdFG",
        "colab_type": "code",
        "colab": {}
      },
      "source": [
        "test3[\"merged\"] = test3[\"title\"] +\" \"+ test3[\"ref_to\"] +\" \"+ test3[\"ref_from\"]"
      ],
      "execution_count": null,
      "outputs": []
    },
    {
      "cell_type": "code",
      "metadata": {
        "id": "LxH3CL7-a9VS",
        "colab_type": "code",
        "colab": {
          "base_uri": "https://localhost:8080/",
          "height": 204
        },
        "outputId": "4b682f7f-669a-48eb-ccd0-ff8a6e22a3a4"
      },
      "source": [
        "test3[:3]"
      ],
      "execution_count": null,
      "outputs": [
        {
          "output_type": "execute_result",
          "data": {
            "text/html": [
              "<div>\n",
              "<style scoped>\n",
              "    .dataframe tbody tr th:only-of-type {\n",
              "        vertical-align: middle;\n",
              "    }\n",
              "\n",
              "    .dataframe tbody tr th {\n",
              "        vertical-align: top;\n",
              "    }\n",
              "\n",
              "    .dataframe thead th {\n",
              "        text-align: right;\n",
              "    }\n",
              "</style>\n",
              "<table border=\"1\" class=\"dataframe\">\n",
              "  <thead>\n",
              "    <tr style=\"text-align: right;\">\n",
              "      <th></th>\n",
              "      <th>id</th>\n",
              "      <th>idtext</th>\n",
              "      <th>title</th>\n",
              "      <th>Unnamed: 0</th>\n",
              "      <th>label</th>\n",
              "      <th>ref_to</th>\n",
              "      <th>ref_from</th>\n",
              "      <th>merged</th>\n",
              "    </tr>\n",
              "  </thead>\n",
              "  <tbody>\n",
              "    <tr>\n",
              "      <th>0</th>\n",
              "      <td>1</td>\n",
              "      <td>1</td>\n",
              "      <td>autodomainmine a graphical data mining system ...</td>\n",
              "      <td>12780</td>\n",
              "      <td>0</td>\n",
              "      <td>what is the nearest neighbor in high dimension...</td>\n",
              "      <td>0</td>\n",
              "      <td>autodomainmine a graphical data mining system ...</td>\n",
              "    </tr>\n",
              "    <tr>\n",
              "      <th>1</th>\n",
              "      <td>2</td>\n",
              "      <td>2</td>\n",
              "      <td>anipqo almost non intrusive parametric query o...</td>\n",
              "      <td>12781</td>\n",
              "      <td>0</td>\n",
              "      <td>parametric query optimization optimization of ...</td>\n",
              "      <td>on the production of anorexic plan diagrams</td>\n",
              "      <td>anipqo almost non intrusive parametric query o...</td>\n",
              "    </tr>\n",
              "    <tr>\n",
              "      <th>2</th>\n",
              "      <td>4</td>\n",
              "      <td>4</td>\n",
              "      <td>selection and ranking of text from highly impe...</td>\n",
              "      <td>12782</td>\n",
              "      <td>0</td>\n",
              "      <td>0</td>\n",
              "      <td>0</td>\n",
              "      <td>selection and ranking of text from highly impe...</td>\n",
              "    </tr>\n",
              "  </tbody>\n",
              "</table>\n",
              "</div>"
            ],
            "text/plain": [
              "   id  ...                                             merged\n",
              "0   1  ...  autodomainmine a graphical data mining system ...\n",
              "1   2  ...  anipqo almost non intrusive parametric query o...\n",
              "2   4  ...  selection and ranking of text from highly impe...\n",
              "\n",
              "[3 rows x 8 columns]"
            ]
          },
          "metadata": {
            "tags": []
          },
          "execution_count": 31
        }
      ]
    },
    {
      "cell_type": "code",
      "metadata": {
        "id": "UkdT73KZaPWG",
        "colab_type": "code",
        "colab": {
          "base_uri": "https://localhost:8080/",
          "height": 53
        },
        "outputId": "f2cd64c1-9ff3-4365-a5e8-2a56895fc9a0"
      },
      "source": [
        "X2 = list(train3[\"merged\"])\n",
        "print(X2[:3])"
      ],
      "execution_count": null,
      "outputs": [
        {
          "output_type": "stream",
          "text": [
            "['interactive visual exploration of neighbor based patterns in data streams a framework for clustering evolving data streams mining adaptively frequent closed unlabeled rooted trees in data streams 0', 'relational division four algorithms and their performance implementation techniques for main memory database systems gamma   a high performance dataflow database machine hashing methods and relational algebra operations multiprocessor hash based join algorithms providing better support for a class of decision support queries dynamic query evaluation plans encapsulation of parallelism in the volcano query processing system', 'simplifying xml schema effortless handling of nondeterministic regular expressions statix making xml count answering xml queries on heterogeneous data sources schema based scheduling of event processors and buffer minimization for queries on structured data streams linear time membership in a class of regular expressions with interleaving and counting shrex managing xml documents in relational databases learning deterministic regular expressions for the inference of schemas from xml data the xml web a first study inferring xml schema definitions from xml data schemascope a system for inferring and cleaning xml schemas inference of concise dtds from xml data 0']\n"
          ],
          "name": "stdout"
        }
      ]
    },
    {
      "cell_type": "markdown",
      "metadata": {
        "colab_type": "text",
        "id": "9vosH5NecR-W"
      },
      "source": [
        "## Only tokenization"
      ]
    },
    {
      "cell_type": "code",
      "metadata": {
        "colab_type": "code",
        "id": "VZMrwCN4cR-d",
        "colab": {}
      },
      "source": [
        "# Tokenize only\n",
        "def tokenize(text): \n",
        "    return [w.lower() for w in word_tokenize(str(text))]"
      ],
      "execution_count": null,
      "outputs": []
    },
    {
      "cell_type": "code",
      "metadata": {
        "colab_type": "code",
        "id": "Zyns8dKzcR-t",
        "colab": {}
      },
      "source": [
        "Count_vec = CountVectorizer(tokenizer=tokenize, ngram_range=(1,1), min_df=2, stop_words=nltk_stop)                #Bag Of Words\n",
        "tfidf_vectorizer = TfidfVectorizer(tokenizer=tokenize, ngram_range=(1,1), min_df=2, stop_words=nltk_stop)         #TF IDF"
      ],
      "execution_count": null,
      "outputs": []
    },
    {
      "cell_type": "code",
      "metadata": {
        "colab_type": "code",
        "id": "2o1FPXCBcR-z",
        "colab": {}
      },
      "source": [
        "# transform text into BoW and TFIDF matrices\n",
        "BoW_matrix = Count_vec.fit_transform(X2)   \n",
        "tfidf_matrix = tfidf_vectorizer.fit_transform(X2)  "
      ],
      "execution_count": null,
      "outputs": []
    },
    {
      "cell_type": "code",
      "metadata": {
        "colab_type": "code",
        "id": "zI8YBjdUcR-5",
        "colab": {
          "base_uri": "https://localhost:8080/",
          "height": 50
        },
        "outputId": "201fb7a6-a6c0-4457-b4f3-3aca714889b1"
      },
      "source": [
        "print(BoW_matrix.shape)\n",
        "print(tfidf_matrix.shape)\n",
        "\n",
        "# print(BoW_matrix)\n",
        "# print(tfidf_matrix)"
      ],
      "execution_count": null,
      "outputs": [
        {
          "output_type": "stream",
          "text": [
            "(12779, 9211)\n",
            "(12779, 9211)\n"
          ],
          "name": "stdout"
        }
      ]
    },
    {
      "cell_type": "code",
      "metadata": {
        "id": "3BZV41gxwvo5",
        "colab_type": "code",
        "colab": {
          "base_uri": "https://localhost:8080/",
          "height": 50
        },
        "outputId": "b0c89ff8-5369-46f4-e541-0b74675700c9"
      },
      "source": [
        "tfidf_matrix"
      ],
      "execution_count": null,
      "outputs": [
        {
          "output_type": "execute_result",
          "data": {
            "text/plain": [
              "<12779x9211 sparse matrix of type '<class 'numpy.float64'>'\n",
              "\twith 389322 stored elements in Compressed Sparse Row format>"
            ]
          },
          "metadata": {
            "tags": []
          },
          "execution_count": 25
        }
      ]
    },
    {
      "cell_type": "markdown",
      "metadata": {
        "colab_type": "text",
        "id": "4AUf9owScR_A"
      },
      "source": [
        "### Predicting"
      ]
    },
    {
      "cell_type": "code",
      "metadata": {
        "colab_type": "code",
        "id": "9oMJgWUMcR_B",
        "colab": {}
      },
      "source": [
        "X_BoW_train, X_BoW_test, Y_BoW_train, Y_BoW_test = train_test_split(BoW_matrix, Y, test_size=0.2, random_state = 245)\n",
        "X_TFIDF_train, X_TFIDF_test, Y_TFIDF_train, Y_TFIDF_test = train_test_split(tfidf_matrix, Y, test_size=0.2, random_state = 245)"
      ],
      "execution_count": null,
      "outputs": []
    },
    {
      "cell_type": "markdown",
      "metadata": {
        "colab_type": "text",
        "id": "ceuw8HeQcR_G"
      },
      "source": [
        "#### Multinomial Logistic Regression"
      ]
    },
    {
      "cell_type": "code",
      "metadata": {
        "colab_type": "code",
        "id": "-OIRQDTccR_H",
        "colab": {
          "base_uri": "https://localhost:8080/",
          "height": 167
        },
        "outputId": "484d161a-96ea-418a-aa41-23b660fb9689"
      },
      "source": [
        "penalty = [0.00001,0.0001,0.001,0.01,0.1,1,2,5,10]\n",
        "for i in penalty:\n",
        "  clf_log = LogisticRegression(random_state=42, solver='lbfgs', max_iter =2000, multi_class='multinomial', C=i)\n",
        "  clf_log.fit(X_BoW_train, Y_BoW_train)\n",
        "  y_pred_log = clf_log.predict(X_BoW_test)\n",
        "  print('Penaly: ',i,'Model Accuracy: ', accuracy_score(Y_BoW_test, y_pred_log))"
      ],
      "execution_count": null,
      "outputs": [
        {
          "output_type": "stream",
          "text": [
            "Penaly:  1e-05 Model Accuracy:  0.4964788732394366\n",
            "Penaly:  0.0001 Model Accuracy:  0.607981220657277\n",
            "Penaly:  0.001 Model Accuracy:  0.702660406885759\n",
            "Penaly:  0.01 Model Accuracy:  0.7523474178403756\n",
            "Penaly:  0.1 Model Accuracy:  0.7769953051643192\n",
            "Penaly:  1 Model Accuracy:  0.7809076682316118\n",
            "Penaly:  2 Model Accuracy:  0.775039123630673\n",
            "Penaly:  5 Model Accuracy:  0.7668231611893583\n",
            "Penaly:  10 Model Accuracy:  0.7601721439749609\n"
          ],
          "name": "stdout"
        }
      ]
    },
    {
      "cell_type": "code",
      "metadata": {
        "colab_type": "code",
        "id": "QZH4sQulcR_N",
        "colab": {
          "base_uri": "https://localhost:8080/",
          "height": 167
        },
        "outputId": "7cbba49d-5329-41c9-80fd-6662a9d117ab"
      },
      "source": [
        "penalty = [0.00001,0.0001,0.001,0.01,0.1,1,2,5,10]\n",
        "for i in penalty:\n",
        "  clf_log = LogisticRegression(random_state=42, solver='lbfgs', max_iter =2000, multi_class='multinomial',C=i)\n",
        "  clf_log.fit(X_TFIDF_train, Y_TFIDF_train)\n",
        "  y_pred_log = clf_log.predict(X_TFIDF_test)\n",
        "  print('Penaly: ',i,'Model Accuracy: ', accuracy_score(Y_TFIDF_test, y_pred_log))"
      ],
      "execution_count": null,
      "outputs": [
        {
          "output_type": "stream",
          "text": [
            "Penaly:  1e-05 Model Accuracy:  0.23395931142410015\n",
            "Penaly:  0.0001 Model Accuracy:  0.3888888888888889\n",
            "Penaly:  0.001 Model Accuracy:  0.5356025039123631\n",
            "Penaly:  0.01 Model Accuracy:  0.6948356807511737\n",
            "Penaly:  0.1 Model Accuracy:  0.7785602503912363\n",
            "Penaly:  1 Model Accuracy:  0.8133802816901409\n",
            "Penaly:  2 Model Accuracy:  0.8133802816901409\n",
            "Penaly:  5 Model Accuracy:  0.8118153364632238\n",
            "Penaly:  10 Model Accuracy:  0.8067292644757433\n"
          ],
          "name": "stdout"
        }
      ]
    },
    {
      "cell_type": "code",
      "metadata": {
        "colab_type": "code",
        "id": "QvKiLDegcR_e",
        "colab": {
          "base_uri": "https://localhost:8080/",
          "height": 183
        },
        "outputId": "132764ca-e93b-4f43-b1da-0e1fd1854b8f"
      },
      "source": [
        "# fix random seed for reproducibility\n",
        "seed = 1234\n",
        "np.random.seed(seed)\n",
        "\n",
        "# define 10-fold cross validation split\n",
        "kfold = StratifiedKFold(n_splits=10, shuffle=True, random_state=seed)\n",
        "\n",
        "cvscores = []\n",
        "for train_, test_ in kfold.split(tfidf_matrix, Y):\n",
        "\n",
        "  clf_log = LogisticRegression(random_state=42, solver='lbfgs', max_iter =2000, multi_class='multinomial',C=1)\n",
        "  clf_log.fit(tfidf_matrix[train_], Y[train_])\n",
        "  y_pred_log = clf_log.predict(tfidf_matrix[test_])\n",
        "  print('Model Accuracy: ', accuracy_score(Y[test_], y_pred_log))\n",
        "  cvscores.append(accuracy_score(Y[test_], y_pred_log))"
      ],
      "execution_count": null,
      "outputs": [
        {
          "output_type": "stream",
          "text": [
            "Model Accuracy:  0.8215962441314554\n",
            "Model Accuracy:  0.8028169014084507\n",
            "Model Accuracy:  0.8317683881064163\n",
            "Model Accuracy:  0.8348982785602503\n",
            "Model Accuracy:  0.8082942097026604\n",
            "Model Accuracy:  0.827073552425665\n",
            "Model Accuracy:  0.8286384976525821\n",
            "Model Accuracy:  0.8200312989045383\n",
            "Model Accuracy:  0.8075117370892019\n",
            "Model Accuracy:  0.8332028191072827\n"
          ],
          "name": "stdout"
        }
      ]
    },
    {
      "cell_type": "code",
      "metadata": {
        "colab_type": "code",
        "id": "PeLxhIPTcR_k",
        "colab": {
          "base_uri": "https://localhost:8080/",
          "height": 282
        },
        "outputId": "7d73538b-3137-4676-95af-4453b776acaa"
      },
      "source": [
        "print(\"%.3f%% (+/- %.3f%%)\" % (np.mean(cvscores), np.std(cvscores)))\n",
        "plt.plot(cvscores)\n",
        "plt.show()"
      ],
      "execution_count": null,
      "outputs": [
        {
          "output_type": "stream",
          "text": [
            "0.822% (+/- 0.011%)\n"
          ],
          "name": "stdout"
        },
        {
          "output_type": "display_data",
          "data": {
            "image/png": "[encoded data removed]",
            "text/plain": [
              "<Figure size 432x288 with 1 Axes>"
            ]
          },
          "metadata": {
            "tags": [],
            "needs_background": "light"
          }
        }
      ]
    },
    {
      "cell_type": "markdown",
      "metadata": {
        "id": "S_nKD7kCml2f",
        "colab_type": "text"
      },
      "source": [
        "##### --> Making predictions for Kaggle"
      ]
    },
    {
      "cell_type": "code",
      "metadata": {
        "id": "fRf5HIiGnRYE",
        "colab_type": "code",
        "colab": {
          "base_uri": "https://localhost:8080/",
          "height": 33
        },
        "outputId": "8f59f521-6d46-4234-f90a-a3a3771a418e"
      },
      "source": [
        "# fit model on the whole data\n",
        "clf_log = LogisticRegression(random_state=42, solver='lbfgs', max_iter =2000, multi_class='multinomial',C=1)\n",
        "clf_log.fit(tfidf_matrix, Y)\n",
        "# clf_log.fit(X_TFIDF_train, Y_TFIDF_train)\n",
        "y_pred_log = clf_log.predict(X_TFIDF_test)\n",
        "print('Penaly: ',i,'Model Accuracy: ', accuracy_score(Y_TFIDF_test, y_pred_log))"
      ],
      "execution_count": null,
      "outputs": [
        {
          "output_type": "stream",
          "text": [
            "Penaly:  10 Model Accuracy:  0.8775430359937402\n"
          ],
          "name": "stdout"
        }
      ]
    },
    {
      "cell_type": "code",
      "metadata": {
        "colab_type": "code",
        "id": "BjuqGvAtcR_q",
        "colab": {}
      },
      "source": [
        "X_new = tfidf_vectorizer.transform(test3.merged)"
      ],
      "execution_count": null,
      "outputs": []
    },
    {
      "cell_type": "code",
      "metadata": {
        "colab_type": "code",
        "id": "kFk_C8H-cR_v",
        "colab": {}
      },
      "source": [
        "Y_new12 = clf_log.predict(X_new)"
      ],
      "execution_count": null,
      "outputs": []
    },
    {
      "cell_type": "code",
      "metadata": {
        "colab_type": "code",
        "id": "hXAhunc3cR_2",
        "colab": {}
      },
      "source": [
        "test12 = pd.DataFrame(list(zip(test['id'], Y_new12)), \n",
        "               columns = ['id', 'label'])\n",
        "test12\n",
        "test12.to_csv('test12.csv',index=False)"
      ],
      "execution_count": null,
      "outputs": []
    },
    {
      "cell_type": "markdown",
      "metadata": {
        "colab_type": "text",
        "id": "hqcK7qIKcSAA"
      },
      "source": [
        "#### Naive Bayes"
      ]
    },
    {
      "cell_type": "code",
      "metadata": {
        "colab_type": "code",
        "id": "B2ZnJh2VcSAI",
        "colab": {
          "base_uri": "https://localhost:8080/",
          "height": 117
        },
        "outputId": "84f6d679-cad4-4220-d8a7-700a1086851e"
      },
      "source": [
        "mNB = MultinomialNB()\n",
        "mNB.fit(X_BoW_train, Y_BoW_train)\n",
        "y_pred_mNB = mNB.predict(X_BoW_test)\n",
        "print('Model Accuracy: ', accuracy_score(Y_BoW_test, y_pred_mNB))\n",
        "confusion_matrix(Y_BoW_test, y_pred_mNB)"
      ],
      "execution_count": null,
      "outputs": [
        {
          "output_type": "stream",
          "text": [
            "Model Accuracy:  0.8075117370892019\n"
          ],
          "name": "stdout"
        },
        {
          "output_type": "execute_result",
          "data": {
            "text/plain": [
              "array([[402, 113,  76,   9,  16],\n",
              "       [ 44, 511,  23,  19,   1],\n",
              "       [ 40,   9, 468,  22,  29],\n",
              "       [  2,   7,  28, 447,   4],\n",
              "       [ 19,   0,  29,   2, 236]])"
            ]
          },
          "metadata": {
            "tags": []
          },
          "execution_count": 56
        }
      ]
    },
    {
      "cell_type": "code",
      "metadata": {
        "colab_type": "code",
        "id": "6HW7VtbIcSAX",
        "colab": {
          "base_uri": "https://localhost:8080/",
          "height": 183
        },
        "outputId": "84f98161-a4c3-4042-ad88-851efbe463d9"
      },
      "source": [
        "# fix random seed for reproducibility\n",
        "seed = 1234\n",
        "np.random.seed(seed)\n",
        "\n",
        "# define 10-fold cross validation split\n",
        "kfold = StratifiedKFold(n_splits=10, shuffle=True, random_state=seed)\n",
        "\n",
        "cvscores = []\n",
        "for train_, test_ in kfold.split(tfidf_matrix, Y):\n",
        "\n",
        "  mNB = MultinomialNB()\n",
        "  mNB.fit(tfidf_matrix[train_], Y[train_])\n",
        "  y_pred_mNB = mNB.predict(tfidf_matrix[test_])\n",
        "  print('Model Accuracy: ', accuracy_score(Y[test_], y_pred_mNB))\n",
        "  cvscores.append(accuracy_score(Y[test_], y_pred_mNB))"
      ],
      "execution_count": null,
      "outputs": [
        {
          "output_type": "stream",
          "text": [
            "Model Accuracy:  0.8114241001564946\n",
            "Model Accuracy:  0.798904538341158\n",
            "Model Accuracy:  0.8223787167449139\n",
            "Model Accuracy:  0.8223787167449139\n",
            "Model Accuracy:  0.7949921752738655\n",
            "Model Accuracy:  0.8255086071987481\n",
            "Model Accuracy:  0.8153364632237872\n",
            "Model Accuracy:  0.8114241001564946\n",
            "Model Accuracy:  0.8153364632237872\n",
            "Model Accuracy:  0.8285043069694596\n"
          ],
          "name": "stdout"
        }
      ]
    },
    {
      "cell_type": "code",
      "metadata": {
        "colab_type": "code",
        "id": "pO21cMVRcSAe",
        "colab": {
          "base_uri": "https://localhost:8080/",
          "height": 285
        },
        "outputId": "b83c03c1-c74e-46bf-e100-cdda73e53626"
      },
      "source": [
        "print(\"%.3f%% (+/- %.3f%%)\" % (np.mean(cvscores), np.std(cvscores)))\n",
        "plt.plot(cvscores)\n",
        "plt.show()"
      ],
      "execution_count": null,
      "outputs": [
        {
          "output_type": "stream",
          "text": [
            "0.815% (+/- 0.010%)\n"
          ],
          "name": "stdout"
        },
        {
          "output_type": "display_data",
          "data": {
            "image/png": "[encoded data removed]",
            "text/plain": [
              "<Figure size 432x288 with 1 Axes>"
            ]
          },
          "metadata": {
            "tags": [],
            "needs_background": "light"
          }
        }
      ]
    },
    {
      "cell_type": "markdown",
      "metadata": {
        "id": "R9sO1VHkxFui",
        "colab_type": "text"
      },
      "source": [
        "#### MLP on TF-IDF matrix"
      ]
    },
    {
      "cell_type": "code",
      "metadata": {
        "id": "fpW30OKwxXkJ",
        "colab_type": "code",
        "colab": {}
      },
      "source": [
        "from sklearn import metrics\n",
        "from sklearn import neural_network\n",
        "from sklearn.preprocessing import MinMaxScaler,StandardScaler,MaxAbsScaler "
      ],
      "execution_count": null,
      "outputs": []
    },
    {
      "cell_type": "code",
      "metadata": {
        "id": "Zyl8NReV4WNX",
        "colab_type": "code",
        "colab": {
          "base_uri": "https://localhost:8080/",
          "height": 350
        },
        "outputId": "64d3b763-1437-437e-9b23-9af7b7a1e8c1"
      },
      "source": [
        "# decreade init lr for adam (default optimizer)\n",
        "hidden_layers = [[20,40],[50,100],[128,256],[50,100,200]]     \n",
        "alpha_fit = [0.0001, 0.001, 0.01, 0.1, 1]\n",
        "# output_list = []\n",
        "for i in range(len(hidden_layers)):\n",
        "  for j in range(len(alpha_fit)):\n",
        "    nn = neural_network.MLPClassifier(alpha=alpha_fit[j], # l2-regularization (weight decay)\n",
        "                                      hidden_layer_sizes=tuple(hidden_layers)[i],\n",
        "                                      early_stopping=True, # stop if validation performance decreases\n",
        "                                      # verbose=True,\n",
        "                                      random_state=1234,\n",
        "                                      max_iter=1000, learning_rate_init=0.0001) # DECREASED LR\n",
        "\n",
        "    nn.fit(X_TFIDF_train, Y_TFIDF_train)  \n",
        "    nnscore = nn.predict(X_TFIDF_test)\n",
        "    acc = metrics.accuracy_score(Y_TFIDF_test, nnscore)\n",
        "    print(\"Val.accuracy: %.3f \" % acc,\"architecture\",hidden_layers[i], \"alpha:\", alpha_fit[j],\"number of parameters:\")"
      ],
      "execution_count": null,
      "outputs": [
        {
          "output_type": "stream",
          "text": [
            "Val.accuracy: 0.822  architecture [20, 40] alpha: 0.0001 number of parameters:\n",
            "Val.accuracy: 0.820  architecture [20, 40] alpha: 0.001 number of parameters:\n",
            "Val.accuracy: 0.820  architecture [20, 40] alpha: 0.01 number of parameters:\n",
            "Val.accuracy: 0.818  architecture [20, 40] alpha: 0.1 number of parameters:\n",
            "Val.accuracy: 0.796  architecture [20, 40] alpha: 1 number of parameters:\n",
            "Val.accuracy: 0.816  architecture [50, 100] alpha: 0.0001 number of parameters:\n",
            "Val.accuracy: 0.819  architecture [50, 100] alpha: 0.001 number of parameters:\n",
            "Val.accuracy: 0.820  architecture [50, 100] alpha: 0.01 number of parameters:\n",
            "Val.accuracy: 0.818  architecture [50, 100] alpha: 0.1 number of parameters:\n",
            "Val.accuracy: 0.809  architecture [50, 100] alpha: 1 number of parameters:\n",
            "Val.accuracy: 0.827  architecture [128, 256] alpha: 0.0001 number of parameters:\n",
            "Val.accuracy: 0.828  architecture [128, 256] alpha: 0.001 number of parameters:\n",
            "Val.accuracy: 0.829  architecture [128, 256] alpha: 0.01 number of parameters:\n",
            "Val.accuracy: 0.831  architecture [128, 256] alpha: 0.1 number of parameters:\n",
            "Val.accuracy: 0.812  architecture [128, 256] alpha: 1 number of parameters:\n",
            "Val.accuracy: 0.815  architecture [50, 100, 200] alpha: 0.0001 number of parameters:\n",
            "Val.accuracy: 0.815  architecture [50, 100, 200] alpha: 0.001 number of parameters:\n",
            "Val.accuracy: 0.817  architecture [50, 100, 200] alpha: 0.01 number of parameters:\n",
            "Val.accuracy: 0.811  architecture [50, 100, 200] alpha: 0.1 number of parameters:\n",
            "Val.accuracy: 0.796  architecture [50, 100, 200] alpha: 1 number of parameters:\n"
          ],
          "name": "stdout"
        }
      ]
    },
    {
      "cell_type": "code",
      "metadata": {
        "id": "1RqWB9ik_OP8",
        "colab_type": "code",
        "colab": {
          "base_uri": "https://localhost:8080/",
          "height": 83
        },
        "outputId": "57a6d2f4-7e55-4e04-fff9-30acffbc0ef7"
      },
      "source": [
        "# decreade init lr for adam (default optimizer)\n",
        "hidden_layers = [[256,512]]     \n",
        "alpha_fit = [0.0001, 0.001, 0.01, 0.1]\n",
        "# output_list = []\n",
        "for i in range(len(hidden_layers)):\n",
        "  for j in range(len(alpha_fit)):\n",
        "    nn = neural_network.MLPClassifier(alpha=alpha_fit[j], # l2-regularization (weight decay)\n",
        "                                      hidden_layer_sizes=tuple(hidden_layers)[i],\n",
        "                                      early_stopping=True, # stop if validation performance decreases\n",
        "                                      # verbose=True,\n",
        "                                      random_state=1234,\n",
        "                                      max_iter=1000, learning_rate_init=0.0001) # DECREASED LR\n",
        "\n",
        "    nn.fit(X_TFIDF_train, Y_TFIDF_train)  \n",
        "    nnscore = nn.predict(X_TFIDF_test)\n",
        "    acc = metrics.accuracy_score(Y_TFIDF_test, nnscore)\n",
        "    print(\"Val.accuracy: %.3f \" % acc,\"architecture\",hidden_layers[i], \"alpha:\", alpha_fit[j],\"number of parameters:\")"
      ],
      "execution_count": null,
      "outputs": [
        {
          "output_type": "stream",
          "text": [
            "Val.accuracy: 0.823  architecture [256, 512] alpha: 0.0001 number of parameters:\n",
            "Val.accuracy: 0.822  architecture [256, 512] alpha: 0.001 number of parameters:\n",
            "Val.accuracy: 0.822  architecture [256, 512] alpha: 0.01 number of parameters:\n",
            "Val.accuracy: 0.822  architecture [256, 512] alpha: 0.1 number of parameters:\n"
          ],
          "name": "stdout"
        }
      ]
    },
    {
      "cell_type": "markdown",
      "metadata": {
        "id": "cmVFplFq-sqA",
        "colab_type": "text"
      },
      "source": [
        "Training the best model for predictions"
      ]
    },
    {
      "cell_type": "code",
      "metadata": {
        "id": "jiN5zeRoxpjU",
        "colab_type": "code",
        "colab": {
          "base_uri": "https://localhost:8080/",
          "height": 950
        },
        "outputId": "49212a11-b8e3-479c-e8d9-b0124ed4aab2"
      },
      "source": [
        "nn = neural_network.MLPClassifier(alpha=0.1, # l2-regularization (weight decay)\n",
        "                                  hidden_layer_sizes=(128,256),\n",
        "                                  early_stopping=True, # stop if validation performance decreases\n",
        "                                  verbose=True,\n",
        "                                  random_state=1234,\n",
        "                                  # activation=\"logistic\",\n",
        "                                  # learning_rate=\"invscaling\",\n",
        "                                  max_iter=1000, learning_rate_init=0.0001) # DECREASED LR)\n",
        "\n",
        "nn.fit(X_TFIDF_train, Y_TFIDF_train)  \n",
        "nnscore = nn.predict(X_TFIDF_test)\n",
        "acc = metrics.accuracy_score(Y_TFIDF_test, nnscore)\n",
        "print(\"Valid.acc: %.3f \" % acc,\"architecture\",hidden_layers[i], \"alpha:\", alpha_fit[j])"
      ],
      "execution_count": null,
      "outputs": [
        {
          "output_type": "stream",
          "text": [
            "Iteration 1, loss = 1.69648694\n",
            "Validation score: 0.399804\n",
            "Iteration 2, loss = 1.64069183\n",
            "Validation score: 0.490714\n",
            "Iteration 3, loss = 1.55326802\n",
            "Validation score: 0.676442\n",
            "Iteration 4, loss = 1.42046965\n",
            "Validation score: 0.703812\n",
            "Iteration 5, loss = 1.25521595\n",
            "Validation score: 0.739003\n",
            "Iteration 6, loss = 1.08507426\n",
            "Validation score: 0.772239\n",
            "Iteration 7, loss = 0.92971896\n",
            "Validation score: 0.801564\n",
            "Iteration 8, loss = 0.80157497\n",
            "Validation score: 0.804497\n",
            "Iteration 9, loss = 0.70252763\n",
            "Validation score: 0.816227\n",
            "Iteration 10, loss = 0.62851394\n",
            "Validation score: 0.820137\n",
            "Iteration 11, loss = 0.57446080\n",
            "Validation score: 0.821114\n",
            "Iteration 12, loss = 0.53365285\n",
            "Validation score: 0.820137\n",
            "Iteration 13, loss = 0.50234485\n",
            "Validation score: 0.823069\n",
            "Iteration 14, loss = 0.47714002\n",
            "Validation score: 0.821114\n",
            "Iteration 15, loss = 0.45613747\n",
            "Validation score: 0.823069\n",
            "Iteration 16, loss = 0.43805748\n",
            "Validation score: 0.826979\n",
            "Iteration 17, loss = 0.42204464\n",
            "Validation score: 0.825024\n",
            "Iteration 18, loss = 0.40766405\n",
            "Validation score: 0.825024\n",
            "Iteration 19, loss = 0.39478797\n",
            "Validation score: 0.826002\n",
            "Iteration 20, loss = 0.38229326\n",
            "Validation score: 0.821114\n",
            "Iteration 21, loss = 0.37151686\n",
            "Validation score: 0.825024\n",
            "Iteration 22, loss = 0.36101870\n",
            "Validation score: 0.821114\n",
            "Iteration 23, loss = 0.35098035\n",
            "Validation score: 0.823069\n",
            "Iteration 24, loss = 0.34197424\n",
            "Validation score: 0.820137\n",
            "Iteration 25, loss = 0.33324048\n",
            "Validation score: 0.820137\n",
            "Iteration 26, loss = 0.32502987\n",
            "Validation score: 0.817204\n",
            "Iteration 27, loss = 0.31727716\n",
            "Validation score: 0.814272\n",
            "Validation score did not improve more than tol=0.000100 for 10 consecutive epochs. Stopping.\n",
            "Valid.acc: 0.831  architecture [20, 40] alpha: 0.0001\n"
          ],
          "name": "stdout"
        }
      ]
    },
    {
      "cell_type": "code",
      "metadata": {
        "id": "ldKv3RjTzBlh",
        "colab_type": "code",
        "colab": {
          "base_uri": "https://localhost:8080/",
          "height": 33
        },
        "outputId": "1e10b343-15a2-4970-a1f1-693b82801c7d"
      },
      "source": [
        "acc = metrics.accuracy_score(Y_TFIDF_test, nnscore)\n",
        "print(\"Accuracy: %.3f \" % acc)"
      ],
      "execution_count": null,
      "outputs": [
        {
          "output_type": "stream",
          "text": [
            "Accuracy: 0.831 \n"
          ],
          "name": "stdout"
        }
      ]
    },
    {
      "cell_type": "markdown",
      "metadata": {
        "colab_type": "text",
        "id": "9PP9NlnjV90C"
      },
      "source": [
        "##### --> Making predictions for Kaggle (the best)"
      ]
    },
    {
      "cell_type": "code",
      "metadata": {
        "colab_type": "code",
        "id": "fz7TY-ZAV90T",
        "colab": {}
      },
      "source": [
        "X_new = tfidf_vectorizer.transform(test3.merged)"
      ],
      "execution_count": null,
      "outputs": []
    },
    {
      "cell_type": "code",
      "metadata": {
        "colab_type": "code",
        "id": "ZVXd0ReWV90a",
        "colab": {}
      },
      "source": [
        "Y_new15 = nn.predict(X_new)"
      ],
      "execution_count": null,
      "outputs": []
    },
    {
      "cell_type": "code",
      "metadata": {
        "colab_type": "code",
        "id": "HjanPrYCV90j",
        "colab": {}
      },
      "source": [
        "test15 = pd.DataFrame(list(zip(test['id'], Y_new15)), \n",
        "               columns = ['id', 'label'])\n",
        "test15\n",
        "test15.to_csv('test15.csv',index=False)"
      ],
      "execution_count": null,
      "outputs": []
    },
    {
      "cell_type": "code",
      "metadata": {
        "id": "HsYAmruWTn4I",
        "colab_type": "code",
        "colab": {
          "base_uri": "https://localhost:8080/",
          "height": 337
        },
        "outputId": "e9dbce91-6c4a-4297-eca9-c3fddea1a642"
      },
      "source": [
        "nn = neural_network.MLPClassifier(alpha=0.1, # l2-regularization (weight decay)\n",
        "                                  hidden_layer_sizes=(128,256),\n",
        "                                  # early_stopping=True, # stop if validation performance decreases\n",
        "                                  verbose=True,\n",
        "                                  random_state=1234,\n",
        "                                  # activation=\"logistic\",\n",
        "                                  # learning_rate=\"invscaling\",\n",
        "                                  max_iter=15, learning_rate_init=0.0001) # DECREASED LR)\n",
        "\n",
        "nn.fit(X_TFIDF_train, Y_TFIDF_train)  \n",
        "nnscore = nn.predict(X_TFIDF_test)\n",
        "acc = metrics.accuracy_score(Y_TFIDF_test, nnscore)\n",
        "print(\"Valid.acc: %.3f \" % acc)"
      ],
      "execution_count": null,
      "outputs": [
        {
          "output_type": "stream",
          "text": [
            "Iteration 1, loss = 1.69443963\n",
            "Iteration 2, loss = 1.62881783\n",
            "Iteration 3, loss = 1.52311622\n",
            "Iteration 4, loss = 1.36491842\n",
            "Iteration 5, loss = 1.17893639\n",
            "Iteration 6, loss = 0.99927332\n",
            "Iteration 7, loss = 0.84849890\n",
            "Iteration 8, loss = 0.73221813\n",
            "Iteration 9, loss = 0.64715379\n",
            "Iteration 10, loss = 0.58686741\n",
            "Iteration 11, loss = 0.54345389\n",
            "Iteration 12, loss = 0.51059483\n",
            "Iteration 13, loss = 0.48473147\n",
            "Iteration 14, loss = 0.46321495\n",
            "Iteration 15, loss = 0.44486996\n",
            "Valid.acc: 0.829 \n"
          ],
          "name": "stdout"
        },
        {
          "output_type": "stream",
          "text": [
            "/usr/local/lib/python3.6/dist-packages/sklearn/neural_network/_multilayer_perceptron.py:571: ConvergenceWarning: Stochastic Optimizer: Maximum iterations (15) reached and the optimization hasn't converged yet.\n",
            "  % self.max_iter, ConvergenceWarning)\n"
          ],
          "name": "stderr"
        }
      ]
    },
    {
      "cell_type": "markdown",
      "metadata": {
        "colab_type": "text",
        "id": "qqbDE6MWcSAt"
      },
      "source": [
        "## Tokenization and stemming"
      ]
    },
    {
      "cell_type": "code",
      "metadata": {
        "colab_type": "code",
        "id": "gXPZyZ7scSAu",
        "colab": {}
      },
      "source": [
        "# Tokenize and stem...\n",
        "from nltk.stem import PorterStemmer\n",
        "snow = SnowballStemmer(\"english\",ignore_stopwords=True)\n",
        "def tokenize(text): \n",
        "    return [snow.stem(w.lower()) for w in word_tokenize(str(text))]"
      ],
      "execution_count": null,
      "outputs": []
    },
    {
      "cell_type": "code",
      "metadata": {
        "colab_type": "code",
        "id": "-bfsn7lccSAw",
        "colab": {}
      },
      "source": [
        "Count_vec = CountVectorizer(tokenizer=tokenize, ngram_range=(1,1), min_df=2, stop_words=nltk_stop)                #Bag Of Words\n",
        "tfidf_vectorizer = TfidfVectorizer(tokenizer=tokenize, ngram_range=(1,1), min_df=2, stop_words=nltk_stop)         #TF IDF"
      ],
      "execution_count": null,
      "outputs": []
    },
    {
      "cell_type": "code",
      "metadata": {
        "colab_type": "code",
        "id": "U1UPYh7icSA1",
        "colab": {
          "base_uri": "https://localhost:8080/",
          "height": 70
        },
        "outputId": "fcd477f8-fd16-49d1-c3c2-b3fa8f195f7e"
      },
      "source": [
        "# transform text into BoW and TFIDF matrices\n",
        "BoW_matrix = Count_vec.fit_transform(X2)   #modélisation par Bag of Words\n",
        "tfidf_matrix = tfidf_vectorizer.fit_transform(X2)   #modélisation en TF-IDF"
      ],
      "execution_count": null,
      "outputs": [
        {
          "output_type": "stream",
          "text": [
            "/usr/local/lib/python3.6/dist-packages/sklearn/feature_extraction/text.py:385: UserWarning: Your stop_words may be inconsistent with your preprocessing. Tokenizing the stop words generated tokens [\"'d\", \"'s\", 'could', 'might', 'must', \"n't\", 'need', 'sha', 'wo', 'would'] not in stop_words.\n",
            "  'stop_words.' % sorted(inconsistent))\n"
          ],
          "name": "stderr"
        }
      ]
    },
    {
      "cell_type": "code",
      "metadata": {
        "colab_type": "code",
        "id": "u0hZg5vFcSA4",
        "colab": {
          "base_uri": "https://localhost:8080/",
          "height": 50
        },
        "outputId": "5b77937d-5cc5-4ecb-ba00-58f5c079303f"
      },
      "source": [
        "print(BoW_matrix.shape)\n",
        "print(tfidf_matrix.shape)\n",
        "\n",
        "# print(BoW_matrix)\n",
        "# print(tfidf_matrix)"
      ],
      "execution_count": null,
      "outputs": [
        {
          "output_type": "stream",
          "text": [
            "(12779, 6310)\n",
            "(12779, 6310)\n"
          ],
          "name": "stdout"
        }
      ]
    },
    {
      "cell_type": "markdown",
      "metadata": {
        "colab_type": "text",
        "id": "m4vgT6mRcSA7"
      },
      "source": [
        "\n",
        "\n",
        "### Predicting"
      ]
    },
    {
      "cell_type": "code",
      "metadata": {
        "colab_type": "code",
        "id": "OFQY77LscSA8",
        "colab": {}
      },
      "source": [
        "X_BoW_train, X_BoW_test, Y_BoW_train, Y_BoW_test = train_test_split(BoW_matrix, Y, test_size=0.2, random_state = 245)\n",
        "X_TFIDF_train, X_TFIDF_test, Y_TFIDF_train, Y_TFIDF_test = train_test_split(tfidf_matrix, Y, test_size=0.2, random_state = 245)"
      ],
      "execution_count": null,
      "outputs": []
    },
    {
      "cell_type": "markdown",
      "metadata": {
        "colab_type": "text",
        "id": "dya4lrs3cSBA"
      },
      "source": [
        "#### Multinomial Logistic Regression\n",
        "\n",
        "Poor performance on BoW, better - on TF-IDF. Trying several penalty values for regression on TF-IDF "
      ]
    },
    {
      "cell_type": "code",
      "metadata": {
        "colab_type": "code",
        "id": "CLRrIwP9cSBB",
        "colab": {
          "base_uri": "https://localhost:8080/",
          "height": 167
        },
        "outputId": "d2bb60a9-199a-4f96-cbac-0bea0234706f"
      },
      "source": [
        "penalty = [0.00001,0.0001,0.001,0.01,0.1,1,2,5,10]\n",
        "for i in penalty:\n",
        "  clf_log = LogisticRegression(random_state=42, solver='lbfgs', max_iter =2000, multi_class='multinomial', C=i)\n",
        "  clf_log.fit(X_BoW_train, Y_BoW_train)\n",
        "  y_pred_log = clf_log.predict(X_BoW_test)\n",
        "  print('Penaly: ',i,'Model Accuracy: ', accuracy_score(Y_BoW_test, y_pred_log))"
      ],
      "execution_count": null,
      "outputs": [
        {
          "output_type": "stream",
          "text": [
            "Penaly:  1e-05 Model Accuracy:  0.5015649452269171\n",
            "Penaly:  0.0001 Model Accuracy:  0.6197183098591549\n",
            "Penaly:  0.001 Model Accuracy:  0.7077464788732394\n",
            "Penaly:  0.01 Model Accuracy:  0.7586071987480438\n",
            "Penaly:  0.1 Model Accuracy:  0.7812989045383412\n",
            "Penaly:  1 Model Accuracy:  0.7789514866979655\n",
            "Penaly:  2 Model Accuracy:  0.7734741784037559\n",
            "Penaly:  5 Model Accuracy:  0.7609546165884195\n",
            "Penaly:  10 Model Accuracy:  0.7554773082942097\n"
          ],
          "name": "stdout"
        }
      ]
    },
    {
      "cell_type": "code",
      "metadata": {
        "colab_type": "code",
        "id": "7qlAUNiCcSBE",
        "colab": {
          "base_uri": "https://localhost:8080/",
          "height": 167
        },
        "outputId": "ae3e8939-ac86-4985-b53a-5685e2b5f79e"
      },
      "source": [
        "penalty = [0.00001,0.0001,0.001,0.01,0.1,1,2,5,10]\n",
        "for i in penalty:\n",
        "  clf_log = LogisticRegression(random_state=42, solver='lbfgs', max_iter =2000, multi_class='multinomial',C=i)\n",
        "  clf_log.fit(X_TFIDF_train, Y_TFIDF_train)\n",
        "  y_pred_log = clf_log.predict(X_TFIDF_test)\n",
        "  print('Penaly: ',i,'Model Accuracy: ', accuracy_score(Y_TFIDF_test, y_pred_log))"
      ],
      "execution_count": null,
      "outputs": [
        {
          "output_type": "stream",
          "text": [
            "Penaly:  1e-05 Model Accuracy:  0.23395931142410015\n",
            "Penaly:  0.0001 Model Accuracy:  0.3888888888888889\n",
            "Penaly:  0.001 Model Accuracy:  0.547339593114241\n",
            "Penaly:  0.01 Model Accuracy:  0.7097026604068858\n",
            "Penaly:  0.1 Model Accuracy:  0.7832550860719875\n",
            "Penaly:  1 Model Accuracy:  0.8059467918622848\n",
            "Penaly:  2 Model Accuracy:  0.804773082942097\n",
            "Penaly:  5 Model Accuracy:  0.7985133020344288\n",
            "Penaly:  10 Model Accuracy:  0.7926447574334898\n"
          ],
          "name": "stdout"
        }
      ]
    },
    {
      "cell_type": "markdown",
      "metadata": {
        "id": "AOydNJjcmLWv",
        "colab_type": "text"
      },
      "source": [
        "##### C=1"
      ]
    },
    {
      "cell_type": "code",
      "metadata": {
        "colab_type": "code",
        "id": "3yH0NdWYmHqz",
        "colab": {
          "base_uri": "https://localhost:8080/",
          "height": 183
        },
        "outputId": "67fc08ac-904e-414b-af99-2db9a62686b6"
      },
      "source": [
        "# fix random seed for reproducibility\n",
        "seed = 1234\n",
        "np.random.seed(seed)\n",
        "\n",
        "# define 10-fold cross validation split\n",
        "kfold = StratifiedKFold(n_splits=10, shuffle=True, random_state=seed)\n",
        "\n",
        "cvscores = []\n",
        "for train_, test_ in kfold.split(tfidf_matrix, Y):\n",
        "\n",
        "  clf_log = LogisticRegression(random_state=42, solver='lbfgs', max_iter =2000, multi_class='multinomial',C=1)\n",
        "  clf_log.fit(tfidf_matrix[train_], Y[train_])\n",
        "  y_pred_log = clf_log.predict(tfidf_matrix[test_])\n",
        "  print('Model Accuracy: ', accuracy_score(Y[test_], y_pred_log))\n",
        "  cvscores.append(accuracy_score(Y[test_], y_pred_log))"
      ],
      "execution_count": null,
      "outputs": [
        {
          "output_type": "stream",
          "text": [
            "Model Accuracy:  0.8192488262910798\n",
            "Model Accuracy:  0.8082942097026604\n",
            "Model Accuracy:  0.8247261345852895\n",
            "Model Accuracy:  0.8317683881064163\n",
            "Model Accuracy:  0.812206572769953\n",
            "Model Accuracy:  0.838810641627543\n",
            "Model Accuracy:  0.8294209702660407\n",
            "Model Accuracy:  0.8098591549295775\n",
            "Model Accuracy:  0.810641627543036\n",
            "Model Accuracy:  0.8230227094753328\n"
          ],
          "name": "stdout"
        }
      ]
    },
    {
      "cell_type": "code",
      "metadata": {
        "colab_type": "code",
        "id": "gbq0Pn6_mHq6",
        "colab": {
          "base_uri": "https://localhost:8080/",
          "height": 283
        },
        "outputId": "8e74ae6b-ad88-461d-c626-8f701a15539a"
      },
      "source": [
        "print(\"%.3f%% (+/- %.3f%%)\" % (np.mean(cvscores), np.std(cvscores)))\n",
        "plt.plot(cvscores)\n",
        "plt.show()"
      ],
      "execution_count": null,
      "outputs": [
        {
          "output_type": "stream",
          "text": [
            "0.821% (+/- 0.010%)\n"
          ],
          "name": "stdout"
        },
        {
          "output_type": "display_data",
          "data": {
            "image/png": "[encoded data removed]",
            "text/plain": [
              "<Figure size 432x288 with 1 Axes>"
            ]
          },
          "metadata": {
            "tags": [],
            "needs_background": "light"
          }
        }
      ]
    },
    {
      "cell_type": "markdown",
      "metadata": {
        "id": "MHsSU9PAmQF-",
        "colab_type": "text"
      },
      "source": [
        "##### C=2"
      ]
    },
    {
      "cell_type": "code",
      "metadata": {
        "colab_type": "code",
        "id": "Bnk6h5LqeQkq",
        "colab": {
          "base_uri": "https://localhost:8080/",
          "height": 183
        },
        "outputId": "6ce69336-8c63-4052-e721-81ab2c515ddc"
      },
      "source": [
        "# fix random seed for reproducibility\n",
        "seed = 1234\n",
        "np.random.seed(seed)\n",
        "\n",
        "# define 10-fold cross validation split\n",
        "kfold = StratifiedKFold(n_splits=10, shuffle=True, random_state=seed)\n",
        "\n",
        "cvscores = []\n",
        "for train_, test_ in kfold.split(tfidf_matrix, Y):\n",
        "\n",
        "  clf_log = LogisticRegression(random_state=42, solver='lbfgs', max_iter =2000, multi_class='multinomial',C=2)\n",
        "  clf_log.fit(tfidf_matrix[train_], Y[train_])\n",
        "  y_pred_log = clf_log.predict(tfidf_matrix[test_])\n",
        "  print('Model Accuracy: ', accuracy_score(Y[test_], y_pred_log))\n",
        "  cvscores.append(accuracy_score(Y[test_], y_pred_log))"
      ],
      "execution_count": null,
      "outputs": [
        {
          "output_type": "stream",
          "text": [
            "Model Accuracy:  0.823943661971831\n",
            "Model Accuracy:  0.8098591549295775\n",
            "Model Accuracy:  0.8208137715179968\n",
            "Model Accuracy:  0.8278560250391236\n",
            "Model Accuracy:  0.8161189358372457\n",
            "Model Accuracy:  0.8341158059467919\n",
            "Model Accuracy:  0.8286384976525821\n",
            "Model Accuracy:  0.809076682316119\n",
            "Model Accuracy:  0.8129890453834115\n",
            "Model Accuracy:  0.826938136256852\n"
          ],
          "name": "stdout"
        }
      ]
    },
    {
      "cell_type": "code",
      "metadata": {
        "colab_type": "code",
        "id": "eZmbNVd2eQkv",
        "colab": {
          "base_uri": "https://localhost:8080/",
          "height": 282
        },
        "outputId": "52ed0a07-6bc7-4d67-fe5a-588c497f47b5"
      },
      "source": [
        "print(\"%.3f%% (+/- %.3f%%)\" % (np.mean(cvscores), np.std(cvscores)))\n",
        "plt.plot(cvscores)\n",
        "plt.show()"
      ],
      "execution_count": null,
      "outputs": [
        {
          "output_type": "stream",
          "text": [
            "0.821% (+/- 0.008%)\n"
          ],
          "name": "stdout"
        },
        {
          "output_type": "display_data",
          "data": {
            "image/png": "[encoded data removed]",
            "text/plain": [
              "<Figure size 432x288 with 1 Axes>"
            ]
          },
          "metadata": {
            "tags": [],
            "needs_background": "light"
          }
        }
      ]
    },
    {
      "cell_type": "markdown",
      "metadata": {
        "colab_type": "text",
        "id": "F217Dr5tcSBH"
      },
      "source": [
        "#### Naive Bayes"
      ]
    },
    {
      "cell_type": "code",
      "metadata": {
        "colab_type": "code",
        "id": "9lBIVKAqcSBM",
        "colab": {
          "base_uri": "https://localhost:8080/",
          "height": 117
        },
        "outputId": "f4eebf41-3244-46e8-89f9-279e45fd2c43"
      },
      "source": [
        "mNB = MultinomialNB()\n",
        "mNB.fit(X_BoW_train, Y_BoW_train)\n",
        "y_pred_mNB = mNB.predict(X_BoW_test)\n",
        "print('Model Accuracy: ', accuracy_score(Y_BoW_test, y_pred_mNB))\n",
        "confusion_matrix(Y_BoW_test, y_pred_mNB)"
      ],
      "execution_count": null,
      "outputs": [
        {
          "output_type": "stream",
          "text": [
            "Model Accuracy:  0.8094679186228482\n"
          ],
          "name": "stdout"
        },
        {
          "output_type": "execute_result",
          "data": {
            "text/plain": [
              "array([[380, 105,  87,   7,  16],\n",
              "       [ 39, 496,  32,  11,   1],\n",
              "       [ 36,   3, 475,  23,  24],\n",
              "       [  6,  10,  32, 450,   3],\n",
              "       [ 17,   0,  31,   4, 268]])"
            ]
          },
          "metadata": {
            "tags": []
          },
          "execution_count": 72
        }
      ]
    },
    {
      "cell_type": "code",
      "metadata": {
        "colab_type": "code",
        "id": "5WIZYVgGfBvP",
        "colab": {
          "base_uri": "https://localhost:8080/",
          "height": 183
        },
        "outputId": "f87aa662-72e1-4bac-8e03-c1f9cf9991ea"
      },
      "source": [
        "# fix random seed for reproducibility\n",
        "seed = 1234\n",
        "np.random.seed(seed)\n",
        "\n",
        "# define 10-fold cross validation split\n",
        "kfold = StratifiedKFold(n_splits=10, shuffle=True, random_state=seed)\n",
        "\n",
        "cvscores = []\n",
        "for train_, test_ in kfold.split(tfidf_matrix, Y):\n",
        "\n",
        "  mNB = MultinomialNB()\n",
        "  mNB.fit(tfidf_matrix[train_], Y[train_])\n",
        "  y_pred_mNB = mNB.predict(tfidf_matrix[test_])\n",
        "  print('Model Accuracy: ', accuracy_score(Y[test_], y_pred_mNB))\n",
        "  cvscores.append(accuracy_score(Y[test_], y_pred_mNB))"
      ],
      "execution_count": null,
      "outputs": [
        {
          "output_type": "stream",
          "text": [
            "Model Accuracy:  0.7965571205007824\n",
            "Model Accuracy:  0.8028169014084507\n",
            "Model Accuracy:  0.8223787167449139\n",
            "Model Accuracy:  0.810641627543036\n",
            "Model Accuracy:  0.7887323943661971\n",
            "Model Accuracy:  0.8192488262910798\n",
            "Model Accuracy:  0.812206572769953\n",
            "Model Accuracy:  0.812206572769953\n",
            "Model Accuracy:  0.810641627543036\n",
            "Model Accuracy:  0.822239624119029\n"
          ],
          "name": "stdout"
        }
      ]
    },
    {
      "cell_type": "code",
      "metadata": {
        "colab_type": "code",
        "id": "jVoJdvBhfBvS",
        "colab": {
          "base_uri": "https://localhost:8080/",
          "height": 282
        },
        "outputId": "1cedd7dd-18aa-4629-9e5c-ca1cefb1925d"
      },
      "source": [
        "print(\"%.3f%% (+/- %.3f%%)\" % (np.mean(cvscores), np.std(cvscores)))\n",
        "plt.plot(cvscores)\n",
        "plt.show()"
      ],
      "execution_count": null,
      "outputs": [
        {
          "output_type": "stream",
          "text": [
            "0.810% (+/- 0.010%)\n"
          ],
          "name": "stdout"
        },
        {
          "output_type": "display_data",
          "data": {
            "image/png": "[encoded data removed]",
            "text/plain": [
              "<Figure size 432x288 with 1 Axes>"
            ]
          },
          "metadata": {
            "tags": [],
            "needs_background": "light"
          }
        }
      ]
    }
  ]
}